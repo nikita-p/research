{
 "cells": [
  {
   "cell_type": "markdown",
   "metadata": {},
   "source": [
    "# Analysis"
   ]
  },
  {
   "cell_type": "code",
   "execution_count": 1,
   "metadata": {},
   "outputs": [],
   "source": [
    "import uproot\n",
    "import numpy as np\n",
    "import pandas as pd\n",
    "import matplotlib.pyplot as plt\n",
    "import seaborn as sns\n",
    "import re\n",
    "%matplotlib inline"
   ]
  },
  {
   "cell_type": "code",
   "execution_count": 2,
   "metadata": {},
   "outputs": [],
   "source": [
    "sns.set(rc={'figure.figsize':(10,7)})\n",
    "plt.style.use('seaborn-whitegrid')"
   ]
  },
  {
   "cell_type": "code",
   "execution_count": 176,
   "metadata": {},
   "outputs": [],
   "source": [
    "year = '12'"
   ]
  },
  {
   "cell_type": "markdown",
   "metadata": {},
   "source": [
    "## Data preparation"
   ]
  },
  {
   "cell_type": "code",
   "execution_count": 179,
   "metadata": {},
   "outputs": [],
   "source": [
    "f = uproot.pandas.iterate(\"../outputs/\"+year+\"/trees/*.root\", \"t\", reportpath = True,\n",
    "                          branches=['beam_energy', 'mass', 'trigger', 'procedure'])"
   ]
  },
  {
   "cell_type": "code",
   "execution_count": 180,
   "metadata": {},
   "outputs": [],
   "source": [
    "dataRAW = pd.concat([j.assign(name=float(re.findall(r\"\\d+\\.\\d+\", path)[0])) for path,j in f])"
   ]
  },
  {
   "cell_type": "code",
   "execution_count": 181,
   "metadata": {},
   "outputs": [],
   "source": [
    "dataRAW.sort_values(by='name', ascending=True, inplace=True);"
   ]
  },
  {
   "cell_type": "markdown",
   "metadata": {},
   "source": [
    "Количество уникальных `name` в `data` должно совпадать с количеством точек в сезоне\n",
    "\n",
    "* 11 год: 40 точек\n",
    "* 12 год: 16 точек\n",
    "* 17 год: 34 точки\n",
    "* 19 год: 44 точки\n",
    "* моделирование: 38 точек"
   ]
  },
  {
   "cell_type": "code",
   "execution_count": 182,
   "metadata": {},
   "outputs": [
    {
     "name": "stdout",
     "output_type": "stream",
     "text": [
      "Checking: 16 different names in 12 season\n"
     ]
    }
   ],
   "source": [
    "print(\"Checking:\", len(dataRAW.name.unique()), 'different names in', year, 'season')"
   ]
  },
  {
   "cell_type": "markdown",
   "metadata": {},
   "source": [
    "Проверка типов полей датафрейма"
   ]
  },
  {
   "cell_type": "code",
   "execution_count": 183,
   "metadata": {},
   "outputs": [
    {
     "data": {
      "text/plain": [
       "beam_energy    float64\n",
       "mass           float64\n",
       "trigger          int32\n",
       "procedure        int32\n",
       "name           float64\n",
       "dtype: object"
      ]
     },
     "execution_count": 183,
     "metadata": {},
     "output_type": "execute_result"
    }
   ],
   "source": [
    "dataRAW.dtypes"
   ]
  },
  {
   "cell_type": "markdown",
   "metadata": {},
   "source": [
    "Проверка данных"
   ]
  },
  {
   "cell_type": "code",
   "execution_count": 184,
   "metadata": {},
   "outputs": [
    {
     "data": {
      "text/html": [
       "<div>\n",
       "<style scoped>\n",
       "    .dataframe tbody tr th:only-of-type {\n",
       "        vertical-align: middle;\n",
       "    }\n",
       "\n",
       "    .dataframe tbody tr th {\n",
       "        vertical-align: top;\n",
       "    }\n",
       "\n",
       "    .dataframe thead th {\n",
       "        text-align: right;\n",
       "    }\n",
       "</style>\n",
       "<table border=\"1\" class=\"dataframe\">\n",
       "  <thead>\n",
       "    <tr style=\"text-align: right;\">\n",
       "      <th></th>\n",
       "      <th>beam_energy</th>\n",
       "      <th>mass</th>\n",
       "      <th>trigger</th>\n",
       "      <th>procedure</th>\n",
       "      <th>name</th>\n",
       "    </tr>\n",
       "  </thead>\n",
       "  <tbody>\n",
       "    <tr>\n",
       "      <th>count</th>\n",
       "      <td>1078.000000</td>\n",
       "      <td>1078.000000</td>\n",
       "      <td>1078.000000</td>\n",
       "      <td>1078.000000</td>\n",
       "      <td>1078.000000</td>\n",
       "    </tr>\n",
       "    <tr>\n",
       "      <th>mean</th>\n",
       "      <td>803.434338</td>\n",
       "      <td>318.104660</td>\n",
       "      <td>1.007421</td>\n",
       "      <td>1.961039</td>\n",
       "      <td>804.792208</td>\n",
       "    </tr>\n",
       "    <tr>\n",
       "      <th>std</th>\n",
       "      <td>105.936777</td>\n",
       "      <td>239.315813</td>\n",
       "      <td>0.905949</td>\n",
       "      <td>0.624748</td>\n",
       "      <td>104.783455</td>\n",
       "    </tr>\n",
       "    <tr>\n",
       "      <th>min</th>\n",
       "      <td>638.530029</td>\n",
       "      <td>-1.000000</td>\n",
       "      <td>-1.000000</td>\n",
       "      <td>1.000000</td>\n",
       "      <td>640.000000</td>\n",
       "    </tr>\n",
       "    <tr>\n",
       "      <th>25%</th>\n",
       "      <td>717.460022</td>\n",
       "      <td>8.112408</td>\n",
       "      <td>0.000000</td>\n",
       "      <td>2.000000</td>\n",
       "      <td>720.000000</td>\n",
       "    </tr>\n",
       "    <tr>\n",
       "      <th>50%</th>\n",
       "      <td>797.500000</td>\n",
       "      <td>493.300537</td>\n",
       "      <td>1.000000</td>\n",
       "      <td>2.000000</td>\n",
       "      <td>800.000000</td>\n",
       "    </tr>\n",
       "    <tr>\n",
       "      <th>75%</th>\n",
       "      <td>878.859985</td>\n",
       "      <td>500.545425</td>\n",
       "      <td>2.000000</td>\n",
       "      <td>2.000000</td>\n",
       "      <td>880.000000</td>\n",
       "    </tr>\n",
       "    <tr>\n",
       "      <th>max</th>\n",
       "      <td>994.244995</td>\n",
       "      <td>577.185303</td>\n",
       "      <td>2.000000</td>\n",
       "      <td>3.000000</td>\n",
       "      <td>990.000000</td>\n",
       "    </tr>\n",
       "  </tbody>\n",
       "</table>\n",
       "</div>"
      ],
      "text/plain": [
       "       beam_energy         mass      trigger    procedure         name\n",
       "count  1078.000000  1078.000000  1078.000000  1078.000000  1078.000000\n",
       "mean    803.434338   318.104660     1.007421     1.961039   804.792208\n",
       "std     105.936777   239.315813     0.905949     0.624748   104.783455\n",
       "min     638.530029    -1.000000    -1.000000     1.000000   640.000000\n",
       "25%     717.460022     8.112408     0.000000     2.000000   720.000000\n",
       "50%     797.500000   493.300537     1.000000     2.000000   800.000000\n",
       "75%     878.859985   500.545425     2.000000     2.000000   880.000000\n",
       "max     994.244995   577.185303     2.000000     3.000000   990.000000"
      ]
     },
     "execution_count": 184,
     "metadata": {},
     "output_type": "execute_result"
    }
   ],
   "source": [
    "dataRAW.describe()"
   ]
  },
  {
   "cell_type": "markdown",
   "metadata": {},
   "source": [
    "Проверить триггер"
   ]
  },
  {
   "cell_type": "code",
   "execution_count": 185,
   "metadata": {},
   "outputs": [
    {
     "name": "stdout",
     "output_type": "stream",
     "text": [
      "Energy points with bad trigger:\n",
      " 640.0    1\n",
      "Name: name, dtype: int64\n"
     ]
    }
   ],
   "source": [
    "bad_trig = dataRAW.query('trigger<0')\n",
    "print('Energy points with bad trigger:\\n', bad_trig.name.value_counts())"
   ]
  },
  {
   "cell_type": "markdown",
   "metadata": {},
   "source": [
    "Проверить энергии"
   ]
  },
  {
   "cell_type": "code",
   "execution_count": 186,
   "metadata": {},
   "outputs": [
    {
     "name": "stdout",
     "output_type": "stream",
     "text": [
      "Bad energy records: 0\n"
     ]
    }
   ],
   "source": [
    "bad_en = dataRAW.query('beam_energy<0')\n",
    "print('Bad energy records:', bad_en.name.shape[0])"
   ]
  },
  {
   "cell_type": "markdown",
   "metadata": {},
   "source": [
    "Удалить события с плохим триггером и энергиями (не в моделировании)"
   ]
  },
  {
   "cell_type": "code",
   "execution_count": 187,
   "metadata": {},
   "outputs": [],
   "source": [
    "data = dataRAW if 'model' in year else dataRAW.query('trigger>-1&beam_energy>0')"
   ]
  },
  {
   "cell_type": "markdown",
   "metadata": {},
   "source": [
    "Оставить только массы внутри окна (450,550) и без процедуры kinfit"
   ]
  },
  {
   "cell_type": "code",
   "execution_count": 188,
   "metadata": {},
   "outputs": [],
   "source": [
    "data = data.query('mass>450&mass<550&procedure!=1')"
   ]
  },
  {
   "cell_type": "code",
   "execution_count": 189,
   "metadata": {},
   "outputs": [
    {
     "name": "stdout",
     "output_type": "stream",
     "text": [
      "629 records left\n"
     ]
    }
   ],
   "source": [
    "print(data.shape[0], 'records left')"
   ]
  },
  {
   "cell_type": "markdown",
   "metadata": {},
   "source": [
    "Удалить ненужные столбцы"
   ]
  },
  {
   "cell_type": "code",
   "execution_count": 190,
   "metadata": {},
   "outputs": [],
   "source": [
    "data.drop('procedure', axis=1, inplace=True)"
   ]
  },
  {
   "cell_type": "code",
   "execution_count": 191,
   "metadata": {},
   "outputs": [
    {
     "data": {
      "text/html": [
       "<div>\n",
       "<style scoped>\n",
       "    .dataframe tbody tr th:only-of-type {\n",
       "        vertical-align: middle;\n",
       "    }\n",
       "\n",
       "    .dataframe tbody tr th {\n",
       "        vertical-align: top;\n",
       "    }\n",
       "\n",
       "    .dataframe thead th {\n",
       "        text-align: right;\n",
       "    }\n",
       "</style>\n",
       "<table border=\"1\" class=\"dataframe\">\n",
       "  <thead>\n",
       "    <tr style=\"text-align: right;\">\n",
       "      <th></th>\n",
       "      <th>beam_energy</th>\n",
       "      <th>mass</th>\n",
       "      <th>trigger</th>\n",
       "      <th>name</th>\n",
       "    </tr>\n",
       "  </thead>\n",
       "  <tbody>\n",
       "    <tr>\n",
       "      <th>0</th>\n",
       "      <td>638.530029</td>\n",
       "      <td>501.333466</td>\n",
       "      <td>0</td>\n",
       "      <td>640.0</td>\n",
       "    </tr>\n",
       "    <tr>\n",
       "      <th>98</th>\n",
       "      <td>638.530029</td>\n",
       "      <td>496.332520</td>\n",
       "      <td>0</td>\n",
       "      <td>640.0</td>\n",
       "    </tr>\n",
       "    <tr>\n",
       "      <th>97</th>\n",
       "      <td>638.530029</td>\n",
       "      <td>496.010498</td>\n",
       "      <td>2</td>\n",
       "      <td>640.0</td>\n",
       "    </tr>\n",
       "    <tr>\n",
       "      <th>96</th>\n",
       "      <td>638.530029</td>\n",
       "      <td>495.370911</td>\n",
       "      <td>0</td>\n",
       "      <td>640.0</td>\n",
       "    </tr>\n",
       "    <tr>\n",
       "      <th>94</th>\n",
       "      <td>638.530029</td>\n",
       "      <td>514.911316</td>\n",
       "      <td>0</td>\n",
       "      <td>640.0</td>\n",
       "    </tr>\n",
       "  </tbody>\n",
       "</table>\n",
       "</div>"
      ],
      "text/plain": [
       "    beam_energy        mass  trigger   name\n",
       "0    638.530029  501.333466        0  640.0\n",
       "98   638.530029  496.332520        0  640.0\n",
       "97   638.530029  496.010498        2  640.0\n",
       "96   638.530029  495.370911        0  640.0\n",
       "94   638.530029  514.911316        0  640.0"
      ]
     },
     "execution_count": 191,
     "metadata": {},
     "output_type": "execute_result"
    }
   ],
   "source": [
    "data.head()"
   ]
  },
  {
   "cell_type": "markdown",
   "metadata": {},
   "source": [
    "Добавить светимости"
   ]
  },
  {
   "cell_type": "code",
   "execution_count": 192,
   "metadata": {},
   "outputs": [],
   "source": [
    "lum = pd.read_csv(f'../inputs/{year}/lum.dat')\n",
    "lum.rename({'label': 'name'}, axis=1, inplace=True)\n",
    "if 'err' in lum.columns:\n",
    "    lum.drop(['err'], axis=1, inplace=True) #ошибка светимостей уходит в систематику\n",
    "    \n",
    "lum = lum.sort_values(by='name')"
   ]
  },
  {
   "cell_type": "code",
   "execution_count": 193,
   "metadata": {},
   "outputs": [
    {
     "data": {
      "text/html": [
       "<div>\n",
       "<style scoped>\n",
       "    .dataframe tbody tr th:only-of-type {\n",
       "        vertical-align: middle;\n",
       "    }\n",
       "\n",
       "    .dataframe tbody tr th {\n",
       "        vertical-align: top;\n",
       "    }\n",
       "\n",
       "    .dataframe thead th {\n",
       "        text-align: right;\n",
       "    }\n",
       "</style>\n",
       "<table border=\"1\" class=\"dataframe\">\n",
       "  <thead>\n",
       "    <tr style=\"text-align: right;\">\n",
       "      <th></th>\n",
       "      <th>name</th>\n",
       "      <th>lum</th>\n",
       "    </tr>\n",
       "  </thead>\n",
       "  <tbody>\n",
       "    <tr>\n",
       "      <th>11</th>\n",
       "      <td>950</td>\n",
       "      <td>897.090</td>\n",
       "    </tr>\n",
       "    <tr>\n",
       "      <th>13</th>\n",
       "      <td>960</td>\n",
       "      <td>566.394</td>\n",
       "    </tr>\n",
       "    <tr>\n",
       "      <th>12</th>\n",
       "      <td>970</td>\n",
       "      <td>991.061</td>\n",
       "    </tr>\n",
       "    <tr>\n",
       "      <th>15</th>\n",
       "      <td>980</td>\n",
       "      <td>692.865</td>\n",
       "    </tr>\n",
       "    <tr>\n",
       "      <th>14</th>\n",
       "      <td>990</td>\n",
       "      <td>601.992</td>\n",
       "    </tr>\n",
       "  </tbody>\n",
       "</table>\n",
       "</div>"
      ],
      "text/plain": [
       "    name      lum\n",
       "11   950  897.090\n",
       "13   960  566.394\n",
       "12   970  991.061\n",
       "15   980  692.865\n",
       "14   990  601.992"
      ]
     },
     "execution_count": 193,
     "metadata": {},
     "output_type": "execute_result"
    }
   ],
   "source": [
    "lum.tail()"
   ]
  },
  {
   "cell_type": "markdown",
   "metadata": {},
   "source": [
    "Проверить данные (хорошо, если числа совпадают)\n",
    "\n",
    "Если не совпадают, то проверить светимости на дубликаты"
   ]
  },
  {
   "cell_type": "code",
   "execution_count": 194,
   "metadata": {},
   "outputs": [
    {
     "name": "stdout",
     "output_type": "stream",
     "text": [
      "Records in  lum: 16\n",
      "Records in data: 16\n"
     ]
    }
   ],
   "source": [
    "print('Records in  lum:', lum.shape[0])\n",
    "print('Records in data:', data.name.unique().shape[0])"
   ]
  },
  {
   "cell_type": "markdown",
   "metadata": {},
   "source": [
    "Объединить данные и светимость"
   ]
  },
  {
   "cell_type": "code",
   "execution_count": 195,
   "metadata": {},
   "outputs": [],
   "source": [
    "data_prep = lum.merge(data, on='name')"
   ]
  },
  {
   "cell_type": "code",
   "execution_count": 196,
   "metadata": {},
   "outputs": [],
   "source": [
    "def check_foo(data1, data2):\n",
    "    if(data1.shape[0] == data2.shape[0]):\n",
    "        print(\"Good.\", data1.shape[0], 'rows' )\n",
    "    else:\n",
    "        print(\"WARNING. frames haven't equal shape |\", data1.shape[0], 'vs', data2.shape[0], 'records')\n",
    "    return"
   ]
  },
  {
   "cell_type": "code",
   "execution_count": 197,
   "metadata": {},
   "outputs": [
    {
     "name": "stdout",
     "output_type": "stream",
     "text": [
      "Good. 629 rows\n"
     ]
    }
   ],
   "source": [
    "check_foo(data_prep, data)"
   ]
  },
  {
   "cell_type": "markdown",
   "metadata": {},
   "source": [
    "Смотрим, в каких именно точках не совпадают `data` и `lum`"
   ]
  },
  {
   "cell_type": "code",
   "execution_count": 198,
   "metadata": {},
   "outputs": [
    {
     "data": {
      "text/plain": [
       "set()"
      ]
     },
     "execution_count": 198,
     "metadata": {},
     "output_type": "execute_result"
    }
   ],
   "source": [
    "set1 = set(data.name.unique())\n",
    "set2 = set(lum.name.unique())\n",
    "\n",
    "(set1|set2).difference(set1&set2)"
   ]
  },
  {
   "cell_type": "markdown",
   "metadata": {},
   "source": [
    "### Pictures"
   ]
  },
  {
   "cell_type": "code",
   "execution_count": 199,
   "metadata": {},
   "outputs": [
    {
     "data": {
      "text/plain": [
       "<matplotlib.axes._subplots.AxesSubplot at 0x7f0b6453d8d0>"
      ]
     },
     "execution_count": 199,
     "metadata": {},
     "output_type": "execute_result"
    },
    {
     "data": {
      "image/png": "[encoded data removed]",
      "text/plain": [
       "<Figure size 1152x648 with 1 Axes>"
      ]
     },
     "metadata": {},
     "output_type": "display_data"
    }
   ],
   "source": [
    "lum.plot(x='name', y='lum')"
   ]
  },
  {
   "cell_type": "code",
   "execution_count": 200,
   "metadata": {},
   "outputs": [
    {
     "data": {
      "text/plain": [
       "<matplotlib.axes._subplots.AxesSubplot at 0x7f0b65936250>"
      ]
     },
     "execution_count": 200,
     "metadata": {},
     "output_type": "execute_result"
    },
    {
     "data": {
      "image/png": "[encoded data removed]",
      "text/plain": [
       "<Figure size 1152x648 with 1 Axes>"
      ]
     },
     "metadata": {},
     "output_type": "display_data"
    }
   ],
   "source": [
    "data_prep.groupby('name').agg({'mass':np.size}).plot()"
   ]
  },
  {
   "cell_type": "code",
   "execution_count": 201,
   "metadata": {
    "scrolled": true
   },
   "outputs": [
    {
     "data": {
      "text/html": [
       "<div>\n",
       "<style scoped>\n",
       "    .dataframe tbody tr th:only-of-type {\n",
       "        vertical-align: middle;\n",
       "    }\n",
       "\n",
       "    .dataframe tbody tr th {\n",
       "        vertical-align: top;\n",
       "    }\n",
       "\n",
       "    .dataframe thead th {\n",
       "        text-align: right;\n",
       "    }\n",
       "</style>\n",
       "<table border=\"1\" class=\"dataframe\">\n",
       "  <thead>\n",
       "    <tr style=\"text-align: right;\">\n",
       "      <th></th>\n",
       "      <th>mass</th>\n",
       "    </tr>\n",
       "    <tr>\n",
       "      <th>name</th>\n",
       "      <th></th>\n",
       "    </tr>\n",
       "  </thead>\n",
       "  <tbody>\n",
       "    <tr>\n",
       "      <th>640</th>\n",
       "      <td>97.0</td>\n",
       "    </tr>\n",
       "    <tr>\n",
       "      <th>680</th>\n",
       "      <td>70.0</td>\n",
       "    </tr>\n",
       "    <tr>\n",
       "      <th>720</th>\n",
       "      <td>53.0</td>\n",
       "    </tr>\n",
       "    <tr>\n",
       "      <th>760</th>\n",
       "      <td>76.0</td>\n",
       "    </tr>\n",
       "    <tr>\n",
       "      <th>800</th>\n",
       "      <td>116.0</td>\n",
       "    </tr>\n",
       "    <tr>\n",
       "      <th>840</th>\n",
       "      <td>96.0</td>\n",
       "    </tr>\n",
       "    <tr>\n",
       "      <th>860</th>\n",
       "      <td>34.0</td>\n",
       "    </tr>\n",
       "    <tr>\n",
       "      <th>880</th>\n",
       "      <td>17.0</td>\n",
       "    </tr>\n",
       "    <tr>\n",
       "      <th>900</th>\n",
       "      <td>10.0</td>\n",
       "    </tr>\n",
       "    <tr>\n",
       "      <th>920</th>\n",
       "      <td>7.0</td>\n",
       "    </tr>\n",
       "    <tr>\n",
       "      <th>936</th>\n",
       "      <td>11.0</td>\n",
       "    </tr>\n",
       "    <tr>\n",
       "      <th>950</th>\n",
       "      <td>9.0</td>\n",
       "    </tr>\n",
       "    <tr>\n",
       "      <th>960</th>\n",
       "      <td>11.0</td>\n",
       "    </tr>\n",
       "    <tr>\n",
       "      <th>970</th>\n",
       "      <td>10.0</td>\n",
       "    </tr>\n",
       "    <tr>\n",
       "      <th>980</th>\n",
       "      <td>3.0</td>\n",
       "    </tr>\n",
       "    <tr>\n",
       "      <th>990</th>\n",
       "      <td>9.0</td>\n",
       "    </tr>\n",
       "  </tbody>\n",
       "</table>\n",
       "</div>"
      ],
      "text/plain": [
       "       mass\n",
       "name       \n",
       "640    97.0\n",
       "680    70.0\n",
       "720    53.0\n",
       "760    76.0\n",
       "800   116.0\n",
       "840    96.0\n",
       "860    34.0\n",
       "880    17.0\n",
       "900    10.0\n",
       "920     7.0\n",
       "936    11.0\n",
       "950     9.0\n",
       "960    11.0\n",
       "970    10.0\n",
       "980     3.0\n",
       "990     9.0"
      ]
     },
     "execution_count": 201,
     "metadata": {},
     "output_type": "execute_result"
    }
   ],
   "source": [
    "data_prep.groupby('name').agg({'mass':np.size})"
   ]
  },
  {
   "cell_type": "markdown",
   "metadata": {},
   "source": [
    "Слияние точек"
   ]
  },
  {
   "cell_type": "code",
   "execution_count": 202,
   "metadata": {},
   "outputs": [],
   "source": [
    "cnct = []\n",
    "if year=='11':\n",
    "    cnct = [([875., 887.5], 880), ([900., 912.5, 925.], 910), ([935., 945., 950., 962.5, 975., 987.5, 1000.], 950)] #11year\n",
    "if year=='12':\n",
    "    cnct = [([900., 920., 936., 950., 960., 970., 980., 990], 960)] #12 year\n",
    "if year=='17':\n",
    "    cnct = [([880., 890., 900., 910.], 900), ([920., 930., 936., 937.5], 935),\n",
    "            ([937.4, 938.3, 938.9], 938), ([939.6, 940.2, 940.8], 940),\n",
    "            ([942., 950., 960., 971.], 960), ([981., 990, 1003.5],990)] #17 year\n",
    "if year=='19':\n",
    "    cnct = [([862.5, 875.0, 887.5, 900.0, 912.5, 925], 875),([936, 945.0, 950.0, 951.1, 955.0, 962.5], 955),\n",
    "            ([975., 978.0, 987.5], 980)] #19year"
   ]
  },
  {
   "cell_type": "code",
   "execution_count": 203,
   "metadata": {},
   "outputs": [],
   "source": [
    "for c in cnct:\n",
    "    data_prep.name.replace(c[0], c[1], inplace=True)"
   ]
  },
  {
   "cell_type": "markdown",
   "metadata": {},
   "source": [
    "OK, points have been merged"
   ]
  },
  {
   "cell_type": "code",
   "execution_count": 204,
   "metadata": {},
   "outputs": [
    {
     "data": {
      "text/html": [
       "<div>\n",
       "<style scoped>\n",
       "    .dataframe tbody tr th:only-of-type {\n",
       "        vertical-align: middle;\n",
       "    }\n",
       "\n",
       "    .dataframe tbody tr th {\n",
       "        vertical-align: top;\n",
       "    }\n",
       "\n",
       "    .dataframe thead th {\n",
       "        text-align: right;\n",
       "    }\n",
       "</style>\n",
       "<table border=\"1\" class=\"dataframe\">\n",
       "  <thead>\n",
       "    <tr style=\"text-align: right;\">\n",
       "      <th></th>\n",
       "      <th>name</th>\n",
       "      <th>lum</th>\n",
       "      <th>beam_energy</th>\n",
       "      <th>mass</th>\n",
       "      <th>trigger</th>\n",
       "    </tr>\n",
       "  </thead>\n",
       "  <tbody>\n",
       "    <tr>\n",
       "      <th>624</th>\n",
       "      <td>960</td>\n",
       "      <td>601.992</td>\n",
       "      <td>994.244995</td>\n",
       "      <td>538.548279</td>\n",
       "      <td>0</td>\n",
       "    </tr>\n",
       "    <tr>\n",
       "      <th>625</th>\n",
       "      <td>960</td>\n",
       "      <td>601.992</td>\n",
       "      <td>994.244995</td>\n",
       "      <td>504.348328</td>\n",
       "      <td>0</td>\n",
       "    </tr>\n",
       "    <tr>\n",
       "      <th>626</th>\n",
       "      <td>960</td>\n",
       "      <td>601.992</td>\n",
       "      <td>994.244995</td>\n",
       "      <td>496.687500</td>\n",
       "      <td>0</td>\n",
       "    </tr>\n",
       "    <tr>\n",
       "      <th>627</th>\n",
       "      <td>960</td>\n",
       "      <td>601.992</td>\n",
       "      <td>994.244995</td>\n",
       "      <td>502.036652</td>\n",
       "      <td>0</td>\n",
       "    </tr>\n",
       "    <tr>\n",
       "      <th>628</th>\n",
       "      <td>960</td>\n",
       "      <td>601.992</td>\n",
       "      <td>994.244995</td>\n",
       "      <td>518.284363</td>\n",
       "      <td>2</td>\n",
       "    </tr>\n",
       "  </tbody>\n",
       "</table>\n",
       "</div>"
      ],
      "text/plain": [
       "     name      lum  beam_energy        mass  trigger\n",
       "624   960  601.992   994.244995  538.548279        0\n",
       "625   960  601.992   994.244995  504.348328        0\n",
       "626   960  601.992   994.244995  496.687500        0\n",
       "627   960  601.992   994.244995  502.036652        0\n",
       "628   960  601.992   994.244995  518.284363        2"
      ]
     },
     "execution_count": 204,
     "metadata": {},
     "output_type": "execute_result"
    }
   ],
   "source": [
    "data_prep.tail()"
   ]
  },
  {
   "cell_type": "code",
   "execution_count": 205,
   "metadata": {},
   "outputs": [
    {
     "name": "stdout",
     "output_type": "stream",
     "text": [
      "Good. 629 rows\n"
     ]
    }
   ],
   "source": [
    "check_foo(data_prep, data)"
   ]
  },
  {
   "cell_type": "markdown",
   "metadata": {},
   "source": [
    "### Пересчитать светимости в слитых точках"
   ]
  },
  {
   "cell_type": "code",
   "execution_count": 206,
   "metadata": {},
   "outputs": [],
   "source": [
    "data_prep['lume'] = data_prep.beam_energy*data_prep.lum"
   ]
  },
  {
   "cell_type": "markdown",
   "metadata": {},
   "source": [
    "Проверить правильность слияния"
   ]
  },
  {
   "cell_type": "code",
   "execution_count": 207,
   "metadata": {},
   "outputs": [
    {
     "data": {
      "text/html": [
       "<div>\n",
       "<style scoped>\n",
       "    .dataframe tbody tr th:only-of-type {\n",
       "        vertical-align: middle;\n",
       "    }\n",
       "\n",
       "    .dataframe tbody tr th {\n",
       "        vertical-align: top;\n",
       "    }\n",
       "\n",
       "    .dataframe thead th {\n",
       "        text-align: right;\n",
       "    }\n",
       "</style>\n",
       "<table border=\"1\" class=\"dataframe\">\n",
       "  <thead>\n",
       "    <tr style=\"text-align: right;\">\n",
       "      <th></th>\n",
       "      <th>lum</th>\n",
       "    </tr>\n",
       "    <tr>\n",
       "      <th>name</th>\n",
       "      <th></th>\n",
       "    </tr>\n",
       "  </thead>\n",
       "  <tbody>\n",
       "    <tr>\n",
       "      <th>960</th>\n",
       "      <td>8.0</td>\n",
       "    </tr>\n",
       "  </tbody>\n",
       "</table>\n",
       "</div>"
      ],
      "text/plain": [
       "      lum\n",
       "name     \n",
       "960   8.0"
      ]
     },
     "execution_count": 207,
     "metadata": {},
     "output_type": "execute_result"
    }
   ],
   "source": [
    "#число в поле lum с количеством элементов в списке для слияния\n",
    "data_prep[['lum', 'name']].\\\n",
    "drop_duplicates(subset=['name','lum']).groupby('name').agg({'lum':np.size}).query('lum!=1')"
   ]
  },
  {
   "cell_type": "code",
   "execution_count": 208,
   "metadata": {},
   "outputs": [],
   "source": [
    "new_lum = data_prep[['beam_energy', 'lum', 'lume', 'name']].drop_duplicates(subset=['lum','name']).\\\n",
    "groupby('name').agg({'lume':[np.sum], 'lum':[np.sum], 'beam_energy':[np.min, np.max]})"
   ]
  },
  {
   "cell_type": "code",
   "execution_count": 209,
   "metadata": {},
   "outputs": [
    {
     "data": {
      "text/plain": [
       "(9, 4)"
      ]
     },
     "execution_count": 209,
     "metadata": {},
     "output_type": "execute_result"
    }
   ],
   "source": [
    "new_lum.shape"
   ]
  },
  {
   "cell_type": "code",
   "execution_count": 210,
   "metadata": {},
   "outputs": [],
   "source": [
    "new_lum['Emean'] = np.round( new_lum[('lume','sum')]/new_lum[('lum','sum')], 2)"
   ]
  },
  {
   "cell_type": "code",
   "execution_count": 211,
   "metadata": {},
   "outputs": [],
   "source": [
    "new_lum.columns = ['lume', 'lum', 'dEmin', 'dEmax', 'Emean']\n",
    "new_lum.drop('lume', axis=1, inplace=True)\n",
    "new_lum['dEmax'] = np.abs( np.round( new_lum.dEmax-new_lum.Emean, 2) )\n",
    "new_lum['dEmin'] = np.abs( np.round( new_lum.Emean - new_lum.dEmin, 2) )"
   ]
  },
  {
   "cell_type": "code",
   "execution_count": 212,
   "metadata": {},
   "outputs": [],
   "source": [
    "#data.loc[641.].beam_energy.std()"
   ]
  },
  {
   "cell_type": "code",
   "execution_count": 213,
   "metadata": {},
   "outputs": [
    {
     "data": {
      "text/html": [
       "<div>\n",
       "<style scoped>\n",
       "    .dataframe tbody tr th:only-of-type {\n",
       "        vertical-align: middle;\n",
       "    }\n",
       "\n",
       "    .dataframe tbody tr th {\n",
       "        vertical-align: top;\n",
       "    }\n",
       "\n",
       "    .dataframe thead th {\n",
       "        text-align: right;\n",
       "    }\n",
       "</style>\n",
       "<table border=\"1\" class=\"dataframe\">\n",
       "  <thead>\n",
       "    <tr style=\"text-align: right;\">\n",
       "      <th></th>\n",
       "      <th>lum</th>\n",
       "      <th>dEmin</th>\n",
       "      <th>dEmax</th>\n",
       "      <th>Emean</th>\n",
       "    </tr>\n",
       "    <tr>\n",
       "      <th>name</th>\n",
       "      <th></th>\n",
       "      <th></th>\n",
       "      <th></th>\n",
       "      <th></th>\n",
       "    </tr>\n",
       "  </thead>\n",
       "  <tbody>\n",
       "    <tr>\n",
       "      <th>960</th>\n",
       "      <td>6550.538</td>\n",
       "      <td>49.51</td>\n",
       "      <td>45.72</td>\n",
       "      <td>948.52</td>\n",
       "    </tr>\n",
       "  </tbody>\n",
       "</table>\n",
       "</div>"
      ],
      "text/plain": [
       "           lum  dEmin  dEmax   Emean\n",
       "name                                \n",
       "960   6550.538  49.51  45.72  948.52"
      ]
     },
     "execution_count": 213,
     "metadata": {},
     "output_type": "execute_result"
    }
   ],
   "source": [
    "new_lum.query('dEmin>0')"
   ]
  },
  {
   "cell_type": "markdown",
   "metadata": {},
   "source": [
    "I have got new luminosity table.\n",
    "\n",
    "Now I should join it to existing table"
   ]
  },
  {
   "cell_type": "code",
   "execution_count": 214,
   "metadata": {},
   "outputs": [],
   "source": [
    "data_prep.drop(['lume', 'lum', 'beam_energy'], axis=1, inplace=True)"
   ]
  },
  {
   "cell_type": "code",
   "execution_count": 215,
   "metadata": {},
   "outputs": [],
   "source": [
    "final_data = data_prep.join(new_lum, how='inner', on='name')"
   ]
  },
  {
   "cell_type": "code",
   "execution_count": 216,
   "metadata": {},
   "outputs": [
    {
     "name": "stdout",
     "output_type": "stream",
     "text": [
      "Good. 629 rows\n"
     ]
    }
   ],
   "source": [
    "check_foo(final_data, data_prep)"
   ]
  },
  {
   "cell_type": "markdown",
   "metadata": {},
   "source": [
    "That is good. Now I should do the analysis"
   ]
  },
  {
   "cell_type": "code",
   "execution_count": 217,
   "metadata": {},
   "outputs": [
    {
     "data": {
      "text/html": [
       "<div>\n",
       "<style scoped>\n",
       "    .dataframe tbody tr th:only-of-type {\n",
       "        vertical-align: middle;\n",
       "    }\n",
       "\n",
       "    .dataframe tbody tr th {\n",
       "        vertical-align: top;\n",
       "    }\n",
       "\n",
       "    .dataframe thead th {\n",
       "        text-align: right;\n",
       "    }\n",
       "</style>\n",
       "<table border=\"1\" class=\"dataframe\">\n",
       "  <thead>\n",
       "    <tr style=\"text-align: right;\">\n",
       "      <th></th>\n",
       "      <th>name</th>\n",
       "      <th>mass</th>\n",
       "      <th>trigger</th>\n",
       "      <th>lum</th>\n",
       "      <th>dEmin</th>\n",
       "      <th>dEmax</th>\n",
       "      <th>Emean</th>\n",
       "    </tr>\n",
       "  </thead>\n",
       "  <tbody>\n",
       "    <tr>\n",
       "      <th>624</th>\n",
       "      <td>960</td>\n",
       "      <td>538.548279</td>\n",
       "      <td>0</td>\n",
       "      <td>6550.538</td>\n",
       "      <td>49.51</td>\n",
       "      <td>45.72</td>\n",
       "      <td>948.52</td>\n",
       "    </tr>\n",
       "    <tr>\n",
       "      <th>625</th>\n",
       "      <td>960</td>\n",
       "      <td>504.348328</td>\n",
       "      <td>0</td>\n",
       "      <td>6550.538</td>\n",
       "      <td>49.51</td>\n",
       "      <td>45.72</td>\n",
       "      <td>948.52</td>\n",
       "    </tr>\n",
       "    <tr>\n",
       "      <th>626</th>\n",
       "      <td>960</td>\n",
       "      <td>496.687500</td>\n",
       "      <td>0</td>\n",
       "      <td>6550.538</td>\n",
       "      <td>49.51</td>\n",
       "      <td>45.72</td>\n",
       "      <td>948.52</td>\n",
       "    </tr>\n",
       "    <tr>\n",
       "      <th>627</th>\n",
       "      <td>960</td>\n",
       "      <td>502.036652</td>\n",
       "      <td>0</td>\n",
       "      <td>6550.538</td>\n",
       "      <td>49.51</td>\n",
       "      <td>45.72</td>\n",
       "      <td>948.52</td>\n",
       "    </tr>\n",
       "    <tr>\n",
       "      <th>628</th>\n",
       "      <td>960</td>\n",
       "      <td>518.284363</td>\n",
       "      <td>2</td>\n",
       "      <td>6550.538</td>\n",
       "      <td>49.51</td>\n",
       "      <td>45.72</td>\n",
       "      <td>948.52</td>\n",
       "    </tr>\n",
       "  </tbody>\n",
       "</table>\n",
       "</div>"
      ],
      "text/plain": [
       "     name        mass  trigger       lum  dEmin  dEmax   Emean\n",
       "624   960  538.548279        0  6550.538  49.51  45.72  948.52\n",
       "625   960  504.348328        0  6550.538  49.51  45.72  948.52\n",
       "626   960  496.687500        0  6550.538  49.51  45.72  948.52\n",
       "627   960  502.036652        0  6550.538  49.51  45.72  948.52\n",
       "628   960  518.284363        2  6550.538  49.51  45.72  948.52"
      ]
     },
     "execution_count": 217,
     "metadata": {},
     "output_type": "execute_result"
    }
   ],
   "source": [
    "final_data.tail()"
   ]
  },
  {
   "cell_type": "markdown",
   "metadata": {},
   "source": [
    "----------------\n",
    "## Fit"
   ]
  },
  {
   "cell_type": "code",
   "execution_count": 218,
   "metadata": {},
   "outputs": [],
   "source": [
    "data2 = final_data.groupby('name')"
   ]
  },
  {
   "cell_type": "code",
   "execution_count": 219,
   "metadata": {},
   "outputs": [
    {
     "name": "stdout",
     "output_type": "stream",
     "text": [
      "640\n",
      "680\n",
      "720\n",
      "760\n",
      "800\n",
      "840\n",
      "860\n",
      "880\n",
      "960\n"
     ]
    }
   ],
   "source": [
    "dic = {}\n",
    "for i in data2.groups:\n",
    "    print(i)\n",
    "    dic[i] = np.array( data2.get_group(i)['mass'] )"
   ]
  },
  {
   "cell_type": "code",
   "execution_count": 220,
   "metadata": {},
   "outputs": [],
   "source": [
    "import iminuit\n",
    "import probfit as pf"
   ]
  },
  {
   "cell_type": "code",
   "execution_count": 221,
   "metadata": {},
   "outputs": [],
   "source": [
    "plt.rcParams.update({'font.size': 18, 'figure.figsize':(16,9)})"
   ]
  },
  {
   "cell_type": "code",
   "execution_count": 222,
   "metadata": {},
   "outputs": [],
   "source": [
    "mass_bound = (450, 550)"
   ]
  },
  {
   "cell_type": "code",
   "execution_count": 236,
   "metadata": {},
   "outputs": [
    {
     "data": {
      "text/plain": [
       "['x', 'M', '$\\\\sigma1$', '$\\\\sigma2$', 'f', '$N_{sig}$', '$N_{bkg}$']"
      ]
     },
     "execution_count": 236,
     "metadata": {},
     "output_type": "execute_result"
    }
   ],
   "source": [
    "#2 гаусса\n",
    "def constant(x):\n",
    "    return 1\n",
    "def two_gauss(x, mu, sigma1, sigma2, frac):\n",
    "    return frac*pf.gaussian(x, mu, sigma1) + (1-frac)*pf.gaussian(x, mu, sigma2)\n",
    "\n",
    "norm_sig = pf.rename( pf.Normalized( two_gauss, mass_bound ), ['x', 'M', '$\\sigma1$', '$\\sigma2$', 'f'] )\n",
    "norm_bkg = pf.Normalized( constant, mass_bound )\n",
    "\n",
    "ext_sig = pf.Extended(norm_sig, extname='$N_{sig}$')\n",
    "ext_bkg = pf.Extended(norm_bkg, extname='$N_{bkg}$')\n",
    "\n",
    "pdf = pf.AddPdf(ext_sig, ext_bkg)\n",
    "\n",
    "sigma1Lim = (5.26, 0.30)\n",
    "sigma2Lim = (14.42, 3.87)\n",
    "MLim = (497.299, 8.098)\n",
    "fLim = (0.86, 0.06)\n",
    "\n",
    "# 11: 𝜎1=(4.49, 0.27) , 𝜎2=(10.1, 1.), 𝑓=(0.68, 0.07), M=(497.299, 0.098)\n",
    "# 12: 𝜎1=(5.26, 0.30) , 𝜎2=(14.42, 3.87), 𝑓=(0.86, 0.06), M=(498.33, 0.27)\n",
    "\n",
    "limits = {\n",
    "    \"limit_M\": [MLim[0]-MLim[1], MLim[0]+MLim[1]],\n",
    "    \"limit_$\\sigma1$\": [sigma1Lim[0] - sigma1Lim[1], sigma1Lim[0] + sigma1Lim[1]],\n",
    "    \"limit_$\\sigma2$\": [sigma2Lim[0] - sigma2Lim[1], sigma2Lim[0] + sigma2Lim[1]],\n",
    "    \"limit_$N_{sig}$\": [0, 100000],\n",
    "    \"limit_$N_{bkg}$\": [0, 2000],\n",
    "    \"limit_f\": [fLim[0]-fLim[1], fLim[0]+fLim[1]]\n",
    "}\n",
    "errors = {\n",
    "    \"error_M\": 1,\n",
    "    \"error_$\\sigma1$\": 0.,\n",
    "    \"error_$\\sigma2$\": 0.,\n",
    "    \"error_$N_{sig}$\": 0.3,\n",
    "    \"error_$N_{bkg}$\": 0.1,\n",
    "    \"error_f\": 0.05\n",
    "}\n",
    "\n",
    "# norm_sig1 = pf.Normalized( pf.rename(pf.gaussian, ['x', 'm', '$\\sigma1$']), mass_bound)\n",
    "# norm_sig2 = pf.Normalized( pf.rename(pf.gaussian, ['x', 'm', '$\\sigma2$']), mass_bound)\n",
    "# norm_bkg = pf.Extended(norm_bkg, extname='$N_{bkg}$')\n",
    "\n",
    "# gauss1 = pf.Extended(norm_sig1, extname='$N_{sig1}$')\n",
    "# gauss2 = pf.Extended(norm_sig2, extname='$N_{sig2}$')\n",
    "\n",
    "# pdf = pf.AddPdf(gauss1, gauss2, norm_bkg)\n",
    "pf.describe(pdf)\n",
    "\n",
    "# limits = {\"limit_m\": [497.6, 497.6], \"limit_$\\sigma1$\": [4.26, 4.26], \"limit_$\\sigma2$\": [11.16, 11.16],  \n",
    "#           \"limit_$N_{sig1}$\": [0, 10000], \"limit_$N_{sig2}$\": [0, 10000], \"limit_$N_{bkg}$\": [0, 1000]}\n",
    "# errors = {\"error_m\": 1, \"error_$\\sigma1$\": 0., \"error_$\\sigma2$\": 0. , \n",
    "#           \"error_$N_{sig1}$\": 0.3, \"error_$N_{sig2}$\": 0.3, \"error_$N_{bkg}$\":0}"
   ]
  },
  {
   "cell_type": "code",
   "execution_count": 224,
   "metadata": {},
   "outputs": [],
   "source": [
    "def fitter(dic, nbins, energy, binnedLik=False, simple_plot=True):\n",
    "    \n",
    "    likelihood = pf.UnbinnedLH(pdf, dic, extended=True, extended_bound=mass_bound) if not(binnedLik) else \\\n",
    "    pf.BinnedLH(pdf, dic, int(nbins*(mass_bound[1]-mass_bound[0])/100.), bound=mass_bound, extended=True)\n",
    "    \n",
    "    initial_par_values = {\"M\": 497.6, \"$\\sigma1$\": 4.26, \"$N_{sig}$\": np.size(dic),\n",
    "                          \"$\\sigma2$\": 11.16, \"f\": 0.5, \"$N_{bkg}$\": 1}\n",
    "    mt = iminuit.Minuit(likelihood, **initial_par_values, **errors, **limits, pedantic=False)\n",
    "    mt.migrad();\n",
    "        \n",
    "    if simple_plot:\n",
    "        likelihood.draw(minuit=mt) if binnedLik else likelihood.draw(minuit=mt, bins=nbins, bound=mass_bound)\n",
    "    else:\n",
    "        fig = plt.figure(figsize=(16, 10), dpi= 80)\n",
    "        grid = plt.GridSpec(4, 4, hspace=0.5, wspace=0.2)\n",
    "\n",
    "        # Define the axes\n",
    "        ax_main = fig.add_subplot(grid[:-1, :])\n",
    "\n",
    "        if binnedLik:\n",
    "            likelihood.draw(minuit=mt)\n",
    "        else:\n",
    "            likelihood.draw(minuit=mt, bins=nbins, bound=mass_bound)\n",
    "\n",
    "        plt.tick_params(labelsize=20);\n",
    "        plt.xlabel('invariant mass, MeV', fontsize=20)\n",
    "        plt.ylabel('number of events', fontsize=20)\n",
    "\n",
    "        # this is an inset axes over the main axes\n",
    "        ax_bottom = fig.add_subplot(grid[-1, :], xticklabels=[])\n",
    "        likelihood.draw_residual(minuit=mt) if binnedLik else \\\n",
    "        likelihood.draw_residual(minuit=mt, bins=nbins, bound=mass_bound)\n",
    "    \n",
    "        plt.savefig(f'../outputs/{year}/figures/fit_e{energy}.png')\n",
    "    return mt, likelihood"
   ]
  },
  {
   "cell_type": "code",
   "execution_count": 225,
   "metadata": {},
   "outputs": [],
   "source": [
    "itr = iter(dic)"
   ]
  },
  {
   "cell_type": "code",
   "execution_count": 226,
   "metadata": {},
   "outputs": [],
   "source": [
    "fit_frame = pd.DataFrame(columns=[ 'M', 'S1', 'S2', 'f', 'N', 'C', \n",
    "                                  'Merr', 'S1err', 'S2err', 'ferr', 'Nerr', 'Cerr'])"
   ]
  },
  {
   "cell_type": "code",
   "execution_count": 255,
   "metadata": {
    "scrolled": true
   },
   "outputs": [
    {
     "name": "stdout",
     "output_type": "stream",
     "text": [
      "Label: 960\n"
     ]
    }
   ],
   "source": [
    "i = next(itr)\n",
    "print('Label:', i)"
   ]
  },
  {
   "cell_type": "code",
   "execution_count": 256,
   "metadata": {
    "scrolled": false
   },
   "outputs": [
    {
     "name": "stdout",
     "output_type": "stream",
     "text": [
      "Migrad quality: True\n",
      "Real: 70 Found: 69.99668553140236\n"
     ]
    },
    {
     "data": {
      "image/png": "[encoded data removed]",
      "text/plain": [
       "<Figure size 1280x800 with 2 Axes>"
      ]
     },
     "metadata": {},
     "output_type": "display_data"
    }
   ],
   "source": [
    "#mass_bound = (450, 550)\n",
    "dicx = dic[i]#final_data.mass.values#dic[i]#\n",
    "mt, lik = fitter(dicx, 100, i, False, False)\n",
    "fit_frame.loc[i] = mt.values.values() + mt.errors.values()\n",
    "print(\"Migrad quality:\", mt.migrad_ok())\n",
    "print( 'Real:', np.size(dicx), 'Found:', mt.values['$N_{sig}$'] + mt.values['$N_{bkg}$'] )"
   ]
  },
  {
   "cell_type": "code",
   "execution_count": 257,
   "metadata": {},
   "outputs": [
    {
     "data": {
      "text/html": [
       "<div>\n",
       "<style scoped>\n",
       "    .dataframe tbody tr th:only-of-type {\n",
       "        vertical-align: middle;\n",
       "    }\n",
       "\n",
       "    .dataframe tbody tr th {\n",
       "        vertical-align: top;\n",
       "    }\n",
       "\n",
       "    .dataframe thead th {\n",
       "        text-align: right;\n",
       "    }\n",
       "</style>\n",
       "<table border=\"1\" class=\"dataframe\">\n",
       "  <thead>\n",
       "    <tr style=\"text-align: right;\">\n",
       "      <th></th>\n",
       "      <th>M</th>\n",
       "      <th>S1</th>\n",
       "      <th>S2</th>\n",
       "      <th>f</th>\n",
       "      <th>N</th>\n",
       "      <th>C</th>\n",
       "      <th>Merr</th>\n",
       "      <th>S1err</th>\n",
       "      <th>S2err</th>\n",
       "      <th>ferr</th>\n",
       "      <th>Nerr</th>\n",
       "      <th>Cerr</th>\n",
       "    </tr>\n",
       "  </thead>\n",
       "  <tbody>\n",
       "    <tr>\n",
       "      <th>640</th>\n",
       "      <td>497.477872</td>\n",
       "      <td>5.097619</td>\n",
       "      <td>18.289893</td>\n",
       "      <td>0.800012</td>\n",
       "      <td>95.044148</td>\n",
       "      <td>1.958022e+00</td>\n",
       "      <td>0.654044</td>\n",
       "      <td>0.367838</td>\n",
       "      <td>5.204985</td>\n",
       "      <td>0.084726</td>\n",
       "      <td>10.257588</td>\n",
       "      <td>3.476623</td>\n",
       "    </tr>\n",
       "    <tr>\n",
       "      <th>680</th>\n",
       "      <td>498.426873</td>\n",
       "      <td>4.960000</td>\n",
       "      <td>18.128925</td>\n",
       "      <td>0.800000</td>\n",
       "      <td>70.000587</td>\n",
       "      <td>1.111047e-06</td>\n",
       "      <td>0.726546</td>\n",
       "      <td>0.593296</td>\n",
       "      <td>6.694302</td>\n",
       "      <td>0.111145</td>\n",
       "      <td>8.366666</td>\n",
       "      <td>6.547639</td>\n",
       "    </tr>\n",
       "    <tr>\n",
       "      <th>720</th>\n",
       "      <td>498.589656</td>\n",
       "      <td>5.559997</td>\n",
       "      <td>15.675176</td>\n",
       "      <td>0.920000</td>\n",
       "      <td>52.995643</td>\n",
       "      <td>2.086642e-08</td>\n",
       "      <td>0.824355</td>\n",
       "      <td>0.599594</td>\n",
       "      <td>6.429588</td>\n",
       "      <td>0.101681</td>\n",
       "      <td>7.279650</td>\n",
       "      <td>1.951972</td>\n",
       "    </tr>\n",
       "    <tr>\n",
       "      <th>760</th>\n",
       "      <td>498.097973</td>\n",
       "      <td>5.560000</td>\n",
       "      <td>15.728870</td>\n",
       "      <td>0.800000</td>\n",
       "      <td>73.245267</td>\n",
       "      <td>2.744296e+00</td>\n",
       "      <td>0.850983</td>\n",
       "      <td>0.534653</td>\n",
       "      <td>6.363695</td>\n",
       "      <td>0.087226</td>\n",
       "      <td>10.505703</td>\n",
       "      <td>6.305009</td>\n",
       "    </tr>\n",
       "    <tr>\n",
       "      <th>800</th>\n",
       "      <td>498.741687</td>\n",
       "      <td>4.960000</td>\n",
       "      <td>18.289990</td>\n",
       "      <td>0.882298</td>\n",
       "      <td>111.037013</td>\n",
       "      <td>4.971707e+00</td>\n",
       "      <td>0.543056</td>\n",
       "      <td>0.394463</td>\n",
       "      <td>7.623579</td>\n",
       "      <td>0.078485</td>\n",
       "      <td>11.674993</td>\n",
       "      <td>5.495444</td>\n",
       "    </tr>\n",
       "    <tr>\n",
       "      <th>840</th>\n",
       "      <td>498.238462</td>\n",
       "      <td>5.560000</td>\n",
       "      <td>13.934445</td>\n",
       "      <td>0.800000</td>\n",
       "      <td>90.875568</td>\n",
       "      <td>5.165323e+00</td>\n",
       "      <td>0.741830</td>\n",
       "      <td>0.452536</td>\n",
       "      <td>5.558647</td>\n",
       "      <td>0.107182</td>\n",
       "      <td>10.655446</td>\n",
       "      <td>5.275689</td>\n",
       "    </tr>\n",
       "    <tr>\n",
       "      <th>860</th>\n",
       "      <td>500.180417</td>\n",
       "      <td>5.559997</td>\n",
       "      <td>18.289998</td>\n",
       "      <td>0.800000</td>\n",
       "      <td>28.861679</td>\n",
       "      <td>5.151066e+00</td>\n",
       "      <td>1.246383</td>\n",
       "      <td>0.393048</td>\n",
       "      <td>5.117047</td>\n",
       "      <td>0.085315</td>\n",
       "      <td>5.833231</td>\n",
       "      <td>3.211682</td>\n",
       "    </tr>\n",
       "    <tr>\n",
       "      <th>880</th>\n",
       "      <td>498.325522</td>\n",
       "      <td>4.960000</td>\n",
       "      <td>18.289991</td>\n",
       "      <td>0.919995</td>\n",
       "      <td>14.047477</td>\n",
       "      <td>2.965301e+00</td>\n",
       "      <td>1.396220</td>\n",
       "      <td>0.450912</td>\n",
       "      <td>4.231283</td>\n",
       "      <td>0.117637</td>\n",
       "      <td>3.932131</td>\n",
       "      <td>2.092064</td>\n",
       "    </tr>\n",
       "    <tr>\n",
       "      <th>960</th>\n",
       "      <td>497.711878</td>\n",
       "      <td>5.081141</td>\n",
       "      <td>18.289642</td>\n",
       "      <td>0.800000</td>\n",
       "      <td>36.726357</td>\n",
       "      <td>3.327033e+01</td>\n",
       "      <td>1.158193</td>\n",
       "      <td>0.359457</td>\n",
       "      <td>4.861909</td>\n",
       "      <td>0.085341</td>\n",
       "      <td>7.358029</td>\n",
       "      <td>7.116710</td>\n",
       "    </tr>\n",
       "  </tbody>\n",
       "</table>\n",
       "</div>"
      ],
      "text/plain": [
       "              M        S1         S2         f           N             C  \\\n",
       "640  497.477872  5.097619  18.289893  0.800012   95.044148  1.958022e+00   \n",
       "680  498.426873  4.960000  18.128925  0.800000   70.000587  1.111047e-06   \n",
       "720  498.589656  5.559997  15.675176  0.920000   52.995643  2.086642e-08   \n",
       "760  498.097973  5.560000  15.728870  0.800000   73.245267  2.744296e+00   \n",
       "800  498.741687  4.960000  18.289990  0.882298  111.037013  4.971707e+00   \n",
       "840  498.238462  5.560000  13.934445  0.800000   90.875568  5.165323e+00   \n",
       "860  500.180417  5.559997  18.289998  0.800000   28.861679  5.151066e+00   \n",
       "880  498.325522  4.960000  18.289991  0.919995   14.047477  2.965301e+00   \n",
       "960  497.711878  5.081141  18.289642  0.800000   36.726357  3.327033e+01   \n",
       "\n",
       "         Merr     S1err     S2err      ferr       Nerr      Cerr  \n",
       "640  0.654044  0.367838  5.204985  0.084726  10.257588  3.476623  \n",
       "680  0.726546  0.593296  6.694302  0.111145   8.366666  6.547639  \n",
       "720  0.824355  0.599594  6.429588  0.101681   7.279650  1.951972  \n",
       "760  0.850983  0.534653  6.363695  0.087226  10.505703  6.305009  \n",
       "800  0.543056  0.394463  7.623579  0.078485  11.674993  5.495444  \n",
       "840  0.741830  0.452536  5.558647  0.107182  10.655446  5.275689  \n",
       "860  1.246383  0.393048  5.117047  0.085315   5.833231  3.211682  \n",
       "880  1.396220  0.450912  4.231283  0.117637   3.932131  2.092064  \n",
       "960  1.158193  0.359457  4.861909  0.085341   7.358029  7.116710  "
      ]
     },
     "execution_count": 257,
     "metadata": {},
     "output_type": "execute_result"
    }
   ],
   "source": [
    "fit_frame"
   ]
  },
  {
   "cell_type": "code",
   "execution_count": 258,
   "metadata": {},
   "outputs": [
    {
     "data": {
      "image/png": "[encoded data removed]",
      "text/plain": [
       "<Figure size 1152x648 with 2 Axes>"
      ]
     },
     "metadata": {},
     "output_type": "display_data"
    }
   ],
   "source": [
    "plt.subplot(1, 2, 1)\n",
    "plt.errorbar(x=fit_frame.index, y=fit_frame.f, yerr=fit_frame.ferr, fmt='o')\n",
    "plt.xlabel('energy, MeV');\n",
    "plt.ylabel('$f$');\n",
    "plt.subplot(1, 2, 2)\n",
    "\n",
    "plt.errorbar(x=fit_frame.index, y=fit_frame.M, yerr=fit_frame.Merr, fmt='or')\n",
    "plt.xlabel('energy, MeV');\n",
    "plt.ylabel('$m$, MeV');"
   ]
  },
  {
   "cell_type": "markdown",
   "metadata": {},
   "source": [
    "### Some notes:\n",
    "none"
   ]
  },
  {
   "cell_type": "markdown",
   "metadata": {},
   "source": [
    "## Анализ $\\sigma$"
   ]
  },
  {
   "cell_type": "markdown",
   "metadata": {},
   "source": [
    "### 19 год\n",
    "\n",
    "В точках 550 и 550.1 принципиально различается ширина ( 4.8 vs 6.12 )\n",
    "\n",
    "В 19 году взял группами точки по энергии и посмотрел их $\\sigma$, видно, что ширина растёт вместе с энергией"
   ]
  },
  {
   "cell_type": "code",
   "execution_count": 222,
   "metadata": {},
   "outputs": [
    {
     "data": {
      "text/plain": [
       "<ErrorbarContainer object of 3 artists>"
      ]
     },
     "execution_count": 222,
     "metadata": {},
     "output_type": "execute_result"
    },
    {
     "data": {
      "image/png": "[encoded data removed]",
      "text/plain": [
       "<Figure size 1152x648 with 1 Axes>"
      ]
     },
     "metadata": {},
     "output_type": "display_data"
    }
   ],
   "source": [
    "emin_an  = [524, 570, 650, 730, 800, 900, 850, 750, 700, 530]\n",
    "emax_an  = [570, 650, 730, 800, 900, 1010, 950, 850, 750, 570]\n",
    "sigma_an = [4.84, 5.75, 6.2, 8.38, 8.12, 9.75, 9.33, 8.14, 7.86, 4.8]\n",
    "dsigma_an = [0.069, 0.11, 0.3, 0.28, 0.3, 0.87, 0.87, 0.21, 0.43, 0.06]\n",
    "df_sigma_an = pd.DataFrame({'emin':emin_an, 'emax':emax_an, 'sigma':sigma_an, 'ds': dsigma_an})\n",
    "df_sigma_an['emean'] = (df_sigma_an.emin + df_sigma_an.emax)/2.\n",
    "df_sigma_an['deup'] = df_sigma_an.emean - df_sigma_an.emin\n",
    "plt.errorbar(data=df_sigma_an, x='emean', y='sigma', xerr='deup', yerr='ds', fmt='o')"
   ]
  },
  {
   "cell_type": "markdown",
   "metadata": {},
   "source": [
    "Возникает гипотеза (ещё и с учётом того факта, что на большой статистике данные описываются не идеально) добавить ещё один гаусс. Посмотрим, что из этого выйдет.\n",
    "\n",
    "Повторю распределение сигм по аналогии с картинкой выше"
   ]
  },
  {
   "cell_type": "code",
   "execution_count": 552,
   "metadata": {},
   "outputs": [
    {
     "data": {
      "text/plain": [
       "<ErrorbarContainer object of 3 artists>"
      ]
     },
     "execution_count": 552,
     "metadata": {},
     "output_type": "execute_result"
    },
    {
     "data": {
      "image/png": "[encoded data removed]",
      "text/plain": [
       "<Figure size 720x432 with 1 Axes>"
      ]
     },
     "metadata": {},
     "output_type": "display_data"
    }
   ],
   "source": [
    "plt.rcParams.update({'font.size': 18, 'figure.figsize':(10,6)})\n",
    "emin_an  = [524, 570, 650, 730, 800, 900, 850, 750, 700, 530, 810]\n",
    "emax_an  = [570, 650, 730, 800, 900, 1010, 950, 850, 750, 570, 1010]\n",
    "sigma1_an = [4.02, 4.31, 4.44, 4.66, 4.08, 8.724847949065675, 8.952093654550044, 4.509152675111134, 3.6841658856535178, 4.01709961911671, 4.628942053127934]\n",
    "dsigma1_an = [0.13, 0.18, 0.44, 0.39, 0.55, 1.590062670581002, 7.270944904440277, 0.3453623743108212, 0.6048651400716212, 0.1190920659859942, 0.7016815273028718]\n",
    "sigma2_an = [10.3, 10.98, 11.55, 12.25, 11.34, 19.995900427431625, 19.999882612152, 11.866375420268561, 10.53279261428423, 10.283255759137344, 11.339313291171166]\n",
    "dsigma2_an = [0.9, 0.85, 1.42, 0.81, 0.89, 13.996992016425061, 13.933962567163773, 0.6617076556061905, 0.9474962757272731, 0.8289418695468278, 1.1023824322696134]\n",
    "frac12_an = [3.92, 2.31, 1.76, 0.88, 0.64, 2.728843351319719, 6.911293728105318, 0.8379169741736125, 0.7006647553677061, 3.9196405944377877, 0.62839843050261]\n",
    "df_sigma_an = pd.DataFrame({'emin':emin_an, 'emax':emax_an, 'sigma1':sigma1_an, 'ds1': dsigma1_an, \n",
    "                            'sigma2':sigma2_an, 'ds2': dsigma2_an, 'frac': frac12_an})\n",
    "df_sigma_an['emean'] = (df_sigma_an.emin + df_sigma_an.emax)/2.\n",
    "df_sigma_an['deup'] = df_sigma_an.emean - df_sigma_an.emin\n",
    "plt.errorbar(data=df_sigma_an, x='emean', y='sigma1', xerr='deup', yerr='ds1', fmt='ob')\n",
    "plt.errorbar(data=df_sigma_an, x='emean', y='sigma2', xerr='deup', yerr='ds2', fmt='or')"
   ]
  },
  {
   "cell_type": "markdown",
   "metadata": {},
   "source": [
    "Видно, что каждая из сигм практически не сдвигается. Но видно, что на малом объёме данных ширины начинают расплываться (заметно при высоких энергиях)\n",
    "\n",
    "Зафиксирую ширины на средних без учёта выпавших точек"
   ]
  },
  {
   "cell_type": "code",
   "execution_count": 238,
   "metadata": {},
   "outputs": [
    {
     "name": "stdout",
     "output_type": "stream",
     "text": [
      "Sigma1: 4.261040025889923\n",
      "Sigma2: 11.160193009429035\n"
     ]
    }
   ],
   "source": [
    "print('Sigma1:', df_sigma_an.drop([5,6]).sigma1.mean() )\n",
    "print('Sigma2:', df_sigma_an.drop([5,6]).sigma2.mean() )"
   ]
  },
  {
   "cell_type": "markdown",
   "metadata": {},
   "source": [
    "Тогда проверяю предположение, что $\\sigma$ в случае одного гаусса меняется из-за того, что меняется доля событий под узким и широким гауссами меняется с энергией"
   ]
  },
  {
   "cell_type": "code",
   "execution_count": 314,
   "metadata": {},
   "outputs": [
    {
     "data": {
      "text/plain": [
       "<ErrorbarContainer object of 3 artists>"
      ]
     },
     "execution_count": 314,
     "metadata": {},
     "output_type": "execute_result"
    },
    {
     "data": {
      "image/png": "[encoded data removed]",
      "text/plain": [
       "<Figure size 720x432 with 1 Axes>"
      ]
     },
     "metadata": {},
     "output_type": "display_data"
    }
   ],
   "source": [
    "plt.errorbar(data=df_sigma_an, x='emean', y='frac', xerr='deup', fmt='or')"
   ]
  },
  {
   "cell_type": "markdown",
   "metadata": {},
   "source": [
    "Теперь 2 гаусса для моделирования (`model_new`)"
   ]
  },
  {
   "cell_type": "code",
   "execution_count": 553,
   "metadata": {},
   "outputs": [
    {
     "data": {
      "text/plain": [
       "<ErrorbarContainer object of 3 artists>"
      ]
     },
     "execution_count": 553,
     "metadata": {},
     "output_type": "execute_result"
    },
    {
     "data": {
      "image/png": "[encoded data removed]",
      "text/plain": [
       "<Figure size 720x432 with 1 Axes>"
      ]
     },
     "metadata": {},
     "output_type": "display_data"
    }
   ],
   "source": [
    "en_an = [ 550. ,  562.5,  575. ,  587.5,  600. ,  612.5,  625. ,  637.5,\n",
    "        650. ,  662.5,  675. ,  687.5,  700. ,  712.5,  725. ,  737.5,\n",
    "        750. ,  762.5,  775. ,  787.5,  800. ,  812.5,  825. ,  837.5,\n",
    "        850. ,  862.5,  875. ,  887.5,  900. ,  912.5,  925. ,  935. ,\n",
    "        945. ,  950. ,  962.5,  975. ,  987.5, 1000. ]\n",
    "s1_an = [4.00928888, 4.33747255, 4.43559649, 3.803059  , 4.423181  ,\n",
    "       5.1014904 , 4.66565474, 4.5045961 , 4.87810257, 4.1960529 ,\n",
    "       5.43876272, 4.91843674, 5.14132747, 4.45975828, 5.31429813,\n",
    "       5.69505078, 5.60314509, 5.14196975, 5.3540354 , 5.16952826,\n",
    "       5.50877517, 4.94773543, 5.86872395, 5.33462472, 6.33305366,\n",
    "       5.50748813, 5.64094449, 6.22043922, 5.8916277 , 6.35738374,\n",
    "       5.86313576, 5.82890009, 6.48632741, 5.73844622, 5.75707775,\n",
    "       6.0104084 , 5.87187928, 6.64138695]\n",
    "s2_an = [10.24281036, 11.05319352, 11.18820377,  9.68060542, 12.08471558,\n",
    "       13.48858781, 13.14961493, 11.13335416, 11.74951692, 10.83995468,\n",
    "       11.62019776, 10.61195066, 13.99189698, 10.58376123, 13.09259816,\n",
    "       12.95582443, 13.64101323, 12.22498239, 13.24488383, 12.3034521 ,\n",
    "       12.69676957, 12.62291336, 12.27461984, 12.50987221, 14.22699406,\n",
    "       12.77836884, 12.39655738, 14.23327043, 12.70892288, 15.21270754,\n",
    "       13.44290652, 12.03170836, 14.54893378, 13.31082015, 11.72120822,\n",
    "       13.3503376 , 13.0830581 , 17.15999921]\n",
    "s1err_an = [0.24420247, 0.23628817, 0.2793554 , 0.43500637, 0.30562574,\n",
    "       0.41426316, 0.36829545, 0.57240212, 0.55104936, 0.83858414,\n",
    "       0.54760894, 0.72628265, 0.32523255, 0.51859386, 0.3644784 ,\n",
    "       0.43592776, 0.44839775, 0.42269701, 0.32609865, 0.3645667 ,\n",
    "       0.37670574, 0.36108701, 0.38803313, 0.29671017, 0.31075945,\n",
    "       0.34238496, 0.33784375, 0.2866558 , 0.54865994, 0.35272085,\n",
    "       0.43615359, 0.64643721, 0.55803832, 0.61537946, 0.86046785,\n",
    "       0.71916831, 0.972075  , 0.51998215]\n",
    "s2err_an = [1.02206463, 1.06032287, 1.28551181, 1.00666387, 1.33649728,\n",
    "       1.83713476, 1.38658335, 1.13404142, 1.28373445, 1.08777375,\n",
    "       1.78985585, 1.48944632, 0.89674085, 0.7724873 , 1.03681978,\n",
    "       1.19733482, 1.46254629, 0.7502984 , 0.97471297, 0.6738531 ,\n",
    "       0.78451445, 0.65602477, 0.80038106, 0.69198662, 0.94256228,\n",
    "       0.66889848, 0.66153967, 0.94133285, 0.96653921, 0.84317584,\n",
    "       0.94040895, 1.08274286, 1.57935263, 1.31951827, 1.03343693,\n",
    "       1.29964889, 1.72233654, 8.39968307]\n",
    "plt.errorbar(x=en_an, y=s1_an, yerr=s1err_an, fmt='ob')\n",
    "plt.errorbar(x=en_an, y=s2_an, yerr=s2err_an, fmt='or')"
   ]
  },
  {
   "cell_type": "markdown",
   "metadata": {},
   "source": [
    "По сигме всё более-менее хорошо, а вот следующее распределение по отношению событий в гауссах смущает.\n",
    "\n",
    "Возможно это из-за каких-то разногласий моделирования и эксперимента, хотелось бы верить, но неизвестно"
   ]
  },
  {
   "cell_type": "code",
   "execution_count": 554,
   "metadata": {},
   "outputs": [
    {
     "data": {
      "text/plain": [
       "<matplotlib.collections.PathCollection at 0x7fed74a147d0>"
      ]
     },
     "execution_count": 554,
     "metadata": {},
     "output_type": "execute_result"
    },
    {
     "data": {
      "image/png": "[encoded data removed]",
      "text/plain": [
       "<Figure size 720x432 with 1 Axes>"
      ]
     },
     "metadata": {},
     "output_type": "display_data"
    }
   ],
   "source": [
    "frac_an = [2.1047093 , 2.24281089, 2.16611316, 1.10671026, 1.93781416,\n",
    "       2.39827954, 1.91504091, 1.07766751, 1.31920011, 0.79416602,\n",
    "       1.84898383, 1.27802379, 1.73464467, 0.7721512 , 1.70095568,\n",
    "       1.58280159, 1.77529039, 1.09981627, 1.43251272, 0.97705235,\n",
    "       1.18825784, 0.9150671 , 1.18416207, 1.14115352, 1.6519543 ,\n",
    "       0.99945712, 1.00099901, 1.83883042, 0.96433868, 1.8047252 ,\n",
    "       1.04416522, 0.89545267, 1.29761692, 1.0409458 , 0.60057145,\n",
    "       0.86444899, 1.01426618, 1.57182104]\n",
    "plt.scatter(en_an, frac_an)"
   ]
  },
  {
   "cell_type": "markdown",
   "metadata": {},
   "source": [
    "Смущает распределение по отношению гауссов, поэтому зафиксирую все параметры гауссов из полного распределения:\n",
    "\n",
    "$\\sigma_1 = 4.178 \\pm 0.096$ , $\\sigma_2 = 11.06 \\pm 0.42$, $ f = 0.67 \\pm 0.02$"
   ]
  },
  {
   "cell_type": "markdown",
   "metadata": {},
   "source": [
    "### 17 год\n",
    "\n",
    "Моделирование по всем точкам даёт \n",
    "$\\sigma_1 = 5.77 \\pm 0.56$, $\\sigma_2 = 13.44 \\pm 2.12$, $f = 0.61 \\pm 0.1 $, $M = 498.49 \\pm 0.23$"
   ]
  },
  {
   "cell_type": "markdown",
   "metadata": {},
   "source": [
    "### 11 год\n",
    "\n",
    "Моделирование по всем точкам даёт $\\sigma_1 = 4.49 \\pm 0.27$ , $\\sigma_2 = 10.1 \\pm 1.$, $ f = 0.68 \\pm 0.07$. \n",
    "\n",
    "Я взял данные значения и разрешил им варьироваться в пределах ошибки"
   ]
  },
  {
   "cell_type": "markdown",
   "metadata": {},
   "source": [
    "### 12 год\n",
    "\n",
    "$\\sigma_1 = 5.26 \\pm 0.30$ , $\\sigma_2 = 14.42 \\pm 3.87$, $ f = 0.86 \\pm 0.06$, $ M = 498.33 \\pm 0.27$"
   ]
  },
  {
   "cell_type": "code",
   "execution_count": null,
   "metadata": {},
   "outputs": [],
   "source": []
  },
  {
   "cell_type": "code",
   "execution_count": null,
   "metadata": {},
   "outputs": [],
   "source": []
  },
  {
   "cell_type": "code",
   "execution_count": null,
   "metadata": {},
   "outputs": [],
   "source": []
  },
  {
   "cell_type": "markdown",
   "metadata": {},
   "source": [
    "# Save fit info"
   ]
  },
  {
   "cell_type": "code",
   "execution_count": 259,
   "metadata": {},
   "outputs": [],
   "source": [
    "fit_frame.to_csv(f'../outputs/{year}/tables/fit_frame.csv')"
   ]
  },
  {
   "cell_type": "code",
   "execution_count": 260,
   "metadata": {},
   "outputs": [],
   "source": [
    "#mt.matrix(correlation=True)\n",
    "#mt.draw_profile('Nsig');"
   ]
  },
  {
   "cell_type": "code",
   "execution_count": 261,
   "metadata": {},
   "outputs": [],
   "source": [
    "dataN = fit_frame[['N','Nerr']]\n",
    "dataN.columns = ['Nsig', 'dNsig']"
   ]
  },
  {
   "cell_type": "code",
   "execution_count": 262,
   "metadata": {},
   "outputs": [
    {
     "data": {
      "text/html": [
       "<div>\n",
       "<style scoped>\n",
       "    .dataframe tbody tr th:only-of-type {\n",
       "        vertical-align: middle;\n",
       "    }\n",
       "\n",
       "    .dataframe tbody tr th {\n",
       "        vertical-align: top;\n",
       "    }\n",
       "\n",
       "    .dataframe thead th {\n",
       "        text-align: right;\n",
       "    }\n",
       "</style>\n",
       "<table border=\"1\" class=\"dataframe\">\n",
       "  <thead>\n",
       "    <tr style=\"text-align: right;\">\n",
       "      <th></th>\n",
       "      <th>Nsig</th>\n",
       "      <th>dNsig</th>\n",
       "    </tr>\n",
       "  </thead>\n",
       "  <tbody>\n",
       "    <tr>\n",
       "      <th>800</th>\n",
       "      <td>111.037013</td>\n",
       "      <td>11.674993</td>\n",
       "    </tr>\n",
       "    <tr>\n",
       "      <th>840</th>\n",
       "      <td>90.875568</td>\n",
       "      <td>10.655446</td>\n",
       "    </tr>\n",
       "    <tr>\n",
       "      <th>860</th>\n",
       "      <td>28.861679</td>\n",
       "      <td>5.833231</td>\n",
       "    </tr>\n",
       "    <tr>\n",
       "      <th>880</th>\n",
       "      <td>14.047477</td>\n",
       "      <td>3.932131</td>\n",
       "    </tr>\n",
       "    <tr>\n",
       "      <th>960</th>\n",
       "      <td>36.726357</td>\n",
       "      <td>7.358029</td>\n",
       "    </tr>\n",
       "  </tbody>\n",
       "</table>\n",
       "</div>"
      ],
      "text/plain": [
       "           Nsig      dNsig\n",
       "800  111.037013  11.674993\n",
       "840   90.875568  10.655446\n",
       "860   28.861679   5.833231\n",
       "880   14.047477   3.932131\n",
       "960   36.726357   7.358029"
      ]
     },
     "execution_count": 262,
     "metadata": {},
     "output_type": "execute_result"
    }
   ],
   "source": [
    "dataN.tail()"
   ]
  },
  {
   "cell_type": "markdown",
   "metadata": {},
   "source": [
    "I have got table with events numbers\n",
    "\n",
    "Now, I will get rid of m-field in the data table (because, I have used it)"
   ]
  },
  {
   "cell_type": "code",
   "execution_count": 263,
   "metadata": {},
   "outputs": [],
   "source": [
    "data_info = final_data.drop_duplicates(['name','lum']).drop(['mass', 'trigger'], axis=1).set_index('name')"
   ]
  },
  {
   "cell_type": "code",
   "execution_count": 264,
   "metadata": {},
   "outputs": [
    {
     "data": {
      "text/html": [
       "<div>\n",
       "<style scoped>\n",
       "    .dataframe tbody tr th:only-of-type {\n",
       "        vertical-align: middle;\n",
       "    }\n",
       "\n",
       "    .dataframe tbody tr th {\n",
       "        vertical-align: top;\n",
       "    }\n",
       "\n",
       "    .dataframe thead th {\n",
       "        text-align: right;\n",
       "    }\n",
       "</style>\n",
       "<table border=\"1\" class=\"dataframe\">\n",
       "  <thead>\n",
       "    <tr style=\"text-align: right;\">\n",
       "      <th></th>\n",
       "      <th>lum</th>\n",
       "      <th>dEmin</th>\n",
       "      <th>dEmax</th>\n",
       "      <th>Emean</th>\n",
       "      <th>Nsig</th>\n",
       "      <th>dNsig</th>\n",
       "    </tr>\n",
       "    <tr>\n",
       "      <th>name</th>\n",
       "      <th></th>\n",
       "      <th></th>\n",
       "      <th></th>\n",
       "      <th></th>\n",
       "      <th></th>\n",
       "      <th></th>\n",
       "    </tr>\n",
       "  </thead>\n",
       "  <tbody>\n",
       "    <tr>\n",
       "      <th>640</th>\n",
       "      <td>720.300</td>\n",
       "      <td>0.00</td>\n",
       "      <td>0.00</td>\n",
       "      <td>638.53</td>\n",
       "      <td>95.044148</td>\n",
       "      <td>10.257588</td>\n",
       "    </tr>\n",
       "    <tr>\n",
       "      <th>680</th>\n",
       "      <td>843.291</td>\n",
       "      <td>0.00</td>\n",
       "      <td>0.00</td>\n",
       "      <td>678.27</td>\n",
       "      <td>70.000587</td>\n",
       "      <td>8.366666</td>\n",
       "    </tr>\n",
       "    <tr>\n",
       "      <th>720</th>\n",
       "      <td>915.812</td>\n",
       "      <td>0.00</td>\n",
       "      <td>0.00</td>\n",
       "      <td>717.46</td>\n",
       "      <td>52.995643</td>\n",
       "      <td>7.279650</td>\n",
       "    </tr>\n",
       "    <tr>\n",
       "      <th>760</th>\n",
       "      <td>835.297</td>\n",
       "      <td>0.00</td>\n",
       "      <td>0.00</td>\n",
       "      <td>757.30</td>\n",
       "      <td>73.245267</td>\n",
       "      <td>10.505703</td>\n",
       "    </tr>\n",
       "    <tr>\n",
       "      <th>800</th>\n",
       "      <td>824.537</td>\n",
       "      <td>0.00</td>\n",
       "      <td>0.00</td>\n",
       "      <td>797.50</td>\n",
       "      <td>111.037013</td>\n",
       "      <td>11.674993</td>\n",
       "    </tr>\n",
       "    <tr>\n",
       "      <th>840</th>\n",
       "      <td>881.081</td>\n",
       "      <td>0.00</td>\n",
       "      <td>0.00</td>\n",
       "      <td>837.05</td>\n",
       "      <td>90.875568</td>\n",
       "      <td>10.655446</td>\n",
       "    </tr>\n",
       "    <tr>\n",
       "      <th>860</th>\n",
       "      <td>807.390</td>\n",
       "      <td>0.00</td>\n",
       "      <td>0.00</td>\n",
       "      <td>857.92</td>\n",
       "      <td>28.861679</td>\n",
       "      <td>5.833231</td>\n",
       "    </tr>\n",
       "    <tr>\n",
       "      <th>880</th>\n",
       "      <td>964.901</td>\n",
       "      <td>0.00</td>\n",
       "      <td>0.00</td>\n",
       "      <td>878.86</td>\n",
       "      <td>14.047477</td>\n",
       "      <td>3.932131</td>\n",
       "    </tr>\n",
       "    <tr>\n",
       "      <th>960</th>\n",
       "      <td>6550.538</td>\n",
       "      <td>49.51</td>\n",
       "      <td>45.72</td>\n",
       "      <td>948.52</td>\n",
       "      <td>36.726357</td>\n",
       "      <td>7.358029</td>\n",
       "    </tr>\n",
       "  </tbody>\n",
       "</table>\n",
       "</div>"
      ],
      "text/plain": [
       "           lum  dEmin  dEmax   Emean        Nsig      dNsig\n",
       "name                                                       \n",
       "640    720.300   0.00   0.00  638.53   95.044148  10.257588\n",
       "680    843.291   0.00   0.00  678.27   70.000587   8.366666\n",
       "720    915.812   0.00   0.00  717.46   52.995643   7.279650\n",
       "760    835.297   0.00   0.00  757.30   73.245267  10.505703\n",
       "800    824.537   0.00   0.00  797.50  111.037013  11.674993\n",
       "840    881.081   0.00   0.00  837.05   90.875568  10.655446\n",
       "860    807.390   0.00   0.00  857.92   28.861679   5.833231\n",
       "880    964.901   0.00   0.00  878.86   14.047477   3.932131\n",
       "960   6550.538  49.51  45.72  948.52   36.726357   7.358029"
      ]
     },
     "execution_count": 264,
     "metadata": {},
     "output_type": "execute_result"
    }
   ],
   "source": [
    "dataN = data_info.join(dataN, how='inner')\n",
    "dataN"
   ]
  },
  {
   "cell_type": "code",
   "execution_count": 265,
   "metadata": {},
   "outputs": [
    {
     "name": "stdout",
     "output_type": "stream",
     "text": [
      "Good. 9 rows\n"
     ]
    }
   ],
   "source": [
    "check_foo(dataN, fit_frame)"
   ]
  },
  {
   "cell_type": "markdown",
   "metadata": {},
   "source": [
    "OK, save it"
   ]
  },
  {
   "cell_type": "code",
   "execution_count": 266,
   "metadata": {},
   "outputs": [],
   "source": [
    "dataN.to_csv(f'../outputs/{year}/tables/signal_table{year}.csv', float_format='%.2f')"
   ]
  },
  {
   "cell_type": "markdown",
   "metadata": {},
   "source": [
    "Ok, now about triggers"
   ]
  },
  {
   "cell_type": "code",
   "execution_count": 267,
   "metadata": {
    "scrolled": true
   },
   "outputs": [],
   "source": [
    "triggers = final_data[['trigger','name']].set_index('name')\n",
    "triggers = triggers.assign(one = 1);"
   ]
  },
  {
   "cell_type": "code",
   "execution_count": 268,
   "metadata": {},
   "outputs": [
    {
     "data": {
      "text/html": [
       "<div>\n",
       "<style scoped>\n",
       "    .dataframe tbody tr th:only-of-type {\n",
       "        vertical-align: middle;\n",
       "    }\n",
       "\n",
       "    .dataframe tbody tr th {\n",
       "        vertical-align: top;\n",
       "    }\n",
       "\n",
       "    .dataframe thead th {\n",
       "        text-align: right;\n",
       "    }\n",
       "</style>\n",
       "<table border=\"1\" class=\"dataframe\">\n",
       "  <thead>\n",
       "    <tr style=\"text-align: right;\">\n",
       "      <th></th>\n",
       "      <th>trigger</th>\n",
       "      <th>one</th>\n",
       "    </tr>\n",
       "    <tr>\n",
       "      <th>name</th>\n",
       "      <th></th>\n",
       "      <th></th>\n",
       "    </tr>\n",
       "  </thead>\n",
       "  <tbody>\n",
       "    <tr>\n",
       "      <th>640</th>\n",
       "      <td>0</td>\n",
       "      <td>1</td>\n",
       "    </tr>\n",
       "    <tr>\n",
       "      <th>640</th>\n",
       "      <td>0</td>\n",
       "      <td>1</td>\n",
       "    </tr>\n",
       "    <tr>\n",
       "      <th>640</th>\n",
       "      <td>2</td>\n",
       "      <td>1</td>\n",
       "    </tr>\n",
       "    <tr>\n",
       "      <th>640</th>\n",
       "      <td>0</td>\n",
       "      <td>1</td>\n",
       "    </tr>\n",
       "    <tr>\n",
       "      <th>640</th>\n",
       "      <td>0</td>\n",
       "      <td>1</td>\n",
       "    </tr>\n",
       "    <tr>\n",
       "      <th>...</th>\n",
       "      <td>...</td>\n",
       "      <td>...</td>\n",
       "    </tr>\n",
       "    <tr>\n",
       "      <th>960</th>\n",
       "      <td>0</td>\n",
       "      <td>1</td>\n",
       "    </tr>\n",
       "    <tr>\n",
       "      <th>960</th>\n",
       "      <td>0</td>\n",
       "      <td>1</td>\n",
       "    </tr>\n",
       "    <tr>\n",
       "      <th>960</th>\n",
       "      <td>0</td>\n",
       "      <td>1</td>\n",
       "    </tr>\n",
       "    <tr>\n",
       "      <th>960</th>\n",
       "      <td>0</td>\n",
       "      <td>1</td>\n",
       "    </tr>\n",
       "    <tr>\n",
       "      <th>960</th>\n",
       "      <td>2</td>\n",
       "      <td>1</td>\n",
       "    </tr>\n",
       "  </tbody>\n",
       "</table>\n",
       "<p>629 rows × 2 columns</p>\n",
       "</div>"
      ],
      "text/plain": [
       "      trigger  one\n",
       "name              \n",
       "640         0    1\n",
       "640         0    1\n",
       "640         2    1\n",
       "640         0    1\n",
       "640         0    1\n",
       "...       ...  ...\n",
       "960         0    1\n",
       "960         0    1\n",
       "960         0    1\n",
       "960         0    1\n",
       "960         2    1\n",
       "\n",
       "[629 rows x 2 columns]"
      ]
     },
     "execution_count": 268,
     "metadata": {},
     "output_type": "execute_result"
    }
   ],
   "source": [
    "triggers"
   ]
  },
  {
   "cell_type": "code",
   "execution_count": 269,
   "metadata": {},
   "outputs": [
    {
     "name": "stdout",
     "output_type": "stream",
     "text": [
      "Good. 629 rows\n"
     ]
    }
   ],
   "source": [
    "check_foo(triggers, final_data)"
   ]
  },
  {
   "cell_type": "code",
   "execution_count": 270,
   "metadata": {},
   "outputs": [],
   "source": [
    "triggers = pd.pivot_table(triggers, values='one', columns=['trigger'], index='name', aggfunc=np.sum).fillna(0)"
   ]
  },
  {
   "cell_type": "code",
   "execution_count": 271,
   "metadata": {},
   "outputs": [],
   "source": [
    "triggers.columns = ['TF', 'CF', 'TC']"
   ]
  },
  {
   "cell_type": "code",
   "execution_count": 272,
   "metadata": {},
   "outputs": [
    {
     "data": {
      "text/html": [
       "<div>\n",
       "<style scoped>\n",
       "    .dataframe tbody tr th:only-of-type {\n",
       "        vertical-align: middle;\n",
       "    }\n",
       "\n",
       "    .dataframe tbody tr th {\n",
       "        vertical-align: top;\n",
       "    }\n",
       "\n",
       "    .dataframe thead th {\n",
       "        text-align: right;\n",
       "    }\n",
       "</style>\n",
       "<table border=\"1\" class=\"dataframe\">\n",
       "  <thead>\n",
       "    <tr style=\"text-align: right;\">\n",
       "      <th></th>\n",
       "      <th>TF</th>\n",
       "      <th>CF</th>\n",
       "      <th>TC</th>\n",
       "    </tr>\n",
       "    <tr>\n",
       "      <th>name</th>\n",
       "      <th></th>\n",
       "      <th></th>\n",
       "      <th></th>\n",
       "    </tr>\n",
       "  </thead>\n",
       "  <tbody>\n",
       "    <tr>\n",
       "      <th>640</th>\n",
       "      <td>66.0</td>\n",
       "      <td>0.0</td>\n",
       "      <td>31.0</td>\n",
       "    </tr>\n",
       "    <tr>\n",
       "      <th>680</th>\n",
       "      <td>47.0</td>\n",
       "      <td>2.0</td>\n",
       "      <td>21.0</td>\n",
       "    </tr>\n",
       "    <tr>\n",
       "      <th>720</th>\n",
       "      <td>33.0</td>\n",
       "      <td>2.0</td>\n",
       "      <td>18.0</td>\n",
       "    </tr>\n",
       "    <tr>\n",
       "      <th>760</th>\n",
       "      <td>50.0</td>\n",
       "      <td>1.0</td>\n",
       "      <td>25.0</td>\n",
       "    </tr>\n",
       "    <tr>\n",
       "      <th>800</th>\n",
       "      <td>67.0</td>\n",
       "      <td>2.0</td>\n",
       "      <td>47.0</td>\n",
       "    </tr>\n",
       "  </tbody>\n",
       "</table>\n",
       "</div>"
      ],
      "text/plain": [
       "        TF   CF    TC\n",
       "name                 \n",
       "640   66.0  0.0  31.0\n",
       "680   47.0  2.0  21.0\n",
       "720   33.0  2.0  18.0\n",
       "760   50.0  1.0  25.0\n",
       "800   67.0  2.0  47.0"
      ]
     },
     "execution_count": 272,
     "metadata": {},
     "output_type": "execute_result"
    }
   ],
   "source": [
    "triggers.head()"
   ]
  },
  {
   "cell_type": "code",
   "execution_count": 273,
   "metadata": {},
   "outputs": [],
   "source": [
    "def variance(k, n):\n",
    "    return (k+1)*(k+2)/(n+2)/(n+3) - (k+1)**2/(n+2)**2"
   ]
  },
  {
   "cell_type": "code",
   "execution_count": 274,
   "metadata": {},
   "outputs": [],
   "source": [
    "triggers['eTF'] = (triggers['TC'] + 1)/(triggers['CF'] + triggers['TC'] + 2)\n",
    "triggers['eCF'] = (triggers['TC'] + 1)/(triggers['TF'] + triggers['TC'] + 2)\n",
    "triggers['TrigEff'] = 1 - (1-triggers['eTF'])*(1-triggers['eCF'])\n",
    "\n",
    "triggers['vTF'] = np.sqrt( variance(triggers['TC'], triggers['CF'] + triggers['TC']) )\n",
    "triggers['vCF'] = np.sqrt( variance(triggers['TC'], triggers['TF'] + triggers['TC']) )\n",
    "triggers['TrigErr'] = np.sqrt( np.square((1-triggers['eTF'])*triggers['vCF']) + \n",
    "                              np.square((1-triggers['eCF'])*triggers['vTF']) )"
   ]
  },
  {
   "cell_type": "markdown",
   "metadata": {},
   "source": [
    "OK, trigers have been got"
   ]
  },
  {
   "cell_type": "code",
   "execution_count": 275,
   "metadata": {},
   "outputs": [
    {
     "name": "stdout",
     "output_type": "stream",
     "text": [
      "Good. 9 rows\n"
     ]
    }
   ],
   "source": [
    "check_foo(triggers, dataN)"
   ]
  },
  {
   "cell_type": "code",
   "execution_count": 276,
   "metadata": {},
   "outputs": [],
   "source": [
    "triggers.to_csv(f'../outputs/{year}/tables/triggers{year}.csv', float_format='%.4f')"
   ]
  },
  {
   "cell_type": "code",
   "execution_count": 277,
   "metadata": {},
   "outputs": [
    {
     "data": {
      "text/html": [
       "<div>\n",
       "<style scoped>\n",
       "    .dataframe tbody tr th:only-of-type {\n",
       "        vertical-align: middle;\n",
       "    }\n",
       "\n",
       "    .dataframe tbody tr th {\n",
       "        vertical-align: top;\n",
       "    }\n",
       "\n",
       "    .dataframe thead th {\n",
       "        text-align: right;\n",
       "    }\n",
       "</style>\n",
       "<table border=\"1\" class=\"dataframe\">\n",
       "  <thead>\n",
       "    <tr style=\"text-align: right;\">\n",
       "      <th></th>\n",
       "      <th>TF</th>\n",
       "      <th>CF</th>\n",
       "      <th>TC</th>\n",
       "      <th>eTF</th>\n",
       "      <th>eCF</th>\n",
       "      <th>TrigEff</th>\n",
       "      <th>vTF</th>\n",
       "      <th>vCF</th>\n",
       "      <th>TrigErr</th>\n",
       "    </tr>\n",
       "    <tr>\n",
       "      <th>name</th>\n",
       "      <th></th>\n",
       "      <th></th>\n",
       "      <th></th>\n",
       "      <th></th>\n",
       "      <th></th>\n",
       "      <th></th>\n",
       "      <th></th>\n",
       "      <th></th>\n",
       "      <th></th>\n",
       "    </tr>\n",
       "  </thead>\n",
       "  <tbody>\n",
       "    <tr>\n",
       "      <th>640</th>\n",
       "      <td>66.0</td>\n",
       "      <td>0.0</td>\n",
       "      <td>31.0</td>\n",
       "      <td>0.969697</td>\n",
       "      <td>0.323232</td>\n",
       "      <td>0.979492</td>\n",
       "      <td>0.029398</td>\n",
       "      <td>0.046771</td>\n",
       "      <td>0.019946</td>\n",
       "    </tr>\n",
       "    <tr>\n",
       "      <th>680</th>\n",
       "      <td>47.0</td>\n",
       "      <td>2.0</td>\n",
       "      <td>21.0</td>\n",
       "      <td>0.880000</td>\n",
       "      <td>0.314286</td>\n",
       "      <td>0.917714</td>\n",
       "      <td>0.063730</td>\n",
       "      <td>0.055094</td>\n",
       "      <td>0.044198</td>\n",
       "    </tr>\n",
       "    <tr>\n",
       "      <th>720</th>\n",
       "      <td>33.0</td>\n",
       "      <td>2.0</td>\n",
       "      <td>18.0</td>\n",
       "      <td>0.863636</td>\n",
       "      <td>0.358491</td>\n",
       "      <td>0.912521</td>\n",
       "      <td>0.071557</td>\n",
       "      <td>0.065259</td>\n",
       "      <td>0.046759</td>\n",
       "    </tr>\n",
       "    <tr>\n",
       "      <th>760</th>\n",
       "      <td>50.0</td>\n",
       "      <td>1.0</td>\n",
       "      <td>25.0</td>\n",
       "      <td>0.928571</td>\n",
       "      <td>0.337662</td>\n",
       "      <td>0.952690</td>\n",
       "      <td>0.047824</td>\n",
       "      <td>0.053547</td>\n",
       "      <td>0.031906</td>\n",
       "    </tr>\n",
       "    <tr>\n",
       "      <th>800</th>\n",
       "      <td>67.0</td>\n",
       "      <td>2.0</td>\n",
       "      <td>47.0</td>\n",
       "      <td>0.941176</td>\n",
       "      <td>0.413793</td>\n",
       "      <td>0.965517</td>\n",
       "      <td>0.032629</td>\n",
       "      <td>0.045533</td>\n",
       "      <td>0.019314</td>\n",
       "    </tr>\n",
       "    <tr>\n",
       "      <th>840</th>\n",
       "      <td>53.0</td>\n",
       "      <td>2.0</td>\n",
       "      <td>41.0</td>\n",
       "      <td>0.933333</td>\n",
       "      <td>0.437500</td>\n",
       "      <td>0.962500</td>\n",
       "      <td>0.036778</td>\n",
       "      <td>0.050369</td>\n",
       "      <td>0.020959</td>\n",
       "    </tr>\n",
       "    <tr>\n",
       "      <th>860</th>\n",
       "      <td>17.0</td>\n",
       "      <td>4.0</td>\n",
       "      <td>13.0</td>\n",
       "      <td>0.736842</td>\n",
       "      <td>0.437500</td>\n",
       "      <td>0.851974</td>\n",
       "      <td>0.098465</td>\n",
       "      <td>0.086356</td>\n",
       "      <td>0.059867</td>\n",
       "    </tr>\n",
       "    <tr>\n",
       "      <th>880</th>\n",
       "      <td>9.0</td>\n",
       "      <td>0.0</td>\n",
       "      <td>8.0</td>\n",
       "      <td>0.900000</td>\n",
       "      <td>0.473684</td>\n",
       "      <td>0.947368</td>\n",
       "      <td>0.090453</td>\n",
       "      <td>0.111648</td>\n",
       "      <td>0.048899</td>\n",
       "    </tr>\n",
       "    <tr>\n",
       "      <th>960</th>\n",
       "      <td>34.0</td>\n",
       "      <td>10.0</td>\n",
       "      <td>26.0</td>\n",
       "      <td>0.710526</td>\n",
       "      <td>0.435484</td>\n",
       "      <td>0.836587</td>\n",
       "      <td>0.072621</td>\n",
       "      <td>0.062467</td>\n",
       "      <td>0.044807</td>\n",
       "    </tr>\n",
       "  </tbody>\n",
       "</table>\n",
       "</div>"
      ],
      "text/plain": [
       "        TF    CF    TC       eTF       eCF   TrigEff       vTF       vCF  \\\n",
       "name                                                                       \n",
       "640   66.0   0.0  31.0  0.969697  0.323232  0.979492  0.029398  0.046771   \n",
       "680   47.0   2.0  21.0  0.880000  0.314286  0.917714  0.063730  0.055094   \n",
       "720   33.0   2.0  18.0  0.863636  0.358491  0.912521  0.071557  0.065259   \n",
       "760   50.0   1.0  25.0  0.928571  0.337662  0.952690  0.047824  0.053547   \n",
       "800   67.0   2.0  47.0  0.941176  0.413793  0.965517  0.032629  0.045533   \n",
       "840   53.0   2.0  41.0  0.933333  0.437500  0.962500  0.036778  0.050369   \n",
       "860   17.0   4.0  13.0  0.736842  0.437500  0.851974  0.098465  0.086356   \n",
       "880    9.0   0.0   8.0  0.900000  0.473684  0.947368  0.090453  0.111648   \n",
       "960   34.0  10.0  26.0  0.710526  0.435484  0.836587  0.072621  0.062467   \n",
       "\n",
       "       TrigErr  \n",
       "name            \n",
       "640   0.019946  \n",
       "680   0.044198  \n",
       "720   0.046759  \n",
       "760   0.031906  \n",
       "800   0.019314  \n",
       "840   0.020959  \n",
       "860   0.059867  \n",
       "880   0.048899  \n",
       "960   0.044807  "
      ]
     },
     "execution_count": 277,
     "metadata": {},
     "output_type": "execute_result"
    }
   ],
   "source": [
    "triggers"
   ]
  },
  {
   "cell_type": "code",
   "execution_count": null,
   "metadata": {},
   "outputs": [],
   "source": []
  },
  {
   "cell_type": "markdown",
   "metadata": {},
   "source": [
    "### Check triggers"
   ]
  },
  {
   "cell_type": "code",
   "execution_count": 229,
   "metadata": {},
   "outputs": [],
   "source": [
    "trig_data = pd.read_csv('../outputs/11/tables/triggers11.csv')"
   ]
  },
  {
   "cell_type": "code",
   "execution_count": 230,
   "metadata": {
    "scrolled": false
   },
   "outputs": [
    {
     "data": {
      "text/html": [
       "<div>\n",
       "<style scoped>\n",
       "    .dataframe tbody tr th:only-of-type {\n",
       "        vertical-align: middle;\n",
       "    }\n",
       "\n",
       "    .dataframe tbody tr th {\n",
       "        vertical-align: top;\n",
       "    }\n",
       "\n",
       "    .dataframe thead th {\n",
       "        text-align: right;\n",
       "    }\n",
       "</style>\n",
       "<table border=\"1\" class=\"dataframe\">\n",
       "  <thead>\n",
       "    <tr style=\"text-align: right;\">\n",
       "      <th></th>\n",
       "      <th>name</th>\n",
       "      <th>TF</th>\n",
       "      <th>CF</th>\n",
       "      <th>TC</th>\n",
       "      <th>eTF</th>\n",
       "      <th>eCF</th>\n",
       "      <th>TrigEff</th>\n",
       "      <th>vTF</th>\n",
       "      <th>vCF</th>\n",
       "      <th>TrigErr</th>\n",
       "    </tr>\n",
       "  </thead>\n",
       "  <tbody>\n",
       "    <tr>\n",
       "      <th>0</th>\n",
       "      <td>525.0</td>\n",
       "      <td>319.0</td>\n",
       "      <td>384.0</td>\n",
       "      <td>154.0</td>\n",
       "      <td>0.29</td>\n",
       "      <td>0.33</td>\n",
       "      <td>0.52</td>\n",
       "      <td>0.02</td>\n",
       "      <td>0.02</td>\n",
       "      <td>0.02</td>\n",
       "    </tr>\n",
       "    <tr>\n",
       "      <th>1</th>\n",
       "      <td>537.5</td>\n",
       "      <td>510.0</td>\n",
       "      <td>20.0</td>\n",
       "      <td>393.0</td>\n",
       "      <td>0.95</td>\n",
       "      <td>0.44</td>\n",
       "      <td>0.97</td>\n",
       "      <td>0.01</td>\n",
       "      <td>0.02</td>\n",
       "      <td>0.01</td>\n",
       "    </tr>\n",
       "    <tr>\n",
       "      <th>2</th>\n",
       "      <td>550.0</td>\n",
       "      <td>235.0</td>\n",
       "      <td>62.0</td>\n",
       "      <td>103.0</td>\n",
       "      <td>0.62</td>\n",
       "      <td>0.31</td>\n",
       "      <td>0.74</td>\n",
       "      <td>0.04</td>\n",
       "      <td>0.02</td>\n",
       "      <td>0.03</td>\n",
       "    </tr>\n",
       "    <tr>\n",
       "      <th>3</th>\n",
       "      <td>562.5</td>\n",
       "      <td>237.0</td>\n",
       "      <td>9.0</td>\n",
       "      <td>170.0</td>\n",
       "      <td>0.94</td>\n",
       "      <td>0.42</td>\n",
       "      <td>0.97</td>\n",
       "      <td>0.02</td>\n",
       "      <td>0.02</td>\n",
       "      <td>0.01</td>\n",
       "    </tr>\n",
       "    <tr>\n",
       "      <th>4</th>\n",
       "      <td>575.0</td>\n",
       "      <td>97.0</td>\n",
       "      <td>27.0</td>\n",
       "      <td>45.0</td>\n",
       "      <td>0.62</td>\n",
       "      <td>0.32</td>\n",
       "      <td>0.74</td>\n",
       "      <td>0.06</td>\n",
       "      <td>0.04</td>\n",
       "      <td>0.04</td>\n",
       "    </tr>\n",
       "    <tr>\n",
       "      <th>5</th>\n",
       "      <td>587.5</td>\n",
       "      <td>107.0</td>\n",
       "      <td>4.0</td>\n",
       "      <td>76.0</td>\n",
       "      <td>0.94</td>\n",
       "      <td>0.42</td>\n",
       "      <td>0.96</td>\n",
       "      <td>0.03</td>\n",
       "      <td>0.04</td>\n",
       "      <td>0.02</td>\n",
       "    </tr>\n",
       "    <tr>\n",
       "      <th>6</th>\n",
       "      <td>600.0</td>\n",
       "      <td>45.0</td>\n",
       "      <td>25.0</td>\n",
       "      <td>27.0</td>\n",
       "      <td>0.52</td>\n",
       "      <td>0.38</td>\n",
       "      <td>0.70</td>\n",
       "      <td>0.07</td>\n",
       "      <td>0.06</td>\n",
       "      <td>0.05</td>\n",
       "    </tr>\n",
       "    <tr>\n",
       "      <th>7</th>\n",
       "      <td>612.5</td>\n",
       "      <td>75.0</td>\n",
       "      <td>4.0</td>\n",
       "      <td>52.0</td>\n",
       "      <td>0.91</td>\n",
       "      <td>0.41</td>\n",
       "      <td>0.95</td>\n",
       "      <td>0.04</td>\n",
       "      <td>0.04</td>\n",
       "      <td>0.02</td>\n",
       "    </tr>\n",
       "    <tr>\n",
       "      <th>8</th>\n",
       "      <td>625.0</td>\n",
       "      <td>27.0</td>\n",
       "      <td>3.0</td>\n",
       "      <td>13.0</td>\n",
       "      <td>0.78</td>\n",
       "      <td>0.33</td>\n",
       "      <td>0.85</td>\n",
       "      <td>0.10</td>\n",
       "      <td>0.07</td>\n",
       "      <td>0.07</td>\n",
       "    </tr>\n",
       "    <tr>\n",
       "      <th>9</th>\n",
       "      <td>637.5</td>\n",
       "      <td>49.0</td>\n",
       "      <td>0.0</td>\n",
       "      <td>27.0</td>\n",
       "      <td>0.97</td>\n",
       "      <td>0.36</td>\n",
       "      <td>0.98</td>\n",
       "      <td>0.03</td>\n",
       "      <td>0.05</td>\n",
       "      <td>0.02</td>\n",
       "    </tr>\n",
       "    <tr>\n",
       "      <th>10</th>\n",
       "      <td>650.0</td>\n",
       "      <td>32.0</td>\n",
       "      <td>3.0</td>\n",
       "      <td>17.0</td>\n",
       "      <td>0.82</td>\n",
       "      <td>0.35</td>\n",
       "      <td>0.88</td>\n",
       "      <td>0.08</td>\n",
       "      <td>0.07</td>\n",
       "      <td>0.05</td>\n",
       "    </tr>\n",
       "    <tr>\n",
       "      <th>11</th>\n",
       "      <td>662.5</td>\n",
       "      <td>18.0</td>\n",
       "      <td>0.0</td>\n",
       "      <td>17.0</td>\n",
       "      <td>0.95</td>\n",
       "      <td>0.49</td>\n",
       "      <td>0.97</td>\n",
       "      <td>0.05</td>\n",
       "      <td>0.08</td>\n",
       "      <td>0.03</td>\n",
       "    </tr>\n",
       "    <tr>\n",
       "      <th>12</th>\n",
       "      <td>675.0</td>\n",
       "      <td>24.0</td>\n",
       "      <td>3.0</td>\n",
       "      <td>10.0</td>\n",
       "      <td>0.73</td>\n",
       "      <td>0.31</td>\n",
       "      <td>0.81</td>\n",
       "      <td>0.11</td>\n",
       "      <td>0.08</td>\n",
       "      <td>0.08</td>\n",
       "    </tr>\n",
       "    <tr>\n",
       "      <th>13</th>\n",
       "      <td>687.5</td>\n",
       "      <td>6.0</td>\n",
       "      <td>0.0</td>\n",
       "      <td>2.0</td>\n",
       "      <td>0.75</td>\n",
       "      <td>0.30</td>\n",
       "      <td>0.82</td>\n",
       "      <td>0.19</td>\n",
       "      <td>0.14</td>\n",
       "      <td>0.14</td>\n",
       "    </tr>\n",
       "    <tr>\n",
       "      <th>14</th>\n",
       "      <td>700.0</td>\n",
       "      <td>12.0</td>\n",
       "      <td>1.0</td>\n",
       "      <td>9.0</td>\n",
       "      <td>0.83</td>\n",
       "      <td>0.43</td>\n",
       "      <td>0.91</td>\n",
       "      <td>0.10</td>\n",
       "      <td>0.10</td>\n",
       "      <td>0.06</td>\n",
       "    </tr>\n",
       "    <tr>\n",
       "      <th>15</th>\n",
       "      <td>712.5</td>\n",
       "      <td>14.0</td>\n",
       "      <td>0.0</td>\n",
       "      <td>13.0</td>\n",
       "      <td>0.93</td>\n",
       "      <td>0.48</td>\n",
       "      <td>0.97</td>\n",
       "      <td>0.06</td>\n",
       "      <td>0.09</td>\n",
       "      <td>0.03</td>\n",
       "    </tr>\n",
       "    <tr>\n",
       "      <th>16</th>\n",
       "      <td>725.0</td>\n",
       "      <td>9.0</td>\n",
       "      <td>0.0</td>\n",
       "      <td>10.0</td>\n",
       "      <td>0.92</td>\n",
       "      <td>0.52</td>\n",
       "      <td>0.96</td>\n",
       "      <td>0.08</td>\n",
       "      <td>0.11</td>\n",
       "      <td>0.04</td>\n",
       "    </tr>\n",
       "    <tr>\n",
       "      <th>17</th>\n",
       "      <td>737.5</td>\n",
       "      <td>17.0</td>\n",
       "      <td>1.0</td>\n",
       "      <td>6.0</td>\n",
       "      <td>0.78</td>\n",
       "      <td>0.28</td>\n",
       "      <td>0.84</td>\n",
       "      <td>0.13</td>\n",
       "      <td>0.09</td>\n",
       "      <td>0.10</td>\n",
       "    </tr>\n",
       "    <tr>\n",
       "      <th>18</th>\n",
       "      <td>750.0</td>\n",
       "      <td>20.0</td>\n",
       "      <td>0.0</td>\n",
       "      <td>16.0</td>\n",
       "      <td>0.94</td>\n",
       "      <td>0.45</td>\n",
       "      <td>0.97</td>\n",
       "      <td>0.05</td>\n",
       "      <td>0.08</td>\n",
       "      <td>0.03</td>\n",
       "    </tr>\n",
       "    <tr>\n",
       "      <th>19</th>\n",
       "      <td>762.5</td>\n",
       "      <td>32.0</td>\n",
       "      <td>0.0</td>\n",
       "      <td>21.0</td>\n",
       "      <td>0.96</td>\n",
       "      <td>0.40</td>\n",
       "      <td>0.97</td>\n",
       "      <td>0.04</td>\n",
       "      <td>0.07</td>\n",
       "      <td>0.03</td>\n",
       "    </tr>\n",
       "    <tr>\n",
       "      <th>20</th>\n",
       "      <td>775.0</td>\n",
       "      <td>24.0</td>\n",
       "      <td>3.0</td>\n",
       "      <td>30.0</td>\n",
       "      <td>0.89</td>\n",
       "      <td>0.55</td>\n",
       "      <td>0.95</td>\n",
       "      <td>0.05</td>\n",
       "      <td>0.07</td>\n",
       "      <td>0.02</td>\n",
       "    </tr>\n",
       "    <tr>\n",
       "      <th>21</th>\n",
       "      <td>787.5</td>\n",
       "      <td>28.0</td>\n",
       "      <td>1.0</td>\n",
       "      <td>43.0</td>\n",
       "      <td>0.96</td>\n",
       "      <td>0.60</td>\n",
       "      <td>0.98</td>\n",
       "      <td>0.03</td>\n",
       "      <td>0.06</td>\n",
       "      <td>0.01</td>\n",
       "    </tr>\n",
       "    <tr>\n",
       "      <th>22</th>\n",
       "      <td>800.0</td>\n",
       "      <td>32.0</td>\n",
       "      <td>2.0</td>\n",
       "      <td>34.0</td>\n",
       "      <td>0.92</td>\n",
       "      <td>0.51</td>\n",
       "      <td>0.96</td>\n",
       "      <td>0.04</td>\n",
       "      <td>0.06</td>\n",
       "      <td>0.02</td>\n",
       "    </tr>\n",
       "    <tr>\n",
       "      <th>23</th>\n",
       "      <td>812.5</td>\n",
       "      <td>30.0</td>\n",
       "      <td>1.0</td>\n",
       "      <td>41.0</td>\n",
       "      <td>0.95</td>\n",
       "      <td>0.58</td>\n",
       "      <td>0.98</td>\n",
       "      <td>0.03</td>\n",
       "      <td>0.06</td>\n",
       "      <td>0.01</td>\n",
       "    </tr>\n",
       "    <tr>\n",
       "      <th>24</th>\n",
       "      <td>825.0</td>\n",
       "      <td>23.0</td>\n",
       "      <td>3.0</td>\n",
       "      <td>19.0</td>\n",
       "      <td>0.83</td>\n",
       "      <td>0.45</td>\n",
       "      <td>0.91</td>\n",
       "      <td>0.07</td>\n",
       "      <td>0.07</td>\n",
       "      <td>0.04</td>\n",
       "    </tr>\n",
       "    <tr>\n",
       "      <th>25</th>\n",
       "      <td>837.5</td>\n",
       "      <td>34.0</td>\n",
       "      <td>2.0</td>\n",
       "      <td>31.0</td>\n",
       "      <td>0.91</td>\n",
       "      <td>0.48</td>\n",
       "      <td>0.96</td>\n",
       "      <td>0.05</td>\n",
       "      <td>0.06</td>\n",
       "      <td>0.02</td>\n",
       "    </tr>\n",
       "    <tr>\n",
       "      <th>26</th>\n",
       "      <td>850.0</td>\n",
       "      <td>7.0</td>\n",
       "      <td>0.0</td>\n",
       "      <td>18.0</td>\n",
       "      <td>0.95</td>\n",
       "      <td>0.70</td>\n",
       "      <td>0.99</td>\n",
       "      <td>0.05</td>\n",
       "      <td>0.09</td>\n",
       "      <td>0.01</td>\n",
       "    </tr>\n",
       "    <tr>\n",
       "      <th>27</th>\n",
       "      <td>862.5</td>\n",
       "      <td>14.0</td>\n",
       "      <td>0.0</td>\n",
       "      <td>12.0</td>\n",
       "      <td>0.93</td>\n",
       "      <td>0.46</td>\n",
       "      <td>0.96</td>\n",
       "      <td>0.07</td>\n",
       "      <td>0.09</td>\n",
       "      <td>0.04</td>\n",
       "    </tr>\n",
       "    <tr>\n",
       "      <th>28</th>\n",
       "      <td>880.0</td>\n",
       "      <td>12.0</td>\n",
       "      <td>0.0</td>\n",
       "      <td>9.0</td>\n",
       "      <td>0.91</td>\n",
       "      <td>0.43</td>\n",
       "      <td>0.95</td>\n",
       "      <td>0.08</td>\n",
       "      <td>0.10</td>\n",
       "      <td>0.05</td>\n",
       "    </tr>\n",
       "    <tr>\n",
       "      <th>29</th>\n",
       "      <td>910.0</td>\n",
       "      <td>10.0</td>\n",
       "      <td>1.0</td>\n",
       "      <td>11.0</td>\n",
       "      <td>0.86</td>\n",
       "      <td>0.52</td>\n",
       "      <td>0.93</td>\n",
       "      <td>0.09</td>\n",
       "      <td>0.10</td>\n",
       "      <td>0.05</td>\n",
       "    </tr>\n",
       "    <tr>\n",
       "      <th>30</th>\n",
       "      <td>950.0</td>\n",
       "      <td>14.0</td>\n",
       "      <td>1.0</td>\n",
       "      <td>10.0</td>\n",
       "      <td>0.85</td>\n",
       "      <td>0.42</td>\n",
       "      <td>0.91</td>\n",
       "      <td>0.10</td>\n",
       "      <td>0.10</td>\n",
       "      <td>0.06</td>\n",
       "    </tr>\n",
       "  </tbody>\n",
       "</table>\n",
       "</div>"
      ],
      "text/plain": [
       "     name     TF     CF     TC   eTF   eCF  TrigEff   vTF   vCF  TrigErr\n",
       "0   525.0  319.0  384.0  154.0  0.29  0.33     0.52  0.02  0.02     0.02\n",
       "1   537.5  510.0   20.0  393.0  0.95  0.44     0.97  0.01  0.02     0.01\n",
       "2   550.0  235.0   62.0  103.0  0.62  0.31     0.74  0.04  0.02     0.03\n",
       "3   562.5  237.0    9.0  170.0  0.94  0.42     0.97  0.02  0.02     0.01\n",
       "4   575.0   97.0   27.0   45.0  0.62  0.32     0.74  0.06  0.04     0.04\n",
       "5   587.5  107.0    4.0   76.0  0.94  0.42     0.96  0.03  0.04     0.02\n",
       "6   600.0   45.0   25.0   27.0  0.52  0.38     0.70  0.07  0.06     0.05\n",
       "7   612.5   75.0    4.0   52.0  0.91  0.41     0.95  0.04  0.04     0.02\n",
       "8   625.0   27.0    3.0   13.0  0.78  0.33     0.85  0.10  0.07     0.07\n",
       "9   637.5   49.0    0.0   27.0  0.97  0.36     0.98  0.03  0.05     0.02\n",
       "10  650.0   32.0    3.0   17.0  0.82  0.35     0.88  0.08  0.07     0.05\n",
       "11  662.5   18.0    0.0   17.0  0.95  0.49     0.97  0.05  0.08     0.03\n",
       "12  675.0   24.0    3.0   10.0  0.73  0.31     0.81  0.11  0.08     0.08\n",
       "13  687.5    6.0    0.0    2.0  0.75  0.30     0.82  0.19  0.14     0.14\n",
       "14  700.0   12.0    1.0    9.0  0.83  0.43     0.91  0.10  0.10     0.06\n",
       "15  712.5   14.0    0.0   13.0  0.93  0.48     0.97  0.06  0.09     0.03\n",
       "16  725.0    9.0    0.0   10.0  0.92  0.52     0.96  0.08  0.11     0.04\n",
       "17  737.5   17.0    1.0    6.0  0.78  0.28     0.84  0.13  0.09     0.10\n",
       "18  750.0   20.0    0.0   16.0  0.94  0.45     0.97  0.05  0.08     0.03\n",
       "19  762.5   32.0    0.0   21.0  0.96  0.40     0.97  0.04  0.07     0.03\n",
       "20  775.0   24.0    3.0   30.0  0.89  0.55     0.95  0.05  0.07     0.02\n",
       "21  787.5   28.0    1.0   43.0  0.96  0.60     0.98  0.03  0.06     0.01\n",
       "22  800.0   32.0    2.0   34.0  0.92  0.51     0.96  0.04  0.06     0.02\n",
       "23  812.5   30.0    1.0   41.0  0.95  0.58     0.98  0.03  0.06     0.01\n",
       "24  825.0   23.0    3.0   19.0  0.83  0.45     0.91  0.07  0.07     0.04\n",
       "25  837.5   34.0    2.0   31.0  0.91  0.48     0.96  0.05  0.06     0.02\n",
       "26  850.0    7.0    0.0   18.0  0.95  0.70     0.99  0.05  0.09     0.01\n",
       "27  862.5   14.0    0.0   12.0  0.93  0.46     0.96  0.07  0.09     0.04\n",
       "28  880.0   12.0    0.0    9.0  0.91  0.43     0.95  0.08  0.10     0.05\n",
       "29  910.0   10.0    1.0   11.0  0.86  0.52     0.93  0.09  0.10     0.05\n",
       "30  950.0   14.0    1.0   10.0  0.85  0.42     0.91  0.10  0.10     0.06"
      ]
     },
     "execution_count": 230,
     "metadata": {},
     "output_type": "execute_result"
    }
   ],
   "source": [
    "trig_data"
   ]
  },
  {
   "cell_type": "code",
   "execution_count": null,
   "metadata": {},
   "outputs": [],
   "source": []
  },
  {
   "cell_type": "code",
   "execution_count": null,
   "metadata": {},
   "outputs": [],
   "source": []
  }
 ],
 "metadata": {
  "kernelspec": {
   "display_name": "Python 3",
   "language": "python",
   "name": "python3"
  },
  "language_info": {
   "codemirror_mode": {
    "name": "ipython",
    "version": 3
   },
   "file_extension": ".py",
   "mimetype": "text/x-python",
   "name": "python",
   "nbconvert_exporter": "python",
   "pygments_lexer": "ipython3",
   "version": "3.7.5"
  }
 },
 "nbformat": 4,
 "nbformat_minor": 2
}
