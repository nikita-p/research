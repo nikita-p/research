{
 "cells": [
  {
   "cell_type": "markdown",
   "metadata": {},
   "source": [
    "# Analysis"
   ]
  },
  {
   "cell_type": "code",
   "execution_count": 1,
   "metadata": {},
   "outputs": [],
   "source": [
    "import uproot\n",
    "import numpy as np\n",
    "import pandas as pd\n",
    "import matplotlib.pyplot as plt\n",
    "import seaborn as sns\n",
    "import re\n",
    "%matplotlib inline"
   ]
  },
  {
   "cell_type": "code",
   "execution_count": 168,
   "metadata": {},
   "outputs": [],
   "source": [
    "sns.set(rc={'figure.figsize':(10,7)})\n",
    "plt.style.use('seaborn-whitegrid')"
   ]
  },
  {
   "cell_type": "code",
   "execution_count": 165,
   "metadata": {},
   "outputs": [],
   "source": [
    "year = '17'"
   ]
  },
  {
   "cell_type": "markdown",
   "metadata": {},
   "source": [
    "## Data preparation"
   ]
  },
  {
   "cell_type": "code",
   "execution_count": 166,
   "metadata": {},
   "outputs": [],
   "source": [
    "f = uproot.pandas.iterate(\"../outputs/\"+year+\"/trees/*.root\", \"t\", reportpath = True,\n",
    "                          branches=['beam_energy', 'mass', 'trigger', 'procedure'])"
   ]
  },
  {
   "cell_type": "code",
   "execution_count": 167,
   "metadata": {},
   "outputs": [],
   "source": [
    "dataRAW = pd.concat([j.assign(name=float(re.findall(r\"\\d+\\.\\d+\", path)[0])) for path,j in f])"
   ]
  },
  {
   "cell_type": "code",
   "execution_count": 169,
   "metadata": {},
   "outputs": [],
   "source": [
    "dataRAW.sort_values(by='name', ascending=True, inplace=True);"
   ]
  },
  {
   "cell_type": "markdown",
   "metadata": {},
   "source": [
    "Количество уникальных `name` в `data` должно совпадать с количеством точек в сезоне\n",
    "* 17 год: 34 точки\n",
    "* 19 год: 44 точки\n",
    "* моделирование: 38 точек"
   ]
  },
  {
   "cell_type": "code",
   "execution_count": 170,
   "metadata": {},
   "outputs": [
    {
     "name": "stdout",
     "output_type": "stream",
     "text": [
      "Checking: 34 different names in 17 season\n"
     ]
    }
   ],
   "source": [
    "print(\"Checking:\", len(dataRAW.name.unique()), 'different names in', year, 'season')"
   ]
  },
  {
   "cell_type": "markdown",
   "metadata": {},
   "source": [
    "Проверка типов полей датафрейма"
   ]
  },
  {
   "cell_type": "code",
   "execution_count": 171,
   "metadata": {},
   "outputs": [
    {
     "data": {
      "text/plain": [
       "beam_energy    float64\n",
       "mass           float64\n",
       "trigger          int32\n",
       "procedure        int32\n",
       "name           float64\n",
       "dtype: object"
      ]
     },
     "execution_count": 171,
     "metadata": {},
     "output_type": "execute_result"
    }
   ],
   "source": [
    "dataRAW.dtypes"
   ]
  },
  {
   "cell_type": "markdown",
   "metadata": {},
   "source": [
    "Проверка данных"
   ]
  },
  {
   "cell_type": "code",
   "execution_count": 172,
   "metadata": {},
   "outputs": [
    {
     "data": {
      "text/html": [
       "<div>\n",
       "<style scoped>\n",
       "    .dataframe tbody tr th:only-of-type {\n",
       "        vertical-align: middle;\n",
       "    }\n",
       "\n",
       "    .dataframe tbody tr th {\n",
       "        vertical-align: top;\n",
       "    }\n",
       "\n",
       "    .dataframe thead th {\n",
       "        text-align: right;\n",
       "    }\n",
       "</style>\n",
       "<table border=\"1\" class=\"dataframe\">\n",
       "  <thead>\n",
       "    <tr style=\"text-align: right;\">\n",
       "      <th></th>\n",
       "      <th>beam_energy</th>\n",
       "      <th>mass</th>\n",
       "      <th>trigger</th>\n",
       "      <th>procedure</th>\n",
       "      <th>name</th>\n",
       "    </tr>\n",
       "  </thead>\n",
       "  <tbody>\n",
       "    <tr>\n",
       "      <th>count</th>\n",
       "      <td>3208.000000</td>\n",
       "      <td>3208.000000</td>\n",
       "      <td>3208.000000</td>\n",
       "      <td>3208.000000</td>\n",
       "      <td>3208.000000</td>\n",
       "    </tr>\n",
       "    <tr>\n",
       "      <th>mean</th>\n",
       "      <td>826.169480</td>\n",
       "      <td>302.772685</td>\n",
       "      <td>1.489713</td>\n",
       "      <td>1.939526</td>\n",
       "      <td>826.382793</td>\n",
       "    </tr>\n",
       "    <tr>\n",
       "      <th>std</th>\n",
       "      <td>116.942585</td>\n",
       "      <td>243.067960</td>\n",
       "      <td>0.766394</td>\n",
       "      <td>0.645018</td>\n",
       "      <td>116.982732</td>\n",
       "    </tr>\n",
       "    <tr>\n",
       "      <th>min</th>\n",
       "      <td>641.018494</td>\n",
       "      <td>-1.000000</td>\n",
       "      <td>-1.000000</td>\n",
       "      <td>1.000000</td>\n",
       "      <td>641.000000</td>\n",
       "    </tr>\n",
       "    <tr>\n",
       "      <th>25%</th>\n",
       "      <td>724.939209</td>\n",
       "      <td>3.116568</td>\n",
       "      <td>1.000000</td>\n",
       "      <td>2.000000</td>\n",
       "      <td>725.000000</td>\n",
       "    </tr>\n",
       "    <tr>\n",
       "      <th>50%</th>\n",
       "      <td>839.471375</td>\n",
       "      <td>490.159897</td>\n",
       "      <td>2.000000</td>\n",
       "      <td>2.000000</td>\n",
       "      <td>840.000000</td>\n",
       "    </tr>\n",
       "    <tr>\n",
       "      <th>75%</th>\n",
       "      <td>938.176819</td>\n",
       "      <td>501.111031</td>\n",
       "      <td>2.000000</td>\n",
       "      <td>2.000000</td>\n",
       "      <td>938.300000</td>\n",
       "    </tr>\n",
       "    <tr>\n",
       "      <th>max</th>\n",
       "      <td>1003.312012</td>\n",
       "      <td>577.590027</td>\n",
       "      <td>2.000000</td>\n",
       "      <td>3.000000</td>\n",
       "      <td>1003.500000</td>\n",
       "    </tr>\n",
       "  </tbody>\n",
       "</table>\n",
       "</div>"
      ],
      "text/plain": [
       "       beam_energy         mass      trigger    procedure         name\n",
       "count  3208.000000  3208.000000  3208.000000  3208.000000  3208.000000\n",
       "mean    826.169480   302.772685     1.489713     1.939526   826.382793\n",
       "std     116.942585   243.067960     0.766394     0.645018   116.982732\n",
       "min     641.018494    -1.000000    -1.000000     1.000000   641.000000\n",
       "25%     724.939209     3.116568     1.000000     2.000000   725.000000\n",
       "50%     839.471375   490.159897     2.000000     2.000000   840.000000\n",
       "75%     938.176819   501.111031     2.000000     2.000000   938.300000\n",
       "max    1003.312012   577.590027     2.000000     3.000000  1003.500000"
      ]
     },
     "execution_count": 172,
     "metadata": {},
     "output_type": "execute_result"
    }
   ],
   "source": [
    "dataRAW.describe()"
   ]
  },
  {
   "cell_type": "markdown",
   "metadata": {},
   "source": [
    "Проверить триггер"
   ]
  },
  {
   "cell_type": "code",
   "execution_count": 173,
   "metadata": {},
   "outputs": [
    {
     "name": "stdout",
     "output_type": "stream",
     "text": [
      "Energy points with bad trigger:\n",
      " 939.6    1\n",
      "Name: name, dtype: int64\n"
     ]
    }
   ],
   "source": [
    "bad_trig = dataRAW.query('trigger<0')\n",
    "print('Energy points with bad trigger:\\n', bad_trig.name.value_counts())"
   ]
  },
  {
   "cell_type": "markdown",
   "metadata": {},
   "source": [
    "Проверить энергии"
   ]
  },
  {
   "cell_type": "code",
   "execution_count": 174,
   "metadata": {},
   "outputs": [
    {
     "name": "stdout",
     "output_type": "stream",
     "text": [
      "Bad energy records: 0\n"
     ]
    }
   ],
   "source": [
    "bad_en = dataRAW.query('beam_energy<0')\n",
    "print('Bad energy records:', bad_en.name.shape[0])"
   ]
  },
  {
   "cell_type": "markdown",
   "metadata": {},
   "source": [
    "Удалить события с плохим триггером и энергиями (не в моделировании)"
   ]
  },
  {
   "cell_type": "code",
   "execution_count": 175,
   "metadata": {},
   "outputs": [],
   "source": [
    "data = dataRAW if 'model' in year else dataRAW.query('trigger>-1&beam_energy>0')"
   ]
  },
  {
   "cell_type": "markdown",
   "metadata": {},
   "source": [
    "Оставить только массы внутри окна (450,550) и без процедуры kinfit"
   ]
  },
  {
   "cell_type": "code",
   "execution_count": 176,
   "metadata": {},
   "outputs": [],
   "source": [
    "data = data.query('mass>450&mass<550&procedure!=1')"
   ]
  },
  {
   "cell_type": "code",
   "execution_count": 177,
   "metadata": {},
   "outputs": [
    {
     "name": "stdout",
     "output_type": "stream",
     "text": [
      "1776 records left\n"
     ]
    }
   ],
   "source": [
    "print(data.shape[0], 'records left')"
   ]
  },
  {
   "cell_type": "markdown",
   "metadata": {},
   "source": [
    "Удалить ненужные столбцы"
   ]
  },
  {
   "cell_type": "code",
   "execution_count": 178,
   "metadata": {},
   "outputs": [],
   "source": [
    "data.drop('procedure', axis=1, inplace=True)"
   ]
  },
  {
   "cell_type": "code",
   "execution_count": 179,
   "metadata": {},
   "outputs": [
    {
     "data": {
      "text/html": [
       "<div>\n",
       "<style scoped>\n",
       "    .dataframe tbody tr th:only-of-type {\n",
       "        vertical-align: middle;\n",
       "    }\n",
       "\n",
       "    .dataframe tbody tr th {\n",
       "        vertical-align: top;\n",
       "    }\n",
       "\n",
       "    .dataframe thead th {\n",
       "        text-align: right;\n",
       "    }\n",
       "</style>\n",
       "<table border=\"1\" class=\"dataframe\">\n",
       "  <thead>\n",
       "    <tr style=\"text-align: right;\">\n",
       "      <th></th>\n",
       "      <th>beam_energy</th>\n",
       "      <th>mass</th>\n",
       "      <th>trigger</th>\n",
       "      <th>name</th>\n",
       "    </tr>\n",
       "  </thead>\n",
       "  <tbody>\n",
       "    <tr>\n",
       "      <th>333</th>\n",
       "      <td>641.018494</td>\n",
       "      <td>501.645905</td>\n",
       "      <td>2</td>\n",
       "      <td>641.0</td>\n",
       "    </tr>\n",
       "    <tr>\n",
       "      <th>363</th>\n",
       "      <td>641.018494</td>\n",
       "      <td>498.146912</td>\n",
       "      <td>2</td>\n",
       "      <td>641.0</td>\n",
       "    </tr>\n",
       "    <tr>\n",
       "      <th>362</th>\n",
       "      <td>641.018494</td>\n",
       "      <td>497.903320</td>\n",
       "      <td>2</td>\n",
       "      <td>641.0</td>\n",
       "    </tr>\n",
       "    <tr>\n",
       "      <th>361</th>\n",
       "      <td>641.018494</td>\n",
       "      <td>494.001068</td>\n",
       "      <td>2</td>\n",
       "      <td>641.0</td>\n",
       "    </tr>\n",
       "    <tr>\n",
       "      <th>360</th>\n",
       "      <td>641.018494</td>\n",
       "      <td>509.590729</td>\n",
       "      <td>0</td>\n",
       "      <td>641.0</td>\n",
       "    </tr>\n",
       "  </tbody>\n",
       "</table>\n",
       "</div>"
      ],
      "text/plain": [
       "     beam_energy        mass  trigger   name\n",
       "333   641.018494  501.645905        2  641.0\n",
       "363   641.018494  498.146912        2  641.0\n",
       "362   641.018494  497.903320        2  641.0\n",
       "361   641.018494  494.001068        2  641.0\n",
       "360   641.018494  509.590729        0  641.0"
      ]
     },
     "execution_count": 179,
     "metadata": {},
     "output_type": "execute_result"
    }
   ],
   "source": [
    "data.head()"
   ]
  },
  {
   "cell_type": "markdown",
   "metadata": {},
   "source": [
    "Добавить светимости"
   ]
  },
  {
   "cell_type": "code",
   "execution_count": 180,
   "metadata": {},
   "outputs": [],
   "source": [
    "lum = pd.read_csv(f'../inputs/{year}/lum.dat')\n",
    "lum.rename({'label': 'name'}, axis=1, inplace=True)\n",
    "if 'err' in lum.columns:\n",
    "    lum.drop(['err'], axis=1, inplace=True) #ошибка светимостей уходит в систематику\n",
    "    \n",
    "lum = lum.sort_values(by='name')"
   ]
  },
  {
   "cell_type": "code",
   "execution_count": 181,
   "metadata": {},
   "outputs": [
    {
     "data": {
      "text/html": [
       "<div>\n",
       "<style scoped>\n",
       "    .dataframe tbody tr th:only-of-type {\n",
       "        vertical-align: middle;\n",
       "    }\n",
       "\n",
       "    .dataframe tbody tr th {\n",
       "        vertical-align: top;\n",
       "    }\n",
       "\n",
       "    .dataframe thead th {\n",
       "        text-align: right;\n",
       "    }\n",
       "</style>\n",
       "<table border=\"1\" class=\"dataframe\">\n",
       "  <thead>\n",
       "    <tr style=\"text-align: right;\">\n",
       "      <th></th>\n",
       "      <th>name</th>\n",
       "      <th>lum</th>\n",
       "    </tr>\n",
       "  </thead>\n",
       "  <tbody>\n",
       "    <tr>\n",
       "      <th>29</th>\n",
       "      <td>960.0</td>\n",
       "      <td>1350.78</td>\n",
       "    </tr>\n",
       "    <tr>\n",
       "      <th>30</th>\n",
       "      <td>971.0</td>\n",
       "      <td>1775.70</td>\n",
       "    </tr>\n",
       "    <tr>\n",
       "      <th>31</th>\n",
       "      <td>981.0</td>\n",
       "      <td>1322.97</td>\n",
       "    </tr>\n",
       "    <tr>\n",
       "      <th>32</th>\n",
       "      <td>990.0</td>\n",
       "      <td>1246.80</td>\n",
       "    </tr>\n",
       "    <tr>\n",
       "      <th>33</th>\n",
       "      <td>1003.5</td>\n",
       "      <td>3788.26</td>\n",
       "    </tr>\n",
       "  </tbody>\n",
       "</table>\n",
       "</div>"
      ],
      "text/plain": [
       "      name      lum\n",
       "29   960.0  1350.78\n",
       "30   971.0  1775.70\n",
       "31   981.0  1322.97\n",
       "32   990.0  1246.80\n",
       "33  1003.5  3788.26"
      ]
     },
     "execution_count": 181,
     "metadata": {},
     "output_type": "execute_result"
    }
   ],
   "source": [
    "lum.tail()"
   ]
  },
  {
   "cell_type": "markdown",
   "metadata": {},
   "source": [
    "Проверить данные (хорошо, если числа совпадают)\n",
    "\n",
    "Если не совпадают, то проверить светимости на дубликаты"
   ]
  },
  {
   "cell_type": "code",
   "execution_count": 182,
   "metadata": {},
   "outputs": [
    {
     "name": "stdout",
     "output_type": "stream",
     "text": [
      "Records in  lum: 34\n",
      "Records in data: 34\n"
     ]
    }
   ],
   "source": [
    "print('Records in  lum:', lum.shape[0])\n",
    "print('Records in data:', data.name.unique().shape[0])"
   ]
  },
  {
   "cell_type": "markdown",
   "metadata": {},
   "source": [
    "Объединить данные и светимость"
   ]
  },
  {
   "cell_type": "code",
   "execution_count": 183,
   "metadata": {},
   "outputs": [],
   "source": [
    "data_prep = lum.merge(data, on='name')"
   ]
  },
  {
   "cell_type": "code",
   "execution_count": 184,
   "metadata": {},
   "outputs": [],
   "source": [
    "def check_foo(data1, data2):\n",
    "    if(data1.shape[0] == data2.shape[0]):\n",
    "        print(\"Good.\", data1.shape[0], 'rows' )\n",
    "    else:\n",
    "        print(\"WARNING. frames haven't equal shape |\", data1.shape[0], 'vs', data2.shape[0], 'records')\n",
    "    return"
   ]
  },
  {
   "cell_type": "code",
   "execution_count": 185,
   "metadata": {},
   "outputs": [
    {
     "name": "stdout",
     "output_type": "stream",
     "text": [
      "Good. 1776 rows\n"
     ]
    }
   ],
   "source": [
    "check_foo(data_prep, data)"
   ]
  },
  {
   "cell_type": "markdown",
   "metadata": {},
   "source": [
    "Смотрим, в каких именно точках не совпадают `data` и `lum`"
   ]
  },
  {
   "cell_type": "code",
   "execution_count": 186,
   "metadata": {},
   "outputs": [
    {
     "data": {
      "text/plain": [
       "set()"
      ]
     },
     "execution_count": 186,
     "metadata": {},
     "output_type": "execute_result"
    }
   ],
   "source": [
    "set1 = set(data.name.unique())\n",
    "set2 = set(lum.name.unique())\n",
    "\n",
    "(set1|set2).difference(set1&set2)"
   ]
  },
  {
   "cell_type": "markdown",
   "metadata": {},
   "source": [
    "### Pictures"
   ]
  },
  {
   "cell_type": "code",
   "execution_count": 187,
   "metadata": {},
   "outputs": [
    {
     "data": {
      "text/plain": [
       "<matplotlib.axes._subplots.AxesSubplot at 0x7f79824c5450>"
      ]
     },
     "execution_count": 187,
     "metadata": {},
     "output_type": "execute_result"
    },
    {
     "data": {
      "image/png": "[encoded data removed]",
      "text/plain": [
       "<Figure size 720x504 with 1 Axes>"
      ]
     },
     "metadata": {},
     "output_type": "display_data"
    }
   ],
   "source": [
    "lum.plot(x='name', y='lum')"
   ]
  },
  {
   "cell_type": "code",
   "execution_count": 188,
   "metadata": {},
   "outputs": [
    {
     "data": {
      "text/plain": [
       "<matplotlib.axes._subplots.AxesSubplot at 0x7f7982bf5c90>"
      ]
     },
     "execution_count": 188,
     "metadata": {},
     "output_type": "execute_result"
    },
    {
     "data": {
      "image/png": "[encoded data removed]",
      "text/plain": [
       "<Figure size 720x504 with 1 Axes>"
      ]
     },
     "metadata": {},
     "output_type": "display_data"
    }
   ],
   "source": [
    "data_prep.groupby('name').agg({'mass':np.size}).plot()"
   ]
  },
  {
   "cell_type": "code",
   "execution_count": 189,
   "metadata": {
    "scrolled": true
   },
   "outputs": [
    {
     "data": {
      "text/html": [
       "<div>\n",
       "<style scoped>\n",
       "    .dataframe tbody tr th:only-of-type {\n",
       "        vertical-align: middle;\n",
       "    }\n",
       "\n",
       "    .dataframe tbody tr th {\n",
       "        vertical-align: top;\n",
       "    }\n",
       "\n",
       "    .dataframe thead th {\n",
       "        text-align: right;\n",
       "    }\n",
       "</style>\n",
       "<table border=\"1\" class=\"dataframe\">\n",
       "  <thead>\n",
       "    <tr style=\"text-align: right;\">\n",
       "      <th></th>\n",
       "      <th>mass</th>\n",
       "    </tr>\n",
       "    <tr>\n",
       "      <th>name</th>\n",
       "      <th></th>\n",
       "    </tr>\n",
       "  </thead>\n",
       "  <tbody>\n",
       "    <tr>\n",
       "      <th>641.0</th>\n",
       "      <td>345.0</td>\n",
       "    </tr>\n",
       "    <tr>\n",
       "      <th>650.0</th>\n",
       "      <td>100.0</td>\n",
       "    </tr>\n",
       "    <tr>\n",
       "      <th>675.0</th>\n",
       "      <td>93.0</td>\n",
       "    </tr>\n",
       "    <tr>\n",
       "      <th>700.0</th>\n",
       "      <td>43.0</td>\n",
       "    </tr>\n",
       "    <tr>\n",
       "      <th>725.0</th>\n",
       "      <td>64.0</td>\n",
       "    </tr>\n",
       "    <tr>\n",
       "      <th>750.0</th>\n",
       "      <td>102.0</td>\n",
       "    </tr>\n",
       "    <tr>\n",
       "      <th>775.0</th>\n",
       "      <td>107.0</td>\n",
       "    </tr>\n",
       "    <tr>\n",
       "      <th>800.0</th>\n",
       "      <td>172.0</td>\n",
       "    </tr>\n",
       "    <tr>\n",
       "      <th>825.0</th>\n",
       "      <td>197.0</td>\n",
       "    </tr>\n",
       "    <tr>\n",
       "      <th>840.0</th>\n",
       "      <td>87.0</td>\n",
       "    </tr>\n",
       "    <tr>\n",
       "      <th>850.0</th>\n",
       "      <td>52.0</td>\n",
       "    </tr>\n",
       "    <tr>\n",
       "      <th>860.0</th>\n",
       "      <td>33.0</td>\n",
       "    </tr>\n",
       "    <tr>\n",
       "      <th>870.0</th>\n",
       "      <td>29.0</td>\n",
       "    </tr>\n",
       "    <tr>\n",
       "      <th>880.0</th>\n",
       "      <td>23.0</td>\n",
       "    </tr>\n",
       "    <tr>\n",
       "      <th>890.0</th>\n",
       "      <td>10.0</td>\n",
       "    </tr>\n",
       "    <tr>\n",
       "      <th>900.0</th>\n",
       "      <td>9.0</td>\n",
       "    </tr>\n",
       "    <tr>\n",
       "      <th>910.0</th>\n",
       "      <td>6.0</td>\n",
       "    </tr>\n",
       "    <tr>\n",
       "      <th>920.0</th>\n",
       "      <td>19.0</td>\n",
       "    </tr>\n",
       "    <tr>\n",
       "      <th>930.0</th>\n",
       "      <td>21.0</td>\n",
       "    </tr>\n",
       "    <tr>\n",
       "      <th>936.0</th>\n",
       "      <td>22.0</td>\n",
       "    </tr>\n",
       "    <tr>\n",
       "      <th>937.4</th>\n",
       "      <td>28.0</td>\n",
       "    </tr>\n",
       "    <tr>\n",
       "      <th>937.5</th>\n",
       "      <td>14.0</td>\n",
       "    </tr>\n",
       "    <tr>\n",
       "      <th>938.3</th>\n",
       "      <td>18.0</td>\n",
       "    </tr>\n",
       "    <tr>\n",
       "      <th>938.9</th>\n",
       "      <td>26.0</td>\n",
       "    </tr>\n",
       "    <tr>\n",
       "      <th>939.6</th>\n",
       "      <td>17.0</td>\n",
       "    </tr>\n",
       "    <tr>\n",
       "      <th>940.2</th>\n",
       "      <td>17.0</td>\n",
       "    </tr>\n",
       "    <tr>\n",
       "      <th>940.8</th>\n",
       "      <td>21.0</td>\n",
       "    </tr>\n",
       "    <tr>\n",
       "      <th>942.0</th>\n",
       "      <td>13.0</td>\n",
       "    </tr>\n",
       "    <tr>\n",
       "      <th>950.0</th>\n",
       "      <td>12.0</td>\n",
       "    </tr>\n",
       "    <tr>\n",
       "      <th>960.0</th>\n",
       "      <td>12.0</td>\n",
       "    </tr>\n",
       "    <tr>\n",
       "      <th>971.0</th>\n",
       "      <td>10.0</td>\n",
       "    </tr>\n",
       "    <tr>\n",
       "      <th>981.0</th>\n",
       "      <td>15.0</td>\n",
       "    </tr>\n",
       "    <tr>\n",
       "      <th>990.0</th>\n",
       "      <td>12.0</td>\n",
       "    </tr>\n",
       "    <tr>\n",
       "      <th>1003.5</th>\n",
       "      <td>27.0</td>\n",
       "    </tr>\n",
       "  </tbody>\n",
       "</table>\n",
       "</div>"
      ],
      "text/plain": [
       "         mass\n",
       "name         \n",
       "641.0   345.0\n",
       "650.0   100.0\n",
       "675.0    93.0\n",
       "700.0    43.0\n",
       "725.0    64.0\n",
       "750.0   102.0\n",
       "775.0   107.0\n",
       "800.0   172.0\n",
       "825.0   197.0\n",
       "840.0    87.0\n",
       "850.0    52.0\n",
       "860.0    33.0\n",
       "870.0    29.0\n",
       "880.0    23.0\n",
       "890.0    10.0\n",
       "900.0     9.0\n",
       "910.0     6.0\n",
       "920.0    19.0\n",
       "930.0    21.0\n",
       "936.0    22.0\n",
       "937.4    28.0\n",
       "937.5    14.0\n",
       "938.3    18.0\n",
       "938.9    26.0\n",
       "939.6    17.0\n",
       "940.2    17.0\n",
       "940.8    21.0\n",
       "942.0    13.0\n",
       "950.0    12.0\n",
       "960.0    12.0\n",
       "971.0    10.0\n",
       "981.0    15.0\n",
       "990.0    12.0\n",
       "1003.5   27.0"
      ]
     },
     "execution_count": 189,
     "metadata": {},
     "output_type": "execute_result"
    }
   ],
   "source": [
    "data_prep.groupby('name').agg({'mass':np.size})"
   ]
  },
  {
   "cell_type": "markdown",
   "metadata": {},
   "source": [
    "Слияние точек"
   ]
  },
  {
   "cell_type": "code",
   "execution_count": 190,
   "metadata": {},
   "outputs": [],
   "source": [
    "cnct = []\n",
    "if year=='11':\n",
    "    cnct = [([875., 887.5], 880), ([900., 912.5, 925.], 910), ([935., 945., 950., 962.5, 975., 987.5, 1000.], 950)] #11year\n",
    "if year=='12':\n",
    "    cnct = [([900., 920., 936., 950., 960., 970., 980., 990], 960)] #12 year\n",
    "if year=='17':\n",
    "    cnct = [([880., 890., 900., 910.], 900), ([920., 930., 936., 937.5], 935), \n",
    "            ([942., 950., 960., 971.], 960), ([981., 990, 1003.5],990)] #17 year\n",
    "if year=='19':\n",
    "    cnct = [([862.5, 875.0, 887.5, 900.0, 912.5, 925], 875),([936, 945.0, 950.0, 951.1, 955.0, 962.5], 955),\n",
    "            ([975., 978.0, 987.5], 980)] #19year"
   ]
  },
  {
   "cell_type": "code",
   "execution_count": 191,
   "metadata": {},
   "outputs": [],
   "source": [
    "for c in cnct:\n",
    "    data_prep.name.replace(c[0], c[1], inplace=True)"
   ]
  },
  {
   "cell_type": "markdown",
   "metadata": {},
   "source": [
    "OK, points have been merged"
   ]
  },
  {
   "cell_type": "code",
   "execution_count": 192,
   "metadata": {},
   "outputs": [
    {
     "data": {
      "text/html": [
       "<div>\n",
       "<style scoped>\n",
       "    .dataframe tbody tr th:only-of-type {\n",
       "        vertical-align: middle;\n",
       "    }\n",
       "\n",
       "    .dataframe tbody tr th {\n",
       "        vertical-align: top;\n",
       "    }\n",
       "\n",
       "    .dataframe thead th {\n",
       "        text-align: right;\n",
       "    }\n",
       "</style>\n",
       "<table border=\"1\" class=\"dataframe\">\n",
       "  <thead>\n",
       "    <tr style=\"text-align: right;\">\n",
       "      <th></th>\n",
       "      <th>name</th>\n",
       "      <th>lum</th>\n",
       "      <th>beam_energy</th>\n",
       "      <th>mass</th>\n",
       "      <th>trigger</th>\n",
       "    </tr>\n",
       "  </thead>\n",
       "  <tbody>\n",
       "    <tr>\n",
       "      <th>1771</th>\n",
       "      <td>990.0</td>\n",
       "      <td>3788.26</td>\n",
       "      <td>1003.312012</td>\n",
       "      <td>532.163147</td>\n",
       "      <td>2</td>\n",
       "    </tr>\n",
       "    <tr>\n",
       "      <th>1772</th>\n",
       "      <td>990.0</td>\n",
       "      <td>3788.26</td>\n",
       "      <td>1003.312012</td>\n",
       "      <td>504.815674</td>\n",
       "      <td>2</td>\n",
       "    </tr>\n",
       "    <tr>\n",
       "      <th>1773</th>\n",
       "      <td>990.0</td>\n",
       "      <td>3788.26</td>\n",
       "      <td>1003.312012</td>\n",
       "      <td>526.116394</td>\n",
       "      <td>2</td>\n",
       "    </tr>\n",
       "    <tr>\n",
       "      <th>1774</th>\n",
       "      <td>990.0</td>\n",
       "      <td>3788.26</td>\n",
       "      <td>1003.312012</td>\n",
       "      <td>541.355103</td>\n",
       "      <td>2</td>\n",
       "    </tr>\n",
       "    <tr>\n",
       "      <th>1775</th>\n",
       "      <td>990.0</td>\n",
       "      <td>3788.26</td>\n",
       "      <td>1003.312012</td>\n",
       "      <td>525.965332</td>\n",
       "      <td>2</td>\n",
       "    </tr>\n",
       "  </tbody>\n",
       "</table>\n",
       "</div>"
      ],
      "text/plain": [
       "       name      lum  beam_energy        mass  trigger\n",
       "1771  990.0  3788.26  1003.312012  532.163147        2\n",
       "1772  990.0  3788.26  1003.312012  504.815674        2\n",
       "1773  990.0  3788.26  1003.312012  526.116394        2\n",
       "1774  990.0  3788.26  1003.312012  541.355103        2\n",
       "1775  990.0  3788.26  1003.312012  525.965332        2"
      ]
     },
     "execution_count": 192,
     "metadata": {},
     "output_type": "execute_result"
    }
   ],
   "source": [
    "data_prep.tail()"
   ]
  },
  {
   "cell_type": "code",
   "execution_count": 193,
   "metadata": {},
   "outputs": [
    {
     "name": "stdout",
     "output_type": "stream",
     "text": [
      "Good. 1776 rows\n"
     ]
    }
   ],
   "source": [
    "check_foo(data_prep, data)"
   ]
  },
  {
   "cell_type": "markdown",
   "metadata": {},
   "source": [
    "### Пересчитать светимости в слитых точках"
   ]
  },
  {
   "cell_type": "code",
   "execution_count": 194,
   "metadata": {},
   "outputs": [],
   "source": [
    "data_prep['lume'] = data_prep.beam_energy*data_prep.lum"
   ]
  },
  {
   "cell_type": "markdown",
   "metadata": {},
   "source": [
    "Проверить правильность слияния"
   ]
  },
  {
   "cell_type": "code",
   "execution_count": 195,
   "metadata": {},
   "outputs": [
    {
     "data": {
      "text/html": [
       "<div>\n",
       "<style scoped>\n",
       "    .dataframe tbody tr th:only-of-type {\n",
       "        vertical-align: middle;\n",
       "    }\n",
       "\n",
       "    .dataframe tbody tr th {\n",
       "        vertical-align: top;\n",
       "    }\n",
       "\n",
       "    .dataframe thead th {\n",
       "        text-align: right;\n",
       "    }\n",
       "</style>\n",
       "<table border=\"1\" class=\"dataframe\">\n",
       "  <thead>\n",
       "    <tr style=\"text-align: right;\">\n",
       "      <th></th>\n",
       "      <th>lum</th>\n",
       "    </tr>\n",
       "    <tr>\n",
       "      <th>name</th>\n",
       "      <th></th>\n",
       "    </tr>\n",
       "  </thead>\n",
       "  <tbody>\n",
       "    <tr>\n",
       "      <th>900.0</th>\n",
       "      <td>4.0</td>\n",
       "    </tr>\n",
       "    <tr>\n",
       "      <th>935.0</th>\n",
       "      <td>4.0</td>\n",
       "    </tr>\n",
       "    <tr>\n",
       "      <th>960.0</th>\n",
       "      <td>4.0</td>\n",
       "    </tr>\n",
       "    <tr>\n",
       "      <th>990.0</th>\n",
       "      <td>3.0</td>\n",
       "    </tr>\n",
       "  </tbody>\n",
       "</table>\n",
       "</div>"
      ],
      "text/plain": [
       "       lum\n",
       "name      \n",
       "900.0  4.0\n",
       "935.0  4.0\n",
       "960.0  4.0\n",
       "990.0  3.0"
      ]
     },
     "execution_count": 195,
     "metadata": {},
     "output_type": "execute_result"
    }
   ],
   "source": [
    "#число в поле lum с количеством элементов в списке для слияния\n",
    "data_prep[['lum', 'name']].\\\n",
    "drop_duplicates(subset=['name','lum']).groupby('name').agg({'lum':np.size}).query('lum!=1')"
   ]
  },
  {
   "cell_type": "code",
   "execution_count": 196,
   "metadata": {},
   "outputs": [],
   "source": [
    "new_lum = data_prep[['beam_energy', 'lum', 'lume', 'name']].drop_duplicates(subset=['lum','name']).\\\n",
    "groupby('name').agg({'lume':[np.sum], 'lum':[np.sum], 'beam_energy':[np.min, np.max]})"
   ]
  },
  {
   "cell_type": "code",
   "execution_count": 197,
   "metadata": {},
   "outputs": [
    {
     "data": {
      "text/plain": [
       "(23, 4)"
      ]
     },
     "execution_count": 197,
     "metadata": {},
     "output_type": "execute_result"
    }
   ],
   "source": [
    "new_lum.shape"
   ]
  },
  {
   "cell_type": "code",
   "execution_count": 198,
   "metadata": {},
   "outputs": [],
   "source": [
    "new_lum['Emean'] = np.round( new_lum[('lume','sum')]/new_lum[('lum','sum')], 2)"
   ]
  },
  {
   "cell_type": "code",
   "execution_count": 199,
   "metadata": {},
   "outputs": [],
   "source": [
    "new_lum.columns = ['lume', 'lum', 'dEmin', 'dEmax', 'Emean']\n",
    "new_lum.drop('lume', axis=1, inplace=True)\n",
    "new_lum['dEmax'] = np.abs( np.round( new_lum.dEmax-new_lum.Emean, 2) )\n",
    "new_lum['dEmin'] = np.abs( np.round( new_lum.Emean - new_lum.dEmin, 2) )"
   ]
  },
  {
   "cell_type": "code",
   "execution_count": 200,
   "metadata": {},
   "outputs": [],
   "source": [
    "#data.loc[641.].beam_energy.std()"
   ]
  },
  {
   "cell_type": "code",
   "execution_count": 201,
   "metadata": {},
   "outputs": [
    {
     "data": {
      "text/html": [
       "<div>\n",
       "<style scoped>\n",
       "    .dataframe tbody tr th:only-of-type {\n",
       "        vertical-align: middle;\n",
       "    }\n",
       "\n",
       "    .dataframe tbody tr th {\n",
       "        vertical-align: top;\n",
       "    }\n",
       "\n",
       "    .dataframe thead th {\n",
       "        text-align: right;\n",
       "    }\n",
       "</style>\n",
       "<table border=\"1\" class=\"dataframe\">\n",
       "  <thead>\n",
       "    <tr style=\"text-align: right;\">\n",
       "      <th></th>\n",
       "      <th>lum</th>\n",
       "      <th>dEmin</th>\n",
       "      <th>dEmax</th>\n",
       "      <th>Emean</th>\n",
       "    </tr>\n",
       "    <tr>\n",
       "      <th>name</th>\n",
       "      <th></th>\n",
       "      <th></th>\n",
       "      <th></th>\n",
       "      <th></th>\n",
       "    </tr>\n",
       "  </thead>\n",
       "  <tbody>\n",
       "    <tr>\n",
       "      <th>900.0</th>\n",
       "      <td>4238.757</td>\n",
       "      <td>17.01</td>\n",
       "      <td>15.74</td>\n",
       "      <td>893.98</td>\n",
       "    </tr>\n",
       "    <tr>\n",
       "      <th>935.0</th>\n",
       "      <td>5042.760</td>\n",
       "      <td>10.17</td>\n",
       "      <td>6.99</td>\n",
       "      <td>930.13</td>\n",
       "    </tr>\n",
       "    <tr>\n",
       "      <th>960.0</th>\n",
       "      <td>5632.170</td>\n",
       "      <td>15.52</td>\n",
       "      <td>13.84</td>\n",
       "      <td>957.40</td>\n",
       "    </tr>\n",
       "    <tr>\n",
       "      <th>990.0</th>\n",
       "      <td>6358.030</td>\n",
       "      <td>14.54</td>\n",
       "      <td>6.81</td>\n",
       "      <td>996.50</td>\n",
       "    </tr>\n",
       "  </tbody>\n",
       "</table>\n",
       "</div>"
      ],
      "text/plain": [
       "            lum  dEmin  dEmax   Emean\n",
       "name                                 \n",
       "900.0  4238.757  17.01  15.74  893.98\n",
       "935.0  5042.760  10.17   6.99  930.13\n",
       "960.0  5632.170  15.52  13.84  957.40\n",
       "990.0  6358.030  14.54   6.81  996.50"
      ]
     },
     "execution_count": 201,
     "metadata": {},
     "output_type": "execute_result"
    }
   ],
   "source": [
    "new_lum.query('dEmin>0')"
   ]
  },
  {
   "cell_type": "markdown",
   "metadata": {},
   "source": [
    "I have got new luminosity table.\n",
    "\n",
    "Now I should join it to existing table"
   ]
  },
  {
   "cell_type": "code",
   "execution_count": 202,
   "metadata": {},
   "outputs": [],
   "source": [
    "data_prep.drop(['lume', 'lum', 'beam_energy'], axis=1, inplace=True)"
   ]
  },
  {
   "cell_type": "code",
   "execution_count": 203,
   "metadata": {},
   "outputs": [],
   "source": [
    "final_data = data_prep.join(new_lum, how='inner', on='name')"
   ]
  },
  {
   "cell_type": "code",
   "execution_count": 204,
   "metadata": {},
   "outputs": [
    {
     "name": "stdout",
     "output_type": "stream",
     "text": [
      "Good. 1776 rows\n"
     ]
    }
   ],
   "source": [
    "check_foo(final_data, data_prep)"
   ]
  },
  {
   "cell_type": "markdown",
   "metadata": {},
   "source": [
    "That is good. Now I should do the analysis"
   ]
  },
  {
   "cell_type": "code",
   "execution_count": 205,
   "metadata": {},
   "outputs": [
    {
     "data": {
      "text/html": [
       "<div>\n",
       "<style scoped>\n",
       "    .dataframe tbody tr th:only-of-type {\n",
       "        vertical-align: middle;\n",
       "    }\n",
       "\n",
       "    .dataframe tbody tr th {\n",
       "        vertical-align: top;\n",
       "    }\n",
       "\n",
       "    .dataframe thead th {\n",
       "        text-align: right;\n",
       "    }\n",
       "</style>\n",
       "<table border=\"1\" class=\"dataframe\">\n",
       "  <thead>\n",
       "    <tr style=\"text-align: right;\">\n",
       "      <th></th>\n",
       "      <th>name</th>\n",
       "      <th>mass</th>\n",
       "      <th>trigger</th>\n",
       "      <th>lum</th>\n",
       "      <th>dEmin</th>\n",
       "      <th>dEmax</th>\n",
       "      <th>Emean</th>\n",
       "    </tr>\n",
       "  </thead>\n",
       "  <tbody>\n",
       "    <tr>\n",
       "      <th>1771</th>\n",
       "      <td>990.0</td>\n",
       "      <td>532.163147</td>\n",
       "      <td>2</td>\n",
       "      <td>6358.03</td>\n",
       "      <td>14.54</td>\n",
       "      <td>6.81</td>\n",
       "      <td>996.5</td>\n",
       "    </tr>\n",
       "    <tr>\n",
       "      <th>1772</th>\n",
       "      <td>990.0</td>\n",
       "      <td>504.815674</td>\n",
       "      <td>2</td>\n",
       "      <td>6358.03</td>\n",
       "      <td>14.54</td>\n",
       "      <td>6.81</td>\n",
       "      <td>996.5</td>\n",
       "    </tr>\n",
       "    <tr>\n",
       "      <th>1773</th>\n",
       "      <td>990.0</td>\n",
       "      <td>526.116394</td>\n",
       "      <td>2</td>\n",
       "      <td>6358.03</td>\n",
       "      <td>14.54</td>\n",
       "      <td>6.81</td>\n",
       "      <td>996.5</td>\n",
       "    </tr>\n",
       "    <tr>\n",
       "      <th>1774</th>\n",
       "      <td>990.0</td>\n",
       "      <td>541.355103</td>\n",
       "      <td>2</td>\n",
       "      <td>6358.03</td>\n",
       "      <td>14.54</td>\n",
       "      <td>6.81</td>\n",
       "      <td>996.5</td>\n",
       "    </tr>\n",
       "    <tr>\n",
       "      <th>1775</th>\n",
       "      <td>990.0</td>\n",
       "      <td>525.965332</td>\n",
       "      <td>2</td>\n",
       "      <td>6358.03</td>\n",
       "      <td>14.54</td>\n",
       "      <td>6.81</td>\n",
       "      <td>996.5</td>\n",
       "    </tr>\n",
       "  </tbody>\n",
       "</table>\n",
       "</div>"
      ],
      "text/plain": [
       "       name        mass  trigger      lum  dEmin  dEmax  Emean\n",
       "1771  990.0  532.163147        2  6358.03  14.54   6.81  996.5\n",
       "1772  990.0  504.815674        2  6358.03  14.54   6.81  996.5\n",
       "1773  990.0  526.116394        2  6358.03  14.54   6.81  996.5\n",
       "1774  990.0  541.355103        2  6358.03  14.54   6.81  996.5\n",
       "1775  990.0  525.965332        2  6358.03  14.54   6.81  996.5"
      ]
     },
     "execution_count": 205,
     "metadata": {},
     "output_type": "execute_result"
    }
   ],
   "source": [
    "final_data.tail()"
   ]
  },
  {
   "cell_type": "markdown",
   "metadata": {},
   "source": [
    "----------------\n",
    "## Fit"
   ]
  },
  {
   "cell_type": "code",
   "execution_count": 206,
   "metadata": {},
   "outputs": [],
   "source": [
    "data2 = final_data.groupby('name')"
   ]
  },
  {
   "cell_type": "code",
   "execution_count": 207,
   "metadata": {},
   "outputs": [
    {
     "name": "stdout",
     "output_type": "stream",
     "text": [
      "641.0\n",
      "650.0\n",
      "675.0\n",
      "700.0\n",
      "725.0\n",
      "750.0\n",
      "775.0\n",
      "800.0\n",
      "825.0\n",
      "840.0\n",
      "850.0\n",
      "860.0\n",
      "870.0\n",
      "900.0\n",
      "935.0\n",
      "937.4\n",
      "938.3\n",
      "938.9\n",
      "939.6\n",
      "940.2\n",
      "940.8\n",
      "960.0\n",
      "990.0\n"
     ]
    }
   ],
   "source": [
    "dic = {}\n",
    "for i in data2.groups:\n",
    "    print(i)\n",
    "    dic[i] = np.array( data2.get_group(i)['mass'] )"
   ]
  },
  {
   "cell_type": "code",
   "execution_count": 208,
   "metadata": {},
   "outputs": [],
   "source": [
    "import iminuit\n",
    "import probfit as pf"
   ]
  },
  {
   "cell_type": "code",
   "execution_count": 209,
   "metadata": {},
   "outputs": [],
   "source": [
    "plt.rcParams.update({'font.size': 18, 'figure.figsize':(16,9)})"
   ]
  },
  {
   "cell_type": "code",
   "execution_count": 210,
   "metadata": {},
   "outputs": [],
   "source": [
    "mass_bound = (450, 550)"
   ]
  },
  {
   "cell_type": "code",
   "execution_count": 229,
   "metadata": {},
   "outputs": [
    {
     "data": {
      "text/plain": [
       "['x', 'M', '$\\\\sigma1$', '$\\\\sigma2$', 'f', '$N_{sig}$', '$N_{bkg}$']"
      ]
     },
     "execution_count": 229,
     "metadata": {},
     "output_type": "execute_result"
    }
   ],
   "source": [
    "#2 гаусса\n",
    "def constant(x):\n",
    "    return 1\n",
    "def two_gauss(x, mu, sigma1, sigma2, frac):\n",
    "    return frac*pf.gaussian(x, mu, sigma1) + (1-frac)*pf.gaussian(x, mu, sigma2)\n",
    "\n",
    "norm_sig = pf.rename( pf.Normalized( two_gauss, mass_bound ), ['x', 'M', '$\\sigma1$', '$\\sigma2$', 'f'] )\n",
    "norm_bkg = pf.Normalized( constant, mass_bound )\n",
    "\n",
    "ext_sig = pf.Extended(norm_sig, extname='$N_{sig}$')\n",
    "ext_bkg = pf.Extended(norm_bkg, extname='$N_{bkg}$')\n",
    "\n",
    "pdf = pf.AddPdf(ext_sig, ext_bkg)\n",
    "\n",
    "sigma1Lim = (5.77, 0)\n",
    "sigma2Lim = (13.43, 0)\n",
    "\n",
    "limits = {\n",
    "    \"limit_M\": [497.6-5, 497.6+5],\n",
    "    \"limit_$\\sigma1$\": [sigma1Lim[0] - sigma1Lim[1], sigma1Lim[0] + sigma1Lim[1]],\n",
    "    \"limit_$\\sigma2$\": [sigma2Lim[0] - sigma2Lim[1], sigma2Lim[0] + sigma2Lim[1]],\n",
    "    \"limit_$N_{sig}$\": [0, 10000],\n",
    "    \"limit_$N_{bkg}$\": [0, 1000],\n",
    "    \"limit_f\": [0, 1]\n",
    "}\n",
    "errors = {\n",
    "    \"error_M\": 1,\n",
    "    \"error_$\\sigma1$\": 0.,\n",
    "    \"error_$\\sigma2$\": 0.,\n",
    "    \"error_$N_{sig}$\": 0.3,\n",
    "    \"error_$N_{bkg}$\": 0.1,\n",
    "    \"error_f\": 0.05\n",
    "}\n",
    "\n",
    "# norm_sig1 = pf.Normalized( pf.rename(pf.gaussian, ['x', 'm', '$\\sigma1$']), mass_bound)\n",
    "# norm_sig2 = pf.Normalized( pf.rename(pf.gaussian, ['x', 'm', '$\\sigma2$']), mass_bound)\n",
    "# norm_bkg = pf.Extended(norm_bkg, extname='$N_{bkg}$')\n",
    "\n",
    "# gauss1 = pf.Extended(norm_sig1, extname='$N_{sig1}$')\n",
    "# gauss2 = pf.Extended(norm_sig2, extname='$N_{sig2}$')\n",
    "\n",
    "# pdf = pf.AddPdf(gauss1, gauss2, norm_bkg)\n",
    "pf.describe(pdf)\n",
    "\n",
    "# limits = {\"limit_m\": [497.6, 497.6], \"limit_$\\sigma1$\": [4.26, 4.26], \"limit_$\\sigma2$\": [11.16, 11.16],  \n",
    "#           \"limit_$N_{sig1}$\": [0, 10000], \"limit_$N_{sig2}$\": [0, 10000], \"limit_$N_{bkg}$\": [0, 1000]}\n",
    "# errors = {\"error_m\": 1, \"error_$\\sigma1$\": 0., \"error_$\\sigma2$\": 0. , \n",
    "#           \"error_$N_{sig1}$\": 0.3, \"error_$N_{sig2}$\": 0.3, \"error_$N_{bkg}$\":0}"
   ]
  },
  {
   "cell_type": "code",
   "execution_count": 227,
   "metadata": {},
   "outputs": [],
   "source": [
    "def fitter(dic, nbins, energy, binnedLik=False, simple_plot=True):\n",
    "    \n",
    "    likelihood = pf.UnbinnedLH(pdf, dic, extended=True, extended_bound=mass_bound) if not(binnedLik) else \\\n",
    "    pf.BinnedLH(pdf, dic, int(nbins*(mass_bound[1]-mass_bound[0])/100.), bound=mass_bound, extended=True)\n",
    "    \n",
    "    initial_par_values = {\"M\": 497.6, \"$\\sigma1$\": 4.26, \"$N_{sig}$\": np.size(dic)/2.,\n",
    "                          \"$\\sigma2$\": 11.16, \"f\": 0.5, \"$N_{bkg}$\": 1}\n",
    "    mt = iminuit.Minuit(likelihood, **initial_par_values, **errors, **limits, pedantic=False)\n",
    "    mt.migrad();\n",
    "        \n",
    "    if simple_plot:\n",
    "        likelihood.draw(minuit=mt) if binnedLik else likelihood.draw(minuit=mt, bins=nbins, bound=mass_bound)\n",
    "    else:\n",
    "        fig = plt.figure(figsize=(16, 10), dpi= 80)\n",
    "        grid = plt.GridSpec(4, 4, hspace=0.5, wspace=0.2)\n",
    "\n",
    "        # Define the axes\n",
    "        ax_main = fig.add_subplot(grid[:-1, :])\n",
    "\n",
    "        if binnedLik:\n",
    "            likelihood.draw(minuit=mt)\n",
    "        else:\n",
    "            likelihood.draw(minuit=mt, bins=nbins, bound=mass_bound)\n",
    "\n",
    "        plt.tick_params(labelsize=20);\n",
    "        plt.xlabel('invariant mass, MeV', fontsize=20)\n",
    "        plt.ylabel('number of events', fontsize=20)\n",
    "\n",
    "        # this is an inset axes over the main axes\n",
    "        ax_bottom = fig.add_subplot(grid[-1, :], xticklabels=[])\n",
    "        likelihood.draw_residual(minuit=mt) if binnedLik else \\\n",
    "        likelihood.draw_residual(minuit=mt, bins=nbins, bound=mass_bound)\n",
    "    \n",
    "        plt.savefig(f'../outputs/{year}/figures/fit_e{energy}.png')\n",
    "    return mt, likelihood"
   ]
  },
  {
   "cell_type": "code",
   "execution_count": 213,
   "metadata": {},
   "outputs": [],
   "source": [
    "itr = iter(dic)"
   ]
  },
  {
   "cell_type": "code",
   "execution_count": 214,
   "metadata": {},
   "outputs": [],
   "source": [
    "fit_frame = pd.DataFrame(columns=[ 'M', 'S1', 'S2', 'f', 'N', 'C', \n",
    "                                  'Merr', 'S1err', 'S2err', 'ferr', 'Nerr', 'Cerr'])"
   ]
  },
  {
   "cell_type": "code",
   "execution_count": 285,
   "metadata": {
    "scrolled": true
   },
   "outputs": [
    {
     "ename": "StopIteration",
     "evalue": "",
     "output_type": "error",
     "traceback": [
      "\u001b[0;31m---------------------------------------------------------------------------\u001b[0m",
      "\u001b[0;31mStopIteration\u001b[0m                             Traceback (most recent call last)",
      "\u001b[0;32m<ipython-input-285-10210f828c97>\u001b[0m in \u001b[0;36m<module>\u001b[0;34m\u001b[0m\n\u001b[0;32m----> 1\u001b[0;31m \u001b[0mi\u001b[0m \u001b[0;34m=\u001b[0m \u001b[0mnext\u001b[0m\u001b[0;34m(\u001b[0m\u001b[0mitr\u001b[0m\u001b[0;34m)\u001b[0m\u001b[0;34m\u001b[0m\u001b[0;34m\u001b[0m\u001b[0m\n\u001b[0m\u001b[1;32m      2\u001b[0m \u001b[0mprint\u001b[0m\u001b[0;34m(\u001b[0m\u001b[0;34m'Label:'\u001b[0m\u001b[0;34m,\u001b[0m \u001b[0mi\u001b[0m\u001b[0;34m)\u001b[0m\u001b[0;34m\u001b[0m\u001b[0;34m\u001b[0m\u001b[0m\n",
      "\u001b[0;31mStopIteration\u001b[0m: "
     ]
    }
   ],
   "source": [
    "i = next(itr)\n",
    "print('Label:', i)"
   ]
  },
  {
   "cell_type": "code",
   "execution_count": 282,
   "metadata": {
    "scrolled": false
   },
   "outputs": [
    {
     "name": "stdout",
     "output_type": "stream",
     "text": [
      "Migrad quality: True\n",
      "Real: 54 Found: 53.998788197495145\n"
     ]
    },
    {
     "data": {
      "image/png": "[encoded data removed]",
      "text/plain": [
       "<Figure size 1280x800 with 2 Axes>"
      ]
     },
     "metadata": {},
     "output_type": "display_data"
    }
   ],
   "source": [
    "#mass_bound = (450, 550)\n",
    "number = 10\n",
    "dicx = dic[i]#final_data.query('name>@emin_an[@number]&name<=@emax_an[@number]').mass.values#dic[i]#\n",
    "mt, lik = fitter(dicx, 50, i, False, False)\n",
    "fit_frame.loc[i] = mt.values.values() + mt.errors.values()\n",
    "print(\"Migrad quality:\", mt.migrad_ok())\n",
    "print( 'Real:', np.size(dicx), 'Found:', mt.values['$N_{sig}$'] + mt.values['$N_{bkg}$'] )"
   ]
  },
  {
   "cell_type": "code",
   "execution_count": 283,
   "metadata": {},
   "outputs": [
    {
     "data": {
      "text/html": [
       "<div>\n",
       "<style scoped>\n",
       "    .dataframe tbody tr th:only-of-type {\n",
       "        vertical-align: middle;\n",
       "    }\n",
       "\n",
       "    .dataframe tbody tr th {\n",
       "        vertical-align: top;\n",
       "    }\n",
       "\n",
       "    .dataframe thead th {\n",
       "        text-align: right;\n",
       "    }\n",
       "</style>\n",
       "<table border=\"1\" class=\"dataframe\">\n",
       "  <thead>\n",
       "    <tr style=\"text-align: right;\">\n",
       "      <th></th>\n",
       "      <th>M</th>\n",
       "      <th>S1</th>\n",
       "      <th>S2</th>\n",
       "      <th>f</th>\n",
       "      <th>N</th>\n",
       "      <th>C</th>\n",
       "      <th>Merr</th>\n",
       "      <th>S1err</th>\n",
       "      <th>S2err</th>\n",
       "      <th>ferr</th>\n",
       "      <th>Nerr</th>\n",
       "      <th>Cerr</th>\n",
       "    </tr>\n",
       "  </thead>\n",
       "  <tbody>\n",
       "    <tr>\n",
       "      <th>641.0</th>\n",
       "      <td>497.724867</td>\n",
       "      <td>5.77</td>\n",
       "      <td>13.43</td>\n",
       "      <td>0.726996</td>\n",
       "      <td>329.451943</td>\n",
       "      <td>15.527003</td>\n",
       "      <td>0.415860</td>\n",
       "      <td>0.0</td>\n",
       "      <td>0.0</td>\n",
       "      <td>0.061344</td>\n",
       "      <td>19.498623</td>\n",
       "      <td>8.139456</td>\n",
       "    </tr>\n",
       "    <tr>\n",
       "      <th>650.0</th>\n",
       "      <td>499.010999</td>\n",
       "      <td>5.77</td>\n",
       "      <td>13.43</td>\n",
       "      <td>0.716097</td>\n",
       "      <td>99.984513</td>\n",
       "      <td>0.000090</td>\n",
       "      <td>0.745832</td>\n",
       "      <td>0.0</td>\n",
       "      <td>0.0</td>\n",
       "      <td>0.090737</td>\n",
       "      <td>9.998704</td>\n",
       "      <td>2.260909</td>\n",
       "    </tr>\n",
       "    <tr>\n",
       "      <th>675.0</th>\n",
       "      <td>496.213303</td>\n",
       "      <td>5.77</td>\n",
       "      <td>13.43</td>\n",
       "      <td>0.740446</td>\n",
       "      <td>85.585588</td>\n",
       "      <td>7.417727</td>\n",
       "      <td>0.828138</td>\n",
       "      <td>0.0</td>\n",
       "      <td>0.0</td>\n",
       "      <td>0.129110</td>\n",
       "      <td>10.044258</td>\n",
       "      <td>4.764455</td>\n",
       "    </tr>\n",
       "    <tr>\n",
       "      <th>700.0</th>\n",
       "      <td>495.403327</td>\n",
       "      <td>5.77</td>\n",
       "      <td>13.43</td>\n",
       "      <td>0.503174</td>\n",
       "      <td>39.539176</td>\n",
       "      <td>3.518691</td>\n",
       "      <td>1.543097</td>\n",
       "      <td>0.0</td>\n",
       "      <td>0.0</td>\n",
       "      <td>0.222449</td>\n",
       "      <td>6.909789</td>\n",
       "      <td>3.417241</td>\n",
       "    </tr>\n",
       "    <tr>\n",
       "      <th>725.0</th>\n",
       "      <td>499.840125</td>\n",
       "      <td>5.77</td>\n",
       "      <td>13.43</td>\n",
       "      <td>0.640382</td>\n",
       "      <td>62.339447</td>\n",
       "      <td>1.651929</td>\n",
       "      <td>1.089763</td>\n",
       "      <td>0.0</td>\n",
       "      <td>0.0</td>\n",
       "      <td>0.159540</td>\n",
       "      <td>8.291776</td>\n",
       "      <td>2.841736</td>\n",
       "    </tr>\n",
       "    <tr>\n",
       "      <th>750.0</th>\n",
       "      <td>499.971575</td>\n",
       "      <td>5.77</td>\n",
       "      <td>13.43</td>\n",
       "      <td>0.518061</td>\n",
       "      <td>97.122267</td>\n",
       "      <td>4.877391</td>\n",
       "      <td>0.940881</td>\n",
       "      <td>0.0</td>\n",
       "      <td>0.0</td>\n",
       "      <td>0.126171</td>\n",
       "      <td>10.480643</td>\n",
       "      <td>4.193113</td>\n",
       "    </tr>\n",
       "    <tr>\n",
       "      <th>775.0</th>\n",
       "      <td>498.717663</td>\n",
       "      <td>5.77</td>\n",
       "      <td>13.43</td>\n",
       "      <td>0.443086</td>\n",
       "      <td>106.979811</td>\n",
       "      <td>0.000009</td>\n",
       "      <td>0.924720</td>\n",
       "      <td>0.0</td>\n",
       "      <td>0.0</td>\n",
       "      <td>0.107127</td>\n",
       "      <td>10.342441</td>\n",
       "      <td>1.820668</td>\n",
       "    </tr>\n",
       "    <tr>\n",
       "      <th>800.0</th>\n",
       "      <td>499.510848</td>\n",
       "      <td>5.77</td>\n",
       "      <td>13.43</td>\n",
       "      <td>0.480728</td>\n",
       "      <td>165.801698</td>\n",
       "      <td>6.258122</td>\n",
       "      <td>0.738614</td>\n",
       "      <td>0.0</td>\n",
       "      <td>0.0</td>\n",
       "      <td>0.090489</td>\n",
       "      <td>13.338868</td>\n",
       "      <td>4.280732</td>\n",
       "    </tr>\n",
       "    <tr>\n",
       "      <th>825.0</th>\n",
       "      <td>498.838078</td>\n",
       "      <td>5.77</td>\n",
       "      <td>13.43</td>\n",
       "      <td>0.490255</td>\n",
       "      <td>191.622425</td>\n",
       "      <td>5.453499</td>\n",
       "      <td>0.685354</td>\n",
       "      <td>0.0</td>\n",
       "      <td>0.0</td>\n",
       "      <td>0.084074</td>\n",
       "      <td>14.294359</td>\n",
       "      <td>4.256498</td>\n",
       "    </tr>\n",
       "    <tr>\n",
       "      <th>840.0</th>\n",
       "      <td>498.499658</td>\n",
       "      <td>5.77</td>\n",
       "      <td>13.43</td>\n",
       "      <td>0.528056</td>\n",
       "      <td>80.976600</td>\n",
       "      <td>6.103385</td>\n",
       "      <td>1.053859</td>\n",
       "      <td>0.0</td>\n",
       "      <td>0.0</td>\n",
       "      <td>0.142646</td>\n",
       "      <td>9.614629</td>\n",
       "      <td>4.186032</td>\n",
       "    </tr>\n",
       "    <tr>\n",
       "      <th>850.0</th>\n",
       "      <td>496.131364</td>\n",
       "      <td>5.77</td>\n",
       "      <td>13.43</td>\n",
       "      <td>0.785284</td>\n",
       "      <td>47.339667</td>\n",
       "      <td>4.692026</td>\n",
       "      <td>1.067458</td>\n",
       "      <td>0.0</td>\n",
       "      <td>0.0</td>\n",
       "      <td>0.145964</td>\n",
       "      <td>7.342805</td>\n",
       "      <td>3.357411</td>\n",
       "    </tr>\n",
       "    <tr>\n",
       "      <th>860.0</th>\n",
       "      <td>497.072591</td>\n",
       "      <td>5.77</td>\n",
       "      <td>13.43</td>\n",
       "      <td>1.000000</td>\n",
       "      <td>30.036873</td>\n",
       "      <td>2.963124</td>\n",
       "      <td>1.085459</td>\n",
       "      <td>0.0</td>\n",
       "      <td>0.0</td>\n",
       "      <td>0.138718</td>\n",
       "      <td>5.597422</td>\n",
       "      <td>2.064328</td>\n",
       "    </tr>\n",
       "    <tr>\n",
       "      <th>870.0</th>\n",
       "      <td>496.736265</td>\n",
       "      <td>5.77</td>\n",
       "      <td>13.43</td>\n",
       "      <td>0.999999</td>\n",
       "      <td>19.190740</td>\n",
       "      <td>9.787612</td>\n",
       "      <td>1.453913</td>\n",
       "      <td>0.0</td>\n",
       "      <td>0.0</td>\n",
       "      <td>0.137797</td>\n",
       "      <td>4.778864</td>\n",
       "      <td>3.663052</td>\n",
       "    </tr>\n",
       "    <tr>\n",
       "      <th>900.0</th>\n",
       "      <td>497.860443</td>\n",
       "      <td>5.77</td>\n",
       "      <td>13.43</td>\n",
       "      <td>0.307787</td>\n",
       "      <td>37.797833</td>\n",
       "      <td>10.199956</td>\n",
       "      <td>3.230128</td>\n",
       "      <td>0.0</td>\n",
       "      <td>0.0</td>\n",
       "      <td>0.344394</td>\n",
       "      <td>9.115722</td>\n",
       "      <td>7.444629</td>\n",
       "    </tr>\n",
       "    <tr>\n",
       "      <th>935.0</th>\n",
       "      <td>497.371895</td>\n",
       "      <td>5.77</td>\n",
       "      <td>13.43</td>\n",
       "      <td>0.999996</td>\n",
       "      <td>34.667628</td>\n",
       "      <td>41.340377</td>\n",
       "      <td>1.261028</td>\n",
       "      <td>0.0</td>\n",
       "      <td>0.0</td>\n",
       "      <td>0.789882</td>\n",
       "      <td>7.006774</td>\n",
       "      <td>7.466413</td>\n",
       "    </tr>\n",
       "    <tr>\n",
       "      <th>937.4</th>\n",
       "      <td>496.954075</td>\n",
       "      <td>5.77</td>\n",
       "      <td>13.43</td>\n",
       "      <td>0.999978</td>\n",
       "      <td>10.625991</td>\n",
       "      <td>17.357144</td>\n",
       "      <td>2.200604</td>\n",
       "      <td>0.0</td>\n",
       "      <td>0.0</td>\n",
       "      <td>0.815557</td>\n",
       "      <td>3.947002</td>\n",
       "      <td>4.721994</td>\n",
       "    </tr>\n",
       "    <tr>\n",
       "      <th>938.3</th>\n",
       "      <td>499.183140</td>\n",
       "      <td>5.77</td>\n",
       "      <td>13.43</td>\n",
       "      <td>1.000000</td>\n",
       "      <td>6.010016</td>\n",
       "      <td>11.990065</td>\n",
       "      <td>2.664056</td>\n",
       "      <td>0.0</td>\n",
       "      <td>0.0</td>\n",
       "      <td>0.731495</td>\n",
       "      <td>2.997291</td>\n",
       "      <td>3.867452</td>\n",
       "    </tr>\n",
       "    <tr>\n",
       "      <th>938.9</th>\n",
       "      <td>502.599976</td>\n",
       "      <td>5.77</td>\n",
       "      <td>13.43</td>\n",
       "      <td>0.351585</td>\n",
       "      <td>19.967303</td>\n",
       "      <td>6.018256</td>\n",
       "      <td>1.232416</td>\n",
       "      <td>0.0</td>\n",
       "      <td>0.0</td>\n",
       "      <td>0.300992</td>\n",
       "      <td>5.962587</td>\n",
       "      <td>4.652068</td>\n",
       "    </tr>\n",
       "    <tr>\n",
       "      <th>939.6</th>\n",
       "      <td>502.599998</td>\n",
       "      <td>5.77</td>\n",
       "      <td>13.43</td>\n",
       "      <td>0.107171</td>\n",
       "      <td>13.508678</td>\n",
       "      <td>3.492586</td>\n",
       "      <td>6.426927</td>\n",
       "      <td>0.0</td>\n",
       "      <td>0.0</td>\n",
       "      <td>0.515965</td>\n",
       "      <td>4.522897</td>\n",
       "      <td>3.226111</td>\n",
       "    </tr>\n",
       "    <tr>\n",
       "      <th>940.2</th>\n",
       "      <td>502.599599</td>\n",
       "      <td>5.77</td>\n",
       "      <td>13.43</td>\n",
       "      <td>0.432521</td>\n",
       "      <td>5.665648</td>\n",
       "      <td>11.316174</td>\n",
       "      <td>5.338426</td>\n",
       "      <td>0.0</td>\n",
       "      <td>0.0</td>\n",
       "      <td>0.695689</td>\n",
       "      <td>4.394629</td>\n",
       "      <td>4.993229</td>\n",
       "    </tr>\n",
       "    <tr>\n",
       "      <th>940.8</th>\n",
       "      <td>502.599628</td>\n",
       "      <td>5.77</td>\n",
       "      <td>13.43</td>\n",
       "      <td>0.450235</td>\n",
       "      <td>11.552445</td>\n",
       "      <td>9.435503</td>\n",
       "      <td>9.219774</td>\n",
       "      <td>0.0</td>\n",
       "      <td>0.0</td>\n",
       "      <td>0.715611</td>\n",
       "      <td>5.013778</td>\n",
       "      <td>4.795427</td>\n",
       "    </tr>\n",
       "    <tr>\n",
       "      <th>960.0</th>\n",
       "      <td>499.708376</td>\n",
       "      <td>5.77</td>\n",
       "      <td>13.43</td>\n",
       "      <td>0.467405</td>\n",
       "      <td>36.001240</td>\n",
       "      <td>11.003004</td>\n",
       "      <td>1.899697</td>\n",
       "      <td>0.0</td>\n",
       "      <td>0.0</td>\n",
       "      <td>0.265638</td>\n",
       "      <td>8.245675</td>\n",
       "      <td>6.554135</td>\n",
       "    </tr>\n",
       "    <tr>\n",
       "      <th>990.0</th>\n",
       "      <td>499.957263</td>\n",
       "      <td>5.77</td>\n",
       "      <td>13.43</td>\n",
       "      <td>0.999999</td>\n",
       "      <td>15.652315</td>\n",
       "      <td>38.346473</td>\n",
       "      <td>1.868473</td>\n",
       "      <td>0.0</td>\n",
       "      <td>0.0</td>\n",
       "      <td>0.731441</td>\n",
       "      <td>5.111431</td>\n",
       "      <td>6.986047</td>\n",
       "    </tr>\n",
       "  </tbody>\n",
       "</table>\n",
       "</div>"
      ],
      "text/plain": [
       "                M    S1     S2         f           N          C      Merr  \\\n",
       "641.0  497.724867  5.77  13.43  0.726996  329.451943  15.527003  0.415860   \n",
       "650.0  499.010999  5.77  13.43  0.716097   99.984513   0.000090  0.745832   \n",
       "675.0  496.213303  5.77  13.43  0.740446   85.585588   7.417727  0.828138   \n",
       "700.0  495.403327  5.77  13.43  0.503174   39.539176   3.518691  1.543097   \n",
       "725.0  499.840125  5.77  13.43  0.640382   62.339447   1.651929  1.089763   \n",
       "750.0  499.971575  5.77  13.43  0.518061   97.122267   4.877391  0.940881   \n",
       "775.0  498.717663  5.77  13.43  0.443086  106.979811   0.000009  0.924720   \n",
       "800.0  499.510848  5.77  13.43  0.480728  165.801698   6.258122  0.738614   \n",
       "825.0  498.838078  5.77  13.43  0.490255  191.622425   5.453499  0.685354   \n",
       "840.0  498.499658  5.77  13.43  0.528056   80.976600   6.103385  1.053859   \n",
       "850.0  496.131364  5.77  13.43  0.785284   47.339667   4.692026  1.067458   \n",
       "860.0  497.072591  5.77  13.43  1.000000   30.036873   2.963124  1.085459   \n",
       "870.0  496.736265  5.77  13.43  0.999999   19.190740   9.787612  1.453913   \n",
       "900.0  497.860443  5.77  13.43  0.307787   37.797833  10.199956  3.230128   \n",
       "935.0  497.371895  5.77  13.43  0.999996   34.667628  41.340377  1.261028   \n",
       "937.4  496.954075  5.77  13.43  0.999978   10.625991  17.357144  2.200604   \n",
       "938.3  499.183140  5.77  13.43  1.000000    6.010016  11.990065  2.664056   \n",
       "938.9  502.599976  5.77  13.43  0.351585   19.967303   6.018256  1.232416   \n",
       "939.6  502.599998  5.77  13.43  0.107171   13.508678   3.492586  6.426927   \n",
       "940.2  502.599599  5.77  13.43  0.432521    5.665648  11.316174  5.338426   \n",
       "940.8  502.599628  5.77  13.43  0.450235   11.552445   9.435503  9.219774   \n",
       "960.0  499.708376  5.77  13.43  0.467405   36.001240  11.003004  1.899697   \n",
       "990.0  499.957263  5.77  13.43  0.999999   15.652315  38.346473  1.868473   \n",
       "\n",
       "       S1err  S2err      ferr       Nerr      Cerr  \n",
       "641.0    0.0    0.0  0.061344  19.498623  8.139456  \n",
       "650.0    0.0    0.0  0.090737   9.998704  2.260909  \n",
       "675.0    0.0    0.0  0.129110  10.044258  4.764455  \n",
       "700.0    0.0    0.0  0.222449   6.909789  3.417241  \n",
       "725.0    0.0    0.0  0.159540   8.291776  2.841736  \n",
       "750.0    0.0    0.0  0.126171  10.480643  4.193113  \n",
       "775.0    0.0    0.0  0.107127  10.342441  1.820668  \n",
       "800.0    0.0    0.0  0.090489  13.338868  4.280732  \n",
       "825.0    0.0    0.0  0.084074  14.294359  4.256498  \n",
       "840.0    0.0    0.0  0.142646   9.614629  4.186032  \n",
       "850.0    0.0    0.0  0.145964   7.342805  3.357411  \n",
       "860.0    0.0    0.0  0.138718   5.597422  2.064328  \n",
       "870.0    0.0    0.0  0.137797   4.778864  3.663052  \n",
       "900.0    0.0    0.0  0.344394   9.115722  7.444629  \n",
       "935.0    0.0    0.0  0.789882   7.006774  7.466413  \n",
       "937.4    0.0    0.0  0.815557   3.947002  4.721994  \n",
       "938.3    0.0    0.0  0.731495   2.997291  3.867452  \n",
       "938.9    0.0    0.0  0.300992   5.962587  4.652068  \n",
       "939.6    0.0    0.0  0.515965   4.522897  3.226111  \n",
       "940.2    0.0    0.0  0.695689   4.394629  4.993229  \n",
       "940.8    0.0    0.0  0.715611   5.013778  4.795427  \n",
       "960.0    0.0    0.0  0.265638   8.245675  6.554135  \n",
       "990.0    0.0    0.0  0.731441   5.111431  6.986047  "
      ]
     },
     "execution_count": 283,
     "metadata": {},
     "output_type": "execute_result"
    }
   ],
   "source": [
    "fit_frame"
   ]
  },
  {
   "cell_type": "code",
   "execution_count": 284,
   "metadata": {},
   "outputs": [
    {
     "data": {
      "image/png": "[encoded data removed]",
      "text/plain": [
       "<Figure size 1152x648 with 2 Axes>"
      ]
     },
     "metadata": {},
     "output_type": "display_data"
    }
   ],
   "source": [
    "plt.subplot(1, 2, 1)\n",
    "plt.errorbar(x=fit_frame.index, y=fit_frame.f, yerr=fit_frame.ferr, fmt='o')\n",
    "plt.xlabel('energy, MeV');\n",
    "plt.ylabel('$f$');\n",
    "plt.subplot(1, 2, 2)\n",
    "plt.errorbar(x=fit_frame.index, y=fit_frame.M, yerr=fit_frame.Merr, fmt='or')\n",
    "plt.xlabel('energy, MeV');\n",
    "plt.ylabel('$m$, MeV');"
   ]
  },
  {
   "cell_type": "markdown",
   "metadata": {},
   "source": [
    "### Some notes:\n",
    "none"
   ]
  },
  {
   "cell_type": "markdown",
   "metadata": {},
   "source": [
    "## Анализ $\\sigma$"
   ]
  },
  {
   "cell_type": "markdown",
   "metadata": {},
   "source": [
    "### 19 год\n",
    "\n",
    "В точках 550 и 550.1 принципиально различается ширина ( 4.8 vs 6.12 )\n",
    "\n",
    "В 19 году взял группами точки по энергии и посмотрел их $\\sigma$, видно, что ширина растёт вместе с энергией"
   ]
  },
  {
   "cell_type": "code",
   "execution_count": 222,
   "metadata": {},
   "outputs": [
    {
     "data": {
      "text/plain": [
       "<ErrorbarContainer object of 3 artists>"
      ]
     },
     "execution_count": 222,
     "metadata": {},
     "output_type": "execute_result"
    },
    {
     "data": {
      "image/png": "[encoded data removed]",
      "text/plain": [
       "<Figure size 1152x648 with 1 Axes>"
      ]
     },
     "metadata": {},
     "output_type": "display_data"
    }
   ],
   "source": [
    "emin_an  = [524, 570, 650, 730, 800, 900, 850, 750, 700, 530]\n",
    "emax_an  = [570, 650, 730, 800, 900, 1010, 950, 850, 750, 570]\n",
    "sigma_an = [4.84, 5.75, 6.2, 8.38, 8.12, 9.75, 9.33, 8.14, 7.86, 4.8]\n",
    "dsigma_an = [0.069, 0.11, 0.3, 0.28, 0.3, 0.87, 0.87, 0.21, 0.43, 0.06]\n",
    "df_sigma_an = pd.DataFrame({'emin':emin_an, 'emax':emax_an, 'sigma':sigma_an, 'ds': dsigma_an})\n",
    "df_sigma_an['emean'] = (df_sigma_an.emin + df_sigma_an.emax)/2.\n",
    "df_sigma_an['deup'] = df_sigma_an.emean - df_sigma_an.emin\n",
    "plt.errorbar(data=df_sigma_an, x='emean', y='sigma', xerr='deup', yerr='ds', fmt='o')"
   ]
  },
  {
   "cell_type": "markdown",
   "metadata": {},
   "source": [
    "Возникает гипотеза (ещё и с учётом того факта, что на большой статистике данные описываются не идеально) добавить ещё один гаусс. Посмотрим, что из этого выйдет.\n",
    "\n",
    "Повторю распределение сигм по аналогии с картинкой выше"
   ]
  },
  {
   "cell_type": "code",
   "execution_count": 552,
   "metadata": {},
   "outputs": [
    {
     "data": {
      "text/plain": [
       "<ErrorbarContainer object of 3 artists>"
      ]
     },
     "execution_count": 552,
     "metadata": {},
     "output_type": "execute_result"
    },
    {
     "data": {
      "image/png": "[encoded data removed]",
      "text/plain": [
       "<Figure size 720x432 with 1 Axes>"
      ]
     },
     "metadata": {},
     "output_type": "display_data"
    }
   ],
   "source": [
    "plt.rcParams.update({'font.size': 18, 'figure.figsize':(10,6)})\n",
    "emin_an  = [524, 570, 650, 730, 800, 900, 850, 750, 700, 530, 810]\n",
    "emax_an  = [570, 650, 730, 800, 900, 1010, 950, 850, 750, 570, 1010]\n",
    "sigma1_an = [4.02, 4.31, 4.44, 4.66, 4.08, 8.724847949065675, 8.952093654550044, 4.509152675111134, 3.6841658856535178, 4.01709961911671, 4.628942053127934]\n",
    "dsigma1_an = [0.13, 0.18, 0.44, 0.39, 0.55, 1.590062670581002, 7.270944904440277, 0.3453623743108212, 0.6048651400716212, 0.1190920659859942, 0.7016815273028718]\n",
    "sigma2_an = [10.3, 10.98, 11.55, 12.25, 11.34, 19.995900427431625, 19.999882612152, 11.866375420268561, 10.53279261428423, 10.283255759137344, 11.339313291171166]\n",
    "dsigma2_an = [0.9, 0.85, 1.42, 0.81, 0.89, 13.996992016425061, 13.933962567163773, 0.6617076556061905, 0.9474962757272731, 0.8289418695468278, 1.1023824322696134]\n",
    "frac12_an = [3.92, 2.31, 1.76, 0.88, 0.64, 2.728843351319719, 6.911293728105318, 0.8379169741736125, 0.7006647553677061, 3.9196405944377877, 0.62839843050261]\n",
    "df_sigma_an = pd.DataFrame({'emin':emin_an, 'emax':emax_an, 'sigma1':sigma1_an, 'ds1': dsigma1_an, \n",
    "                            'sigma2':sigma2_an, 'ds2': dsigma2_an, 'frac': frac12_an})\n",
    "df_sigma_an['emean'] = (df_sigma_an.emin + df_sigma_an.emax)/2.\n",
    "df_sigma_an['deup'] = df_sigma_an.emean - df_sigma_an.emin\n",
    "plt.errorbar(data=df_sigma_an, x='emean', y='sigma1', xerr='deup', yerr='ds1', fmt='ob')\n",
    "plt.errorbar(data=df_sigma_an, x='emean', y='sigma2', xerr='deup', yerr='ds2', fmt='or')"
   ]
  },
  {
   "cell_type": "markdown",
   "metadata": {},
   "source": [
    "Видно, что каждая из сигм практически не сдвигается. Но видно, что на малом объёме данных ширины начинают расплываться (заметно при высоких энергиях)\n",
    "\n",
    "Зафиксирую ширины на средних без учёта выпавших точек"
   ]
  },
  {
   "cell_type": "code",
   "execution_count": 238,
   "metadata": {},
   "outputs": [
    {
     "name": "stdout",
     "output_type": "stream",
     "text": [
      "Sigma1: 4.261040025889923\n",
      "Sigma2: 11.160193009429035\n"
     ]
    }
   ],
   "source": [
    "print('Sigma1:', df_sigma_an.drop([5,6]).sigma1.mean() )\n",
    "print('Sigma2:', df_sigma_an.drop([5,6]).sigma2.mean() )"
   ]
  },
  {
   "cell_type": "markdown",
   "metadata": {},
   "source": [
    "Тогда проверяю предположение, что $\\sigma$ в случае одного гаусса меняется из-за того, что меняется доля событий под узким и широким гауссами меняется с энергией"
   ]
  },
  {
   "cell_type": "code",
   "execution_count": 314,
   "metadata": {},
   "outputs": [
    {
     "data": {
      "text/plain": [
       "<ErrorbarContainer object of 3 artists>"
      ]
     },
     "execution_count": 314,
     "metadata": {},
     "output_type": "execute_result"
    },
    {
     "data": {
      "image/png": "[encoded data removed]",
      "text/plain": [
       "<Figure size 720x432 with 1 Axes>"
      ]
     },
     "metadata": {},
     "output_type": "display_data"
    }
   ],
   "source": [
    "plt.errorbar(data=df_sigma_an, x='emean', y='frac', xerr='deup', fmt='or')"
   ]
  },
  {
   "cell_type": "markdown",
   "metadata": {},
   "source": [
    "Теперь 2 гаусса для моделирования (`model_new`)"
   ]
  },
  {
   "cell_type": "code",
   "execution_count": 553,
   "metadata": {},
   "outputs": [
    {
     "data": {
      "text/plain": [
       "<ErrorbarContainer object of 3 artists>"
      ]
     },
     "execution_count": 553,
     "metadata": {},
     "output_type": "execute_result"
    },
    {
     "data": {
      "image/png": "[encoded data removed]",
      "text/plain": [
       "<Figure size 720x432 with 1 Axes>"
      ]
     },
     "metadata": {},
     "output_type": "display_data"
    }
   ],
   "source": [
    "en_an = [ 550. ,  562.5,  575. ,  587.5,  600. ,  612.5,  625. ,  637.5,\n",
    "        650. ,  662.5,  675. ,  687.5,  700. ,  712.5,  725. ,  737.5,\n",
    "        750. ,  762.5,  775. ,  787.5,  800. ,  812.5,  825. ,  837.5,\n",
    "        850. ,  862.5,  875. ,  887.5,  900. ,  912.5,  925. ,  935. ,\n",
    "        945. ,  950. ,  962.5,  975. ,  987.5, 1000. ]\n",
    "s1_an = [4.00928888, 4.33747255, 4.43559649, 3.803059  , 4.423181  ,\n",
    "       5.1014904 , 4.66565474, 4.5045961 , 4.87810257, 4.1960529 ,\n",
    "       5.43876272, 4.91843674, 5.14132747, 4.45975828, 5.31429813,\n",
    "       5.69505078, 5.60314509, 5.14196975, 5.3540354 , 5.16952826,\n",
    "       5.50877517, 4.94773543, 5.86872395, 5.33462472, 6.33305366,\n",
    "       5.50748813, 5.64094449, 6.22043922, 5.8916277 , 6.35738374,\n",
    "       5.86313576, 5.82890009, 6.48632741, 5.73844622, 5.75707775,\n",
    "       6.0104084 , 5.87187928, 6.64138695]\n",
    "s2_an = [10.24281036, 11.05319352, 11.18820377,  9.68060542, 12.08471558,\n",
    "       13.48858781, 13.14961493, 11.13335416, 11.74951692, 10.83995468,\n",
    "       11.62019776, 10.61195066, 13.99189698, 10.58376123, 13.09259816,\n",
    "       12.95582443, 13.64101323, 12.22498239, 13.24488383, 12.3034521 ,\n",
    "       12.69676957, 12.62291336, 12.27461984, 12.50987221, 14.22699406,\n",
    "       12.77836884, 12.39655738, 14.23327043, 12.70892288, 15.21270754,\n",
    "       13.44290652, 12.03170836, 14.54893378, 13.31082015, 11.72120822,\n",
    "       13.3503376 , 13.0830581 , 17.15999921]\n",
    "s1err_an = [0.24420247, 0.23628817, 0.2793554 , 0.43500637, 0.30562574,\n",
    "       0.41426316, 0.36829545, 0.57240212, 0.55104936, 0.83858414,\n",
    "       0.54760894, 0.72628265, 0.32523255, 0.51859386, 0.3644784 ,\n",
    "       0.43592776, 0.44839775, 0.42269701, 0.32609865, 0.3645667 ,\n",
    "       0.37670574, 0.36108701, 0.38803313, 0.29671017, 0.31075945,\n",
    "       0.34238496, 0.33784375, 0.2866558 , 0.54865994, 0.35272085,\n",
    "       0.43615359, 0.64643721, 0.55803832, 0.61537946, 0.86046785,\n",
    "       0.71916831, 0.972075  , 0.51998215]\n",
    "s2err_an = [1.02206463, 1.06032287, 1.28551181, 1.00666387, 1.33649728,\n",
    "       1.83713476, 1.38658335, 1.13404142, 1.28373445, 1.08777375,\n",
    "       1.78985585, 1.48944632, 0.89674085, 0.7724873 , 1.03681978,\n",
    "       1.19733482, 1.46254629, 0.7502984 , 0.97471297, 0.6738531 ,\n",
    "       0.78451445, 0.65602477, 0.80038106, 0.69198662, 0.94256228,\n",
    "       0.66889848, 0.66153967, 0.94133285, 0.96653921, 0.84317584,\n",
    "       0.94040895, 1.08274286, 1.57935263, 1.31951827, 1.03343693,\n",
    "       1.29964889, 1.72233654, 8.39968307]\n",
    "plt.errorbar(x=en_an, y=s1_an, yerr=s1err_an, fmt='ob')\n",
    "plt.errorbar(x=en_an, y=s2_an, yerr=s2err_an, fmt='or')"
   ]
  },
  {
   "cell_type": "markdown",
   "metadata": {},
   "source": [
    "По сигме всё более-менее хорошо, а вот следующее распределение по отношению событий в гауссах смущает.\n",
    "\n",
    "Возможно это из-за каких-то разногласий моделирования и эксперимента, хотелось бы верить, но неизвестно"
   ]
  },
  {
   "cell_type": "code",
   "execution_count": 554,
   "metadata": {},
   "outputs": [
    {
     "data": {
      "text/plain": [
       "<matplotlib.collections.PathCollection at 0x7fed74a147d0>"
      ]
     },
     "execution_count": 554,
     "metadata": {},
     "output_type": "execute_result"
    },
    {
     "data": {
      "image/png": "[encoded data removed]",
      "text/plain": [
       "<Figure size 720x432 with 1 Axes>"
      ]
     },
     "metadata": {},
     "output_type": "display_data"
    }
   ],
   "source": [
    "frac_an = [2.1047093 , 2.24281089, 2.16611316, 1.10671026, 1.93781416,\n",
    "       2.39827954, 1.91504091, 1.07766751, 1.31920011, 0.79416602,\n",
    "       1.84898383, 1.27802379, 1.73464467, 0.7721512 , 1.70095568,\n",
    "       1.58280159, 1.77529039, 1.09981627, 1.43251272, 0.97705235,\n",
    "       1.18825784, 0.9150671 , 1.18416207, 1.14115352, 1.6519543 ,\n",
    "       0.99945712, 1.00099901, 1.83883042, 0.96433868, 1.8047252 ,\n",
    "       1.04416522, 0.89545267, 1.29761692, 1.0409458 , 0.60057145,\n",
    "       0.86444899, 1.01426618, 1.57182104]\n",
    "plt.scatter(en_an, frac_an)"
   ]
  },
  {
   "cell_type": "markdown",
   "metadata": {},
   "source": [
    "### 17 год\n",
    "\n",
    "Моделирование по всем точкам даёт $\\sigma_1$ = 5.77, $\\sigma_2$ = 13.44"
   ]
  },
  {
   "cell_type": "code",
   "execution_count": null,
   "metadata": {},
   "outputs": [],
   "source": []
  },
  {
   "cell_type": "code",
   "execution_count": null,
   "metadata": {},
   "outputs": [],
   "source": []
  },
  {
   "cell_type": "code",
   "execution_count": null,
   "metadata": {},
   "outputs": [],
   "source": []
  },
  {
   "cell_type": "markdown",
   "metadata": {},
   "source": [
    "# Save fit info"
   ]
  },
  {
   "cell_type": "code",
   "execution_count": 286,
   "metadata": {},
   "outputs": [],
   "source": [
    "fit_frame.to_csv(f'../outputs/{year}/tables/fit_frame.csv')"
   ]
  },
  {
   "cell_type": "code",
   "execution_count": 287,
   "metadata": {},
   "outputs": [],
   "source": [
    "#mt.matrix(correlation=True)\n",
    "#mt.draw_profile('Nsig');"
   ]
  },
  {
   "cell_type": "code",
   "execution_count": 288,
   "metadata": {},
   "outputs": [],
   "source": [
    "dataN = fit_frame[['N','Nerr']]\n",
    "dataN.columns = ['Nsig', 'dNsig']"
   ]
  },
  {
   "cell_type": "code",
   "execution_count": 289,
   "metadata": {},
   "outputs": [
    {
     "data": {
      "text/html": [
       "<div>\n",
       "<style scoped>\n",
       "    .dataframe tbody tr th:only-of-type {\n",
       "        vertical-align: middle;\n",
       "    }\n",
       "\n",
       "    .dataframe tbody tr th {\n",
       "        vertical-align: top;\n",
       "    }\n",
       "\n",
       "    .dataframe thead th {\n",
       "        text-align: right;\n",
       "    }\n",
       "</style>\n",
       "<table border=\"1\" class=\"dataframe\">\n",
       "  <thead>\n",
       "    <tr style=\"text-align: right;\">\n",
       "      <th></th>\n",
       "      <th>Nsig</th>\n",
       "      <th>dNsig</th>\n",
       "    </tr>\n",
       "  </thead>\n",
       "  <tbody>\n",
       "    <tr>\n",
       "      <th>939.6</th>\n",
       "      <td>13.508678</td>\n",
       "      <td>4.522897</td>\n",
       "    </tr>\n",
       "    <tr>\n",
       "      <th>940.2</th>\n",
       "      <td>5.665648</td>\n",
       "      <td>4.394629</td>\n",
       "    </tr>\n",
       "    <tr>\n",
       "      <th>940.8</th>\n",
       "      <td>11.552445</td>\n",
       "      <td>5.013778</td>\n",
       "    </tr>\n",
       "    <tr>\n",
       "      <th>960.0</th>\n",
       "      <td>36.001240</td>\n",
       "      <td>8.245675</td>\n",
       "    </tr>\n",
       "    <tr>\n",
       "      <th>990.0</th>\n",
       "      <td>15.652315</td>\n",
       "      <td>5.111431</td>\n",
       "    </tr>\n",
       "  </tbody>\n",
       "</table>\n",
       "</div>"
      ],
      "text/plain": [
       "            Nsig     dNsig\n",
       "939.6  13.508678  4.522897\n",
       "940.2   5.665648  4.394629\n",
       "940.8  11.552445  5.013778\n",
       "960.0  36.001240  8.245675\n",
       "990.0  15.652315  5.111431"
      ]
     },
     "execution_count": 289,
     "metadata": {},
     "output_type": "execute_result"
    }
   ],
   "source": [
    "dataN.tail()"
   ]
  },
  {
   "cell_type": "markdown",
   "metadata": {},
   "source": [
    "I have got table with events numbers\n",
    "\n",
    "Now, I will get rid of m-field in the data table (because, I have used it)"
   ]
  },
  {
   "cell_type": "code",
   "execution_count": 290,
   "metadata": {},
   "outputs": [],
   "source": [
    "data_info = final_data.drop_duplicates(['name','lum']).drop(['mass', 'trigger'], axis=1).set_index('name')"
   ]
  },
  {
   "cell_type": "code",
   "execution_count": 291,
   "metadata": {},
   "outputs": [
    {
     "data": {
      "text/html": [
       "<div>\n",
       "<style scoped>\n",
       "    .dataframe tbody tr th:only-of-type {\n",
       "        vertical-align: middle;\n",
       "    }\n",
       "\n",
       "    .dataframe tbody tr th {\n",
       "        vertical-align: top;\n",
       "    }\n",
       "\n",
       "    .dataframe thead th {\n",
       "        text-align: right;\n",
       "    }\n",
       "</style>\n",
       "<table border=\"1\" class=\"dataframe\">\n",
       "  <thead>\n",
       "    <tr style=\"text-align: right;\">\n",
       "      <th></th>\n",
       "      <th>lum</th>\n",
       "      <th>dEmin</th>\n",
       "      <th>dEmax</th>\n",
       "      <th>Emean</th>\n",
       "      <th>Nsig</th>\n",
       "      <th>dNsig</th>\n",
       "    </tr>\n",
       "    <tr>\n",
       "      <th>name</th>\n",
       "      <th></th>\n",
       "      <th></th>\n",
       "      <th></th>\n",
       "      <th></th>\n",
       "      <th></th>\n",
       "      <th></th>\n",
       "    </tr>\n",
       "  </thead>\n",
       "  <tbody>\n",
       "    <tr>\n",
       "      <th>641.0</th>\n",
       "      <td>3097.960</td>\n",
       "      <td>0.00</td>\n",
       "      <td>0.00</td>\n",
       "      <td>641.02</td>\n",
       "      <td>329.451943</td>\n",
       "      <td>19.498623</td>\n",
       "    </tr>\n",
       "    <tr>\n",
       "      <th>650.0</th>\n",
       "      <td>876.635</td>\n",
       "      <td>0.00</td>\n",
       "      <td>0.00</td>\n",
       "      <td>649.77</td>\n",
       "      <td>99.984513</td>\n",
       "      <td>9.998704</td>\n",
       "    </tr>\n",
       "    <tr>\n",
       "      <th>675.0</th>\n",
       "      <td>1225.140</td>\n",
       "      <td>0.00</td>\n",
       "      <td>0.00</td>\n",
       "      <td>674.85</td>\n",
       "      <td>85.585588</td>\n",
       "      <td>10.044258</td>\n",
       "    </tr>\n",
       "    <tr>\n",
       "      <th>700.0</th>\n",
       "      <td>876.658</td>\n",
       "      <td>0.00</td>\n",
       "      <td>0.00</td>\n",
       "      <td>700.56</td>\n",
       "      <td>39.539176</td>\n",
       "      <td>6.909789</td>\n",
       "    </tr>\n",
       "    <tr>\n",
       "      <th>725.0</th>\n",
       "      <td>1114.220</td>\n",
       "      <td>0.00</td>\n",
       "      <td>0.00</td>\n",
       "      <td>724.94</td>\n",
       "      <td>62.339447</td>\n",
       "      <td>8.291776</td>\n",
       "    </tr>\n",
       "    <tr>\n",
       "      <th>750.0</th>\n",
       "      <td>1107.580</td>\n",
       "      <td>0.00</td>\n",
       "      <td>0.00</td>\n",
       "      <td>749.55</td>\n",
       "      <td>97.122267</td>\n",
       "      <td>10.480643</td>\n",
       "    </tr>\n",
       "    <tr>\n",
       "      <th>775.0</th>\n",
       "      <td>970.862</td>\n",
       "      <td>0.00</td>\n",
       "      <td>0.00</td>\n",
       "      <td>774.85</td>\n",
       "      <td>106.979811</td>\n",
       "      <td>10.342441</td>\n",
       "    </tr>\n",
       "    <tr>\n",
       "      <th>800.0</th>\n",
       "      <td>1241.540</td>\n",
       "      <td>0.00</td>\n",
       "      <td>0.00</td>\n",
       "      <td>800.86</td>\n",
       "      <td>165.801698</td>\n",
       "      <td>13.338868</td>\n",
       "    </tr>\n",
       "    <tr>\n",
       "      <th>825.0</th>\n",
       "      <td>1381.860</td>\n",
       "      <td>0.00</td>\n",
       "      <td>0.00</td>\n",
       "      <td>825.05</td>\n",
       "      <td>191.622425</td>\n",
       "      <td>14.294359</td>\n",
       "    </tr>\n",
       "    <tr>\n",
       "      <th>840.0</th>\n",
       "      <td>635.647</td>\n",
       "      <td>0.00</td>\n",
       "      <td>0.00</td>\n",
       "      <td>839.47</td>\n",
       "      <td>80.976600</td>\n",
       "      <td>9.614629</td>\n",
       "    </tr>\n",
       "    <tr>\n",
       "      <th>850.0</th>\n",
       "      <td>942.086</td>\n",
       "      <td>0.00</td>\n",
       "      <td>0.00</td>\n",
       "      <td>846.81</td>\n",
       "      <td>47.339667</td>\n",
       "      <td>7.342805</td>\n",
       "    </tr>\n",
       "    <tr>\n",
       "      <th>860.0</th>\n",
       "      <td>922.378</td>\n",
       "      <td>0.00</td>\n",
       "      <td>0.00</td>\n",
       "      <td>857.23</td>\n",
       "      <td>30.036873</td>\n",
       "      <td>5.597422</td>\n",
       "    </tr>\n",
       "    <tr>\n",
       "      <th>870.0</th>\n",
       "      <td>941.906</td>\n",
       "      <td>0.00</td>\n",
       "      <td>0.00</td>\n",
       "      <td>867.15</td>\n",
       "      <td>19.190740</td>\n",
       "      <td>4.778864</td>\n",
       "    </tr>\n",
       "    <tr>\n",
       "      <th>900.0</th>\n",
       "      <td>4238.757</td>\n",
       "      <td>17.01</td>\n",
       "      <td>15.74</td>\n",
       "      <td>893.98</td>\n",
       "      <td>37.797833</td>\n",
       "      <td>9.115722</td>\n",
       "    </tr>\n",
       "    <tr>\n",
       "      <th>935.0</th>\n",
       "      <td>5042.760</td>\n",
       "      <td>10.17</td>\n",
       "      <td>6.99</td>\n",
       "      <td>930.13</td>\n",
       "      <td>34.667628</td>\n",
       "      <td>7.006774</td>\n",
       "    </tr>\n",
       "    <tr>\n",
       "      <th>937.4</th>\n",
       "      <td>1895.780</td>\n",
       "      <td>0.00</td>\n",
       "      <td>0.00</td>\n",
       "      <td>937.42</td>\n",
       "      <td>10.625991</td>\n",
       "      <td>3.947002</td>\n",
       "    </tr>\n",
       "    <tr>\n",
       "      <th>938.3</th>\n",
       "      <td>2534.810</td>\n",
       "      <td>0.00</td>\n",
       "      <td>0.00</td>\n",
       "      <td>938.18</td>\n",
       "      <td>6.010016</td>\n",
       "      <td>2.997291</td>\n",
       "    </tr>\n",
       "    <tr>\n",
       "      <th>938.9</th>\n",
       "      <td>2067.970</td>\n",
       "      <td>0.00</td>\n",
       "      <td>0.00</td>\n",
       "      <td>938.75</td>\n",
       "      <td>19.967303</td>\n",
       "      <td>5.962587</td>\n",
       "    </tr>\n",
       "    <tr>\n",
       "      <th>939.6</th>\n",
       "      <td>2028.130</td>\n",
       "      <td>0.00</td>\n",
       "      <td>0.00</td>\n",
       "      <td>939.46</td>\n",
       "      <td>13.508678</td>\n",
       "      <td>4.522897</td>\n",
       "    </tr>\n",
       "    <tr>\n",
       "      <th>940.2</th>\n",
       "      <td>1909.530</td>\n",
       "      <td>0.00</td>\n",
       "      <td>0.00</td>\n",
       "      <td>940.20</td>\n",
       "      <td>5.665648</td>\n",
       "      <td>4.394629</td>\n",
       "    </tr>\n",
       "    <tr>\n",
       "      <th>940.8</th>\n",
       "      <td>1875.840</td>\n",
       "      <td>0.00</td>\n",
       "      <td>0.00</td>\n",
       "      <td>940.56</td>\n",
       "      <td>11.552445</td>\n",
       "      <td>5.013778</td>\n",
       "    </tr>\n",
       "    <tr>\n",
       "      <th>960.0</th>\n",
       "      <td>5632.170</td>\n",
       "      <td>15.52</td>\n",
       "      <td>13.84</td>\n",
       "      <td>957.40</td>\n",
       "      <td>36.001240</td>\n",
       "      <td>8.245675</td>\n",
       "    </tr>\n",
       "    <tr>\n",
       "      <th>990.0</th>\n",
       "      <td>6358.030</td>\n",
       "      <td>14.54</td>\n",
       "      <td>6.81</td>\n",
       "      <td>996.50</td>\n",
       "      <td>15.652315</td>\n",
       "      <td>5.111431</td>\n",
       "    </tr>\n",
       "  </tbody>\n",
       "</table>\n",
       "</div>"
      ],
      "text/plain": [
       "            lum  dEmin  dEmax   Emean        Nsig      dNsig\n",
       "name                                                        \n",
       "641.0  3097.960   0.00   0.00  641.02  329.451943  19.498623\n",
       "650.0   876.635   0.00   0.00  649.77   99.984513   9.998704\n",
       "675.0  1225.140   0.00   0.00  674.85   85.585588  10.044258\n",
       "700.0   876.658   0.00   0.00  700.56   39.539176   6.909789\n",
       "725.0  1114.220   0.00   0.00  724.94   62.339447   8.291776\n",
       "750.0  1107.580   0.00   0.00  749.55   97.122267  10.480643\n",
       "775.0   970.862   0.00   0.00  774.85  106.979811  10.342441\n",
       "800.0  1241.540   0.00   0.00  800.86  165.801698  13.338868\n",
       "825.0  1381.860   0.00   0.00  825.05  191.622425  14.294359\n",
       "840.0   635.647   0.00   0.00  839.47   80.976600   9.614629\n",
       "850.0   942.086   0.00   0.00  846.81   47.339667   7.342805\n",
       "860.0   922.378   0.00   0.00  857.23   30.036873   5.597422\n",
       "870.0   941.906   0.00   0.00  867.15   19.190740   4.778864\n",
       "900.0  4238.757  17.01  15.74  893.98   37.797833   9.115722\n",
       "935.0  5042.760  10.17   6.99  930.13   34.667628   7.006774\n",
       "937.4  1895.780   0.00   0.00  937.42   10.625991   3.947002\n",
       "938.3  2534.810   0.00   0.00  938.18    6.010016   2.997291\n",
       "938.9  2067.970   0.00   0.00  938.75   19.967303   5.962587\n",
       "939.6  2028.130   0.00   0.00  939.46   13.508678   4.522897\n",
       "940.2  1909.530   0.00   0.00  940.20    5.665648   4.394629\n",
       "940.8  1875.840   0.00   0.00  940.56   11.552445   5.013778\n",
       "960.0  5632.170  15.52  13.84  957.40   36.001240   8.245675\n",
       "990.0  6358.030  14.54   6.81  996.50   15.652315   5.111431"
      ]
     },
     "execution_count": 291,
     "metadata": {},
     "output_type": "execute_result"
    }
   ],
   "source": [
    "dataN = data_info.join(dataN, how='inner')\n",
    "dataN"
   ]
  },
  {
   "cell_type": "code",
   "execution_count": 292,
   "metadata": {},
   "outputs": [
    {
     "name": "stdout",
     "output_type": "stream",
     "text": [
      "Good. 23 rows\n"
     ]
    }
   ],
   "source": [
    "check_foo(dataN, fit_frame)"
   ]
  },
  {
   "cell_type": "markdown",
   "metadata": {},
   "source": [
    "OK, save it"
   ]
  },
  {
   "cell_type": "code",
   "execution_count": 293,
   "metadata": {},
   "outputs": [],
   "source": [
    "dataN.to_csv(f'../outputs/{year}/tables/signal_table{year}.csv', float_format='%.2f')"
   ]
  },
  {
   "cell_type": "markdown",
   "metadata": {},
   "source": [
    "Ok, now about triggers"
   ]
  },
  {
   "cell_type": "code",
   "execution_count": 294,
   "metadata": {
    "scrolled": true
   },
   "outputs": [],
   "source": [
    "triggers = final_data[['trigger','name']].set_index('name')\n",
    "triggers = triggers.assign(one = 1);"
   ]
  },
  {
   "cell_type": "code",
   "execution_count": 295,
   "metadata": {},
   "outputs": [
    {
     "data": {
      "text/html": [
       "<div>\n",
       "<style scoped>\n",
       "    .dataframe tbody tr th:only-of-type {\n",
       "        vertical-align: middle;\n",
       "    }\n",
       "\n",
       "    .dataframe tbody tr th {\n",
       "        vertical-align: top;\n",
       "    }\n",
       "\n",
       "    .dataframe thead th {\n",
       "        text-align: right;\n",
       "    }\n",
       "</style>\n",
       "<table border=\"1\" class=\"dataframe\">\n",
       "  <thead>\n",
       "    <tr style=\"text-align: right;\">\n",
       "      <th></th>\n",
       "      <th>trigger</th>\n",
       "      <th>one</th>\n",
       "    </tr>\n",
       "    <tr>\n",
       "      <th>name</th>\n",
       "      <th></th>\n",
       "      <th></th>\n",
       "    </tr>\n",
       "  </thead>\n",
       "  <tbody>\n",
       "    <tr>\n",
       "      <th>641.0</th>\n",
       "      <td>2</td>\n",
       "      <td>1</td>\n",
       "    </tr>\n",
       "    <tr>\n",
       "      <th>641.0</th>\n",
       "      <td>2</td>\n",
       "      <td>1</td>\n",
       "    </tr>\n",
       "    <tr>\n",
       "      <th>641.0</th>\n",
       "      <td>2</td>\n",
       "      <td>1</td>\n",
       "    </tr>\n",
       "    <tr>\n",
       "      <th>641.0</th>\n",
       "      <td>2</td>\n",
       "      <td>1</td>\n",
       "    </tr>\n",
       "    <tr>\n",
       "      <th>641.0</th>\n",
       "      <td>0</td>\n",
       "      <td>1</td>\n",
       "    </tr>\n",
       "    <tr>\n",
       "      <th>...</th>\n",
       "      <td>...</td>\n",
       "      <td>...</td>\n",
       "    </tr>\n",
       "    <tr>\n",
       "      <th>990.0</th>\n",
       "      <td>2</td>\n",
       "      <td>1</td>\n",
       "    </tr>\n",
       "    <tr>\n",
       "      <th>990.0</th>\n",
       "      <td>2</td>\n",
       "      <td>1</td>\n",
       "    </tr>\n",
       "    <tr>\n",
       "      <th>990.0</th>\n",
       "      <td>2</td>\n",
       "      <td>1</td>\n",
       "    </tr>\n",
       "    <tr>\n",
       "      <th>990.0</th>\n",
       "      <td>2</td>\n",
       "      <td>1</td>\n",
       "    </tr>\n",
       "    <tr>\n",
       "      <th>990.0</th>\n",
       "      <td>2</td>\n",
       "      <td>1</td>\n",
       "    </tr>\n",
       "  </tbody>\n",
       "</table>\n",
       "<p>1776 rows × 2 columns</p>\n",
       "</div>"
      ],
      "text/plain": [
       "       trigger  one\n",
       "name               \n",
       "641.0        2    1\n",
       "641.0        2    1\n",
       "641.0        2    1\n",
       "641.0        2    1\n",
       "641.0        0    1\n",
       "...        ...  ...\n",
       "990.0        2    1\n",
       "990.0        2    1\n",
       "990.0        2    1\n",
       "990.0        2    1\n",
       "990.0        2    1\n",
       "\n",
       "[1776 rows x 2 columns]"
      ]
     },
     "execution_count": 295,
     "metadata": {},
     "output_type": "execute_result"
    }
   ],
   "source": [
    "triggers"
   ]
  },
  {
   "cell_type": "code",
   "execution_count": 296,
   "metadata": {},
   "outputs": [
    {
     "name": "stdout",
     "output_type": "stream",
     "text": [
      "Good. 1776 rows\n"
     ]
    }
   ],
   "source": [
    "check_foo(triggers, final_data)"
   ]
  },
  {
   "cell_type": "code",
   "execution_count": 297,
   "metadata": {},
   "outputs": [],
   "source": [
    "triggers = pd.pivot_table(triggers, values='one', columns=['trigger'], index='name', aggfunc=np.sum).fillna(0)"
   ]
  },
  {
   "cell_type": "code",
   "execution_count": 298,
   "metadata": {},
   "outputs": [],
   "source": [
    "triggers.columns = ['TF', 'CF', 'TC']"
   ]
  },
  {
   "cell_type": "code",
   "execution_count": 299,
   "metadata": {},
   "outputs": [
    {
     "data": {
      "text/html": [
       "<div>\n",
       "<style scoped>\n",
       "    .dataframe tbody tr th:only-of-type {\n",
       "        vertical-align: middle;\n",
       "    }\n",
       "\n",
       "    .dataframe tbody tr th {\n",
       "        vertical-align: top;\n",
       "    }\n",
       "\n",
       "    .dataframe thead th {\n",
       "        text-align: right;\n",
       "    }\n",
       "</style>\n",
       "<table border=\"1\" class=\"dataframe\">\n",
       "  <thead>\n",
       "    <tr style=\"text-align: right;\">\n",
       "      <th></th>\n",
       "      <th>TF</th>\n",
       "      <th>CF</th>\n",
       "      <th>TC</th>\n",
       "    </tr>\n",
       "    <tr>\n",
       "      <th>name</th>\n",
       "      <th></th>\n",
       "      <th></th>\n",
       "      <th></th>\n",
       "    </tr>\n",
       "  </thead>\n",
       "  <tbody>\n",
       "    <tr>\n",
       "      <th>641.0</th>\n",
       "      <td>83.0</td>\n",
       "      <td>4.0</td>\n",
       "      <td>258.0</td>\n",
       "    </tr>\n",
       "    <tr>\n",
       "      <th>650.0</th>\n",
       "      <td>13.0</td>\n",
       "      <td>0.0</td>\n",
       "      <td>87.0</td>\n",
       "    </tr>\n",
       "    <tr>\n",
       "      <th>675.0</th>\n",
       "      <td>25.0</td>\n",
       "      <td>4.0</td>\n",
       "      <td>64.0</td>\n",
       "    </tr>\n",
       "    <tr>\n",
       "      <th>700.0</th>\n",
       "      <td>11.0</td>\n",
       "      <td>1.0</td>\n",
       "      <td>31.0</td>\n",
       "    </tr>\n",
       "    <tr>\n",
       "      <th>725.0</th>\n",
       "      <td>13.0</td>\n",
       "      <td>2.0</td>\n",
       "      <td>49.0</td>\n",
       "    </tr>\n",
       "  </tbody>\n",
       "</table>\n",
       "</div>"
      ],
      "text/plain": [
       "         TF   CF     TC\n",
       "name                   \n",
       "641.0  83.0  4.0  258.0\n",
       "650.0  13.0  0.0   87.0\n",
       "675.0  25.0  4.0   64.0\n",
       "700.0  11.0  1.0   31.0\n",
       "725.0  13.0  2.0   49.0"
      ]
     },
     "execution_count": 299,
     "metadata": {},
     "output_type": "execute_result"
    }
   ],
   "source": [
    "triggers.head()"
   ]
  },
  {
   "cell_type": "code",
   "execution_count": 300,
   "metadata": {},
   "outputs": [],
   "source": [
    "def variance(k, n):\n",
    "    return (k+1)*(k+2)/(n+2)/(n+3) - (k+1)**2/(n+2)**2"
   ]
  },
  {
   "cell_type": "code",
   "execution_count": 301,
   "metadata": {},
   "outputs": [],
   "source": [
    "triggers['eTF'] = (triggers['TC'] + 1)/(triggers['CF'] + triggers['TC'] + 2)\n",
    "triggers['eCF'] = (triggers['TC'] + 1)/(triggers['TF'] + triggers['TC'] + 2)\n",
    "triggers['TrigEff'] = 1 - (1-triggers['eTF'])*(1-triggers['eCF'])\n",
    "\n",
    "triggers['vTF'] = np.sqrt( variance(triggers['TC'], triggers['CF'] + triggers['TC']) )\n",
    "triggers['vCF'] = np.sqrt( variance(triggers['TC'], triggers['TF'] + triggers['TC']) )\n",
    "triggers['TrigErr'] = np.sqrt( np.square((1-triggers['eTF'])*triggers['vCF']) + \n",
    "                              np.square((1-triggers['eCF'])*triggers['vTF']) )"
   ]
  },
  {
   "cell_type": "markdown",
   "metadata": {},
   "source": [
    "OK, trigers have been got"
   ]
  },
  {
   "cell_type": "code",
   "execution_count": 302,
   "metadata": {},
   "outputs": [
    {
     "name": "stdout",
     "output_type": "stream",
     "text": [
      "Good. 23 rows\n"
     ]
    }
   ],
   "source": [
    "check_foo(triggers, dataN)"
   ]
  },
  {
   "cell_type": "code",
   "execution_count": 303,
   "metadata": {},
   "outputs": [],
   "source": [
    "triggers.to_csv(f'../outputs/{year}/tables/triggers{year}.csv', float_format='%.2f')"
   ]
  },
  {
   "cell_type": "code",
   "execution_count": 304,
   "metadata": {},
   "outputs": [
    {
     "data": {
      "text/html": [
       "<div>\n",
       "<style scoped>\n",
       "    .dataframe tbody tr th:only-of-type {\n",
       "        vertical-align: middle;\n",
       "    }\n",
       "\n",
       "    .dataframe tbody tr th {\n",
       "        vertical-align: top;\n",
       "    }\n",
       "\n",
       "    .dataframe thead th {\n",
       "        text-align: right;\n",
       "    }\n",
       "</style>\n",
       "<table border=\"1\" class=\"dataframe\">\n",
       "  <thead>\n",
       "    <tr style=\"text-align: right;\">\n",
       "      <th></th>\n",
       "      <th>TF</th>\n",
       "      <th>CF</th>\n",
       "      <th>TC</th>\n",
       "      <th>eTF</th>\n",
       "      <th>eCF</th>\n",
       "      <th>TrigEff</th>\n",
       "      <th>vTF</th>\n",
       "      <th>vCF</th>\n",
       "      <th>TrigErr</th>\n",
       "    </tr>\n",
       "    <tr>\n",
       "      <th>name</th>\n",
       "      <th></th>\n",
       "      <th></th>\n",
       "      <th></th>\n",
       "      <th></th>\n",
       "      <th></th>\n",
       "      <th></th>\n",
       "      <th></th>\n",
       "      <th></th>\n",
       "      <th></th>\n",
       "    </tr>\n",
       "  </thead>\n",
       "  <tbody>\n",
       "    <tr>\n",
       "      <th>641.0</th>\n",
       "      <td>83.0</td>\n",
       "      <td>4.0</td>\n",
       "      <td>258.0</td>\n",
       "      <td>0.981061</td>\n",
       "      <td>0.755102</td>\n",
       "      <td>0.995362</td>\n",
       "      <td>0.008374</td>\n",
       "      <td>0.023185</td>\n",
       "      <td>0.002097</td>\n",
       "    </tr>\n",
       "    <tr>\n",
       "      <th>650.0</th>\n",
       "      <td>13.0</td>\n",
       "      <td>0.0</td>\n",
       "      <td>87.0</td>\n",
       "      <td>0.988764</td>\n",
       "      <td>0.862745</td>\n",
       "      <td>0.998458</td>\n",
       "      <td>0.011110</td>\n",
       "      <td>0.033907</td>\n",
       "      <td>0.001572</td>\n",
       "    </tr>\n",
       "    <tr>\n",
       "      <th>675.0</th>\n",
       "      <td>25.0</td>\n",
       "      <td>4.0</td>\n",
       "      <td>64.0</td>\n",
       "      <td>0.928571</td>\n",
       "      <td>0.714286</td>\n",
       "      <td>0.979592</td>\n",
       "      <td>0.030564</td>\n",
       "      <td>0.047099</td>\n",
       "      <td>0.009358</td>\n",
       "    </tr>\n",
       "    <tr>\n",
       "      <th>700.0</th>\n",
       "      <td>11.0</td>\n",
       "      <td>1.0</td>\n",
       "      <td>31.0</td>\n",
       "      <td>0.941176</td>\n",
       "      <td>0.727273</td>\n",
       "      <td>0.983957</td>\n",
       "      <td>0.039772</td>\n",
       "      <td>0.066391</td>\n",
       "      <td>0.011529</td>\n",
       "    </tr>\n",
       "    <tr>\n",
       "      <th>725.0</th>\n",
       "      <td>13.0</td>\n",
       "      <td>2.0</td>\n",
       "      <td>49.0</td>\n",
       "      <td>0.943396</td>\n",
       "      <td>0.781250</td>\n",
       "      <td>0.987618</td>\n",
       "      <td>0.031447</td>\n",
       "      <td>0.051276</td>\n",
       "      <td>0.007466</td>\n",
       "    </tr>\n",
       "    <tr>\n",
       "      <th>750.0</th>\n",
       "      <td>24.0</td>\n",
       "      <td>3.0</td>\n",
       "      <td>75.0</td>\n",
       "      <td>0.950000</td>\n",
       "      <td>0.752475</td>\n",
       "      <td>0.987624</td>\n",
       "      <td>0.024216</td>\n",
       "      <td>0.042732</td>\n",
       "      <td>0.006364</td>\n",
       "    </tr>\n",
       "    <tr>\n",
       "      <th>775.0</th>\n",
       "      <td>20.0</td>\n",
       "      <td>2.0</td>\n",
       "      <td>85.0</td>\n",
       "      <td>0.966292</td>\n",
       "      <td>0.803738</td>\n",
       "      <td>0.993384</td>\n",
       "      <td>0.019024</td>\n",
       "      <td>0.038218</td>\n",
       "      <td>0.003950</td>\n",
       "    </tr>\n",
       "    <tr>\n",
       "      <th>800.0</th>\n",
       "      <td>36.0</td>\n",
       "      <td>3.0</td>\n",
       "      <td>133.0</td>\n",
       "      <td>0.971014</td>\n",
       "      <td>0.783626</td>\n",
       "      <td>0.993728</td>\n",
       "      <td>0.014230</td>\n",
       "      <td>0.031397</td>\n",
       "      <td>0.003211</td>\n",
       "    </tr>\n",
       "    <tr>\n",
       "      <th>825.0</th>\n",
       "      <td>49.0</td>\n",
       "      <td>2.0</td>\n",
       "      <td>146.0</td>\n",
       "      <td>0.980000</td>\n",
       "      <td>0.746193</td>\n",
       "      <td>0.994924</td>\n",
       "      <td>0.011393</td>\n",
       "      <td>0.030928</td>\n",
       "      <td>0.002957</td>\n",
       "    </tr>\n",
       "    <tr>\n",
       "      <th>840.0</th>\n",
       "      <td>27.0</td>\n",
       "      <td>0.0</td>\n",
       "      <td>60.0</td>\n",
       "      <td>0.983871</td>\n",
       "      <td>0.685393</td>\n",
       "      <td>0.994926</td>\n",
       "      <td>0.015871</td>\n",
       "      <td>0.048948</td>\n",
       "      <td>0.005055</td>\n",
       "    </tr>\n",
       "    <tr>\n",
       "      <th>850.0</th>\n",
       "      <td>20.0</td>\n",
       "      <td>0.0</td>\n",
       "      <td>32.0</td>\n",
       "      <td>0.970588</td>\n",
       "      <td>0.611111</td>\n",
       "      <td>0.988562</td>\n",
       "      <td>0.028559</td>\n",
       "      <td>0.065734</td>\n",
       "      <td>0.011273</td>\n",
       "    </tr>\n",
       "    <tr>\n",
       "      <th>860.0</th>\n",
       "      <td>15.0</td>\n",
       "      <td>1.0</td>\n",
       "      <td>17.0</td>\n",
       "      <td>0.900000</td>\n",
       "      <td>0.529412</td>\n",
       "      <td>0.952941</td>\n",
       "      <td>0.065465</td>\n",
       "      <td>0.084369</td>\n",
       "      <td>0.031942</td>\n",
       "    </tr>\n",
       "    <tr>\n",
       "      <th>870.0</th>\n",
       "      <td>9.0</td>\n",
       "      <td>1.0</td>\n",
       "      <td>19.0</td>\n",
       "      <td>0.909091</td>\n",
       "      <td>0.666667</td>\n",
       "      <td>0.969697</td>\n",
       "      <td>0.059944</td>\n",
       "      <td>0.084667</td>\n",
       "      <td>0.021412</td>\n",
       "    </tr>\n",
       "    <tr>\n",
       "      <th>900.0</th>\n",
       "      <td>21.0</td>\n",
       "      <td>3.0</td>\n",
       "      <td>24.0</td>\n",
       "      <td>0.862069</td>\n",
       "      <td>0.531915</td>\n",
       "      <td>0.935437</td>\n",
       "      <td>0.062957</td>\n",
       "      <td>0.072022</td>\n",
       "      <td>0.031098</td>\n",
       "    </tr>\n",
       "    <tr>\n",
       "      <th>935.0</th>\n",
       "      <td>20.0</td>\n",
       "      <td>7.0</td>\n",
       "      <td>49.0</td>\n",
       "      <td>0.862069</td>\n",
       "      <td>0.704225</td>\n",
       "      <td>0.959203</td>\n",
       "      <td>0.044893</td>\n",
       "      <td>0.053786</td>\n",
       "      <td>0.015210</td>\n",
       "    </tr>\n",
       "    <tr>\n",
       "      <th>937.4</th>\n",
       "      <td>10.0</td>\n",
       "      <td>0.0</td>\n",
       "      <td>18.0</td>\n",
       "      <td>0.950000</td>\n",
       "      <td>0.633333</td>\n",
       "      <td>0.981667</td>\n",
       "      <td>0.047559</td>\n",
       "      <td>0.086551</td>\n",
       "      <td>0.017967</td>\n",
       "    </tr>\n",
       "    <tr>\n",
       "      <th>938.3</th>\n",
       "      <td>7.0</td>\n",
       "      <td>2.0</td>\n",
       "      <td>9.0</td>\n",
       "      <td>0.769231</td>\n",
       "      <td>0.555556</td>\n",
       "      <td>0.897436</td>\n",
       "      <td>0.112604</td>\n",
       "      <td>0.113998</td>\n",
       "      <td>0.056539</td>\n",
       "    </tr>\n",
       "    <tr>\n",
       "      <th>938.9</th>\n",
       "      <td>9.0</td>\n",
       "      <td>0.0</td>\n",
       "      <td>17.0</td>\n",
       "      <td>0.947368</td>\n",
       "      <td>0.642857</td>\n",
       "      <td>0.981203</td>\n",
       "      <td>0.049931</td>\n",
       "      <td>0.088977</td>\n",
       "      <td>0.018437</td>\n",
       "    </tr>\n",
       "    <tr>\n",
       "      <th>939.6</th>\n",
       "      <td>4.0</td>\n",
       "      <td>1.0</td>\n",
       "      <td>12.0</td>\n",
       "      <td>0.866667</td>\n",
       "      <td>0.722222</td>\n",
       "      <td>0.962963</td>\n",
       "      <td>0.084984</td>\n",
       "      <td>0.102756</td>\n",
       "      <td>0.027294</td>\n",
       "    </tr>\n",
       "    <tr>\n",
       "      <th>940.2</th>\n",
       "      <td>3.0</td>\n",
       "      <td>3.0</td>\n",
       "      <td>11.0</td>\n",
       "      <td>0.750000</td>\n",
       "      <td>0.750000</td>\n",
       "      <td>0.937500</td>\n",
       "      <td>0.105021</td>\n",
       "      <td>0.105021</td>\n",
       "      <td>0.037131</td>\n",
       "    </tr>\n",
       "    <tr>\n",
       "      <th>940.8</th>\n",
       "      <td>4.0</td>\n",
       "      <td>3.0</td>\n",
       "      <td>14.0</td>\n",
       "      <td>0.789474</td>\n",
       "      <td>0.750000</td>\n",
       "      <td>0.947368</td>\n",
       "      <td>0.091161</td>\n",
       "      <td>0.094491</td>\n",
       "      <td>0.030251</td>\n",
       "    </tr>\n",
       "    <tr>\n",
       "      <th>960.0</th>\n",
       "      <td>11.0</td>\n",
       "      <td>4.0</td>\n",
       "      <td>32.0</td>\n",
       "      <td>0.868421</td>\n",
       "      <td>0.733333</td>\n",
       "      <td>0.964912</td>\n",
       "      <td>0.054129</td>\n",
       "      <td>0.065201</td>\n",
       "      <td>0.016791</td>\n",
       "    </tr>\n",
       "    <tr>\n",
       "      <th>990.0</th>\n",
       "      <td>14.0</td>\n",
       "      <td>0.0</td>\n",
       "      <td>40.0</td>\n",
       "      <td>0.976190</td>\n",
       "      <td>0.732143</td>\n",
       "      <td>0.993622</td>\n",
       "      <td>0.023249</td>\n",
       "      <td>0.058656</td>\n",
       "      <td>0.006382</td>\n",
       "    </tr>\n",
       "  </tbody>\n",
       "</table>\n",
       "</div>"
      ],
      "text/plain": [
       "         TF   CF     TC       eTF       eCF   TrigEff       vTF       vCF  \\\n",
       "name                                                                        \n",
       "641.0  83.0  4.0  258.0  0.981061  0.755102  0.995362  0.008374  0.023185   \n",
       "650.0  13.0  0.0   87.0  0.988764  0.862745  0.998458  0.011110  0.033907   \n",
       "675.0  25.0  4.0   64.0  0.928571  0.714286  0.979592  0.030564  0.047099   \n",
       "700.0  11.0  1.0   31.0  0.941176  0.727273  0.983957  0.039772  0.066391   \n",
       "725.0  13.0  2.0   49.0  0.943396  0.781250  0.987618  0.031447  0.051276   \n",
       "750.0  24.0  3.0   75.0  0.950000  0.752475  0.987624  0.024216  0.042732   \n",
       "775.0  20.0  2.0   85.0  0.966292  0.803738  0.993384  0.019024  0.038218   \n",
       "800.0  36.0  3.0  133.0  0.971014  0.783626  0.993728  0.014230  0.031397   \n",
       "825.0  49.0  2.0  146.0  0.980000  0.746193  0.994924  0.011393  0.030928   \n",
       "840.0  27.0  0.0   60.0  0.983871  0.685393  0.994926  0.015871  0.048948   \n",
       "850.0  20.0  0.0   32.0  0.970588  0.611111  0.988562  0.028559  0.065734   \n",
       "860.0  15.0  1.0   17.0  0.900000  0.529412  0.952941  0.065465  0.084369   \n",
       "870.0   9.0  1.0   19.0  0.909091  0.666667  0.969697  0.059944  0.084667   \n",
       "900.0  21.0  3.0   24.0  0.862069  0.531915  0.935437  0.062957  0.072022   \n",
       "935.0  20.0  7.0   49.0  0.862069  0.704225  0.959203  0.044893  0.053786   \n",
       "937.4  10.0  0.0   18.0  0.950000  0.633333  0.981667  0.047559  0.086551   \n",
       "938.3   7.0  2.0    9.0  0.769231  0.555556  0.897436  0.112604  0.113998   \n",
       "938.9   9.0  0.0   17.0  0.947368  0.642857  0.981203  0.049931  0.088977   \n",
       "939.6   4.0  1.0   12.0  0.866667  0.722222  0.962963  0.084984  0.102756   \n",
       "940.2   3.0  3.0   11.0  0.750000  0.750000  0.937500  0.105021  0.105021   \n",
       "940.8   4.0  3.0   14.0  0.789474  0.750000  0.947368  0.091161  0.094491   \n",
       "960.0  11.0  4.0   32.0  0.868421  0.733333  0.964912  0.054129  0.065201   \n",
       "990.0  14.0  0.0   40.0  0.976190  0.732143  0.993622  0.023249  0.058656   \n",
       "\n",
       "        TrigErr  \n",
       "name             \n",
       "641.0  0.002097  \n",
       "650.0  0.001572  \n",
       "675.0  0.009358  \n",
       "700.0  0.011529  \n",
       "725.0  0.007466  \n",
       "750.0  0.006364  \n",
       "775.0  0.003950  \n",
       "800.0  0.003211  \n",
       "825.0  0.002957  \n",
       "840.0  0.005055  \n",
       "850.0  0.011273  \n",
       "860.0  0.031942  \n",
       "870.0  0.021412  \n",
       "900.0  0.031098  \n",
       "935.0  0.015210  \n",
       "937.4  0.017967  \n",
       "938.3  0.056539  \n",
       "938.9  0.018437  \n",
       "939.6  0.027294  \n",
       "940.2  0.037131  \n",
       "940.8  0.030251  \n",
       "960.0  0.016791  \n",
       "990.0  0.006382  "
      ]
     },
     "execution_count": 304,
     "metadata": {},
     "output_type": "execute_result"
    }
   ],
   "source": [
    "triggers"
   ]
  },
  {
   "cell_type": "code",
   "execution_count": null,
   "metadata": {},
   "outputs": [],
   "source": []
  }
 ],
 "metadata": {
  "kernelspec": {
   "display_name": "Python 3",
   "language": "python",
   "name": "python3"
  },
  "language_info": {
   "codemirror_mode": {
    "name": "ipython",
    "version": 3
   },
   "file_extension": ".py",
   "mimetype": "text/x-python",
   "name": "python",
   "nbconvert_exporter": "python",
   "pygments_lexer": "ipython3",
   "version": "3.7.5"
  }
 },
 "nbformat": 4,
 "nbformat_minor": 2
}
