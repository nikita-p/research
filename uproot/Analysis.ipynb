{
 "cells": [
  {
   "cell_type": "code",
   "execution_count": 2,
   "metadata": {},
   "outputs": [],
   "source": [
    "import uproot\n",
    "import numpy as np\n",
    "import pandas as pd\n",
    "import matplotlib.pyplot as plt\n",
    "import seaborn as sns\n",
    "%matplotlib inline"
   ]
  },
  {
   "cell_type": "code",
   "execution_count": 3,
   "metadata": {},
   "outputs": [],
   "source": [
    "sns.set(rc={'figure.figsize':(11.7,8.27)})"
   ]
  },
  {
   "cell_type": "code",
   "execution_count": 4,
   "metadata": {},
   "outputs": [],
   "source": [
    "year = 'model'"
   ]
  },
  {
   "cell_type": "markdown",
   "metadata": {},
   "source": [
    "Open data files and transform them into pandas dataframe"
   ]
  },
  {
   "cell_type": "code",
   "execution_count": 8,
   "metadata": {},
   "outputs": [],
   "source": [
    "f = uproot.pandas.iterate(\"../outputs/\"+year+\"/*.root\", \"t\")\n",
    "data = pd.concat([j for j in f])[['label', 'be', 'm', 't']]"
   ]
  },
  {
   "cell_type": "markdown",
   "metadata": {},
   "source": [
    "Sort values by label"
   ]
  },
  {
   "cell_type": "code",
   "execution_count": 9,
   "metadata": {},
   "outputs": [],
   "source": [
    "data.sort_values(by='label', ascending=True, inplace=True);"
   ]
  },
  {
   "cell_type": "markdown",
   "metadata": {},
   "source": [
    "Cut off incorrect beam energy and mass outside the window"
   ]
  },
  {
   "cell_type": "code",
   "execution_count": 12,
   "metadata": {},
   "outputs": [],
   "source": [
    "data.query('be>0&m>450&m<550', inplace=True)\n",
    "if not(year=='model'):\n",
    "    data.query('t>-1', inplace=True)"
   ]
  },
  {
   "cell_type": "markdown",
   "metadata": {},
   "source": [
    "Change index column"
   ]
  },
  {
   "cell_type": "code",
   "execution_count": 13,
   "metadata": {},
   "outputs": [],
   "source": [
    "data.index = data.label\n",
    "data.drop('label', axis=1, inplace=True)"
   ]
  },
  {
   "cell_type": "markdown",
   "metadata": {},
   "source": [
    "Include luminosity file"
   ]
  },
  {
   "cell_type": "code",
   "execution_count": 15,
   "metadata": {},
   "outputs": [],
   "source": [
    "lum = pd.read_csv('../inputs/'+year+'/lum', header=None, names=['label', 'lum'], index_col=['label'])"
   ]
  },
  {
   "cell_type": "code",
   "execution_count": 16,
   "metadata": {},
   "outputs": [
    {
     "data": {
      "text/html": [
       "<div>\n",
       "<style scoped>\n",
       "    .dataframe tbody tr th:only-of-type {\n",
       "        vertical-align: middle;\n",
       "    }\n",
       "\n",
       "    .dataframe tbody tr th {\n",
       "        vertical-align: top;\n",
       "    }\n",
       "\n",
       "    .dataframe thead th {\n",
       "        text-align: right;\n",
       "    }\n",
       "</style>\n",
       "<table border=\"1\" class=\"dataframe\">\n",
       "  <thead>\n",
       "    <tr style=\"text-align: right;\">\n",
       "      <th></th>\n",
       "      <th>be</th>\n",
       "      <th>m</th>\n",
       "      <th>t</th>\n",
       "    </tr>\n",
       "    <tr>\n",
       "      <th>label</th>\n",
       "      <th></th>\n",
       "      <th></th>\n",
       "      <th></th>\n",
       "    </tr>\n",
       "  </thead>\n",
       "  <tbody>\n",
       "    <tr>\n",
       "      <th>550.0</th>\n",
       "      <td>550.0</td>\n",
       "      <td>497.302917</td>\n",
       "      <td>10</td>\n",
       "    </tr>\n",
       "    <tr>\n",
       "      <th>550.0</th>\n",
       "      <td>550.0</td>\n",
       "      <td>500.499481</td>\n",
       "      <td>10</td>\n",
       "    </tr>\n",
       "    <tr>\n",
       "      <th>550.0</th>\n",
       "      <td>550.0</td>\n",
       "      <td>494.340057</td>\n",
       "      <td>0</td>\n",
       "    </tr>\n",
       "    <tr>\n",
       "      <th>550.0</th>\n",
       "      <td>550.0</td>\n",
       "      <td>507.681244</td>\n",
       "      <td>-1</td>\n",
       "    </tr>\n",
       "    <tr>\n",
       "      <th>550.0</th>\n",
       "      <td>550.0</td>\n",
       "      <td>485.972534</td>\n",
       "      <td>1</td>\n",
       "    </tr>\n",
       "  </tbody>\n",
       "</table>\n",
       "</div>"
      ],
      "text/plain": [
       "          be           m   t\n",
       "label                       \n",
       "550.0  550.0  497.302917  10\n",
       "550.0  550.0  500.499481  10\n",
       "550.0  550.0  494.340057   0\n",
       "550.0  550.0  507.681244  -1\n",
       "550.0  550.0  485.972534   1"
      ]
     },
     "execution_count": 16,
     "metadata": {},
     "output_type": "execute_result"
    }
   ],
   "source": [
    "data.head()"
   ]
  },
  {
   "cell_type": "code",
   "execution_count": 17,
   "metadata": {},
   "outputs": [
    {
     "data": {
      "text/html": [
       "<div>\n",
       "<style scoped>\n",
       "    .dataframe tbody tr th:only-of-type {\n",
       "        vertical-align: middle;\n",
       "    }\n",
       "\n",
       "    .dataframe tbody tr th {\n",
       "        vertical-align: top;\n",
       "    }\n",
       "\n",
       "    .dataframe thead th {\n",
       "        text-align: right;\n",
       "    }\n",
       "</style>\n",
       "<table border=\"1\" class=\"dataframe\">\n",
       "  <thead>\n",
       "    <tr style=\"text-align: right;\">\n",
       "      <th></th>\n",
       "      <th>lum</th>\n",
       "    </tr>\n",
       "    <tr>\n",
       "      <th>label</th>\n",
       "      <th></th>\n",
       "    </tr>\n",
       "  </thead>\n",
       "  <tbody>\n",
       "    <tr>\n",
       "      <th>975.0</th>\n",
       "      <td>4113</td>\n",
       "    </tr>\n",
       "    <tr>\n",
       "      <th>687.5</th>\n",
       "      <td>3203</td>\n",
       "    </tr>\n",
       "    <tr>\n",
       "      <th>900.0</th>\n",
       "      <td>9170</td>\n",
       "    </tr>\n",
       "    <tr>\n",
       "      <th>1000.0</th>\n",
       "      <td>3361</td>\n",
       "    </tr>\n",
       "    <tr>\n",
       "      <th>787.5</th>\n",
       "      <td>8398</td>\n",
       "    </tr>\n",
       "  </tbody>\n",
       "</table>\n",
       "</div>"
      ],
      "text/plain": [
       "         lum\n",
       "label       \n",
       "975.0   4113\n",
       "687.5   3203\n",
       "900.0   9170\n",
       "1000.0  3361\n",
       "787.5   8398"
      ]
     },
     "execution_count": 17,
     "metadata": {},
     "output_type": "execute_result"
    }
   ],
   "source": [
    "lum.head()"
   ]
  },
  {
   "cell_type": "markdown",
   "metadata": {},
   "source": [
    "Join luminosity to data file"
   ]
  },
  {
   "cell_type": "code",
   "execution_count": 18,
   "metadata": {},
   "outputs": [],
   "source": [
    "data = data.join(lum, how='inner')"
   ]
  },
  {
   "cell_type": "markdown",
   "metadata": {},
   "source": [
    "See how much events in each point I have"
   ]
  },
  {
   "cell_type": "code",
   "execution_count": 19,
   "metadata": {},
   "outputs": [
    {
     "data": {
      "text/plain": [
       "<matplotlib.axes._subplots.AxesSubplot at 0x7fb83395a7f0>"
      ]
     },
     "execution_count": 19,
     "metadata": {},
     "output_type": "execute_result"
    },
    {
     "data": {
      "image/png": "[encoded data removed]",
      "text/plain": [
       "<Figure size 842.4x595.44 with 1 Axes>"
      ]
     },
     "metadata": {},
     "output_type": "display_data"
    }
   ],
   "source": [
    "data.groupby('label').agg({'m':np.size}).plot()"
   ]
  },
  {
   "cell_type": "code",
   "execution_count": 23,
   "metadata": {
    "scrolled": true
   },
   "outputs": [
    {
     "data": {
      "text/html": [
       "<div>\n",
       "<style scoped>\n",
       "    .dataframe tbody tr th:only-of-type {\n",
       "        vertical-align: middle;\n",
       "    }\n",
       "\n",
       "    .dataframe tbody tr th {\n",
       "        vertical-align: top;\n",
       "    }\n",
       "\n",
       "    .dataframe thead th {\n",
       "        text-align: right;\n",
       "    }\n",
       "</style>\n",
       "<table border=\"1\" class=\"dataframe\">\n",
       "  <thead>\n",
       "    <tr style=\"text-align: right;\">\n",
       "      <th></th>\n",
       "      <th>m</th>\n",
       "    </tr>\n",
       "    <tr>\n",
       "      <th>label</th>\n",
       "      <th></th>\n",
       "    </tr>\n",
       "  </thead>\n",
       "  <tbody>\n",
       "    <tr>\n",
       "      <th>550.0</th>\n",
       "      <td>1848.0</td>\n",
       "    </tr>\n",
       "    <tr>\n",
       "      <th>562.5</th>\n",
       "      <td>1612.0</td>\n",
       "    </tr>\n",
       "    <tr>\n",
       "      <th>575.0</th>\n",
       "      <td>1405.0</td>\n",
       "    </tr>\n",
       "    <tr>\n",
       "      <th>587.5</th>\n",
       "      <td>1292.0</td>\n",
       "    </tr>\n",
       "    <tr>\n",
       "      <th>600.0</th>\n",
       "      <td>1158.0</td>\n",
       "    </tr>\n",
       "    <tr>\n",
       "      <th>612.5</th>\n",
       "      <td>1003.0</td>\n",
       "    </tr>\n",
       "    <tr>\n",
       "      <th>625.0</th>\n",
       "      <td>877.0</td>\n",
       "    </tr>\n",
       "    <tr>\n",
       "      <th>637.5</th>\n",
       "      <td>1640.0</td>\n",
       "    </tr>\n",
       "    <tr>\n",
       "      <th>650.0</th>\n",
       "      <td>757.0</td>\n",
       "    </tr>\n",
       "    <tr>\n",
       "      <th>662.5</th>\n",
       "      <td>705.0</td>\n",
       "    </tr>\n",
       "    <tr>\n",
       "      <th>675.0</th>\n",
       "      <td>707.0</td>\n",
       "    </tr>\n",
       "    <tr>\n",
       "      <th>687.5</th>\n",
       "      <td>1262.0</td>\n",
       "    </tr>\n",
       "    <tr>\n",
       "      <th>700.0</th>\n",
       "      <td>679.0</td>\n",
       "    </tr>\n",
       "    <tr>\n",
       "      <th>712.5</th>\n",
       "      <td>674.0</td>\n",
       "    </tr>\n",
       "    <tr>\n",
       "      <th>725.0</th>\n",
       "      <td>1440.0</td>\n",
       "    </tr>\n",
       "    <tr>\n",
       "      <th>737.5</th>\n",
       "      <td>832.0</td>\n",
       "    </tr>\n",
       "    <tr>\n",
       "      <th>750.0</th>\n",
       "      <td>886.0</td>\n",
       "    </tr>\n",
       "    <tr>\n",
       "      <th>762.5</th>\n",
       "      <td>2184.0</td>\n",
       "    </tr>\n",
       "    <tr>\n",
       "      <th>775.0</th>\n",
       "      <td>1159.0</td>\n",
       "    </tr>\n",
       "    <tr>\n",
       "      <th>787.5</th>\n",
       "      <td>1374.0</td>\n",
       "    </tr>\n",
       "    <tr>\n",
       "      <th>800.0</th>\n",
       "      <td>1621.0</td>\n",
       "    </tr>\n",
       "    <tr>\n",
       "      <th>812.5</th>\n",
       "      <td>1793.0</td>\n",
       "    </tr>\n",
       "    <tr>\n",
       "      <th>825.0</th>\n",
       "      <td>1895.0</td>\n",
       "    </tr>\n",
       "    <tr>\n",
       "      <th>837.5</th>\n",
       "      <td>3794.0</td>\n",
       "    </tr>\n",
       "    <tr>\n",
       "      <th>850.0</th>\n",
       "      <td>1910.0</td>\n",
       "    </tr>\n",
       "    <tr>\n",
       "      <th>862.5</th>\n",
       "      <td>3202.0</td>\n",
       "    </tr>\n",
       "    <tr>\n",
       "      <th>875.0</th>\n",
       "      <td>1386.0</td>\n",
       "    </tr>\n",
       "    <tr>\n",
       "      <th>887.5</th>\n",
       "      <td>2322.0</td>\n",
       "    </tr>\n",
       "    <tr>\n",
       "      <th>900.0</th>\n",
       "      <td>976.0</td>\n",
       "    </tr>\n",
       "    <tr>\n",
       "      <th>912.5</th>\n",
       "      <td>786.0</td>\n",
       "    </tr>\n",
       "    <tr>\n",
       "      <th>925.0</th>\n",
       "      <td>1274.0</td>\n",
       "    </tr>\n",
       "    <tr>\n",
       "      <th>935.0</th>\n",
       "      <td>988.0</td>\n",
       "    </tr>\n",
       "    <tr>\n",
       "      <th>945.0</th>\n",
       "      <td>406.0</td>\n",
       "    </tr>\n",
       "    <tr>\n",
       "      <th>950.0</th>\n",
       "      <td>392.0</td>\n",
       "    </tr>\n",
       "    <tr>\n",
       "      <th>962.5</th>\n",
       "      <td>596.0</td>\n",
       "    </tr>\n",
       "    <tr>\n",
       "      <th>975.0</th>\n",
       "      <td>512.0</td>\n",
       "    </tr>\n",
       "    <tr>\n",
       "      <th>987.5</th>\n",
       "      <td>408.0</td>\n",
       "    </tr>\n",
       "    <tr>\n",
       "      <th>1000.0</th>\n",
       "      <td>354.0</td>\n",
       "    </tr>\n",
       "  </tbody>\n",
       "</table>\n",
       "</div>"
      ],
      "text/plain": [
       "             m\n",
       "label         \n",
       "550.0   1848.0\n",
       "562.5   1612.0\n",
       "575.0   1405.0\n",
       "587.5   1292.0\n",
       "600.0   1158.0\n",
       "612.5   1003.0\n",
       "625.0    877.0\n",
       "637.5   1640.0\n",
       "650.0    757.0\n",
       "662.5    705.0\n",
       "675.0    707.0\n",
       "687.5   1262.0\n",
       "700.0    679.0\n",
       "712.5    674.0\n",
       "725.0   1440.0\n",
       "737.5    832.0\n",
       "750.0    886.0\n",
       "762.5   2184.0\n",
       "775.0   1159.0\n",
       "787.5   1374.0\n",
       "800.0   1621.0\n",
       "812.5   1793.0\n",
       "825.0   1895.0\n",
       "837.5   3794.0\n",
       "850.0   1910.0\n",
       "862.5   3202.0\n",
       "875.0   1386.0\n",
       "887.5   2322.0\n",
       "900.0    976.0\n",
       "912.5    786.0\n",
       "925.0   1274.0\n",
       "935.0    988.0\n",
       "945.0    406.0\n",
       "950.0    392.0\n",
       "962.5    596.0\n",
       "975.0    512.0\n",
       "987.5    408.0\n",
       "1000.0   354.0"
      ]
     },
     "execution_count": 23,
     "metadata": {},
     "output_type": "execute_result"
    }
   ],
   "source": [
    "data.groupby('label').agg({'m':np.size})"
   ]
  },
  {
   "cell_type": "markdown",
   "metadata": {},
   "source": [
    "Next stage: merge points with little data"
   ]
  },
  {
   "cell_type": "code",
   "execution_count": 21,
   "metadata": {},
   "outputs": [],
   "source": [
    "cnct = [] #model\n",
    "#cnct = [([880., 890., 900., 910.], 900), ([920., 930., 936., 937.5], 935), ([942., 950., 971.], 960), \n",
    "#        ([981., 990, 1003.5],990)] #17 year\n",
    "#cnct = [([900., 920., 936., 950., 960., 970., 980., 990], 960)] #12 year\n",
    "#cnct = [([875., 887.5], 880), ([900., 912.5, 925.], 910), ([935., 945., 950., 962.5, 975., 987.5, 1000.], 950)] #11year"
   ]
  },
  {
   "cell_type": "code",
   "execution_count": 22,
   "metadata": {},
   "outputs": [],
   "source": [
    "data['label'] = data.index\n",
    "for c in cnct:\n",
    "    data.label.replace(c[0], c[1], inplace=True)\n",
    "data.index = data.label\n",
    "data.drop(['label'], axis=1, inplace=True)"
   ]
  },
  {
   "cell_type": "markdown",
   "metadata": {},
   "source": [
    "OK, points have been merged"
   ]
  },
  {
   "cell_type": "code",
   "execution_count": 24,
   "metadata": {},
   "outputs": [
    {
     "data": {
      "text/html": [
       "<div>\n",
       "<style scoped>\n",
       "    .dataframe tbody tr th:only-of-type {\n",
       "        vertical-align: middle;\n",
       "    }\n",
       "\n",
       "    .dataframe tbody tr th {\n",
       "        vertical-align: top;\n",
       "    }\n",
       "\n",
       "    .dataframe thead th {\n",
       "        text-align: right;\n",
       "    }\n",
       "</style>\n",
       "<table border=\"1\" class=\"dataframe\">\n",
       "  <thead>\n",
       "    <tr style=\"text-align: right;\">\n",
       "      <th></th>\n",
       "      <th>be</th>\n",
       "      <th>m</th>\n",
       "      <th>t</th>\n",
       "      <th>lum</th>\n",
       "    </tr>\n",
       "    <tr>\n",
       "      <th>label</th>\n",
       "      <th></th>\n",
       "      <th></th>\n",
       "      <th></th>\n",
       "      <th></th>\n",
       "    </tr>\n",
       "  </thead>\n",
       "  <tbody>\n",
       "    <tr>\n",
       "      <th>1000.0</th>\n",
       "      <td>1000.0</td>\n",
       "      <td>502.696716</td>\n",
       "      <td>10</td>\n",
       "      <td>3361</td>\n",
       "    </tr>\n",
       "    <tr>\n",
       "      <th>1000.0</th>\n",
       "      <td>1000.0</td>\n",
       "      <td>495.551575</td>\n",
       "      <td>0</td>\n",
       "      <td>3361</td>\n",
       "    </tr>\n",
       "    <tr>\n",
       "      <th>1000.0</th>\n",
       "      <td>1000.0</td>\n",
       "      <td>495.551575</td>\n",
       "      <td>0</td>\n",
       "      <td>3361</td>\n",
       "    </tr>\n",
       "    <tr>\n",
       "      <th>1000.0</th>\n",
       "      <td>1000.0</td>\n",
       "      <td>537.520752</td>\n",
       "      <td>1</td>\n",
       "      <td>3361</td>\n",
       "    </tr>\n",
       "    <tr>\n",
       "      <th>1000.0</th>\n",
       "      <td>1000.0</td>\n",
       "      <td>537.520752</td>\n",
       "      <td>1</td>\n",
       "      <td>3361</td>\n",
       "    </tr>\n",
       "  </tbody>\n",
       "</table>\n",
       "</div>"
      ],
      "text/plain": [
       "            be           m   t   lum\n",
       "label                               \n",
       "1000.0  1000.0  502.696716  10  3361\n",
       "1000.0  1000.0  495.551575   0  3361\n",
       "1000.0  1000.0  495.551575   0  3361\n",
       "1000.0  1000.0  537.520752   1  3361\n",
       "1000.0  1000.0  537.520752   1  3361"
      ]
     },
     "execution_count": 24,
     "metadata": {},
     "output_type": "execute_result"
    }
   ],
   "source": [
    "data.tail()"
   ]
  },
  {
   "cell_type": "markdown",
   "metadata": {},
   "source": [
    "Get true luminosity for merged events"
   ]
  },
  {
   "cell_type": "code",
   "execution_count": 25,
   "metadata": {},
   "outputs": [],
   "source": [
    "data['lume'] = data.be*data.lum"
   ]
  },
  {
   "cell_type": "code",
   "execution_count": 26,
   "metadata": {},
   "outputs": [],
   "source": [
    "e_table = data.groupby('label').agg({'lume':[np.mean], 'lum':[np.mean], 'be':[np.max, np.min]})\n",
    "e_table.columns = ['LE', 'L', 'Emax', 'Emin']"
   ]
  },
  {
   "cell_type": "code",
   "execution_count": 29,
   "metadata": {},
   "outputs": [
    {
     "data": {
      "text/html": [
       "<div>\n",
       "<style scoped>\n",
       "    .dataframe tbody tr th:only-of-type {\n",
       "        vertical-align: middle;\n",
       "    }\n",
       "\n",
       "    .dataframe tbody tr th {\n",
       "        vertical-align: top;\n",
       "    }\n",
       "\n",
       "    .dataframe thead th {\n",
       "        text-align: right;\n",
       "    }\n",
       "</style>\n",
       "<table border=\"1\" class=\"dataframe\">\n",
       "  <thead>\n",
       "    <tr style=\"text-align: right;\">\n",
       "      <th></th>\n",
       "      <th>Emean</th>\n",
       "      <th>dEmax</th>\n",
       "      <th>dEmin</th>\n",
       "    </tr>\n",
       "    <tr>\n",
       "      <th>label</th>\n",
       "      <th></th>\n",
       "      <th></th>\n",
       "      <th></th>\n",
       "    </tr>\n",
       "  </thead>\n",
       "  <tbody>\n",
       "    <tr>\n",
       "      <th>950.0</th>\n",
       "      <td>950.0</td>\n",
       "      <td>0.0</td>\n",
       "      <td>0.0</td>\n",
       "    </tr>\n",
       "    <tr>\n",
       "      <th>962.5</th>\n",
       "      <td>962.5</td>\n",
       "      <td>0.0</td>\n",
       "      <td>0.0</td>\n",
       "    </tr>\n",
       "    <tr>\n",
       "      <th>975.0</th>\n",
       "      <td>975.0</td>\n",
       "      <td>0.0</td>\n",
       "      <td>0.0</td>\n",
       "    </tr>\n",
       "    <tr>\n",
       "      <th>987.5</th>\n",
       "      <td>987.5</td>\n",
       "      <td>0.0</td>\n",
       "      <td>0.0</td>\n",
       "    </tr>\n",
       "    <tr>\n",
       "      <th>1000.0</th>\n",
       "      <td>1000.0</td>\n",
       "      <td>0.0</td>\n",
       "      <td>0.0</td>\n",
       "    </tr>\n",
       "  </tbody>\n",
       "</table>\n",
       "</div>"
      ],
      "text/plain": [
       "         Emean  dEmax  dEmin\n",
       "label                       \n",
       "950.0    950.0    0.0    0.0\n",
       "962.5    962.5    0.0    0.0\n",
       "975.0    975.0    0.0    0.0\n",
       "987.5    987.5    0.0    0.0\n",
       "1000.0  1000.0    0.0    0.0"
      ]
     },
     "execution_count": 29,
     "metadata": {},
     "output_type": "execute_result"
    }
   ],
   "source": [
    "e_table.tail()"
   ]
  },
  {
   "cell_type": "code",
   "execution_count": 28,
   "metadata": {},
   "outputs": [],
   "source": [
    "e_table['Emean'] = e_table['LE']/e_table['L']\n",
    "e_table['dEmax'] = e_table['Emax'] - e_table['Emean']\n",
    "e_table['dEmin'] = e_table['Emean'] - e_table['Emin']\n",
    "e_table.drop(['Emax','Emin', 'LE', 'L'], axis=1, inplace=True)"
   ]
  },
  {
   "cell_type": "markdown",
   "metadata": {},
   "source": [
    "There is an energy table\n",
    "\n",
    "Some necessity about luminosity"
   ]
  },
  {
   "cell_type": "code",
   "execution_count": 30,
   "metadata": {},
   "outputs": [],
   "source": [
    "lum['label'] = lum.index\n",
    "for c in cnct:\n",
    "    lum.label.replace(c[0], c[1], inplace=True)\n",
    "lum.index = lum.label\n",
    "lum.drop(['label'], axis=1, inplace=True)"
   ]
  },
  {
   "cell_type": "code",
   "execution_count": 31,
   "metadata": {},
   "outputs": [],
   "source": [
    "lum = lum.groupby('label').agg({'lum':np.sum})"
   ]
  },
  {
   "cell_type": "code",
   "execution_count": 32,
   "metadata": {},
   "outputs": [
    {
     "data": {
      "text/html": [
       "<div>\n",
       "<style scoped>\n",
       "    .dataframe tbody tr th:only-of-type {\n",
       "        vertical-align: middle;\n",
       "    }\n",
       "\n",
       "    .dataframe tbody tr th {\n",
       "        vertical-align: top;\n",
       "    }\n",
       "\n",
       "    .dataframe thead th {\n",
       "        text-align: right;\n",
       "    }\n",
       "</style>\n",
       "<table border=\"1\" class=\"dataframe\">\n",
       "  <thead>\n",
       "    <tr style=\"text-align: right;\">\n",
       "      <th></th>\n",
       "      <th>lum</th>\n",
       "    </tr>\n",
       "    <tr>\n",
       "      <th>label</th>\n",
       "      <th></th>\n",
       "    </tr>\n",
       "  </thead>\n",
       "  <tbody>\n",
       "    <tr>\n",
       "      <th>550.0</th>\n",
       "      <td>7163</td>\n",
       "    </tr>\n",
       "    <tr>\n",
       "      <th>562.5</th>\n",
       "      <td>6306</td>\n",
       "    </tr>\n",
       "    <tr>\n",
       "      <th>575.0</th>\n",
       "      <td>5516</td>\n",
       "    </tr>\n",
       "    <tr>\n",
       "      <th>587.5</th>\n",
       "      <td>5116</td>\n",
       "    </tr>\n",
       "    <tr>\n",
       "      <th>600.0</th>\n",
       "      <td>4606</td>\n",
       "    </tr>\n",
       "  </tbody>\n",
       "</table>\n",
       "</div>"
      ],
      "text/plain": [
       "        lum\n",
       "label      \n",
       "550.0  7163\n",
       "562.5  6306\n",
       "575.0  5516\n",
       "587.5  5116\n",
       "600.0  4606"
      ]
     },
     "execution_count": 32,
     "metadata": {},
     "output_type": "execute_result"
    }
   ],
   "source": [
    "lum.head()"
   ]
  },
  {
   "cell_type": "markdown",
   "metadata": {},
   "source": [
    "I have got new luminosity table.\n",
    "\n",
    "Now I should joint it to existing table"
   ]
  },
  {
   "cell_type": "code",
   "execution_count": 33,
   "metadata": {},
   "outputs": [],
   "source": [
    "data.drop(['lume', 'lum', 'be'], axis=1, inplace=True)\n",
    "data = data.join(lum, how='inner')\n",
    "data = data.join(e_table, how='inner')"
   ]
  },
  {
   "cell_type": "markdown",
   "metadata": {},
   "source": [
    "That is good. Now I should do the analysis"
   ]
  },
  {
   "cell_type": "code",
   "execution_count": 34,
   "metadata": {},
   "outputs": [
    {
     "data": {
      "text/html": [
       "<div>\n",
       "<style scoped>\n",
       "    .dataframe tbody tr th:only-of-type {\n",
       "        vertical-align: middle;\n",
       "    }\n",
       "\n",
       "    .dataframe tbody tr th {\n",
       "        vertical-align: top;\n",
       "    }\n",
       "\n",
       "    .dataframe thead th {\n",
       "        text-align: right;\n",
       "    }\n",
       "</style>\n",
       "<table border=\"1\" class=\"dataframe\">\n",
       "  <thead>\n",
       "    <tr style=\"text-align: right;\">\n",
       "      <th></th>\n",
       "      <th>m</th>\n",
       "      <th>t</th>\n",
       "      <th>lum</th>\n",
       "      <th>Emean</th>\n",
       "      <th>dEmax</th>\n",
       "      <th>dEmin</th>\n",
       "    </tr>\n",
       "    <tr>\n",
       "      <th>label</th>\n",
       "      <th></th>\n",
       "      <th></th>\n",
       "      <th></th>\n",
       "      <th></th>\n",
       "      <th></th>\n",
       "      <th></th>\n",
       "    </tr>\n",
       "  </thead>\n",
       "  <tbody>\n",
       "    <tr>\n",
       "      <th>550.0</th>\n",
       "      <td>497.302917</td>\n",
       "      <td>10</td>\n",
       "      <td>7163</td>\n",
       "      <td>550.0</td>\n",
       "      <td>0.0</td>\n",
       "      <td>0.0</td>\n",
       "    </tr>\n",
       "    <tr>\n",
       "      <th>550.0</th>\n",
       "      <td>500.499481</td>\n",
       "      <td>10</td>\n",
       "      <td>7163</td>\n",
       "      <td>550.0</td>\n",
       "      <td>0.0</td>\n",
       "      <td>0.0</td>\n",
       "    </tr>\n",
       "    <tr>\n",
       "      <th>550.0</th>\n",
       "      <td>494.340057</td>\n",
       "      <td>0</td>\n",
       "      <td>7163</td>\n",
       "      <td>550.0</td>\n",
       "      <td>0.0</td>\n",
       "      <td>0.0</td>\n",
       "    </tr>\n",
       "    <tr>\n",
       "      <th>550.0</th>\n",
       "      <td>507.681244</td>\n",
       "      <td>-1</td>\n",
       "      <td>7163</td>\n",
       "      <td>550.0</td>\n",
       "      <td>0.0</td>\n",
       "      <td>0.0</td>\n",
       "    </tr>\n",
       "    <tr>\n",
       "      <th>550.0</th>\n",
       "      <td>485.972534</td>\n",
       "      <td>1</td>\n",
       "      <td>7163</td>\n",
       "      <td>550.0</td>\n",
       "      <td>0.0</td>\n",
       "      <td>0.0</td>\n",
       "    </tr>\n",
       "  </tbody>\n",
       "</table>\n",
       "</div>"
      ],
      "text/plain": [
       "                m   t   lum  Emean  dEmax  dEmin\n",
       "label                                           \n",
       "550.0  497.302917  10  7163  550.0    0.0    0.0\n",
       "550.0  500.499481  10  7163  550.0    0.0    0.0\n",
       "550.0  494.340057   0  7163  550.0    0.0    0.0\n",
       "550.0  507.681244  -1  7163  550.0    0.0    0.0\n",
       "550.0  485.972534   1  7163  550.0    0.0    0.0"
      ]
     },
     "execution_count": 34,
     "metadata": {},
     "output_type": "execute_result"
    }
   ],
   "source": [
    "data.head()"
   ]
  },
  {
   "cell_type": "markdown",
   "metadata": {},
   "source": [
    "----------------\n",
    "## Fit"
   ]
  },
  {
   "cell_type": "code",
   "execution_count": 35,
   "metadata": {},
   "outputs": [],
   "source": [
    "mass_bound = (450, 550)"
   ]
  },
  {
   "cell_type": "code",
   "execution_count": 36,
   "metadata": {},
   "outputs": [],
   "source": [
    "data2 = data.groupby('label')"
   ]
  },
  {
   "cell_type": "code",
   "execution_count": 37,
   "metadata": {},
   "outputs": [
    {
     "name": "stdout",
     "output_type": "stream",
     "text": [
      "550.0\n",
      "562.5\n",
      "575.0\n",
      "587.5\n",
      "600.0\n",
      "612.5\n",
      "625.0\n",
      "637.5\n",
      "650.0\n",
      "662.5\n",
      "675.0\n",
      "687.5\n",
      "700.0\n",
      "712.5\n",
      "725.0\n",
      "737.5\n",
      "750.0\n",
      "762.5\n",
      "775.0\n",
      "787.5\n",
      "800.0\n",
      "812.5\n",
      "825.0\n",
      "837.5\n",
      "850.0\n",
      "862.5\n",
      "875.0\n",
      "887.5\n",
      "900.0\n",
      "912.5\n",
      "925.0\n",
      "935.0\n",
      "945.0\n",
      "950.0\n",
      "962.5\n",
      "975.0\n",
      "987.5\n",
      "1000.0\n"
     ]
    }
   ],
   "source": [
    "dic = {}\n",
    "for i in data2.groups:\n",
    "    print(i)\n",
    "    dic[i] = np.array( data2.get_group(i)['m'] )"
   ]
  },
  {
   "cell_type": "code",
   "execution_count": 38,
   "metadata": {},
   "outputs": [],
   "source": [
    "import iminuit\n",
    "import probfit as pf"
   ]
  },
  {
   "cell_type": "code",
   "execution_count": 39,
   "metadata": {},
   "outputs": [
    {
     "data": {
      "text/plain": [
       "['x', 'Mass', 'Sigma', 'Nsig', 'Nbkg']"
      ]
     },
     "execution_count": 39,
     "metadata": {},
     "output_type": "execute_result"
    }
   ],
   "source": [
    "def constant(x):\n",
    "    return 1\n",
    "norm_bkg = pf.Normalized( constant, mass_bound )\n",
    "norm_bkg = pf.Extended(norm_bkg, extname='Nbkg')\n",
    "\n",
    "gauss1 = pf.Extended(pf.rename(pf.gaussian, ['x', 'Mass', 'Sigma']), extname='Nsig')\n",
    "\n",
    "pdf = pf.AddPdf(gauss1, norm_bkg)\n",
    "pf.describe(pdf)"
   ]
  },
  {
   "cell_type": "code",
   "execution_count": 40,
   "metadata": {},
   "outputs": [],
   "source": [
    "def fitter(dic, nbins):\n",
    "    likelihood = pf.BinnedLH(pdf, dic, nbins, bound=mass_bound, extended=True)\n",
    "    initial_par_values = {\"Mass\":497.6, \"Sigma\":8.6, \"Nsig\":np.size(dic), \"Nbkg\":1}\n",
    "    errors = {\"error_Mass\": 1, \"error_Sigma\": 0.1, \"error_Nsig\": 0.3, \"error_Nbkg\":0}\n",
    "    mt = iminuit.Minuit(likelihood, **initial_par_values, **errors)\n",
    "    mt.migrad();\n",
    "    likelihood.draw(minuit=mt)\n",
    "    return mt"
   ]
  },
  {
   "cell_type": "code",
   "execution_count": 41,
   "metadata": {},
   "outputs": [],
   "source": [
    "def fitter_gauss(dic, nbins):    \n",
    "    likelihood = pf.BinnedLH(gauss1, dic, nbins, bound=mass_bound, extended=True)\n",
    "    initial_par_values = {\"Mass\":497.6, \"Sigma\":6, \"Nsig\":np.size(dic)}\n",
    "    errors = {\"error_Mass\": 0.1, \"error_Sigma\": 0.1, \"error_Nsig\": 0.3}\n",
    "    mt = iminuit.Minuit(likelihood, **initial_par_values, **errors)\n",
    "    mt.migrad();\n",
    "    likelihood.draw(minuit=mt)\n",
    "    return mt"
   ]
  },
  {
   "cell_type": "markdown",
   "metadata": {},
   "source": [
    "Create table for the final result"
   ]
  },
  {
   "cell_type": "code",
   "execution_count": 42,
   "metadata": {},
   "outputs": [],
   "source": [
    "N_dic = dict()\n",
    "itr = iter(dic)"
   ]
  },
  {
   "cell_type": "markdown",
   "metadata": {},
   "source": [
    "Go, go, go"
   ]
  },
  {
   "cell_type": "code",
   "execution_count": 140,
   "metadata": {},
   "outputs": [
    {
     "ename": "StopIteration",
     "evalue": "",
     "output_type": "error",
     "traceback": [
      "\u001b[0;31m---------------------------------------------------------------------------\u001b[0m",
      "\u001b[0;31mStopIteration\u001b[0m                             Traceback (most recent call last)",
      "\u001b[0;32m<ipython-input-140-10210f828c97>\u001b[0m in \u001b[0;36m<module>\u001b[0;34m()\u001b[0m\n\u001b[0;32m----> 1\u001b[0;31m \u001b[0mi\u001b[0m \u001b[0;34m=\u001b[0m \u001b[0mnext\u001b[0m\u001b[0;34m(\u001b[0m\u001b[0mitr\u001b[0m\u001b[0;34m)\u001b[0m\u001b[0;34m\u001b[0m\u001b[0;34m\u001b[0m\u001b[0m\n\u001b[0m\u001b[1;32m      2\u001b[0m \u001b[0mprint\u001b[0m\u001b[0;34m(\u001b[0m\u001b[0;34m'Label:'\u001b[0m\u001b[0;34m,\u001b[0m \u001b[0mi\u001b[0m\u001b[0;34m)\u001b[0m\u001b[0;34m\u001b[0m\u001b[0;34m\u001b[0m\u001b[0m\n",
      "\u001b[0;31mStopIteration\u001b[0m: "
     ]
    }
   ],
   "source": [
    "i = next(itr)\n",
    "print('Label:', i)"
   ]
  },
  {
   "cell_type": "code",
   "execution_count": 138,
   "metadata": {},
   "outputs": [
    {
     "name": "stderr",
     "output_type": "stream",
     "text": [
      "/usr/lib/python3/dist-packages/ipykernel_launcher.py:6: LogWarning: x is really small return 0\n",
      "  \n"
     ]
    },
    {
     "name": "stdout",
     "output_type": "stream",
     "text": [
      "Migrad quality: True\n",
      "Real: 354 Found: 354.0034195226335\n"
     ]
    },
    {
     "data": {
      "image/png": "[encoded data removed]",
      "text/plain": [
       "<Figure size 842.4x595.44 with 1 Axes>"
      ]
     },
     "metadata": {},
     "output_type": "display_data"
    }
   ],
   "source": [
    "mt = fitter(dic[i], 100)\n",
    "N_dic[i] = [mt.values[2], mt.errors[2]]\n",
    "print(\"Migrad quality:\", mt.migrad_ok())\n",
    "print( 'Real:', np.size(dic[i]), 'Found:', mt.values[2] + mt.values[3] )"
   ]
  },
  {
   "cell_type": "code",
   "execution_count": 139,
   "metadata": {},
   "outputs": [
    {
     "data": {
      "text/plain": [
       "{550.0: [1716.3374009671568, 43.468115310545414],\n",
       " 562.5: [1497.1983845684101, 40.994164073643084],\n",
       " 575.0: [1312.6882542283452, 37.48670601970873],\n",
       " 587.5: [1228.3653922168544, 36.667342604016746],\n",
       " 600.0: [1061.3542253209891, 33.6433929883147],\n",
       " 612.5: [925.0036002065558, 32.45456885091952],\n",
       " 625.0: [793.8168099975501, 29.37203939204026],\n",
       " 637.5: [1570.3258568295073, 41.14112842182084],\n",
       " 650.0: [700.9349677614883, 27.726471642629836],\n",
       " 662.5: [662.490167044045, 26.939368585993154],\n",
       " 675.0: [644.9929862583699, 27.14593092423745],\n",
       " 687.5: [1188.8303333839567, 36.06750683000065],\n",
       " 700.0: [638.2761592828687, 26.811694621605987],\n",
       " 712.5: [605.9069249886311, 26.63306553315187],\n",
       " 725.0: [1348.1774171995276, 39.23984038092027],\n",
       " 737.5: [801.8496423191231, 29.71513405167146],\n",
       " 750.0: [834.534353524565, 30.6249353207009],\n",
       " 762.5: [2029.0025939455409, 48.710207160611965],\n",
       " 775.0: [1078.762229797285, 34.91534120139207],\n",
       " 787.5: [1269.3934161510408, 38.45473771376083],\n",
       " 800.0: [1524.781885411579, 41.27062651253004],\n",
       " 812.5: [1702.9429918704911, 43.541912767491404],\n",
       " 825.0: [1767.0159643641653, 45.031483009062434],\n",
       " 837.5: [3556.1282050275045, 63.222011087933694],\n",
       " 850.0: [1854.741373657562, 44.624039581141886],\n",
       " 862.5: [3049.4537303496704, 57.85597922231813],\n",
       " 875.0: [1344.6673627885837, 38.34988803873545],\n",
       " 887.5: [2157.7799128323336, 49.60423611280023],\n",
       " 900.0: [888.8155170709573, 32.228191203991784],\n",
       " 912.5: [723.0207604988034, 31.093328813779703],\n",
       " 925.0: [1172.164370713929, 37.830893468443584],\n",
       " 935.0: [924.7307863248753, 32.46492222605424],\n",
       " 945.0: [362.88542361975834, 21.383735457636238],\n",
       " 950.0: [355.31486750114027, 20.81821178128619],\n",
       " 962.5: [568.5040980166077, 25.31438987270025],\n",
       " 975.0: [471.55266293045696, 23.409463258578786],\n",
       " 987.5: [362.2394644777118, 21.063782476264688],\n",
       " 1000.0: [333.21494541382924, 19.790616253121048]}"
      ]
     },
     "execution_count": 139,
     "metadata": {},
     "output_type": "execute_result"
    }
   ],
   "source": [
    "N_dic"
   ]
  },
  {
   "cell_type": "markdown",
   "metadata": {},
   "source": [
    "### Some notes:\n",
    "\n",
    "11 { (600, 687.5, 725, 812.5) - only gauss,    (700, 737.5 : 20 bins; 880, 950 : 15 bins) }\n",
    "\n",
    "12 { ( 910 :15 bins)}\n",
    "\n",
    "17 { (725, 825, 880) - only gauss, (900 : 11 bins, 960 : 8 bins), 990 - govno }"
   ]
  },
  {
   "cell_type": "code",
   "execution_count": null,
   "metadata": {},
   "outputs": [],
   "source": [
    "#mt.matrix(correlation=True)\n",
    "#mt.draw_profile('Nsig');"
   ]
  },
  {
   "cell_type": "code",
   "execution_count": 141,
   "metadata": {},
   "outputs": [],
   "source": [
    "dataN = pd.DataFrame(N_dic)\n",
    "dataN = dataN.T\n",
    "dataN.columns = ['Nsig', 'dNsig']"
   ]
  },
  {
   "cell_type": "code",
   "execution_count": 142,
   "metadata": {},
   "outputs": [
    {
     "data": {
      "text/html": [
       "<div>\n",
       "<style scoped>\n",
       "    .dataframe tbody tr th:only-of-type {\n",
       "        vertical-align: middle;\n",
       "    }\n",
       "\n",
       "    .dataframe tbody tr th {\n",
       "        vertical-align: top;\n",
       "    }\n",
       "\n",
       "    .dataframe thead th {\n",
       "        text-align: right;\n",
       "    }\n",
       "</style>\n",
       "<table border=\"1\" class=\"dataframe\">\n",
       "  <thead>\n",
       "    <tr style=\"text-align: right;\">\n",
       "      <th></th>\n",
       "      <th>Nsig</th>\n",
       "      <th>dNsig</th>\n",
       "    </tr>\n",
       "  </thead>\n",
       "  <tbody>\n",
       "    <tr>\n",
       "      <th>550.0</th>\n",
       "      <td>1716.337401</td>\n",
       "      <td>43.468115</td>\n",
       "    </tr>\n",
       "    <tr>\n",
       "      <th>562.5</th>\n",
       "      <td>1497.198385</td>\n",
       "      <td>40.994164</td>\n",
       "    </tr>\n",
       "    <tr>\n",
       "      <th>575.0</th>\n",
       "      <td>1312.688254</td>\n",
       "      <td>37.486706</td>\n",
       "    </tr>\n",
       "    <tr>\n",
       "      <th>587.5</th>\n",
       "      <td>1228.365392</td>\n",
       "      <td>36.667343</td>\n",
       "    </tr>\n",
       "    <tr>\n",
       "      <th>600.0</th>\n",
       "      <td>1061.354225</td>\n",
       "      <td>33.643393</td>\n",
       "    </tr>\n",
       "  </tbody>\n",
       "</table>\n",
       "</div>"
      ],
      "text/plain": [
       "              Nsig      dNsig\n",
       "550.0  1716.337401  43.468115\n",
       "562.5  1497.198385  40.994164\n",
       "575.0  1312.688254  37.486706\n",
       "587.5  1228.365392  36.667343\n",
       "600.0  1061.354225  33.643393"
      ]
     },
     "execution_count": 142,
     "metadata": {},
     "output_type": "execute_result"
    }
   ],
   "source": [
    "dataN.head()"
   ]
  },
  {
   "cell_type": "markdown",
   "metadata": {},
   "source": [
    "I have got table with events numbers\n",
    "\n",
    "Now, I will get rid of m-field in the data table (because, I have used it)"
   ]
  },
  {
   "cell_type": "code",
   "execution_count": 143,
   "metadata": {},
   "outputs": [],
   "source": [
    "data_info = data.drop_duplicates(['lum']).drop(['m', 't'], axis=1)"
   ]
  },
  {
   "cell_type": "code",
   "execution_count": 144,
   "metadata": {},
   "outputs": [
    {
     "data": {
      "text/html": [
       "<div>\n",
       "<style scoped>\n",
       "    .dataframe tbody tr th:only-of-type {\n",
       "        vertical-align: middle;\n",
       "    }\n",
       "\n",
       "    .dataframe tbody tr th {\n",
       "        vertical-align: top;\n",
       "    }\n",
       "\n",
       "    .dataframe thead th {\n",
       "        text-align: right;\n",
       "    }\n",
       "</style>\n",
       "<table border=\"1\" class=\"dataframe\">\n",
       "  <thead>\n",
       "    <tr style=\"text-align: right;\">\n",
       "      <th></th>\n",
       "      <th>Nsig</th>\n",
       "      <th>dNsig</th>\n",
       "      <th>lum</th>\n",
       "      <th>Emean</th>\n",
       "      <th>dEmax</th>\n",
       "      <th>dEmin</th>\n",
       "    </tr>\n",
       "  </thead>\n",
       "  <tbody>\n",
       "    <tr>\n",
       "      <th>550.0</th>\n",
       "      <td>1716.337401</td>\n",
       "      <td>43.468115</td>\n",
       "      <td>7163</td>\n",
       "      <td>550.0</td>\n",
       "      <td>0.0</td>\n",
       "      <td>0.0</td>\n",
       "    </tr>\n",
       "    <tr>\n",
       "      <th>562.5</th>\n",
       "      <td>1497.198385</td>\n",
       "      <td>40.994164</td>\n",
       "      <td>6306</td>\n",
       "      <td>562.5</td>\n",
       "      <td>0.0</td>\n",
       "      <td>0.0</td>\n",
       "    </tr>\n",
       "    <tr>\n",
       "      <th>575.0</th>\n",
       "      <td>1312.688254</td>\n",
       "      <td>37.486706</td>\n",
       "      <td>5516</td>\n",
       "      <td>575.0</td>\n",
       "      <td>0.0</td>\n",
       "      <td>0.0</td>\n",
       "    </tr>\n",
       "    <tr>\n",
       "      <th>587.5</th>\n",
       "      <td>1228.365392</td>\n",
       "      <td>36.667343</td>\n",
       "      <td>5116</td>\n",
       "      <td>587.5</td>\n",
       "      <td>0.0</td>\n",
       "      <td>0.0</td>\n",
       "    </tr>\n",
       "    <tr>\n",
       "      <th>600.0</th>\n",
       "      <td>1061.354225</td>\n",
       "      <td>33.643393</td>\n",
       "      <td>4606</td>\n",
       "      <td>600.0</td>\n",
       "      <td>0.0</td>\n",
       "      <td>0.0</td>\n",
       "    </tr>\n",
       "    <tr>\n",
       "      <th>612.5</th>\n",
       "      <td>925.003600</td>\n",
       "      <td>32.454569</td>\n",
       "      <td>4108</td>\n",
       "      <td>612.5</td>\n",
       "      <td>0.0</td>\n",
       "      <td>0.0</td>\n",
       "    </tr>\n",
       "    <tr>\n",
       "      <th>625.0</th>\n",
       "      <td>793.816810</td>\n",
       "      <td>29.372039</td>\n",
       "      <td>3799</td>\n",
       "      <td>625.0</td>\n",
       "      <td>0.0</td>\n",
       "      <td>0.0</td>\n",
       "    </tr>\n",
       "    <tr>\n",
       "      <th>637.5</th>\n",
       "      <td>1570.325857</td>\n",
       "      <td>41.141128</td>\n",
       "      <td>7066</td>\n",
       "      <td>637.5</td>\n",
       "      <td>0.0</td>\n",
       "      <td>0.0</td>\n",
       "    </tr>\n",
       "    <tr>\n",
       "      <th>650.0</th>\n",
       "      <td>700.934968</td>\n",
       "      <td>27.726472</td>\n",
       "      <td>3340</td>\n",
       "      <td>650.0</td>\n",
       "      <td>0.0</td>\n",
       "      <td>0.0</td>\n",
       "    </tr>\n",
       "    <tr>\n",
       "      <th>662.5</th>\n",
       "      <td>662.490167</td>\n",
       "      <td>26.939369</td>\n",
       "      <td>3172</td>\n",
       "      <td>662.5</td>\n",
       "      <td>0.0</td>\n",
       "      <td>0.0</td>\n",
       "    </tr>\n",
       "    <tr>\n",
       "      <th>675.0</th>\n",
       "      <td>644.992986</td>\n",
       "      <td>27.145931</td>\n",
       "      <td>3169</td>\n",
       "      <td>675.0</td>\n",
       "      <td>0.0</td>\n",
       "      <td>0.0</td>\n",
       "    </tr>\n",
       "    <tr>\n",
       "      <th>687.5</th>\n",
       "      <td>1188.830333</td>\n",
       "      <td>36.067507</td>\n",
       "      <td>6406</td>\n",
       "      <td>687.5</td>\n",
       "      <td>0.0</td>\n",
       "      <td>0.0</td>\n",
       "    </tr>\n",
       "    <tr>\n",
       "      <th>700.0</th>\n",
       "      <td>638.276159</td>\n",
       "      <td>26.811695</td>\n",
       "      <td>3361</td>\n",
       "      <td>700.0</td>\n",
       "      <td>0.0</td>\n",
       "      <td>0.0</td>\n",
       "    </tr>\n",
       "    <tr>\n",
       "      <th>712.5</th>\n",
       "      <td>605.906925</td>\n",
       "      <td>26.633066</td>\n",
       "      <td>3522</td>\n",
       "      <td>712.5</td>\n",
       "      <td>0.0</td>\n",
       "      <td>0.0</td>\n",
       "    </tr>\n",
       "    <tr>\n",
       "      <th>725.0</th>\n",
       "      <td>1348.177417</td>\n",
       "      <td>39.239840</td>\n",
       "      <td>7672</td>\n",
       "      <td>725.0</td>\n",
       "      <td>0.0</td>\n",
       "      <td>0.0</td>\n",
       "    </tr>\n",
       "    <tr>\n",
       "      <th>737.5</th>\n",
       "      <td>801.849642</td>\n",
       "      <td>29.715134</td>\n",
       "      <td>4303</td>\n",
       "      <td>737.5</td>\n",
       "      <td>0.0</td>\n",
       "      <td>0.0</td>\n",
       "    </tr>\n",
       "    <tr>\n",
       "      <th>750.0</th>\n",
       "      <td>834.534354</td>\n",
       "      <td>30.624935</td>\n",
       "      <td>4895</td>\n",
       "      <td>750.0</td>\n",
       "      <td>0.0</td>\n",
       "      <td>0.0</td>\n",
       "    </tr>\n",
       "    <tr>\n",
       "      <th>762.5</th>\n",
       "      <td>2029.002594</td>\n",
       "      <td>48.710207</td>\n",
       "      <td>11642</td>\n",
       "      <td>762.5</td>\n",
       "      <td>0.0</td>\n",
       "      <td>0.0</td>\n",
       "    </tr>\n",
       "    <tr>\n",
       "      <th>775.0</th>\n",
       "      <td>1078.762230</td>\n",
       "      <td>34.915341</td>\n",
       "      <td>6891</td>\n",
       "      <td>775.0</td>\n",
       "      <td>0.0</td>\n",
       "      <td>0.0</td>\n",
       "    </tr>\n",
       "    <tr>\n",
       "      <th>787.5</th>\n",
       "      <td>1269.393416</td>\n",
       "      <td>38.454738</td>\n",
       "      <td>8398</td>\n",
       "      <td>787.5</td>\n",
       "      <td>0.0</td>\n",
       "      <td>0.0</td>\n",
       "    </tr>\n",
       "    <tr>\n",
       "      <th>800.0</th>\n",
       "      <td>1524.781885</td>\n",
       "      <td>41.270627</td>\n",
       "      <td>9969</td>\n",
       "      <td>800.0</td>\n",
       "      <td>0.0</td>\n",
       "      <td>0.0</td>\n",
       "    </tr>\n",
       "    <tr>\n",
       "      <th>812.5</th>\n",
       "      <td>1702.942992</td>\n",
       "      <td>43.541913</td>\n",
       "      <td>11706</td>\n",
       "      <td>812.5</td>\n",
       "      <td>0.0</td>\n",
       "      <td>0.0</td>\n",
       "    </tr>\n",
       "    <tr>\n",
       "      <th>825.0</th>\n",
       "      <td>1767.015964</td>\n",
       "      <td>45.031483</td>\n",
       "      <td>13207</td>\n",
       "      <td>825.0</td>\n",
       "      <td>0.0</td>\n",
       "      <td>0.0</td>\n",
       "    </tr>\n",
       "    <tr>\n",
       "      <th>837.5</th>\n",
       "      <td>3556.128205</td>\n",
       "      <td>63.222011</td>\n",
       "      <td>27668</td>\n",
       "      <td>837.5</td>\n",
       "      <td>0.0</td>\n",
       "      <td>0.0</td>\n",
       "    </tr>\n",
       "    <tr>\n",
       "      <th>850.0</th>\n",
       "      <td>1854.741374</td>\n",
       "      <td>44.624040</td>\n",
       "      <td>13853</td>\n",
       "      <td>850.0</td>\n",
       "      <td>0.0</td>\n",
       "      <td>0.0</td>\n",
       "    </tr>\n",
       "    <tr>\n",
       "      <th>862.5</th>\n",
       "      <td>3049.453730</td>\n",
       "      <td>57.855979</td>\n",
       "      <td>26088</td>\n",
       "      <td>862.5</td>\n",
       "      <td>0.0</td>\n",
       "      <td>0.0</td>\n",
       "    </tr>\n",
       "    <tr>\n",
       "      <th>875.0</th>\n",
       "      <td>1344.667363</td>\n",
       "      <td>38.349888</td>\n",
       "      <td>11703</td>\n",
       "      <td>875.0</td>\n",
       "      <td>0.0</td>\n",
       "      <td>0.0</td>\n",
       "    </tr>\n",
       "    <tr>\n",
       "      <th>887.5</th>\n",
       "      <td>2157.779913</td>\n",
       "      <td>49.604236</td>\n",
       "      <td>20640</td>\n",
       "      <td>887.5</td>\n",
       "      <td>0.0</td>\n",
       "      <td>0.0</td>\n",
       "    </tr>\n",
       "    <tr>\n",
       "      <th>900.0</th>\n",
       "      <td>888.815517</td>\n",
       "      <td>32.228191</td>\n",
       "      <td>9170</td>\n",
       "      <td>900.0</td>\n",
       "      <td>0.0</td>\n",
       "      <td>0.0</td>\n",
       "    </tr>\n",
       "    <tr>\n",
       "      <th>912.5</th>\n",
       "      <td>723.020760</td>\n",
       "      <td>31.093329</td>\n",
       "      <td>7839</td>\n",
       "      <td>912.5</td>\n",
       "      <td>0.0</td>\n",
       "      <td>0.0</td>\n",
       "    </tr>\n",
       "    <tr>\n",
       "      <th>925.0</th>\n",
       "      <td>1172.164371</td>\n",
       "      <td>37.830893</td>\n",
       "      <td>13540</td>\n",
       "      <td>925.0</td>\n",
       "      <td>0.0</td>\n",
       "      <td>0.0</td>\n",
       "    </tr>\n",
       "    <tr>\n",
       "      <th>935.0</th>\n",
       "      <td>924.730786</td>\n",
       "      <td>32.464922</td>\n",
       "      <td>12352</td>\n",
       "      <td>935.0</td>\n",
       "      <td>0.0</td>\n",
       "      <td>0.0</td>\n",
       "    </tr>\n",
       "    <tr>\n",
       "      <th>945.0</th>\n",
       "      <td>362.885424</td>\n",
       "      <td>21.383735</td>\n",
       "      <td>5550</td>\n",
       "      <td>945.0</td>\n",
       "      <td>0.0</td>\n",
       "      <td>0.0</td>\n",
       "    </tr>\n",
       "    <tr>\n",
       "      <th>950.0</th>\n",
       "      <td>355.314868</td>\n",
       "      <td>20.818212</td>\n",
       "      <td>5294</td>\n",
       "      <td>950.0</td>\n",
       "      <td>0.0</td>\n",
       "      <td>0.0</td>\n",
       "    </tr>\n",
       "    <tr>\n",
       "      <th>962.5</th>\n",
       "      <td>568.504098</td>\n",
       "      <td>25.314390</td>\n",
       "      <td>9334</td>\n",
       "      <td>962.5</td>\n",
       "      <td>0.0</td>\n",
       "      <td>0.0</td>\n",
       "    </tr>\n",
       "    <tr>\n",
       "      <th>975.0</th>\n",
       "      <td>471.552663</td>\n",
       "      <td>23.409463</td>\n",
       "      <td>8225</td>\n",
       "      <td>975.0</td>\n",
       "      <td>0.0</td>\n",
       "      <td>0.0</td>\n",
       "    </tr>\n",
       "    <tr>\n",
       "      <th>987.5</th>\n",
       "      <td>362.239464</td>\n",
       "      <td>21.063782</td>\n",
       "      <td>7280</td>\n",
       "      <td>987.5</td>\n",
       "      <td>0.0</td>\n",
       "      <td>0.0</td>\n",
       "    </tr>\n",
       "    <tr>\n",
       "      <th>1000.0</th>\n",
       "      <td>333.214945</td>\n",
       "      <td>19.790616</td>\n",
       "      <td>6722</td>\n",
       "      <td>1000.0</td>\n",
       "      <td>0.0</td>\n",
       "      <td>0.0</td>\n",
       "    </tr>\n",
       "  </tbody>\n",
       "</table>\n",
       "</div>"
      ],
      "text/plain": [
       "               Nsig      dNsig    lum   Emean  dEmax  dEmin\n",
       "550.0   1716.337401  43.468115   7163   550.0    0.0    0.0\n",
       "562.5   1497.198385  40.994164   6306   562.5    0.0    0.0\n",
       "575.0   1312.688254  37.486706   5516   575.0    0.0    0.0\n",
       "587.5   1228.365392  36.667343   5116   587.5    0.0    0.0\n",
       "600.0   1061.354225  33.643393   4606   600.0    0.0    0.0\n",
       "612.5    925.003600  32.454569   4108   612.5    0.0    0.0\n",
       "625.0    793.816810  29.372039   3799   625.0    0.0    0.0\n",
       "637.5   1570.325857  41.141128   7066   637.5    0.0    0.0\n",
       "650.0    700.934968  27.726472   3340   650.0    0.0    0.0\n",
       "662.5    662.490167  26.939369   3172   662.5    0.0    0.0\n",
       "675.0    644.992986  27.145931   3169   675.0    0.0    0.0\n",
       "687.5   1188.830333  36.067507   6406   687.5    0.0    0.0\n",
       "700.0    638.276159  26.811695   3361   700.0    0.0    0.0\n",
       "712.5    605.906925  26.633066   3522   712.5    0.0    0.0\n",
       "725.0   1348.177417  39.239840   7672   725.0    0.0    0.0\n",
       "737.5    801.849642  29.715134   4303   737.5    0.0    0.0\n",
       "750.0    834.534354  30.624935   4895   750.0    0.0    0.0\n",
       "762.5   2029.002594  48.710207  11642   762.5    0.0    0.0\n",
       "775.0   1078.762230  34.915341   6891   775.0    0.0    0.0\n",
       "787.5   1269.393416  38.454738   8398   787.5    0.0    0.0\n",
       "800.0   1524.781885  41.270627   9969   800.0    0.0    0.0\n",
       "812.5   1702.942992  43.541913  11706   812.5    0.0    0.0\n",
       "825.0   1767.015964  45.031483  13207   825.0    0.0    0.0\n",
       "837.5   3556.128205  63.222011  27668   837.5    0.0    0.0\n",
       "850.0   1854.741374  44.624040  13853   850.0    0.0    0.0\n",
       "862.5   3049.453730  57.855979  26088   862.5    0.0    0.0\n",
       "875.0   1344.667363  38.349888  11703   875.0    0.0    0.0\n",
       "887.5   2157.779913  49.604236  20640   887.5    0.0    0.0\n",
       "900.0    888.815517  32.228191   9170   900.0    0.0    0.0\n",
       "912.5    723.020760  31.093329   7839   912.5    0.0    0.0\n",
       "925.0   1172.164371  37.830893  13540   925.0    0.0    0.0\n",
       "935.0    924.730786  32.464922  12352   935.0    0.0    0.0\n",
       "945.0    362.885424  21.383735   5550   945.0    0.0    0.0\n",
       "950.0    355.314868  20.818212   5294   950.0    0.0    0.0\n",
       "962.5    568.504098  25.314390   9334   962.5    0.0    0.0\n",
       "975.0    471.552663  23.409463   8225   975.0    0.0    0.0\n",
       "987.5    362.239464  21.063782   7280   987.5    0.0    0.0\n",
       "1000.0   333.214945  19.790616   6722  1000.0    0.0    0.0"
      ]
     },
     "execution_count": 144,
     "metadata": {},
     "output_type": "execute_result"
    }
   ],
   "source": [
    "dataN = dataN.join(data_info, how='inner')\n",
    "dataN"
   ]
  },
  {
   "cell_type": "markdown",
   "metadata": {},
   "source": [
    "OK, save it"
   ]
  },
  {
   "cell_type": "code",
   "execution_count": 145,
   "metadata": {},
   "outputs": [],
   "source": [
    "dataN.to_csv('out'+year+'.csv', float_format='%.2f')"
   ]
  },
  {
   "cell_type": "markdown",
   "metadata": {},
   "source": [
    "Ok, now about triggers"
   ]
  },
  {
   "cell_type": "code",
   "execution_count": null,
   "metadata": {
    "scrolled": true
   },
   "outputs": [],
   "source": [
    "triggers = data[['t']]\n",
    "triggers['one'] = 1;"
   ]
  },
  {
   "cell_type": "code",
   "execution_count": null,
   "metadata": {},
   "outputs": [],
   "source": [
    "triggers = pd.pivot_table(triggers, values='one', columns=['t'], index='label', aggfunc=np.sum).fillna(0)"
   ]
  },
  {
   "cell_type": "code",
   "execution_count": null,
   "metadata": {},
   "outputs": [],
   "source": [
    "triggers.columns = ['TF', 'CF', 'TC']"
   ]
  },
  {
   "cell_type": "code",
   "execution_count": null,
   "metadata": {},
   "outputs": [],
   "source": [
    "triggers.head()"
   ]
  },
  {
   "cell_type": "code",
   "execution_count": null,
   "metadata": {},
   "outputs": [],
   "source": [
    "def variance(k, n):\n",
    "    return (k+1)*(k+2)/(n+2)/(n+3) - (k+1)**2/(n+2)**2"
   ]
  },
  {
   "cell_type": "code",
   "execution_count": null,
   "metadata": {},
   "outputs": [],
   "source": [
    "triggers['eTF'] = (triggers['TC'] + 1)/(triggers['CF'] + triggers['TC'] + 2)\n",
    "triggers['eCF'] = (triggers['TC'] + 1)/(triggers['TF'] + triggers['TC'] + 2)\n",
    "triggers['TrigEff'] = 1 - (1-triggers['eTF'])*(1-triggers['eCF'])\n",
    "\n",
    "triggers['vTF'] = np.sqrt( variance(triggers['TC'], triggers['CF'] + triggers['TC']) )\n",
    "triggers['vCF'] = np.sqrt( variance(triggers['TC'], triggers['TF'] + triggers['TC']) )\n",
    "triggers['TrigErr'] = np.sqrt( np.square((1-triggers['eTF'])*triggers['vCF']) + \n",
    "                              np.square((1-triggers['eCF'])*triggers['vTF']) )"
   ]
  },
  {
   "cell_type": "markdown",
   "metadata": {},
   "source": [
    "OK, trigers have been got"
   ]
  },
  {
   "cell_type": "code",
   "execution_count": null,
   "metadata": {},
   "outputs": [],
   "source": [
    "triggers.to_csv('triggers'+year+'.csv', float_format='%.2f')"
   ]
  },
  {
   "cell_type": "code",
   "execution_count": null,
   "metadata": {},
   "outputs": [],
   "source": [
    "triggers"
   ]
  },
  {
   "cell_type": "code",
   "execution_count": null,
   "metadata": {},
   "outputs": [],
   "source": []
  }
 ],
 "metadata": {
  "kernelspec": {
   "display_name": "Python 3",
   "language": "python",
   "name": "python3"
  },
  "language_info": {
   "codemirror_mode": {
    "name": "ipython",
    "version": 3
   },
   "file_extension": ".py",
   "mimetype": "text/x-python",
   "name": "python",
   "nbconvert_exporter": "python",
   "pygments_lexer": "ipython3",
   "version": "3.6.8"
  }
 },
 "nbformat": 4,
 "nbformat_minor": 2
}
