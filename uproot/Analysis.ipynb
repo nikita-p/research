{
 "cells": [
  {
   "cell_type": "code",
   "execution_count": 1,
   "metadata": {},
   "outputs": [],
   "source": [
    "import uproot\n",
    "import numpy as np\n",
    "import pandas as pd\n",
    "import matplotlib.pyplot as plt\n",
    "import seaborn as sns\n",
    "%matplotlib inline"
   ]
  },
  {
   "cell_type": "code",
   "execution_count": 2,
   "metadata": {},
   "outputs": [],
   "source": [
    "sns.set(rc={'figure.figsize':(11.7,8.27)})"
   ]
  },
  {
   "cell_type": "code",
   "execution_count": 3,
   "metadata": {},
   "outputs": [],
   "source": [
    "year = '19'"
   ]
  },
  {
   "cell_type": "markdown",
   "metadata": {},
   "source": [
    "Open data files and transform them into pandas dataframe"
   ]
  },
  {
   "cell_type": "code",
   "execution_count": 4,
   "metadata": {},
   "outputs": [],
   "source": [
    "f = uproot.pandas.iterate(\"../outputs/\"+year+\"/*.root\", \"t\", branches=['label', 'be', 'm', 't', 'proc'])\n",
    "data = pd.concat([j for j in f])"
   ]
  },
  {
   "cell_type": "markdown",
   "metadata": {},
   "source": [
    "Sort values by label"
   ]
  },
  {
   "cell_type": "code",
   "execution_count": 5,
   "metadata": {},
   "outputs": [],
   "source": [
    "data.sort_values(by='label', ascending=True, inplace=True);"
   ]
  },
  {
   "cell_type": "markdown",
   "metadata": {},
   "source": [
    "Cut off incorrect beam energy and mass outside the window"
   ]
  },
  {
   "cell_type": "code",
   "execution_count": 6,
   "metadata": {},
   "outputs": [],
   "source": [
    "data.query('be>0&m>450&m<550&proc!=1', inplace=True)\n",
    "if not(year=='model'):\n",
    "    data.query('t>-1', inplace=True)"
   ]
  },
  {
   "cell_type": "markdown",
   "metadata": {},
   "source": [
    "Change index column"
   ]
  },
  {
   "cell_type": "code",
   "execution_count": 7,
   "metadata": {},
   "outputs": [],
   "source": [
    "data.index = data.label\n",
    "data.drop(['label', 'proc'], axis=1, inplace=True)"
   ]
  },
  {
   "cell_type": "markdown",
   "metadata": {},
   "source": [
    "Include luminosity file"
   ]
  },
  {
   "cell_type": "code",
   "execution_count": 8,
   "metadata": {},
   "outputs": [],
   "source": [
    "lum = pd.read_csv('../inputs/'+year+'/lum', header=None, names=['label', 'lum'])"
   ]
  },
  {
   "cell_type": "code",
   "execution_count": 9,
   "metadata": {},
   "outputs": [],
   "source": [
    "lum = lum.drop_duplicates(subset=['label'])"
   ]
  },
  {
   "cell_type": "code",
   "execution_count": 10,
   "metadata": {},
   "outputs": [],
   "source": [
    "lum.index = lum.label\n",
    "lum.drop(['label'], axis=1, inplace=True)"
   ]
  },
  {
   "cell_type": "code",
   "execution_count": 11,
   "metadata": {},
   "outputs": [
    {
     "data": {
      "text/plain": [
       "(43, 1)"
      ]
     },
     "execution_count": 11,
     "metadata": {},
     "output_type": "execute_result"
    }
   ],
   "source": [
    "lum.shape"
   ]
  },
  {
   "cell_type": "markdown",
   "metadata": {},
   "source": [
    "Check right values of triggers"
   ]
  },
  {
   "cell_type": "code",
   "execution_count": 12,
   "metadata": {},
   "outputs": [
    {
     "data": {
      "text/html": [
       "<div>\n",
       "<style scoped>\n",
       "    .dataframe tbody tr th:only-of-type {\n",
       "        vertical-align: middle;\n",
       "    }\n",
       "\n",
       "    .dataframe tbody tr th {\n",
       "        vertical-align: top;\n",
       "    }\n",
       "\n",
       "    .dataframe thead th {\n",
       "        text-align: right;\n",
       "    }\n",
       "</style>\n",
       "<table border=\"1\" class=\"dataframe\">\n",
       "  <thead>\n",
       "    <tr style=\"text-align: right;\">\n",
       "      <th></th>\n",
       "      <th>m</th>\n",
       "    </tr>\n",
       "    <tr>\n",
       "      <th>t</th>\n",
       "      <th></th>\n",
       "    </tr>\n",
       "  </thead>\n",
       "  <tbody>\n",
       "    <tr>\n",
       "      <th>0</th>\n",
       "      <td>1256.0</td>\n",
       "    </tr>\n",
       "    <tr>\n",
       "      <th>1</th>\n",
       "      <td>224.0</td>\n",
       "    </tr>\n",
       "    <tr>\n",
       "      <th>2</th>\n",
       "      <td>8203.0</td>\n",
       "    </tr>\n",
       "  </tbody>\n",
       "</table>\n",
       "</div>"
      ],
      "text/plain": [
       "        m\n",
       "t        \n",
       "0  1256.0\n",
       "1   224.0\n",
       "2  8203.0"
      ]
     },
     "execution_count": 12,
     "metadata": {},
     "output_type": "execute_result"
    }
   ],
   "source": [
    "data.groupby('t').agg({'m':np.size})"
   ]
  },
  {
   "cell_type": "code",
   "execution_count": 13,
   "metadata": {},
   "outputs": [
    {
     "data": {
      "text/html": [
       "<div>\n",
       "<style scoped>\n",
       "    .dataframe tbody tr th:only-of-type {\n",
       "        vertical-align: middle;\n",
       "    }\n",
       "\n",
       "    .dataframe tbody tr th {\n",
       "        vertical-align: top;\n",
       "    }\n",
       "\n",
       "    .dataframe thead th {\n",
       "        text-align: right;\n",
       "    }\n",
       "</style>\n",
       "<table border=\"1\" class=\"dataframe\">\n",
       "  <thead>\n",
       "    <tr style=\"text-align: right;\">\n",
       "      <th></th>\n",
       "      <th>be</th>\n",
       "      <th>m</th>\n",
       "      <th>t</th>\n",
       "    </tr>\n",
       "    <tr>\n",
       "      <th>label</th>\n",
       "      <th></th>\n",
       "      <th></th>\n",
       "      <th></th>\n",
       "    </tr>\n",
       "  </thead>\n",
       "  <tbody>\n",
       "    <tr>\n",
       "      <th>537.5</th>\n",
       "      <td>537.454102</td>\n",
       "      <td>500.687988</td>\n",
       "      <td>2</td>\n",
       "    </tr>\n",
       "    <tr>\n",
       "      <th>537.5</th>\n",
       "      <td>537.454102</td>\n",
       "      <td>504.187775</td>\n",
       "      <td>2</td>\n",
       "    </tr>\n",
       "    <tr>\n",
       "      <th>537.5</th>\n",
       "      <td>537.454102</td>\n",
       "      <td>499.756104</td>\n",
       "      <td>2</td>\n",
       "    </tr>\n",
       "    <tr>\n",
       "      <th>537.5</th>\n",
       "      <td>537.454102</td>\n",
       "      <td>492.776550</td>\n",
       "      <td>0</td>\n",
       "    </tr>\n",
       "    <tr>\n",
       "      <th>537.5</th>\n",
       "      <td>537.454102</td>\n",
       "      <td>491.207275</td>\n",
       "      <td>0</td>\n",
       "    </tr>\n",
       "  </tbody>\n",
       "</table>\n",
       "</div>"
      ],
      "text/plain": [
       "               be           m  t\n",
       "label                           \n",
       "537.5  537.454102  500.687988  2\n",
       "537.5  537.454102  504.187775  2\n",
       "537.5  537.454102  499.756104  2\n",
       "537.5  537.454102  492.776550  0\n",
       "537.5  537.454102  491.207275  0"
      ]
     },
     "execution_count": 13,
     "metadata": {},
     "output_type": "execute_result"
    }
   ],
   "source": [
    "data.head()"
   ]
  },
  {
   "cell_type": "code",
   "execution_count": 14,
   "metadata": {},
   "outputs": [
    {
     "data": {
      "text/html": [
       "<div>\n",
       "<style scoped>\n",
       "    .dataframe tbody tr th:only-of-type {\n",
       "        vertical-align: middle;\n",
       "    }\n",
       "\n",
       "    .dataframe tbody tr th {\n",
       "        vertical-align: top;\n",
       "    }\n",
       "\n",
       "    .dataframe thead th {\n",
       "        text-align: right;\n",
       "    }\n",
       "</style>\n",
       "<table border=\"1\" class=\"dataframe\">\n",
       "  <thead>\n",
       "    <tr style=\"text-align: right;\">\n",
       "      <th></th>\n",
       "      <th>lum</th>\n",
       "    </tr>\n",
       "    <tr>\n",
       "      <th>label</th>\n",
       "      <th></th>\n",
       "    </tr>\n",
       "  </thead>\n",
       "  <tbody>\n",
       "    <tr>\n",
       "      <th>537.5</th>\n",
       "      <td>1221.9</td>\n",
       "    </tr>\n",
       "    <tr>\n",
       "      <th>550.0</th>\n",
       "      <td>1427.2</td>\n",
       "    </tr>\n",
       "    <tr>\n",
       "      <th>550.1</th>\n",
       "      <td>499.5</td>\n",
       "    </tr>\n",
       "    <tr>\n",
       "      <th>562.5</th>\n",
       "      <td>1049.2</td>\n",
       "    </tr>\n",
       "    <tr>\n",
       "      <th>575.0</th>\n",
       "      <td>1058.9</td>\n",
       "    </tr>\n",
       "    <tr>\n",
       "      <th>587.5</th>\n",
       "      <td>1169.9</td>\n",
       "    </tr>\n",
       "    <tr>\n",
       "      <th>600.0</th>\n",
       "      <td>1165.5</td>\n",
       "    </tr>\n",
       "    <tr>\n",
       "      <th>612.5</th>\n",
       "      <td>1062.5</td>\n",
       "    </tr>\n",
       "    <tr>\n",
       "      <th>625.0</th>\n",
       "      <td>1093.3</td>\n",
       "    </tr>\n",
       "    <tr>\n",
       "      <th>637.5</th>\n",
       "      <td>1021.9</td>\n",
       "    </tr>\n",
       "    <tr>\n",
       "      <th>641.0</th>\n",
       "      <td>6315.3</td>\n",
       "    </tr>\n",
       "    <tr>\n",
       "      <th>650.0</th>\n",
       "      <td>953.9</td>\n",
       "    </tr>\n",
       "    <tr>\n",
       "      <th>662.5</th>\n",
       "      <td>1107.1</td>\n",
       "    </tr>\n",
       "    <tr>\n",
       "      <th>675.0</th>\n",
       "      <td>1136.3</td>\n",
       "    </tr>\n",
       "    <tr>\n",
       "      <th>687.5</th>\n",
       "      <td>1152.5</td>\n",
       "    </tr>\n",
       "    <tr>\n",
       "      <th>700.0</th>\n",
       "      <td>1002.3</td>\n",
       "    </tr>\n",
       "    <tr>\n",
       "      <th>712.5</th>\n",
       "      <td>1002.9</td>\n",
       "    </tr>\n",
       "    <tr>\n",
       "      <th>725.0</th>\n",
       "      <td>1324.8</td>\n",
       "    </tr>\n",
       "    <tr>\n",
       "      <th>737.5</th>\n",
       "      <td>951.4</td>\n",
       "    </tr>\n",
       "    <tr>\n",
       "      <th>750.0</th>\n",
       "      <td>1038.8</td>\n",
       "    </tr>\n",
       "    <tr>\n",
       "      <th>762.0</th>\n",
       "      <td>1350.3</td>\n",
       "    </tr>\n",
       "    <tr>\n",
       "      <th>775.0</th>\n",
       "      <td>977.4</td>\n",
       "    </tr>\n",
       "    <tr>\n",
       "      <th>787.5</th>\n",
       "      <td>1249.1</td>\n",
       "    </tr>\n",
       "    <tr>\n",
       "      <th>800.0</th>\n",
       "      <td>1417.7</td>\n",
       "    </tr>\n",
       "    <tr>\n",
       "      <th>812.5</th>\n",
       "      <td>1873.4</td>\n",
       "    </tr>\n",
       "    <tr>\n",
       "      <th>825.0</th>\n",
       "      <td>1500.2</td>\n",
       "    </tr>\n",
       "    <tr>\n",
       "      <th>837.5</th>\n",
       "      <td>1062.7</td>\n",
       "    </tr>\n",
       "    <tr>\n",
       "      <th>850.0</th>\n",
       "      <td>1000.7</td>\n",
       "    </tr>\n",
       "    <tr>\n",
       "      <th>862.5</th>\n",
       "      <td>1031.4</td>\n",
       "    </tr>\n",
       "    <tr>\n",
       "      <th>875.0</th>\n",
       "      <td>1012.2</td>\n",
       "    </tr>\n",
       "    <tr>\n",
       "      <th>887.5</th>\n",
       "      <td>977.3</td>\n",
       "    </tr>\n",
       "    <tr>\n",
       "      <th>900.0</th>\n",
       "      <td>1049.1</td>\n",
       "    </tr>\n",
       "    <tr>\n",
       "      <th>912.5</th>\n",
       "      <td>1011.8</td>\n",
       "    </tr>\n",
       "    <tr>\n",
       "      <th>925.0</th>\n",
       "      <td>1048.7</td>\n",
       "    </tr>\n",
       "    <tr>\n",
       "      <th>936.0</th>\n",
       "      <td>1875.2</td>\n",
       "    </tr>\n",
       "    <tr>\n",
       "      <th>945.0</th>\n",
       "      <td>2295.1</td>\n",
       "    </tr>\n",
       "    <tr>\n",
       "      <th>950.0</th>\n",
       "      <td>1937.9</td>\n",
       "    </tr>\n",
       "    <tr>\n",
       "      <th>951.1</th>\n",
       "      <td>2126.6</td>\n",
       "    </tr>\n",
       "    <tr>\n",
       "      <th>955.0</th>\n",
       "      <td>1719.2</td>\n",
       "    </tr>\n",
       "    <tr>\n",
       "      <th>962.5</th>\n",
       "      <td>2062.9</td>\n",
       "    </tr>\n",
       "    <tr>\n",
       "      <th>975.0</th>\n",
       "      <td>3955.9</td>\n",
       "    </tr>\n",
       "    <tr>\n",
       "      <th>978.0</th>\n",
       "      <td>446.2</td>\n",
       "    </tr>\n",
       "    <tr>\n",
       "      <th>987.5</th>\n",
       "      <td>2252.5</td>\n",
       "    </tr>\n",
       "  </tbody>\n",
       "</table>\n",
       "</div>"
      ],
      "text/plain": [
       "          lum\n",
       "label        \n",
       "537.5  1221.9\n",
       "550.0  1427.2\n",
       "550.1   499.5\n",
       "562.5  1049.2\n",
       "575.0  1058.9\n",
       "587.5  1169.9\n",
       "600.0  1165.5\n",
       "612.5  1062.5\n",
       "625.0  1093.3\n",
       "637.5  1021.9\n",
       "641.0  6315.3\n",
       "650.0   953.9\n",
       "662.5  1107.1\n",
       "675.0  1136.3\n",
       "687.5  1152.5\n",
       "700.0  1002.3\n",
       "712.5  1002.9\n",
       "725.0  1324.8\n",
       "737.5   951.4\n",
       "750.0  1038.8\n",
       "762.0  1350.3\n",
       "775.0   977.4\n",
       "787.5  1249.1\n",
       "800.0  1417.7\n",
       "812.5  1873.4\n",
       "825.0  1500.2\n",
       "837.5  1062.7\n",
       "850.0  1000.7\n",
       "862.5  1031.4\n",
       "875.0  1012.2\n",
       "887.5   977.3\n",
       "900.0  1049.1\n",
       "912.5  1011.8\n",
       "925.0  1048.7\n",
       "936.0  1875.2\n",
       "945.0  2295.1\n",
       "950.0  1937.9\n",
       "951.1  2126.6\n",
       "955.0  1719.2\n",
       "962.5  2062.9\n",
       "975.0  3955.9\n",
       "978.0   446.2\n",
       "987.5  2252.5"
      ]
     },
     "execution_count": 14,
     "metadata": {},
     "output_type": "execute_result"
    }
   ],
   "source": [
    "lum.sort_index()"
   ]
  },
  {
   "cell_type": "code",
   "execution_count": 15,
   "metadata": {},
   "outputs": [
    {
     "data": {
      "text/plain": [
       "<matplotlib.axes._subplots.AxesSubplot at 0x7f9d92aa9cc0>"
      ]
     },
     "execution_count": 15,
     "metadata": {},
     "output_type": "execute_result"
    },
    {
     "data": {
      "image/png": "[encoded data removed]",
      "text/plain": [
       "<Figure size 842.4x595.44 with 1 Axes>"
      ]
     },
     "metadata": {},
     "output_type": "display_data"
    }
   ],
   "source": [
    "lum.sort_index().plot()"
   ]
  },
  {
   "cell_type": "markdown",
   "metadata": {},
   "source": [
    "Join luminosity to data file"
   ]
  },
  {
   "cell_type": "code",
   "execution_count": 16,
   "metadata": {},
   "outputs": [],
   "source": [
    "data = data.join(lum, how='inner')"
   ]
  },
  {
   "cell_type": "code",
   "execution_count": 17,
   "metadata": {},
   "outputs": [
    {
     "data": {
      "text/html": [
       "<div>\n",
       "<style scoped>\n",
       "    .dataframe tbody tr th:only-of-type {\n",
       "        vertical-align: middle;\n",
       "    }\n",
       "\n",
       "    .dataframe tbody tr th {\n",
       "        vertical-align: top;\n",
       "    }\n",
       "\n",
       "    .dataframe thead th {\n",
       "        text-align: right;\n",
       "    }\n",
       "</style>\n",
       "<table border=\"1\" class=\"dataframe\">\n",
       "  <thead>\n",
       "    <tr style=\"text-align: right;\">\n",
       "      <th></th>\n",
       "      <th>lum</th>\n",
       "    </tr>\n",
       "    <tr>\n",
       "      <th>label</th>\n",
       "      <th></th>\n",
       "    </tr>\n",
       "  </thead>\n",
       "  <tbody>\n",
       "    <tr>\n",
       "      <th>955.0</th>\n",
       "      <td>1719.2</td>\n",
       "    </tr>\n",
       "    <tr>\n",
       "      <th>962.5</th>\n",
       "      <td>2062.9</td>\n",
       "    </tr>\n",
       "    <tr>\n",
       "      <th>975.0</th>\n",
       "      <td>3955.9</td>\n",
       "    </tr>\n",
       "    <tr>\n",
       "      <th>978.0</th>\n",
       "      <td>446.2</td>\n",
       "    </tr>\n",
       "    <tr>\n",
       "      <th>987.5</th>\n",
       "      <td>2252.5</td>\n",
       "    </tr>\n",
       "  </tbody>\n",
       "</table>\n",
       "</div>"
      ],
      "text/plain": [
       "          lum\n",
       "label        \n",
       "955.0  1719.2\n",
       "962.5  2062.9\n",
       "975.0  3955.9\n",
       "978.0   446.2\n",
       "987.5  2252.5"
      ]
     },
     "execution_count": 17,
     "metadata": {},
     "output_type": "execute_result"
    }
   ],
   "source": [
    "lum.drop_duplicates().sort_index().tail()"
   ]
  },
  {
   "cell_type": "markdown",
   "metadata": {},
   "source": [
    "See how much events in each point I have"
   ]
  },
  {
   "cell_type": "code",
   "execution_count": 18,
   "metadata": {},
   "outputs": [
    {
     "data": {
      "text/plain": [
       "<matplotlib.axes._subplots.AxesSubplot at 0x7f9d92d34f28>"
      ]
     },
     "execution_count": 18,
     "metadata": {},
     "output_type": "execute_result"
    },
    {
     "data": {
      "image/png": "[encoded data removed]",
      "text/plain": [
       "<Figure size 842.4x595.44 with 1 Axes>"
      ]
     },
     "metadata": {},
     "output_type": "display_data"
    }
   ],
   "source": [
    "data.groupby('label').agg({'m':np.size}).plot()"
   ]
  },
  {
   "cell_type": "code",
   "execution_count": 19,
   "metadata": {
    "scrolled": true
   },
   "outputs": [
    {
     "data": {
      "text/html": [
       "<div>\n",
       "<style scoped>\n",
       "    .dataframe tbody tr th:only-of-type {\n",
       "        vertical-align: middle;\n",
       "    }\n",
       "\n",
       "    .dataframe tbody tr th {\n",
       "        vertical-align: top;\n",
       "    }\n",
       "\n",
       "    .dataframe thead th {\n",
       "        text-align: right;\n",
       "    }\n",
       "</style>\n",
       "<table border=\"1\" class=\"dataframe\">\n",
       "  <thead>\n",
       "    <tr style=\"text-align: right;\">\n",
       "      <th></th>\n",
       "      <th>m</th>\n",
       "    </tr>\n",
       "    <tr>\n",
       "      <th>label</th>\n",
       "      <th></th>\n",
       "    </tr>\n",
       "  </thead>\n",
       "  <tbody>\n",
       "    <tr>\n",
       "      <th>537.5</th>\n",
       "      <td>2022.0</td>\n",
       "    </tr>\n",
       "    <tr>\n",
       "      <th>550.0</th>\n",
       "      <td>1405.0</td>\n",
       "    </tr>\n",
       "    <tr>\n",
       "      <th>562.5</th>\n",
       "      <td>687.0</td>\n",
       "    </tr>\n",
       "    <tr>\n",
       "      <th>575.0</th>\n",
       "      <td>525.0</td>\n",
       "    </tr>\n",
       "    <tr>\n",
       "      <th>587.5</th>\n",
       "      <td>388.0</td>\n",
       "    </tr>\n",
       "    <tr>\n",
       "      <th>600.0</th>\n",
       "      <td>282.0</td>\n",
       "    </tr>\n",
       "    <tr>\n",
       "      <th>612.5</th>\n",
       "      <td>264.0</td>\n",
       "    </tr>\n",
       "    <tr>\n",
       "      <th>625.0</th>\n",
       "      <td>200.0</td>\n",
       "    </tr>\n",
       "    <tr>\n",
       "      <th>637.5</th>\n",
       "      <td>126.0</td>\n",
       "    </tr>\n",
       "    <tr>\n",
       "      <th>641.0</th>\n",
       "      <td>864.0</td>\n",
       "    </tr>\n",
       "    <tr>\n",
       "      <th>650.0</th>\n",
       "      <td>104.0</td>\n",
       "    </tr>\n",
       "    <tr>\n",
       "      <th>675.0</th>\n",
       "      <td>96.0</td>\n",
       "    </tr>\n",
       "    <tr>\n",
       "      <th>687.5</th>\n",
       "      <td>88.0</td>\n",
       "    </tr>\n",
       "    <tr>\n",
       "      <th>700.0</th>\n",
       "      <td>51.0</td>\n",
       "    </tr>\n",
       "    <tr>\n",
       "      <th>712.5</th>\n",
       "      <td>73.0</td>\n",
       "    </tr>\n",
       "    <tr>\n",
       "      <th>725.0</th>\n",
       "      <td>74.0</td>\n",
       "    </tr>\n",
       "    <tr>\n",
       "      <th>737.5</th>\n",
       "      <td>62.0</td>\n",
       "    </tr>\n",
       "    <tr>\n",
       "      <th>750.0</th>\n",
       "      <td>121.0</td>\n",
       "    </tr>\n",
       "    <tr>\n",
       "      <th>762.0</th>\n",
       "      <td>177.0</td>\n",
       "    </tr>\n",
       "    <tr>\n",
       "      <th>775.0</th>\n",
       "      <td>139.0</td>\n",
       "    </tr>\n",
       "    <tr>\n",
       "      <th>787.5</th>\n",
       "      <td>229.0</td>\n",
       "    </tr>\n",
       "    <tr>\n",
       "      <th>800.0</th>\n",
       "      <td>302.0</td>\n",
       "    </tr>\n",
       "    <tr>\n",
       "      <th>812.5</th>\n",
       "      <td>420.0</td>\n",
       "    </tr>\n",
       "    <tr>\n",
       "      <th>825.0</th>\n",
       "      <td>292.0</td>\n",
       "    </tr>\n",
       "    <tr>\n",
       "      <th>837.5</th>\n",
       "      <td>166.0</td>\n",
       "    </tr>\n",
       "    <tr>\n",
       "      <th>850.0</th>\n",
       "      <td>92.0</td>\n",
       "    </tr>\n",
       "    <tr>\n",
       "      <th>862.5</th>\n",
       "      <td>45.0</td>\n",
       "    </tr>\n",
       "    <tr>\n",
       "      <th>887.5</th>\n",
       "      <td>21.0</td>\n",
       "    </tr>\n",
       "    <tr>\n",
       "      <th>900.0</th>\n",
       "      <td>16.0</td>\n",
       "    </tr>\n",
       "    <tr>\n",
       "      <th>912.5</th>\n",
       "      <td>20.0</td>\n",
       "    </tr>\n",
       "    <tr>\n",
       "      <th>925.0</th>\n",
       "      <td>20.0</td>\n",
       "    </tr>\n",
       "    <tr>\n",
       "      <th>936.0</th>\n",
       "      <td>41.0</td>\n",
       "    </tr>\n",
       "    <tr>\n",
       "      <th>945.0</th>\n",
       "      <td>49.0</td>\n",
       "    </tr>\n",
       "    <tr>\n",
       "      <th>950.0</th>\n",
       "      <td>31.0</td>\n",
       "    </tr>\n",
       "    <tr>\n",
       "      <th>955.0</th>\n",
       "      <td>29.0</td>\n",
       "    </tr>\n",
       "    <tr>\n",
       "      <th>962.5</th>\n",
       "      <td>41.0</td>\n",
       "    </tr>\n",
       "    <tr>\n",
       "      <th>975.0</th>\n",
       "      <td>7.0</td>\n",
       "    </tr>\n",
       "    <tr>\n",
       "      <th>987.5</th>\n",
       "      <td>55.0</td>\n",
       "    </tr>\n",
       "  </tbody>\n",
       "</table>\n",
       "</div>"
      ],
      "text/plain": [
       "            m\n",
       "label        \n",
       "537.5  2022.0\n",
       "550.0  1405.0\n",
       "562.5   687.0\n",
       "575.0   525.0\n",
       "587.5   388.0\n",
       "600.0   282.0\n",
       "612.5   264.0\n",
       "625.0   200.0\n",
       "637.5   126.0\n",
       "641.0   864.0\n",
       "650.0   104.0\n",
       "675.0    96.0\n",
       "687.5    88.0\n",
       "700.0    51.0\n",
       "712.5    73.0\n",
       "725.0    74.0\n",
       "737.5    62.0\n",
       "750.0   121.0\n",
       "762.0   177.0\n",
       "775.0   139.0\n",
       "787.5   229.0\n",
       "800.0   302.0\n",
       "812.5   420.0\n",
       "825.0   292.0\n",
       "837.5   166.0\n",
       "850.0    92.0\n",
       "862.5    45.0\n",
       "887.5    21.0\n",
       "900.0    16.0\n",
       "912.5    20.0\n",
       "925.0    20.0\n",
       "936.0    41.0\n",
       "945.0    49.0\n",
       "950.0    31.0\n",
       "955.0    29.0\n",
       "962.5    41.0\n",
       "975.0     7.0\n",
       "987.5    55.0"
      ]
     },
     "execution_count": 19,
     "metadata": {},
     "output_type": "execute_result"
    }
   ],
   "source": [
    "data.groupby('label').agg({'m':np.size})"
   ]
  },
  {
   "cell_type": "markdown",
   "metadata": {},
   "source": [
    "Next stage: merge points with little data"
   ]
  },
  {
   "cell_type": "code",
   "execution_count": 20,
   "metadata": {},
   "outputs": [],
   "source": [
    "cnct = [] #model\n",
    "#cnct = [([880., 890., 900., 910.], 900), ([920., 930., 936., 937.5], 935), ([942., 950., 971.], 960), \n",
    "#        ([981., 990, 1003.5],990)] #17 year\n",
    "#cnct = [([900., 920., 936., 950., 960., 970., 980., 990], 960)] #12 year\n",
    "#cnct = [([875., 887.5], 880), ([900., 912.5, 925.], 910), ([935., 945., 950., 962.5, 975., 987.5, 1000.], 950)] #11year"
   ]
  },
  {
   "cell_type": "code",
   "execution_count": 21,
   "metadata": {},
   "outputs": [],
   "source": [
    "data['label'] = data.index\n",
    "for c in cnct:\n",
    "    data.label.replace(c[0], c[1], inplace=True)\n",
    "data.index = data.label\n",
    "data.drop(['label'], axis=1, inplace=True)"
   ]
  },
  {
   "cell_type": "markdown",
   "metadata": {},
   "source": [
    "OK, points have been merged"
   ]
  },
  {
   "cell_type": "code",
   "execution_count": 22,
   "metadata": {},
   "outputs": [
    {
     "data": {
      "text/html": [
       "<div>\n",
       "<style scoped>\n",
       "    .dataframe tbody tr th:only-of-type {\n",
       "        vertical-align: middle;\n",
       "    }\n",
       "\n",
       "    .dataframe tbody tr th {\n",
       "        vertical-align: top;\n",
       "    }\n",
       "\n",
       "    .dataframe thead th {\n",
       "        text-align: right;\n",
       "    }\n",
       "</style>\n",
       "<table border=\"1\" class=\"dataframe\">\n",
       "  <thead>\n",
       "    <tr style=\"text-align: right;\">\n",
       "      <th></th>\n",
       "      <th>be</th>\n",
       "      <th>m</th>\n",
       "      <th>t</th>\n",
       "      <th>lum</th>\n",
       "    </tr>\n",
       "    <tr>\n",
       "      <th>label</th>\n",
       "      <th></th>\n",
       "      <th></th>\n",
       "      <th></th>\n",
       "      <th></th>\n",
       "    </tr>\n",
       "  </thead>\n",
       "  <tbody>\n",
       "    <tr>\n",
       "      <th>987.5</th>\n",
       "      <td>987.804626</td>\n",
       "      <td>519.291504</td>\n",
       "      <td>2</td>\n",
       "      <td>2252.5</td>\n",
       "    </tr>\n",
       "    <tr>\n",
       "      <th>987.5</th>\n",
       "      <td>987.804626</td>\n",
       "      <td>513.790405</td>\n",
       "      <td>2</td>\n",
       "      <td>2252.5</td>\n",
       "    </tr>\n",
       "    <tr>\n",
       "      <th>987.5</th>\n",
       "      <td>987.804626</td>\n",
       "      <td>514.808411</td>\n",
       "      <td>2</td>\n",
       "      <td>2252.5</td>\n",
       "    </tr>\n",
       "    <tr>\n",
       "      <th>987.5</th>\n",
       "      <td>987.804626</td>\n",
       "      <td>491.808868</td>\n",
       "      <td>2</td>\n",
       "      <td>2252.5</td>\n",
       "    </tr>\n",
       "    <tr>\n",
       "      <th>987.5</th>\n",
       "      <td>987.804626</td>\n",
       "      <td>485.778198</td>\n",
       "      <td>2</td>\n",
       "      <td>2252.5</td>\n",
       "    </tr>\n",
       "  </tbody>\n",
       "</table>\n",
       "</div>"
      ],
      "text/plain": [
       "               be           m  t     lum\n",
       "label                                   \n",
       "987.5  987.804626  519.291504  2  2252.5\n",
       "987.5  987.804626  513.790405  2  2252.5\n",
       "987.5  987.804626  514.808411  2  2252.5\n",
       "987.5  987.804626  491.808868  2  2252.5\n",
       "987.5  987.804626  485.778198  2  2252.5"
      ]
     },
     "execution_count": 22,
     "metadata": {},
     "output_type": "execute_result"
    }
   ],
   "source": [
    "data.tail()"
   ]
  },
  {
   "cell_type": "markdown",
   "metadata": {},
   "source": [
    "Get true luminosity for merged events"
   ]
  },
  {
   "cell_type": "code",
   "execution_count": 23,
   "metadata": {},
   "outputs": [],
   "source": [
    "data['lume'] = data.be*data.lum"
   ]
  },
  {
   "cell_type": "markdown",
   "metadata": {},
   "source": [
    "Create new table with right values of energy and luminosity"
   ]
  },
  {
   "cell_type": "code",
   "execution_count": 24,
   "metadata": {},
   "outputs": [],
   "source": [
    "new_lum = data[['be','lum', 'lume']].drop_duplicates().groupby('label').agg({'lume':[np.sum], 'lum':[np.sum], \n",
    "                        'be':[np.min, np.max]})"
   ]
  },
  {
   "cell_type": "code",
   "execution_count": 25,
   "metadata": {},
   "outputs": [],
   "source": [
    "new_lum['Emean'] = np.round( new_lum[('lume','sum')]/new_lum[('lum','sum')], 2)"
   ]
  },
  {
   "cell_type": "code",
   "execution_count": 26,
   "metadata": {},
   "outputs": [],
   "source": [
    "new_lum.columns = ['lume', 'lum', 'dEmin', 'dEmax', 'Emean']\n",
    "new_lum.drop('lume', axis=1, inplace=True)\n",
    "new_lum['dEmax'] = np.abs( np.round( new_lum.dEmax-new_lum.Emean, 2) )\n",
    "new_lum['dEmin'] = np.abs( np.round( new_lum.Emean - new_lum.dEmin, 2) )"
   ]
  },
  {
   "cell_type": "code",
   "execution_count": 27,
   "metadata": {},
   "outputs": [
    {
     "data": {
      "text/html": [
       "<div>\n",
       "<style scoped>\n",
       "    .dataframe tbody tr th:only-of-type {\n",
       "        vertical-align: middle;\n",
       "    }\n",
       "\n",
       "    .dataframe tbody tr th {\n",
       "        vertical-align: top;\n",
       "    }\n",
       "\n",
       "    .dataframe thead th {\n",
       "        text-align: right;\n",
       "    }\n",
       "</style>\n",
       "<table border=\"1\" class=\"dataframe\">\n",
       "  <thead>\n",
       "    <tr style=\"text-align: right;\">\n",
       "      <th></th>\n",
       "      <th>lum</th>\n",
       "      <th>dEmin</th>\n",
       "      <th>dEmax</th>\n",
       "      <th>Emean</th>\n",
       "    </tr>\n",
       "    <tr>\n",
       "      <th>label</th>\n",
       "      <th></th>\n",
       "      <th></th>\n",
       "      <th></th>\n",
       "      <th></th>\n",
       "    </tr>\n",
       "  </thead>\n",
       "  <tbody>\n",
       "    <tr>\n",
       "      <th>950.0</th>\n",
       "      <td>1937.9</td>\n",
       "      <td>0.0</td>\n",
       "      <td>0.0</td>\n",
       "      <td>950.15</td>\n",
       "    </tr>\n",
       "    <tr>\n",
       "      <th>955.0</th>\n",
       "      <td>1719.2</td>\n",
       "      <td>0.0</td>\n",
       "      <td>0.0</td>\n",
       "      <td>956.05</td>\n",
       "    </tr>\n",
       "    <tr>\n",
       "      <th>962.5</th>\n",
       "      <td>2062.9</td>\n",
       "      <td>0.0</td>\n",
       "      <td>0.0</td>\n",
       "      <td>962.82</td>\n",
       "    </tr>\n",
       "    <tr>\n",
       "      <th>975.0</th>\n",
       "      <td>3955.9</td>\n",
       "      <td>0.0</td>\n",
       "      <td>0.0</td>\n",
       "      <td>976.21</td>\n",
       "    </tr>\n",
       "    <tr>\n",
       "      <th>987.5</th>\n",
       "      <td>2252.5</td>\n",
       "      <td>0.0</td>\n",
       "      <td>0.0</td>\n",
       "      <td>987.80</td>\n",
       "    </tr>\n",
       "  </tbody>\n",
       "</table>\n",
       "</div>"
      ],
      "text/plain": [
       "          lum  dEmin  dEmax   Emean\n",
       "label                              \n",
       "950.0  1937.9    0.0    0.0  950.15\n",
       "955.0  1719.2    0.0    0.0  956.05\n",
       "962.5  2062.9    0.0    0.0  962.82\n",
       "975.0  3955.9    0.0    0.0  976.21\n",
       "987.5  2252.5    0.0    0.0  987.80"
      ]
     },
     "execution_count": 27,
     "metadata": {},
     "output_type": "execute_result"
    }
   ],
   "source": [
    "new_lum.tail()"
   ]
  },
  {
   "cell_type": "markdown",
   "metadata": {},
   "source": [
    "I have got new luminosity table.\n",
    "\n",
    "Now I should joint it to existing table"
   ]
  },
  {
   "cell_type": "code",
   "execution_count": 28,
   "metadata": {},
   "outputs": [],
   "source": [
    "data.drop(['lume', 'lum', 'be'], axis=1, inplace=True)\n",
    "data = data.join(new_lum, how='inner')"
   ]
  },
  {
   "cell_type": "markdown",
   "metadata": {},
   "source": [
    "That is good. Now I should do the analysis"
   ]
  },
  {
   "cell_type": "code",
   "execution_count": 29,
   "metadata": {},
   "outputs": [
    {
     "data": {
      "text/html": [
       "<div>\n",
       "<style scoped>\n",
       "    .dataframe tbody tr th:only-of-type {\n",
       "        vertical-align: middle;\n",
       "    }\n",
       "\n",
       "    .dataframe tbody tr th {\n",
       "        vertical-align: top;\n",
       "    }\n",
       "\n",
       "    .dataframe thead th {\n",
       "        text-align: right;\n",
       "    }\n",
       "</style>\n",
       "<table border=\"1\" class=\"dataframe\">\n",
       "  <thead>\n",
       "    <tr style=\"text-align: right;\">\n",
       "      <th></th>\n",
       "      <th>m</th>\n",
       "      <th>t</th>\n",
       "      <th>lum</th>\n",
       "      <th>dEmin</th>\n",
       "      <th>dEmax</th>\n",
       "      <th>Emean</th>\n",
       "    </tr>\n",
       "    <tr>\n",
       "      <th>label</th>\n",
       "      <th></th>\n",
       "      <th></th>\n",
       "      <th></th>\n",
       "      <th></th>\n",
       "      <th></th>\n",
       "      <th></th>\n",
       "    </tr>\n",
       "  </thead>\n",
       "  <tbody>\n",
       "    <tr>\n",
       "      <th>987.5</th>\n",
       "      <td>519.291504</td>\n",
       "      <td>2</td>\n",
       "      <td>2252.5</td>\n",
       "      <td>0.0</td>\n",
       "      <td>0.0</td>\n",
       "      <td>987.8</td>\n",
       "    </tr>\n",
       "    <tr>\n",
       "      <th>987.5</th>\n",
       "      <td>513.790405</td>\n",
       "      <td>2</td>\n",
       "      <td>2252.5</td>\n",
       "      <td>0.0</td>\n",
       "      <td>0.0</td>\n",
       "      <td>987.8</td>\n",
       "    </tr>\n",
       "    <tr>\n",
       "      <th>987.5</th>\n",
       "      <td>514.808411</td>\n",
       "      <td>2</td>\n",
       "      <td>2252.5</td>\n",
       "      <td>0.0</td>\n",
       "      <td>0.0</td>\n",
       "      <td>987.8</td>\n",
       "    </tr>\n",
       "    <tr>\n",
       "      <th>987.5</th>\n",
       "      <td>491.808868</td>\n",
       "      <td>2</td>\n",
       "      <td>2252.5</td>\n",
       "      <td>0.0</td>\n",
       "      <td>0.0</td>\n",
       "      <td>987.8</td>\n",
       "    </tr>\n",
       "    <tr>\n",
       "      <th>987.5</th>\n",
       "      <td>485.778198</td>\n",
       "      <td>2</td>\n",
       "      <td>2252.5</td>\n",
       "      <td>0.0</td>\n",
       "      <td>0.0</td>\n",
       "      <td>987.8</td>\n",
       "    </tr>\n",
       "  </tbody>\n",
       "</table>\n",
       "</div>"
      ],
      "text/plain": [
       "                m  t     lum  dEmin  dEmax  Emean\n",
       "label                                            \n",
       "987.5  519.291504  2  2252.5    0.0    0.0  987.8\n",
       "987.5  513.790405  2  2252.5    0.0    0.0  987.8\n",
       "987.5  514.808411  2  2252.5    0.0    0.0  987.8\n",
       "987.5  491.808868  2  2252.5    0.0    0.0  987.8\n",
       "987.5  485.778198  2  2252.5    0.0    0.0  987.8"
      ]
     },
     "execution_count": 29,
     "metadata": {},
     "output_type": "execute_result"
    }
   ],
   "source": [
    "data.tail()"
   ]
  },
  {
   "cell_type": "markdown",
   "metadata": {},
   "source": [
    "----------------\n",
    "## Fit"
   ]
  },
  {
   "cell_type": "code",
   "execution_count": 30,
   "metadata": {},
   "outputs": [],
   "source": [
    "data2 = data.groupby('label')"
   ]
  },
  {
   "cell_type": "code",
   "execution_count": 31,
   "metadata": {},
   "outputs": [
    {
     "name": "stdout",
     "output_type": "stream",
     "text": [
      "537.5\n",
      "550.0\n",
      "562.5\n",
      "575.0\n",
      "587.5\n",
      "600.0\n",
      "612.5\n",
      "625.0\n",
      "637.5\n",
      "641.0\n",
      "650.0\n",
      "675.0\n",
      "687.5\n",
      "700.0\n",
      "712.5\n",
      "725.0\n",
      "737.5\n",
      "750.0\n",
      "762.0\n",
      "775.0\n",
      "787.5\n",
      "800.0\n",
      "812.5\n",
      "825.0\n",
      "837.5\n",
      "850.0\n",
      "862.5\n",
      "887.5\n",
      "900.0\n",
      "912.5\n",
      "925.0\n",
      "936.0\n",
      "945.0\n",
      "950.0\n",
      "955.0\n",
      "962.5\n",
      "975.0\n",
      "987.5\n"
     ]
    }
   ],
   "source": [
    "dic = {}\n",
    "for i in data2.groups:\n",
    "    print(i)\n",
    "    dic[i] = np.array( data2.get_group(i)['m'] )"
   ]
  },
  {
   "cell_type": "code",
   "execution_count": 32,
   "metadata": {},
   "outputs": [],
   "source": [
    "import iminuit\n",
    "import probfit as pf"
   ]
  },
  {
   "cell_type": "code",
   "execution_count": 33,
   "metadata": {},
   "outputs": [],
   "source": [
    "mass_bound = (450, 550)"
   ]
  },
  {
   "cell_type": "code",
   "execution_count": 34,
   "metadata": {},
   "outputs": [
    {
     "data": {
      "text/plain": [
       "['x', 'm', '$\\\\sigma$', '$N_{sig}$', '$N_{bkg}$']"
      ]
     },
     "execution_count": 34,
     "metadata": {},
     "output_type": "execute_result"
    }
   ],
   "source": [
    "def constant(x):\n",
    "    return 1\n",
    "norm_bkg = pf.Normalized( constant, mass_bound )\n",
    "norm_bkg = pf.Extended(norm_bkg, extname='$N_{bkg}$')\n",
    "\n",
    "gauss1 = pf.Extended(pf.rename(pf.gaussian, ['x', 'm', '$\\sigma$']), extname='$N_{sig}$')\n",
    "\n",
    "pdf = pf.AddPdf(gauss1, norm_bkg)\n",
    "pf.describe(pdf)"
   ]
  },
  {
   "cell_type": "code",
   "execution_count": 35,
   "metadata": {},
   "outputs": [],
   "source": [
    "plt.rcParams.update({'font.size': 20, 'figure.figsize':(11.7,8.27)})"
   ]
  },
  {
   "cell_type": "code",
   "execution_count": 74,
   "metadata": {},
   "outputs": [],
   "source": [
    "def fitter(dic, nbins):\n",
    "    #likelihood = pf.BinnedLH(pdf, dic, nbins, bound=mass_bound, extended=True)\n",
    "    likelihood = pf.UnbinnedLH(pdf, dic, extended=True, extended_bound=mass_bound)\n",
    "    initial_par_values = {\"m\":497.6, \"$\\sigma$\":8.6, \"$N_{sig}$\":np.size(dic), \"$N_{bkg}$\":1}\n",
    "    errors = {\"error_m\": 1, \"error_$\\sigma$\": 0.1, \"error_$N_{sig}$\": 0.3, \"error_$N_{bkg}$\":0}\n",
    "    limits = {\"limit_m\": [485, 500], \"limit_$\\sigma$\": [2, 15], \"limit_$N_{sig}$\": [1, 10000], \"limit_$N_{bkg}$\": [0, 1000]}\n",
    "    mt = iminuit.Minuit(likelihood, **initial_par_values, **errors, **limits, pedantic=False)\n",
    "    mt.migrad();\n",
    "    likelihood.draw(minuit=mt)\n",
    "    plt.tick_params(labelsize=20);\n",
    "    plt.xlabel('Energy, MeV', fontsize=20)\n",
    "    plt.ylabel('number of events', fontsize=20)\n",
    "    #plt.savefig('tutu.svg')\n",
    "    return mt, likelihood"
   ]
  },
  {
   "cell_type": "markdown",
   "metadata": {},
   "source": [
    "Create table for the final result"
   ]
  },
  {
   "cell_type": "code",
   "execution_count": 37,
   "metadata": {},
   "outputs": [],
   "source": [
    "N_dic = dict()\n",
    "itr = iter(dic)"
   ]
  },
  {
   "cell_type": "markdown",
   "metadata": {},
   "source": [
    "Go, go, go"
   ]
  },
  {
   "cell_type": "code",
   "execution_count": 121,
   "metadata": {
    "scrolled": true
   },
   "outputs": [
    {
     "ename": "StopIteration",
     "evalue": "",
     "output_type": "error",
     "traceback": [
      "\u001b[0;31m---------------------------------------------------------------------------\u001b[0m",
      "\u001b[0;31mStopIteration\u001b[0m                             Traceback (most recent call last)",
      "\u001b[0;32m<ipython-input-121-10210f828c97>\u001b[0m in \u001b[0;36m<module>\u001b[0;34m()\u001b[0m\n\u001b[0;32m----> 1\u001b[0;31m \u001b[0mi\u001b[0m \u001b[0;34m=\u001b[0m \u001b[0mnext\u001b[0m\u001b[0;34m(\u001b[0m\u001b[0mitr\u001b[0m\u001b[0;34m)\u001b[0m\u001b[0;34m\u001b[0m\u001b[0;34m\u001b[0m\u001b[0m\n\u001b[0m\u001b[1;32m      2\u001b[0m \u001b[0mprint\u001b[0m\u001b[0;34m(\u001b[0m\u001b[0;34m'Label:'\u001b[0m\u001b[0;34m,\u001b[0m \u001b[0mi\u001b[0m\u001b[0;34m)\u001b[0m\u001b[0;34m\u001b[0m\u001b[0;34m\u001b[0m\u001b[0m\n",
      "\u001b[0;31mStopIteration\u001b[0m: "
     ]
    }
   ],
   "source": [
    "i = next(itr)\n",
    "print('Label:', i)"
   ]
  },
  {
   "cell_type": "code",
   "execution_count": 122,
   "metadata": {},
   "outputs": [
    {
     "name": "stdout",
     "output_type": "stream",
     "text": [
      "Migrad quality: True\n",
      "Real: 55 Found: 55.00300226933224\n"
     ]
    },
    {
     "data": {
      "image/png": "[encoded data removed]",
      "text/plain": [
       "<Figure size 842.4x595.44 with 1 Axes>"
      ]
     },
     "metadata": {},
     "output_type": "display_data"
    }
   ],
   "source": [
    "mass_bound = (450, 550)\n",
    "mt, lik = fitter(dic[i], 50)\n",
    "N_dic[i] = [mt.values[2], mt.errors[2]]\n",
    "print(\"Migrad quality:\", mt.migrad_ok())\n",
    "print( 'Real:', np.size(dic[i]), 'Found:', mt.values[2] + mt.values[3] )"
   ]
  },
  {
   "cell_type": "code",
   "execution_count": 123,
   "metadata": {},
   "outputs": [
    {
     "data": {
      "text/plain": [
       "{537.5: [1920.3062783086239, 44.633992088984314],\n",
       " 550.0: [1302.315358691731, 37.04162418274848],\n",
       " 562.5: [642.59974784345, 25.964962988363766],\n",
       " 575.0: [493.28186053462514, 22.69334475482438],\n",
       " 587.5: [355.93814355533567, 19.516236751598058],\n",
       " 600.0: [257.0942272136386, 16.765028595238675],\n",
       " 612.5: [244.76587234200522, 16.208559293654517],\n",
       " 625.0: [183.02028429213073, 14.14717312845427],\n",
       " 637.5: [120.63319884298892, 11.479787053776079],\n",
       " 641.0: [787.5965492078741, 29.57942170391226],\n",
       " 650.0: [92.61437827064377, 9.97646129563109],\n",
       " 675.0: [91.68883241692785, 9.758074890329745],\n",
       " 687.5: [73.7435612873307, 9.12291288700969],\n",
       " 700.0: [47.39480450869428, 7.273775140600847],\n",
       " 712.5: [73.00529015382877, 8.545386992131561],\n",
       " 725.0: [67.20310200167536, 8.541499460950373],\n",
       " 737.5: [59.97321526574014, 7.876372950291664],\n",
       " 750.0: [115.41956463254883, 11.101547757134178],\n",
       " 762.0: [164.45408636951709, 13.68482184858793],\n",
       " 775.0: [118.22612266772467, 11.960233349703621],\n",
       " 787.5: [223.7745995195412, 15.31975802512288],\n",
       " 800.0: [272.33539760686665, 18.76206156405196],\n",
       " 812.5: [383.2314023996237, 20.919459897097113],\n",
       " 825.0: [267.9612460383195, 17.819150499459383],\n",
       " 837.5: [159.10439689160708, 13.176735733369668],\n",
       " 850.0: [68.87538403341502, 10.141766757787579],\n",
       " 862.5: [28.270576530169986, 6.910820676485537],\n",
       " 887.5: [15.080056554616068, 5.321986569208806],\n",
       " 900.0: [9.37669953429024, 3.378971633713008],\n",
       " 912.5: [7.731736882957238, 4.795224167992572],\n",
       " 925.0: [13.711161457181259, 4.103136875380744],\n",
       " 936.0: [22.003967922124676, 5.558321857956477],\n",
       " 945.0: [31.52983170617397, 7.683437784693426],\n",
       " 950.0: [19.375184087533817, 6.217821264874038],\n",
       " 955.0: [19.119716213924054, 7.748108414003742],\n",
       " 962.5: [32.75001805164926, 7.339173321250554],\n",
       " 975.0: [4.2055817054081, 3.086175334147652],\n",
       " 987.5: [39.419812162650224, 7.849891615553712]}"
      ]
     },
     "execution_count": 123,
     "metadata": {},
     "output_type": "execute_result"
    }
   ],
   "source": [
    "N_dic"
   ]
  },
  {
   "cell_type": "markdown",
   "metadata": {},
   "source": [
    "### Some notes:\n",
    "\n",
    "11 { (600, 687.5, 725, 812.5) - only gauss,    (700, 737.5 : 20 bins; 880, 950 : 15 bins) }\n",
    "\n",
    "12 { ( 910 :15 bins)}\n",
    "\n",
    "17 { (725, 825, 880) - only gauss, (900 : 11 bins, 960 : 8 bins), 990 - govno }"
   ]
  },
  {
   "cell_type": "code",
   "execution_count": 124,
   "metadata": {},
   "outputs": [],
   "source": [
    "#mt.matrix(correlation=True)\n",
    "#mt.draw_profile('Nsig');"
   ]
  },
  {
   "cell_type": "code",
   "execution_count": 125,
   "metadata": {},
   "outputs": [],
   "source": [
    "dataN = pd.DataFrame(N_dic)\n",
    "dataN = dataN.T\n",
    "dataN.columns = ['Nsig', 'dNsig']"
   ]
  },
  {
   "cell_type": "code",
   "execution_count": 126,
   "metadata": {},
   "outputs": [
    {
     "data": {
      "text/html": [
       "<div>\n",
       "<style scoped>\n",
       "    .dataframe tbody tr th:only-of-type {\n",
       "        vertical-align: middle;\n",
       "    }\n",
       "\n",
       "    .dataframe tbody tr th {\n",
       "        vertical-align: top;\n",
       "    }\n",
       "\n",
       "    .dataframe thead th {\n",
       "        text-align: right;\n",
       "    }\n",
       "</style>\n",
       "<table border=\"1\" class=\"dataframe\">\n",
       "  <thead>\n",
       "    <tr style=\"text-align: right;\">\n",
       "      <th></th>\n",
       "      <th>Nsig</th>\n",
       "      <th>dNsig</th>\n",
       "    </tr>\n",
       "  </thead>\n",
       "  <tbody>\n",
       "    <tr>\n",
       "      <th>537.5</th>\n",
       "      <td>1920.306278</td>\n",
       "      <td>44.633992</td>\n",
       "    </tr>\n",
       "    <tr>\n",
       "      <th>550.0</th>\n",
       "      <td>1302.315359</td>\n",
       "      <td>37.041624</td>\n",
       "    </tr>\n",
       "    <tr>\n",
       "      <th>562.5</th>\n",
       "      <td>642.599748</td>\n",
       "      <td>25.964963</td>\n",
       "    </tr>\n",
       "    <tr>\n",
       "      <th>575.0</th>\n",
       "      <td>493.281861</td>\n",
       "      <td>22.693345</td>\n",
       "    </tr>\n",
       "    <tr>\n",
       "      <th>587.5</th>\n",
       "      <td>355.938144</td>\n",
       "      <td>19.516237</td>\n",
       "    </tr>\n",
       "  </tbody>\n",
       "</table>\n",
       "</div>"
      ],
      "text/plain": [
       "              Nsig      dNsig\n",
       "537.5  1920.306278  44.633992\n",
       "550.0  1302.315359  37.041624\n",
       "562.5   642.599748  25.964963\n",
       "575.0   493.281861  22.693345\n",
       "587.5   355.938144  19.516237"
      ]
     },
     "execution_count": 126,
     "metadata": {},
     "output_type": "execute_result"
    }
   ],
   "source": [
    "dataN.head()"
   ]
  },
  {
   "cell_type": "markdown",
   "metadata": {},
   "source": [
    "I have got table with events numbers\n",
    "\n",
    "Now, I will get rid of m-field in the data table (because, I have used it)"
   ]
  },
  {
   "cell_type": "code",
   "execution_count": 127,
   "metadata": {},
   "outputs": [],
   "source": [
    "data_info = data.drop_duplicates(['lum']).drop(['m', 't'], axis=1)"
   ]
  },
  {
   "cell_type": "code",
   "execution_count": 128,
   "metadata": {},
   "outputs": [
    {
     "data": {
      "text/html": [
       "<div>\n",
       "<style scoped>\n",
       "    .dataframe tbody tr th:only-of-type {\n",
       "        vertical-align: middle;\n",
       "    }\n",
       "\n",
       "    .dataframe tbody tr th {\n",
       "        vertical-align: top;\n",
       "    }\n",
       "\n",
       "    .dataframe thead th {\n",
       "        text-align: right;\n",
       "    }\n",
       "</style>\n",
       "<table border=\"1\" class=\"dataframe\">\n",
       "  <thead>\n",
       "    <tr style=\"text-align: right;\">\n",
       "      <th></th>\n",
       "      <th>Nsig</th>\n",
       "      <th>dNsig</th>\n",
       "      <th>lum</th>\n",
       "      <th>dEmin</th>\n",
       "      <th>dEmax</th>\n",
       "      <th>Emean</th>\n",
       "    </tr>\n",
       "  </thead>\n",
       "  <tbody>\n",
       "    <tr>\n",
       "      <th>537.5</th>\n",
       "      <td>1920.306278</td>\n",
       "      <td>44.633992</td>\n",
       "      <td>1221.9</td>\n",
       "      <td>0.00</td>\n",
       "      <td>0.00</td>\n",
       "      <td>537.45</td>\n",
       "    </tr>\n",
       "    <tr>\n",
       "      <th>550.0</th>\n",
       "      <td>1302.315359</td>\n",
       "      <td>37.041624</td>\n",
       "      <td>1427.2</td>\n",
       "      <td>0.00</td>\n",
       "      <td>0.00</td>\n",
       "      <td>549.34</td>\n",
       "    </tr>\n",
       "    <tr>\n",
       "      <th>562.5</th>\n",
       "      <td>642.599748</td>\n",
       "      <td>25.964963</td>\n",
       "      <td>1049.2</td>\n",
       "      <td>0.00</td>\n",
       "      <td>0.00</td>\n",
       "      <td>562.50</td>\n",
       "    </tr>\n",
       "    <tr>\n",
       "      <th>575.0</th>\n",
       "      <td>493.281861</td>\n",
       "      <td>22.693345</td>\n",
       "      <td>1058.9</td>\n",
       "      <td>0.00</td>\n",
       "      <td>0.00</td>\n",
       "      <td>574.86</td>\n",
       "    </tr>\n",
       "    <tr>\n",
       "      <th>587.5</th>\n",
       "      <td>355.938144</td>\n",
       "      <td>19.516237</td>\n",
       "      <td>1169.9</td>\n",
       "      <td>0.00</td>\n",
       "      <td>0.00</td>\n",
       "      <td>587.73</td>\n",
       "    </tr>\n",
       "    <tr>\n",
       "      <th>600.0</th>\n",
       "      <td>257.094227</td>\n",
       "      <td>16.765029</td>\n",
       "      <td>1165.5</td>\n",
       "      <td>0.00</td>\n",
       "      <td>0.00</td>\n",
       "      <td>599.89</td>\n",
       "    </tr>\n",
       "    <tr>\n",
       "      <th>612.5</th>\n",
       "      <td>244.765872</td>\n",
       "      <td>16.208559</td>\n",
       "      <td>1062.5</td>\n",
       "      <td>0.00</td>\n",
       "      <td>0.00</td>\n",
       "      <td>612.61</td>\n",
       "    </tr>\n",
       "    <tr>\n",
       "      <th>625.0</th>\n",
       "      <td>183.020284</td>\n",
       "      <td>14.147173</td>\n",
       "      <td>1093.3</td>\n",
       "      <td>0.00</td>\n",
       "      <td>0.00</td>\n",
       "      <td>624.61</td>\n",
       "    </tr>\n",
       "    <tr>\n",
       "      <th>637.5</th>\n",
       "      <td>120.633199</td>\n",
       "      <td>11.479787</td>\n",
       "      <td>1021.9</td>\n",
       "      <td>0.00</td>\n",
       "      <td>0.00</td>\n",
       "      <td>637.05</td>\n",
       "    </tr>\n",
       "    <tr>\n",
       "      <th>641.0</th>\n",
       "      <td>787.596549</td>\n",
       "      <td>29.579422</td>\n",
       "      <td>12630.6</td>\n",
       "      <td>14.16</td>\n",
       "      <td>14.15</td>\n",
       "      <td>626.77</td>\n",
       "    </tr>\n",
       "    <tr>\n",
       "      <th>650.0</th>\n",
       "      <td>92.614378</td>\n",
       "      <td>9.976461</td>\n",
       "      <td>953.9</td>\n",
       "      <td>0.00</td>\n",
       "      <td>0.00</td>\n",
       "      <td>649.96</td>\n",
       "    </tr>\n",
       "    <tr>\n",
       "      <th>675.0</th>\n",
       "      <td>91.688832</td>\n",
       "      <td>9.758075</td>\n",
       "      <td>1136.3</td>\n",
       "      <td>0.00</td>\n",
       "      <td>0.00</td>\n",
       "      <td>674.79</td>\n",
       "    </tr>\n",
       "    <tr>\n",
       "      <th>687.5</th>\n",
       "      <td>73.743561</td>\n",
       "      <td>9.122913</td>\n",
       "      <td>1152.5</td>\n",
       "      <td>0.00</td>\n",
       "      <td>0.00</td>\n",
       "      <td>687.11</td>\n",
       "    </tr>\n",
       "    <tr>\n",
       "      <th>700.0</th>\n",
       "      <td>47.394805</td>\n",
       "      <td>7.273775</td>\n",
       "      <td>1002.3</td>\n",
       "      <td>0.00</td>\n",
       "      <td>0.00</td>\n",
       "      <td>699.86</td>\n",
       "    </tr>\n",
       "    <tr>\n",
       "      <th>712.5</th>\n",
       "      <td>73.005290</td>\n",
       "      <td>8.545387</td>\n",
       "      <td>1002.9</td>\n",
       "      <td>0.00</td>\n",
       "      <td>0.00</td>\n",
       "      <td>712.59</td>\n",
       "    </tr>\n",
       "    <tr>\n",
       "      <th>725.0</th>\n",
       "      <td>67.203102</td>\n",
       "      <td>8.541499</td>\n",
       "      <td>1324.8</td>\n",
       "      <td>0.00</td>\n",
       "      <td>0.00</td>\n",
       "      <td>725.50</td>\n",
       "    </tr>\n",
       "    <tr>\n",
       "      <th>737.5</th>\n",
       "      <td>59.973215</td>\n",
       "      <td>7.876373</td>\n",
       "      <td>951.4</td>\n",
       "      <td>0.00</td>\n",
       "      <td>0.00</td>\n",
       "      <td>737.36</td>\n",
       "    </tr>\n",
       "    <tr>\n",
       "      <th>750.0</th>\n",
       "      <td>115.419565</td>\n",
       "      <td>11.101548</td>\n",
       "      <td>1038.8</td>\n",
       "      <td>0.00</td>\n",
       "      <td>0.00</td>\n",
       "      <td>750.02</td>\n",
       "    </tr>\n",
       "    <tr>\n",
       "      <th>762.0</th>\n",
       "      <td>164.454086</td>\n",
       "      <td>13.684822</td>\n",
       "      <td>1350.3</td>\n",
       "      <td>0.00</td>\n",
       "      <td>0.00</td>\n",
       "      <td>762.80</td>\n",
       "    </tr>\n",
       "    <tr>\n",
       "      <th>775.0</th>\n",
       "      <td>118.226123</td>\n",
       "      <td>11.960233</td>\n",
       "      <td>977.4</td>\n",
       "      <td>0.00</td>\n",
       "      <td>0.00</td>\n",
       "      <td>774.99</td>\n",
       "    </tr>\n",
       "    <tr>\n",
       "      <th>787.5</th>\n",
       "      <td>223.774600</td>\n",
       "      <td>15.319758</td>\n",
       "      <td>1249.1</td>\n",
       "      <td>0.00</td>\n",
       "      <td>0.00</td>\n",
       "      <td>787.42</td>\n",
       "    </tr>\n",
       "    <tr>\n",
       "      <th>800.0</th>\n",
       "      <td>272.335398</td>\n",
       "      <td>18.762062</td>\n",
       "      <td>1417.7</td>\n",
       "      <td>0.00</td>\n",
       "      <td>0.00</td>\n",
       "      <td>799.85</td>\n",
       "    </tr>\n",
       "    <tr>\n",
       "      <th>812.5</th>\n",
       "      <td>383.231402</td>\n",
       "      <td>20.919460</td>\n",
       "      <td>1873.4</td>\n",
       "      <td>0.00</td>\n",
       "      <td>0.00</td>\n",
       "      <td>812.62</td>\n",
       "    </tr>\n",
       "    <tr>\n",
       "      <th>825.0</th>\n",
       "      <td>267.961246</td>\n",
       "      <td>17.819150</td>\n",
       "      <td>1500.2</td>\n",
       "      <td>0.00</td>\n",
       "      <td>0.00</td>\n",
       "      <td>824.41</td>\n",
       "    </tr>\n",
       "    <tr>\n",
       "      <th>837.5</th>\n",
       "      <td>159.104397</td>\n",
       "      <td>13.176736</td>\n",
       "      <td>2125.4</td>\n",
       "      <td>6.56</td>\n",
       "      <td>6.56</td>\n",
       "      <td>830.97</td>\n",
       "    </tr>\n",
       "    <tr>\n",
       "      <th>850.0</th>\n",
       "      <td>68.875384</td>\n",
       "      <td>10.141767</td>\n",
       "      <td>1000.7</td>\n",
       "      <td>0.00</td>\n",
       "      <td>0.00</td>\n",
       "      <td>850.21</td>\n",
       "    </tr>\n",
       "    <tr>\n",
       "      <th>862.5</th>\n",
       "      <td>28.270577</td>\n",
       "      <td>6.910821</td>\n",
       "      <td>1031.4</td>\n",
       "      <td>0.00</td>\n",
       "      <td>0.00</td>\n",
       "      <td>861.52</td>\n",
       "    </tr>\n",
       "    <tr>\n",
       "      <th>887.5</th>\n",
       "      <td>15.080057</td>\n",
       "      <td>5.321987</td>\n",
       "      <td>977.3</td>\n",
       "      <td>0.00</td>\n",
       "      <td>0.00</td>\n",
       "      <td>887.52</td>\n",
       "    </tr>\n",
       "    <tr>\n",
       "      <th>900.0</th>\n",
       "      <td>9.376700</td>\n",
       "      <td>3.378972</td>\n",
       "      <td>1049.1</td>\n",
       "      <td>0.00</td>\n",
       "      <td>0.00</td>\n",
       "      <td>900.51</td>\n",
       "    </tr>\n",
       "    <tr>\n",
       "      <th>912.5</th>\n",
       "      <td>7.731737</td>\n",
       "      <td>4.795224</td>\n",
       "      <td>1011.8</td>\n",
       "      <td>0.00</td>\n",
       "      <td>0.00</td>\n",
       "      <td>913.38</td>\n",
       "    </tr>\n",
       "    <tr>\n",
       "      <th>925.0</th>\n",
       "      <td>13.711161</td>\n",
       "      <td>4.103137</td>\n",
       "      <td>1048.7</td>\n",
       "      <td>0.00</td>\n",
       "      <td>0.00</td>\n",
       "      <td>925.59</td>\n",
       "    </tr>\n",
       "    <tr>\n",
       "      <th>936.0</th>\n",
       "      <td>22.003968</td>\n",
       "      <td>5.558322</td>\n",
       "      <td>1875.2</td>\n",
       "      <td>0.00</td>\n",
       "      <td>0.00</td>\n",
       "      <td>936.24</td>\n",
       "    </tr>\n",
       "    <tr>\n",
       "      <th>945.0</th>\n",
       "      <td>31.529832</td>\n",
       "      <td>7.683438</td>\n",
       "      <td>2295.1</td>\n",
       "      <td>0.00</td>\n",
       "      <td>0.00</td>\n",
       "      <td>944.83</td>\n",
       "    </tr>\n",
       "    <tr>\n",
       "      <th>950.0</th>\n",
       "      <td>19.375184</td>\n",
       "      <td>6.217821</td>\n",
       "      <td>1937.9</td>\n",
       "      <td>0.00</td>\n",
       "      <td>0.00</td>\n",
       "      <td>950.15</td>\n",
       "    </tr>\n",
       "    <tr>\n",
       "      <th>955.0</th>\n",
       "      <td>19.119716</td>\n",
       "      <td>7.748108</td>\n",
       "      <td>1719.2</td>\n",
       "      <td>0.00</td>\n",
       "      <td>0.00</td>\n",
       "      <td>956.05</td>\n",
       "    </tr>\n",
       "    <tr>\n",
       "      <th>962.5</th>\n",
       "      <td>32.750018</td>\n",
       "      <td>7.339173</td>\n",
       "      <td>2062.9</td>\n",
       "      <td>0.00</td>\n",
       "      <td>0.00</td>\n",
       "      <td>962.82</td>\n",
       "    </tr>\n",
       "    <tr>\n",
       "      <th>975.0</th>\n",
       "      <td>4.205582</td>\n",
       "      <td>3.086175</td>\n",
       "      <td>3955.9</td>\n",
       "      <td>0.00</td>\n",
       "      <td>0.00</td>\n",
       "      <td>976.21</td>\n",
       "    </tr>\n",
       "    <tr>\n",
       "      <th>987.5</th>\n",
       "      <td>39.419812</td>\n",
       "      <td>7.849892</td>\n",
       "      <td>2252.5</td>\n",
       "      <td>0.00</td>\n",
       "      <td>0.00</td>\n",
       "      <td>987.80</td>\n",
       "    </tr>\n",
       "  </tbody>\n",
       "</table>\n",
       "</div>"
      ],
      "text/plain": [
       "              Nsig      dNsig      lum  dEmin  dEmax   Emean\n",
       "537.5  1920.306278  44.633992   1221.9   0.00   0.00  537.45\n",
       "550.0  1302.315359  37.041624   1427.2   0.00   0.00  549.34\n",
       "562.5   642.599748  25.964963   1049.2   0.00   0.00  562.50\n",
       "575.0   493.281861  22.693345   1058.9   0.00   0.00  574.86\n",
       "587.5   355.938144  19.516237   1169.9   0.00   0.00  587.73\n",
       "600.0   257.094227  16.765029   1165.5   0.00   0.00  599.89\n",
       "612.5   244.765872  16.208559   1062.5   0.00   0.00  612.61\n",
       "625.0   183.020284  14.147173   1093.3   0.00   0.00  624.61\n",
       "637.5   120.633199  11.479787   1021.9   0.00   0.00  637.05\n",
       "641.0   787.596549  29.579422  12630.6  14.16  14.15  626.77\n",
       "650.0    92.614378   9.976461    953.9   0.00   0.00  649.96\n",
       "675.0    91.688832   9.758075   1136.3   0.00   0.00  674.79\n",
       "687.5    73.743561   9.122913   1152.5   0.00   0.00  687.11\n",
       "700.0    47.394805   7.273775   1002.3   0.00   0.00  699.86\n",
       "712.5    73.005290   8.545387   1002.9   0.00   0.00  712.59\n",
       "725.0    67.203102   8.541499   1324.8   0.00   0.00  725.50\n",
       "737.5    59.973215   7.876373    951.4   0.00   0.00  737.36\n",
       "750.0   115.419565  11.101548   1038.8   0.00   0.00  750.02\n",
       "762.0   164.454086  13.684822   1350.3   0.00   0.00  762.80\n",
       "775.0   118.226123  11.960233    977.4   0.00   0.00  774.99\n",
       "787.5   223.774600  15.319758   1249.1   0.00   0.00  787.42\n",
       "800.0   272.335398  18.762062   1417.7   0.00   0.00  799.85\n",
       "812.5   383.231402  20.919460   1873.4   0.00   0.00  812.62\n",
       "825.0   267.961246  17.819150   1500.2   0.00   0.00  824.41\n",
       "837.5   159.104397  13.176736   2125.4   6.56   6.56  830.97\n",
       "850.0    68.875384  10.141767   1000.7   0.00   0.00  850.21\n",
       "862.5    28.270577   6.910821   1031.4   0.00   0.00  861.52\n",
       "887.5    15.080057   5.321987    977.3   0.00   0.00  887.52\n",
       "900.0     9.376700   3.378972   1049.1   0.00   0.00  900.51\n",
       "912.5     7.731737   4.795224   1011.8   0.00   0.00  913.38\n",
       "925.0    13.711161   4.103137   1048.7   0.00   0.00  925.59\n",
       "936.0    22.003968   5.558322   1875.2   0.00   0.00  936.24\n",
       "945.0    31.529832   7.683438   2295.1   0.00   0.00  944.83\n",
       "950.0    19.375184   6.217821   1937.9   0.00   0.00  950.15\n",
       "955.0    19.119716   7.748108   1719.2   0.00   0.00  956.05\n",
       "962.5    32.750018   7.339173   2062.9   0.00   0.00  962.82\n",
       "975.0     4.205582   3.086175   3955.9   0.00   0.00  976.21\n",
       "987.5    39.419812   7.849892   2252.5   0.00   0.00  987.80"
      ]
     },
     "execution_count": 128,
     "metadata": {},
     "output_type": "execute_result"
    }
   ],
   "source": [
    "dataN = dataN.join(data_info, how='inner')\n",
    "dataN"
   ]
  },
  {
   "cell_type": "markdown",
   "metadata": {},
   "source": [
    "OK, save it"
   ]
  },
  {
   "cell_type": "code",
   "execution_count": 129,
   "metadata": {},
   "outputs": [],
   "source": [
    "dataN.to_csv('out'+year+'.csv', float_format='%.2f')"
   ]
  },
  {
   "cell_type": "markdown",
   "metadata": {},
   "source": [
    "Ok, now about triggers"
   ]
  },
  {
   "cell_type": "code",
   "execution_count": null,
   "metadata": {
    "scrolled": true
   },
   "outputs": [],
   "source": [
    "triggers = data[['t']]\n",
    "triggers['one'] = 1;"
   ]
  },
  {
   "cell_type": "code",
   "execution_count": null,
   "metadata": {},
   "outputs": [],
   "source": [
    "triggers = pd.pivot_table(triggers, values='one', columns=['t'], index='label', aggfunc=np.sum).fillna(0)"
   ]
  },
  {
   "cell_type": "code",
   "execution_count": null,
   "metadata": {},
   "outputs": [],
   "source": [
    "triggers.columns = ['TF', 'CF', 'TC']"
   ]
  },
  {
   "cell_type": "code",
   "execution_count": null,
   "metadata": {},
   "outputs": [],
   "source": [
    "triggers.head()"
   ]
  },
  {
   "cell_type": "code",
   "execution_count": null,
   "metadata": {},
   "outputs": [],
   "source": [
    "def variance(k, n):\n",
    "    return (k+1)*(k+2)/(n+2)/(n+3) - (k+1)**2/(n+2)**2"
   ]
  },
  {
   "cell_type": "code",
   "execution_count": null,
   "metadata": {},
   "outputs": [],
   "source": [
    "triggers['eTF'] = (triggers['TC'] + 1)/(triggers['CF'] + triggers['TC'] + 2)\n",
    "triggers['eCF'] = (triggers['TC'] + 1)/(triggers['TF'] + triggers['TC'] + 2)\n",
    "triggers['TrigEff'] = 1 - (1-triggers['eTF'])*(1-triggers['eCF'])\n",
    "\n",
    "triggers['vTF'] = np.sqrt( variance(triggers['TC'], triggers['CF'] + triggers['TC']) )\n",
    "triggers['vCF'] = np.sqrt( variance(triggers['TC'], triggers['TF'] + triggers['TC']) )\n",
    "triggers['TrigErr'] = np.sqrt( np.square((1-triggers['eTF'])*triggers['vCF']) + \n",
    "                              np.square((1-triggers['eCF'])*triggers['vTF']) )"
   ]
  },
  {
   "cell_type": "markdown",
   "metadata": {},
   "source": [
    "OK, trigers have been got"
   ]
  },
  {
   "cell_type": "code",
   "execution_count": null,
   "metadata": {},
   "outputs": [],
   "source": [
    "triggers.to_csv('triggers'+year+'.csv', float_format='%.2f')"
   ]
  },
  {
   "cell_type": "code",
   "execution_count": null,
   "metadata": {},
   "outputs": [],
   "source": [
    "triggers"
   ]
  },
  {
   "cell_type": "code",
   "execution_count": null,
   "metadata": {},
   "outputs": [],
   "source": []
  }
 ],
 "metadata": {
  "kernelspec": {
   "display_name": "Python 3",
   "language": "python",
   "name": "python3"
  },
  "language_info": {
   "codemirror_mode": {
    "name": "ipython",
    "version": 3
   },
   "file_extension": ".py",
   "mimetype": "text/x-python",
   "name": "python",
   "nbconvert_exporter": "python",
   "pygments_lexer": "ipython3",
   "version": "3.6.8"
  }
 },
 "nbformat": 4,
 "nbformat_minor": 2
}
