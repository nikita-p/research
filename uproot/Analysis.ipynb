{
 "cells": [
  {
   "cell_type": "markdown",
   "metadata": {},
   "source": [
    "# Analysis"
   ]
  },
  {
   "cell_type": "code",
   "execution_count": 7,
   "metadata": {},
   "outputs": [],
   "source": [
    "import uproot\n",
    "import numpy as np\n",
    "import pandas as pd\n",
    "import matplotlib.pyplot as plt\n",
    "import seaborn as sns\n",
    "import re\n",
    "%matplotlib inline"
   ]
  },
  {
   "cell_type": "code",
   "execution_count": 8,
   "metadata": {},
   "outputs": [],
   "source": [
    "sns.set(rc={'figure.figsize':(16,9)}, font_scale=1.7)\n",
    "plt.style.use('seaborn-whitegrid')"
   ]
  },
  {
   "cell_type": "code",
   "execution_count": 10,
   "metadata": {},
   "outputs": [],
   "source": [
    "year = '11'#'model_new_v6'"
   ]
  },
  {
   "cell_type": "markdown",
   "metadata": {},
   "source": [
    "### Systematic errors?\n",
    "\n",
    "просто флаг, чтоб отдельно сохранять результат"
   ]
  },
  {
   "cell_type": "code",
   "execution_count": 11,
   "metadata": {},
   "outputs": [],
   "source": [
    "sys_err = False"
   ]
  },
  {
   "cell_type": "markdown",
   "metadata": {},
   "source": [
    "## Data preparation"
   ]
  },
  {
   "cell_type": "markdown",
   "metadata": {},
   "source": [
    "\n",
    "Пример с `open`\n",
    "```python\n",
    "f = uproot.open(\"../outputs/19/trees/550.00_70260.root\")\n",
    "f['t'].pandas.df()\n",
    "```"
   ]
  },
  {
   "cell_type": "code",
   "execution_count": 12,
   "metadata": {},
   "outputs": [],
   "source": [
    "f = uproot.pandas.iterate(\"../outputs/\"+year+\"/trees/*_*.root\", \"t\", reportpath = True,\n",
    "                          branches=['beam_energy', 'mass', 'trigger', 'procedure'])"
   ]
  },
  {
   "cell_type": "code",
   "execution_count": 13,
   "metadata": {},
   "outputs": [],
   "source": [
    "dataRAW = pd.concat([j.assign(name=float(re.findall(r\"\\d+\\.\\d+\", path)[0])) for path,j in f])"
   ]
  },
  {
   "cell_type": "code",
   "execution_count": 14,
   "metadata": {},
   "outputs": [
    {
     "data": {
      "text/plain": [
       "(4784, 5)"
      ]
     },
     "execution_count": 14,
     "metadata": {},
     "output_type": "execute_result"
    }
   ],
   "source": [
    "dataRAW.shape"
   ]
  },
  {
   "cell_type": "code",
   "execution_count": 15,
   "metadata": {},
   "outputs": [],
   "source": [
    "dataRAW.sort_values(by='name', ascending=True, inplace=True);"
   ]
  },
  {
   "cell_type": "markdown",
   "metadata": {},
   "source": [
    "Количество уникальных `name` в `data` должно совпадать с количеством точек в сезоне\n",
    "\n",
    "* 11 год: 40 точек\n",
    "* 12 год: 16 точек\n",
    "* 17 год: 34 точки\n",
    "* 19 год: 44 точки\n",
    "* моделирование: 38 точек"
   ]
  },
  {
   "cell_type": "code",
   "execution_count": 16,
   "metadata": {},
   "outputs": [
    {
     "name": "stdout",
     "output_type": "stream",
     "text": [
      "Checking: 40 different names in 11 season\n"
     ]
    }
   ],
   "source": [
    "print(\"Checking:\", len(dataRAW.name.unique()), 'different names in', year, 'season')"
   ]
  },
  {
   "cell_type": "markdown",
   "metadata": {},
   "source": [
    "Проверка типов полей датафрейма"
   ]
  },
  {
   "cell_type": "code",
   "execution_count": 17,
   "metadata": {},
   "outputs": [
    {
     "data": {
      "text/plain": [
       "beam_energy    float64\n",
       "mass           float64\n",
       "trigger          int32\n",
       "procedure        int32\n",
       "name           float64\n",
       "dtype: object"
      ]
     },
     "execution_count": 17,
     "metadata": {},
     "output_type": "execute_result"
    }
   ],
   "source": [
    "dataRAW.dtypes"
   ]
  },
  {
   "cell_type": "markdown",
   "metadata": {},
   "source": [
    "Проверка данных"
   ]
  },
  {
   "cell_type": "code",
   "execution_count": 18,
   "metadata": {},
   "outputs": [
    {
     "data": {
      "text/html": [
       "<div>\n",
       "<style scoped>\n",
       "    .dataframe tbody tr th:only-of-type {\n",
       "        vertical-align: middle;\n",
       "    }\n",
       "\n",
       "    .dataframe tbody tr th {\n",
       "        vertical-align: top;\n",
       "    }\n",
       "\n",
       "    .dataframe thead th {\n",
       "        text-align: right;\n",
       "    }\n",
       "</style>\n",
       "<table border=\"1\" class=\"dataframe\">\n",
       "  <thead>\n",
       "    <tr style=\"text-align: right;\">\n",
       "      <th></th>\n",
       "      <th>beam_energy</th>\n",
       "      <th>mass</th>\n",
       "      <th>trigger</th>\n",
       "      <th>procedure</th>\n",
       "      <th>name</th>\n",
       "    </tr>\n",
       "  </thead>\n",
       "  <tbody>\n",
       "    <tr>\n",
       "      <th>count</th>\n",
       "      <td>4784.000000</td>\n",
       "      <td>4784.000000</td>\n",
       "      <td>4784.000000</td>\n",
       "      <td>4784.000000</td>\n",
       "      <td>4784.000000</td>\n",
       "    </tr>\n",
       "    <tr>\n",
       "      <th>mean</th>\n",
       "      <td>615.750473</td>\n",
       "      <td>460.345391</td>\n",
       "      <td>0.869356</td>\n",
       "      <td>2.275293</td>\n",
       "      <td>616.839465</td>\n",
       "    </tr>\n",
       "    <tr>\n",
       "      <th>std</th>\n",
       "      <td>118.427723</td>\n",
       "      <td>129.603392</td>\n",
       "      <td>0.919434</td>\n",
       "      <td>0.554087</td>\n",
       "      <td>118.755955</td>\n",
       "    </tr>\n",
       "    <tr>\n",
       "      <th>min</th>\n",
       "      <td>523.580017</td>\n",
       "      <td>-1.000000</td>\n",
       "      <td>-1.000000</td>\n",
       "      <td>1.000000</td>\n",
       "      <td>525.000000</td>\n",
       "    </tr>\n",
       "    <tr>\n",
       "      <th>25%</th>\n",
       "      <td>537.409973</td>\n",
       "      <td>491.739861</td>\n",
       "      <td>0.000000</td>\n",
       "      <td>2.000000</td>\n",
       "      <td>537.500000</td>\n",
       "    </tr>\n",
       "    <tr>\n",
       "      <th>50%</th>\n",
       "      <td>562.133972</td>\n",
       "      <td>496.735046</td>\n",
       "      <td>1.000000</td>\n",
       "      <td>2.000000</td>\n",
       "      <td>562.500000</td>\n",
       "    </tr>\n",
       "    <tr>\n",
       "      <th>75%</th>\n",
       "      <td>661.679993</td>\n",
       "      <td>500.921059</td>\n",
       "      <td>2.000000</td>\n",
       "      <td>3.000000</td>\n",
       "      <td>662.500000</td>\n",
       "    </tr>\n",
       "    <tr>\n",
       "      <th>max</th>\n",
       "      <td>1002.309998</td>\n",
       "      <td>577.198242</td>\n",
       "      <td>2.000000</td>\n",
       "      <td>3.000000</td>\n",
       "      <td>1000.000000</td>\n",
       "    </tr>\n",
       "  </tbody>\n",
       "</table>\n",
       "</div>"
      ],
      "text/plain": [
       "       beam_energy         mass      trigger    procedure         name\n",
       "count  4784.000000  4784.000000  4784.000000  4784.000000  4784.000000\n",
       "mean    615.750473   460.345391     0.869356     2.275293   616.839465\n",
       "std     118.427723   129.603392     0.919434     0.554087   118.755955\n",
       "min     523.580017    -1.000000    -1.000000     1.000000   525.000000\n",
       "25%     537.409973   491.739861     0.000000     2.000000   537.500000\n",
       "50%     562.133972   496.735046     1.000000     2.000000   562.500000\n",
       "75%     661.679993   500.921059     2.000000     3.000000   662.500000\n",
       "max    1002.309998   577.198242     2.000000     3.000000  1000.000000"
      ]
     },
     "execution_count": 18,
     "metadata": {},
     "output_type": "execute_result"
    }
   ],
   "source": [
    "dataRAW.describe()"
   ]
  },
  {
   "cell_type": "markdown",
   "metadata": {},
   "source": [
    "Проверить триггер"
   ]
  },
  {
   "cell_type": "code",
   "execution_count": 19,
   "metadata": {},
   "outputs": [
    {
     "name": "stdout",
     "output_type": "stream",
     "text": [
      "Energy points with bad trigger:\n",
      " 525.0    17\n",
      "Name: name, dtype: int64\n"
     ]
    }
   ],
   "source": [
    "bad_trig = dataRAW.query('trigger<0')\n",
    "print('Energy points with bad trigger:\\n', bad_trig.name.value_counts())"
   ]
  },
  {
   "cell_type": "markdown",
   "metadata": {},
   "source": [
    "Проверить энергии"
   ]
  },
  {
   "cell_type": "code",
   "execution_count": 20,
   "metadata": {},
   "outputs": [
    {
     "name": "stdout",
     "output_type": "stream",
     "text": [
      "Bad energy records: 0\n"
     ]
    }
   ],
   "source": [
    "bad_en = dataRAW.query('beam_energy<0')\n",
    "print('Bad energy records:', bad_en.name.shape[0])"
   ]
  },
  {
   "cell_type": "markdown",
   "metadata": {},
   "source": [
    "Удалить события с плохим триггером и энергиями (не в моделировании)"
   ]
  },
  {
   "cell_type": "code",
   "execution_count": 21,
   "metadata": {},
   "outputs": [],
   "source": [
    "data = dataRAW if 'model' in year else dataRAW.query('trigger>-1&beam_energy>0')"
   ]
  },
  {
   "cell_type": "markdown",
   "metadata": {},
   "source": [
    "Оставить только массы внутри окна (450,550) и без процедуры kinfit"
   ]
  },
  {
   "cell_type": "code",
   "execution_count": 22,
   "metadata": {},
   "outputs": [],
   "source": [
    "data = data.query('mass>450&mass<550&procedure!=1')"
   ]
  },
  {
   "cell_type": "code",
   "execution_count": 23,
   "metadata": {},
   "outputs": [
    {
     "name": "stdout",
     "output_type": "stream",
     "text": [
      "4262 records left\n"
     ]
    }
   ],
   "source": [
    "print(data.shape[0], 'records left')"
   ]
  },
  {
   "cell_type": "markdown",
   "metadata": {},
   "source": [
    "Удалить ненужные столбцы"
   ]
  },
  {
   "cell_type": "code",
   "execution_count": 24,
   "metadata": {},
   "outputs": [],
   "source": [
    "data.drop(['procedure'], axis=1, inplace=True)"
   ]
  },
  {
   "cell_type": "code",
   "execution_count": 25,
   "metadata": {},
   "outputs": [
    {
     "data": {
      "text/html": [
       "<div>\n",
       "<style scoped>\n",
       "    .dataframe tbody tr th:only-of-type {\n",
       "        vertical-align: middle;\n",
       "    }\n",
       "\n",
       "    .dataframe tbody tr th {\n",
       "        vertical-align: top;\n",
       "    }\n",
       "\n",
       "    .dataframe thead th {\n",
       "        text-align: right;\n",
       "    }\n",
       "</style>\n",
       "<table border=\"1\" class=\"dataframe\">\n",
       "  <thead>\n",
       "    <tr style=\"text-align: right;\">\n",
       "      <th></th>\n",
       "      <th>beam_energy</th>\n",
       "      <th>mass</th>\n",
       "      <th>trigger</th>\n",
       "      <th>name</th>\n",
       "    </tr>\n",
       "  </thead>\n",
       "  <tbody>\n",
       "    <tr>\n",
       "      <th>703</th>\n",
       "      <td>523.580017</td>\n",
       "      <td>498.210663</td>\n",
       "      <td>0</td>\n",
       "      <td>525.0</td>\n",
       "    </tr>\n",
       "    <tr>\n",
       "      <th>615</th>\n",
       "      <td>523.580017</td>\n",
       "      <td>504.232819</td>\n",
       "      <td>1</td>\n",
       "      <td>525.0</td>\n",
       "    </tr>\n",
       "    <tr>\n",
       "      <th>616</th>\n",
       "      <td>523.580017</td>\n",
       "      <td>498.035065</td>\n",
       "      <td>1</td>\n",
       "      <td>525.0</td>\n",
       "    </tr>\n",
       "    <tr>\n",
       "      <th>617</th>\n",
       "      <td>523.580017</td>\n",
       "      <td>498.740845</td>\n",
       "      <td>0</td>\n",
       "      <td>525.0</td>\n",
       "    </tr>\n",
       "    <tr>\n",
       "      <th>618</th>\n",
       "      <td>523.580017</td>\n",
       "      <td>500.045807</td>\n",
       "      <td>1</td>\n",
       "      <td>525.0</td>\n",
       "    </tr>\n",
       "  </tbody>\n",
       "</table>\n",
       "</div>"
      ],
      "text/plain": [
       "     beam_energy        mass  trigger   name\n",
       "703   523.580017  498.210663        0  525.0\n",
       "615   523.580017  504.232819        1  525.0\n",
       "616   523.580017  498.035065        1  525.0\n",
       "617   523.580017  498.740845        0  525.0\n",
       "618   523.580017  500.045807        1  525.0"
      ]
     },
     "execution_count": 25,
     "metadata": {},
     "output_type": "execute_result"
    }
   ],
   "source": [
    "data.head()"
   ]
  },
  {
   "cell_type": "markdown",
   "metadata": {},
   "source": [
    "Добавить светимости"
   ]
  },
  {
   "cell_type": "code",
   "execution_count": 26,
   "metadata": {},
   "outputs": [],
   "source": [
    "lum = pd.read_csv(f'../inputs/{year}/lum.dat')\n",
    "lum.rename({'label': 'name'}, axis=1, inplace=True)\n",
    "if 'err' in lum.columns:\n",
    "    lum.drop(['err'], axis=1, inplace=True) #ошибка светимостей уходит в систематику\n",
    "    \n",
    "lum = lum.sort_values(by='name').drop_duplicates(subset=['name'])"
   ]
  },
  {
   "cell_type": "code",
   "execution_count": 27,
   "metadata": {},
   "outputs": [
    {
     "data": {
      "text/html": [
       "<div>\n",
       "<style scoped>\n",
       "    .dataframe tbody tr th:only-of-type {\n",
       "        vertical-align: middle;\n",
       "    }\n",
       "\n",
       "    .dataframe tbody tr th {\n",
       "        vertical-align: top;\n",
       "    }\n",
       "\n",
       "    .dataframe thead th {\n",
       "        text-align: right;\n",
       "    }\n",
       "</style>\n",
       "<table border=\"1\" class=\"dataframe\">\n",
       "  <thead>\n",
       "    <tr style=\"text-align: right;\">\n",
       "      <th></th>\n",
       "      <th>name</th>\n",
       "      <th>lum</th>\n",
       "    </tr>\n",
       "  </thead>\n",
       "  <tbody>\n",
       "    <tr>\n",
       "      <th>17</th>\n",
       "      <td>950.0</td>\n",
       "      <td>498.580</td>\n",
       "    </tr>\n",
       "    <tr>\n",
       "      <th>18</th>\n",
       "      <td>962.5</td>\n",
       "      <td>590.841</td>\n",
       "    </tr>\n",
       "    <tr>\n",
       "      <th>19</th>\n",
       "      <td>975.0</td>\n",
       "      <td>451.026</td>\n",
       "    </tr>\n",
       "    <tr>\n",
       "      <th>20</th>\n",
       "      <td>987.5</td>\n",
       "      <td>506.605</td>\n",
       "    </tr>\n",
       "    <tr>\n",
       "      <th>21</th>\n",
       "      <td>1000.0</td>\n",
       "      <td>478.093</td>\n",
       "    </tr>\n",
       "  </tbody>\n",
       "</table>\n",
       "</div>"
      ],
      "text/plain": [
       "      name      lum\n",
       "17   950.0  498.580\n",
       "18   962.5  590.841\n",
       "19   975.0  451.026\n",
       "20   987.5  506.605\n",
       "21  1000.0  478.093"
      ]
     },
     "execution_count": 27,
     "metadata": {},
     "output_type": "execute_result"
    }
   ],
   "source": [
    "lum.tail()"
   ]
  },
  {
   "cell_type": "markdown",
   "metadata": {},
   "source": [
    "Проверить данные (хорошо, если числа совпадают)\n",
    "\n",
    "Если не совпадают, то проверить светимости на дубликаты или проверить названия файлов, возможно их нужно вручную исправить"
   ]
  },
  {
   "cell_type": "code",
   "execution_count": 28,
   "metadata": {},
   "outputs": [
    {
     "name": "stdout",
     "output_type": "stream",
     "text": [
      "Records in  lum: 40\n",
      "Records in data: 40\n"
     ]
    }
   ],
   "source": [
    "print('Records in  lum:', lum.shape[0])\n",
    "print('Records in data:', data.name.unique().shape[0])"
   ]
  },
  {
   "cell_type": "markdown",
   "metadata": {},
   "source": [
    "Объединить данные и светимость"
   ]
  },
  {
   "cell_type": "code",
   "execution_count": 109,
   "metadata": {},
   "outputs": [],
   "source": [
    "data_prep = lum.merge(data, on='name')"
   ]
  },
  {
   "cell_type": "code",
   "execution_count": 110,
   "metadata": {},
   "outputs": [],
   "source": [
    "def check_foo(data1, data2):\n",
    "    if(data1.shape[0] == data2.shape[0]):\n",
    "        print(\"Good.\", data1.shape[0], 'rows' )\n",
    "    else:\n",
    "        print(\"WARNING. frames haven't equal shape |\", data1.shape[0], 'vs', data2.shape[0], 'records')\n",
    "    return"
   ]
  },
  {
   "cell_type": "code",
   "execution_count": 111,
   "metadata": {},
   "outputs": [
    {
     "name": "stdout",
     "output_type": "stream",
     "text": [
      "Good. 4262 rows\n"
     ]
    }
   ],
   "source": [
    "check_foo(data_prep, data)"
   ]
  },
  {
   "cell_type": "markdown",
   "metadata": {},
   "source": [
    "Смотрим, в каких именно точках не совпадают `data` и `lum`"
   ]
  },
  {
   "cell_type": "code",
   "execution_count": 88,
   "metadata": {},
   "outputs": [
    {
     "data": {
      "text/plain": [
       "set()"
      ]
     },
     "execution_count": 88,
     "metadata": {},
     "output_type": "execute_result"
    }
   ],
   "source": [
    "set1 = set(data.name.unique())\n",
    "set2 = set(lum.name.unique())\n",
    "\n",
    "(set1|set2).difference(set1&set2)"
   ]
  },
  {
   "cell_type": "markdown",
   "metadata": {},
   "source": [
    "### Pictures"
   ]
  },
  {
   "cell_type": "code",
   "execution_count": 89,
   "metadata": {},
   "outputs": [
    {
     "data": {
      "text/plain": [
       "<matplotlib.axes._subplots.AxesSubplot at 0x7ffa14574750>"
      ]
     },
     "execution_count": 89,
     "metadata": {},
     "output_type": "execute_result"
    },
    {
     "data": {
      "image/png": "[encoded data removed]",
      "text/plain": [
       "<Figure size 1152x648 with 1 Axes>"
      ]
     },
     "metadata": {},
     "output_type": "display_data"
    }
   ],
   "source": [
    "lum.plot(x='name', y='lum')"
   ]
  },
  {
   "cell_type": "code",
   "execution_count": 90,
   "metadata": {},
   "outputs": [
    {
     "data": {
      "text/plain": [
       "<matplotlib.axes._subplots.AxesSubplot at 0x7ffa145d1b50>"
      ]
     },
     "execution_count": 90,
     "metadata": {},
     "output_type": "execute_result"
    },
    {
     "data": {
      "image/png": "[encoded data removed]",
      "text/plain": [
       "<Figure size 1152x648 with 1 Axes>"
      ]
     },
     "metadata": {},
     "output_type": "display_data"
    }
   ],
   "source": [
    "data_prep.groupby('name').agg({'mass':np.size}).plot()"
   ]
  },
  {
   "cell_type": "code",
   "execution_count": 91,
   "metadata": {
    "scrolled": true
   },
   "outputs": [
    {
     "data": {
      "text/html": [
       "<div>\n",
       "<style scoped>\n",
       "    .dataframe tbody tr th:only-of-type {\n",
       "        vertical-align: middle;\n",
       "    }\n",
       "\n",
       "    .dataframe tbody tr th {\n",
       "        vertical-align: top;\n",
       "    }\n",
       "\n",
       "    .dataframe thead th {\n",
       "        text-align: right;\n",
       "    }\n",
       "</style>\n",
       "<table border=\"1\" class=\"dataframe\">\n",
       "  <thead>\n",
       "    <tr style=\"text-align: right;\">\n",
       "      <th></th>\n",
       "      <th>mass</th>\n",
       "    </tr>\n",
       "    <tr>\n",
       "      <th>name</th>\n",
       "      <th></th>\n",
       "    </tr>\n",
       "  </thead>\n",
       "  <tbody>\n",
       "    <tr>\n",
       "      <th>525.0</th>\n",
       "      <td>863.0</td>\n",
       "    </tr>\n",
       "    <tr>\n",
       "      <th>537.5</th>\n",
       "      <td>948.0</td>\n",
       "    </tr>\n",
       "    <tr>\n",
       "      <th>550.0</th>\n",
       "      <td>408.0</td>\n",
       "    </tr>\n",
       "    <tr>\n",
       "      <th>562.5</th>\n",
       "      <td>427.0</td>\n",
       "    </tr>\n",
       "    <tr>\n",
       "      <th>575.0</th>\n",
       "      <td>190.0</td>\n",
       "    </tr>\n",
       "    <tr>\n",
       "      <th>587.5</th>\n",
       "      <td>192.0</td>\n",
       "    </tr>\n",
       "    <tr>\n",
       "      <th>600.0</th>\n",
       "      <td>100.0</td>\n",
       "    </tr>\n",
       "    <tr>\n",
       "      <th>612.5</th>\n",
       "      <td>135.0</td>\n",
       "    </tr>\n",
       "    <tr>\n",
       "      <th>625.0</th>\n",
       "      <td>47.0</td>\n",
       "    </tr>\n",
       "    <tr>\n",
       "      <th>637.5</th>\n",
       "      <td>80.0</td>\n",
       "    </tr>\n",
       "    <tr>\n",
       "      <th>650.0</th>\n",
       "      <td>55.0</td>\n",
       "    </tr>\n",
       "    <tr>\n",
       "      <th>662.5</th>\n",
       "      <td>39.0</td>\n",
       "    </tr>\n",
       "    <tr>\n",
       "      <th>675.0</th>\n",
       "      <td>36.0</td>\n",
       "    </tr>\n",
       "    <tr>\n",
       "      <th>687.5</th>\n",
       "      <td>9.0</td>\n",
       "    </tr>\n",
       "    <tr>\n",
       "      <th>700.0</th>\n",
       "      <td>21.0</td>\n",
       "    </tr>\n",
       "    <tr>\n",
       "      <th>712.5</th>\n",
       "      <td>33.0</td>\n",
       "    </tr>\n",
       "    <tr>\n",
       "      <th>725.0</th>\n",
       "      <td>18.0</td>\n",
       "    </tr>\n",
       "    <tr>\n",
       "      <th>737.5</th>\n",
       "      <td>25.0</td>\n",
       "    </tr>\n",
       "    <tr>\n",
       "      <th>750.0</th>\n",
       "      <td>41.0</td>\n",
       "    </tr>\n",
       "    <tr>\n",
       "      <th>762.5</th>\n",
       "      <td>55.0</td>\n",
       "    </tr>\n",
       "    <tr>\n",
       "      <th>775.0</th>\n",
       "      <td>63.0</td>\n",
       "    </tr>\n",
       "    <tr>\n",
       "      <th>787.5</th>\n",
       "      <td>82.0</td>\n",
       "    </tr>\n",
       "    <tr>\n",
       "      <th>800.0</th>\n",
       "      <td>73.0</td>\n",
       "    </tr>\n",
       "    <tr>\n",
       "      <th>812.5</th>\n",
       "      <td>74.0</td>\n",
       "    </tr>\n",
       "    <tr>\n",
       "      <th>825.0</th>\n",
       "      <td>50.0</td>\n",
       "    </tr>\n",
       "    <tr>\n",
       "      <th>837.5</th>\n",
       "      <td>71.0</td>\n",
       "    </tr>\n",
       "    <tr>\n",
       "      <th>850.0</th>\n",
       "      <td>28.0</td>\n",
       "    </tr>\n",
       "    <tr>\n",
       "      <th>862.5</th>\n",
       "      <td>27.0</td>\n",
       "    </tr>\n",
       "    <tr>\n",
       "      <th>875.0</th>\n",
       "      <td>18.0</td>\n",
       "    </tr>\n",
       "    <tr>\n",
       "      <th>887.5</th>\n",
       "      <td>3.0</td>\n",
       "    </tr>\n",
       "    <tr>\n",
       "      <th>900.0</th>\n",
       "      <td>5.0</td>\n",
       "    </tr>\n",
       "    <tr>\n",
       "      <th>912.5</th>\n",
       "      <td>10.0</td>\n",
       "    </tr>\n",
       "    <tr>\n",
       "      <th>925.0</th>\n",
       "      <td>7.0</td>\n",
       "    </tr>\n",
       "    <tr>\n",
       "      <th>935.0</th>\n",
       "      <td>5.0</td>\n",
       "    </tr>\n",
       "    <tr>\n",
       "      <th>945.0</th>\n",
       "      <td>3.0</td>\n",
       "    </tr>\n",
       "    <tr>\n",
       "      <th>950.0</th>\n",
       "      <td>3.0</td>\n",
       "    </tr>\n",
       "    <tr>\n",
       "      <th>962.5</th>\n",
       "      <td>5.0</td>\n",
       "    </tr>\n",
       "    <tr>\n",
       "      <th>975.0</th>\n",
       "      <td>4.0</td>\n",
       "    </tr>\n",
       "    <tr>\n",
       "      <th>987.5</th>\n",
       "      <td>4.0</td>\n",
       "    </tr>\n",
       "    <tr>\n",
       "      <th>1000.0</th>\n",
       "      <td>5.0</td>\n",
       "    </tr>\n",
       "  </tbody>\n",
       "</table>\n",
       "</div>"
      ],
      "text/plain": [
       "         mass\n",
       "name         \n",
       "525.0   863.0\n",
       "537.5   948.0\n",
       "550.0   408.0\n",
       "562.5   427.0\n",
       "575.0   190.0\n",
       "587.5   192.0\n",
       "600.0   100.0\n",
       "612.5   135.0\n",
       "625.0    47.0\n",
       "637.5    80.0\n",
       "650.0    55.0\n",
       "662.5    39.0\n",
       "675.0    36.0\n",
       "687.5     9.0\n",
       "700.0    21.0\n",
       "712.5    33.0\n",
       "725.0    18.0\n",
       "737.5    25.0\n",
       "750.0    41.0\n",
       "762.5    55.0\n",
       "775.0    63.0\n",
       "787.5    82.0\n",
       "800.0    73.0\n",
       "812.5    74.0\n",
       "825.0    50.0\n",
       "837.5    71.0\n",
       "850.0    28.0\n",
       "862.5    27.0\n",
       "875.0    18.0\n",
       "887.5     3.0\n",
       "900.0     5.0\n",
       "912.5    10.0\n",
       "925.0     7.0\n",
       "935.0     5.0\n",
       "945.0     3.0\n",
       "950.0     3.0\n",
       "962.5     5.0\n",
       "975.0     4.0\n",
       "987.5     4.0\n",
       "1000.0    5.0"
      ]
     },
     "execution_count": 91,
     "metadata": {},
     "output_type": "execute_result"
    }
   ],
   "source": [
    "data_prep.groupby('name').agg({'mass':np.size})"
   ]
  },
  {
   "cell_type": "markdown",
   "metadata": {},
   "source": [
    "Слияние точек"
   ]
  },
  {
   "cell_type": "code",
   "execution_count": 112,
   "metadata": {},
   "outputs": [],
   "source": [
    "cnct = []\n",
    "if year=='11':\n",
    "    cnct = [([887.5, 900., 912.5, 925., 935.], 910), ([945., 950., 962.5, 975., 987.5, 1000.], 950)] #11year\n",
    "if year=='12':\n",
    "    cnct = [([900., 920., 936.], 920), ([950., 960., 970.,], 950), ([ 980., 990], 960)] #12 year\n",
    "if year=='17':\n",
    "    cnct = [([880., 890.], 885), ([900., 910.], 905), ([920., 930.], 925),\n",
    "           ([937.4, 937.5, 938.3, 938.9, 939.6, 940.2, 940.8], 939)] #17 year\n",
    "#     cnct = [([880., 890., 900., 910.], 900), ([920., 930., 936., 937.5], 935),\n",
    "#             ([937.4, 938.3, 938.9], 938), ([939.6, 940.2, 940.8], 940),\n",
    "#             ([942., 950., 960., 971.], 960), ([981., 990, 1003.5],990)] #17 year\n",
    "# if year=='19': #в последний раз не сливал точки\n",
    "#     cnct = [([862.5, 875.0, 887.5, 900.0, 912.5, 925], 875),([936, 945.0, 950.0, 951.1, 955.0, 962.5], 955),\n",
    "#             ([975., 978.0, 987.5], 980)] #19year"
   ]
  },
  {
   "cell_type": "code",
   "execution_count": 113,
   "metadata": {},
   "outputs": [],
   "source": [
    "for c in cnct:\n",
    "    data_prep.name.replace(c[0], c[1], inplace=True)"
   ]
  },
  {
   "cell_type": "markdown",
   "metadata": {},
   "source": [
    "OK, points have been merged"
   ]
  },
  {
   "cell_type": "code",
   "execution_count": 114,
   "metadata": {},
   "outputs": [
    {
     "data": {
      "text/html": [
       "<div>\n",
       "<style scoped>\n",
       "    .dataframe tbody tr th:only-of-type {\n",
       "        vertical-align: middle;\n",
       "    }\n",
       "\n",
       "    .dataframe tbody tr th {\n",
       "        vertical-align: top;\n",
       "    }\n",
       "\n",
       "    .dataframe thead th {\n",
       "        text-align: right;\n",
       "    }\n",
       "</style>\n",
       "<table border=\"1\" class=\"dataframe\">\n",
       "  <thead>\n",
       "    <tr style=\"text-align: right;\">\n",
       "      <th></th>\n",
       "      <th>name</th>\n",
       "      <th>lum</th>\n",
       "      <th>beam_energy</th>\n",
       "      <th>mass</th>\n",
       "      <th>trigger</th>\n",
       "    </tr>\n",
       "  </thead>\n",
       "  <tbody>\n",
       "    <tr>\n",
       "      <th>4257</th>\n",
       "      <td>950.0</td>\n",
       "      <td>478.093</td>\n",
       "      <td>1002.309998</td>\n",
       "      <td>496.517883</td>\n",
       "      <td>0</td>\n",
       "    </tr>\n",
       "    <tr>\n",
       "      <th>4258</th>\n",
       "      <td>950.0</td>\n",
       "      <td>478.093</td>\n",
       "      <td>1002.309998</td>\n",
       "      <td>481.866150</td>\n",
       "      <td>0</td>\n",
       "    </tr>\n",
       "    <tr>\n",
       "      <th>4259</th>\n",
       "      <td>950.0</td>\n",
       "      <td>478.093</td>\n",
       "      <td>1002.309998</td>\n",
       "      <td>494.471771</td>\n",
       "      <td>0</td>\n",
       "    </tr>\n",
       "    <tr>\n",
       "      <th>4260</th>\n",
       "      <td>950.0</td>\n",
       "      <td>478.093</td>\n",
       "      <td>1002.309998</td>\n",
       "      <td>498.673920</td>\n",
       "      <td>0</td>\n",
       "    </tr>\n",
       "    <tr>\n",
       "      <th>4261</th>\n",
       "      <td>950.0</td>\n",
       "      <td>478.093</td>\n",
       "      <td>1002.309998</td>\n",
       "      <td>515.591675</td>\n",
       "      <td>2</td>\n",
       "    </tr>\n",
       "  </tbody>\n",
       "</table>\n",
       "</div>"
      ],
      "text/plain": [
       "       name      lum  beam_energy        mass  trigger\n",
       "4257  950.0  478.093  1002.309998  496.517883        0\n",
       "4258  950.0  478.093  1002.309998  481.866150        0\n",
       "4259  950.0  478.093  1002.309998  494.471771        0\n",
       "4260  950.0  478.093  1002.309998  498.673920        0\n",
       "4261  950.0  478.093  1002.309998  515.591675        2"
      ]
     },
     "execution_count": 114,
     "metadata": {},
     "output_type": "execute_result"
    }
   ],
   "source": [
    "data_prep.tail()"
   ]
  },
  {
   "cell_type": "code",
   "execution_count": 115,
   "metadata": {},
   "outputs": [
    {
     "name": "stdout",
     "output_type": "stream",
     "text": [
      "Good. 4262 rows\n"
     ]
    }
   ],
   "source": [
    "check_foo(data_prep, data)"
   ]
  },
  {
   "cell_type": "markdown",
   "metadata": {},
   "source": [
    "### Пересчитать светимости в слитых точках"
   ]
  },
  {
   "cell_type": "code",
   "execution_count": 116,
   "metadata": {},
   "outputs": [],
   "source": [
    "new_lum= pd.DataFrame()\n",
    "data_for_new_lum = data_prep.drop_duplicates(subset=['name','lum']).groupby('name')\n",
    "\n",
    "new_lum['Emean'] = data_for_new_lum.apply(lambda x: np.average(x['beam_energy'], weights=x['lum']))\n",
    "new_lum['lum'] = data_for_new_lum.agg({'lum':'sum'})\n",
    "new_lum['dEmin'] = np.round( new_lum['Emean'] - data_for_new_lum.agg({'beam_energy':'min'})['beam_energy'], 2 )\n",
    "new_lum['dEmax'] = np.round( data_for_new_lum.agg({'beam_energy':'max'})['beam_energy'] - new_lum['Emean'], 2 )"
   ]
  },
  {
   "cell_type": "code",
   "execution_count": 117,
   "metadata": {},
   "outputs": [
    {
     "data": {
      "text/html": [
       "<div>\n",
       "<style scoped>\n",
       "    .dataframe tbody tr th:only-of-type {\n",
       "        vertical-align: middle;\n",
       "    }\n",
       "\n",
       "    .dataframe tbody tr th {\n",
       "        vertical-align: top;\n",
       "    }\n",
       "\n",
       "    .dataframe thead th {\n",
       "        text-align: right;\n",
       "    }\n",
       "</style>\n",
       "<table border=\"1\" class=\"dataframe\">\n",
       "  <thead>\n",
       "    <tr style=\"text-align: right;\">\n",
       "      <th></th>\n",
       "      <th>lum</th>\n",
       "    </tr>\n",
       "    <tr>\n",
       "      <th>name</th>\n",
       "      <th></th>\n",
       "    </tr>\n",
       "  </thead>\n",
       "  <tbody>\n",
       "    <tr>\n",
       "      <th>910.0</th>\n",
       "      <td>5</td>\n",
       "    </tr>\n",
       "    <tr>\n",
       "      <th>950.0</th>\n",
       "      <td>6</td>\n",
       "    </tr>\n",
       "  </tbody>\n",
       "</table>\n",
       "</div>"
      ],
      "text/plain": [
       "       lum\n",
       "name      \n",
       "910.0    5\n",
       "950.0    6"
      ]
     },
     "execution_count": 117,
     "metadata": {},
     "output_type": "execute_result"
    }
   ],
   "source": [
    "data_for_new_lum.agg({'lum':'count'}).query('lum>1')"
   ]
  },
  {
   "cell_type": "code",
   "execution_count": 118,
   "metadata": {},
   "outputs": [
    {
     "data": {
      "text/html": [
       "<div>\n",
       "<style scoped>\n",
       "    .dataframe tbody tr th:only-of-type {\n",
       "        vertical-align: middle;\n",
       "    }\n",
       "\n",
       "    .dataframe tbody tr th {\n",
       "        vertical-align: top;\n",
       "    }\n",
       "\n",
       "    .dataframe thead th {\n",
       "        text-align: right;\n",
       "    }\n",
       "</style>\n",
       "<table border=\"1\" class=\"dataframe\">\n",
       "  <thead>\n",
       "    <tr style=\"text-align: right;\">\n",
       "      <th></th>\n",
       "      <th>Emean</th>\n",
       "      <th>lum</th>\n",
       "      <th>dEmin</th>\n",
       "      <th>dEmax</th>\n",
       "    </tr>\n",
       "    <tr>\n",
       "      <th>name</th>\n",
       "      <th></th>\n",
       "      <th></th>\n",
       "      <th></th>\n",
       "      <th></th>\n",
       "    </tr>\n",
       "  </thead>\n",
       "  <tbody>\n",
       "    <tr>\n",
       "      <th>850.0</th>\n",
       "      <td>846.429993</td>\n",
       "      <td>494.236</td>\n",
       "      <td>0.00</td>\n",
       "      <td>0.00</td>\n",
       "    </tr>\n",
       "    <tr>\n",
       "      <th>862.5</th>\n",
       "      <td>861.556030</td>\n",
       "      <td>530.712</td>\n",
       "      <td>0.00</td>\n",
       "      <td>0.00</td>\n",
       "    </tr>\n",
       "    <tr>\n",
       "      <th>875.0</th>\n",
       "      <td>870.820007</td>\n",
       "      <td>542.353</td>\n",
       "      <td>0.00</td>\n",
       "      <td>0.00</td>\n",
       "    </tr>\n",
       "    <tr>\n",
       "      <th>910.0</th>\n",
       "      <td>912.277455</td>\n",
       "      <td>2630.015</td>\n",
       "      <td>25.42</td>\n",
       "      <td>23.31</td>\n",
       "    </tr>\n",
       "    <tr>\n",
       "      <th>950.0</th>\n",
       "      <td>970.748119</td>\n",
       "      <td>3052.256</td>\n",
       "      <td>24.05</td>\n",
       "      <td>31.56</td>\n",
       "    </tr>\n",
       "  </tbody>\n",
       "</table>\n",
       "</div>"
      ],
      "text/plain": [
       "            Emean       lum  dEmin  dEmax\n",
       "name                                     \n",
       "850.0  846.429993   494.236   0.00   0.00\n",
       "862.5  861.556030   530.712   0.00   0.00\n",
       "875.0  870.820007   542.353   0.00   0.00\n",
       "910.0  912.277455  2630.015  25.42  23.31\n",
       "950.0  970.748119  3052.256  24.05  31.56"
      ]
     },
     "execution_count": 118,
     "metadata": {},
     "output_type": "execute_result"
    }
   ],
   "source": [
    "new_lum.tail()"
   ]
  },
  {
   "cell_type": "markdown",
   "metadata": {},
   "source": [
    "I have got new luminosity table.\n",
    "\n",
    "Now I should join it to existing table"
   ]
  },
  {
   "cell_type": "code",
   "execution_count": 119,
   "metadata": {},
   "outputs": [],
   "source": [
    "data_prep.drop(['lum', 'beam_energy'], axis=1, inplace=True)"
   ]
  },
  {
   "cell_type": "code",
   "execution_count": 120,
   "metadata": {},
   "outputs": [
    {
     "data": {
      "text/html": [
       "<div>\n",
       "<style scoped>\n",
       "    .dataframe tbody tr th:only-of-type {\n",
       "        vertical-align: middle;\n",
       "    }\n",
       "\n",
       "    .dataframe tbody tr th {\n",
       "        vertical-align: top;\n",
       "    }\n",
       "\n",
       "    .dataframe thead th {\n",
       "        text-align: right;\n",
       "    }\n",
       "</style>\n",
       "<table border=\"1\" class=\"dataframe\">\n",
       "  <thead>\n",
       "    <tr style=\"text-align: right;\">\n",
       "      <th></th>\n",
       "      <th>name</th>\n",
       "      <th>mass</th>\n",
       "      <th>trigger</th>\n",
       "    </tr>\n",
       "  </thead>\n",
       "  <tbody>\n",
       "    <tr>\n",
       "      <th>0</th>\n",
       "      <td>525.0</td>\n",
       "      <td>498.210663</td>\n",
       "      <td>0</td>\n",
       "    </tr>\n",
       "    <tr>\n",
       "      <th>1</th>\n",
       "      <td>525.0</td>\n",
       "      <td>504.232819</td>\n",
       "      <td>1</td>\n",
       "    </tr>\n",
       "    <tr>\n",
       "      <th>2</th>\n",
       "      <td>525.0</td>\n",
       "      <td>498.035065</td>\n",
       "      <td>1</td>\n",
       "    </tr>\n",
       "    <tr>\n",
       "      <th>3</th>\n",
       "      <td>525.0</td>\n",
       "      <td>498.740845</td>\n",
       "      <td>0</td>\n",
       "    </tr>\n",
       "    <tr>\n",
       "      <th>4</th>\n",
       "      <td>525.0</td>\n",
       "      <td>500.045807</td>\n",
       "      <td>1</td>\n",
       "    </tr>\n",
       "    <tr>\n",
       "      <th>...</th>\n",
       "      <td>...</td>\n",
       "      <td>...</td>\n",
       "      <td>...</td>\n",
       "    </tr>\n",
       "    <tr>\n",
       "      <th>4257</th>\n",
       "      <td>950.0</td>\n",
       "      <td>496.517883</td>\n",
       "      <td>0</td>\n",
       "    </tr>\n",
       "    <tr>\n",
       "      <th>4258</th>\n",
       "      <td>950.0</td>\n",
       "      <td>481.866150</td>\n",
       "      <td>0</td>\n",
       "    </tr>\n",
       "    <tr>\n",
       "      <th>4259</th>\n",
       "      <td>950.0</td>\n",
       "      <td>494.471771</td>\n",
       "      <td>0</td>\n",
       "    </tr>\n",
       "    <tr>\n",
       "      <th>4260</th>\n",
       "      <td>950.0</td>\n",
       "      <td>498.673920</td>\n",
       "      <td>0</td>\n",
       "    </tr>\n",
       "    <tr>\n",
       "      <th>4261</th>\n",
       "      <td>950.0</td>\n",
       "      <td>515.591675</td>\n",
       "      <td>2</td>\n",
       "    </tr>\n",
       "  </tbody>\n",
       "</table>\n",
       "<p>4262 rows × 3 columns</p>\n",
       "</div>"
      ],
      "text/plain": [
       "       name        mass  trigger\n",
       "0     525.0  498.210663        0\n",
       "1     525.0  504.232819        1\n",
       "2     525.0  498.035065        1\n",
       "3     525.0  498.740845        0\n",
       "4     525.0  500.045807        1\n",
       "...     ...         ...      ...\n",
       "4257  950.0  496.517883        0\n",
       "4258  950.0  481.866150        0\n",
       "4259  950.0  494.471771        0\n",
       "4260  950.0  498.673920        0\n",
       "4261  950.0  515.591675        2\n",
       "\n",
       "[4262 rows x 3 columns]"
      ]
     },
     "execution_count": 120,
     "metadata": {},
     "output_type": "execute_result"
    }
   ],
   "source": [
    "data_prep"
   ]
  },
  {
   "cell_type": "code",
   "execution_count": 121,
   "metadata": {},
   "outputs": [],
   "source": [
    "final_data = data_prep.join(new_lum, how='inner', on='name')"
   ]
  },
  {
   "cell_type": "code",
   "execution_count": 122,
   "metadata": {},
   "outputs": [
    {
     "name": "stdout",
     "output_type": "stream",
     "text": [
      "Good. 4262 rows\n"
     ]
    }
   ],
   "source": [
    "check_foo(final_data, data_prep)"
   ]
  },
  {
   "cell_type": "markdown",
   "metadata": {},
   "source": [
    "That is good. Now I should do the analysis"
   ]
  },
  {
   "cell_type": "code",
   "execution_count": 123,
   "metadata": {},
   "outputs": [
    {
     "data": {
      "text/html": [
       "<div>\n",
       "<style scoped>\n",
       "    .dataframe tbody tr th:only-of-type {\n",
       "        vertical-align: middle;\n",
       "    }\n",
       "\n",
       "    .dataframe tbody tr th {\n",
       "        vertical-align: top;\n",
       "    }\n",
       "\n",
       "    .dataframe thead th {\n",
       "        text-align: right;\n",
       "    }\n",
       "</style>\n",
       "<table border=\"1\" class=\"dataframe\">\n",
       "  <thead>\n",
       "    <tr style=\"text-align: right;\">\n",
       "      <th></th>\n",
       "      <th>name</th>\n",
       "      <th>mass</th>\n",
       "      <th>trigger</th>\n",
       "      <th>Emean</th>\n",
       "      <th>lum</th>\n",
       "      <th>dEmin</th>\n",
       "      <th>dEmax</th>\n",
       "    </tr>\n",
       "  </thead>\n",
       "  <tbody>\n",
       "    <tr>\n",
       "      <th>4257</th>\n",
       "      <td>950.0</td>\n",
       "      <td>496.517883</td>\n",
       "      <td>0</td>\n",
       "      <td>970.748119</td>\n",
       "      <td>3052.256</td>\n",
       "      <td>24.05</td>\n",
       "      <td>31.56</td>\n",
       "    </tr>\n",
       "    <tr>\n",
       "      <th>4258</th>\n",
       "      <td>950.0</td>\n",
       "      <td>481.866150</td>\n",
       "      <td>0</td>\n",
       "      <td>970.748119</td>\n",
       "      <td>3052.256</td>\n",
       "      <td>24.05</td>\n",
       "      <td>31.56</td>\n",
       "    </tr>\n",
       "    <tr>\n",
       "      <th>4259</th>\n",
       "      <td>950.0</td>\n",
       "      <td>494.471771</td>\n",
       "      <td>0</td>\n",
       "      <td>970.748119</td>\n",
       "      <td>3052.256</td>\n",
       "      <td>24.05</td>\n",
       "      <td>31.56</td>\n",
       "    </tr>\n",
       "    <tr>\n",
       "      <th>4260</th>\n",
       "      <td>950.0</td>\n",
       "      <td>498.673920</td>\n",
       "      <td>0</td>\n",
       "      <td>970.748119</td>\n",
       "      <td>3052.256</td>\n",
       "      <td>24.05</td>\n",
       "      <td>31.56</td>\n",
       "    </tr>\n",
       "    <tr>\n",
       "      <th>4261</th>\n",
       "      <td>950.0</td>\n",
       "      <td>515.591675</td>\n",
       "      <td>2</td>\n",
       "      <td>970.748119</td>\n",
       "      <td>3052.256</td>\n",
       "      <td>24.05</td>\n",
       "      <td>31.56</td>\n",
       "    </tr>\n",
       "  </tbody>\n",
       "</table>\n",
       "</div>"
      ],
      "text/plain": [
       "       name        mass  trigger       Emean       lum  dEmin  dEmax\n",
       "4257  950.0  496.517883        0  970.748119  3052.256  24.05  31.56\n",
       "4258  950.0  481.866150        0  970.748119  3052.256  24.05  31.56\n",
       "4259  950.0  494.471771        0  970.748119  3052.256  24.05  31.56\n",
       "4260  950.0  498.673920        0  970.748119  3052.256  24.05  31.56\n",
       "4261  950.0  515.591675        2  970.748119  3052.256  24.05  31.56"
      ]
     },
     "execution_count": 123,
     "metadata": {},
     "output_type": "execute_result"
    }
   ],
   "source": [
    "final_data.tail()"
   ]
  },
  {
   "cell_type": "markdown",
   "metadata": {},
   "source": [
    "----------------\n",
    "## Fit"
   ]
  },
  {
   "cell_type": "code",
   "execution_count": 299,
   "metadata": {},
   "outputs": [],
   "source": [
    "data2 = final_data.groupby('name')"
   ]
  },
  {
   "cell_type": "code",
   "execution_count": 300,
   "metadata": {},
   "outputs": [
    {
     "name": "stdout",
     "output_type": "stream",
     "text": [
      "508.6\n",
      "550.0\n",
      "562.5\n",
      "575.0\n",
      "587.5\n",
      "600.0\n",
      "612.5\n",
      "625.0\n",
      "637.5\n",
      "650.0\n",
      "662.5\n",
      "675.0\n",
      "687.5\n",
      "700.0\n",
      "712.5\n",
      "725.0\n",
      "737.5\n",
      "750.0\n",
      "762.5\n",
      "775.0\n",
      "787.5\n",
      "800.0\n",
      "812.5\n",
      "825.0\n",
      "837.5\n",
      "850.0\n",
      "862.5\n",
      "875.0\n",
      "887.5\n",
      "900.0\n",
      "912.5\n",
      "925.0\n",
      "935.0\n",
      "945.0\n",
      "950.0\n",
      "962.5\n",
      "975.0\n",
      "987.5\n",
      "1000.0\n"
     ]
    }
   ],
   "source": [
    "dic = {}\n",
    "for i in data2.groups:\n",
    "    print(i)\n",
    "    dic[i] = np.array( data2.get_group(i)['mass'] )"
   ]
  },
  {
   "cell_type": "code",
   "execution_count": 301,
   "metadata": {},
   "outputs": [],
   "source": [
    "import iminuit\n",
    "import probfit as pf"
   ]
  },
  {
   "cell_type": "code",
   "execution_count": 302,
   "metadata": {},
   "outputs": [],
   "source": [
    "plt.rcParams.update({'font.size': 18, 'figure.figsize':(16,9)})"
   ]
  },
  {
   "cell_type": "code",
   "execution_count": 303,
   "metadata": {},
   "outputs": [],
   "source": [
    "mass_bound = (450, 550)"
   ]
  },
  {
   "cell_type": "code",
   "execution_count": 304,
   "metadata": {},
   "outputs": [
    {
     "data": {
      "text/plain": [
       "['x', 'M', '$\\\\sigma$', '$N_{sig}$', '$N_{bkg}$']"
      ]
     },
     "execution_count": 304,
     "metadata": {},
     "output_type": "execute_result"
    }
   ],
   "source": [
    "#гаусс + const\n",
    "def constant(x):\n",
    "    return 1\n",
    "def gauss(x, mu, sigma):\n",
    "    return pf.gaussian(x, mu, sigma)\n",
    "\n",
    "norm_sig = pf.rename( pf.Normalized( gauss, mass_bound ), ['x', 'M', '$\\\\sigma$'] )\n",
    "norm_bkg = pf.Normalized( constant, mass_bound )\n",
    "\n",
    "ext_sig = pf.Extended(norm_sig, extname='$N_{sig}$')\n",
    "ext_bkg = pf.Extended(norm_bkg, extname='$N_{bkg}$')\n",
    "\n",
    "pdf = pf.AddPdf(ext_sig, ext_bkg)\n",
    "\n",
    "MLim = (497.6, 7.0)\n",
    "sigmaLim = (6.60, 6.0)\n",
    "\n",
    "limits = {\n",
    "    \"limit_M\": [MLim[0]-MLim[1], MLim[0]+MLim[1]],\n",
    "    \"limit_$\\\\sigma$\": [sigmaLim[0] - sigmaLim[1], sigmaLim[0] + sigmaLim[1]],\n",
    "    \"limit_$N_{sig}$\": [0, 100000],\n",
    "    \"limit_$N_{bkg}$\": [0, 2000],\n",
    "}\n",
    "errors = {\n",
    "    \"error_M\": 1,\n",
    "    \"error_$\\\\sigma$\": 0.1,\n",
    "    \"error_$N_{sig}$\": 0.3,\n",
    "    \"error_$N_{bkg}$\": 0.1,\n",
    "}\n",
    "\n",
    "pf.describe(pdf)"
   ]
  },
  {
   "cell_type": "code",
   "execution_count": 326,
   "metadata": {},
   "outputs": [],
   "source": [
    "def fitter(dic, nbins, energy, binnedLik=False, simple_plot=True):\n",
    "    \n",
    "    likelihood = pf.UnbinnedLH(pdf, dic, extended=True, extended_bound=mass_bound) if not(binnedLik) else \\\n",
    "    pf.BinnedLH(pdf, dic, int(nbins*(mass_bound[1]-mass_bound[0])/100.), bound=mass_bound, extended=True)\n",
    "    \n",
    "    initial_par_values = {\"M\": 497.6, \"$\\sigma$\": 4.26, \"$N_{sig}$\": np.size(dic), \"$N_{bkg}$\": 1}\n",
    "    mt = iminuit.Minuit(likelihood, **initial_par_values, **errors, **limits, pedantic=False)\n",
    "    mt.migrad();\n",
    "        \n",
    "    if simple_plot:\n",
    "        likelihood.draw(minuit=mt) if binnedLik else likelihood.draw(minuit=mt, bins=nbins, bound=mass_bound)\n",
    "    else:\n",
    "        fig = plt.figure(figsize=(16, 10), dpi= 80)\n",
    "        grid = plt.GridSpec(4, 4, hspace=0.5, wspace=0.2)\n",
    "\n",
    "        # Define the axes\n",
    "        ax_main = fig.add_subplot(grid[:-1, :])\n",
    "        ax_main.grid(ls=':')\n",
    "        box_1 = {'facecolor':'black', 'boxstyle': 'round'}\n",
    "\n",
    "        if binnedLik:\n",
    "            likelihood.draw(minuit=mt, print_par=True);\n",
    "        else:\n",
    "            likelihood.draw(minuit=mt, bins=nbins, bound=mass_bound, print_par=True)\n",
    "\n",
    "        plt.tick_params(labelsize=20);\n",
    "        plt.xlabel('invariant mass, MeV', fontsize=20)\n",
    "        plt.ylabel('number of events per bin', fontsize=20)\n",
    "\n",
    "        # this is an inset axes over the main axes\n",
    "        ax_bottom = fig.add_subplot(grid[-1, :], xticklabels=[])\n",
    "        ax_bottom.grid(ls=':')\n",
    "        likelihood.draw_residual(minuit=mt) if binnedLik else \\\n",
    "        likelihood.draw_residual(minuit=mt, bins=nbins, bound=mass_bound)\n",
    "    \n",
    "#         plt.savefig(f'./Journal/outputs/images/MC_v7_1.1GeV.png', dpi=300)\n",
    "    return mt, likelihood"
   ]
  },
  {
   "cell_type": "code",
   "execution_count": 306,
   "metadata": {},
   "outputs": [],
   "source": [
    "itr = iter(dic)"
   ]
  },
  {
   "cell_type": "code",
   "execution_count": 307,
   "metadata": {},
   "outputs": [],
   "source": [
    "fit_frame = pd.DataFrame(columns=[ 'M', 'Sigma', 'Nsig', 'Nbkg', \n",
    "                                  'Merr', 'Serr', 'Nsig_err', 'Nbkg_err'])"
   ]
  },
  {
   "cell_type": "code",
   "execution_count": 310,
   "metadata": {
    "scrolled": true
   },
   "outputs": [
    {
     "name": "stdout",
     "output_type": "stream",
     "text": [
      "Label: 550.0\n"
     ]
    }
   ],
   "source": [
    "i = next(itr)\n",
    "print('Label:', i)"
   ]
  },
  {
   "cell_type": "code",
   "execution_count": 325,
   "metadata": {
    "scrolled": false
   },
   "outputs": [
    {
     "name": "stdout",
     "output_type": "stream",
     "text": [
      "Migrad quality: True\n",
      "Real: 2045 Found: 2044.9034118969578\n"
     ]
    },
    {
     "data": {
      "image/png": "[encoded data removed]",
      "text/plain": [
       "<Figure size 1280x800 with 2 Axes>"
      ]
     },
     "metadata": {},
     "output_type": "display_data"
    }
   ],
   "source": [
    "dicx = dic[i]\n",
    "# dicx = np.hstack((dic[925],dic[936],dic[939]))\n",
    "mt, lik = fitter(dicx, 250, i, False, False)\n",
    "fit_frame.loc[i] = mt.values.values() + mt.errors.values()\n",
    "print(\"Migrad quality:\", mt.migrad_ok())\n",
    "print( 'Real:', np.size(dicx), 'Found:', mt.values['$N_{sig}$'] + mt.values['$N_{bkg}$'] )"
   ]
  },
  {
   "cell_type": "code",
   "execution_count": 312,
   "metadata": {},
   "outputs": [
    {
     "data": {
      "text/plain": [
       "-6565.812285291305"
      ]
     },
     "execution_count": 312,
     "metadata": {},
     "output_type": "execute_result"
    }
   ],
   "source": [
    "mt.fval"
   ]
  },
  {
   "cell_type": "code",
   "execution_count": 313,
   "metadata": {},
   "outputs": [],
   "source": [
    "import warnings\n",
    "warnings.filterwarnings(\"ignore\")\n",
    "\n",
    "def fcn_tester():\n",
    "    a = []\n",
    "    vals = dict( zip( ['M', '$\\\\sigma$', '$N_{sig}$', '$N_{bkg}$'], mt.values.values()) )\n",
    "    for _ in range(1000):\n",
    "        data = pf.gen_toy(pdf, int(mt.values.values()[2]+mt.values.values()[3]), bound=(450, 550), **vals, quiet=True);\n",
    "        unbinned_likelihood = pf.UnbinnedLH(pdf, data, extended=True);\n",
    "        minuit = iminuit.Minuit(unbinned_likelihood, **vals, pedantic=False);\n",
    "        minuit.migrad();\n",
    "        a.append( minuit.fval )\n",
    "#         print(len(data), minuit.fval)\n",
    "    return a"
   ]
  },
  {
   "cell_type": "code",
   "execution_count": 314,
   "metadata": {},
   "outputs": [],
   "source": [
    "fcn = fcn_tester()"
   ]
  },
  {
   "cell_type": "code",
   "execution_count": 323,
   "metadata": {},
   "outputs": [
    {
     "data": {
      "image/png": "[encoded data removed]",
      "text/plain": [
       "<Figure size 1152x648 with 1 Axes>"
      ]
     },
     "metadata": {},
     "output_type": "display_data"
    }
   ],
   "source": [
    "import mplhep as hep\n",
    "bbox_props = dict(boxstyle=\"round\", fc=\"w\", ec=\"0.5\", alpha=0.9)\n",
    "plt.hist(fcn, bins=100, histtype='stepfilled', alpha=0.4, lw=2, label='MC toy');\n",
    "# h, bins = np.histogram(fcn, bins = 100)\n",
    "# hep.histplot(h, bins=bins, yerr=True, label='MC toy')\n",
    "plt.plot([mt.fval, mt.fval], [0, 35], lw=5, label='Real exp');\n",
    "plt.text(-6460, 28, 'MC_v7, 550 MeV', size=24, bbox=bbox_props);\n",
    "plt.xlabel('FCN value');\n",
    "plt.legend(frameon=True);\n",
    "plt.grid(linestyle=':')\n",
    "plt.title('FCN Monte Carlo toy');\n",
    "# plt.savefig('Journal/outputs/images/Analysis_FCN_MC_toy_MC_v7_550.png', dpi=200)"
   ]
  },
  {
   "cell_type": "code",
   "execution_count": 182,
   "metadata": {},
   "outputs": [
    {
     "data": {
      "text/html": [
       "<div>\n",
       "<style scoped>\n",
       "    .dataframe tbody tr th:only-of-type {\n",
       "        vertical-align: middle;\n",
       "    }\n",
       "\n",
       "    .dataframe tbody tr th {\n",
       "        vertical-align: top;\n",
       "    }\n",
       "\n",
       "    .dataframe thead th {\n",
       "        text-align: right;\n",
       "    }\n",
       "</style>\n",
       "<table border=\"1\" class=\"dataframe\">\n",
       "  <thead>\n",
       "    <tr style=\"text-align: right;\">\n",
       "      <th></th>\n",
       "      <th>M</th>\n",
       "      <th>Sigma</th>\n",
       "      <th>Nsig</th>\n",
       "      <th>Nbkg</th>\n",
       "      <th>Merr</th>\n",
       "      <th>Serr</th>\n",
       "      <th>Nsig_err</th>\n",
       "      <th>Nbkg_err</th>\n",
       "    </tr>\n",
       "  </thead>\n",
       "  <tbody>\n",
       "    <tr>\n",
       "      <th>775.0</th>\n",
       "      <td>497.986504</td>\n",
       "      <td>7.874892</td>\n",
       "      <td>2107.723838</td>\n",
       "      <td>118.300221</td>\n",
       "      <td>0.183586</td>\n",
       "      <td>0.184363</td>\n",
       "      <td>48.696158</td>\n",
       "      <td>19.535575</td>\n",
       "    </tr>\n",
       "    <tr>\n",
       "      <th>787.5</th>\n",
       "      <td>497.689278</td>\n",
       "      <td>7.803182</td>\n",
       "      <td>2199.055154</td>\n",
       "      <td>128.027037</td>\n",
       "      <td>0.177235</td>\n",
       "      <td>0.162017</td>\n",
       "      <td>49.101870</td>\n",
       "      <td>18.432421</td>\n",
       "    </tr>\n",
       "    <tr>\n",
       "      <th>800.0</th>\n",
       "      <td>497.831717</td>\n",
       "      <td>8.074636</td>\n",
       "      <td>2332.904229</td>\n",
       "      <td>120.187918</td>\n",
       "      <td>0.177819</td>\n",
       "      <td>0.166666</td>\n",
       "      <td>50.810851</td>\n",
       "      <td>19.204493</td>\n",
       "    </tr>\n",
       "    <tr>\n",
       "      <th>812.5</th>\n",
       "      <td>498.040382</td>\n",
       "      <td>8.110283</td>\n",
       "      <td>2312.795324</td>\n",
       "      <td>117.260935</td>\n",
       "      <td>0.179197</td>\n",
       "      <td>0.166396</td>\n",
       "      <td>50.473891</td>\n",
       "      <td>18.758352</td>\n",
       "    </tr>\n",
       "    <tr>\n",
       "      <th>825.0</th>\n",
       "      <td>497.840858</td>\n",
       "      <td>7.860371</td>\n",
       "      <td>2104.301563</td>\n",
       "      <td>156.656679</td>\n",
       "      <td>0.184158</td>\n",
       "      <td>0.171160</td>\n",
       "      <td>48.477839</td>\n",
       "      <td>20.057194</td>\n",
       "    </tr>\n",
       "    <tr>\n",
       "      <th>837.5</th>\n",
       "      <td>497.769686</td>\n",
       "      <td>8.437739</td>\n",
       "      <td>1897.344119</td>\n",
       "      <td>104.874997</td>\n",
       "      <td>0.207172</td>\n",
       "      <td>0.200935</td>\n",
       "      <td>46.134759</td>\n",
       "      <td>18.319719</td>\n",
       "    </tr>\n",
       "    <tr>\n",
       "      <th>850.0</th>\n",
       "      <td>498.038293</td>\n",
       "      <td>8.425850</td>\n",
       "      <td>1414.672874</td>\n",
       "      <td>88.320298</td>\n",
       "      <td>0.240011</td>\n",
       "      <td>0.229507</td>\n",
       "      <td>39.969003</td>\n",
       "      <td>16.462644</td>\n",
       "    </tr>\n",
       "    <tr>\n",
       "      <th>862.5</th>\n",
       "      <td>498.489050</td>\n",
       "      <td>8.324489</td>\n",
       "      <td>1008.476843</td>\n",
       "      <td>61.527932</td>\n",
       "      <td>0.278839</td>\n",
       "      <td>0.247159</td>\n",
       "      <td>33.243678</td>\n",
       "      <td>12.574359</td>\n",
       "    </tr>\n",
       "    <tr>\n",
       "      <th>875.0</th>\n",
       "      <td>498.823919</td>\n",
       "      <td>7.463962</td>\n",
       "      <td>634.564049</td>\n",
       "      <td>66.357743</td>\n",
       "      <td>0.320896</td>\n",
       "      <td>0.284491</td>\n",
       "      <td>26.643701</td>\n",
       "      <td>11.901477</td>\n",
       "    </tr>\n",
       "    <tr>\n",
       "      <th>887.5</th>\n",
       "      <td>499.711320</td>\n",
       "      <td>8.610004</td>\n",
       "      <td>436.532811</td>\n",
       "      <td>37.419094</td>\n",
       "      <td>0.450565</td>\n",
       "      <td>0.426943</td>\n",
       "      <td>22.409402</td>\n",
       "      <td>10.154270</td>\n",
       "    </tr>\n",
       "    <tr>\n",
       "      <th>900.0</th>\n",
       "      <td>499.115180</td>\n",
       "      <td>7.605250</td>\n",
       "      <td>293.119478</td>\n",
       "      <td>41.844126</td>\n",
       "      <td>0.491088</td>\n",
       "      <td>0.441284</td>\n",
       "      <td>18.420585</td>\n",
       "      <td>9.383505</td>\n",
       "    </tr>\n",
       "    <tr>\n",
       "      <th>912.5</th>\n",
       "      <td>499.884421</td>\n",
       "      <td>8.667131</td>\n",
       "      <td>214.709370</td>\n",
       "      <td>29.182264</td>\n",
       "      <td>0.657281</td>\n",
       "      <td>0.655530</td>\n",
       "      <td>16.203372</td>\n",
       "      <td>8.777576</td>\n",
       "    </tr>\n",
       "    <tr>\n",
       "      <th>925.0</th>\n",
       "      <td>498.318451</td>\n",
       "      <td>9.331964</td>\n",
       "      <td>215.413741</td>\n",
       "      <td>17.593093</td>\n",
       "      <td>0.694212</td>\n",
       "      <td>0.617705</td>\n",
       "      <td>15.832537</td>\n",
       "      <td>7.268153</td>\n",
       "    </tr>\n",
       "    <tr>\n",
       "      <th>935.0</th>\n",
       "      <td>499.451841</td>\n",
       "      <td>9.319528</td>\n",
       "      <td>195.262454</td>\n",
       "      <td>15.741089</td>\n",
       "      <td>0.711607</td>\n",
       "      <td>0.575864</td>\n",
       "      <td>14.755487</td>\n",
       "      <td>6.179023</td>\n",
       "    </tr>\n",
       "    <tr>\n",
       "      <th>945.0</th>\n",
       "      <td>499.888906</td>\n",
       "      <td>9.673000</td>\n",
       "      <td>217.537434</td>\n",
       "      <td>22.296427</td>\n",
       "      <td>0.717622</td>\n",
       "      <td>0.668941</td>\n",
       "      <td>16.230345</td>\n",
       "      <td>8.260122</td>\n",
       "    </tr>\n",
       "    <tr>\n",
       "      <th>950.0</th>\n",
       "      <td>500.346516</td>\n",
       "      <td>10.027979</td>\n",
       "      <td>200.053961</td>\n",
       "      <td>17.945940</td>\n",
       "      <td>0.767279</td>\n",
       "      <td>0.703257</td>\n",
       "      <td>15.376006</td>\n",
       "      <td>7.367796</td>\n",
       "    </tr>\n",
       "    <tr>\n",
       "      <th>962.5</th>\n",
       "      <td>499.352396</td>\n",
       "      <td>9.005787</td>\n",
       "      <td>203.820671</td>\n",
       "      <td>33.170953</td>\n",
       "      <td>0.707121</td>\n",
       "      <td>0.685093</td>\n",
       "      <td>15.934437</td>\n",
       "      <td>9.120769</td>\n",
       "    </tr>\n",
       "    <tr>\n",
       "      <th>975.0</th>\n",
       "      <td>498.838347</td>\n",
       "      <td>10.182198</td>\n",
       "      <td>235.103541</td>\n",
       "      <td>7.932862</td>\n",
       "      <td>0.702463</td>\n",
       "      <td>0.582706</td>\n",
       "      <td>15.990253</td>\n",
       "      <td>5.335284</td>\n",
       "    </tr>\n",
       "    <tr>\n",
       "      <th>987.5</th>\n",
       "      <td>498.203845</td>\n",
       "      <td>9.754122</td>\n",
       "      <td>248.129750</td>\n",
       "      <td>17.838633</td>\n",
       "      <td>0.667477</td>\n",
       "      <td>0.645271</td>\n",
       "      <td>17.108580</td>\n",
       "      <td>7.898124</td>\n",
       "    </tr>\n",
       "    <tr>\n",
       "      <th>1000.0</th>\n",
       "      <td>498.475039</td>\n",
       "      <td>9.822598</td>\n",
       "      <td>258.561498</td>\n",
       "      <td>27.436272</td>\n",
       "      <td>0.667171</td>\n",
       "      <td>0.585938</td>\n",
       "      <td>17.468048</td>\n",
       "      <td>8.601901</td>\n",
       "    </tr>\n",
       "  </tbody>\n",
       "</table>\n",
       "</div>"
      ],
      "text/plain": [
       "                 M      Sigma         Nsig        Nbkg      Merr      Serr  \\\n",
       "775.0   497.986504   7.874892  2107.723838  118.300221  0.183586  0.184363   \n",
       "787.5   497.689278   7.803182  2199.055154  128.027037  0.177235  0.162017   \n",
       "800.0   497.831717   8.074636  2332.904229  120.187918  0.177819  0.166666   \n",
       "812.5   498.040382   8.110283  2312.795324  117.260935  0.179197  0.166396   \n",
       "825.0   497.840858   7.860371  2104.301563  156.656679  0.184158  0.171160   \n",
       "837.5   497.769686   8.437739  1897.344119  104.874997  0.207172  0.200935   \n",
       "850.0   498.038293   8.425850  1414.672874   88.320298  0.240011  0.229507   \n",
       "862.5   498.489050   8.324489  1008.476843   61.527932  0.278839  0.247159   \n",
       "875.0   498.823919   7.463962   634.564049   66.357743  0.320896  0.284491   \n",
       "887.5   499.711320   8.610004   436.532811   37.419094  0.450565  0.426943   \n",
       "900.0   499.115180   7.605250   293.119478   41.844126  0.491088  0.441284   \n",
       "912.5   499.884421   8.667131   214.709370   29.182264  0.657281  0.655530   \n",
       "925.0   498.318451   9.331964   215.413741   17.593093  0.694212  0.617705   \n",
       "935.0   499.451841   9.319528   195.262454   15.741089  0.711607  0.575864   \n",
       "945.0   499.888906   9.673000   217.537434   22.296427  0.717622  0.668941   \n",
       "950.0   500.346516  10.027979   200.053961   17.945940  0.767279  0.703257   \n",
       "962.5   499.352396   9.005787   203.820671   33.170953  0.707121  0.685093   \n",
       "975.0   498.838347  10.182198   235.103541    7.932862  0.702463  0.582706   \n",
       "987.5   498.203845   9.754122   248.129750   17.838633  0.667477  0.645271   \n",
       "1000.0  498.475039   9.822598   258.561498   27.436272  0.667171  0.585938   \n",
       "\n",
       "         Nsig_err   Nbkg_err  \n",
       "775.0   48.696158  19.535575  \n",
       "787.5   49.101870  18.432421  \n",
       "800.0   50.810851  19.204493  \n",
       "812.5   50.473891  18.758352  \n",
       "825.0   48.477839  20.057194  \n",
       "837.5   46.134759  18.319719  \n",
       "850.0   39.969003  16.462644  \n",
       "862.5   33.243678  12.574359  \n",
       "875.0   26.643701  11.901477  \n",
       "887.5   22.409402  10.154270  \n",
       "900.0   18.420585   9.383505  \n",
       "912.5   16.203372   8.777576  \n",
       "925.0   15.832537   7.268153  \n",
       "935.0   14.755487   6.179023  \n",
       "945.0   16.230345   8.260122  \n",
       "950.0   15.376006   7.367796  \n",
       "962.5   15.934437   9.120769  \n",
       "975.0   15.990253   5.335284  \n",
       "987.5   17.108580   7.898124  \n",
       "1000.0  17.468048   8.601901  "
      ]
     },
     "execution_count": 182,
     "metadata": {},
     "output_type": "execute_result"
    }
   ],
   "source": [
    "fit_frame.tail(20)"
   ]
  },
  {
   "cell_type": "markdown",
   "metadata": {},
   "source": [
    "# Save fit info"
   ]
  },
  {
   "cell_type": "code",
   "execution_count": 186,
   "metadata": {},
   "outputs": [],
   "source": [
    "fit_frame.to_csv(f'../outputs/{year}/tables/fit_frame{\"_sys\" if sys_err else \"\"}.csv')"
   ]
  },
  {
   "cell_type": "code",
   "execution_count": 191,
   "metadata": {},
   "outputs": [],
   "source": [
    "# mt.matrix(correlation=True)\n",
    "# mt.draw_profile('$N_{sig}$');"
   ]
  },
  {
   "cell_type": "code",
   "execution_count": 192,
   "metadata": {},
   "outputs": [],
   "source": [
    "dataN = fit_frame[['Nsig','Nsig_err']]\n",
    "dataN.columns = ['Nsig', 'dNsig']\n",
    "dataN.index.names = ['name']"
   ]
  },
  {
   "cell_type": "code",
   "execution_count": 193,
   "metadata": {},
   "outputs": [
    {
     "data": {
      "text/html": [
       "<div>\n",
       "<style scoped>\n",
       "    .dataframe tbody tr th:only-of-type {\n",
       "        vertical-align: middle;\n",
       "    }\n",
       "\n",
       "    .dataframe tbody tr th {\n",
       "        vertical-align: top;\n",
       "    }\n",
       "\n",
       "    .dataframe thead th {\n",
       "        text-align: right;\n",
       "    }\n",
       "</style>\n",
       "<table border=\"1\" class=\"dataframe\">\n",
       "  <thead>\n",
       "    <tr style=\"text-align: right;\">\n",
       "      <th></th>\n",
       "      <th>Nsig</th>\n",
       "      <th>dNsig</th>\n",
       "    </tr>\n",
       "    <tr>\n",
       "      <th>name</th>\n",
       "      <th></th>\n",
       "      <th></th>\n",
       "    </tr>\n",
       "  </thead>\n",
       "  <tbody>\n",
       "    <tr>\n",
       "      <th>950.0</th>\n",
       "      <td>200.053961</td>\n",
       "      <td>15.376006</td>\n",
       "    </tr>\n",
       "    <tr>\n",
       "      <th>962.5</th>\n",
       "      <td>203.820671</td>\n",
       "      <td>15.934437</td>\n",
       "    </tr>\n",
       "    <tr>\n",
       "      <th>975.0</th>\n",
       "      <td>235.103541</td>\n",
       "      <td>15.990253</td>\n",
       "    </tr>\n",
       "    <tr>\n",
       "      <th>987.5</th>\n",
       "      <td>248.129750</td>\n",
       "      <td>17.108580</td>\n",
       "    </tr>\n",
       "    <tr>\n",
       "      <th>1000.0</th>\n",
       "      <td>258.561498</td>\n",
       "      <td>17.468048</td>\n",
       "    </tr>\n",
       "  </tbody>\n",
       "</table>\n",
       "</div>"
      ],
      "text/plain": [
       "              Nsig      dNsig\n",
       "name                         \n",
       "950.0   200.053961  15.376006\n",
       "962.5   203.820671  15.934437\n",
       "975.0   235.103541  15.990253\n",
       "987.5   248.129750  17.108580\n",
       "1000.0  258.561498  17.468048"
      ]
     },
     "execution_count": 193,
     "metadata": {},
     "output_type": "execute_result"
    }
   ],
   "source": [
    "dataN.tail()"
   ]
  },
  {
   "cell_type": "markdown",
   "metadata": {},
   "source": [
    "I have got table with events numbers\n",
    "\n",
    "Now, I will get rid of m-field in the data table (because, I have used it)"
   ]
  },
  {
   "cell_type": "code",
   "execution_count": 194,
   "metadata": {},
   "outputs": [],
   "source": [
    "data_info = final_data.drop_duplicates(['name','lum']).drop(['mass', 'trigger'], axis=1).set_index('name')"
   ]
  },
  {
   "cell_type": "code",
   "execution_count": 195,
   "metadata": {},
   "outputs": [
    {
     "data": {
      "text/html": [
       "<div>\n",
       "<style scoped>\n",
       "    .dataframe tbody tr th:only-of-type {\n",
       "        vertical-align: middle;\n",
       "    }\n",
       "\n",
       "    .dataframe tbody tr th {\n",
       "        vertical-align: top;\n",
       "    }\n",
       "\n",
       "    .dataframe thead th {\n",
       "        text-align: right;\n",
       "    }\n",
       "</style>\n",
       "<table border=\"1\" class=\"dataframe\">\n",
       "  <thead>\n",
       "    <tr style=\"text-align: right;\">\n",
       "      <th></th>\n",
       "      <th>lum</th>\n",
       "      <th>dEmin</th>\n",
       "      <th>dEmax</th>\n",
       "      <th>Emean</th>\n",
       "      <th>Nsig</th>\n",
       "      <th>dNsig</th>\n",
       "    </tr>\n",
       "    <tr>\n",
       "      <th>name</th>\n",
       "      <th></th>\n",
       "      <th></th>\n",
       "      <th></th>\n",
       "      <th></th>\n",
       "      <th></th>\n",
       "      <th></th>\n",
       "    </tr>\n",
       "  </thead>\n",
       "  <tbody>\n",
       "    <tr>\n",
       "      <th>525.0</th>\n",
       "      <td>11111</td>\n",
       "      <td>0.0</td>\n",
       "      <td>0.0</td>\n",
       "      <td>525.0</td>\n",
       "      <td>2542.468873</td>\n",
       "      <td>52.067535</td>\n",
       "    </tr>\n",
       "    <tr>\n",
       "      <th>537.5</th>\n",
       "      <td>9297</td>\n",
       "      <td>0.0</td>\n",
       "      <td>0.0</td>\n",
       "      <td>537.5</td>\n",
       "      <td>2322.680686</td>\n",
       "      <td>50.027507</td>\n",
       "    </tr>\n",
       "    <tr>\n",
       "      <th>550.0</th>\n",
       "      <td>8283</td>\n",
       "      <td>0.0</td>\n",
       "      <td>0.0</td>\n",
       "      <td>550.0</td>\n",
       "      <td>2102.946901</td>\n",
       "      <td>47.566615</td>\n",
       "    </tr>\n",
       "    <tr>\n",
       "      <th>562.5</th>\n",
       "      <td>7657</td>\n",
       "      <td>0.0</td>\n",
       "      <td>0.0</td>\n",
       "      <td>562.5</td>\n",
       "      <td>1859.829664</td>\n",
       "      <td>45.674997</td>\n",
       "    </tr>\n",
       "    <tr>\n",
       "      <th>575.0</th>\n",
       "      <td>7106</td>\n",
       "      <td>0.0</td>\n",
       "      <td>0.0</td>\n",
       "      <td>575.0</td>\n",
       "      <td>1805.893940</td>\n",
       "      <td>44.119437</td>\n",
       "    </tr>\n",
       "    <tr>\n",
       "      <th>587.5</th>\n",
       "      <td>6666</td>\n",
       "      <td>0.0</td>\n",
       "      <td>0.0</td>\n",
       "      <td>587.5</td>\n",
       "      <td>1700.710808</td>\n",
       "      <td>42.695274</td>\n",
       "    </tr>\n",
       "    <tr>\n",
       "      <th>600.0</th>\n",
       "      <td>6369</td>\n",
       "      <td>0.0</td>\n",
       "      <td>0.0</td>\n",
       "      <td>600.0</td>\n",
       "      <td>1622.697939</td>\n",
       "      <td>41.597451</td>\n",
       "    </tr>\n",
       "    <tr>\n",
       "      <th>612.5</th>\n",
       "      <td>5887</td>\n",
       "      <td>0.0</td>\n",
       "      <td>0.0</td>\n",
       "      <td>612.5</td>\n",
       "      <td>1455.737847</td>\n",
       "      <td>40.096875</td>\n",
       "    </tr>\n",
       "    <tr>\n",
       "      <th>625.0</th>\n",
       "      <td>5579</td>\n",
       "      <td>0.0</td>\n",
       "      <td>0.0</td>\n",
       "      <td>625.0</td>\n",
       "      <td>1393.103518</td>\n",
       "      <td>39.042687</td>\n",
       "    </tr>\n",
       "    <tr>\n",
       "      <th>637.5</th>\n",
       "      <td>5271</td>\n",
       "      <td>0.0</td>\n",
       "      <td>0.0</td>\n",
       "      <td>637.5</td>\n",
       "      <td>1303.990728</td>\n",
       "      <td>37.658680</td>\n",
       "    </tr>\n",
       "    <tr>\n",
       "      <th>650.0</th>\n",
       "      <td>5074</td>\n",
       "      <td>0.0</td>\n",
       "      <td>0.0</td>\n",
       "      <td>650.0</td>\n",
       "      <td>1210.515104</td>\n",
       "      <td>36.523726</td>\n",
       "    </tr>\n",
       "    <tr>\n",
       "      <th>662.5</th>\n",
       "      <td>4856</td>\n",
       "      <td>0.0</td>\n",
       "      <td>0.0</td>\n",
       "      <td>662.5</td>\n",
       "      <td>1080.381064</td>\n",
       "      <td>35.281702</td>\n",
       "    </tr>\n",
       "    <tr>\n",
       "      <th>675.0</th>\n",
       "      <td>4626</td>\n",
       "      <td>0.0</td>\n",
       "      <td>0.0</td>\n",
       "      <td>675.0</td>\n",
       "      <td>1104.847689</td>\n",
       "      <td>34.895287</td>\n",
       "    </tr>\n",
       "    <tr>\n",
       "      <th>687.5</th>\n",
       "      <td>4342</td>\n",
       "      <td>0.0</td>\n",
       "      <td>0.0</td>\n",
       "      <td>687.5</td>\n",
       "      <td>966.959496</td>\n",
       "      <td>32.363097</td>\n",
       "    </tr>\n",
       "    <tr>\n",
       "      <th>700.0</th>\n",
       "      <td>4146</td>\n",
       "      <td>0.0</td>\n",
       "      <td>0.0</td>\n",
       "      <td>700.0</td>\n",
       "      <td>884.989820</td>\n",
       "      <td>31.810164</td>\n",
       "    </tr>\n",
       "    <tr>\n",
       "      <th>712.5</th>\n",
       "      <td>4352</td>\n",
       "      <td>0.0</td>\n",
       "      <td>0.0</td>\n",
       "      <td>712.5</td>\n",
       "      <td>939.688753</td>\n",
       "      <td>31.996400</td>\n",
       "    </tr>\n",
       "    <tr>\n",
       "      <th>725.0</th>\n",
       "      <td>4885</td>\n",
       "      <td>0.0</td>\n",
       "      <td>0.0</td>\n",
       "      <td>725.0</td>\n",
       "      <td>1025.425959</td>\n",
       "      <td>33.196068</td>\n",
       "    </tr>\n",
       "    <tr>\n",
       "      <th>737.5</th>\n",
       "      <td>6022</td>\n",
       "      <td>0.0</td>\n",
       "      <td>0.0</td>\n",
       "      <td>737.5</td>\n",
       "      <td>1295.816094</td>\n",
       "      <td>38.075193</td>\n",
       "    </tr>\n",
       "    <tr>\n",
       "      <th>750.0</th>\n",
       "      <td>7541</td>\n",
       "      <td>0.0</td>\n",
       "      <td>0.0</td>\n",
       "      <td>750.0</td>\n",
       "      <td>1459.628744</td>\n",
       "      <td>40.707882</td>\n",
       "    </tr>\n",
       "    <tr>\n",
       "      <th>762.5</th>\n",
       "      <td>9257</td>\n",
       "      <td>0.0</td>\n",
       "      <td>0.0</td>\n",
       "      <td>762.5</td>\n",
       "      <td>1891.517639</td>\n",
       "      <td>45.198060</td>\n",
       "    </tr>\n",
       "    <tr>\n",
       "      <th>775.0</th>\n",
       "      <td>10958</td>\n",
       "      <td>0.0</td>\n",
       "      <td>0.0</td>\n",
       "      <td>775.0</td>\n",
       "      <td>2107.723838</td>\n",
       "      <td>48.696158</td>\n",
       "    </tr>\n",
       "    <tr>\n",
       "      <th>787.5</th>\n",
       "      <td>12018</td>\n",
       "      <td>0.0</td>\n",
       "      <td>0.0</td>\n",
       "      <td>787.5</td>\n",
       "      <td>2199.055154</td>\n",
       "      <td>49.101870</td>\n",
       "    </tr>\n",
       "    <tr>\n",
       "      <th>800.0</th>\n",
       "      <td>12932</td>\n",
       "      <td>0.0</td>\n",
       "      <td>0.0</td>\n",
       "      <td>800.0</td>\n",
       "      <td>2332.904229</td>\n",
       "      <td>50.810851</td>\n",
       "    </tr>\n",
       "    <tr>\n",
       "      <th>812.5</th>\n",
       "      <td>13339</td>\n",
       "      <td>0.0</td>\n",
       "      <td>0.0</td>\n",
       "      <td>812.5</td>\n",
       "      <td>2312.795324</td>\n",
       "      <td>50.473891</td>\n",
       "    </tr>\n",
       "    <tr>\n",
       "      <th>825.0</th>\n",
       "      <td>12909</td>\n",
       "      <td>0.0</td>\n",
       "      <td>0.0</td>\n",
       "      <td>825.0</td>\n",
       "      <td>2104.301563</td>\n",
       "      <td>48.477839</td>\n",
       "    </tr>\n",
       "    <tr>\n",
       "      <th>837.5</th>\n",
       "      <td>11575</td>\n",
       "      <td>0.0</td>\n",
       "      <td>0.0</td>\n",
       "      <td>837.5</td>\n",
       "      <td>1897.344119</td>\n",
       "      <td>46.134759</td>\n",
       "    </tr>\n",
       "    <tr>\n",
       "      <th>850.0</th>\n",
       "      <td>9548</td>\n",
       "      <td>0.0</td>\n",
       "      <td>0.0</td>\n",
       "      <td>850.0</td>\n",
       "      <td>1414.672874</td>\n",
       "      <td>39.969003</td>\n",
       "    </tr>\n",
       "    <tr>\n",
       "      <th>862.5</th>\n",
       "      <td>7226</td>\n",
       "      <td>0.0</td>\n",
       "      <td>0.0</td>\n",
       "      <td>862.5</td>\n",
       "      <td>1008.476843</td>\n",
       "      <td>33.243678</td>\n",
       "    </tr>\n",
       "    <tr>\n",
       "      <th>875.0</th>\n",
       "      <td>5054</td>\n",
       "      <td>0.0</td>\n",
       "      <td>0.0</td>\n",
       "      <td>875.0</td>\n",
       "      <td>634.564049</td>\n",
       "      <td>26.643701</td>\n",
       "    </tr>\n",
       "    <tr>\n",
       "      <th>887.5</th>\n",
       "      <td>3548</td>\n",
       "      <td>0.0</td>\n",
       "      <td>0.0</td>\n",
       "      <td>887.5</td>\n",
       "      <td>436.532811</td>\n",
       "      <td>22.409402</td>\n",
       "    </tr>\n",
       "    <tr>\n",
       "      <th>900.0</th>\n",
       "      <td>2623</td>\n",
       "      <td>0.0</td>\n",
       "      <td>0.0</td>\n",
       "      <td>900.0</td>\n",
       "      <td>293.119478</td>\n",
       "      <td>18.420585</td>\n",
       "    </tr>\n",
       "    <tr>\n",
       "      <th>912.5</th>\n",
       "      <td>2007</td>\n",
       "      <td>0.0</td>\n",
       "      <td>0.0</td>\n",
       "      <td>912.5</td>\n",
       "      <td>214.709370</td>\n",
       "      <td>16.203372</td>\n",
       "    </tr>\n",
       "    <tr>\n",
       "      <th>925.0</th>\n",
       "      <td>1868</td>\n",
       "      <td>0.0</td>\n",
       "      <td>0.0</td>\n",
       "      <td>925.0</td>\n",
       "      <td>215.413741</td>\n",
       "      <td>15.832537</td>\n",
       "    </tr>\n",
       "    <tr>\n",
       "      <th>935.0</th>\n",
       "      <td>1861</td>\n",
       "      <td>0.0</td>\n",
       "      <td>0.0</td>\n",
       "      <td>935.0</td>\n",
       "      <td>195.262454</td>\n",
       "      <td>14.755487</td>\n",
       "    </tr>\n",
       "    <tr>\n",
       "      <th>945.0</th>\n",
       "      <td>2061</td>\n",
       "      <td>0.0</td>\n",
       "      <td>0.0</td>\n",
       "      <td>945.0</td>\n",
       "      <td>217.537434</td>\n",
       "      <td>16.230345</td>\n",
       "    </tr>\n",
       "    <tr>\n",
       "      <th>950.0</th>\n",
       "      <td>2115</td>\n",
       "      <td>0.0</td>\n",
       "      <td>0.0</td>\n",
       "      <td>950.0</td>\n",
       "      <td>200.053961</td>\n",
       "      <td>15.376006</td>\n",
       "    </tr>\n",
       "    <tr>\n",
       "      <th>962.5</th>\n",
       "      <td>2560</td>\n",
       "      <td>0.0</td>\n",
       "      <td>0.0</td>\n",
       "      <td>962.5</td>\n",
       "      <td>203.820671</td>\n",
       "      <td>15.934437</td>\n",
       "    </tr>\n",
       "    <tr>\n",
       "      <th>975.0</th>\n",
       "      <td>3246</td>\n",
       "      <td>0.0</td>\n",
       "      <td>0.0</td>\n",
       "      <td>975.0</td>\n",
       "      <td>235.103541</td>\n",
       "      <td>15.990253</td>\n",
       "    </tr>\n",
       "    <tr>\n",
       "      <th>987.5</th>\n",
       "      <td>4046</td>\n",
       "      <td>0.0</td>\n",
       "      <td>0.0</td>\n",
       "      <td>987.5</td>\n",
       "      <td>248.129750</td>\n",
       "      <td>17.108580</td>\n",
       "    </tr>\n",
       "    <tr>\n",
       "      <th>1000.0</th>\n",
       "      <td>5032</td>\n",
       "      <td>0.0</td>\n",
       "      <td>0.0</td>\n",
       "      <td>1000.0</td>\n",
       "      <td>258.561498</td>\n",
       "      <td>17.468048</td>\n",
       "    </tr>\n",
       "  </tbody>\n",
       "</table>\n",
       "</div>"
      ],
      "text/plain": [
       "          lum  dEmin  dEmax   Emean         Nsig      dNsig\n",
       "name                                                       \n",
       "525.0   11111    0.0    0.0   525.0  2542.468873  52.067535\n",
       "537.5    9297    0.0    0.0   537.5  2322.680686  50.027507\n",
       "550.0    8283    0.0    0.0   550.0  2102.946901  47.566615\n",
       "562.5    7657    0.0    0.0   562.5  1859.829664  45.674997\n",
       "575.0    7106    0.0    0.0   575.0  1805.893940  44.119437\n",
       "587.5    6666    0.0    0.0   587.5  1700.710808  42.695274\n",
       "600.0    6369    0.0    0.0   600.0  1622.697939  41.597451\n",
       "612.5    5887    0.0    0.0   612.5  1455.737847  40.096875\n",
       "625.0    5579    0.0    0.0   625.0  1393.103518  39.042687\n",
       "637.5    5271    0.0    0.0   637.5  1303.990728  37.658680\n",
       "650.0    5074    0.0    0.0   650.0  1210.515104  36.523726\n",
       "662.5    4856    0.0    0.0   662.5  1080.381064  35.281702\n",
       "675.0    4626    0.0    0.0   675.0  1104.847689  34.895287\n",
       "687.5    4342    0.0    0.0   687.5   966.959496  32.363097\n",
       "700.0    4146    0.0    0.0   700.0   884.989820  31.810164\n",
       "712.5    4352    0.0    0.0   712.5   939.688753  31.996400\n",
       "725.0    4885    0.0    0.0   725.0  1025.425959  33.196068\n",
       "737.5    6022    0.0    0.0   737.5  1295.816094  38.075193\n",
       "750.0    7541    0.0    0.0   750.0  1459.628744  40.707882\n",
       "762.5    9257    0.0    0.0   762.5  1891.517639  45.198060\n",
       "775.0   10958    0.0    0.0   775.0  2107.723838  48.696158\n",
       "787.5   12018    0.0    0.0   787.5  2199.055154  49.101870\n",
       "800.0   12932    0.0    0.0   800.0  2332.904229  50.810851\n",
       "812.5   13339    0.0    0.0   812.5  2312.795324  50.473891\n",
       "825.0   12909    0.0    0.0   825.0  2104.301563  48.477839\n",
       "837.5   11575    0.0    0.0   837.5  1897.344119  46.134759\n",
       "850.0    9548    0.0    0.0   850.0  1414.672874  39.969003\n",
       "862.5    7226    0.0    0.0   862.5  1008.476843  33.243678\n",
       "875.0    5054    0.0    0.0   875.0   634.564049  26.643701\n",
       "887.5    3548    0.0    0.0   887.5   436.532811  22.409402\n",
       "900.0    2623    0.0    0.0   900.0   293.119478  18.420585\n",
       "912.5    2007    0.0    0.0   912.5   214.709370  16.203372\n",
       "925.0    1868    0.0    0.0   925.0   215.413741  15.832537\n",
       "935.0    1861    0.0    0.0   935.0   195.262454  14.755487\n",
       "945.0    2061    0.0    0.0   945.0   217.537434  16.230345\n",
       "950.0    2115    0.0    0.0   950.0   200.053961  15.376006\n",
       "962.5    2560    0.0    0.0   962.5   203.820671  15.934437\n",
       "975.0    3246    0.0    0.0   975.0   235.103541  15.990253\n",
       "987.5    4046    0.0    0.0   987.5   248.129750  17.108580\n",
       "1000.0   5032    0.0    0.0  1000.0   258.561498  17.468048"
      ]
     },
     "execution_count": 195,
     "metadata": {},
     "output_type": "execute_result"
    }
   ],
   "source": [
    "dataN = data_info.join(dataN, how='inner')\n",
    "dataN"
   ]
  },
  {
   "cell_type": "code",
   "execution_count": 196,
   "metadata": {},
   "outputs": [
    {
     "name": "stdout",
     "output_type": "stream",
     "text": [
      "Good. 40 rows\n"
     ]
    }
   ],
   "source": [
    "check_foo(dataN, fit_frame)"
   ]
  },
  {
   "cell_type": "markdown",
   "metadata": {},
   "source": [
    "OK, save it"
   ]
  },
  {
   "cell_type": "code",
   "execution_count": 197,
   "metadata": {},
   "outputs": [],
   "source": [
    "dataN.to_csv(f'../outputs/{year}/tables/signal_table{year}{\"_sys\" if sys_err else \"\"}.csv', float_format='%.4f')"
   ]
  },
  {
   "cell_type": "markdown",
   "metadata": {},
   "source": [
    "Ok, now about triggers"
   ]
  },
  {
   "cell_type": "code",
   "execution_count": 135,
   "metadata": {
    "scrolled": true
   },
   "outputs": [],
   "source": [
    "triggers = final_data[['trigger','name']].set_index('name')\n",
    "triggers = triggers.assign(one = 1);"
   ]
  },
  {
   "cell_type": "code",
   "execution_count": 136,
   "metadata": {},
   "outputs": [
    {
     "data": {
      "text/html": [
       "<div>\n",
       "<style scoped>\n",
       "    .dataframe tbody tr th:only-of-type {\n",
       "        vertical-align: middle;\n",
       "    }\n",
       "\n",
       "    .dataframe tbody tr th {\n",
       "        vertical-align: top;\n",
       "    }\n",
       "\n",
       "    .dataframe thead th {\n",
       "        text-align: right;\n",
       "    }\n",
       "</style>\n",
       "<table border=\"1\" class=\"dataframe\">\n",
       "  <thead>\n",
       "    <tr style=\"text-align: right;\">\n",
       "      <th></th>\n",
       "      <th>trigger</th>\n",
       "      <th>one</th>\n",
       "    </tr>\n",
       "    <tr>\n",
       "      <th>name</th>\n",
       "      <th></th>\n",
       "      <th></th>\n",
       "    </tr>\n",
       "  </thead>\n",
       "  <tbody>\n",
       "    <tr>\n",
       "      <th>641.0</th>\n",
       "      <td>0</td>\n",
       "      <td>1</td>\n",
       "    </tr>\n",
       "    <tr>\n",
       "      <th>641.0</th>\n",
       "      <td>2</td>\n",
       "      <td>1</td>\n",
       "    </tr>\n",
       "    <tr>\n",
       "      <th>641.0</th>\n",
       "      <td>2</td>\n",
       "      <td>1</td>\n",
       "    </tr>\n",
       "    <tr>\n",
       "      <th>641.0</th>\n",
       "      <td>2</td>\n",
       "      <td>1</td>\n",
       "    </tr>\n",
       "    <tr>\n",
       "      <th>641.0</th>\n",
       "      <td>2</td>\n",
       "      <td>1</td>\n",
       "    </tr>\n",
       "    <tr>\n",
       "      <th>...</th>\n",
       "      <td>...</td>\n",
       "      <td>...</td>\n",
       "    </tr>\n",
       "    <tr>\n",
       "      <th>1003.5</th>\n",
       "      <td>2</td>\n",
       "      <td>1</td>\n",
       "    </tr>\n",
       "    <tr>\n",
       "      <th>1003.5</th>\n",
       "      <td>2</td>\n",
       "      <td>1</td>\n",
       "    </tr>\n",
       "    <tr>\n",
       "      <th>1003.5</th>\n",
       "      <td>0</td>\n",
       "      <td>1</td>\n",
       "    </tr>\n",
       "    <tr>\n",
       "      <th>1003.5</th>\n",
       "      <td>0</td>\n",
       "      <td>1</td>\n",
       "    </tr>\n",
       "    <tr>\n",
       "      <th>1003.5</th>\n",
       "      <td>2</td>\n",
       "      <td>1</td>\n",
       "    </tr>\n",
       "  </tbody>\n",
       "</table>\n",
       "<p>1888 rows × 2 columns</p>\n",
       "</div>"
      ],
      "text/plain": [
       "        trigger  one\n",
       "name                \n",
       "641.0         0    1\n",
       "641.0         2    1\n",
       "641.0         2    1\n",
       "641.0         2    1\n",
       "641.0         2    1\n",
       "...         ...  ...\n",
       "1003.5        2    1\n",
       "1003.5        2    1\n",
       "1003.5        0    1\n",
       "1003.5        0    1\n",
       "1003.5        2    1\n",
       "\n",
       "[1888 rows x 2 columns]"
      ]
     },
     "execution_count": 136,
     "metadata": {},
     "output_type": "execute_result"
    }
   ],
   "source": [
    "triggers"
   ]
  },
  {
   "cell_type": "code",
   "execution_count": 137,
   "metadata": {},
   "outputs": [
    {
     "name": "stdout",
     "output_type": "stream",
     "text": [
      "Good. 1888 rows\n"
     ]
    }
   ],
   "source": [
    "check_foo(triggers, final_data)"
   ]
  },
  {
   "cell_type": "code",
   "execution_count": 138,
   "metadata": {},
   "outputs": [],
   "source": [
    "triggers = pd.pivot_table(triggers, values='one', columns=['trigger'], index='name', aggfunc=np.sum).fillna(0)"
   ]
  },
  {
   "cell_type": "code",
   "execution_count": 139,
   "metadata": {},
   "outputs": [],
   "source": [
    "triggers.columns = ['TF', 'CF', 'TC']"
   ]
  },
  {
   "cell_type": "code",
   "execution_count": 140,
   "metadata": {},
   "outputs": [
    {
     "data": {
      "text/html": [
       "<div>\n",
       "<style scoped>\n",
       "    .dataframe tbody tr th:only-of-type {\n",
       "        vertical-align: middle;\n",
       "    }\n",
       "\n",
       "    .dataframe tbody tr th {\n",
       "        vertical-align: top;\n",
       "    }\n",
       "\n",
       "    .dataframe thead th {\n",
       "        text-align: right;\n",
       "    }\n",
       "</style>\n",
       "<table border=\"1\" class=\"dataframe\">\n",
       "  <thead>\n",
       "    <tr style=\"text-align: right;\">\n",
       "      <th></th>\n",
       "      <th>TF</th>\n",
       "      <th>CF</th>\n",
       "      <th>TC</th>\n",
       "    </tr>\n",
       "    <tr>\n",
       "      <th>name</th>\n",
       "      <th></th>\n",
       "      <th></th>\n",
       "      <th></th>\n",
       "    </tr>\n",
       "  </thead>\n",
       "  <tbody>\n",
       "    <tr>\n",
       "      <th>641.0</th>\n",
       "      <td>94.0</td>\n",
       "      <td>4.0</td>\n",
       "      <td>275.0</td>\n",
       "    </tr>\n",
       "    <tr>\n",
       "      <th>650.0</th>\n",
       "      <td>15.0</td>\n",
       "      <td>1.0</td>\n",
       "      <td>91.0</td>\n",
       "    </tr>\n",
       "    <tr>\n",
       "      <th>675.0</th>\n",
       "      <td>29.0</td>\n",
       "      <td>1.0</td>\n",
       "      <td>65.0</td>\n",
       "    </tr>\n",
       "    <tr>\n",
       "      <th>700.0</th>\n",
       "      <td>15.0</td>\n",
       "      <td>0.0</td>\n",
       "      <td>33.0</td>\n",
       "    </tr>\n",
       "    <tr>\n",
       "      <th>725.0</th>\n",
       "      <td>17.0</td>\n",
       "      <td>1.0</td>\n",
       "      <td>52.0</td>\n",
       "    </tr>\n",
       "  </tbody>\n",
       "</table>\n",
       "</div>"
      ],
      "text/plain": [
       "         TF   CF     TC\n",
       "name                   \n",
       "641.0  94.0  4.0  275.0\n",
       "650.0  15.0  1.0   91.0\n",
       "675.0  29.0  1.0   65.0\n",
       "700.0  15.0  0.0   33.0\n",
       "725.0  17.0  1.0   52.0"
      ]
     },
     "execution_count": 140,
     "metadata": {},
     "output_type": "execute_result"
    }
   ],
   "source": [
    "triggers.head()"
   ]
  },
  {
   "cell_type": "code",
   "execution_count": 141,
   "metadata": {},
   "outputs": [],
   "source": [
    "def variance(k, n):\n",
    "    return (k+1)*(k+2)/(n+2)/(n+3) - (k+1)**2/(n+2)**2"
   ]
  },
  {
   "cell_type": "code",
   "execution_count": 142,
   "metadata": {},
   "outputs": [],
   "source": [
    "triggers['eTF'] = (triggers['TC'] + 1)/(triggers['CF'] + triggers['TC'] + 2)\n",
    "triggers['eCF'] = (triggers['TC'] + 1)/(triggers['TF'] + triggers['TC'] + 2)\n",
    "triggers['TrigEff'] = 1 - (1-triggers['eTF'])*(1-triggers['eCF'])\n",
    "\n",
    "triggers['vTF'] = np.sqrt( variance(triggers['TC'], triggers['CF'] + triggers['TC']) )\n",
    "triggers['vCF'] = np.sqrt( variance(triggers['TC'], triggers['TF'] + triggers['TC']) )\n",
    "triggers['TrigErr'] = np.sqrt( np.square((1-triggers['eTF'])*triggers['vCF']) + \n",
    "                              np.square((1-triggers['eCF'])*triggers['vTF']) )"
   ]
  },
  {
   "cell_type": "markdown",
   "metadata": {},
   "source": [
    "OK, trigers have been got"
   ]
  },
  {
   "cell_type": "code",
   "execution_count": 143,
   "metadata": {},
   "outputs": [
    {
     "name": "stdout",
     "output_type": "stream",
     "text": [
      "Good. 25 rows\n"
     ]
    }
   ],
   "source": [
    "check_foo(triggers, dataN)"
   ]
  },
  {
   "cell_type": "code",
   "execution_count": 144,
   "metadata": {},
   "outputs": [
    {
     "data": {
      "text/html": [
       "<div>\n",
       "<style scoped>\n",
       "    .dataframe tbody tr th:only-of-type {\n",
       "        vertical-align: middle;\n",
       "    }\n",
       "\n",
       "    .dataframe tbody tr th {\n",
       "        vertical-align: top;\n",
       "    }\n",
       "\n",
       "    .dataframe thead th {\n",
       "        text-align: right;\n",
       "    }\n",
       "</style>\n",
       "<table border=\"1\" class=\"dataframe\">\n",
       "  <thead>\n",
       "    <tr style=\"text-align: right;\">\n",
       "      <th></th>\n",
       "      <th>TF</th>\n",
       "      <th>CF</th>\n",
       "      <th>TC</th>\n",
       "      <th>eTF</th>\n",
       "      <th>eCF</th>\n",
       "      <th>TrigEff</th>\n",
       "      <th>vTF</th>\n",
       "      <th>vCF</th>\n",
       "      <th>TrigErr</th>\n",
       "    </tr>\n",
       "    <tr>\n",
       "      <th>name</th>\n",
       "      <th></th>\n",
       "      <th></th>\n",
       "      <th></th>\n",
       "      <th></th>\n",
       "      <th></th>\n",
       "      <th></th>\n",
       "      <th></th>\n",
       "      <th></th>\n",
       "      <th></th>\n",
       "    </tr>\n",
       "  </thead>\n",
       "  <tbody>\n",
       "    <tr>\n",
       "      <th>641.0</th>\n",
       "      <td>94.0</td>\n",
       "      <td>4.0</td>\n",
       "      <td>275.0</td>\n",
       "      <td>0.982206</td>\n",
       "      <td>0.743935</td>\n",
       "      <td>0.995444</td>\n",
       "      <td>0.007872</td>\n",
       "      <td>0.022629</td>\n",
       "      <td>0.002056</td>\n",
       "    </tr>\n",
       "    <tr>\n",
       "      <th>650.0</th>\n",
       "      <td>15.0</td>\n",
       "      <td>1.0</td>\n",
       "      <td>91.0</td>\n",
       "      <td>0.978723</td>\n",
       "      <td>0.851852</td>\n",
       "      <td>0.996848</td>\n",
       "      <td>0.014805</td>\n",
       "      <td>0.034026</td>\n",
       "      <td>0.002310</td>\n",
       "    </tr>\n",
       "    <tr>\n",
       "      <th>675.0</th>\n",
       "      <td>29.0</td>\n",
       "      <td>1.0</td>\n",
       "      <td>65.0</td>\n",
       "      <td>0.970588</td>\n",
       "      <td>0.687500</td>\n",
       "      <td>0.990809</td>\n",
       "      <td>0.020340</td>\n",
       "      <td>0.047063</td>\n",
       "      <td>0.006505</td>\n",
       "    </tr>\n",
       "    <tr>\n",
       "      <th>700.0</th>\n",
       "      <td>15.0</td>\n",
       "      <td>0.0</td>\n",
       "      <td>33.0</td>\n",
       "      <td>0.971429</td>\n",
       "      <td>0.680000</td>\n",
       "      <td>0.990857</td>\n",
       "      <td>0.027766</td>\n",
       "      <td>0.065320</td>\n",
       "      <td>0.009079</td>\n",
       "    </tr>\n",
       "    <tr>\n",
       "      <th>725.0</th>\n",
       "      <td>17.0</td>\n",
       "      <td>1.0</td>\n",
       "      <td>52.0</td>\n",
       "      <td>0.963636</td>\n",
       "      <td>0.746479</td>\n",
       "      <td>0.990781</td>\n",
       "      <td>0.025015</td>\n",
       "      <td>0.051268</td>\n",
       "      <td>0.006610</td>\n",
       "    </tr>\n",
       "  </tbody>\n",
       "</table>\n",
       "</div>"
      ],
      "text/plain": [
       "         TF   CF     TC       eTF       eCF   TrigEff       vTF       vCF  \\\n",
       "name                                                                        \n",
       "641.0  94.0  4.0  275.0  0.982206  0.743935  0.995444  0.007872  0.022629   \n",
       "650.0  15.0  1.0   91.0  0.978723  0.851852  0.996848  0.014805  0.034026   \n",
       "675.0  29.0  1.0   65.0  0.970588  0.687500  0.990809  0.020340  0.047063   \n",
       "700.0  15.0  0.0   33.0  0.971429  0.680000  0.990857  0.027766  0.065320   \n",
       "725.0  17.0  1.0   52.0  0.963636  0.746479  0.990781  0.025015  0.051268   \n",
       "\n",
       "        TrigErr  \n",
       "name             \n",
       "641.0  0.002056  \n",
       "650.0  0.002310  \n",
       "675.0  0.006505  \n",
       "700.0  0.009079  \n",
       "725.0  0.006610  "
      ]
     },
     "execution_count": 144,
     "metadata": {},
     "output_type": "execute_result"
    }
   ],
   "source": [
    "triggers.head()"
   ]
  },
  {
   "cell_type": "code",
   "execution_count": 145,
   "metadata": {},
   "outputs": [],
   "source": [
    "triggers.to_csv(f'../outputs/{year}/tables/triggers{year}{\"_sys\" if sys_err else \"\"}.csv', float_format='%.4f')"
   ]
  },
  {
   "cell_type": "markdown",
   "metadata": {},
   "source": [
    "### Check triggers"
   ]
  },
  {
   "cell_type": "code",
   "execution_count": 146,
   "metadata": {},
   "outputs": [],
   "source": [
    "trig_data = pd.read_csv(f'../outputs/{year}/tables/triggers{year}.csv')"
   ]
  },
  {
   "cell_type": "code",
   "execution_count": 147,
   "metadata": {
    "scrolled": false
   },
   "outputs": [
    {
     "data": {
      "text/html": [
       "<div>\n",
       "<style scoped>\n",
       "    .dataframe tbody tr th:only-of-type {\n",
       "        vertical-align: middle;\n",
       "    }\n",
       "\n",
       "    .dataframe tbody tr th {\n",
       "        vertical-align: top;\n",
       "    }\n",
       "\n",
       "    .dataframe thead th {\n",
       "        text-align: right;\n",
       "    }\n",
       "</style>\n",
       "<table border=\"1\" class=\"dataframe\">\n",
       "  <thead>\n",
       "    <tr style=\"text-align: right;\">\n",
       "      <th></th>\n",
       "      <th>name</th>\n",
       "      <th>TF</th>\n",
       "      <th>CF</th>\n",
       "      <th>TC</th>\n",
       "      <th>eTF</th>\n",
       "      <th>eCF</th>\n",
       "      <th>TrigEff</th>\n",
       "      <th>vTF</th>\n",
       "      <th>vCF</th>\n",
       "      <th>TrigErr</th>\n",
       "    </tr>\n",
       "  </thead>\n",
       "  <tbody>\n",
       "    <tr>\n",
       "      <th>0</th>\n",
       "      <td>641.0</td>\n",
       "      <td>94.0</td>\n",
       "      <td>4.0</td>\n",
       "      <td>275.0</td>\n",
       "      <td>0.9822</td>\n",
       "      <td>0.7439</td>\n",
       "      <td>0.9954</td>\n",
       "      <td>0.0079</td>\n",
       "      <td>0.0226</td>\n",
       "      <td>0.0021</td>\n",
       "    </tr>\n",
       "    <tr>\n",
       "      <th>1</th>\n",
       "      <td>650.0</td>\n",
       "      <td>15.0</td>\n",
       "      <td>1.0</td>\n",
       "      <td>91.0</td>\n",
       "      <td>0.9787</td>\n",
       "      <td>0.8519</td>\n",
       "      <td>0.9968</td>\n",
       "      <td>0.0148</td>\n",
       "      <td>0.0340</td>\n",
       "      <td>0.0023</td>\n",
       "    </tr>\n",
       "    <tr>\n",
       "      <th>2</th>\n",
       "      <td>675.0</td>\n",
       "      <td>29.0</td>\n",
       "      <td>1.0</td>\n",
       "      <td>65.0</td>\n",
       "      <td>0.9706</td>\n",
       "      <td>0.6875</td>\n",
       "      <td>0.9908</td>\n",
       "      <td>0.0203</td>\n",
       "      <td>0.0471</td>\n",
       "      <td>0.0065</td>\n",
       "    </tr>\n",
       "    <tr>\n",
       "      <th>3</th>\n",
       "      <td>700.0</td>\n",
       "      <td>15.0</td>\n",
       "      <td>0.0</td>\n",
       "      <td>33.0</td>\n",
       "      <td>0.9714</td>\n",
       "      <td>0.6800</td>\n",
       "      <td>0.9909</td>\n",
       "      <td>0.0278</td>\n",
       "      <td>0.0653</td>\n",
       "      <td>0.0091</td>\n",
       "    </tr>\n",
       "    <tr>\n",
       "      <th>4</th>\n",
       "      <td>725.0</td>\n",
       "      <td>17.0</td>\n",
       "      <td>1.0</td>\n",
       "      <td>52.0</td>\n",
       "      <td>0.9636</td>\n",
       "      <td>0.7465</td>\n",
       "      <td>0.9908</td>\n",
       "      <td>0.0250</td>\n",
       "      <td>0.0513</td>\n",
       "      <td>0.0066</td>\n",
       "    </tr>\n",
       "  </tbody>\n",
       "</table>\n",
       "</div>"
      ],
      "text/plain": [
       "    name    TF   CF     TC     eTF     eCF  TrigEff     vTF     vCF  TrigErr\n",
       "0  641.0  94.0  4.0  275.0  0.9822  0.7439   0.9954  0.0079  0.0226   0.0021\n",
       "1  650.0  15.0  1.0   91.0  0.9787  0.8519   0.9968  0.0148  0.0340   0.0023\n",
       "2  675.0  29.0  1.0   65.0  0.9706  0.6875   0.9908  0.0203  0.0471   0.0065\n",
       "3  700.0  15.0  0.0   33.0  0.9714  0.6800   0.9909  0.0278  0.0653   0.0091\n",
       "4  725.0  17.0  1.0   52.0  0.9636  0.7465   0.9908  0.0250  0.0513   0.0066"
      ]
     },
     "execution_count": 147,
     "metadata": {},
     "output_type": "execute_result"
    }
   ],
   "source": [
    "trig_data.head()"
   ]
  },
  {
   "cell_type": "code",
   "execution_count": 148,
   "metadata": {},
   "outputs": [
    {
     "data": {
      "text/plain": [
       "<matplotlib.legend.Legend at 0x7f4b80b96390>"
      ]
     },
     "execution_count": 148,
     "metadata": {},
     "output_type": "execute_result"
    },
    {
     "data": {
      "image/png": "[encoded data removed]",
      "text/plain": [
       "<Figure size 1152x648 with 1 Axes>"
      ]
     },
     "metadata": {},
     "output_type": "display_data"
    }
   ],
   "source": [
    "plt.errorbar(data=trig_data, x='name', y='eTF', yerr='vTF', fmt='o', label='TF')\n",
    "plt.errorbar(data=trig_data, x='name', y='eCF', yerr='vCF', fmt='o', label='CF');\n",
    "plt.errorbar(data=trig_data, x='name', y='TrigEff', yerr='TrigErr', fmt='o', label='All');\n",
    "plt.grid(linestyle=':')\n",
    "plt.ylim(0, 1.1)\n",
    "plt.title(f'Trigger efficiency 20{year}');\n",
    "plt.xlabel('Energy, MeV');\n",
    "plt.ylabel('$\\\\varepsilon(trig)$')\n",
    "plt.legend(frameon=True)"
   ]
  },
  {
   "cell_type": "code",
   "execution_count": null,
   "metadata": {},
   "outputs": [],
   "source": []
  },
  {
   "cell_type": "code",
   "execution_count": null,
   "metadata": {},
   "outputs": [],
   "source": []
  }
 ],
 "metadata": {
  "kernelspec": {
   "display_name": "Python 3",
   "language": "python",
   "name": "python3"
  },
  "language_info": {
   "codemirror_mode": {
    "name": "ipython",
    "version": 3
   },
   "file_extension": ".py",
   "mimetype": "text/x-python",
   "name": "python",
   "nbconvert_exporter": "python",
   "pygments_lexer": "ipython3",
   "version": "3.7.6"
  }
 },
 "nbformat": 4,
 "nbformat_minor": 2
}
