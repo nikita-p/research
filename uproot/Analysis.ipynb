{
 "cells": [
  {
   "cell_type": "markdown",
   "metadata": {},
   "source": [
    "# Analysis"
   ]
  },
  {
   "cell_type": "code",
   "execution_count": 1,
   "metadata": {},
   "outputs": [],
   "source": [
    "import uproot\n",
    "import numpy as np\n",
    "import pandas as pd\n",
    "import matplotlib.pyplot as plt\n",
    "import seaborn as sns\n",
    "import re\n",
    "%matplotlib inline"
   ]
  },
  {
   "cell_type": "code",
   "execution_count": 2,
   "metadata": {},
   "outputs": [],
   "source": [
    "sns.set(rc={'figure.figsize':(10,7)})\n",
    "plt.style.use('seaborn-whitegrid')"
   ]
  },
  {
   "cell_type": "code",
   "execution_count": 3,
   "metadata": {},
   "outputs": [],
   "source": [
    "year = '19'"
   ]
  },
  {
   "cell_type": "markdown",
   "metadata": {},
   "source": [
    "## Data preparation"
   ]
  },
  {
   "cell_type": "code",
   "execution_count": 39,
   "metadata": {},
   "outputs": [],
   "source": [
    "f = uproot.pandas.iterate(\"../outputs/\"+year+\"/trees/*.root\", \"t\", reportpath = True,\n",
    "                          branches=['beam_energy', 'mass', 'trigger', 'procedure'])"
   ]
  },
  {
   "cell_type": "code",
   "execution_count": 40,
   "metadata": {},
   "outputs": [],
   "source": [
    "dataRAW = pd.concat([j.assign(name=float(re.findall(r\"\\d+\\.\\d+\", path)[0])) for path,j in f])"
   ]
  },
  {
   "cell_type": "code",
   "execution_count": 41,
   "metadata": {},
   "outputs": [],
   "source": [
    "dataRAW.sort_values(by='name', ascending=True, inplace=True);"
   ]
  },
  {
   "cell_type": "markdown",
   "metadata": {},
   "source": [
    "Количество уникальных `name` в `data` должно совпадать с количеством точек в сезоне\n",
    "* 17 год: 34 точки\n",
    "* 19 год: 44 точки"
   ]
  },
  {
   "cell_type": "code",
   "execution_count": 42,
   "metadata": {},
   "outputs": [
    {
     "name": "stdout",
     "output_type": "stream",
     "text": [
      "Checking: 44 different names in 19 season\n"
     ]
    }
   ],
   "source": [
    "print(\"Checking:\", len(dataRAW.name.unique()), 'different names in', year, 'season')"
   ]
  },
  {
   "cell_type": "markdown",
   "metadata": {},
   "source": [
    "Проверка типов полей датафрейма"
   ]
  },
  {
   "cell_type": "code",
   "execution_count": 43,
   "metadata": {},
   "outputs": [
    {
     "data": {
      "text/plain": [
       "beam_energy    float64\n",
       "mass           float64\n",
       "trigger          int32\n",
       "procedure        int32\n",
       "name           float64\n",
       "dtype: object"
      ]
     },
     "execution_count": 43,
     "metadata": {},
     "output_type": "execute_result"
    }
   ],
   "source": [
    "dataRAW.dtypes"
   ]
  },
  {
   "cell_type": "markdown",
   "metadata": {},
   "source": [
    "Проверка данных"
   ]
  },
  {
   "cell_type": "code",
   "execution_count": 44,
   "metadata": {},
   "outputs": [
    {
     "data": {
      "text/html": [
       "<div>\n",
       "<style scoped>\n",
       "    .dataframe tbody tr th:only-of-type {\n",
       "        vertical-align: middle;\n",
       "    }\n",
       "\n",
       "    .dataframe tbody tr th {\n",
       "        vertical-align: top;\n",
       "    }\n",
       "\n",
       "    .dataframe thead th {\n",
       "        text-align: right;\n",
       "    }\n",
       "</style>\n",
       "<table border=\"1\" class=\"dataframe\">\n",
       "  <thead>\n",
       "    <tr style=\"text-align: right;\">\n",
       "      <th></th>\n",
       "      <th>beam_energy</th>\n",
       "      <th>mass</th>\n",
       "      <th>trigger</th>\n",
       "      <th>procedure</th>\n",
       "      <th>name</th>\n",
       "    </tr>\n",
       "  </thead>\n",
       "  <tbody>\n",
       "    <tr>\n",
       "      <td>count</td>\n",
       "      <td>11694.000000</td>\n",
       "      <td>11694.000000</td>\n",
       "      <td>11694.000000</td>\n",
       "      <td>11694.00000</td>\n",
       "      <td>11694.000000</td>\n",
       "    </tr>\n",
       "    <tr>\n",
       "      <td>mean</td>\n",
       "      <td>651.900716</td>\n",
       "      <td>459.723651</td>\n",
       "      <td>1.689499</td>\n",
       "      <td>2.19805</td>\n",
       "      <td>652.055208</td>\n",
       "    </tr>\n",
       "    <tr>\n",
       "      <td>std</td>\n",
       "      <td>127.437707</td>\n",
       "      <td>133.473930</td>\n",
       "      <td>0.683433</td>\n",
       "      <td>0.55896</td>\n",
       "      <td>127.402987</td>\n",
       "    </tr>\n",
       "    <tr>\n",
       "      <td>min</td>\n",
       "      <td>537.454102</td>\n",
       "      <td>-1.000000</td>\n",
       "      <td>-1.000000</td>\n",
       "      <td>1.00000</td>\n",
       "      <td>537.500000</td>\n",
       "    </tr>\n",
       "    <tr>\n",
       "      <td>25%</td>\n",
       "      <td>549.341187</td>\n",
       "      <td>491.805504</td>\n",
       "      <td>2.000000</td>\n",
       "      <td>2.00000</td>\n",
       "      <td>550.000000</td>\n",
       "    </tr>\n",
       "    <tr>\n",
       "      <td>50%</td>\n",
       "      <td>599.889893</td>\n",
       "      <td>496.599579</td>\n",
       "      <td>2.000000</td>\n",
       "      <td>2.00000</td>\n",
       "      <td>600.000000</td>\n",
       "    </tr>\n",
       "    <tr>\n",
       "      <td>75%</td>\n",
       "      <td>762.798401</td>\n",
       "      <td>500.710320</td>\n",
       "      <td>2.000000</td>\n",
       "      <td>3.00000</td>\n",
       "      <td>762.000000</td>\n",
       "    </tr>\n",
       "    <tr>\n",
       "      <td>max</td>\n",
       "      <td>987.804626</td>\n",
       "      <td>577.373352</td>\n",
       "      <td>2.000000</td>\n",
       "      <td>3.00000</td>\n",
       "      <td>987.500000</td>\n",
       "    </tr>\n",
       "  </tbody>\n",
       "</table>\n",
       "</div>"
      ],
      "text/plain": [
       "        beam_energy          mass       trigger    procedure          name\n",
       "count  11694.000000  11694.000000  11694.000000  11694.00000  11694.000000\n",
       "mean     651.900716    459.723651      1.689499      2.19805    652.055208\n",
       "std      127.437707    133.473930      0.683433      0.55896    127.402987\n",
       "min      537.454102     -1.000000     -1.000000      1.00000    537.500000\n",
       "25%      549.341187    491.805504      2.000000      2.00000    550.000000\n",
       "50%      599.889893    496.599579      2.000000      2.00000    600.000000\n",
       "75%      762.798401    500.710320      2.000000      3.00000    762.000000\n",
       "max      987.804626    577.373352      2.000000      3.00000    987.500000"
      ]
     },
     "execution_count": 44,
     "metadata": {},
     "output_type": "execute_result"
    }
   ],
   "source": [
    "dataRAW.describe()"
   ]
  },
  {
   "cell_type": "markdown",
   "metadata": {},
   "source": [
    "Проверить триггер"
   ]
  },
  {
   "cell_type": "code",
   "execution_count": 45,
   "metadata": {},
   "outputs": [
    {
     "name": "stdout",
     "output_type": "stream",
     "text": [
      "Energy points with bad trigger:\n",
      " 837.5    2\n",
      "812.5    2\n",
      "775.0    2\n",
      "737.5    2\n",
      "662.5    2\n",
      "637.5    2\n",
      "925.0    1\n",
      "887.5    1\n",
      "875.0    1\n",
      "850.0    1\n",
      "800.0    1\n",
      "750.0    1\n",
      "725.0    1\n",
      "550.0    1\n",
      "Name: name, dtype: int64\n"
     ]
    }
   ],
   "source": [
    "bad_trig = dataRAW.query('trigger<0')\n",
    "print('Energy points with bad trigger:\\n', bad_trig.name.value_counts())"
   ]
  },
  {
   "cell_type": "markdown",
   "metadata": {},
   "source": [
    "Проверить энергии"
   ]
  },
  {
   "cell_type": "code",
   "execution_count": 46,
   "metadata": {},
   "outputs": [
    {
     "name": "stdout",
     "output_type": "stream",
     "text": [
      "Bad energy records: 0\n"
     ]
    }
   ],
   "source": [
    "bad_en = dataRAW.query('beam_energy<0')\n",
    "print('Bad energy records:', bad_en.name.shape[0])"
   ]
  },
  {
   "cell_type": "markdown",
   "metadata": {},
   "source": [
    "Удалить события с плохим триггером и энергиями (не в моделировании)"
   ]
  },
  {
   "cell_type": "code",
   "execution_count": 47,
   "metadata": {},
   "outputs": [],
   "source": [
    "data = dataRAW if 'model' in year else dataRAW.query('trigger>-1&beam_energy>0')"
   ]
  },
  {
   "cell_type": "markdown",
   "metadata": {},
   "source": [
    "Оставить только массы внутри окна (450,550) и без процедуры kinfit"
   ]
  },
  {
   "cell_type": "code",
   "execution_count": 48,
   "metadata": {},
   "outputs": [],
   "source": [
    "data = data.query('mass>450&mass<550&procedure!=1')"
   ]
  },
  {
   "cell_type": "code",
   "execution_count": 49,
   "metadata": {},
   "outputs": [
    {
     "name": "stdout",
     "output_type": "stream",
     "text": [
      "10580 records left\n"
     ]
    }
   ],
   "source": [
    "print(data.shape[0], 'records left')"
   ]
  },
  {
   "cell_type": "markdown",
   "metadata": {},
   "source": [
    "Удалить ненужные столбцы"
   ]
  },
  {
   "cell_type": "code",
   "execution_count": 50,
   "metadata": {},
   "outputs": [],
   "source": [
    "data.drop(['procedure'], axis=1, inplace=True)"
   ]
  },
  {
   "cell_type": "code",
   "execution_count": 51,
   "metadata": {},
   "outputs": [
    {
     "data": {
      "text/html": [
       "<div>\n",
       "<style scoped>\n",
       "    .dataframe tbody tr th:only-of-type {\n",
       "        vertical-align: middle;\n",
       "    }\n",
       "\n",
       "    .dataframe tbody tr th {\n",
       "        vertical-align: top;\n",
       "    }\n",
       "\n",
       "    .dataframe thead th {\n",
       "        text-align: right;\n",
       "    }\n",
       "</style>\n",
       "<table border=\"1\" class=\"dataframe\">\n",
       "  <thead>\n",
       "    <tr style=\"text-align: right;\">\n",
       "      <th></th>\n",
       "      <th>beam_energy</th>\n",
       "      <th>mass</th>\n",
       "      <th>trigger</th>\n",
       "      <th>name</th>\n",
       "    </tr>\n",
       "  </thead>\n",
       "  <tbody>\n",
       "    <tr>\n",
       "      <td>0</td>\n",
       "      <td>537.454102</td>\n",
       "      <td>496.262360</td>\n",
       "      <td>2</td>\n",
       "      <td>537.5</td>\n",
       "    </tr>\n",
       "    <tr>\n",
       "      <td>1379</td>\n",
       "      <td>537.454102</td>\n",
       "      <td>497.135071</td>\n",
       "      <td>2</td>\n",
       "      <td>537.5</td>\n",
       "    </tr>\n",
       "    <tr>\n",
       "      <td>1378</td>\n",
       "      <td>537.454102</td>\n",
       "      <td>496.744629</td>\n",
       "      <td>2</td>\n",
       "      <td>537.5</td>\n",
       "    </tr>\n",
       "    <tr>\n",
       "      <td>1377</td>\n",
       "      <td>537.454102</td>\n",
       "      <td>497.835114</td>\n",
       "      <td>0</td>\n",
       "      <td>537.5</td>\n",
       "    </tr>\n",
       "    <tr>\n",
       "      <td>1376</td>\n",
       "      <td>537.454102</td>\n",
       "      <td>494.808807</td>\n",
       "      <td>2</td>\n",
       "      <td>537.5</td>\n",
       "    </tr>\n",
       "  </tbody>\n",
       "</table>\n",
       "</div>"
      ],
      "text/plain": [
       "      beam_energy        mass  trigger   name\n",
       "0      537.454102  496.262360        2  537.5\n",
       "1379   537.454102  497.135071        2  537.5\n",
       "1378   537.454102  496.744629        2  537.5\n",
       "1377   537.454102  497.835114        0  537.5\n",
       "1376   537.454102  494.808807        2  537.5"
      ]
     },
     "execution_count": 51,
     "metadata": {},
     "output_type": "execute_result"
    }
   ],
   "source": [
    "data.head()"
   ]
  },
  {
   "cell_type": "markdown",
   "metadata": {},
   "source": [
    "Добавить светимости"
   ]
  },
  {
   "cell_type": "code",
   "execution_count": 68,
   "metadata": {},
   "outputs": [],
   "source": [
    "lum = pd.read_csv(f'../inputs/{year}/lum.dat')\n",
    "lum.rename({'label': 'name'}, axis=1, inplace=True)\n",
    "if 'err' in lum.columns:\n",
    "    lum.drop(['err'], axis=1, inplace=True) #ошибка светимостей уходит в систематику\n",
    "    \n",
    "lum = lum.sort_values(by='name')"
   ]
  },
  {
   "cell_type": "code",
   "execution_count": 90,
   "metadata": {},
   "outputs": [
    {
     "data": {
      "text/html": [
       "<div>\n",
       "<style scoped>\n",
       "    .dataframe tbody tr th:only-of-type {\n",
       "        vertical-align: middle;\n",
       "    }\n",
       "\n",
       "    .dataframe tbody tr th {\n",
       "        vertical-align: top;\n",
       "    }\n",
       "\n",
       "    .dataframe thead th {\n",
       "        text-align: right;\n",
       "    }\n",
       "</style>\n",
       "<table border=\"1\" class=\"dataframe\">\n",
       "  <thead>\n",
       "    <tr style=\"text-align: right;\">\n",
       "      <th></th>\n",
       "      <th>name</th>\n",
       "      <th>lum</th>\n",
       "    </tr>\n",
       "  </thead>\n",
       "  <tbody>\n",
       "    <tr>\n",
       "      <td>39</td>\n",
       "      <td>955.0</td>\n",
       "      <td>1254.610</td>\n",
       "    </tr>\n",
       "    <tr>\n",
       "      <td>35</td>\n",
       "      <td>962.5</td>\n",
       "      <td>2004.700</td>\n",
       "    </tr>\n",
       "    <tr>\n",
       "      <td>37</td>\n",
       "      <td>975.0</td>\n",
       "      <td>3972.320</td>\n",
       "    </tr>\n",
       "    <tr>\n",
       "      <td>36</td>\n",
       "      <td>978.0</td>\n",
       "      <td>451.273</td>\n",
       "    </tr>\n",
       "    <tr>\n",
       "      <td>38</td>\n",
       "      <td>987.5</td>\n",
       "      <td>2272.430</td>\n",
       "    </tr>\n",
       "  </tbody>\n",
       "</table>\n",
       "</div>"
      ],
      "text/plain": [
       "     name       lum\n",
       "39  955.0  1254.610\n",
       "35  962.5  2004.700\n",
       "37  975.0  3972.320\n",
       "36  978.0   451.273\n",
       "38  987.5  2272.430"
      ]
     },
     "execution_count": 90,
     "metadata": {},
     "output_type": "execute_result"
    }
   ],
   "source": [
    "lum.tail()"
   ]
  },
  {
   "cell_type": "markdown",
   "metadata": {},
   "source": [
    "Проверить данные (хорошо, если числа совпадают)\n",
    "\n",
    "Если не совпадают, то проверить светимости на дубликаты"
   ]
  },
  {
   "cell_type": "code",
   "execution_count": 70,
   "metadata": {},
   "outputs": [
    {
     "name": "stdout",
     "output_type": "stream",
     "text": [
      "Records in  lum: 44\n",
      "Records in data: 44\n"
     ]
    }
   ],
   "source": [
    "print('Records in  lum:', lum.shape[0])\n",
    "print('Records in data:', data.name.unique().shape[0])"
   ]
  },
  {
   "cell_type": "markdown",
   "metadata": {},
   "source": [
    "Объединить данные и светимость"
   ]
  },
  {
   "cell_type": "code",
   "execution_count": 329,
   "metadata": {},
   "outputs": [],
   "source": [
    "data_prep = lum.merge(data, on='name')"
   ]
  },
  {
   "cell_type": "code",
   "execution_count": 330,
   "metadata": {},
   "outputs": [],
   "source": [
    "def check_foo(data1, data2):\n",
    "    if(data1.shape[0] == data2.shape[0]):\n",
    "        print(\"Good.\", data1.shape[0], 'rows' )\n",
    "    else:\n",
    "        print(\"WARNING. frames haven't equal shape |\", data1.shape[0], 'vs', data2.shape[0], 'records')\n",
    "    return"
   ]
  },
  {
   "cell_type": "code",
   "execution_count": 331,
   "metadata": {},
   "outputs": [
    {
     "name": "stdout",
     "output_type": "stream",
     "text": [
      "Good. 10580 rows\n"
     ]
    }
   ],
   "source": [
    "check_foo(data_prep, data)"
   ]
  },
  {
   "cell_type": "markdown",
   "metadata": {},
   "source": [
    "Смотрим, в каких именно точках не совпадают `data` и `lum`"
   ]
  },
  {
   "cell_type": "code",
   "execution_count": 332,
   "metadata": {},
   "outputs": [
    {
     "data": {
      "text/plain": [
       "set()"
      ]
     },
     "execution_count": 332,
     "metadata": {},
     "output_type": "execute_result"
    }
   ],
   "source": [
    "set1 = set(data.name.unique())\n",
    "set2 = set(lum.name.unique())\n",
    "\n",
    "(set1|set2).difference(set1&set2)"
   ]
  },
  {
   "cell_type": "markdown",
   "metadata": {},
   "source": [
    "### Pictures"
   ]
  },
  {
   "cell_type": "code",
   "execution_count": 333,
   "metadata": {},
   "outputs": [
    {
     "data": {
      "text/plain": [
       "<matplotlib.axes._subplots.AxesSubplot at 0x7fa264ffdf90>"
      ]
     },
     "execution_count": 333,
     "metadata": {},
     "output_type": "execute_result"
    },
    {
     "data": {
      "image/png": "[encoded data removed]",
      "text/plain": [
       "<Figure size 1152x648 with 1 Axes>"
      ]
     },
     "metadata": {},
     "output_type": "display_data"
    }
   ],
   "source": [
    "lum.plot(x='name', y='lum')"
   ]
  },
  {
   "cell_type": "code",
   "execution_count": 77,
   "metadata": {},
   "outputs": [
    {
     "data": {
      "text/plain": [
       "<matplotlib.axes._subplots.AxesSubplot at 0x7fa267d09710>"
      ]
     },
     "execution_count": 77,
     "metadata": {},
     "output_type": "execute_result"
    },
    {
     "data": {
      "image/png": "[encoded data removed]",
      "text/plain": [
       "<Figure size 720x504 with 1 Axes>"
      ]
     },
     "metadata": {},
     "output_type": "display_data"
    }
   ],
   "source": [
    "data_prep.groupby('name').agg({'mass':np.size}).plot()"
   ]
  },
  {
   "cell_type": "code",
   "execution_count": 337,
   "metadata": {
    "scrolled": true
   },
   "outputs": [
    {
     "data": {
      "text/html": [
       "<div>\n",
       "<style scoped>\n",
       "    .dataframe tbody tr th:only-of-type {\n",
       "        vertical-align: middle;\n",
       "    }\n",
       "\n",
       "    .dataframe tbody tr th {\n",
       "        vertical-align: top;\n",
       "    }\n",
       "\n",
       "    .dataframe thead th {\n",
       "        text-align: right;\n",
       "    }\n",
       "</style>\n",
       "<table border=\"1\" class=\"dataframe\">\n",
       "  <thead>\n",
       "    <tr style=\"text-align: right;\">\n",
       "      <th></th>\n",
       "      <th>mass</th>\n",
       "    </tr>\n",
       "    <tr>\n",
       "      <th>name</th>\n",
       "      <th></th>\n",
       "    </tr>\n",
       "  </thead>\n",
       "  <tbody>\n",
       "    <tr>\n",
       "      <td>537.5</td>\n",
       "      <td>2022.0</td>\n",
       "    </tr>\n",
       "    <tr>\n",
       "      <td>550.0</td>\n",
       "      <td>1405.0</td>\n",
       "    </tr>\n",
       "    <tr>\n",
       "      <td>550.1</td>\n",
       "      <td>454.0</td>\n",
       "    </tr>\n",
       "    <tr>\n",
       "      <td>562.5</td>\n",
       "      <td>687.0</td>\n",
       "    </tr>\n",
       "    <tr>\n",
       "      <td>575.0</td>\n",
       "      <td>525.0</td>\n",
       "    </tr>\n",
       "    <tr>\n",
       "      <td>587.5</td>\n",
       "      <td>388.0</td>\n",
       "    </tr>\n",
       "    <tr>\n",
       "      <td>600.0</td>\n",
       "      <td>282.0</td>\n",
       "    </tr>\n",
       "    <tr>\n",
       "      <td>612.5</td>\n",
       "      <td>196.0</td>\n",
       "    </tr>\n",
       "    <tr>\n",
       "      <td>612.6</td>\n",
       "      <td>265.0</td>\n",
       "    </tr>\n",
       "    <tr>\n",
       "      <td>625.0</td>\n",
       "      <td>200.0</td>\n",
       "    </tr>\n",
       "    <tr>\n",
       "      <td>637.5</td>\n",
       "      <td>126.0</td>\n",
       "    </tr>\n",
       "    <tr>\n",
       "      <td>641.0</td>\n",
       "      <td>863.0</td>\n",
       "    </tr>\n",
       "    <tr>\n",
       "      <td>650.0</td>\n",
       "      <td>104.0</td>\n",
       "    </tr>\n",
       "    <tr>\n",
       "      <td>662.5</td>\n",
       "      <td>113.0</td>\n",
       "    </tr>\n",
       "    <tr>\n",
       "      <td>675.0</td>\n",
       "      <td>96.0</td>\n",
       "    </tr>\n",
       "    <tr>\n",
       "      <td>687.5</td>\n",
       "      <td>88.0</td>\n",
       "    </tr>\n",
       "    <tr>\n",
       "      <td>700.0</td>\n",
       "      <td>51.0</td>\n",
       "    </tr>\n",
       "    <tr>\n",
       "      <td>712.5</td>\n",
       "      <td>73.0</td>\n",
       "    </tr>\n",
       "    <tr>\n",
       "      <td>725.0</td>\n",
       "      <td>74.0</td>\n",
       "    </tr>\n",
       "    <tr>\n",
       "      <td>737.5</td>\n",
       "      <td>68.0</td>\n",
       "    </tr>\n",
       "    <tr>\n",
       "      <td>750.0</td>\n",
       "      <td>121.0</td>\n",
       "    </tr>\n",
       "    <tr>\n",
       "      <td>762.0</td>\n",
       "      <td>177.0</td>\n",
       "    </tr>\n",
       "    <tr>\n",
       "      <td>775.0</td>\n",
       "      <td>139.0</td>\n",
       "    </tr>\n",
       "    <tr>\n",
       "      <td>787.5</td>\n",
       "      <td>229.0</td>\n",
       "    </tr>\n",
       "    <tr>\n",
       "      <td>800.0</td>\n",
       "      <td>302.0</td>\n",
       "    </tr>\n",
       "    <tr>\n",
       "      <td>812.5</td>\n",
       "      <td>420.0</td>\n",
       "    </tr>\n",
       "    <tr>\n",
       "      <td>825.0</td>\n",
       "      <td>306.0</td>\n",
       "    </tr>\n",
       "    <tr>\n",
       "      <td>837.5</td>\n",
       "      <td>154.0</td>\n",
       "    </tr>\n",
       "    <tr>\n",
       "      <td>850.0</td>\n",
       "      <td>92.0</td>\n",
       "    </tr>\n",
       "    <tr>\n",
       "      <td>862.5</td>\n",
       "      <td>45.0</td>\n",
       "    </tr>\n",
       "    <tr>\n",
       "      <td>875.0</td>\n",
       "      <td>91.0</td>\n",
       "    </tr>\n",
       "    <tr>\n",
       "      <td>912.5</td>\n",
       "      <td>20.0</td>\n",
       "    </tr>\n",
       "    <tr>\n",
       "      <td>925.0</td>\n",
       "      <td>20.0</td>\n",
       "    </tr>\n",
       "    <tr>\n",
       "      <td>936.0</td>\n",
       "      <td>41.0</td>\n",
       "    </tr>\n",
       "    <tr>\n",
       "      <td>950.0</td>\n",
       "      <td>126.0</td>\n",
       "    </tr>\n",
       "    <tr>\n",
       "      <td>960.0</td>\n",
       "      <td>70.0</td>\n",
       "    </tr>\n",
       "    <tr>\n",
       "      <td>975.0</td>\n",
       "      <td>85.0</td>\n",
       "    </tr>\n",
       "    <tr>\n",
       "      <td>980.0</td>\n",
       "      <td>62.0</td>\n",
       "    </tr>\n",
       "  </tbody>\n",
       "</table>\n",
       "</div>"
      ],
      "text/plain": [
       "         mass\n",
       "name         \n",
       "537.5  2022.0\n",
       "550.0  1405.0\n",
       "550.1   454.0\n",
       "562.5   687.0\n",
       "575.0   525.0\n",
       "587.5   388.0\n",
       "600.0   282.0\n",
       "612.5   196.0\n",
       "612.6   265.0\n",
       "625.0   200.0\n",
       "637.5   126.0\n",
       "641.0   863.0\n",
       "650.0   104.0\n",
       "662.5   113.0\n",
       "675.0    96.0\n",
       "687.5    88.0\n",
       "700.0    51.0\n",
       "712.5    73.0\n",
       "725.0    74.0\n",
       "737.5    68.0\n",
       "750.0   121.0\n",
       "762.0   177.0\n",
       "775.0   139.0\n",
       "787.5   229.0\n",
       "800.0   302.0\n",
       "812.5   420.0\n",
       "825.0   306.0\n",
       "837.5   154.0\n",
       "850.0    92.0\n",
       "862.5    45.0\n",
       "875.0    91.0\n",
       "912.5    20.0\n",
       "925.0    20.0\n",
       "936.0    41.0\n",
       "950.0   126.0\n",
       "960.0    70.0\n",
       "975.0    85.0\n",
       "980.0    62.0"
      ]
     },
     "execution_count": 337,
     "metadata": {},
     "output_type": "execute_result"
    }
   ],
   "source": [
    "data_prep.groupby('name').agg({'mass':np.size})"
   ]
  },
  {
   "cell_type": "markdown",
   "metadata": {},
   "source": [
    "Слияние точек"
   ]
  },
  {
   "cell_type": "code",
   "execution_count": 335,
   "metadata": {},
   "outputs": [],
   "source": [
    "cnct = []\n",
    "if year=='11':\n",
    "    cnct = [([875., 887.5], 880), ([900., 912.5, 925.], 910), ([935., 945., 950., 962.5, 975., 987.5, 1000.], 950)] #11year\n",
    "if year=='12':\n",
    "    cnct = [([900., 920., 936., 950., 960., 970., 980., 990], 960)] #12 year\n",
    "if year=='17':\n",
    "    cnct = [([880., 890., 900., 910.], 900), ([920., 930., 936., 937.5], 935), \n",
    "            ([942., 950., 960., 971.], 960), ([981., 990, 1003.5],990)] #17 year\n",
    "if year=='19':\n",
    "    cnct = [([875.0, 887.5, 900.0], 875),([945.0, 950.0, 951.1], 950),\n",
    "            ([955.0, 962.5], 960),([978.0, 987.5], 980)] #19year"
   ]
  },
  {
   "cell_type": "code",
   "execution_count": 336,
   "metadata": {},
   "outputs": [],
   "source": [
    "for c in cnct:\n",
    "    data_prep.name.replace(c[0], c[1], inplace=True)"
   ]
  },
  {
   "cell_type": "markdown",
   "metadata": {},
   "source": [
    "OK, points have been merged"
   ]
  },
  {
   "cell_type": "code",
   "execution_count": 338,
   "metadata": {},
   "outputs": [
    {
     "data": {
      "text/html": [
       "<div>\n",
       "<style scoped>\n",
       "    .dataframe tbody tr th:only-of-type {\n",
       "        vertical-align: middle;\n",
       "    }\n",
       "\n",
       "    .dataframe tbody tr th {\n",
       "        vertical-align: top;\n",
       "    }\n",
       "\n",
       "    .dataframe thead th {\n",
       "        text-align: right;\n",
       "    }\n",
       "</style>\n",
       "<table border=\"1\" class=\"dataframe\">\n",
       "  <thead>\n",
       "    <tr style=\"text-align: right;\">\n",
       "      <th></th>\n",
       "      <th>name</th>\n",
       "      <th>lum</th>\n",
       "      <th>beam_energy</th>\n",
       "      <th>mass</th>\n",
       "      <th>trigger</th>\n",
       "    </tr>\n",
       "  </thead>\n",
       "  <tbody>\n",
       "    <tr>\n",
       "      <td>10575</td>\n",
       "      <td>980.0</td>\n",
       "      <td>2272.43</td>\n",
       "      <td>987.804626</td>\n",
       "      <td>506.214813</td>\n",
       "      <td>2</td>\n",
       "    </tr>\n",
       "    <tr>\n",
       "      <td>10576</td>\n",
       "      <td>980.0</td>\n",
       "      <td>2272.43</td>\n",
       "      <td>987.804626</td>\n",
       "      <td>497.718781</td>\n",
       "      <td>2</td>\n",
       "    </tr>\n",
       "    <tr>\n",
       "      <td>10577</td>\n",
       "      <td>980.0</td>\n",
       "      <td>2272.43</td>\n",
       "      <td>987.804626</td>\n",
       "      <td>500.018402</td>\n",
       "      <td>2</td>\n",
       "    </tr>\n",
       "    <tr>\n",
       "      <td>10578</td>\n",
       "      <td>980.0</td>\n",
       "      <td>2272.43</td>\n",
       "      <td>987.804626</td>\n",
       "      <td>505.620728</td>\n",
       "      <td>2</td>\n",
       "    </tr>\n",
       "    <tr>\n",
       "      <td>10579</td>\n",
       "      <td>980.0</td>\n",
       "      <td>2272.43</td>\n",
       "      <td>987.804626</td>\n",
       "      <td>485.108856</td>\n",
       "      <td>2</td>\n",
       "    </tr>\n",
       "  </tbody>\n",
       "</table>\n",
       "</div>"
      ],
      "text/plain": [
       "        name      lum  beam_energy        mass  trigger\n",
       "10575  980.0  2272.43   987.804626  506.214813        2\n",
       "10576  980.0  2272.43   987.804626  497.718781        2\n",
       "10577  980.0  2272.43   987.804626  500.018402        2\n",
       "10578  980.0  2272.43   987.804626  505.620728        2\n",
       "10579  980.0  2272.43   987.804626  485.108856        2"
      ]
     },
     "execution_count": 338,
     "metadata": {},
     "output_type": "execute_result"
    }
   ],
   "source": [
    "data_prep.tail()"
   ]
  },
  {
   "cell_type": "code",
   "execution_count": 339,
   "metadata": {},
   "outputs": [
    {
     "name": "stdout",
     "output_type": "stream",
     "text": [
      "Good. 10580 rows\n"
     ]
    }
   ],
   "source": [
    "check_foo(data_prep, data)"
   ]
  },
  {
   "cell_type": "markdown",
   "metadata": {},
   "source": [
    "### Пересчитать светимости в слитых точках"
   ]
  },
  {
   "cell_type": "code",
   "execution_count": 340,
   "metadata": {},
   "outputs": [],
   "source": [
    "data_prep['lume'] = data_prep.beam_energy*data_prep.lum"
   ]
  },
  {
   "cell_type": "markdown",
   "metadata": {},
   "source": [
    "Проверить правильность слияния"
   ]
  },
  {
   "cell_type": "code",
   "execution_count": 341,
   "metadata": {},
   "outputs": [
    {
     "data": {
      "text/html": [
       "<div>\n",
       "<style scoped>\n",
       "    .dataframe tbody tr th:only-of-type {\n",
       "        vertical-align: middle;\n",
       "    }\n",
       "\n",
       "    .dataframe tbody tr th {\n",
       "        vertical-align: top;\n",
       "    }\n",
       "\n",
       "    .dataframe thead th {\n",
       "        text-align: right;\n",
       "    }\n",
       "</style>\n",
       "<table border=\"1\" class=\"dataframe\">\n",
       "  <thead>\n",
       "    <tr style=\"text-align: right;\">\n",
       "      <th></th>\n",
       "      <th>lum</th>\n",
       "    </tr>\n",
       "    <tr>\n",
       "      <th>name</th>\n",
       "      <th></th>\n",
       "    </tr>\n",
       "  </thead>\n",
       "  <tbody>\n",
       "    <tr>\n",
       "      <td>875.0</td>\n",
       "      <td>3.0</td>\n",
       "    </tr>\n",
       "    <tr>\n",
       "      <td>950.0</td>\n",
       "      <td>3.0</td>\n",
       "    </tr>\n",
       "    <tr>\n",
       "      <td>960.0</td>\n",
       "      <td>2.0</td>\n",
       "    </tr>\n",
       "    <tr>\n",
       "      <td>980.0</td>\n",
       "      <td>2.0</td>\n",
       "    </tr>\n",
       "  </tbody>\n",
       "</table>\n",
       "</div>"
      ],
      "text/plain": [
       "       lum\n",
       "name      \n",
       "875.0  3.0\n",
       "950.0  3.0\n",
       "960.0  2.0\n",
       "980.0  2.0"
      ]
     },
     "execution_count": 341,
     "metadata": {},
     "output_type": "execute_result"
    }
   ],
   "source": [
    "#число в поле lum с количеством элементов в списке для слияния\n",
    "data_prep[['lum', 'name']].\\\n",
    "drop_duplicates(subset=['lum']).groupby('name').agg({'lum':np.size}).query('lum!=1')"
   ]
  },
  {
   "cell_type": "code",
   "execution_count": 342,
   "metadata": {},
   "outputs": [],
   "source": [
    "new_lum = data_prep[['beam_energy', 'lum', 'lume', 'name']].\\\n",
    "drop_duplicates(subset=['lum']).groupby('name').agg({'lume':[np.sum], 'lum':[np.sum], 'beam_energy':[np.min, np.max]})"
   ]
  },
  {
   "cell_type": "code",
   "execution_count": 343,
   "metadata": {},
   "outputs": [],
   "source": [
    "new_lum['Emean'] = np.round( new_lum[('lume','sum')]/new_lum[('lum','sum')], 2)"
   ]
  },
  {
   "cell_type": "code",
   "execution_count": 344,
   "metadata": {},
   "outputs": [],
   "source": [
    "new_lum.columns = ['lume', 'lum', 'dEmin', 'dEmax', 'Emean']\n",
    "new_lum.drop('lume', axis=1, inplace=True)\n",
    "new_lum['dEmax'] = np.abs( np.round( new_lum.dEmax-new_lum.Emean, 2) )\n",
    "new_lum['dEmin'] = np.abs( np.round( new_lum.Emean - new_lum.dEmin, 2) )"
   ]
  },
  {
   "cell_type": "code",
   "execution_count": 345,
   "metadata": {},
   "outputs": [],
   "source": [
    "#data.loc[641.].beam_energy.std()"
   ]
  },
  {
   "cell_type": "code",
   "execution_count": 346,
   "metadata": {},
   "outputs": [
    {
     "data": {
      "text/html": [
       "<div>\n",
       "<style scoped>\n",
       "    .dataframe tbody tr th:only-of-type {\n",
       "        vertical-align: middle;\n",
       "    }\n",
       "\n",
       "    .dataframe tbody tr th {\n",
       "        vertical-align: top;\n",
       "    }\n",
       "\n",
       "    .dataframe thead th {\n",
       "        text-align: right;\n",
       "    }\n",
       "</style>\n",
       "<table border=\"1\" class=\"dataframe\">\n",
       "  <thead>\n",
       "    <tr style=\"text-align: right;\">\n",
       "      <th></th>\n",
       "      <th>lum</th>\n",
       "      <th>dEmin</th>\n",
       "      <th>dEmax</th>\n",
       "      <th>Emean</th>\n",
       "    </tr>\n",
       "    <tr>\n",
       "      <th>name</th>\n",
       "      <th></th>\n",
       "      <th></th>\n",
       "      <th></th>\n",
       "      <th></th>\n",
       "    </tr>\n",
       "  </thead>\n",
       "  <tbody>\n",
       "    <tr>\n",
       "      <td>875.0</td>\n",
       "      <td>3065.321</td>\n",
       "      <td>12.94</td>\n",
       "      <td>12.70</td>\n",
       "      <td>887.81</td>\n",
       "    </tr>\n",
       "    <tr>\n",
       "      <td>950.0</td>\n",
       "      <td>6400.550</td>\n",
       "      <td>3.70</td>\n",
       "      <td>2.51</td>\n",
       "      <td>948.53</td>\n",
       "    </tr>\n",
       "    <tr>\n",
       "      <td>960.0</td>\n",
       "      <td>3259.310</td>\n",
       "      <td>4.16</td>\n",
       "      <td>2.61</td>\n",
       "      <td>960.21</td>\n",
       "    </tr>\n",
       "    <tr>\n",
       "      <td>980.0</td>\n",
       "      <td>2723.703</td>\n",
       "      <td>9.67</td>\n",
       "      <td>1.92</td>\n",
       "      <td>985.88</td>\n",
       "    </tr>\n",
       "  </tbody>\n",
       "</table>\n",
       "</div>"
      ],
      "text/plain": [
       "            lum  dEmin  dEmax   Emean\n",
       "name                                 \n",
       "875.0  3065.321  12.94  12.70  887.81\n",
       "950.0  6400.550   3.70   2.51  948.53\n",
       "960.0  3259.310   4.16   2.61  960.21\n",
       "980.0  2723.703   9.67   1.92  985.88"
      ]
     },
     "execution_count": 346,
     "metadata": {},
     "output_type": "execute_result"
    }
   ],
   "source": [
    "new_lum.query('dEmin>0')"
   ]
  },
  {
   "cell_type": "markdown",
   "metadata": {},
   "source": [
    "I have got new luminosity table.\n",
    "\n",
    "Now I should join it to existing table"
   ]
  },
  {
   "cell_type": "code",
   "execution_count": 347,
   "metadata": {},
   "outputs": [],
   "source": [
    "data_prep.drop(['lume', 'lum', 'beam_energy'], axis=1, inplace=True)"
   ]
  },
  {
   "cell_type": "code",
   "execution_count": 348,
   "metadata": {},
   "outputs": [],
   "source": [
    "final_data = data_prep.join(new_lum, how='inner', on='name')"
   ]
  },
  {
   "cell_type": "code",
   "execution_count": 349,
   "metadata": {},
   "outputs": [
    {
     "name": "stdout",
     "output_type": "stream",
     "text": [
      "Good. 10580 rows\n"
     ]
    }
   ],
   "source": [
    "check_foo(final_data, data_prep)"
   ]
  },
  {
   "cell_type": "markdown",
   "metadata": {},
   "source": [
    "That is good. Now I should do the analysis"
   ]
  },
  {
   "cell_type": "code",
   "execution_count": 350,
   "metadata": {},
   "outputs": [
    {
     "data": {
      "text/html": [
       "<div>\n",
       "<style scoped>\n",
       "    .dataframe tbody tr th:only-of-type {\n",
       "        vertical-align: middle;\n",
       "    }\n",
       "\n",
       "    .dataframe tbody tr th {\n",
       "        vertical-align: top;\n",
       "    }\n",
       "\n",
       "    .dataframe thead th {\n",
       "        text-align: right;\n",
       "    }\n",
       "</style>\n",
       "<table border=\"1\" class=\"dataframe\">\n",
       "  <thead>\n",
       "    <tr style=\"text-align: right;\">\n",
       "      <th></th>\n",
       "      <th>name</th>\n",
       "      <th>mass</th>\n",
       "      <th>trigger</th>\n",
       "      <th>lum</th>\n",
       "      <th>dEmin</th>\n",
       "      <th>dEmax</th>\n",
       "      <th>Emean</th>\n",
       "    </tr>\n",
       "  </thead>\n",
       "  <tbody>\n",
       "    <tr>\n",
       "      <td>10575</td>\n",
       "      <td>980.0</td>\n",
       "      <td>506.214813</td>\n",
       "      <td>2</td>\n",
       "      <td>2723.703</td>\n",
       "      <td>9.67</td>\n",
       "      <td>1.92</td>\n",
       "      <td>985.88</td>\n",
       "    </tr>\n",
       "    <tr>\n",
       "      <td>10576</td>\n",
       "      <td>980.0</td>\n",
       "      <td>497.718781</td>\n",
       "      <td>2</td>\n",
       "      <td>2723.703</td>\n",
       "      <td>9.67</td>\n",
       "      <td>1.92</td>\n",
       "      <td>985.88</td>\n",
       "    </tr>\n",
       "    <tr>\n",
       "      <td>10577</td>\n",
       "      <td>980.0</td>\n",
       "      <td>500.018402</td>\n",
       "      <td>2</td>\n",
       "      <td>2723.703</td>\n",
       "      <td>9.67</td>\n",
       "      <td>1.92</td>\n",
       "      <td>985.88</td>\n",
       "    </tr>\n",
       "    <tr>\n",
       "      <td>10578</td>\n",
       "      <td>980.0</td>\n",
       "      <td>505.620728</td>\n",
       "      <td>2</td>\n",
       "      <td>2723.703</td>\n",
       "      <td>9.67</td>\n",
       "      <td>1.92</td>\n",
       "      <td>985.88</td>\n",
       "    </tr>\n",
       "    <tr>\n",
       "      <td>10579</td>\n",
       "      <td>980.0</td>\n",
       "      <td>485.108856</td>\n",
       "      <td>2</td>\n",
       "      <td>2723.703</td>\n",
       "      <td>9.67</td>\n",
       "      <td>1.92</td>\n",
       "      <td>985.88</td>\n",
       "    </tr>\n",
       "  </tbody>\n",
       "</table>\n",
       "</div>"
      ],
      "text/plain": [
       "        name        mass  trigger       lum  dEmin  dEmax   Emean\n",
       "10575  980.0  506.214813        2  2723.703   9.67   1.92  985.88\n",
       "10576  980.0  497.718781        2  2723.703   9.67   1.92  985.88\n",
       "10577  980.0  500.018402        2  2723.703   9.67   1.92  985.88\n",
       "10578  980.0  505.620728        2  2723.703   9.67   1.92  985.88\n",
       "10579  980.0  485.108856        2  2723.703   9.67   1.92  985.88"
      ]
     },
     "execution_count": 350,
     "metadata": {},
     "output_type": "execute_result"
    }
   ],
   "source": [
    "final_data.tail()"
   ]
  },
  {
   "cell_type": "markdown",
   "metadata": {},
   "source": [
    "----------------\n",
    "## Fit"
   ]
  },
  {
   "cell_type": "code",
   "execution_count": 351,
   "metadata": {},
   "outputs": [],
   "source": [
    "data2 = final_data.groupby('name')"
   ]
  },
  {
   "cell_type": "code",
   "execution_count": 352,
   "metadata": {},
   "outputs": [
    {
     "name": "stdout",
     "output_type": "stream",
     "text": [
      "537.5\n",
      "550.0\n",
      "550.1\n",
      "562.5\n",
      "575.0\n",
      "587.5\n",
      "600.0\n",
      "612.5\n",
      "612.6\n",
      "625.0\n",
      "637.5\n",
      "641.0\n",
      "650.0\n",
      "662.5\n",
      "675.0\n",
      "687.5\n",
      "700.0\n",
      "712.5\n",
      "725.0\n",
      "737.5\n",
      "750.0\n",
      "762.0\n",
      "775.0\n",
      "787.5\n",
      "800.0\n",
      "812.5\n",
      "825.0\n",
      "837.5\n",
      "850.0\n",
      "862.5\n",
      "875.0\n",
      "912.5\n",
      "925.0\n",
      "936.0\n",
      "950.0\n",
      "960.0\n",
      "975.0\n",
      "980.0\n"
     ]
    }
   ],
   "source": [
    "dic = {}\n",
    "for i in data2.groups:\n",
    "    print(i)\n",
    "    dic[i] = np.array( data2.get_group(i)['mass'] )"
   ]
  },
  {
   "cell_type": "code",
   "execution_count": 353,
   "metadata": {},
   "outputs": [],
   "source": [
    "import iminuit\n",
    "import probfit as pf"
   ]
  },
  {
   "cell_type": "code",
   "execution_count": 354,
   "metadata": {},
   "outputs": [],
   "source": [
    "plt.rcParams.update({'font.size': 18, 'figure.figsize':(16,9)})"
   ]
  },
  {
   "cell_type": "code",
   "execution_count": 355,
   "metadata": {},
   "outputs": [],
   "source": [
    "mass_bound = (450, 550)"
   ]
  },
  {
   "cell_type": "code",
   "execution_count": 392,
   "metadata": {},
   "outputs": [
    {
     "data": {
      "text/plain": [
       "['x', 'm', '$\\\\sigma$', '$N_{sig}$', '$N_{bkg}$']"
      ]
     },
     "execution_count": 392,
     "metadata": {},
     "output_type": "execute_result"
    }
   ],
   "source": [
    "def constant(x):\n",
    "    return 1\n",
    "norm_bkg = pf.Normalized( constant, mass_bound )\n",
    "norm_bkg = pf.Extended(norm_bkg, extname='$N_{bkg}$')\n",
    "\n",
    "gauss1 = pf.Extended(pf.rename(pf.gaussian, ['x', 'm', '$\\sigma$']), extname='$N_{sig}$')\n",
    "\n",
    "pdf = pf.AddPdf(gauss1, norm_bkg)\n",
    "pf.describe(pdf)"
   ]
  },
  {
   "cell_type": "code",
   "execution_count": 433,
   "metadata": {},
   "outputs": [],
   "source": [
    "# limits = {\"limit_m\": [490, 507], \"limit_$\\sigma$\": [9.1-1.7, 9.01+1.7],  \n",
    "limits = {\"limit_m\": [485, 503], \"limit_$\\sigma$\": [3, 11], \"limit_$\\sigma2$\": [1, 15], \n",
    "          \"limit_$N_{sig}$\": [1, 10000], \"limit_$N_{bkg}$\": [0, 1000]}\n",
    "errors = {\"error_m\": 1, \"error_$\\sigma$\": 0.1, \"error_$N_{sig}$\": 0.3, \"error_$N_{bkg}$\":0}"
   ]
  },
  {
   "cell_type": "code",
   "execution_count": 428,
   "metadata": {},
   "outputs": [],
   "source": [
    "def fitter(dic, nbins, binnedLik=False):\n",
    "    \n",
    "    norm_bkg = pf.Normalized( constant, mass_bound )\n",
    "    norm_bkg = pf.Extended(norm_bkg, extname='$N_{bkg}$')\n",
    "    norm_gauss = pf.AddPdf( pf.rename(pf.gaussian, ['x', 'm', '$\\sigma$']), pf.rename(pf.gaussian, ['x', 'm', '$\\sigma2$']))\n",
    "    norm_gauss = pf.Normalized(norm_gauss, mass_bound)\n",
    "    gauss1 = pf.Extended(norm_gauss, extname='$N_{sig}$')\n",
    "    pdf = pf.AddPdf(gauss1, norm_bkg)\n",
    "    \n",
    "    \n",
    "    likelihood = pf.UnbinnedLH(pdf, dic, extended=True, extended_bound=mass_bound) if not(binnedLik) else \\\n",
    "    pf.BinnedLH(pdf, dic, int(nbins*(mass_bound[1]-mass_bound[0])/100.), bound=mass_bound, extended=True)\n",
    "    \n",
    "    initial_par_values = {\"m\": 497.6, \"$\\sigma$\": 4.84, \"$N_{sig}$\": np.size(dic), \"$N_{bkg}$\": 1, \n",
    "                          \"$\\sigma2$\": 5.2}\n",
    "    mt = iminuit.Minuit(likelihood, **initial_par_values, **errors, **limits, pedantic=False)\n",
    "    mt.migrad();\n",
    "    if binnedLik:\n",
    "        likelihood.draw(minuit=mt)\n",
    "    else:\n",
    "        likelihood.draw(minuit=mt, bins=nbins, bound=mass_bound)\n",
    "    plt.tick_params(labelsize=20);\n",
    "    plt.xlabel('invariant mass, MeV', fontsize=20)\n",
    "    plt.ylabel('number of events', fontsize=20)\n",
    "    #plt.savefig('tutu.svg')\n",
    "    return mt, likelihood"
   ]
  },
  {
   "cell_type": "code",
   "execution_count": 359,
   "metadata": {},
   "outputs": [],
   "source": [
    "itr = iter(dic)"
   ]
  },
  {
   "cell_type": "code",
   "execution_count": 360,
   "metadata": {},
   "outputs": [],
   "source": [
    "fit_frame = pd.DataFrame(columns=[ 'M', 'S', 'N', 'C', 'Merr', 'Serr', 'Nerr', 'Cerr'])"
   ]
  },
  {
   "cell_type": "code",
   "execution_count": 419,
   "metadata": {
    "scrolled": true
   },
   "outputs": [
    {
     "name": "stdout",
     "output_type": "stream",
     "text": [
      "Label: 550.0\n"
     ]
    }
   ],
   "source": [
    "i = next(itr)\n",
    "print('Label:', i)"
   ]
  },
  {
   "cell_type": "code",
   "execution_count": 442,
   "metadata": {
    "scrolled": false
   },
   "outputs": [
    {
     "name": "stdout",
     "output_type": "stream",
     "text": [
      "Migrad quality: True\n",
      "Real: 1405 Found: 1340.3994023100672\n"
     ]
    },
    {
     "data": {
      "image/png": "[encoded data removed]",
      "text/plain": [
       "<Figure size 1152x648 with 1 Axes>"
      ]
     },
     "metadata": {},
     "output_type": "display_data"
    }
   ],
   "source": [
    "mass_bound = (450, 550)\n",
    "mt, lik = fitter(final_data.query('name==550.').mass.values, 200, False)#fitter(dic[i], 200, False)\n",
    "#fit_frame.loc[i] = mt.values.values() + mt.errors.values() \n",
    "print(\"Migrad quality:\", mt.migrad_ok())\n",
    "print( 'Real:', np.size(dic[i]), 'Found:', mt.values[2] + mt.values[3] )"
   ]
  },
  {
   "cell_type": "code",
   "execution_count": 408,
   "metadata": {},
   "outputs": [
    {
     "data": {
      "text/html": [
       "<div>\n",
       "<style scoped>\n",
       "    .dataframe tbody tr th:only-of-type {\n",
       "        vertical-align: middle;\n",
       "    }\n",
       "\n",
       "    .dataframe tbody tr th {\n",
       "        vertical-align: top;\n",
       "    }\n",
       "\n",
       "    .dataframe thead th {\n",
       "        text-align: right;\n",
       "    }\n",
       "</style>\n",
       "<table border=\"1\" class=\"dataframe\">\n",
       "  <thead>\n",
       "    <tr style=\"text-align: right;\">\n",
       "      <th></th>\n",
       "      <th>M</th>\n",
       "      <th>S</th>\n",
       "      <th>N</th>\n",
       "      <th>C</th>\n",
       "      <th>Merr</th>\n",
       "      <th>Serr</th>\n",
       "      <th>Nerr</th>\n",
       "      <th>Cerr</th>\n",
       "    </tr>\n",
       "  </thead>\n",
       "  <tbody>\n",
       "    <tr>\n",
       "      <td>537.5</td>\n",
       "      <td>497.022037</td>\n",
       "      <td>4.521223</td>\n",
       "      <td>1920.086413</td>\n",
       "      <td>101.90531</td>\n",
       "      <td>0.108047</td>\n",
       "      <td>0.092411</td>\n",
       "      <td>44.629657</td>\n",
       "      <td>13.175387</td>\n",
       "    </tr>\n",
       "  </tbody>\n",
       "</table>\n",
       "</div>"
      ],
      "text/plain": [
       "                M         S            N          C      Merr      Serr  \\\n",
       "537.5  497.022037  4.521223  1920.086413  101.90531  0.108047  0.092411   \n",
       "\n",
       "            Nerr       Cerr  \n",
       "537.5  44.629657  13.175387  "
      ]
     },
     "execution_count": 408,
     "metadata": {},
     "output_type": "execute_result"
    }
   ],
   "source": [
    "fit_frame"
   ]
  },
  {
   "cell_type": "code",
   "execution_count": 327,
   "metadata": {},
   "outputs": [
    {
     "data": {
      "image/png": "[encoded data removed]",
      "text/plain": [
       "<Figure size 1152x648 with 2 Axes>"
      ]
     },
     "metadata": {},
     "output_type": "display_data"
    }
   ],
   "source": [
    "plt.subplot(1, 2, 1)\n",
    "plt.errorbar(x=fit_frame.index, y=fit_frame.S, yerr=fit_frame.Serr, fmt='o')\n",
    "plt.xlabel('energy, MeV');\n",
    "plt.ylabel('$\\sigma$, MeV');\n",
    "plt.subplot(1, 2, 2)\n",
    "plt.errorbar(x=fit_frame.index, y=fit_frame.M, yerr=fit_frame.Merr, fmt='or')\n",
    "plt.xlabel('energy, MeV');\n",
    "plt.ylabel('$m$, MeV');"
   ]
  },
  {
   "cell_type": "markdown",
   "metadata": {},
   "source": [
    "### Some notes:\n",
    "none"
   ]
  },
  {
   "cell_type": "markdown",
   "metadata": {},
   "source": [
    "Save fit info"
   ]
  },
  {
   "cell_type": "code",
   "execution_count": 541,
   "metadata": {},
   "outputs": [],
   "source": [
    "fit_frame.to_csv(f'../outputs/{year}/tables/fit_frame.csv')"
   ]
  },
  {
   "cell_type": "code",
   "execution_count": 249,
   "metadata": {},
   "outputs": [],
   "source": [
    "#mt.matrix(correlation=True)\n",
    "#mt.draw_profile('Nsig');"
   ]
  },
  {
   "cell_type": "code",
   "execution_count": 551,
   "metadata": {},
   "outputs": [],
   "source": [
    "dataN = fit_frame[['N','Nerr']]\n",
    "dataN.columns = ['Nsig', 'dNsig']"
   ]
  },
  {
   "cell_type": "code",
   "execution_count": 552,
   "metadata": {},
   "outputs": [
    {
     "data": {
      "text/html": [
       "<div>\n",
       "<style scoped>\n",
       "    .dataframe tbody tr th:only-of-type {\n",
       "        vertical-align: middle;\n",
       "    }\n",
       "\n",
       "    .dataframe tbody tr th {\n",
       "        vertical-align: top;\n",
       "    }\n",
       "\n",
       "    .dataframe thead th {\n",
       "        text-align: right;\n",
       "    }\n",
       "</style>\n",
       "<table border=\"1\" class=\"dataframe\">\n",
       "  <thead>\n",
       "    <tr style=\"text-align: right;\">\n",
       "      <th></th>\n",
       "      <th>Nsig</th>\n",
       "      <th>dNsig</th>\n",
       "    </tr>\n",
       "  </thead>\n",
       "  <tbody>\n",
       "    <tr>\n",
       "      <td>939.6</td>\n",
       "      <td>8.512234</td>\n",
       "      <td>3.484017</td>\n",
       "    </tr>\n",
       "    <tr>\n",
       "      <td>940.2</td>\n",
       "      <td>3.920473</td>\n",
       "      <td>2.688703</td>\n",
       "    </tr>\n",
       "    <tr>\n",
       "      <td>940.8</td>\n",
       "      <td>8.452429</td>\n",
       "      <td>3.676486</td>\n",
       "    </tr>\n",
       "    <tr>\n",
       "      <td>960.0</td>\n",
       "      <td>26.657599</td>\n",
       "      <td>5.864628</td>\n",
       "    </tr>\n",
       "    <tr>\n",
       "      <td>990.0</td>\n",
       "      <td>15.626607</td>\n",
       "      <td>5.114336</td>\n",
       "    </tr>\n",
       "  </tbody>\n",
       "</table>\n",
       "</div>"
      ],
      "text/plain": [
       "            Nsig     dNsig\n",
       "939.6   8.512234  3.484017\n",
       "940.2   3.920473  2.688703\n",
       "940.8   8.452429  3.676486\n",
       "960.0  26.657599  5.864628\n",
       "990.0  15.626607  5.114336"
      ]
     },
     "execution_count": 552,
     "metadata": {},
     "output_type": "execute_result"
    }
   ],
   "source": [
    "dataN.tail()"
   ]
  },
  {
   "cell_type": "markdown",
   "metadata": {},
   "source": [
    "I have got table with events numbers\n",
    "\n",
    "Now, I will get rid of m-field in the data table (because, I have used it)"
   ]
  },
  {
   "cell_type": "code",
   "execution_count": 553,
   "metadata": {},
   "outputs": [],
   "source": [
    "data_info = final_data.drop_duplicates(['lum']).drop(['mass', 'trigger'], axis=1).set_index('name')"
   ]
  },
  {
   "cell_type": "code",
   "execution_count": 555,
   "metadata": {},
   "outputs": [
    {
     "data": {
      "text/html": [
       "<div>\n",
       "<style scoped>\n",
       "    .dataframe tbody tr th:only-of-type {\n",
       "        vertical-align: middle;\n",
       "    }\n",
       "\n",
       "    .dataframe tbody tr th {\n",
       "        vertical-align: top;\n",
       "    }\n",
       "\n",
       "    .dataframe thead th {\n",
       "        text-align: right;\n",
       "    }\n",
       "</style>\n",
       "<table border=\"1\" class=\"dataframe\">\n",
       "  <thead>\n",
       "    <tr style=\"text-align: right;\">\n",
       "      <th></th>\n",
       "      <th>lum</th>\n",
       "      <th>dEmin</th>\n",
       "      <th>dEmax</th>\n",
       "      <th>Emean</th>\n",
       "      <th>Nsig</th>\n",
       "      <th>dNsig</th>\n",
       "    </tr>\n",
       "    <tr>\n",
       "      <th>name</th>\n",
       "      <th></th>\n",
       "      <th></th>\n",
       "      <th></th>\n",
       "      <th></th>\n",
       "      <th></th>\n",
       "      <th></th>\n",
       "    </tr>\n",
       "  </thead>\n",
       "  <tbody>\n",
       "    <tr>\n",
       "      <td>641.0</td>\n",
       "      <td>3097.960</td>\n",
       "      <td>0.00</td>\n",
       "      <td>0.00</td>\n",
       "      <td>641.02</td>\n",
       "      <td>305.526065</td>\n",
       "      <td>18.672040</td>\n",
       "    </tr>\n",
       "    <tr>\n",
       "      <td>650.0</td>\n",
       "      <td>876.635</td>\n",
       "      <td>0.00</td>\n",
       "      <td>0.00</td>\n",
       "      <td>649.77</td>\n",
       "      <td>93.458437</td>\n",
       "      <td>10.024956</td>\n",
       "    </tr>\n",
       "    <tr>\n",
       "      <td>675.0</td>\n",
       "      <td>1225.140</td>\n",
       "      <td>0.00</td>\n",
       "      <td>0.00</td>\n",
       "      <td>674.85</td>\n",
       "      <td>81.347338</td>\n",
       "      <td>9.492969</td>\n",
       "    </tr>\n",
       "    <tr>\n",
       "      <td>700.0</td>\n",
       "      <td>876.658</td>\n",
       "      <td>0.00</td>\n",
       "      <td>0.00</td>\n",
       "      <td>700.56</td>\n",
       "      <td>27.211716</td>\n",
       "      <td>7.604759</td>\n",
       "    </tr>\n",
       "    <tr>\n",
       "      <td>725.0</td>\n",
       "      <td>1114.220</td>\n",
       "      <td>0.00</td>\n",
       "      <td>0.00</td>\n",
       "      <td>724.94</td>\n",
       "      <td>49.241902</td>\n",
       "      <td>8.564588</td>\n",
       "    </tr>\n",
       "    <tr>\n",
       "      <td>750.0</td>\n",
       "      <td>1107.580</td>\n",
       "      <td>0.00</td>\n",
       "      <td>0.00</td>\n",
       "      <td>749.55</td>\n",
       "      <td>66.095193</td>\n",
       "      <td>11.465692</td>\n",
       "    </tr>\n",
       "    <tr>\n",
       "      <td>775.0</td>\n",
       "      <td>970.862</td>\n",
       "      <td>0.00</td>\n",
       "      <td>0.00</td>\n",
       "      <td>774.85</td>\n",
       "      <td>71.286214</td>\n",
       "      <td>12.712113</td>\n",
       "    </tr>\n",
       "    <tr>\n",
       "      <td>800.0</td>\n",
       "      <td>1241.540</td>\n",
       "      <td>0.00</td>\n",
       "      <td>0.00</td>\n",
       "      <td>800.86</td>\n",
       "      <td>110.875385</td>\n",
       "      <td>17.277807</td>\n",
       "    </tr>\n",
       "    <tr>\n",
       "      <td>825.0</td>\n",
       "      <td>1381.860</td>\n",
       "      <td>0.00</td>\n",
       "      <td>0.00</td>\n",
       "      <td>825.05</td>\n",
       "      <td>129.607395</td>\n",
       "      <td>17.256661</td>\n",
       "    </tr>\n",
       "    <tr>\n",
       "      <td>840.0</td>\n",
       "      <td>635.647</td>\n",
       "      <td>0.00</td>\n",
       "      <td>0.00</td>\n",
       "      <td>839.47</td>\n",
       "      <td>50.435382</td>\n",
       "      <td>11.724106</td>\n",
       "    </tr>\n",
       "    <tr>\n",
       "      <td>850.0</td>\n",
       "      <td>942.086</td>\n",
       "      <td>0.00</td>\n",
       "      <td>0.00</td>\n",
       "      <td>846.81</td>\n",
       "      <td>32.445580</td>\n",
       "      <td>7.340432</td>\n",
       "    </tr>\n",
       "    <tr>\n",
       "      <td>860.0</td>\n",
       "      <td>922.378</td>\n",
       "      <td>0.00</td>\n",
       "      <td>0.00</td>\n",
       "      <td>857.23</td>\n",
       "      <td>24.957196</td>\n",
       "      <td>5.952414</td>\n",
       "    </tr>\n",
       "    <tr>\n",
       "      <td>870.0</td>\n",
       "      <td>941.906</td>\n",
       "      <td>0.00</td>\n",
       "      <td>0.00</td>\n",
       "      <td>867.15</td>\n",
       "      <td>9.839293</td>\n",
       "      <td>4.415173</td>\n",
       "    </tr>\n",
       "    <tr>\n",
       "      <td>900.0</td>\n",
       "      <td>4238.757</td>\n",
       "      <td>17.01</td>\n",
       "      <td>15.74</td>\n",
       "      <td>893.98</td>\n",
       "      <td>26.086003</td>\n",
       "      <td>6.141348</td>\n",
       "    </tr>\n",
       "    <tr>\n",
       "      <td>935.0</td>\n",
       "      <td>5042.760</td>\n",
       "      <td>10.17</td>\n",
       "      <td>6.99</td>\n",
       "      <td>930.13</td>\n",
       "      <td>34.573843</td>\n",
       "      <td>7.016911</td>\n",
       "    </tr>\n",
       "    <tr>\n",
       "      <td>937.4</td>\n",
       "      <td>1895.780</td>\n",
       "      <td>0.00</td>\n",
       "      <td>0.00</td>\n",
       "      <td>937.42</td>\n",
       "      <td>10.645325</td>\n",
       "      <td>4.006290</td>\n",
       "    </tr>\n",
       "    <tr>\n",
       "      <td>938.3</td>\n",
       "      <td>2534.810</td>\n",
       "      <td>0.00</td>\n",
       "      <td>0.00</td>\n",
       "      <td>938.18</td>\n",
       "      <td>5.892192</td>\n",
       "      <td>2.868709</td>\n",
       "    </tr>\n",
       "    <tr>\n",
       "      <td>938.9</td>\n",
       "      <td>2067.970</td>\n",
       "      <td>0.00</td>\n",
       "      <td>0.00</td>\n",
       "      <td>938.75</td>\n",
       "      <td>11.831190</td>\n",
       "      <td>4.092907</td>\n",
       "    </tr>\n",
       "    <tr>\n",
       "      <td>939.6</td>\n",
       "      <td>2028.130</td>\n",
       "      <td>0.00</td>\n",
       "      <td>0.00</td>\n",
       "      <td>939.46</td>\n",
       "      <td>8.512234</td>\n",
       "      <td>3.484017</td>\n",
       "    </tr>\n",
       "    <tr>\n",
       "      <td>940.2</td>\n",
       "      <td>1909.530</td>\n",
       "      <td>0.00</td>\n",
       "      <td>0.00</td>\n",
       "      <td>940.20</td>\n",
       "      <td>3.920473</td>\n",
       "      <td>2.688703</td>\n",
       "    </tr>\n",
       "    <tr>\n",
       "      <td>940.8</td>\n",
       "      <td>1875.840</td>\n",
       "      <td>0.00</td>\n",
       "      <td>0.00</td>\n",
       "      <td>940.56</td>\n",
       "      <td>8.452429</td>\n",
       "      <td>3.676486</td>\n",
       "    </tr>\n",
       "    <tr>\n",
       "      <td>960.0</td>\n",
       "      <td>5632.170</td>\n",
       "      <td>15.52</td>\n",
       "      <td>13.84</td>\n",
       "      <td>957.40</td>\n",
       "      <td>26.657599</td>\n",
       "      <td>5.864628</td>\n",
       "    </tr>\n",
       "    <tr>\n",
       "      <td>990.0</td>\n",
       "      <td>6358.030</td>\n",
       "      <td>14.54</td>\n",
       "      <td>6.81</td>\n",
       "      <td>996.50</td>\n",
       "      <td>15.626607</td>\n",
       "      <td>5.114336</td>\n",
       "    </tr>\n",
       "  </tbody>\n",
       "</table>\n",
       "</div>"
      ],
      "text/plain": [
       "            lum  dEmin  dEmax   Emean        Nsig      dNsig\n",
       "name                                                        \n",
       "641.0  3097.960   0.00   0.00  641.02  305.526065  18.672040\n",
       "650.0   876.635   0.00   0.00  649.77   93.458437  10.024956\n",
       "675.0  1225.140   0.00   0.00  674.85   81.347338   9.492969\n",
       "700.0   876.658   0.00   0.00  700.56   27.211716   7.604759\n",
       "725.0  1114.220   0.00   0.00  724.94   49.241902   8.564588\n",
       "750.0  1107.580   0.00   0.00  749.55   66.095193  11.465692\n",
       "775.0   970.862   0.00   0.00  774.85   71.286214  12.712113\n",
       "800.0  1241.540   0.00   0.00  800.86  110.875385  17.277807\n",
       "825.0  1381.860   0.00   0.00  825.05  129.607395  17.256661\n",
       "840.0   635.647   0.00   0.00  839.47   50.435382  11.724106\n",
       "850.0   942.086   0.00   0.00  846.81   32.445580   7.340432\n",
       "860.0   922.378   0.00   0.00  857.23   24.957196   5.952414\n",
       "870.0   941.906   0.00   0.00  867.15    9.839293   4.415173\n",
       "900.0  4238.757  17.01  15.74  893.98   26.086003   6.141348\n",
       "935.0  5042.760  10.17   6.99  930.13   34.573843   7.016911\n",
       "937.4  1895.780   0.00   0.00  937.42   10.645325   4.006290\n",
       "938.3  2534.810   0.00   0.00  938.18    5.892192   2.868709\n",
       "938.9  2067.970   0.00   0.00  938.75   11.831190   4.092907\n",
       "939.6  2028.130   0.00   0.00  939.46    8.512234   3.484017\n",
       "940.2  1909.530   0.00   0.00  940.20    3.920473   2.688703\n",
       "940.8  1875.840   0.00   0.00  940.56    8.452429   3.676486\n",
       "960.0  5632.170  15.52  13.84  957.40   26.657599   5.864628\n",
       "990.0  6358.030  14.54   6.81  996.50   15.626607   5.114336"
      ]
     },
     "execution_count": 555,
     "metadata": {},
     "output_type": "execute_result"
    }
   ],
   "source": [
    "dataN = data_info.join(dataN, how='inner')\n",
    "dataN"
   ]
  },
  {
   "cell_type": "code",
   "execution_count": 558,
   "metadata": {},
   "outputs": [
    {
     "name": "stdout",
     "output_type": "stream",
     "text": [
      "Good. 23 rows\n"
     ]
    }
   ],
   "source": [
    "check_foo(dataN, fit_frame)"
   ]
  },
  {
   "cell_type": "markdown",
   "metadata": {},
   "source": [
    "OK, save it"
   ]
  },
  {
   "cell_type": "code",
   "execution_count": 559,
   "metadata": {},
   "outputs": [],
   "source": [
    "dataN.to_csv(f'../outputs/{year}/tables/signal_table{year}.csv', float_format='%.2f')"
   ]
  },
  {
   "cell_type": "markdown",
   "metadata": {},
   "source": [
    "Ok, now about triggers"
   ]
  },
  {
   "cell_type": "code",
   "execution_count": 573,
   "metadata": {
    "scrolled": true
   },
   "outputs": [],
   "source": [
    "triggers = final_data[['trigger','name']].set_index('name')\n",
    "triggers = triggers.assign(one = 1);"
   ]
  },
  {
   "cell_type": "code",
   "execution_count": 574,
   "metadata": {},
   "outputs": [
    {
     "data": {
      "text/html": [
       "<div>\n",
       "<style scoped>\n",
       "    .dataframe tbody tr th:only-of-type {\n",
       "        vertical-align: middle;\n",
       "    }\n",
       "\n",
       "    .dataframe tbody tr th {\n",
       "        vertical-align: top;\n",
       "    }\n",
       "\n",
       "    .dataframe thead th {\n",
       "        text-align: right;\n",
       "    }\n",
       "</style>\n",
       "<table border=\"1\" class=\"dataframe\">\n",
       "  <thead>\n",
       "    <tr style=\"text-align: right;\">\n",
       "      <th></th>\n",
       "      <th>trigger</th>\n",
       "      <th>one</th>\n",
       "    </tr>\n",
       "    <tr>\n",
       "      <th>name</th>\n",
       "      <th></th>\n",
       "      <th></th>\n",
       "    </tr>\n",
       "  </thead>\n",
       "  <tbody>\n",
       "    <tr>\n",
       "      <td>641.0</td>\n",
       "      <td>2</td>\n",
       "      <td>1</td>\n",
       "    </tr>\n",
       "    <tr>\n",
       "      <td>641.0</td>\n",
       "      <td>2</td>\n",
       "      <td>1</td>\n",
       "    </tr>\n",
       "    <tr>\n",
       "      <td>641.0</td>\n",
       "      <td>2</td>\n",
       "      <td>1</td>\n",
       "    </tr>\n",
       "    <tr>\n",
       "      <td>641.0</td>\n",
       "      <td>2</td>\n",
       "      <td>1</td>\n",
       "    </tr>\n",
       "    <tr>\n",
       "      <td>641.0</td>\n",
       "      <td>0</td>\n",
       "      <td>1</td>\n",
       "    </tr>\n",
       "    <tr>\n",
       "      <td>...</td>\n",
       "      <td>...</td>\n",
       "      <td>...</td>\n",
       "    </tr>\n",
       "    <tr>\n",
       "      <td>990.0</td>\n",
       "      <td>2</td>\n",
       "      <td>1</td>\n",
       "    </tr>\n",
       "    <tr>\n",
       "      <td>990.0</td>\n",
       "      <td>2</td>\n",
       "      <td>1</td>\n",
       "    </tr>\n",
       "    <tr>\n",
       "      <td>990.0</td>\n",
       "      <td>2</td>\n",
       "      <td>1</td>\n",
       "    </tr>\n",
       "    <tr>\n",
       "      <td>990.0</td>\n",
       "      <td>2</td>\n",
       "      <td>1</td>\n",
       "    </tr>\n",
       "    <tr>\n",
       "      <td>990.0</td>\n",
       "      <td>2</td>\n",
       "      <td>1</td>\n",
       "    </tr>\n",
       "  </tbody>\n",
       "</table>\n",
       "<p>1776 rows × 2 columns</p>\n",
       "</div>"
      ],
      "text/plain": [
       "       trigger  one\n",
       "name               \n",
       "641.0        2    1\n",
       "641.0        2    1\n",
       "641.0        2    1\n",
       "641.0        2    1\n",
       "641.0        0    1\n",
       "...        ...  ...\n",
       "990.0        2    1\n",
       "990.0        2    1\n",
       "990.0        2    1\n",
       "990.0        2    1\n",
       "990.0        2    1\n",
       "\n",
       "[1776 rows x 2 columns]"
      ]
     },
     "execution_count": 574,
     "metadata": {},
     "output_type": "execute_result"
    }
   ],
   "source": [
    "triggers"
   ]
  },
  {
   "cell_type": "code",
   "execution_count": 575,
   "metadata": {},
   "outputs": [
    {
     "name": "stdout",
     "output_type": "stream",
     "text": [
      "Good. 1776 rows\n"
     ]
    }
   ],
   "source": [
    "check_foo(triggers, final_data)"
   ]
  },
  {
   "cell_type": "code",
   "execution_count": 576,
   "metadata": {},
   "outputs": [],
   "source": [
    "triggers = pd.pivot_table(triggers, values='one', columns=['trigger'], index='name', aggfunc=np.sum).fillna(0)"
   ]
  },
  {
   "cell_type": "code",
   "execution_count": 577,
   "metadata": {},
   "outputs": [],
   "source": [
    "triggers.columns = ['TF', 'CF', 'TC']"
   ]
  },
  {
   "cell_type": "code",
   "execution_count": 578,
   "metadata": {},
   "outputs": [
    {
     "data": {
      "text/html": [
       "<div>\n",
       "<style scoped>\n",
       "    .dataframe tbody tr th:only-of-type {\n",
       "        vertical-align: middle;\n",
       "    }\n",
       "\n",
       "    .dataframe tbody tr th {\n",
       "        vertical-align: top;\n",
       "    }\n",
       "\n",
       "    .dataframe thead th {\n",
       "        text-align: right;\n",
       "    }\n",
       "</style>\n",
       "<table border=\"1\" class=\"dataframe\">\n",
       "  <thead>\n",
       "    <tr style=\"text-align: right;\">\n",
       "      <th></th>\n",
       "      <th>TF</th>\n",
       "      <th>CF</th>\n",
       "      <th>TC</th>\n",
       "    </tr>\n",
       "    <tr>\n",
       "      <th>name</th>\n",
       "      <th></th>\n",
       "      <th></th>\n",
       "      <th></th>\n",
       "    </tr>\n",
       "  </thead>\n",
       "  <tbody>\n",
       "    <tr>\n",
       "      <td>641.0</td>\n",
       "      <td>83.0</td>\n",
       "      <td>4.0</td>\n",
       "      <td>258.0</td>\n",
       "    </tr>\n",
       "    <tr>\n",
       "      <td>650.0</td>\n",
       "      <td>13.0</td>\n",
       "      <td>0.0</td>\n",
       "      <td>87.0</td>\n",
       "    </tr>\n",
       "    <tr>\n",
       "      <td>675.0</td>\n",
       "      <td>25.0</td>\n",
       "      <td>4.0</td>\n",
       "      <td>64.0</td>\n",
       "    </tr>\n",
       "    <tr>\n",
       "      <td>700.0</td>\n",
       "      <td>11.0</td>\n",
       "      <td>1.0</td>\n",
       "      <td>31.0</td>\n",
       "    </tr>\n",
       "    <tr>\n",
       "      <td>725.0</td>\n",
       "      <td>13.0</td>\n",
       "      <td>2.0</td>\n",
       "      <td>49.0</td>\n",
       "    </tr>\n",
       "  </tbody>\n",
       "</table>\n",
       "</div>"
      ],
      "text/plain": [
       "         TF   CF     TC\n",
       "name                   \n",
       "641.0  83.0  4.0  258.0\n",
       "650.0  13.0  0.0   87.0\n",
       "675.0  25.0  4.0   64.0\n",
       "700.0  11.0  1.0   31.0\n",
       "725.0  13.0  2.0   49.0"
      ]
     },
     "execution_count": 578,
     "metadata": {},
     "output_type": "execute_result"
    }
   ],
   "source": [
    "triggers.head()"
   ]
  },
  {
   "cell_type": "code",
   "execution_count": 579,
   "metadata": {},
   "outputs": [],
   "source": [
    "def variance(k, n):\n",
    "    return (k+1)*(k+2)/(n+2)/(n+3) - (k+1)**2/(n+2)**2"
   ]
  },
  {
   "cell_type": "code",
   "execution_count": 580,
   "metadata": {},
   "outputs": [],
   "source": [
    "triggers['eTF'] = (triggers['TC'] + 1)/(triggers['CF'] + triggers['TC'] + 2)\n",
    "triggers['eCF'] = (triggers['TC'] + 1)/(triggers['TF'] + triggers['TC'] + 2)\n",
    "triggers['TrigEff'] = 1 - (1-triggers['eTF'])*(1-triggers['eCF'])\n",
    "\n",
    "triggers['vTF'] = np.sqrt( variance(triggers['TC'], triggers['CF'] + triggers['TC']) )\n",
    "triggers['vCF'] = np.sqrt( variance(triggers['TC'], triggers['TF'] + triggers['TC']) )\n",
    "triggers['TrigErr'] = np.sqrt( np.square((1-triggers['eTF'])*triggers['vCF']) + \n",
    "                              np.square((1-triggers['eCF'])*triggers['vTF']) )"
   ]
  },
  {
   "cell_type": "markdown",
   "metadata": {},
   "source": [
    "OK, trigers have been got"
   ]
  },
  {
   "cell_type": "code",
   "execution_count": 583,
   "metadata": {},
   "outputs": [
    {
     "name": "stdout",
     "output_type": "stream",
     "text": [
      "Good. 23 rows\n"
     ]
    }
   ],
   "source": [
    "check_foo(triggers, dataN)"
   ]
  },
  {
   "cell_type": "code",
   "execution_count": 581,
   "metadata": {},
   "outputs": [],
   "source": [
    "triggers.to_csv(f'../outputs/{year}/tables/triggers{year}.csv', float_format='%.2f')"
   ]
  },
  {
   "cell_type": "code",
   "execution_count": 582,
   "metadata": {},
   "outputs": [
    {
     "data": {
      "text/html": [
       "<div>\n",
       "<style scoped>\n",
       "    .dataframe tbody tr th:only-of-type {\n",
       "        vertical-align: middle;\n",
       "    }\n",
       "\n",
       "    .dataframe tbody tr th {\n",
       "        vertical-align: top;\n",
       "    }\n",
       "\n",
       "    .dataframe thead th {\n",
       "        text-align: right;\n",
       "    }\n",
       "</style>\n",
       "<table border=\"1\" class=\"dataframe\">\n",
       "  <thead>\n",
       "    <tr style=\"text-align: right;\">\n",
       "      <th></th>\n",
       "      <th>TF</th>\n",
       "      <th>CF</th>\n",
       "      <th>TC</th>\n",
       "      <th>eTF</th>\n",
       "      <th>eCF</th>\n",
       "      <th>TrigEff</th>\n",
       "      <th>vTF</th>\n",
       "      <th>vCF</th>\n",
       "      <th>TrigErr</th>\n",
       "    </tr>\n",
       "    <tr>\n",
       "      <th>name</th>\n",
       "      <th></th>\n",
       "      <th></th>\n",
       "      <th></th>\n",
       "      <th></th>\n",
       "      <th></th>\n",
       "      <th></th>\n",
       "      <th></th>\n",
       "      <th></th>\n",
       "      <th></th>\n",
       "    </tr>\n",
       "  </thead>\n",
       "  <tbody>\n",
       "    <tr>\n",
       "      <td>641.0</td>\n",
       "      <td>83.0</td>\n",
       "      <td>4.0</td>\n",
       "      <td>258.0</td>\n",
       "      <td>0.981061</td>\n",
       "      <td>0.755102</td>\n",
       "      <td>0.995362</td>\n",
       "      <td>0.008374</td>\n",
       "      <td>0.023185</td>\n",
       "      <td>0.002097</td>\n",
       "    </tr>\n",
       "    <tr>\n",
       "      <td>650.0</td>\n",
       "      <td>13.0</td>\n",
       "      <td>0.0</td>\n",
       "      <td>87.0</td>\n",
       "      <td>0.988764</td>\n",
       "      <td>0.862745</td>\n",
       "      <td>0.998458</td>\n",
       "      <td>0.011110</td>\n",
       "      <td>0.033907</td>\n",
       "      <td>0.001572</td>\n",
       "    </tr>\n",
       "    <tr>\n",
       "      <td>675.0</td>\n",
       "      <td>25.0</td>\n",
       "      <td>4.0</td>\n",
       "      <td>64.0</td>\n",
       "      <td>0.928571</td>\n",
       "      <td>0.714286</td>\n",
       "      <td>0.979592</td>\n",
       "      <td>0.030564</td>\n",
       "      <td>0.047099</td>\n",
       "      <td>0.009358</td>\n",
       "    </tr>\n",
       "    <tr>\n",
       "      <td>700.0</td>\n",
       "      <td>11.0</td>\n",
       "      <td>1.0</td>\n",
       "      <td>31.0</td>\n",
       "      <td>0.941176</td>\n",
       "      <td>0.727273</td>\n",
       "      <td>0.983957</td>\n",
       "      <td>0.039772</td>\n",
       "      <td>0.066391</td>\n",
       "      <td>0.011529</td>\n",
       "    </tr>\n",
       "    <tr>\n",
       "      <td>725.0</td>\n",
       "      <td>13.0</td>\n",
       "      <td>2.0</td>\n",
       "      <td>49.0</td>\n",
       "      <td>0.943396</td>\n",
       "      <td>0.781250</td>\n",
       "      <td>0.987618</td>\n",
       "      <td>0.031447</td>\n",
       "      <td>0.051276</td>\n",
       "      <td>0.007466</td>\n",
       "    </tr>\n",
       "    <tr>\n",
       "      <td>750.0</td>\n",
       "      <td>24.0</td>\n",
       "      <td>3.0</td>\n",
       "      <td>75.0</td>\n",
       "      <td>0.950000</td>\n",
       "      <td>0.752475</td>\n",
       "      <td>0.987624</td>\n",
       "      <td>0.024216</td>\n",
       "      <td>0.042732</td>\n",
       "      <td>0.006364</td>\n",
       "    </tr>\n",
       "    <tr>\n",
       "      <td>775.0</td>\n",
       "      <td>20.0</td>\n",
       "      <td>2.0</td>\n",
       "      <td>85.0</td>\n",
       "      <td>0.966292</td>\n",
       "      <td>0.803738</td>\n",
       "      <td>0.993384</td>\n",
       "      <td>0.019024</td>\n",
       "      <td>0.038218</td>\n",
       "      <td>0.003950</td>\n",
       "    </tr>\n",
       "    <tr>\n",
       "      <td>800.0</td>\n",
       "      <td>36.0</td>\n",
       "      <td>3.0</td>\n",
       "      <td>133.0</td>\n",
       "      <td>0.971014</td>\n",
       "      <td>0.783626</td>\n",
       "      <td>0.993728</td>\n",
       "      <td>0.014230</td>\n",
       "      <td>0.031397</td>\n",
       "      <td>0.003211</td>\n",
       "    </tr>\n",
       "    <tr>\n",
       "      <td>825.0</td>\n",
       "      <td>49.0</td>\n",
       "      <td>2.0</td>\n",
       "      <td>146.0</td>\n",
       "      <td>0.980000</td>\n",
       "      <td>0.746193</td>\n",
       "      <td>0.994924</td>\n",
       "      <td>0.011393</td>\n",
       "      <td>0.030928</td>\n",
       "      <td>0.002957</td>\n",
       "    </tr>\n",
       "    <tr>\n",
       "      <td>840.0</td>\n",
       "      <td>27.0</td>\n",
       "      <td>0.0</td>\n",
       "      <td>60.0</td>\n",
       "      <td>0.983871</td>\n",
       "      <td>0.685393</td>\n",
       "      <td>0.994926</td>\n",
       "      <td>0.015871</td>\n",
       "      <td>0.048948</td>\n",
       "      <td>0.005055</td>\n",
       "    </tr>\n",
       "    <tr>\n",
       "      <td>850.0</td>\n",
       "      <td>20.0</td>\n",
       "      <td>0.0</td>\n",
       "      <td>32.0</td>\n",
       "      <td>0.970588</td>\n",
       "      <td>0.611111</td>\n",
       "      <td>0.988562</td>\n",
       "      <td>0.028559</td>\n",
       "      <td>0.065734</td>\n",
       "      <td>0.011273</td>\n",
       "    </tr>\n",
       "    <tr>\n",
       "      <td>860.0</td>\n",
       "      <td>15.0</td>\n",
       "      <td>1.0</td>\n",
       "      <td>17.0</td>\n",
       "      <td>0.900000</td>\n",
       "      <td>0.529412</td>\n",
       "      <td>0.952941</td>\n",
       "      <td>0.065465</td>\n",
       "      <td>0.084369</td>\n",
       "      <td>0.031942</td>\n",
       "    </tr>\n",
       "    <tr>\n",
       "      <td>870.0</td>\n",
       "      <td>9.0</td>\n",
       "      <td>1.0</td>\n",
       "      <td>19.0</td>\n",
       "      <td>0.909091</td>\n",
       "      <td>0.666667</td>\n",
       "      <td>0.969697</td>\n",
       "      <td>0.059944</td>\n",
       "      <td>0.084667</td>\n",
       "      <td>0.021412</td>\n",
       "    </tr>\n",
       "    <tr>\n",
       "      <td>900.0</td>\n",
       "      <td>21.0</td>\n",
       "      <td>3.0</td>\n",
       "      <td>24.0</td>\n",
       "      <td>0.862069</td>\n",
       "      <td>0.531915</td>\n",
       "      <td>0.935437</td>\n",
       "      <td>0.062957</td>\n",
       "      <td>0.072022</td>\n",
       "      <td>0.031098</td>\n",
       "    </tr>\n",
       "    <tr>\n",
       "      <td>935.0</td>\n",
       "      <td>20.0</td>\n",
       "      <td>7.0</td>\n",
       "      <td>49.0</td>\n",
       "      <td>0.862069</td>\n",
       "      <td>0.704225</td>\n",
       "      <td>0.959203</td>\n",
       "      <td>0.044893</td>\n",
       "      <td>0.053786</td>\n",
       "      <td>0.015210</td>\n",
       "    </tr>\n",
       "    <tr>\n",
       "      <td>937.4</td>\n",
       "      <td>10.0</td>\n",
       "      <td>0.0</td>\n",
       "      <td>18.0</td>\n",
       "      <td>0.950000</td>\n",
       "      <td>0.633333</td>\n",
       "      <td>0.981667</td>\n",
       "      <td>0.047559</td>\n",
       "      <td>0.086551</td>\n",
       "      <td>0.017967</td>\n",
       "    </tr>\n",
       "    <tr>\n",
       "      <td>938.3</td>\n",
       "      <td>7.0</td>\n",
       "      <td>2.0</td>\n",
       "      <td>9.0</td>\n",
       "      <td>0.769231</td>\n",
       "      <td>0.555556</td>\n",
       "      <td>0.897436</td>\n",
       "      <td>0.112604</td>\n",
       "      <td>0.113998</td>\n",
       "      <td>0.056539</td>\n",
       "    </tr>\n",
       "    <tr>\n",
       "      <td>938.9</td>\n",
       "      <td>9.0</td>\n",
       "      <td>0.0</td>\n",
       "      <td>17.0</td>\n",
       "      <td>0.947368</td>\n",
       "      <td>0.642857</td>\n",
       "      <td>0.981203</td>\n",
       "      <td>0.049931</td>\n",
       "      <td>0.088977</td>\n",
       "      <td>0.018437</td>\n",
       "    </tr>\n",
       "    <tr>\n",
       "      <td>939.6</td>\n",
       "      <td>4.0</td>\n",
       "      <td>1.0</td>\n",
       "      <td>12.0</td>\n",
       "      <td>0.866667</td>\n",
       "      <td>0.722222</td>\n",
       "      <td>0.962963</td>\n",
       "      <td>0.084984</td>\n",
       "      <td>0.102756</td>\n",
       "      <td>0.027294</td>\n",
       "    </tr>\n",
       "    <tr>\n",
       "      <td>940.2</td>\n",
       "      <td>3.0</td>\n",
       "      <td>3.0</td>\n",
       "      <td>11.0</td>\n",
       "      <td>0.750000</td>\n",
       "      <td>0.750000</td>\n",
       "      <td>0.937500</td>\n",
       "      <td>0.105021</td>\n",
       "      <td>0.105021</td>\n",
       "      <td>0.037131</td>\n",
       "    </tr>\n",
       "    <tr>\n",
       "      <td>940.8</td>\n",
       "      <td>4.0</td>\n",
       "      <td>3.0</td>\n",
       "      <td>14.0</td>\n",
       "      <td>0.789474</td>\n",
       "      <td>0.750000</td>\n",
       "      <td>0.947368</td>\n",
       "      <td>0.091161</td>\n",
       "      <td>0.094491</td>\n",
       "      <td>0.030251</td>\n",
       "    </tr>\n",
       "    <tr>\n",
       "      <td>960.0</td>\n",
       "      <td>11.0</td>\n",
       "      <td>4.0</td>\n",
       "      <td>32.0</td>\n",
       "      <td>0.868421</td>\n",
       "      <td>0.733333</td>\n",
       "      <td>0.964912</td>\n",
       "      <td>0.054129</td>\n",
       "      <td>0.065201</td>\n",
       "      <td>0.016791</td>\n",
       "    </tr>\n",
       "    <tr>\n",
       "      <td>990.0</td>\n",
       "      <td>14.0</td>\n",
       "      <td>0.0</td>\n",
       "      <td>40.0</td>\n",
       "      <td>0.976190</td>\n",
       "      <td>0.732143</td>\n",
       "      <td>0.993622</td>\n",
       "      <td>0.023249</td>\n",
       "      <td>0.058656</td>\n",
       "      <td>0.006382</td>\n",
       "    </tr>\n",
       "  </tbody>\n",
       "</table>\n",
       "</div>"
      ],
      "text/plain": [
       "         TF   CF     TC       eTF       eCF   TrigEff       vTF       vCF  \\\n",
       "name                                                                        \n",
       "641.0  83.0  4.0  258.0  0.981061  0.755102  0.995362  0.008374  0.023185   \n",
       "650.0  13.0  0.0   87.0  0.988764  0.862745  0.998458  0.011110  0.033907   \n",
       "675.0  25.0  4.0   64.0  0.928571  0.714286  0.979592  0.030564  0.047099   \n",
       "700.0  11.0  1.0   31.0  0.941176  0.727273  0.983957  0.039772  0.066391   \n",
       "725.0  13.0  2.0   49.0  0.943396  0.781250  0.987618  0.031447  0.051276   \n",
       "750.0  24.0  3.0   75.0  0.950000  0.752475  0.987624  0.024216  0.042732   \n",
       "775.0  20.0  2.0   85.0  0.966292  0.803738  0.993384  0.019024  0.038218   \n",
       "800.0  36.0  3.0  133.0  0.971014  0.783626  0.993728  0.014230  0.031397   \n",
       "825.0  49.0  2.0  146.0  0.980000  0.746193  0.994924  0.011393  0.030928   \n",
       "840.0  27.0  0.0   60.0  0.983871  0.685393  0.994926  0.015871  0.048948   \n",
       "850.0  20.0  0.0   32.0  0.970588  0.611111  0.988562  0.028559  0.065734   \n",
       "860.0  15.0  1.0   17.0  0.900000  0.529412  0.952941  0.065465  0.084369   \n",
       "870.0   9.0  1.0   19.0  0.909091  0.666667  0.969697  0.059944  0.084667   \n",
       "900.0  21.0  3.0   24.0  0.862069  0.531915  0.935437  0.062957  0.072022   \n",
       "935.0  20.0  7.0   49.0  0.862069  0.704225  0.959203  0.044893  0.053786   \n",
       "937.4  10.0  0.0   18.0  0.950000  0.633333  0.981667  0.047559  0.086551   \n",
       "938.3   7.0  2.0    9.0  0.769231  0.555556  0.897436  0.112604  0.113998   \n",
       "938.9   9.0  0.0   17.0  0.947368  0.642857  0.981203  0.049931  0.088977   \n",
       "939.6   4.0  1.0   12.0  0.866667  0.722222  0.962963  0.084984  0.102756   \n",
       "940.2   3.0  3.0   11.0  0.750000  0.750000  0.937500  0.105021  0.105021   \n",
       "940.8   4.0  3.0   14.0  0.789474  0.750000  0.947368  0.091161  0.094491   \n",
       "960.0  11.0  4.0   32.0  0.868421  0.733333  0.964912  0.054129  0.065201   \n",
       "990.0  14.0  0.0   40.0  0.976190  0.732143  0.993622  0.023249  0.058656   \n",
       "\n",
       "        TrigErr  \n",
       "name             \n",
       "641.0  0.002097  \n",
       "650.0  0.001572  \n",
       "675.0  0.009358  \n",
       "700.0  0.011529  \n",
       "725.0  0.007466  \n",
       "750.0  0.006364  \n",
       "775.0  0.003950  \n",
       "800.0  0.003211  \n",
       "825.0  0.002957  \n",
       "840.0  0.005055  \n",
       "850.0  0.011273  \n",
       "860.0  0.031942  \n",
       "870.0  0.021412  \n",
       "900.0  0.031098  \n",
       "935.0  0.015210  \n",
       "937.4  0.017967  \n",
       "938.3  0.056539  \n",
       "938.9  0.018437  \n",
       "939.6  0.027294  \n",
       "940.2  0.037131  \n",
       "940.8  0.030251  \n",
       "960.0  0.016791  \n",
       "990.0  0.006382  "
      ]
     },
     "execution_count": 582,
     "metadata": {},
     "output_type": "execute_result"
    }
   ],
   "source": [
    "triggers"
   ]
  },
  {
   "cell_type": "code",
   "execution_count": null,
   "metadata": {},
   "outputs": [],
   "source": []
  }
 ],
 "metadata": {
  "kernelspec": {
   "display_name": "Python 3",
   "language": "python",
   "name": "python3"
  },
  "language_info": {
   "codemirror_mode": {
    "name": "ipython",
    "version": 3
   },
   "file_extension": ".py",
   "mimetype": "text/x-python",
   "name": "python",
   "nbconvert_exporter": "python",
   "pygments_lexer": "ipython3",
   "version": "3.7.4"
  }
 },
 "nbformat": 4,
 "nbformat_minor": 2
}
