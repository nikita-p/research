{
 "cells": [
  {
   "cell_type": "markdown",
   "metadata": {},
   "source": [
    "# Reconstruction efficiency | new view"
   ]
  },
  {
   "cell_type": "code",
   "execution_count": 1,
   "metadata": {},
   "outputs": [
    {
     "name": "stderr",
     "output_type": "stream",
     "text": [
      "/home/petrov/.local/lib/python3.7/site-packages/mplhep/__init__.py:48: MatplotlibDeprecationWarning: \n",
      "The createFontList function was deprecated in Matplotlib 3.2 and will be removed two minor releases later. Use FontManager.addfont instead.\n",
      "  font_list = fm.createFontList(font_files)\n"
     ]
    }
   ],
   "source": [
    "import numpy as np\n",
    "import uproot\n",
    "import uproot_methods\n",
    "import pandas as pd\n",
    "import seaborn as sns\n",
    "import matplotlib.pyplot as plt\n",
    "import mplhep as hep\n",
    "from glob import glob\n",
    "import re\n",
    "\n",
    "def my_style(title='', xtitle='', ytitle='', gridstyle=':'):\n",
    "    plt.grid(linestyle=gridstyle)\n",
    "    plt.title(title)\n",
    "    plt.xlabel(xtitle)\n",
    "    plt.ylabel(ytitle)\n",
    "    \n",
    "%matplotlib inline\n",
    "import matplotlib\n",
    "from jupyterthemes import jtplot\n",
    "jtplot.style(theme='monokai', context='talk', ticks=True, grid=True, gridlines='--', figsize=(13, 9), fscale=2)\n",
    "matplotlib.rcParams['font.sans-serif'] = ['DejaVu Sans', 'sans-serif']"
   ]
  },
  {
   "cell_type": "code",
   "execution_count": 3,
   "metadata": {},
   "outputs": [],
   "source": [
    "root_mc = glob('/spoolA/petrov/research/outputs/model_old_v7/trees/*.root')"
   ]
  },
  {
   "cell_type": "code",
   "execution_count": 11,
   "metadata": {},
   "outputs": [],
   "source": [
    "df0 = uproot.open(root_mc[0])['pic_kinfit'].pandas.df()"
   ]
  },
  {
   "cell_type": "code",
   "execution_count": 12,
   "metadata": {},
   "outputs": [
    {
     "data": {
      "text/html": [
       "<div>\n",
       "<style scoped>\n",
       "    .dataframe tbody tr th:only-of-type {\n",
       "        vertical-align: middle;\n",
       "    }\n",
       "\n",
       "    .dataframe tbody tr th {\n",
       "        vertical-align: top;\n",
       "    }\n",
       "\n",
       "    .dataframe thead th {\n",
       "        text-align: right;\n",
       "    }\n",
       "</style>\n",
       "<table border=\"1\" class=\"dataframe\">\n",
       "  <thead>\n",
       "    <tr style=\"text-align: right;\">\n",
       "      <th></th>\n",
       "      <th>kl_en</th>\n",
       "      <th>chi2</th>\n",
       "      <th>angle_diff</th>\n",
       "      <th>mass_reco</th>\n",
       "      <th>mom_ks</th>\n",
       "      <th>mom_sum</th>\n",
       "      <th>passed_kl</th>\n",
       "      <th>passed_chi2</th>\n",
       "      <th>passed_angle</th>\n",
       "      <th>passed_mom</th>\n",
       "      <th>passed_mom_sum</th>\n",
       "    </tr>\n",
       "    <tr>\n",
       "      <th>entry</th>\n",
       "      <th></th>\n",
       "      <th></th>\n",
       "      <th></th>\n",
       "      <th></th>\n",
       "      <th></th>\n",
       "      <th></th>\n",
       "      <th></th>\n",
       "      <th></th>\n",
       "      <th></th>\n",
       "      <th></th>\n",
       "      <th></th>\n",
       "    </tr>\n",
       "  </thead>\n",
       "  <tbody>\n",
       "    <tr>\n",
       "      <th>0</th>\n",
       "      <td>232.399994</td>\n",
       "      <td>2149.458193</td>\n",
       "      <td>1.139540</td>\n",
       "      <td>658.528301</td>\n",
       "      <td>79.792470</td>\n",
       "      <td>210.942970</td>\n",
       "      <td>True</td>\n",
       "      <td>False</td>\n",
       "      <td>False</td>\n",
       "      <td>False</td>\n",
       "      <td>False</td>\n",
       "    </tr>\n",
       "    <tr>\n",
       "      <th>1</th>\n",
       "      <td>158.199997</td>\n",
       "      <td>1694.902505</td>\n",
       "      <td>1.012128</td>\n",
       "      <td>596.120130</td>\n",
       "      <td>142.427306</td>\n",
       "      <td>219.684090</td>\n",
       "      <td>True</td>\n",
       "      <td>False</td>\n",
       "      <td>False</td>\n",
       "      <td>False</td>\n",
       "      <td>True</td>\n",
       "    </tr>\n",
       "    <tr>\n",
       "      <th>2</th>\n",
       "      <td>165.100006</td>\n",
       "      <td>2068.087303</td>\n",
       "      <td>1.336732</td>\n",
       "      <td>630.967752</td>\n",
       "      <td>96.604342</td>\n",
       "      <td>209.656326</td>\n",
       "      <td>True</td>\n",
       "      <td>False</td>\n",
       "      <td>False</td>\n",
       "      <td>False</td>\n",
       "      <td>False</td>\n",
       "    </tr>\n",
       "    <tr>\n",
       "      <th>3</th>\n",
       "      <td>59.100006</td>\n",
       "      <td>3678.405384</td>\n",
       "      <td>0.818889</td>\n",
       "      <td>560.766385</td>\n",
       "      <td>141.792340</td>\n",
       "      <td>217.489891</td>\n",
       "      <td>False</td>\n",
       "      <td>False</td>\n",
       "      <td>False</td>\n",
       "      <td>False</td>\n",
       "      <td>True</td>\n",
       "    </tr>\n",
       "    <tr>\n",
       "      <th>4</th>\n",
       "      <td>170.600006</td>\n",
       "      <td>3820.999345</td>\n",
       "      <td>1.708705</td>\n",
       "      <td>547.275225</td>\n",
       "      <td>154.938874</td>\n",
       "      <td>179.188644</td>\n",
       "      <td>True</td>\n",
       "      <td>False</td>\n",
       "      <td>False</td>\n",
       "      <td>False</td>\n",
       "      <td>False</td>\n",
       "    </tr>\n",
       "  </tbody>\n",
       "</table>\n",
       "</div>"
      ],
      "text/plain": [
       "            kl_en         chi2  angle_diff   mass_reco      mom_ks  \\\n",
       "entry                                                                \n",
       "0      232.399994  2149.458193    1.139540  658.528301   79.792470   \n",
       "1      158.199997  1694.902505    1.012128  596.120130  142.427306   \n",
       "2      165.100006  2068.087303    1.336732  630.967752   96.604342   \n",
       "3       59.100006  3678.405384    0.818889  560.766385  141.792340   \n",
       "4      170.600006  3820.999345    1.708705  547.275225  154.938874   \n",
       "\n",
       "          mom_sum  passed_kl  passed_chi2  passed_angle  passed_mom  \\\n",
       "entry                                                                 \n",
       "0      210.942970       True        False         False       False   \n",
       "1      219.684090       True        False         False       False   \n",
       "2      209.656326       True        False         False       False   \n",
       "3      217.489891      False        False         False       False   \n",
       "4      179.188644       True        False         False       False   \n",
       "\n",
       "       passed_mom_sum  \n",
       "entry                  \n",
       "0               False  \n",
       "1                True  \n",
       "2               False  \n",
       "3                True  \n",
       "4               False  "
      ]
     },
     "execution_count": 12,
     "metadata": {},
     "output_type": "execute_result"
    }
   ],
   "source": [
    "df0.head()"
   ]
  },
  {
   "cell_type": "code",
   "execution_count": 21,
   "metadata": {},
   "outputs": [
    {
     "data": {
      "image/png": "[encoded data removed]",
      "text/plain": [
       "<Figure size 1216.8x842.4 with 1 Axes>"
      ]
     },
     "metadata": {},
     "output_type": "display_data"
    }
   ],
   "source": [
    "plt.hist(df0.mom_sum, bins=200, range=(0, 1000), histtype='step', lw=2);\n",
    "# plt.yscale('log')"
   ]
  },
  {
   "cell_type": "code",
   "execution_count": null,
   "metadata": {},
   "outputs": [],
   "source": []
  }
 ],
 "metadata": {
  "kernelspec": {
   "display_name": "Python 3",
   "language": "python",
   "name": "python3"
  },
  "language_info": {
   "codemirror_mode": {
    "name": "ipython",
    "version": 3
   },
   "file_extension": ".py",
   "mimetype": "text/x-python",
   "name": "python",
   "nbconvert_exporter": "python",
   "pygments_lexer": "ipython3",
   "version": "3.7.6"
  }
 },
 "nbformat": 4,
 "nbformat_minor": 4
}
