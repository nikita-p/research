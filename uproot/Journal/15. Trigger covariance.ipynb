{
 "cells": [
  {
   "cell_type": "code",
   "execution_count": 1,
   "metadata": {},
   "outputs": [],
   "source": [
    "import numpy as np\n",
    "import uproot\n",
    "import uproot_methods\n",
    "import pandas as pd\n",
    "import seaborn as sns\n",
    "import matplotlib.pyplot as plt\n",
    "from glob import glob\n",
    "import iminuit\n",
    "import probfit as pf\n",
    "\n",
    "def my_style(title='', xtitle='', ytitle='', gridstyle=':'):\n",
    "    plt.grid(linestyle=gridstyle)\n",
    "    plt.title(title)\n",
    "    plt.xlabel(xtitle)\n",
    "    plt.ylabel(ytitle)\n",
    "    \n",
    "%matplotlib inline\n",
    "import matplotlib\n",
    "from jupyterthemes import jtplot\n",
    "jtplot.style(theme='monokai', context='talk', ticks=True, grid=True, gridlines='--', figsize=(13, 9), fscale=2)\n",
    "matplotlib.rcParams['font.sans-serif'] = ['DejaVu Sans', 'sans-serif']"
   ]
  },
  {
   "cell_type": "code",
   "execution_count": 2,
   "metadata": {},
   "outputs": [
    {
     "name": "stdout",
     "output_type": "stream",
     "text": [
      "/spoolA/petrov/research/uproot/lib\n"
     ]
    }
   ],
   "source": [
    "%cd ../lib/"
   ]
  },
  {
   "cell_type": "code",
   "execution_count": 3,
   "metadata": {},
   "outputs": [],
   "source": [
    "from preparator import get_prepared_table"
   ]
  },
  {
   "cell_type": "code",
   "execution_count": 4,
   "metadata": {},
   "outputs": [],
   "source": [
    "merge_points11 = [([887.5, 900., 912.5, 925., 935.], 910), ([945., 950., 962.5, 975., 987.5, 1000.], 950)]\n",
    "merge_points12 = [([900, 920, 936], 920), ([950, 960, 970,], 950), ([ 980, 990], 960)] #12 year\n",
    "merge_points17 = [([880., 890., 900.], 890), ([910., 920., 930.], 925),\n",
    "           ([937.4, 937.5, 938.3, 938.9, 939.6, 940.2, 940.8], 939)] #17 year\n",
    "merge_points19 = [([862.5, 875.0, 887.5, 900.0], 874), ([912.5, 925.0, 936.0, 945.0], 912), ([950.0, 951.1, 955.0], 952), \n",
    "                  ([962.5, 975.0, 978.0, 987.5], 980)] #19 year"
   ]
  },
  {
   "cell_type": "code",
   "execution_count": 13,
   "metadata": {
    "scrolled": true
   },
   "outputs": [
    {
     "name": "stdout",
     "output_type": "stream",
     "text": [
      "Data folder: ../../outputs/11/trees/*_*.root\n",
      "dataRAW.shape: (3947, 6)\n",
      "Checking: 39 different names in 11 season\n",
      "Energy points with bad trigger:\n",
      " 525.0    15\n",
      "537.5     1\n",
      "Name: name, dtype: int64\n",
      "Bad energy records: 0\n",
      "3919 records left\n",
      "Records in  lum: 40\n",
      "Records in data: 40\n",
      "Differences in lum and data: set()\n",
      "Good. 3920 rows\n",
      "Merge energies\n",
      "Good. 3920 rows\n",
      "Good. 3920 rows\n",
      "Data folder: ../../outputs/12/trees/*_*.root\n",
      "dataRAW.shape: (541, 6)\n",
      "Checking: 16 different names in 12 season\n",
      "Energy points with bad trigger:\n",
      " 640.0    1\n",
      "Name: name, dtype: int64\n",
      "Bad energy records: 0\n",
      "540 records left\n",
      "Records in  lum: 16\n",
      "Records in data: 16\n",
      "Differences in lum and data: set()\n",
      "Good. 540 rows\n",
      "Merge energies\n",
      "Good. 540 rows\n",
      "Good. 540 rows\n",
      "Data folder: ../../outputs/13/trees/*_*.root\n",
      "dataRAW.shape: (2164, 6)\n",
      "Checking: 2 different names in 13 season\n",
      "Energy points with bad trigger:\n",
      " Series([], Name: name, dtype: int64)\n",
      "Bad energy records: 0\n",
      "2164 records left\n",
      "Records in  lum: 2\n",
      "Records in data: 2\n",
      "Differences in lum and data: set()\n",
      "Good. 2164 rows\n",
      "Merge energies\n",
      "Good. 2164 rows\n",
      "Good. 2164 rows\n",
      "Data folder: ../../outputs/17/trees/*_*.root\n",
      "dataRAW.shape: (1957, 6)\n",
      "Checking: 34 different names in 17 season\n",
      "Energy points with bad trigger:\n",
      " Series([], Name: name, dtype: int64)\n",
      "Bad energy records: 0\n",
      "1957 records left\n",
      "Records in  lum: 34\n",
      "Records in data: 34\n",
      "Differences in lum and data: set()\n",
      "Good. 1957 rows\n",
      "Merge energies\n",
      "Good. 1957 rows\n",
      "Good. 1957 rows\n",
      "Data folder: ../../outputs/19/trees/*_*.root\n",
      "dataRAW.shape: (9852, 6)\n",
      "Checking: 44 different names in 19 season\n",
      "Energy points with bad trigger:\n",
      " 812.5    2\n",
      "800.0    2\n",
      "737.5    2\n",
      "662.5    2\n",
      "850.0    1\n",
      "837.5    1\n",
      "775.0    1\n",
      "637.5    1\n",
      "Name: name, dtype: int64\n",
      "Bad energy records: 0\n",
      "9773 records left\n",
      "Records in  lum: 44\n",
      "Records in data: 44\n",
      "Differences in lum and data: set()\n",
      "Good. 9773 rows\n",
      "Merge energies\n",
      "Good. 9773 rows\n",
      "Good. 9773 rows\n"
     ]
    }
   ],
   "source": [
    "data = {'11' : get_prepared_table('11', merge_points11, sys=False),\n",
    "        '12' : get_prepared_table('12', merge_points12, sys=False),\n",
    "        '13' : get_prepared_table('13', sys=False),\n",
    "        '17' : get_prepared_table('17', merge_points17, sys=False),\n",
    "        '19' : get_prepared_table('19', merge_points19, sys=False),\n",
    "       }"
   ]
  },
  {
   "cell_type": "code",
   "execution_count": 40,
   "metadata": {},
   "outputs": [],
   "source": [
    "year = '11'\n",
    "dt = data[year][['trigger','name']].query('name==550')\n",
    "tr = pd.get_dummies(dt.trigger)\n",
    "tr.columns = ['tf', 'cf', 'tc']\n",
    "tr.tf, tr.cf = tr.tf + tr.tc, tr.cf + tr.tc\n",
    "tf, cf, tc = tr.sum()"
   ]
  },
  {
   "cell_type": "code",
   "execution_count": 44,
   "metadata": {},
   "outputs": [
    {
     "name": "stdout",
     "output_type": "stream",
     "text": [
      "0.7446516922646174\n"
     ]
    }
   ],
   "source": [
    "n0 = 521\n",
    "e = tf/n0 + cf/n0 - tf*cf/n0/n0\n",
    "print(e)"
   ]
  },
  {
   "cell_type": "code",
   "execution_count": 42,
   "metadata": {},
   "outputs": [
    {
     "data": {
      "text/html": [
       "<div>\n",
       "<style scoped>\n",
       "    .dataframe tbody tr th:only-of-type {\n",
       "        vertical-align: middle;\n",
       "    }\n",
       "\n",
       "    .dataframe tbody tr th {\n",
       "        vertical-align: top;\n",
       "    }\n",
       "\n",
       "    .dataframe thead th {\n",
       "        text-align: right;\n",
       "    }\n",
       "</style>\n",
       "<table border=\"1\" class=\"dataframe\">\n",
       "  <thead>\n",
       "    <tr style=\"text-align: right;\">\n",
       "      <th></th>\n",
       "      <th>tf</th>\n",
       "      <th>cf</th>\n",
       "      <th>tc</th>\n",
       "    </tr>\n",
       "  </thead>\n",
       "  <tbody>\n",
       "    <tr>\n",
       "      <th>1692</th>\n",
       "      <td>1</td>\n",
       "      <td>0</td>\n",
       "      <td>0</td>\n",
       "    </tr>\n",
       "    <tr>\n",
       "      <th>1693</th>\n",
       "      <td>1</td>\n",
       "      <td>0</td>\n",
       "      <td>0</td>\n",
       "    </tr>\n",
       "    <tr>\n",
       "      <th>1694</th>\n",
       "      <td>1</td>\n",
       "      <td>1</td>\n",
       "      <td>1</td>\n",
       "    </tr>\n",
       "    <tr>\n",
       "      <th>1695</th>\n",
       "      <td>1</td>\n",
       "      <td>1</td>\n",
       "      <td>1</td>\n",
       "    </tr>\n",
       "    <tr>\n",
       "      <th>1696</th>\n",
       "      <td>1</td>\n",
       "      <td>1</td>\n",
       "      <td>1</td>\n",
       "    </tr>\n",
       "    <tr>\n",
       "      <th>...</th>\n",
       "      <td>...</td>\n",
       "      <td>...</td>\n",
       "      <td>...</td>\n",
       "    </tr>\n",
       "    <tr>\n",
       "      <th>2075</th>\n",
       "      <td>0</td>\n",
       "      <td>1</td>\n",
       "      <td>0</td>\n",
       "    </tr>\n",
       "    <tr>\n",
       "      <th>2076</th>\n",
       "      <td>1</td>\n",
       "      <td>1</td>\n",
       "      <td>1</td>\n",
       "    </tr>\n",
       "    <tr>\n",
       "      <th>2077</th>\n",
       "      <td>1</td>\n",
       "      <td>0</td>\n",
       "      <td>0</td>\n",
       "    </tr>\n",
       "    <tr>\n",
       "      <th>2078</th>\n",
       "      <td>1</td>\n",
       "      <td>0</td>\n",
       "      <td>0</td>\n",
       "    </tr>\n",
       "    <tr>\n",
       "      <th>2079</th>\n",
       "      <td>1</td>\n",
       "      <td>1</td>\n",
       "      <td>1</td>\n",
       "    </tr>\n",
       "  </tbody>\n",
       "</table>\n",
       "<p>388 rows × 3 columns</p>\n",
       "</div>"
      ],
      "text/plain": [
       "      tf  cf  tc\n",
       "1692   1   0   0\n",
       "1693   1   0   0\n",
       "1694   1   1   1\n",
       "1695   1   1   1\n",
       "1696   1   1   1\n",
       "...   ..  ..  ..\n",
       "2075   0   1   0\n",
       "2076   1   1   1\n",
       "2077   1   0   0\n",
       "2078   1   0   0\n",
       "2079   1   1   1\n",
       "\n",
       "[388 rows x 3 columns]"
      ]
     },
     "execution_count": 42,
     "metadata": {},
     "output_type": "execute_result"
    }
   ],
   "source": [
    "tr"
   ]
  },
  {
   "cell_type": "code",
   "execution_count": 43,
   "metadata": {},
   "outputs": [
    {
     "data": {
      "text/plain": [
       "521.1881188118812"
      ]
     },
     "execution_count": 43,
     "metadata": {},
     "output_type": "execute_result"
    }
   ],
   "source": [
    "tf*cf/tc"
   ]
  },
  {
   "cell_type": "code",
   "execution_count": 36,
   "metadata": {},
   "outputs": [],
   "source": [
    "trcov = {}\n",
    "for year in data:\n",
    "    tr = data[year][['trigger','name']].set_index('name')\n",
    "    tr = pd.get_dummies(tr.trigger)\n",
    "    tr[0] += tr[2]\n",
    "    tr[1] += tr[2]\n",
    "    tr.drop([2], axis=1, inplace=True)\n",
    "    tr.columns = ['TF', 'CF']    \n",
    "    names, covs = [], []\n",
    "    for name, df in tr.groupby('name'):\n",
    "        dfm = df.mean()\n",
    "        efft = 1 - (1-dfm['TF'])*(1-dfm['CF'])\n",
    "        names.append( name )\n",
    "        covs.append( np.cov( df.values.T )[0,1]/efft )\n",
    "    trcov[year] = (names, covs)"
   ]
  },
  {
   "cell_type": "code",
   "execution_count": 39,
   "metadata": {},
   "outputs": [
    {
     "data": {
      "image/png": "[encoded data removed]",
      "text/plain": [
       "<Figure size 1216.8x842.4 with 1 Axes>"
      ]
     },
     "metadata": {},
     "output_type": "display_data"
    }
   ],
   "source": [
    "plt.scatter( trcov['19'][0], trcov['19'][1], label='19' )\n",
    "# plt.scatter( trcov['17'][0], trcov['17'][1], label='17' )\n",
    "# plt.scatter( trcov['12'][0], trcov['12'][1], label='12' )\n",
    "plt.scatter( trcov['11'][0], trcov['11'][1], label='11' )\n",
    "# plt.scatter( trcov['13'][0], trcov['13'][1], label='13' )\n",
    "my_style('', 'Beam Energy, MeV', 'Relative error')\n",
    "plt.legend();\n",
    "# plt.ylim(-0.05, 0.001)"
   ]
  },
  {
   "cell_type": "code",
   "execution_count": null,
   "metadata": {},
   "outputs": [],
   "source": []
  }
 ],
 "metadata": {
  "kernelspec": {
   "display_name": "Python 3",
   "language": "python",
   "name": "python3"
  },
  "language_info": {
   "codemirror_mode": {
    "name": "ipython",
    "version": 3
   },
   "file_extension": ".py",
   "mimetype": "text/x-python",
   "name": "python",
   "nbconvert_exporter": "python",
   "pygments_lexer": "ipython3",
   "version": "3.7.6"
  }
 },
 "nbformat": 4,
 "nbformat_minor": 4
}
