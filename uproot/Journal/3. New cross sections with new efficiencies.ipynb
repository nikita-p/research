{
 "cells": [
  {
   "cell_type": "markdown",
   "metadata": {},
   "source": [
    "# 2/7/20\n",
    "# 2/10/20\n",
    "\n",
    "Новая задача: пересчитать сечения с новыми эффективностями"
   ]
  },
  {
   "cell_type": "code",
   "execution_count": 1,
   "metadata": {},
   "outputs": [],
   "source": [
    "import numpy as np\n",
    "import pandas as pd\n",
    "import matplotlib.pyplot as plt\n",
    "import seaborn as sns\n",
    "import glob\n",
    "import warnings\n",
    "%matplotlib inline"
   ]
  },
  {
   "cell_type": "code",
   "execution_count": 2,
   "metadata": {},
   "outputs": [],
   "source": [
    "class Analyzer():\n",
    "    def __init__(self, MC=False):\n",
    "        self.files = None\n",
    "        self.frame = None\n",
    "        self.result_frame = None\n",
    "        self.MC = MC\n",
    "        self.result_dict = {}\n",
    "        \n",
    "    def get_triggers(self, x, extended=False):\n",
    "        def error(k, n):\n",
    "            return np.sqrt( (k+1)*(k+2)/(n+2)/(n+3) - (k+1)**2/(n+2)**2 )\n",
    "        \n",
    "        y = (x-1).value_counts()\n",
    "        T = y[0] if 0 in y else 0\n",
    "        C = y[1] if 1 in y else 0\n",
    "        TC = y[2] if 2 in y else 0\n",
    "\n",
    "        effT = (TC+1)/(TC+C+2)\n",
    "        effC = (TC+1)/(TC+T+2)\n",
    "        eff = 1 - (1-effT)*(1-effC)\n",
    "        \n",
    "        errT = error(TC, C+TC)\n",
    "        errC = error(TC, T+TC)\n",
    "        err = np.sqrt( np.square((1-effT)*errC) + np.square((1-effC)*errT) )\n",
    "\n",
    "        return [effT, errT, effC, errC, eff, err] if extended else [eff, err]\n",
    "        \n",
    "    def open_files(self, folder):\n",
    "        self.files = glob.glob(folder+'/*[0-9].csv')\n",
    "        frames = [ pd.read_csv(file).assign(index=i) for i, file in zip(range(100), self.files) ]\n",
    "        self.frame = pd.concat(frames, sort=False, ignore_index=True)\n",
    "        len0 = self.frame.shape[0]\n",
    "        self.frame = self.frame.query('trigbits>=1&trigbits<=3')\n",
    "        print('Bad triggers events dropeed:', len0 - self.frame.shape[0], '| Total num: ', self.frame.shape[0], \n",
    "             '| Energy points:', self.frame['index'].nunique() )\n",
    "        \n",
    "    def merge_points(self, arr):\n",
    "        for c in arr:\n",
    "            self.frame['merged_name'] = self.frame.ebeam.replace(c[0], c[1])\n",
    "    \n",
    "    def add_luminosities(self, lumfile):\n",
    "        lum = pd.read_csv(lumfile).rename({'label':'ebeam'}, axis=1).\\\n",
    "                    sort_values(by='ebeam').drop_duplicates(subset=['ebeam']).drop( ['err'], axis=1)\n",
    "        \n",
    "        if( lum.shape[0]!=self.frame.ebeam.unique().shape[0] ):\n",
    "            warnings.warn('Number of records in data differs from num of records in lum file')\n",
    "        \n",
    "        self.frame = self.frame.merge(lum, on='ebeam')\n",
    "        \n",
    "    def get_mean_energy_table(self):\n",
    "        if not('merged_name' in self.frame):\n",
    "            self.frame['merged_name'] = self.frame.ebeam\n",
    "        table = self.frame.drop_duplicates(subset=['ebeam', 'lum'])\n",
    "        table = table.assign(elum = table['emeas']*table['lum'] )\n",
    "        table = table.groupby('merged_name').agg({'elum': 'sum', 'lum':'sum', 'emeas' : ['min', 'max']})\n",
    "        table['emean'] = table[('elum','sum')]/table[('lum', 'sum')]\n",
    "        table['dEmin'] = table[('emean','')] - table[('emeas', 'min')]\n",
    "        table['dEmax'] = table[('emeas', 'max')] - table[('emean','')]\n",
    "        table.drop([('emeas', 'min'),('emeas', 'max'),('elum', 'sum')], axis=1, inplace=True)\n",
    "        table.columns = ['lum_sum', 'emean', 'demin', 'demax']\n",
    "        return table\n",
    "        \n",
    "    def reshaping(self):\n",
    "        self.result_frame = \\\n",
    "            self.frame.groupby('merged_name').agg({'ksminv': lambda x: list(x), 'trigbits': self.get_triggers})\n",
    "        return\n",
    "        \n",
    "    def baseline11(self):\n",
    "        self.open_files('outputs/2011')\n",
    "        self.add_luminosities('/spoolA/petrov/research/inputs/11/lum.dat')\n",
    "        arr11 = [([887.5, 900., 912.5, 925., 935.], 910), ([945., 950., 962.5, 975., 987.5, 1000.], 950)] \n",
    "        self.merge_points(arr11)\n",
    "        self.reshaping()\n",
    "        energies = self.get_mean_energy_table()\n",
    "        self.result_frame = self.result_frame.join(energies)\n",
    "        \n",
    "        \n",
    "        "
   ]
  },
  {
   "cell_type": "code",
   "execution_count": 3,
   "metadata": {},
   "outputs": [
    {
     "name": "stdout",
     "output_type": "stream",
     "text": [
      "Bad triggers events dropeed: 19 | Total num:  8400 | Energy points: 40\n"
     ]
    }
   ],
   "source": [
    "a = Analyzer()\n",
    "a.baseline11()"
   ]
  },
  {
   "cell_type": "code",
   "execution_count": 4,
   "metadata": {},
   "outputs": [
    {
     "data": {
      "text/plain": [
       "8400"
      ]
     },
     "execution_count": 4,
     "metadata": {},
     "output_type": "execute_result"
    }
   ],
   "source": [
    "len(a.frame)"
   ]
  },
  {
   "cell_type": "code",
   "execution_count": 5,
   "metadata": {},
   "outputs": [],
   "source": [
    "f = a.result_frame"
   ]
  },
  {
   "cell_type": "code",
   "execution_count": 6,
   "metadata": {},
   "outputs": [
    {
     "data": {
      "text/html": [
       "<div>\n",
       "<style scoped>\n",
       "    .dataframe tbody tr th:only-of-type {\n",
       "        vertical-align: middle;\n",
       "    }\n",
       "\n",
       "    .dataframe tbody tr th {\n",
       "        vertical-align: top;\n",
       "    }\n",
       "\n",
       "    .dataframe thead th {\n",
       "        text-align: right;\n",
       "    }\n",
       "</style>\n",
       "<table border=\"1\" class=\"dataframe\">\n",
       "  <thead>\n",
       "    <tr style=\"text-align: right;\">\n",
       "      <th></th>\n",
       "      <th>ksminv</th>\n",
       "      <th>trigbits</th>\n",
       "      <th>lum_sum</th>\n",
       "      <th>emean</th>\n",
       "      <th>demin</th>\n",
       "      <th>demax</th>\n",
       "    </tr>\n",
       "    <tr>\n",
       "      <th>merged_name</th>\n",
       "      <th></th>\n",
       "      <th></th>\n",
       "      <th></th>\n",
       "      <th></th>\n",
       "      <th></th>\n",
       "      <th></th>\n",
       "    </tr>\n",
       "  </thead>\n",
       "  <tbody>\n",
       "    <tr>\n",
       "      <th>525.0</th>\n",
       "      <td>[424.09732, 478.60085999999995, 449.1980599999...</td>\n",
       "      <td>[0.481050128293385, 0.01922738795389701]</td>\n",
       "      <td>469.339</td>\n",
       "      <td>523.580</td>\n",
       "      <td>0.0</td>\n",
       "      <td>0.0</td>\n",
       "    </tr>\n",
       "    <tr>\n",
       "      <th>537.5</th>\n",
       "      <td>[494.11465, 14.376098999999998, 496.9342299999...</td>\n",
       "      <td>[0.9671767264890474, 0.006699160372534455]</td>\n",
       "      <td>554.231</td>\n",
       "      <td>537.410</td>\n",
       "      <td>0.0</td>\n",
       "      <td>0.0</td>\n",
       "    </tr>\n",
       "    <tr>\n",
       "      <th>550.0</th>\n",
       "      <td>[576.6827, 498.27145, 504.13055, 551.39276, 50...</td>\n",
       "      <td>[0.6784072471606273, 0.03119468492796836]</td>\n",
       "      <td>493.501</td>\n",
       "      <td>548.440</td>\n",
       "      <td>0.0</td>\n",
       "      <td>0.0</td>\n",
       "    </tr>\n",
       "    <tr>\n",
       "      <th>562.5</th>\n",
       "      <td>[501.2009, 510.38516, 499.17462, 520.2958, 500...</td>\n",
       "      <td>[0.9521291448516579, 0.012846519655340878]</td>\n",
       "      <td>549.094</td>\n",
       "      <td>562.134</td>\n",
       "      <td>0.0</td>\n",
       "      <td>0.0</td>\n",
       "    </tr>\n",
       "    <tr>\n",
       "      <th>575.0</th>\n",
       "      <td>[469.62625, 497.8826, 535.2342, 519.1692, 488....</td>\n",
       "      <td>[0.6678714467129042, 0.04482254438689559]</td>\n",
       "      <td>493.710</td>\n",
       "      <td>575.310</td>\n",
       "      <td>0.0</td>\n",
       "      <td>0.0</td>\n",
       "    </tr>\n",
       "  </tbody>\n",
       "</table>\n",
       "</div>"
      ],
      "text/plain": [
       "                                                        ksminv  \\\n",
       "merged_name                                                      \n",
       "525.0        [424.09732, 478.60085999999995, 449.1980599999...   \n",
       "537.5        [494.11465, 14.376098999999998, 496.9342299999...   \n",
       "550.0        [576.6827, 498.27145, 504.13055, 551.39276, 50...   \n",
       "562.5        [501.2009, 510.38516, 499.17462, 520.2958, 500...   \n",
       "575.0        [469.62625, 497.8826, 535.2342, 519.1692, 488....   \n",
       "\n",
       "                                               trigbits  lum_sum    emean  \\\n",
       "merged_name                                                                 \n",
       "525.0          [0.481050128293385, 0.01922738795389701]  469.339  523.580   \n",
       "537.5        [0.9671767264890474, 0.006699160372534455]  554.231  537.410   \n",
       "550.0         [0.6784072471606273, 0.03119468492796836]  493.501  548.440   \n",
       "562.5        [0.9521291448516579, 0.012846519655340878]  549.094  562.134   \n",
       "575.0         [0.6678714467129042, 0.04482254438689559]  493.710  575.310   \n",
       "\n",
       "             demin  demax  \n",
       "merged_name                \n",
       "525.0          0.0    0.0  \n",
       "537.5          0.0    0.0  \n",
       "550.0          0.0    0.0  \n",
       "562.5          0.0    0.0  \n",
       "575.0          0.0    0.0  "
      ]
     },
     "execution_count": 6,
     "metadata": {},
     "output_type": "execute_result"
    }
   ],
   "source": [
    "f.head()"
   ]
  },
  {
   "cell_type": "code",
   "execution_count": 7,
   "metadata": {},
   "outputs": [],
   "source": [
    "import iminuit\n",
    "import probfit as pf\n",
    "plt.rcParams.update({'font.size': 18, 'figure.figsize':(16,9)})\n",
    "mass_bound = (450, 550)"
   ]
  },
  {
   "cell_type": "code",
   "execution_count": 8,
   "metadata": {},
   "outputs": [
    {
     "data": {
      "text/plain": [
       "['x', 'M', '$\\\\sigma$', '$N_{sig}$', '$N_{bkg}$']"
      ]
     },
     "execution_count": 8,
     "metadata": {},
     "output_type": "execute_result"
    }
   ],
   "source": [
    "#2 гаусса\n",
    "def constant(x):\n",
    "    return 1\n",
    "def gauss(x, mu, sigma):\n",
    "    return pf.gaussian(x, mu, sigma)\n",
    "\n",
    "norm_sig = pf.rename( pf.Normalized( gauss, mass_bound ), ['x', 'M', '$\\\\sigma$'] )\n",
    "norm_bkg = pf.Normalized( constant, mass_bound )\n",
    "\n",
    "ext_sig = pf.Extended(norm_sig, extname='$N_{sig}$')\n",
    "ext_bkg = pf.Extended(norm_bkg, extname='$N_{bkg}$')\n",
    "\n",
    "pdf = pf.AddPdf(ext_sig, ext_bkg)\n",
    "\n",
    "MLim = (498.1, 5.0)\n",
    "sigmaLim = (6.04, 5.0)\n",
    "\n",
    "limits = {\n",
    "    \"limit_M\": [MLim[0]-MLim[1], MLim[0]+MLim[1]],\n",
    "    \"limit_$\\\\sigma$\": [sigmaLim[0] - sigmaLim[1], sigmaLim[0] + sigmaLim[1]],\n",
    "    \"limit_$N_{sig}$\": [0, 100000],\n",
    "    \"limit_$N_{bkg}$\": [0, 2000]\n",
    "}\n",
    "errors = {\n",
    "    \"error_M\": 1,\n",
    "    \"error_$\\\\sigma$\": 0.1,\n",
    "    \"error_$N_{sig}$\": 0.3,\n",
    "    \"error_$N_{bkg}$\": 0.1,\n",
    "}\n",
    "\n",
    "pf.describe(pdf)"
   ]
  },
  {
   "cell_type": "code",
   "execution_count": 14,
   "metadata": {},
   "outputs": [],
   "source": [
    "def fitter(dic, nbins, energy, binnedLik=False, simple_plot=False):\n",
    "    \n",
    "    likelihood = pf.UnbinnedLH(pdf, dic, extended=True, extended_bound=mass_bound) if not(binnedLik) else \\\n",
    "    pf.BinnedLH(pdf, dic, int(nbins*(mass_bound[1]-mass_bound[0])/100.), bound=mass_bound, extended=True)\n",
    "    \n",
    "    initial_par_values = {\"M\": 497.6, \"$\\sigma$\": 4.26, \"$N_{sig}$\": np.size(dic), \"$N_{bkg}$\": 1}\n",
    "    mt = iminuit.Minuit(likelihood, **initial_par_values, **errors, **limits, pedantic=False)\n",
    "    mt.migrad();\n",
    "        \n",
    "    if simple_plot:\n",
    "        likelihood.draw(minuit=mt) if binnedLik else likelihood.draw(minuit=mt, bins=nbins, bound=mass_bound)\n",
    "    else:\n",
    "        fig = plt.figure(figsize=(16, 10), dpi= 80)\n",
    "        grid = plt.GridSpec(4, 4, hspace=0.5, wspace=0.2)\n",
    "\n",
    "        # Define the axes\n",
    "        ax_main = fig.add_subplot(grid[:-1, :])\n",
    "        ax_main.grid(ls=':')\n",
    "        box_1 = {'facecolor':'black', 'boxstyle': 'round'}\n",
    "\n",
    "        if binnedLik:\n",
    "            likelihood.draw(minuit=mt, print_par=True);\n",
    "        else:\n",
    "            likelihood.draw(minuit=mt, bins=nbins, bound=mass_bound, print_par=True)\n",
    "\n",
    "        plt.tick_params(labelsize=20);\n",
    "        plt.xlabel('invariant mass, MeV', fontsize=20)\n",
    "        plt.ylabel('number of events per bin', fontsize=20)\n",
    "\n",
    "        # this is an inset axes over the main axes\n",
    "        ax_bottom = fig.add_subplot(grid[-1, :], xticklabels=[])\n",
    "        ax_bottom.grid(ls=':')\n",
    "        likelihood.draw_residual(minuit=mt) if binnedLik else \\\n",
    "        likelihood.draw_residual(minuit=mt, bins=nbins, bound=mass_bound)\n",
    "    \n",
    "#         plt.savefig(f'../outputs/{year}/figures/fit_e{energy}.pdf')\n",
    "    return mt, likelihood"
   ]
  },
  {
   "cell_type": "code",
   "execution_count": 37,
   "metadata": {},
   "outputs": [],
   "source": [
    "it = f.iterrows()\n",
    "fit_frame = pd.DataFrame(columns=[ 'Mass', 'Sigma', 'Nsig', 'Nbkg', \n",
    "                                  'Merr', 'Serr', 'Nerr', 'Nbkg'])"
   ]
  },
  {
   "cell_type": "code",
   "execution_count": 62,
   "metadata": {},
   "outputs": [
    {
     "name": "stdout",
     "output_type": "stream",
     "text": [
      "Energy: 637.5\n"
     ]
    }
   ],
   "source": [
    "i = next(it)\n",
    "print('Energy:', i[0])"
   ]
  },
  {
   "cell_type": "code",
   "execution_count": 63,
   "metadata": {},
   "outputs": [
    {
     "name": "stdout",
     "output_type": "stream",
     "text": [
      "Migrad quality: True\n",
      "Real: 473 Found: 473.03376459328706\n"
     ]
    },
    {
     "data": {
      "image/png": "[encoded data removed]",
      "text/plain": [
       "<Figure size 1280x800 with 2 Axes>"
      ]
     },
     "metadata": {
      "needs_background": "light"
     },
     "output_type": "display_data"
    }
   ],
   "source": [
    "mt, lk = fitter( np.array( i[1]['ksminv'] ), 50, i, binnedLik=False)\n",
    "fit_frame.loc[ i[0] ] = mt.values.values() + mt.errors.values()\n",
    "print(\"Migrad quality:\", mt.migrad_ok())\n",
    "print( 'Real:', np.size( i[1]['ksminv'] ), 'Found:', mt.values['$N_{sig}$'] + mt.values['$N_{bkg}$'] )"
   ]
  },
  {
   "cell_type": "code",
   "execution_count": 47,
   "metadata": {},
   "outputs": [
    {
     "data": {
      "text/html": [
       "<div>\n",
       "<style scoped>\n",
       "    .dataframe tbody tr th:only-of-type {\n",
       "        vertical-align: middle;\n",
       "    }\n",
       "\n",
       "    .dataframe tbody tr th {\n",
       "        vertical-align: top;\n",
       "    }\n",
       "\n",
       "    .dataframe thead th {\n",
       "        text-align: right;\n",
       "    }\n",
       "</style>\n",
       "<table border=\"1\" class=\"dataframe\">\n",
       "  <thead>\n",
       "    <tr style=\"text-align: right;\">\n",
       "      <th></th>\n",
       "      <th>Mass</th>\n",
       "      <th>Sigma</th>\n",
       "      <th>Nsig</th>\n",
       "      <th>Nbkg</th>\n",
       "      <th>Merr</th>\n",
       "      <th>Serr</th>\n",
       "      <th>Nerr</th>\n",
       "      <th>Nbkg</th>\n",
       "    </tr>\n",
       "  </thead>\n",
       "  <tbody>\n",
       "    <tr>\n",
       "      <th>525.0</th>\n",
       "      <td>496.124846</td>\n",
       "      <td>5.359877</td>\n",
       "      <td>772.684378</td>\n",
       "      <td>197.278110</td>\n",
       "      <td>0.213588</td>\n",
       "      <td>0.177328</td>\n",
       "      <td>29.539438</td>\n",
       "      <td>17.237246</td>\n",
       "    </tr>\n",
       "    <tr>\n",
       "      <th>537.5</th>\n",
       "      <td>497.989743</td>\n",
       "      <td>4.671209</td>\n",
       "      <td>872.755169</td>\n",
       "      <td>194.369187</td>\n",
       "      <td>0.174883</td>\n",
       "      <td>0.153364</td>\n",
       "      <td>31.191566</td>\n",
       "      <td>17.159424</td>\n",
       "    </tr>\n",
       "    <tr>\n",
       "      <th>550.0</th>\n",
       "      <td>496.924988</td>\n",
       "      <td>5.309434</td>\n",
       "      <td>356.683461</td>\n",
       "      <td>309.350731</td>\n",
       "      <td>0.352238</td>\n",
       "      <td>0.323103</td>\n",
       "      <td>22.392748</td>\n",
       "      <td>21.306673</td>\n",
       "    </tr>\n",
       "    <tr>\n",
       "      <th>562.5</th>\n",
       "      <td>497.622840</td>\n",
       "      <td>4.660836</td>\n",
       "      <td>368.014312</td>\n",
       "      <td>241.983989</td>\n",
       "      <td>0.291909</td>\n",
       "      <td>0.268369</td>\n",
       "      <td>21.688346</td>\n",
       "      <td>18.554134</td>\n",
       "    </tr>\n",
       "  </tbody>\n",
       "</table>\n",
       "</div>"
      ],
      "text/plain": [
       "             Mass     Sigma        Nsig        Nbkg      Merr      Serr  \\\n",
       "525.0  496.124846  5.359877  772.684378  197.278110  0.213588  0.177328   \n",
       "537.5  497.989743  4.671209  872.755169  194.369187  0.174883  0.153364   \n",
       "550.0  496.924988  5.309434  356.683461  309.350731  0.352238  0.323103   \n",
       "562.5  497.622840  4.660836  368.014312  241.983989  0.291909  0.268369   \n",
       "\n",
       "            Nerr       Nbkg  \n",
       "525.0  29.539438  17.237246  \n",
       "537.5  31.191566  17.159424  \n",
       "550.0  22.392748  21.306673  \n",
       "562.5  21.688346  18.554134  "
      ]
     },
     "execution_count": 47,
     "metadata": {},
     "output_type": "execute_result"
    }
   ],
   "source": [
    "fit_frame"
   ]
  },
  {
   "cell_type": "code",
   "execution_count": null,
   "metadata": {},
   "outputs": [],
   "source": []
  },
  {
   "cell_type": "code",
   "execution_count": null,
   "metadata": {},
   "outputs": [],
   "source": []
  },
  {
   "cell_type": "code",
   "execution_count": null,
   "metadata": {},
   "outputs": [],
   "source": []
  },
  {
   "cell_type": "code",
   "execution_count": null,
   "metadata": {},
   "outputs": [],
   "source": []
  },
  {
   "cell_type": "code",
   "execution_count": null,
   "metadata": {},
   "outputs": [],
   "source": []
  },
  {
   "cell_type": "code",
   "execution_count": null,
   "metadata": {},
   "outputs": [],
   "source": []
  },
  {
   "cell_type": "code",
   "execution_count": null,
   "metadata": {},
   "outputs": [],
   "source": []
  },
  {
   "cell_type": "code",
   "execution_count": null,
   "metadata": {},
   "outputs": [],
   "source": []
  },
  {
   "cell_type": "code",
   "execution_count": null,
   "metadata": {},
   "outputs": [],
   "source": []
  },
  {
   "cell_type": "code",
   "execution_count": null,
   "metadata": {},
   "outputs": [],
   "source": []
  },
  {
   "cell_type": "code",
   "execution_count": null,
   "metadata": {},
   "outputs": [],
   "source": []
  },
  {
   "cell_type": "code",
   "execution_count": 1,
   "metadata": {},
   "outputs": [],
   "source": [
    "import numpy as np\n",
    "import pandas as pd\n",
    "import matplotlib.pyplot as plt\n",
    "import seaborn as sns\n",
    "from glob import glob\n",
    "\n",
    "%matplotlib inline"
   ]
  },
  {
   "cell_type": "markdown",
   "metadata": {},
   "source": [
    "Получить данные по 11 году"
   ]
  },
  {
   "cell_type": "code",
   "execution_count": 100,
   "metadata": {},
   "outputs": [],
   "source": [
    "data = [\n",
    "    pd.read_csv('/spoolA/petrov/research/outputs/11/tables/signal_table11.csv', index_col=['name']),\n",
    "    pd.read_csv('/spoolA/petrov/research/outputs/12/tables/signal_table12.csv', index_col=['name']),\n",
    "    pd.read_csv('/spoolA/petrov/research/outputs/17/tables/signal_table17.csv', index_col=['name']),\n",
    "]"
   ]
  },
  {
   "cell_type": "markdown",
   "metadata": {},
   "source": [
    "Триггеры"
   ]
  },
  {
   "cell_type": "code",
   "execution_count": 101,
   "metadata": {},
   "outputs": [],
   "source": [
    "tr = [\n",
    "    pd.read_csv('/spoolA/petrov/research/outputs/11/tables/triggers11.csv', index_col=['name']),\n",
    "    pd.read_csv('/spoolA/petrov/research/outputs/12/tables/triggers12.csv', index_col=['name']),\n",
    "    pd.read_csv('/spoolA/petrov/research/outputs/17/tables/triggers17.csv', index_col=['name']),\n",
    "]"
   ]
  },
  {
   "cell_type": "code",
   "execution_count": 102,
   "metadata": {},
   "outputs": [],
   "source": [
    "data = [ d.join( t[['TrigEff', 'TrigErr']] ) for d, t in zip(data,tr) ]"
   ]
  },
  {
   "cell_type": "markdown",
   "metadata": {},
   "source": [
    "Получить моделирование"
   ]
  },
  {
   "cell_type": "code",
   "execution_count": 103,
   "metadata": {},
   "outputs": [],
   "source": [
    "reg_eff_new = pd.read_csv('outputs/model_new/summary.csv').rename({'Unnamed: 0':'Energy'},axis=1).sort_values('Energy')\n",
    "reg_eff_old = pd.read_csv('outputs/model_old/summary.csv').rename({'Unnamed: 0':'Energy'},axis=1).sort_values('Energy')"
   ]
  },
  {
   "cell_type": "code",
   "execution_count": 104,
   "metadata": {},
   "outputs": [],
   "source": [
    "for r in [reg_eff_new, reg_eff_old]:\n",
    "    r['soft'] = r.Nsig/r.Soft_tot\n",
    "    r['soft_err'] = np.sqrt(r.Nsig)/r.Soft_tot\n",
    "    r['all'] = r.Nsig/r.All_tot\n",
    "    r['all_err'] = np.sqrt(r.Nsig)/r.All_tot"
   ]
  },
  {
   "cell_type": "code",
   "execution_count": 105,
   "metadata": {},
   "outputs": [
    {
     "data": {
      "text/html": [
       "<div>\n",
       "<style scoped>\n",
       "    .dataframe tbody tr th:only-of-type {\n",
       "        vertical-align: middle;\n",
       "    }\n",
       "\n",
       "    .dataframe tbody tr th {\n",
       "        vertical-align: top;\n",
       "    }\n",
       "\n",
       "    .dataframe thead th {\n",
       "        text-align: right;\n",
       "    }\n",
       "</style>\n",
       "<table border=\"1\" class=\"dataframe\">\n",
       "  <thead>\n",
       "    <tr style=\"text-align: right;\">\n",
       "      <th></th>\n",
       "      <th>Energy</th>\n",
       "      <th>Nsig</th>\n",
       "      <th>Soft_tot</th>\n",
       "      <th>All_tot</th>\n",
       "      <th>soft</th>\n",
       "      <th>soft_err</th>\n",
       "      <th>all</th>\n",
       "      <th>all_err</th>\n",
       "    </tr>\n",
       "  </thead>\n",
       "  <tbody>\n",
       "    <tr>\n",
       "      <th>28</th>\n",
       "      <td>525.0</td>\n",
       "      <td>2728</td>\n",
       "      <td>10038.0</td>\n",
       "      <td>20000.0</td>\n",
       "      <td>0.271767</td>\n",
       "      <td>0.005203</td>\n",
       "      <td>0.13640</td>\n",
       "      <td>0.002612</td>\n",
       "    </tr>\n",
       "    <tr>\n",
       "      <th>10</th>\n",
       "      <td>537.5</td>\n",
       "      <td>2490</td>\n",
       "      <td>8783.0</td>\n",
       "      <td>20000.0</td>\n",
       "      <td>0.283502</td>\n",
       "      <td>0.005681</td>\n",
       "      <td>0.12450</td>\n",
       "      <td>0.002495</td>\n",
       "    </tr>\n",
       "    <tr>\n",
       "      <th>32</th>\n",
       "      <td>550.0</td>\n",
       "      <td>2235</td>\n",
       "      <td>7905.0</td>\n",
       "      <td>20000.0</td>\n",
       "      <td>0.282732</td>\n",
       "      <td>0.005980</td>\n",
       "      <td>0.11175</td>\n",
       "      <td>0.002364</td>\n",
       "    </tr>\n",
       "    <tr>\n",
       "      <th>13</th>\n",
       "      <td>562.5</td>\n",
       "      <td>2059</td>\n",
       "      <td>7350.0</td>\n",
       "      <td>20000.0</td>\n",
       "      <td>0.280136</td>\n",
       "      <td>0.006174</td>\n",
       "      <td>0.10295</td>\n",
       "      <td>0.002269</td>\n",
       "    </tr>\n",
       "    <tr>\n",
       "      <th>8</th>\n",
       "      <td>575.0</td>\n",
       "      <td>1917</td>\n",
       "      <td>6821.0</td>\n",
       "      <td>20000.0</td>\n",
       "      <td>0.281044</td>\n",
       "      <td>0.006419</td>\n",
       "      <td>0.09585</td>\n",
       "      <td>0.002189</td>\n",
       "    </tr>\n",
       "  </tbody>\n",
       "</table>\n",
       "</div>"
      ],
      "text/plain": [
       "    Energy  Nsig  Soft_tot  All_tot      soft  soft_err      all   all_err\n",
       "28   525.0  2728   10038.0  20000.0  0.271767  0.005203  0.13640  0.002612\n",
       "10   537.5  2490    8783.0  20000.0  0.283502  0.005681  0.12450  0.002495\n",
       "32   550.0  2235    7905.0  20000.0  0.282732  0.005980  0.11175  0.002364\n",
       "13   562.5  2059    7350.0  20000.0  0.280136  0.006174  0.10295  0.002269\n",
       "8    575.0  1917    6821.0  20000.0  0.281044  0.006419  0.09585  0.002189"
      ]
     },
     "execution_count": 105,
     "metadata": {},
     "output_type": "execute_result"
    }
   ],
   "source": [
    "reg_eff_new.head()"
   ]
  },
  {
   "cell_type": "code",
   "execution_count": 106,
   "metadata": {},
   "outputs": [
    {
     "data": {
      "text/plain": [
       "<matplotlib.collections.PathCollection at 0x7f9565af1bd0>"
      ]
     },
     "execution_count": 106,
     "metadata": {},
     "output_type": "execute_result"
    },
    {
     "data": {
      "image/png": "[encoded data removed]",
      "text/plain": [
       "<Figure size 432x288 with 1 Axes>"
      ]
     },
     "metadata": {
      "needs_background": "light"
     },
     "output_type": "display_data"
    }
   ],
   "source": [
    "plt.scatter(reg_eff_old.Energy, reg_eff_old['all'])\n",
    "plt.scatter(reg_eff_new.Energy, reg_eff_new['all'])"
   ]
  },
  {
   "cell_type": "markdown",
   "metadata": {},
   "source": [
    "Видимое сечение"
   ]
  },
  {
   "cell_type": "code",
   "execution_count": 107,
   "metadata": {},
   "outputs": [
    {
     "data": {
      "text/html": [
       "<div>\n",
       "<style scoped>\n",
       "    .dataframe tbody tr th:only-of-type {\n",
       "        vertical-align: middle;\n",
       "    }\n",
       "\n",
       "    .dataframe tbody tr th {\n",
       "        vertical-align: top;\n",
       "    }\n",
       "\n",
       "    .dataframe thead th {\n",
       "        text-align: right;\n",
       "    }\n",
       "</style>\n",
       "<table border=\"1\" class=\"dataframe\">\n",
       "  <thead>\n",
       "    <tr style=\"text-align: right;\">\n",
       "      <th></th>\n",
       "      <th>lum</th>\n",
       "      <th>dEmin</th>\n",
       "      <th>dEmax</th>\n",
       "      <th>Emean</th>\n",
       "      <th>Nsig</th>\n",
       "      <th>dNsig</th>\n",
       "      <th>TrigEff</th>\n",
       "      <th>TrigErr</th>\n",
       "    </tr>\n",
       "    <tr>\n",
       "      <th>name</th>\n",
       "      <th></th>\n",
       "      <th></th>\n",
       "      <th></th>\n",
       "      <th></th>\n",
       "      <th></th>\n",
       "      <th></th>\n",
       "      <th></th>\n",
       "      <th></th>\n",
       "    </tr>\n",
       "  </thead>\n",
       "  <tbody>\n",
       "    <tr>\n",
       "      <th>525.0</th>\n",
       "      <td>469.34</td>\n",
       "      <td>0.0</td>\n",
       "      <td>0.0</td>\n",
       "      <td>523.58</td>\n",
       "      <td>794.66</td>\n",
       "      <td>29.02</td>\n",
       "      <td>0.5197</td>\n",
       "      <td>0.0202</td>\n",
       "    </tr>\n",
       "    <tr>\n",
       "      <th>537.5</th>\n",
       "      <td>554.23</td>\n",
       "      <td>0.0</td>\n",
       "      <td>0.0</td>\n",
       "      <td>537.41</td>\n",
       "      <td>885.51</td>\n",
       "      <td>30.27</td>\n",
       "      <td>0.9714</td>\n",
       "      <td>0.0061</td>\n",
       "    </tr>\n",
       "    <tr>\n",
       "      <th>550.0</th>\n",
       "      <td>493.50</td>\n",
       "      <td>0.0</td>\n",
       "      <td>0.0</td>\n",
       "      <td>548.44</td>\n",
       "      <td>380.02</td>\n",
       "      <td>20.00</td>\n",
       "      <td>0.7381</td>\n",
       "      <td>0.0276</td>\n",
       "    </tr>\n",
       "    <tr>\n",
       "      <th>562.5</th>\n",
       "      <td>549.09</td>\n",
       "      <td>0.0</td>\n",
       "      <td>0.0</td>\n",
       "      <td>562.13</td>\n",
       "      <td>386.98</td>\n",
       "      <td>20.26</td>\n",
       "      <td>0.9679</td>\n",
       "      <td>0.0099</td>\n",
       "    </tr>\n",
       "    <tr>\n",
       "      <th>575.0</th>\n",
       "      <td>493.71</td>\n",
       "      <td>0.0</td>\n",
       "      <td>0.0</td>\n",
       "      <td>575.31</td>\n",
       "      <td>158.02</td>\n",
       "      <td>12.99</td>\n",
       "      <td>0.7425</td>\n",
       "      <td>0.0408</td>\n",
       "    </tr>\n",
       "  </tbody>\n",
       "</table>\n",
       "</div>"
      ],
      "text/plain": [
       "          lum  dEmin  dEmax   Emean    Nsig  dNsig  TrigEff  TrigErr\n",
       "name                                                                \n",
       "525.0  469.34    0.0    0.0  523.58  794.66  29.02   0.5197   0.0202\n",
       "537.5  554.23    0.0    0.0  537.41  885.51  30.27   0.9714   0.0061\n",
       "550.0  493.50    0.0    0.0  548.44  380.02  20.00   0.7381   0.0276\n",
       "562.5  549.09    0.0    0.0  562.13  386.98  20.26   0.9679   0.0099\n",
       "575.0  493.71    0.0    0.0  575.31  158.02  12.99   0.7425   0.0408"
      ]
     },
     "execution_count": 107,
     "metadata": {},
     "output_type": "execute_result"
    }
   ],
   "source": [
    "data[0].head()"
   ]
  },
  {
   "cell_type": "code",
   "execution_count": 108,
   "metadata": {},
   "outputs": [],
   "source": [
    "def reg_eff(data, soft=True, new=True):\n",
    "    data = data.copy()\n",
    "    reg_df = reg_eff_new if new else reg_eff_old\n",
    "    field = 'soft' if soft else 'all'\n",
    "    \n",
    "    data['RegEff'] = np.interp(data.index, reg_df.Energy, reg_df[field] )\n",
    "    data['RegErr'] = np.interp(data.index, reg_df.Energy, reg_df[field+'_err'] )\n",
    "    \n",
    "    return data"
   ]
  },
  {
   "cell_type": "code",
   "execution_count": 121,
   "metadata": {},
   "outputs": [],
   "source": [
    "data_new = [ reg_eff(d, soft=True, new=True) for d in data ]\n",
    "data_old = [ reg_eff(d, soft=True, new=False) for d in data ]"
   ]
  },
  {
   "cell_type": "code",
   "execution_count": 122,
   "metadata": {},
   "outputs": [
    {
     "data": {
      "text/html": [
       "<div>\n",
       "<style scoped>\n",
       "    .dataframe tbody tr th:only-of-type {\n",
       "        vertical-align: middle;\n",
       "    }\n",
       "\n",
       "    .dataframe tbody tr th {\n",
       "        vertical-align: top;\n",
       "    }\n",
       "\n",
       "    .dataframe thead th {\n",
       "        text-align: right;\n",
       "    }\n",
       "</style>\n",
       "<table border=\"1\" class=\"dataframe\">\n",
       "  <thead>\n",
       "    <tr style=\"text-align: right;\">\n",
       "      <th></th>\n",
       "      <th>lum</th>\n",
       "      <th>dEmin</th>\n",
       "      <th>dEmax</th>\n",
       "      <th>Emean</th>\n",
       "      <th>Nsig</th>\n",
       "      <th>dNsig</th>\n",
       "      <th>TrigEff</th>\n",
       "      <th>TrigErr</th>\n",
       "      <th>RegEff</th>\n",
       "      <th>RegErr</th>\n",
       "    </tr>\n",
       "    <tr>\n",
       "      <th>name</th>\n",
       "      <th></th>\n",
       "      <th></th>\n",
       "      <th></th>\n",
       "      <th></th>\n",
       "      <th></th>\n",
       "      <th></th>\n",
       "      <th></th>\n",
       "      <th></th>\n",
       "      <th></th>\n",
       "      <th></th>\n",
       "    </tr>\n",
       "  </thead>\n",
       "  <tbody>\n",
       "    <tr>\n",
       "      <th>525.0</th>\n",
       "      <td>469.34</td>\n",
       "      <td>0.0</td>\n",
       "      <td>0.0</td>\n",
       "      <td>523.58</td>\n",
       "      <td>794.66</td>\n",
       "      <td>29.02</td>\n",
       "      <td>0.5197</td>\n",
       "      <td>0.0202</td>\n",
       "      <td>0.271767</td>\n",
       "      <td>0.005203</td>\n",
       "    </tr>\n",
       "    <tr>\n",
       "      <th>537.5</th>\n",
       "      <td>554.23</td>\n",
       "      <td>0.0</td>\n",
       "      <td>0.0</td>\n",
       "      <td>537.41</td>\n",
       "      <td>885.51</td>\n",
       "      <td>30.27</td>\n",
       "      <td>0.9714</td>\n",
       "      <td>0.0061</td>\n",
       "      <td>0.270140</td>\n",
       "      <td>0.005650</td>\n",
       "    </tr>\n",
       "    <tr>\n",
       "      <th>550.0</th>\n",
       "      <td>493.50</td>\n",
       "      <td>0.0</td>\n",
       "      <td>0.0</td>\n",
       "      <td>548.44</td>\n",
       "      <td>380.02</td>\n",
       "      <td>20.00</td>\n",
       "      <td>0.7381</td>\n",
       "      <td>0.0276</td>\n",
       "      <td>0.268512</td>\n",
       "      <td>0.006096</td>\n",
       "    </tr>\n",
       "    <tr>\n",
       "      <th>562.5</th>\n",
       "      <td>549.09</td>\n",
       "      <td>0.0</td>\n",
       "      <td>0.0</td>\n",
       "      <td>562.13</td>\n",
       "      <td>386.98</td>\n",
       "      <td>20.26</td>\n",
       "      <td>0.9679</td>\n",
       "      <td>0.0099</td>\n",
       "      <td>0.267316</td>\n",
       "      <td>0.006480</td>\n",
       "    </tr>\n",
       "    <tr>\n",
       "      <th>575.0</th>\n",
       "      <td>493.71</td>\n",
       "      <td>0.0</td>\n",
       "      <td>0.0</td>\n",
       "      <td>575.31</td>\n",
       "      <td>158.02</td>\n",
       "      <td>12.99</td>\n",
       "      <td>0.7425</td>\n",
       "      <td>0.0408</td>\n",
       "      <td>0.269742</td>\n",
       "      <td>0.006958</td>\n",
       "    </tr>\n",
       "  </tbody>\n",
       "</table>\n",
       "</div>"
      ],
      "text/plain": [
       "          lum  dEmin  dEmax   Emean    Nsig  dNsig  TrigEff  TrigErr  \\\n",
       "name                                                                   \n",
       "525.0  469.34    0.0    0.0  523.58  794.66  29.02   0.5197   0.0202   \n",
       "537.5  554.23    0.0    0.0  537.41  885.51  30.27   0.9714   0.0061   \n",
       "550.0  493.50    0.0    0.0  548.44  380.02  20.00   0.7381   0.0276   \n",
       "562.5  549.09    0.0    0.0  562.13  386.98  20.26   0.9679   0.0099   \n",
       "575.0  493.71    0.0    0.0  575.31  158.02  12.99   0.7425   0.0408   \n",
       "\n",
       "         RegEff    RegErr  \n",
       "name                       \n",
       "525.0  0.271767  0.005203  \n",
       "537.5  0.270140  0.005650  \n",
       "550.0  0.268512  0.006096  \n",
       "562.5  0.267316  0.006480  \n",
       "575.0  0.269742  0.006958  "
      ]
     },
     "execution_count": 122,
     "metadata": {},
     "output_type": "execute_result"
    }
   ],
   "source": [
    "data_old[0].head()"
   ]
  },
  {
   "cell_type": "code",
   "execution_count": 123,
   "metadata": {},
   "outputs": [
    {
     "data": {
      "text/html": [
       "<div>\n",
       "<style scoped>\n",
       "    .dataframe tbody tr th:only-of-type {\n",
       "        vertical-align: middle;\n",
       "    }\n",
       "\n",
       "    .dataframe tbody tr th {\n",
       "        vertical-align: top;\n",
       "    }\n",
       "\n",
       "    .dataframe thead th {\n",
       "        text-align: right;\n",
       "    }\n",
       "</style>\n",
       "<table border=\"1\" class=\"dataframe\">\n",
       "  <thead>\n",
       "    <tr style=\"text-align: right;\">\n",
       "      <th></th>\n",
       "      <th>lum</th>\n",
       "      <th>dEmin</th>\n",
       "      <th>dEmax</th>\n",
       "      <th>Emean</th>\n",
       "      <th>Nsig</th>\n",
       "      <th>dNsig</th>\n",
       "      <th>TrigEff</th>\n",
       "      <th>TrigErr</th>\n",
       "      <th>RegEff</th>\n",
       "      <th>RegErr</th>\n",
       "    </tr>\n",
       "    <tr>\n",
       "      <th>name</th>\n",
       "      <th></th>\n",
       "      <th></th>\n",
       "      <th></th>\n",
       "      <th></th>\n",
       "      <th></th>\n",
       "      <th></th>\n",
       "      <th></th>\n",
       "      <th></th>\n",
       "      <th></th>\n",
       "      <th></th>\n",
       "    </tr>\n",
       "  </thead>\n",
       "  <tbody>\n",
       "    <tr>\n",
       "      <th>525.0</th>\n",
       "      <td>469.34</td>\n",
       "      <td>0.0</td>\n",
       "      <td>0.0</td>\n",
       "      <td>523.58</td>\n",
       "      <td>794.66</td>\n",
       "      <td>29.02</td>\n",
       "      <td>0.5197</td>\n",
       "      <td>0.0202</td>\n",
       "      <td>0.271767</td>\n",
       "      <td>0.005203</td>\n",
       "    </tr>\n",
       "    <tr>\n",
       "      <th>537.5</th>\n",
       "      <td>554.23</td>\n",
       "      <td>0.0</td>\n",
       "      <td>0.0</td>\n",
       "      <td>537.41</td>\n",
       "      <td>885.51</td>\n",
       "      <td>30.27</td>\n",
       "      <td>0.9714</td>\n",
       "      <td>0.0061</td>\n",
       "      <td>0.283502</td>\n",
       "      <td>0.005681</td>\n",
       "    </tr>\n",
       "    <tr>\n",
       "      <th>550.0</th>\n",
       "      <td>493.50</td>\n",
       "      <td>0.0</td>\n",
       "      <td>0.0</td>\n",
       "      <td>548.44</td>\n",
       "      <td>380.02</td>\n",
       "      <td>20.00</td>\n",
       "      <td>0.7381</td>\n",
       "      <td>0.0276</td>\n",
       "      <td>0.282732</td>\n",
       "      <td>0.005980</td>\n",
       "    </tr>\n",
       "    <tr>\n",
       "      <th>562.5</th>\n",
       "      <td>549.09</td>\n",
       "      <td>0.0</td>\n",
       "      <td>0.0</td>\n",
       "      <td>562.13</td>\n",
       "      <td>386.98</td>\n",
       "      <td>20.26</td>\n",
       "      <td>0.9679</td>\n",
       "      <td>0.0099</td>\n",
       "      <td>0.280136</td>\n",
       "      <td>0.006174</td>\n",
       "    </tr>\n",
       "    <tr>\n",
       "      <th>575.0</th>\n",
       "      <td>493.71</td>\n",
       "      <td>0.0</td>\n",
       "      <td>0.0</td>\n",
       "      <td>575.31</td>\n",
       "      <td>158.02</td>\n",
       "      <td>12.99</td>\n",
       "      <td>0.7425</td>\n",
       "      <td>0.0408</td>\n",
       "      <td>0.281044</td>\n",
       "      <td>0.006419</td>\n",
       "    </tr>\n",
       "  </tbody>\n",
       "</table>\n",
       "</div>"
      ],
      "text/plain": [
       "          lum  dEmin  dEmax   Emean    Nsig  dNsig  TrigEff  TrigErr  \\\n",
       "name                                                                   \n",
       "525.0  469.34    0.0    0.0  523.58  794.66  29.02   0.5197   0.0202   \n",
       "537.5  554.23    0.0    0.0  537.41  885.51  30.27   0.9714   0.0061   \n",
       "550.0  493.50    0.0    0.0  548.44  380.02  20.00   0.7381   0.0276   \n",
       "562.5  549.09    0.0    0.0  562.13  386.98  20.26   0.9679   0.0099   \n",
       "575.0  493.71    0.0    0.0  575.31  158.02  12.99   0.7425   0.0408   \n",
       "\n",
       "         RegEff    RegErr  \n",
       "name                       \n",
       "525.0  0.271767  0.005203  \n",
       "537.5  0.283502  0.005681  \n",
       "550.0  0.282732  0.005980  \n",
       "562.5  0.280136  0.006174  \n",
       "575.0  0.281044  0.006419  "
      ]
     },
     "execution_count": 123,
     "metadata": {},
     "output_type": "execute_result"
    }
   ],
   "source": [
    "data_new[0].head()"
   ]
  },
  {
   "cell_type": "code",
   "execution_count": 124,
   "metadata": {},
   "outputs": [],
   "source": [
    "def cross_sec(data):\n",
    "    d = data.copy()\n",
    "    d['CS'] = d.Nsig/(d.lum*d.TrigEff*d.RegEff)\n",
    "    d['dCS'] = d['CS']*np.sqrt( (d.dNsig/d.Nsig)**2 + (d.TrigErr/d.TrigEff)**2 +\n",
    "                                      (d.RegErr/d.RegEff)**2 )\n",
    "    return d"
   ]
  },
  {
   "cell_type": "code",
   "execution_count": 125,
   "metadata": {},
   "outputs": [],
   "source": [
    "cs11o = [ cross_sec(d) for d in data_old ]\n",
    "cs11n = [ cross_sec(d) for d in data_new ]"
   ]
  },
  {
   "cell_type": "code",
   "execution_count": 126,
   "metadata": {},
   "outputs": [],
   "source": [
    "cs11o[0];"
   ]
  },
  {
   "cell_type": "code",
   "execution_count": 127,
   "metadata": {},
   "outputs": [
    {
     "data": {
      "image/png": "[encoded data removed]",
      "text/plain": [
       "<Figure size 432x288 with 1 Axes>"
      ]
     },
     "metadata": {
      "needs_background": "light"
     },
     "output_type": "display_data"
    }
   ],
   "source": [
    "plt.errorbar(cs11o[0].Emean*2e-3, cs11o[0].CS, yerr=cs11o[0].dCS, fmt='ro', elinewidth=3, ms=0, label='old11')\n",
    "plt.errorbar(cs11n[0].Emean*2e-3, cs11n[0].CS, yerr=cs11n[0].dCS, fmt='bo', elinewidth=3, ms=0, label='new')\n",
    "plt.yscale('log')\n",
    "plt.xlabel('$\\sqrt{s}$, GeV', fontsize=20)\n",
    "plt.ylabel('$\\sigma(e^+e^- \\\\to K_SK_L)$, nb', fontsize=20)\n",
    "ax = plt.gca()\n",
    "ax.tick_params(labelsize=18);\n",
    "ax.legend(fontsize=20, frameon=True);\n",
    "\n",
    "plt.grid(linestyle = '-');\n",
    "ax = plt.gca();\n",
    "ax.minorticks_on();\n",
    "ax.grid(which='minor', linestyle = ':');\n",
    "\n",
    "# plt.savefig('cs.pdf')"
   ]
  },
  {
   "cell_type": "code",
   "execution_count": 130,
   "metadata": {},
   "outputs": [],
   "source": [
    "cs11n[2].to_csv('17_alls.csv')"
   ]
  },
  {
   "cell_type": "code",
   "execution_count": null,
   "metadata": {},
   "outputs": [],
   "source": []
  }
 ],
 "metadata": {
  "kernelspec": {
   "display_name": "Python 3",
   "language": "python",
   "name": "python3"
  },
  "language_info": {
   "codemirror_mode": {
    "name": "ipython",
    "version": 3
   },
   "file_extension": ".py",
   "mimetype": "text/x-python",
   "name": "python",
   "nbconvert_exporter": "python",
   "pygments_lexer": "ipython3",
   "version": "3.7.6"
  }
 },
 "nbformat": 4,
 "nbformat_minor": 4
}
