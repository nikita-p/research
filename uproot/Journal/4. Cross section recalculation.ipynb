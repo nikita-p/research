{
 "cells": [
  {
   "cell_type": "markdown",
   "metadata": {},
   "source": [
    "# 2/10/20\n",
    "\n",
    "Сегодня я понял, что делаю какую-то дичь, поэтому больше ничего переписывать я не буду, буду пользоваться всем, что у меня есть\n",
    "\n",
    "Мне всё так же нужно переделать сечения"
   ]
  },
  {
   "cell_type": "markdown",
   "metadata": {},
   "source": [
    "1. Получить список файлов для root кода"
   ]
  },
  {
   "cell_type": "code",
   "execution_count": 5,
   "metadata": {
    "scrolled": true
   },
   "outputs": [
    {
     "name": "stdout",
     "output_type": "stream",
     "text": [
      "/store17/petrov/data/kskl_sim_custom/tr_ph/tr_ph_kskl_1.05.root\n",
      "/store17/petrov/data/kskl_sim_custom/tr_ph/tr_ph_kskl_1.075.root\n",
      "/store17/petrov/data/kskl_sim_custom/tr_ph/tr_ph_kskl_1.125.root\n"
     ]
    }
   ],
   "source": [
    "from glob import glob\n",
    "\n",
    "for f in glob('/store17/petrov/data/kskl_sim_custom/tr_ph/*.root')[:3]:\n",
    "    print(f)"
   ]
  },
  {
   "cell_type": "markdown",
   "metadata": {},
   "source": [
    "- [x] Сделано\n",
    "____\n",
    "Теперь нужно прокрутить новое моделирование через мои root каты"
   ]
  },
  {
   "cell_type": "code",
   "execution_count": 18,
   "metadata": {},
   "outputs": [
    {
     "name": "stdout",
     "output_type": "stream",
     "text": [
      "Setup build environment for ROOT version 6.16.00 in /spoolA/petrov/research/code/KinFitter with BFARCH Linux310_x86_64_gcc485 !\n",
      "\n",
      "Processing macro.cpp...\n",
      "(int) 0\n",
      "Working at file: /store17/petrov/data/kskl_sim_custom/tr_ph/tr_ph_kskl_1.05.root\n",
      "Out path: ../outputs/model_new_v6/trees/525.00_0.root\n",
      "Go loop\n",
      "Is this model? Yes\n",
      "Washing time: 0.55seconds.\n",
      "Well done\n",
      "\n",
      "Working at file: /store17/petrov/data/kskl_sim_custom/tr_ph/tr_ph_kskl_1.075.root\n",
      "Out path: ../outputs/model_new_v6/trees/537.50_0.root\n",
      "Go loop\n",
      "Is this model? Yes\n",
      "Washing time: 0.43seconds.\n",
      "Well done\n",
      "\n",
      "Working at file: /store17/petrov/data/kskl_sim_custom/tr_ph/tr_ph_kskl_1.125.root\n",
      "Out path: ../outputs/model_new_v6/trees/562.50_0.root\n",
      "Go loop\n",
      "Is this model? Yes\n",
      "Washing time: 0.41seconds.\n",
      "Well done\n",
      "\n",
      "Working at file: /store17/petrov/data/kskl_sim_custom/tr_ph/tr_ph_kskl_1.15.root\n",
      "Out path: ../outputs/model_new_v6/trees/575.00_0.root\n",
      "Go loop\n",
      "Is this model? Yes\n",
      "Washing time: 0.42seconds.\n",
      "Well done\n",
      "\n",
      "Working at file: /store17/petrov/data/kskl_sim_custom/tr_ph/tr_ph_kskl_1.175.root\n",
      "Out path: ../outputs/model_new_v6/trees/587.50_0.root\n",
      "Go loop\n",
      "Is this model? Yes\n",
      "Washing time: 0.4seconds.\n",
      "Well done\n",
      "\n",
      "Working at file: /store17/petrov/data/kskl_sim_custom/tr_ph/tr_ph_kskl_1.1.root\n",
      "Out path: ../outputs/model_new_v6/trees/550.00_0.root\n",
      "Go loop\n",
      "Is this model? Yes\n",
      "Washing time: 0.43seconds.\n",
      "Well done\n",
      "\n",
      "Working at file: /store17/petrov/data/kskl_sim_custom/tr_ph/tr_ph_kskl_1.225.root\n",
      "Out path: ../outputs/model_new_v6/trees/612.50_0.root\n",
      "Go loop\n",
      "Is this model? Yes\n",
      "Washing time: 0.41seconds.\n",
      "Well done\n",
      "\n",
      "Working at file: /store17/petrov/data/kskl_sim_custom/tr_ph/tr_ph_kskl_1.25.root\n",
      "Out path: ../outputs/model_new_v6/trees/625.00_0.root\n",
      "Go loop\n",
      "Is this model? Yes\n",
      "Washing time: 0.42seconds.\n",
      "Well done\n",
      "\n",
      "Working at file: /store17/petrov/data/kskl_sim_custom/tr_ph/tr_ph_kskl_1.275.root\n",
      "Out path: ../outputs/model_new_v6/trees/637.50_0.root\n",
      "Go loop\n",
      "Is this model? Yes\n",
      "Washing time: 0.4seconds.\n",
      "Well done\n",
      "\n",
      "Working at file: /store17/petrov/data/kskl_sim_custom/tr_ph/tr_ph_kskl_1.2.root\n",
      "Out path: ../outputs/model_new_v6/trees/600.00_0.root\n",
      "Go loop\n",
      "Is this model? Yes\n",
      "Washing time: 0.42seconds.\n",
      "Well done\n",
      "\n",
      "Working at file: /store17/petrov/data/kskl_sim_custom/tr_ph/tr_ph_kskl_1.325.root\n",
      "Out path: ../outputs/model_new_v6/trees/662.50_0.root\n",
      "Go loop\n",
      "Is this model? Yes\n",
      "Washing time: 0.42seconds.\n",
      "Well done\n",
      "\n",
      "Working at file: /store17/petrov/data/kskl_sim_custom/tr_ph/tr_ph_kskl_1.35.root\n",
      "Out path: ../outputs/model_new_v6/trees/675.00_0.root\n",
      "Go loop\n",
      "Is this model? Yes\n",
      "Washing time: 0.42seconds.\n",
      "Well done\n",
      "\n",
      "Working at file: /store17/petrov/data/kskl_sim_custom/tr_ph/tr_ph_kskl_1.375.root\n",
      "Out path: ../outputs/model_new_v6/trees/687.50_0.root\n",
      "Go loop\n",
      "Is this model? Yes\n",
      "Washing time: 0.4seconds.\n",
      "Well done\n",
      "\n",
      "Working at file: /store17/petrov/data/kskl_sim_custom/tr_ph/tr_ph_kskl_1.3.root\n",
      "Out path: ../outputs/model_new_v6/trees/650.00_0.root\n",
      "Go loop\n",
      "Is this model? Yes\n",
      "Washing time: 0.41seconds.\n",
      "Well done\n",
      "\n",
      "Working at file: /store17/petrov/data/kskl_sim_custom/tr_ph/tr_ph_kskl_1.425.root\n",
      "Out path: ../outputs/model_new_v6/trees/712.50_0.root\n",
      "Go loop\n",
      "Is this model? Yes\n",
      "Washing time: 0.41seconds.\n",
      "Well done\n",
      "\n",
      "Working at file: /store17/petrov/data/kskl_sim_custom/tr_ph/tr_ph_kskl_1.45.root\n",
      "Out path: ../outputs/model_new_v6/trees/725.00_0.root\n",
      "Go loop\n",
      "Is this model? Yes\n",
      "Washing time: 0.4seconds.\n",
      "Well done\n",
      "\n",
      "Working at file: /store17/petrov/data/kskl_sim_custom/tr_ph/tr_ph_kskl_1.475.root\n",
      "Out path: ../outputs/model_new_v6/trees/737.50_0.root\n",
      "Go loop\n",
      "Is this model? Yes\n",
      "Washing time: 0.42seconds.\n",
      "Well done\n",
      "\n",
      "Working at file: /store17/petrov/data/kskl_sim_custom/tr_ph/tr_ph_kskl_1.4.root\n",
      "Out path: ../outputs/model_new_v6/trees/700.00_0.root\n",
      "Go loop\n",
      "Is this model? Yes\n",
      "Washing time: 0.4seconds.\n",
      "Well done\n",
      "\n",
      "Working at file: /store17/petrov/data/kskl_sim_custom/tr_ph/tr_ph_kskl_1.525.root\n",
      "Out path: ../outputs/model_new_v6/trees/762.50_0.root\n",
      "Go loop\n",
      "Is this model? Yes\n",
      "Washing time: 0.42seconds.\n",
      "Well done\n",
      "\n",
      "Working at file: /store17/petrov/data/kskl_sim_custom/tr_ph/tr_ph_kskl_1.55.root\n",
      "Out path: ../outputs/model_new_v6/trees/775.00_0.root\n",
      "Go loop\n",
      "Is this model? Yes\n",
      "Washing time: 0.41seconds.\n",
      "Well done\n",
      "\n",
      "Working at file: /store17/petrov/data/kskl_sim_custom/tr_ph/tr_ph_kskl_1.575.root\n",
      "Out path: ../outputs/model_new_v6/trees/787.50_0.root\n",
      "Go loop\n",
      "Is this model? Yes\n",
      "Washing time: 0.42seconds.\n",
      "Well done\n",
      "\n",
      "Working at file: /store17/petrov/data/kskl_sim_custom/tr_ph/tr_ph_kskl_1.5.root\n",
      "Out path: ../outputs/model_new_v6/trees/750.00_0.root\n",
      "Go loop\n",
      "Is this model? Yes\n",
      "Washing time: 0.41seconds.\n",
      "Well done\n",
      "\n",
      "Working at file: /store17/petrov/data/kskl_sim_custom/tr_ph/tr_ph_kskl_1.625.root\n",
      "Out path: ../outputs/model_new_v6/trees/812.50_0.root\n",
      "Go loop\n",
      "Is this model? Yes\n",
      "Washing time: 0.42seconds.\n",
      "Well done\n",
      "\n",
      "Working at file: /store17/petrov/data/kskl_sim_custom/tr_ph/tr_ph_kskl_1.65.root\n",
      "Out path: ../outputs/model_new_v6/trees/825.00_0.root\n",
      "Go loop\n",
      "Is this model? Yes\n",
      "Washing time: 0.42seconds.\n",
      "Well done\n",
      "\n",
      "Working at file: /store17/petrov/data/kskl_sim_custom/tr_ph/tr_ph_kskl_1.675.root\n",
      "Out path: ../outputs/model_new_v6/trees/837.50_0.root\n",
      "Go loop\n",
      "Is this model? Yes\n",
      "Washing time: 0.42seconds.\n",
      "Well done\n",
      "\n",
      "Working at file: /store17/petrov/data/kskl_sim_custom/tr_ph/tr_ph_kskl_1.6.root\n",
      "Out path: ../outputs/model_new_v6/trees/800.00_0.root\n",
      "Go loop\n",
      "Is this model? Yes\n",
      "Washing time: 0.43seconds.\n",
      "Well done\n",
      "\n",
      "Working at file: /store17/petrov/data/kskl_sim_custom/tr_ph/tr_ph_kskl_1.725.root\n",
      "Out path: ../outputs/model_new_v6/trees/862.50_0.root\n",
      "Go loop\n",
      "Is this model? Yes\n",
      "Washing time: 0.4seconds.\n",
      "Well done\n",
      "\n",
      "Working at file: /store17/petrov/data/kskl_sim_custom/tr_ph/tr_ph_kskl_1.75.root\n",
      "Out path: ../outputs/model_new_v6/trees/875.00_0.root\n",
      "Go loop\n",
      "Is this model? Yes\n",
      "Washing time: 0.4seconds.\n",
      "Well done\n",
      "\n",
      "Working at file: /store17/petrov/data/kskl_sim_custom/tr_ph/tr_ph_kskl_1.775.root\n",
      "Out path: ../outputs/model_new_v6/trees/887.50_0.root\n",
      "Go loop\n",
      "Is this model? Yes\n",
      "Washing time: 0.41seconds.\n",
      "Well done\n",
      "\n",
      "Working at file: /store17/petrov/data/kskl_sim_custom/tr_ph/tr_ph_kskl_1.7.root\n",
      "Out path: ../outputs/model_new_v6/trees/850.00_0.root\n",
      "Go loop\n",
      "Is this model? Yes\n",
      "Washing time: 0.41seconds.\n",
      "Well done\n",
      "\n",
      "Working at file: /store17/petrov/data/kskl_sim_custom/tr_ph/tr_ph_kskl_1.825.root\n",
      "Out path: ../outputs/model_new_v6/trees/912.50_0.root\n",
      "Go loop\n",
      "Is this model? Yes\n",
      "Washing time: 0.4seconds.\n",
      "Well done\n",
      "\n",
      "Working at file: /store17/petrov/data/kskl_sim_custom/tr_ph/tr_ph_kskl_1.85.root\n",
      "Out path: ../outputs/model_new_v6/trees/925.00_0.root\n",
      "Go loop\n",
      "Is this model? Yes\n",
      "Washing time: 0.39seconds.\n",
      "Well done\n",
      "\n",
      "Working at file: /store17/petrov/data/kskl_sim_custom/tr_ph/tr_ph_kskl_1.87.root\n",
      "Out path: ../outputs/model_new_v6/trees/935.00_0.root\n",
      "Go loop\n",
      "Is this model? Yes\n",
      "Washing time: 0.38seconds.\n",
      "Well done\n",
      "\n",
      "Working at file: /store17/petrov/data/kskl_sim_custom/tr_ph/tr_ph_kskl_1.89.root\n",
      "Out path: ../outputs/model_new_v6/trees/945.00_0.root\n",
      "Go loop\n",
      "Is this model? Yes\n",
      "Washing time: 0.41seconds.\n",
      "Well done\n",
      "\n",
      "Working at file: /store17/petrov/data/kskl_sim_custom/tr_ph/tr_ph_kskl_1.8.root\n",
      "Out path: ../outputs/model_new_v6/trees/900.00_0.root\n",
      "Go loop\n",
      "Is this model? Yes\n",
      "Washing time: 0.4seconds.\n",
      "Well done\n",
      "\n",
      "Working at file: /store17/petrov/data/kskl_sim_custom/tr_ph/tr_ph_kskl_1.925.root\n",
      "Out path: ../outputs/model_new_v6/trees/962.50_0.root\n",
      "Go loop\n",
      "Is this model? Yes\n",
      "Washing time: 0.39seconds.\n",
      "Well done\n",
      "\n",
      "Working at file: /store17/petrov/data/kskl_sim_custom/tr_ph/tr_ph_kskl_1.95.root\n",
      "Out path: ../outputs/model_new_v6/trees/975.00_0.root\n",
      "Go loop\n",
      "Is this model? Yes\n",
      "Washing time: 0.41seconds.\n",
      "Well done\n",
      "\n",
      "Working at file: /store17/petrov/data/kskl_sim_custom/tr_ph/tr_ph_kskl_1.975.root\n",
      "Out path: ../outputs/model_new_v6/trees/987.50_0.root\n",
      "Go loop\n",
      "Is this model? Yes\n",
      "Washing time: 0.39seconds.\n",
      "Well done\n",
      "\n",
      "Working at file: /store17/petrov/data/kskl_sim_custom/tr_ph/tr_ph_kskl_1.9.root\n",
      "Out path: ../outputs/model_new_v6/trees/950.00_0.root\n",
      "Go loop\n",
      "Is this model? Yes\n",
      "Washing time: 0.39seconds.\n",
      "Well done\n",
      "\n",
      "Working at file: /store17/petrov/data/kskl_sim_custom/tr_ph/tr_ph_kskl_2.0.root\n",
      "Out path: ../outputs/model_new_v6/trees/1000.00_0.root\n",
      "Go loop\n",
      "Is this model? Yes\n",
      "Washing time: 0.41seconds.\n",
      "Well done\n",
      "\n",
      "Out path: ../outputs/model_new_v6/trees/525.00_0.root\n"
     ]
    },
    {
     "name": "stderr",
     "output_type": "stream",
     "text": [
      "Info in <TUnixSystem::ACLiC>: creating shared library /spoolA/petrov/research/code/./events_cpp.so\n"
     ]
    }
   ],
   "source": [
    "%%bash\n",
    "source /sl/root/root61600_cc7_64/bin/thisroot.sh\n",
    "cd /spoolA/petrov/research/code\n",
    "source KinScript.sh\n",
    "root -l -b macro.cpp"
   ]
  },
  {
   "cell_type": "markdown",
   "metadata": {},
   "source": [
    "Как всегда всё идёт негладко, а именно файл с количеством мягких фотонов не хочет создаваться\n",
    "\n",
    "- [x] Решено. Проблема была в том, что в новом моделировании импульсы в ГэВ\n",
    "_____\n",
    "Прокручу 11 год и старое моделирование v6"
   ]
  },
  {
   "cell_type": "code",
   "execution_count": 19,
   "metadata": {},
   "outputs": [
    {
     "name": "stdout",
     "output_type": "stream",
     "text": [
      "Process is terminated.\n"
     ]
    }
   ],
   "source": [
    "%%bash\n",
    "source /sl/root/root61600_cc7_64/bin/thisroot.sh\n",
    "cd /spoolA/petrov/research/code\n",
    "source KinScript.sh\n",
    "root -l -b macro.cpp"
   ]
  },
  {
   "cell_type": "markdown",
   "metadata": {},
   "source": [
    "Посмотрю картинку с моделированием"
   ]
  },
  {
   "cell_type": "code",
   "execution_count": 98,
   "metadata": {},
   "outputs": [],
   "source": [
    "%run code/plot_reg_eff_4.py\n",
    "%matplotlib inline"
   ]
  },
  {
   "cell_type": "code",
   "execution_count": 99,
   "metadata": {},
   "outputs": [
    {
     "data": {
      "image/png": "[encoded data removed]",
      "text/plain": [
       "<Figure size 432x288 with 1 Axes>"
      ]
     },
     "metadata": {
      "needs_background": "light"
     },
     "output_type": "display_data"
    }
   ],
   "source": [
    "reg_eff(\"/spoolA/petrov/research/outputs/model_old_v6/trees\", \n",
    "        \"/spoolA/petrov/research/outputs/model_old_v6/soft_ph.csv\", \"Old_v6\", True)\n",
    "reg_eff(\"/spoolA/petrov/research/outputs/model_new_v6/trees\", \n",
    "        \"/spoolA/petrov/research/outputs/model_new_v6/soft_ph.csv\", \"New_v6\", True)\n",
    "plt.legend(frameon=True)\n",
    "plt.grid(linestyle=':')"
   ]
  },
  {
   "cell_type": "code",
   "execution_count": 100,
   "metadata": {},
   "outputs": [
    {
     "data": {
      "image/png": "[encoded data removed]",
      "text/plain": [
       "<Figure size 432x288 with 1 Axes>"
      ]
     },
     "metadata": {
      "needs_background": "light"
     },
     "output_type": "display_data"
    }
   ],
   "source": [
    "reg_eff(\"/spoolA/petrov/research/outputs/model_old_v6/trees\", \n",
    "        \"/spoolA/petrov/research/outputs/model_old_v6/soft_ph.csv\", \"Old_v6\", False)\n",
    "reg_eff(\"/spoolA/petrov/research/outputs/model_new_v6/trees\", \n",
    "        \"/spoolA/petrov/research/outputs/model_new_v6/soft_ph.csv\", \"New_v6\", False)\n",
    "plt.legend(frameon=True)\n",
    "plt.grid(linestyle=':')"
   ]
  },
  {
   "cell_type": "markdown",
   "metadata": {},
   "source": [
    "Теперь поработаю из `Analysis.ipynb`, получу число событий\n",
    "- [x] сделано, обновлены файлы с событиями"
   ]
  },
  {
   "cell_type": "markdown",
   "metadata": {},
   "source": [
    "Теперь можно построить более честные картинки с эффективностями, т.к. теперь числа определяются из фита"
   ]
  },
  {
   "cell_type": "code",
   "execution_count": 126,
   "metadata": {},
   "outputs": [],
   "source": [
    "df = pd.read_csv('../../outputs/model_old_v6/tables/signal_tablemodel_old_v6.csv', index_col=['name'])\n",
    "df['Nsig'] /= df.lum\n",
    "df['dNsig'] /= df.lum\n",
    "df2 = pd.read_csv('../../outputs/model_new_v6/tables/signal_tablemodel_new_v6.csv', index_col=['name'])\n",
    "df2['Nsig'] /= df2.lum\n",
    "df2['dNsig'] /= df2.lum"
   ]
  },
  {
   "cell_type": "code",
   "execution_count": 128,
   "metadata": {},
   "outputs": [
    {
     "data": {
      "image/png": "[encoded data removed]",
      "text/plain": [
       "<Figure size 432x288 with 1 Axes>"
      ]
     },
     "metadata": {
      "needs_background": "light"
     },
     "output_type": "display_data"
    }
   ],
   "source": [
    "plt.errorbar(data=df, x='Emean', y='Nsig', yerr='dNsig', fmt='o', label='Old_v6')\n",
    "plt.errorbar(data=df2, x='Emean', y='Nsig', yerr='dNsig', fmt='o', label='New_v7')\n",
    "plt.grid(linestyle=':')\n",
    "plt.legend(frameon=True);"
   ]
  },
  {
   "cell_type": "markdown",
   "metadata": {},
   "source": [
    "Пересчитал сечения 2011 с учётом нового моделирования\n",
    "![]('/spoolA/petrov/research/uproot/Journal/outputs/images/4NewEffCs.png')"
   ]
  },
  {
   "cell_type": "code",
   "execution_count": null,
   "metadata": {},
   "outputs": [],
   "source": []
  }
 ],
 "metadata": {
  "kernelspec": {
   "display_name": "Python 3",
   "language": "python",
   "name": "python3"
  },
  "language_info": {
   "codemirror_mode": {
    "name": "ipython",
    "version": 3
   },
   "file_extension": ".py",
   "mimetype": "text/x-python",
   "name": "python",
   "nbconvert_exporter": "python",
   "pygments_lexer": "ipython3",
   "version": "3.7.6"
  }
 },
 "nbformat": 4,
 "nbformat_minor": 4
}
