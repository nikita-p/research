{
 "cells": [
  {
   "cell_type": "code",
   "execution_count": 1,
   "metadata": {},
   "outputs": [
    {
     "data": {
      "text/plain": [
       "sys.version_info(major=2, minor=7, micro=15, releaselevel='final', serial=0)"
      ]
     },
     "execution_count": 1,
     "metadata": {},
     "output_type": "execute_result"
    }
   ],
   "source": [
    "import sys\n",
    "sys.version\n",
    "sys.version_info"
   ]
  },
  {
   "cell_type": "code",
   "execution_count": 2,
   "metadata": {},
   "outputs": [
    {
     "name": "stdout",
     "output_type": "stream",
     "text": [
      "Welcome to JupyROOT 6.16/00\n"
     ]
    }
   ],
   "source": [
    "import uproot\n",
    "import numpy as np\n",
    "import pandas as pd\n",
    "import matplotlib.pyplot as plt\n",
    "import seaborn as sns\n",
    "%matplotlib inline\n",
    "import probfit as pf\n",
    "from iminuit import Minuit\n",
    "import ROOT"
   ]
  },
  {
   "cell_type": "code",
   "execution_count": 3,
   "metadata": {},
   "outputs": [],
   "source": [
    "sns.set(rc={'figure.figsize':(11.7,8.27)})\n",
    "c = ROOT.TCanvas(\"tt\", \"Cab\", 900, 600)\n",
    "c.SetGrid()"
   ]
  },
  {
   "cell_type": "code",
   "execution_count": 4,
   "metadata": {},
   "outputs": [],
   "source": [
    "def style(hist, xtitle=\"\", ytitle=\"\"):\n",
    "    hist.SetTitle(\"\")\n",
    "    if(xtitle):\n",
    "        hist.SetXTitle(xtitle)\n",
    "        hist.SetYTitle(ytitle)\n",
    "        hist.SetTitleSize(0.08)\n",
    "    hist.GetXaxis().SetLabelSize(0.05)\n",
    "    hist.GetXaxis().SetTitleSize(0.05)\n",
    "    hist.GetXaxis().SetTitleOffset(0.9)\n",
    "    hist.GetYaxis().SetLabelSize(0.05)\n",
    "    hist.GetYaxis().SetTitleSize(0.05)\n",
    "    hist.GetYaxis().SetTitleOffset(1)\n",
    "    hist.SetLineWidth(2)\n",
    "    hist.SetLineColor(2)\n",
    "    hist.SetLineColor(2)\n",
    "    return"
   ]
  },
  {
   "cell_type": "markdown",
   "metadata": {},
   "source": [
    "# Values of the experiment"
   ]
  },
  {
   "cell_type": "code",
   "execution_count": 4,
   "metadata": {},
   "outputs": [],
   "source": [
    "dt11 = pd.read_csv(\"../outputs/11/out11.csv\", index_col=['Unnamed: 0'])"
   ]
  },
  {
   "cell_type": "code",
   "execution_count": 5,
   "metadata": {},
   "outputs": [
    {
     "data": {
      "text/html": [
       "<div>\n",
       "<style scoped>\n",
       "    .dataframe tbody tr th:only-of-type {\n",
       "        vertical-align: middle;\n",
       "    }\n",
       "\n",
       "    .dataframe tbody tr th {\n",
       "        vertical-align: top;\n",
       "    }\n",
       "\n",
       "    .dataframe thead th {\n",
       "        text-align: right;\n",
       "    }\n",
       "</style>\n",
       "<table border=\"1\" class=\"dataframe\">\n",
       "  <thead>\n",
       "    <tr style=\"text-align: right;\">\n",
       "      <th></th>\n",
       "      <th>Nsig</th>\n",
       "      <th>dNsig</th>\n",
       "      <th>lum</th>\n",
       "      <th>Emean</th>\n",
       "      <th>dEmax</th>\n",
       "      <th>dEmin</th>\n",
       "    </tr>\n",
       "  </thead>\n",
       "  <tbody>\n",
       "    <tr>\n",
       "      <th>525.0</th>\n",
       "      <td>810.42</td>\n",
       "      <td>29.27</td>\n",
       "      <td>535.7</td>\n",
       "      <td>523.58</td>\n",
       "      <td>0.0</td>\n",
       "      <td>-0.0</td>\n",
       "    </tr>\n",
       "    <tr>\n",
       "      <th>537.5</th>\n",
       "      <td>885.56</td>\n",
       "      <td>30.26</td>\n",
       "      <td>612.4</td>\n",
       "      <td>537.41</td>\n",
       "      <td>0.0</td>\n",
       "      <td>-0.0</td>\n",
       "    </tr>\n",
       "    <tr>\n",
       "      <th>550.0</th>\n",
       "      <td>379.98</td>\n",
       "      <td>20.27</td>\n",
       "      <td>561.4</td>\n",
       "      <td>548.44</td>\n",
       "      <td>0.0</td>\n",
       "      <td>-0.0</td>\n",
       "    </tr>\n",
       "    <tr>\n",
       "      <th>562.5</th>\n",
       "      <td>385.34</td>\n",
       "      <td>20.18</td>\n",
       "      <td>599.9</td>\n",
       "      <td>562.13</td>\n",
       "      <td>-0.0</td>\n",
       "      <td>0.0</td>\n",
       "    </tr>\n",
       "    <tr>\n",
       "      <th>575.0</th>\n",
       "      <td>158.11</td>\n",
       "      <td>13.23</td>\n",
       "      <td>569.9</td>\n",
       "      <td>575.31</td>\n",
       "      <td>0.0</td>\n",
       "      <td>-0.0</td>\n",
       "    </tr>\n",
       "  </tbody>\n",
       "</table>\n",
       "</div>"
      ],
      "text/plain": [
       "         Nsig  dNsig    lum   Emean  dEmax  dEmin\n",
       "525.0  810.42  29.27  535.7  523.58    0.0   -0.0\n",
       "537.5  885.56  30.26  612.4  537.41    0.0   -0.0\n",
       "550.0  379.98  20.27  561.4  548.44    0.0   -0.0\n",
       "562.5  385.34  20.18  599.9  562.13   -0.0    0.0\n",
       "575.0  158.11  13.23  569.9  575.31    0.0   -0.0"
      ]
     },
     "execution_count": 5,
     "metadata": {},
     "output_type": "execute_result"
    }
   ],
   "source": [
    "dt11.head()"
   ]
  },
  {
   "cell_type": "markdown",
   "metadata": {},
   "source": [
    "Number of signal events 2011"
   ]
  },
  {
   "cell_type": "code",
   "execution_count": 6,
   "metadata": {},
   "outputs": [
    {
     "data": {
      "text/plain": [
       "3830.2299999999996"
      ]
     },
     "execution_count": 6,
     "metadata": {},
     "output_type": "execute_result"
    }
   ],
   "source": [
    "dt11.Nsig.sum()"
   ]
  },
  {
   "cell_type": "markdown",
   "metadata": {},
   "source": [
    "Background 2011"
   ]
  },
  {
   "cell_type": "code",
   "execution_count": 7,
   "metadata": {},
   "outputs": [],
   "source": [
    "f11 = uproot.pandas.iterate(\"../outputs/11/*.root\", \"t\")\n",
    "data11 = pd.concat([j for j in f11])[['label', 'm', 'proc', 't']].query('t>-1&proc!=1&abs(m-500)<50')"
   ]
  },
  {
   "cell_type": "code",
   "execution_count": 8,
   "metadata": {},
   "outputs": [
    {
     "data": {
      "text/plain": [
       "288.77000000000044"
      ]
     },
     "execution_count": 8,
     "metadata": {},
     "output_type": "execute_result"
    }
   ],
   "source": [
    "np.size(data11.m) - dt11.Nsig.sum()"
   ]
  },
  {
   "cell_type": "markdown",
   "metadata": {},
   "source": [
    "Number of signal events 2012"
   ]
  },
  {
   "cell_type": "code",
   "execution_count": 9,
   "metadata": {},
   "outputs": [
    {
     "data": {
      "text/plain": [
       "532.83000000000004"
      ]
     },
     "execution_count": 9,
     "metadata": {},
     "output_type": "execute_result"
    }
   ],
   "source": [
    "data12 = pd.read_csv(\"../outputs/12/out12.csv\", index_col=['Unnamed: 0'])\n",
    "data12.Nsig.sum()"
   ]
  },
  {
   "cell_type": "code",
   "execution_count": 10,
   "metadata": {},
   "outputs": [
    {
     "data": {
      "text/plain": [
       "97.169999999999959"
      ]
     },
     "execution_count": 10,
     "metadata": {},
     "output_type": "execute_result"
    }
   ],
   "source": [
    "f12 = uproot.pandas.iterate(\"../outputs/12/*.root\", \"t\")\n",
    "d12 = pd.concat([j for j in f12])[['label', 'm', 'proc', 't']].query('t>-1&proc!=1&abs(m-500)<50')\n",
    "np.size(d12.m) - data12.Nsig.sum()"
   ]
  },
  {
   "cell_type": "markdown",
   "metadata": {},
   "source": [
    "Number of signal events 2017"
   ]
  },
  {
   "cell_type": "code",
   "execution_count": 11,
   "metadata": {},
   "outputs": [
    {
     "data": {
      "text/plain": [
       "1269.0199999999998"
      ]
     },
     "execution_count": 11,
     "metadata": {},
     "output_type": "execute_result"
    }
   ],
   "source": [
    "data17 = pd.read_csv(\"../outputs/17/out17.csv\", index_col=['Unnamed: 0'])\n",
    "data17.Nsig.sum()"
   ]
  },
  {
   "cell_type": "code",
   "execution_count": 46,
   "metadata": {},
   "outputs": [
    {
     "data": {
      "text/plain": [
       "316.98000000000025"
      ]
     },
     "execution_count": 46,
     "metadata": {},
     "output_type": "execute_result"
    }
   ],
   "source": [
    "f17 = uproot.pandas.iterate(\"../outputs/17/*.root\", \"t\")\n",
    "d17 = pd.concat([j for j in f17])[['label', 'm', 'proc', 't']].query('t>-1&proc!=1&abs(m-500)<50')\n",
    "np.size(d17.m) - data17.Nsig.sum()"
   ]
  },
  {
   "cell_type": "markdown",
   "metadata": {},
   "source": [
    "## Exp vs MC"
   ]
  },
  {
   "cell_type": "code",
   "execution_count": 12,
   "metadata": {},
   "outputs": [],
   "source": [
    "f11 = uproot.pandas.iterate(\"../outputs/11/*.root\", \"t\")\n",
    "fMC = uproot.pandas.iterate(\"../outputs/model/*.root\", \"t\")"
   ]
  },
  {
   "cell_type": "code",
   "execution_count": 13,
   "metadata": {},
   "outputs": [],
   "source": [
    "data11 = pd.concat([j for j in f11])[['label', 'be', 'm', 't', 'proc', 'len', 'theta']].query('label>549')\n",
    "dataMC = pd.concat([j for j in fMC])[['label', 'be', 'm', 't', 'proc', 'len', 'theta']].query('label>549')"
   ]
  },
  {
   "cell_type": "code",
   "execution_count": 14,
   "metadata": {},
   "outputs": [],
   "source": [
    "data11 = data11.query('t>-1&proc!=1&abs(m-500)<50')[['label', 'm', 'len', 'theta']]\n",
    "dataMC = dataMC.query('t>-1&proc!=1&abs(m-500)<50')[['label', 'm', 'len', 'theta']]"
   ]
  },
  {
   "cell_type": "code",
   "execution_count": 15,
   "metadata": {},
   "outputs": [],
   "source": [
    "data11.index = data11.label\n",
    "dataMC.index = dataMC.label"
   ]
  },
  {
   "cell_type": "code",
   "execution_count": 16,
   "metadata": {},
   "outputs": [
    {
     "data": {
      "text/html": [
       "<div>\n",
       "<style scoped>\n",
       "    .dataframe tbody tr th:only-of-type {\n",
       "        vertical-align: middle;\n",
       "    }\n",
       "\n",
       "    .dataframe tbody tr th {\n",
       "        vertical-align: top;\n",
       "    }\n",
       "\n",
       "    .dataframe thead th {\n",
       "        text-align: right;\n",
       "    }\n",
       "</style>\n",
       "<table border=\"1\" class=\"dataframe\">\n",
       "  <thead>\n",
       "    <tr style=\"text-align: right;\">\n",
       "      <th></th>\n",
       "      <th>label</th>\n",
       "      <th>m</th>\n",
       "      <th>len</th>\n",
       "      <th>theta</th>\n",
       "    </tr>\n",
       "    <tr>\n",
       "      <th>label</th>\n",
       "      <th></th>\n",
       "      <th></th>\n",
       "      <th></th>\n",
       "      <th></th>\n",
       "    </tr>\n",
       "  </thead>\n",
       "  <tbody>\n",
       "    <tr>\n",
       "      <th>550.0</th>\n",
       "      <td>550.0</td>\n",
       "      <td>493.534363</td>\n",
       "      <td>1.310393</td>\n",
       "      <td>2.210273</td>\n",
       "    </tr>\n",
       "    <tr>\n",
       "      <th>550.0</th>\n",
       "      <td>550.0</td>\n",
       "      <td>500.360168</td>\n",
       "      <td>0.330968</td>\n",
       "      <td>0.969202</td>\n",
       "    </tr>\n",
       "    <tr>\n",
       "      <th>550.0</th>\n",
       "      <td>550.0</td>\n",
       "      <td>491.668579</td>\n",
       "      <td>2.305939</td>\n",
       "      <td>1.643998</td>\n",
       "    </tr>\n",
       "    <tr>\n",
       "      <th>550.0</th>\n",
       "      <td>550.0</td>\n",
       "      <td>506.371521</td>\n",
       "      <td>1.406581</td>\n",
       "      <td>2.032284</td>\n",
       "    </tr>\n",
       "    <tr>\n",
       "      <th>550.0</th>\n",
       "      <td>550.0</td>\n",
       "      <td>498.158386</td>\n",
       "      <td>1.143072</td>\n",
       "      <td>2.651720</td>\n",
       "    </tr>\n",
       "  </tbody>\n",
       "</table>\n",
       "</div>"
      ],
      "text/plain": [
       "       label           m       len     theta\n",
       "label                                       \n",
       "550.0  550.0  493.534363  1.310393  2.210273\n",
       "550.0  550.0  500.360168  0.330968  0.969202\n",
       "550.0  550.0  491.668579  2.305939  1.643998\n",
       "550.0  550.0  506.371521  1.406581  2.032284\n",
       "550.0  550.0  498.158386  1.143072  2.651720"
      ]
     },
     "execution_count": 16,
     "metadata": {},
     "output_type": "execute_result"
    }
   ],
   "source": [
    "data11.sort_index().head()"
   ]
  },
  {
   "cell_type": "markdown",
   "metadata": {},
   "source": [
    "Join \"luminosity\" file to experiment"
   ]
  },
  {
   "cell_type": "code",
   "execution_count": 17,
   "metadata": {},
   "outputs": [],
   "source": [
    "lum = data11.drop('label', axis=1).groupby('label').agg({'m':np.size})\n",
    "lum.columns= ['lum']"
   ]
  },
  {
   "cell_type": "code",
   "execution_count": 18,
   "metadata": {},
   "outputs": [
    {
     "data": {
      "text/html": [
       "<div>\n",
       "<style scoped>\n",
       "    .dataframe tbody tr th:only-of-type {\n",
       "        vertical-align: middle;\n",
       "    }\n",
       "\n",
       "    .dataframe tbody tr th {\n",
       "        vertical-align: top;\n",
       "    }\n",
       "\n",
       "    .dataframe thead th {\n",
       "        text-align: right;\n",
       "    }\n",
       "</style>\n",
       "<table border=\"1\" class=\"dataframe\">\n",
       "  <thead>\n",
       "    <tr style=\"text-align: right;\">\n",
       "      <th></th>\n",
       "      <th>lum</th>\n",
       "    </tr>\n",
       "    <tr>\n",
       "      <th>label</th>\n",
       "      <th></th>\n",
       "    </tr>\n",
       "  </thead>\n",
       "  <tbody>\n",
       "    <tr>\n",
       "      <th>550.0</th>\n",
       "      <td>400.0</td>\n",
       "    </tr>\n",
       "    <tr>\n",
       "      <th>562.5</th>\n",
       "      <td>416.0</td>\n",
       "    </tr>\n",
       "    <tr>\n",
       "      <th>575.0</th>\n",
       "      <td>169.0</td>\n",
       "    </tr>\n",
       "    <tr>\n",
       "      <th>587.5</th>\n",
       "      <td>187.0</td>\n",
       "    </tr>\n",
       "    <tr>\n",
       "      <th>600.0</th>\n",
       "      <td>98.0</td>\n",
       "    </tr>\n",
       "  </tbody>\n",
       "</table>\n",
       "</div>"
      ],
      "text/plain": [
       "         lum\n",
       "label       \n",
       "550.0  400.0\n",
       "562.5  416.0\n",
       "575.0  169.0\n",
       "587.5  187.0\n",
       "600.0   98.0"
      ]
     },
     "execution_count": 18,
     "metadata": {},
     "output_type": "execute_result"
    }
   ],
   "source": [
    "lum.head()"
   ]
  },
  {
   "cell_type": "code",
   "execution_count": 19,
   "metadata": {},
   "outputs": [],
   "source": [
    "dataMC = dataMC.join(lum, how='inner')"
   ]
  },
  {
   "cell_type": "code",
   "execution_count": 20,
   "metadata": {},
   "outputs": [
    {
     "data": {
      "text/html": [
       "<div>\n",
       "<style scoped>\n",
       "    .dataframe tbody tr th:only-of-type {\n",
       "        vertical-align: middle;\n",
       "    }\n",
       "\n",
       "    .dataframe tbody tr th {\n",
       "        vertical-align: top;\n",
       "    }\n",
       "\n",
       "    .dataframe thead th {\n",
       "        text-align: right;\n",
       "    }\n",
       "</style>\n",
       "<table border=\"1\" class=\"dataframe\">\n",
       "  <thead>\n",
       "    <tr style=\"text-align: right;\">\n",
       "      <th></th>\n",
       "      <th>label</th>\n",
       "      <th>m</th>\n",
       "      <th>len</th>\n",
       "      <th>theta</th>\n",
       "      <th>lum</th>\n",
       "    </tr>\n",
       "    <tr>\n",
       "      <th>label</th>\n",
       "      <th></th>\n",
       "      <th></th>\n",
       "      <th></th>\n",
       "      <th></th>\n",
       "      <th></th>\n",
       "    </tr>\n",
       "  </thead>\n",
       "  <tbody>\n",
       "    <tr>\n",
       "      <th>550.0</th>\n",
       "      <td>550.0</td>\n",
       "      <td>492.659088</td>\n",
       "      <td>2.177783</td>\n",
       "      <td>0.896533</td>\n",
       "      <td>400.0</td>\n",
       "    </tr>\n",
       "    <tr>\n",
       "      <th>550.0</th>\n",
       "      <td>550.0</td>\n",
       "      <td>491.123444</td>\n",
       "      <td>0.957967</td>\n",
       "      <td>1.350168</td>\n",
       "      <td>400.0</td>\n",
       "    </tr>\n",
       "    <tr>\n",
       "      <th>550.0</th>\n",
       "      <td>550.0</td>\n",
       "      <td>506.872498</td>\n",
       "      <td>1.616306</td>\n",
       "      <td>2.036664</td>\n",
       "      <td>400.0</td>\n",
       "    </tr>\n",
       "    <tr>\n",
       "      <th>550.0</th>\n",
       "      <td>550.0</td>\n",
       "      <td>499.182709</td>\n",
       "      <td>1.436730</td>\n",
       "      <td>1.264909</td>\n",
       "      <td>400.0</td>\n",
       "    </tr>\n",
       "    <tr>\n",
       "      <th>550.0</th>\n",
       "      <td>550.0</td>\n",
       "      <td>495.202667</td>\n",
       "      <td>0.851342</td>\n",
       "      <td>1.685800</td>\n",
       "      <td>400.0</td>\n",
       "    </tr>\n",
       "  </tbody>\n",
       "</table>\n",
       "</div>"
      ],
      "text/plain": [
       "       label           m       len     theta    lum\n",
       "label                                              \n",
       "550.0  550.0  492.659088  2.177783  0.896533  400.0\n",
       "550.0  550.0  491.123444  0.957967  1.350168  400.0\n",
       "550.0  550.0  506.872498  1.616306  2.036664  400.0\n",
       "550.0  550.0  499.182709  1.436730  1.264909  400.0\n",
       "550.0  550.0  495.202667  0.851342  1.685800  400.0"
      ]
     },
     "execution_count": 20,
     "metadata": {},
     "output_type": "execute_result"
    }
   ],
   "source": [
    "dataMC.head()"
   ]
  },
  {
   "cell_type": "markdown",
   "metadata": {},
   "source": [
    "Draw weighted histogram"
   ]
  },
  {
   "cell_type": "code",
   "execution_count": 21,
   "metadata": {},
   "outputs": [],
   "source": [
    "hist = ROOT.TH1D(\"Hist\", \"Title\", 100, 450, 550)\n",
    "hist2 = ROOT.TH1D(\"Hist2\", \"Title2\", 100, 450, 550)"
   ]
  },
  {
   "cell_type": "code",
   "execution_count": 22,
   "metadata": {},
   "outputs": [],
   "source": [
    "c = ROOT.TCanvas(\"tt\", \"Cab\", 900, 600)"
   ]
  },
  {
   "cell_type": "code",
   "execution_count": 23,
   "metadata": {},
   "outputs": [],
   "source": [
    "hist.Reset()\n",
    "hist.FillN(np.size(data11.m.values), data11.m.values, np.ones(np.size(dataMC.m)))\n",
    "hist.Sumw2()\n",
    "#hist.Scale(np.sum(dataMC.lum*1e-3)/np.size(data11.m))"
   ]
  },
  {
   "cell_type": "code",
   "execution_count": 24,
   "metadata": {},
   "outputs": [],
   "source": [
    "hist2.Reset()\n",
    "#hist2.Sumw2()\n",
    "hist2.FillN(np.size(dataMC.m), dataMC.m.values, dataMC.lum.values*1e-3)\n",
    "hist2.Scale(np.size(data11.m)/np.sum(dataMC.lum*1e-3))"
   ]
  },
  {
   "cell_type": "code",
   "execution_count": 25,
   "metadata": {},
   "outputs": [
    {
     "data": {
      "text/plain": [
       "1.260378794356563"
      ]
     },
     "execution_count": 25,
     "metadata": {},
     "output_type": "execute_result"
    }
   ],
   "source": [
    "np.sum(dataMC.lum*1e-3)/np.size(data11.m)"
   ]
  },
  {
   "cell_type": "code",
   "execution_count": 26,
   "metadata": {},
   "outputs": [],
   "source": [
    "plain = ROOT.TStyle(\"Modern\",\"Plain Style (no colors/fill areas)\");\n",
    "plain.SetOptStat(0)\n",
    "plain.SetLabelSize(0.05)\n",
    "plain.SetTitleFontSize(0.05);\n",
    "ROOT.gROOT.SetStyle(\"Modern\")"
   ]
  },
  {
   "cell_type": "code",
   "execution_count": 28,
   "metadata": {},
   "outputs": [
    {
     "data": {
      "image/png": "[encoded data removed]",
      "text/plain": [
       "<IPython.core.display.Image object>"
      ]
     },
     "metadata": {},
     "output_type": "display_data"
    }
   ],
   "source": [
    "c.Clear()\n",
    "hist.Draw(\"\")\n",
    "hist2.Draw(\"same hist\")\n",
    "style(hist, \"K_{S} mass, MeV\", \"number of events\")\n",
    "#hist.SetTitle(\"\")\n",
    "#hist.SetXTitle(\"K_{S} mass, MeV\")\n",
    "#hist.SetYTitle(\"number of events\")\n",
    "#hist.SetLineWidth(2)\n",
    "#hist.SetLineColor(2)\n",
    "hist2.SetLineWidth(2)\n",
    "leg = ROOT.TLegend(0.7, 0.7, 0.9, 0.9)\n",
    "leg.AddEntry(hist, \"EXP\")\n",
    "leg.AddEntry(hist2, \"MC\")\n",
    "leg.Draw()\n",
    "c.SetGrid()\n",
    "c.Draw()\n",
    "#c.SaveAs(\"mc.svg\")"
   ]
  },
  {
   "cell_type": "markdown",
   "metadata": {},
   "source": [
    "### Len"
   ]
  },
  {
   "cell_type": "code",
   "execution_count": 54,
   "metadata": {},
   "outputs": [
    {
     "name": "stderr",
     "output_type": "stream",
     "text": [
      "Warning in <TROOT::Append>: Replacing existing TH1: lenExp (Potential memory leak).\n",
      "Warning in <TROOT::Append>: Replacing existing TH1: lenMC (Potential memory leak).\n"
     ]
    }
   ],
   "source": [
    "lenExp = ROOT.TH1D(\"lenExp\", \"EXP\", 20, 0, 10);\n",
    "lenMC = ROOT.TH1D( \"lenMC\",  \"MC\", 20, 0, 10);"
   ]
  },
  {
   "cell_type": "code",
   "execution_count": 55,
   "metadata": {},
   "outputs": [],
   "source": [
    "dtMC = dataMC.loc[850:]\n",
    "dt11 = data11.loc[850:]"
   ]
  },
  {
   "cell_type": "code",
   "execution_count": 56,
   "metadata": {},
   "outputs": [],
   "source": [
    "lenExp.Reset()\n",
    "lenExp.FillN(np.size(dt11.len.values), dt11.len.values, np.ones(np.size(dtMC.len)))"
   ]
  },
  {
   "cell_type": "code",
   "execution_count": 57,
   "metadata": {},
   "outputs": [],
   "source": [
    "lenMC.Reset()\n",
    "lenMC.Sumw2();\n",
    "lenMC.FillN(np.size(dtMC.len), dtMC.len.values, dtMC.lum.values*1e-3)\n",
    "lenMC.Scale(np.size(dt11.len)/np.sum(dtMC.lum*1e-3))"
   ]
  },
  {
   "cell_type": "code",
   "execution_count": 61,
   "metadata": {},
   "outputs": [
    {
     "data": {
      "image/png": "[encoded data removed]",
      "text/plain": [
       "<IPython.core.display.Image object>"
      ]
     },
     "metadata": {},
     "output_type": "display_data"
    }
   ],
   "source": [
    "c.Clear()\n",
    "lenExp.Draw(\"ep\")\n",
    "lenMC.Draw(\"same hist\")\n",
    "style(lenExp, \"K_{S} length, cm\", \"number of events\")\n",
    "#lenExp.SetTitle(\"\")\n",
    "#lenExp.SetXTitle(\"K_{S} length, cm\")\n",
    "#lenExp.SetYTitle(\"number of events\")\n",
    "#lenExp.SetLineWidth(2)\n",
    "#lenExp.SetLineColor(2)\n",
    "lenMC.SetLineWidth(2)\n",
    "lenMC.SetLineColor(1)\n",
    "lenExp.SetAxisRange(0., 25.,\"Y\");\n",
    "leg = ROOT.TLegend(0.7, 0.7, 0.9, 0.9)\n",
    "leg.AddEntry(lenExp, \"EXP\")\n",
    "leg.AddEntry(lenMC, \"MC\")\n",
    "leg.Draw()\n",
    "c.SetGrid()\n",
    "c.Draw()\n",
    "#c.SaveAs(\"mcLen.svg\")"
   ]
  },
  {
   "cell_type": "markdown",
   "metadata": {},
   "source": [
    "## $K_S$ $\\theta$"
   ]
  },
  {
   "cell_type": "code",
   "execution_count": 25,
   "metadata": {},
   "outputs": [],
   "source": [
    "thExp = ROOT.TH1D(\"thExp\", \"EXP\", 50, 0, ROOT.TMath.Pi());\n",
    "thMC = ROOT.TH1D( \"thMC\",  \"MC\", 50, 0, ROOT.TMath.Pi());"
   ]
  },
  {
   "cell_type": "code",
   "execution_count": 26,
   "metadata": {},
   "outputs": [],
   "source": [
    "data11_h = data11#.query('label<610')\n",
    "dataMC_h = dataMC#.query('label<610')"
   ]
  },
  {
   "cell_type": "code",
   "execution_count": 27,
   "metadata": {},
   "outputs": [],
   "source": [
    "thExp.Reset()\n",
    "thExp.FillN(np.size(data11_h.theta.values), data11_h.theta.values, np.ones(np.size(data11_h.theta)))"
   ]
  },
  {
   "cell_type": "code",
   "execution_count": 28,
   "metadata": {},
   "outputs": [],
   "source": [
    "thMC.Reset()\n",
    "thMC.Sumw2();\n",
    "weights = dataMC_h.lum.values*1e-3\n",
    "thMC.FillN(np.size(dataMC_h.theta), dataMC_h.theta.values, weights)\n",
    "thMC.Scale(np.size(data11_h.theta)/np.sum(weights))"
   ]
  },
  {
   "cell_type": "code",
   "execution_count": 29,
   "metadata": {},
   "outputs": [
    {
     "data": {
      "image/png": "[encoded data removed]",
      "text/plain": [
       "<IPython.core.display.Image object>"
      ]
     },
     "metadata": {},
     "output_type": "display_data"
    }
   ],
   "source": [
    "c.Clear()\n",
    "thExp.Draw(\"ep\")\n",
    "style(thExp, \"#theta (K_{S})\", \"number of events\")\n",
    "#thExp.SetTitle(\"#theta distribution of K_{S}\")\n",
    "#thExp.SetXTitle(\"#theta (K_{S})\")\n",
    "#thExp.SetYTitle(\"number of events\")\n",
    "#thExp.SetLineWidth(2)\n",
    "#thExp.SetLineColor(2)\n",
    "#thExp.SetAxisRange(0., 120.,\"Y\");\n",
    "\n",
    "thMC.Draw(\"same hist\")\n",
    "thMC.SetLineWidth(2)\n",
    "thMC.SetLineColor(1)\n",
    "\n",
    "leg = ROOT.TLegend(0.7, 0.7, 0.9, 0.9)\n",
    "leg.AddEntry(thExp, \"EXP\")\n",
    "leg.AddEntry(thMC, \"MC\")\n",
    "leg.Draw()\n",
    "c.SetGrid()\n",
    "c.Draw()\n",
    "#c.SaveAs(\"mcTh.svg\")"
   ]
  },
  {
   "cell_type": "markdown",
   "metadata": {},
   "source": [
    "## RegEfficiency"
   ]
  },
  {
   "cell_type": "code",
   "execution_count": 5,
   "metadata": {},
   "outputs": [],
   "source": [
    "reg11 = pd.read_csv('../outputs/model/outmodel.csv', index_col=['Unnamed: 0'])"
   ]
  },
  {
   "cell_type": "code",
   "execution_count": 6,
   "metadata": {},
   "outputs": [
    {
     "data": {
      "text/html": [
       "<div>\n",
       "<style scoped>\n",
       "    .dataframe tbody tr th:only-of-type {\n",
       "        vertical-align: middle;\n",
       "    }\n",
       "\n",
       "    .dataframe tbody tr th {\n",
       "        vertical-align: top;\n",
       "    }\n",
       "\n",
       "    .dataframe thead th {\n",
       "        text-align: right;\n",
       "    }\n",
       "</style>\n",
       "<table border=\"1\" class=\"dataframe\">\n",
       "  <thead>\n",
       "    <tr style=\"text-align: right;\">\n",
       "      <th></th>\n",
       "      <th>Nsig</th>\n",
       "      <th>dNsig</th>\n",
       "      <th>lum</th>\n",
       "      <th>dEmin</th>\n",
       "      <th>dEmax</th>\n",
       "      <th>Emean</th>\n",
       "    </tr>\n",
       "  </thead>\n",
       "  <tbody>\n",
       "    <tr>\n",
       "      <th>945.0</th>\n",
       "      <td>1138.68</td>\n",
       "      <td>37.10</td>\n",
       "      <td>5550</td>\n",
       "      <td>0.0</td>\n",
       "      <td>0.0</td>\n",
       "      <td>945.0</td>\n",
       "    </tr>\n",
       "    <tr>\n",
       "      <th>950.0</th>\n",
       "      <td>1124.21</td>\n",
       "      <td>35.84</td>\n",
       "      <td>5294</td>\n",
       "      <td>0.0</td>\n",
       "      <td>0.0</td>\n",
       "      <td>950.0</td>\n",
       "    </tr>\n",
       "    <tr>\n",
       "      <th>962.5</th>\n",
       "      <td>994.80</td>\n",
       "      <td>33.73</td>\n",
       "      <td>4667</td>\n",
       "      <td>0.0</td>\n",
       "      <td>0.0</td>\n",
       "      <td>962.5</td>\n",
       "    </tr>\n",
       "    <tr>\n",
       "      <th>975.0</th>\n",
       "      <td>846.18</td>\n",
       "      <td>32.03</td>\n",
       "      <td>4113</td>\n",
       "      <td>0.0</td>\n",
       "      <td>0.0</td>\n",
       "      <td>975.0</td>\n",
       "    </tr>\n",
       "    <tr>\n",
       "      <th>987.5</th>\n",
       "      <td>738.37</td>\n",
       "      <td>29.64</td>\n",
       "      <td>3640</td>\n",
       "      <td>0.0</td>\n",
       "      <td>0.0</td>\n",
       "      <td>987.5</td>\n",
       "    </tr>\n",
       "  </tbody>\n",
       "</table>\n",
       "</div>"
      ],
      "text/plain": [
       "          Nsig  dNsig   lum  dEmin  dEmax  Emean\n",
       "945.0  1138.68  37.10  5550    0.0    0.0  945.0\n",
       "950.0  1124.21  35.84  5294    0.0    0.0  950.0\n",
       "962.5   994.80  33.73  4667    0.0    0.0  962.5\n",
       "975.0   846.18  32.03  4113    0.0    0.0  975.0\n",
       "987.5   738.37  29.64  3640    0.0    0.0  987.5"
      ]
     },
     "execution_count": 6,
     "metadata": {},
     "output_type": "execute_result"
    }
   ],
   "source": [
    "reg11.tail()"
   ]
  },
  {
   "cell_type": "code",
   "execution_count": 7,
   "metadata": {},
   "outputs": [],
   "source": [
    "reg11['eff'] = reg11.Nsig/reg11.lum\n",
    "reg11['err'] = reg11.eff*np.sqrt( 1/reg11.Nsig + 1/reg11.lum )"
   ]
  },
  {
   "cell_type": "code",
   "execution_count": 8,
   "metadata": {},
   "outputs": [],
   "source": [
    "histReg = ROOT.TGraphErrors(np.size(reg11.Nsig), reg11.index.values*2e-3, reg11.eff.values, \n",
    "                            np.zeros(np.size(reg11.Nsig)), reg11.err.values)"
   ]
  },
  {
   "cell_type": "code",
   "execution_count": 9,
   "metadata": {},
   "outputs": [
    {
     "data": {
      "image/png": "[encoded data removed]",
      "text/plain": [
       "<IPython.core.display.Image object>"
      ]
     },
     "metadata": {},
     "output_type": "display_data"
    }
   ],
   "source": [
    "c.Clear()\n",
    "style(histReg)\n",
    "histReg.SetLineWidth(2)\n",
    "histReg.SetTitle(\";#sqrt{s}, GeV;#varepsilon_{reg}\")\n",
    "histReg.SetLineColor(4)\n",
    "histReg.SetMarkerStyle(20)\n",
    "histReg.SetMarkerSize(0.8)\n",
    "histReg.SetMarkerColor(4)\n",
    "histReg.Draw(\"ap\")\n",
    "histReg.GetYaxis().SetRangeUser(0, 0.4)\n",
    "c.Draw()\n",
    "#c.SaveAs(\"reg_eff.svg\")"
   ]
  },
  {
   "cell_type": "markdown",
   "metadata": {},
   "source": [
    "## Trigger efficiency"
   ]
  },
  {
   "cell_type": "code",
   "execution_count": 10,
   "metadata": {},
   "outputs": [],
   "source": [
    "trig11 = pd.read_csv('../outputs/11/triggers11.csv')\n",
    "trig12 = pd.read_csv('../outputs/12/triggers12.csv')\n",
    "trig17 = pd.read_csv('../outputs/17/triggers17.csv')\n",
    "trig19 = pd.read_csv('../outputs/19/triggers19.csv')"
   ]
  },
  {
   "cell_type": "code",
   "execution_count": 11,
   "metadata": {},
   "outputs": [
    {
     "data": {
      "text/html": [
       "<div>\n",
       "<style scoped>\n",
       "    .dataframe tbody tr th:only-of-type {\n",
       "        vertical-align: middle;\n",
       "    }\n",
       "\n",
       "    .dataframe tbody tr th {\n",
       "        vertical-align: top;\n",
       "    }\n",
       "\n",
       "    .dataframe thead th {\n",
       "        text-align: right;\n",
       "    }\n",
       "</style>\n",
       "<table border=\"1\" class=\"dataframe\">\n",
       "  <thead>\n",
       "    <tr style=\"text-align: right;\">\n",
       "      <th></th>\n",
       "      <th>label</th>\n",
       "      <th>TF</th>\n",
       "      <th>CF</th>\n",
       "      <th>TC</th>\n",
       "      <th>eTF</th>\n",
       "      <th>eCF</th>\n",
       "      <th>TrigEff</th>\n",
       "      <th>vTF</th>\n",
       "      <th>vCF</th>\n",
       "      <th>TrigErr</th>\n",
       "    </tr>\n",
       "  </thead>\n",
       "  <tbody>\n",
       "    <tr>\n",
       "      <th>0</th>\n",
       "      <td>640.0</td>\n",
       "      <td>66.0</td>\n",
       "      <td>0.0</td>\n",
       "      <td>31.0</td>\n",
       "      <td>0.97</td>\n",
       "      <td>0.32</td>\n",
       "      <td>0.98</td>\n",
       "      <td>0.03</td>\n",
       "      <td>0.05</td>\n",
       "      <td>0.02</td>\n",
       "    </tr>\n",
       "    <tr>\n",
       "      <th>1</th>\n",
       "      <td>680.0</td>\n",
       "      <td>47.0</td>\n",
       "      <td>2.0</td>\n",
       "      <td>21.0</td>\n",
       "      <td>0.88</td>\n",
       "      <td>0.31</td>\n",
       "      <td>0.92</td>\n",
       "      <td>0.06</td>\n",
       "      <td>0.06</td>\n",
       "      <td>0.04</td>\n",
       "    </tr>\n",
       "    <tr>\n",
       "      <th>2</th>\n",
       "      <td>720.0</td>\n",
       "      <td>33.0</td>\n",
       "      <td>2.0</td>\n",
       "      <td>18.0</td>\n",
       "      <td>0.86</td>\n",
       "      <td>0.36</td>\n",
       "      <td>0.91</td>\n",
       "      <td>0.07</td>\n",
       "      <td>0.07</td>\n",
       "      <td>0.05</td>\n",
       "    </tr>\n",
       "    <tr>\n",
       "      <th>3</th>\n",
       "      <td>760.0</td>\n",
       "      <td>50.0</td>\n",
       "      <td>1.0</td>\n",
       "      <td>26.0</td>\n",
       "      <td>0.93</td>\n",
       "      <td>0.35</td>\n",
       "      <td>0.95</td>\n",
       "      <td>0.05</td>\n",
       "      <td>0.05</td>\n",
       "      <td>0.03</td>\n",
       "    </tr>\n",
       "    <tr>\n",
       "      <th>4</th>\n",
       "      <td>800.0</td>\n",
       "      <td>67.0</td>\n",
       "      <td>2.0</td>\n",
       "      <td>47.0</td>\n",
       "      <td>0.94</td>\n",
       "      <td>0.41</td>\n",
       "      <td>0.97</td>\n",
       "      <td>0.03</td>\n",
       "      <td>0.05</td>\n",
       "      <td>0.02</td>\n",
       "    </tr>\n",
       "  </tbody>\n",
       "</table>\n",
       "</div>"
      ],
      "text/plain": [
       "   label    TF   CF    TC   eTF   eCF  TrigEff   vTF   vCF  TrigErr\n",
       "0  640.0  66.0  0.0  31.0  0.97  0.32     0.98  0.03  0.05     0.02\n",
       "1  680.0  47.0  2.0  21.0  0.88  0.31     0.92  0.06  0.06     0.04\n",
       "2  720.0  33.0  2.0  18.0  0.86  0.36     0.91  0.07  0.07     0.05\n",
       "3  760.0  50.0  1.0  26.0  0.93  0.35     0.95  0.05  0.05     0.03\n",
       "4  800.0  67.0  2.0  47.0  0.94  0.41     0.97  0.03  0.05     0.02"
      ]
     },
     "execution_count": 11,
     "metadata": {},
     "output_type": "execute_result"
    }
   ],
   "source": [
    "trig12.head()"
   ]
  },
  {
   "cell_type": "code",
   "execution_count": 12,
   "metadata": {},
   "outputs": [],
   "source": [
    "def trigger_graph(trig):\n",
    "    eff = ROOT.TGraphErrors(np.size(trig.label), trig.label.values*2e-3, trig.TrigEff.values, \n",
    "                            np.zeros(np.size(trig.label)), trig.TrigErr.values)\n",
    "    tf = ROOT.TGraphErrors(np.size(trig.label), trig.label.values*2e-3, trig.eTF.values, \n",
    "                            np.zeros(np.size(trig.label)), trig.vTF.values)\n",
    "    cf = ROOT.TGraphErrors(np.size(trig.label), trig.label.values*2e-3, trig.eCF.values, \n",
    "                            np.zeros(np.size(trig.label)), trig.vCF.values)\n",
    "    style(cf)\n",
    "    eff.SetLineWidth(2)\n",
    "    eff.SetLineColor(4)\n",
    "    eff.SetMarkerColor(4)\n",
    "    eff.SetMarkerStyle(20)\n",
    "    eff.SetMarkerSize(0.8)\n",
    "    \n",
    "    tf.SetLineColor(2)\n",
    "    tf.SetMarkerColor(2)\n",
    "    tf.SetLineWidth(2)\n",
    "    tf.SetMarkerSize(0.8)\n",
    "    tf.SetMarkerStyle(20)\n",
    "    \n",
    "    \n",
    "    cf.GetYaxis().SetRangeUser(0, 1.1)\n",
    "    cf.SetTitle(\";#sqrt{s}, GeV;#varepsilon_{trig}\")\n",
    "    cf.SetMarkerStyle(20)\n",
    "    cf.SetMarkerSize(0.8)\n",
    "    cf.SetMarkerColor(3)\n",
    "    cf.SetLineColor(3)\n",
    "    \n",
    "    leg = ROOT.TLegend(0.1, 0.1, 0.3, 0.25)\n",
    "    leg.AddEntry(eff, \"#varepsilon_{trig}\")\n",
    "    leg.AddEntry(tf, \"#varepsilon_{TF}\")\n",
    "    leg.AddEntry(cf, \"#varepsilon_{CF}\")\n",
    "    \n",
    "    \n",
    "    return (eff, tf, cf, leg)"
   ]
  },
  {
   "cell_type": "code",
   "execution_count": 86,
   "metadata": {
    "scrolled": false
   },
   "outputs": [
    {
     "name": "stderr",
     "output_type": "stream",
     "text": [
      "Info in <TCanvas::Print>: SVG file trig11.svg has been created\n"
     ]
    },
    {
     "data": {
      "image/png": "[encoded data removed]",
      "text/plain": [
       "<IPython.core.display.Image object>"
      ]
     },
     "metadata": {},
     "output_type": "display_data"
    }
   ],
   "source": [
    "eff, tf, cf, leg = trigger_graph(trig11)\n",
    "c.Clear()\n",
    "cf.Draw(\"ap\")\n",
    "tf.Draw(\"p same\")\n",
    "eff.Draw(\"p same\")\n",
    "leg.Draw()\n",
    "c.Draw()\n",
    "#c.SaveAs(\"trig11.svg\")"
   ]
  },
  {
   "cell_type": "code",
   "execution_count": 88,
   "metadata": {},
   "outputs": [
    {
     "name": "stderr",
     "output_type": "stream",
     "text": [
      "Info in <TCanvas::Print>: SVG file trig12.svg has been created\n"
     ]
    },
    {
     "data": {
      "image/png": "[encoded data removed]",
      "text/plain": [
       "<IPython.core.display.Image object>"
      ]
     },
     "metadata": {},
     "output_type": "display_data"
    }
   ],
   "source": [
    "eff, tf, cf, leg = trigger_graph(trig12)\n",
    "c.Clear()\n",
    "cf.Draw(\"ap\")\n",
    "tf.Draw(\"p same\")\n",
    "eff.Draw(\"p same\")\n",
    "leg.Draw()\n",
    "c.Draw()\n",
    "#c.SaveAs(\"trig12.svg\")"
   ]
  },
  {
   "cell_type": "code",
   "execution_count": 90,
   "metadata": {},
   "outputs": [
    {
     "name": "stderr",
     "output_type": "stream",
     "text": [
      "Info in <TCanvas::Print>: SVG file trig17.svg has been created\n"
     ]
    },
    {
     "data": {
      "image/png": "[encoded data removed]",
      "text/plain": [
       "<IPython.core.display.Image object>"
      ]
     },
     "metadata": {},
     "output_type": "display_data"
    }
   ],
   "source": [
    "eff, tf, cf, leg = trigger_graph(trig17)\n",
    "c.Clear()\n",
    "cf.Draw(\"ap\")\n",
    "tf.Draw(\"p same\")\n",
    "eff.Draw(\"p same\")\n",
    "leg.Draw()\n",
    "c.Draw()\n",
    "#c.SaveAs(\"trig17.svg\")"
   ]
  },
  {
   "cell_type": "code",
   "execution_count": 14,
   "metadata": {},
   "outputs": [
    {
     "name": "stderr",
     "output_type": "stream",
     "text": [
      "Info in <TCanvas::Print>: SVG file trig19.svg has been created\n"
     ]
    },
    {
     "data": {
      "image/png": "[encoded data removed]",
      "text/plain": [
       "<IPython.core.display.Image object>"
      ]
     },
     "metadata": {},
     "output_type": "display_data"
    }
   ],
   "source": [
    "eff, tf, cf, leg = trigger_graph(trig19)\n",
    "c.Clear()\n",
    "cf.Draw(\"ap\")\n",
    "tf.Draw(\"p same\")\n",
    "eff.Draw(\"p same\")\n",
    "leg.Draw()\n",
    "c.Draw()\n",
    "#c.SaveAs(\"trig19.svg\")"
   ]
  },
  {
   "cell_type": "markdown",
   "metadata": {},
   "source": [
    "## Rad corrections"
   ]
  },
  {
   "cell_type": "code",
   "execution_count": 3,
   "metadata": {},
   "outputs": [],
   "source": [
    "rc = pd.read_csv('rad_cors.dat', delimiter='\\t', header=None, names=['label', 'rad'])"
   ]
  },
  {
   "cell_type": "code",
   "execution_count": 4,
   "metadata": {},
   "outputs": [
    {
     "data": {
      "text/html": [
       "<div>\n",
       "<style scoped>\n",
       "    .dataframe tbody tr th:only-of-type {\n",
       "        vertical-align: middle;\n",
       "    }\n",
       "\n",
       "    .dataframe tbody tr th {\n",
       "        vertical-align: top;\n",
       "    }\n",
       "\n",
       "    .dataframe thead th {\n",
       "        text-align: right;\n",
       "    }\n",
       "</style>\n",
       "<table border=\"1\" class=\"dataframe\">\n",
       "  <thead>\n",
       "    <tr style=\"text-align: right;\">\n",
       "      <th></th>\n",
       "      <th>label</th>\n",
       "      <th>rad</th>\n",
       "    </tr>\n",
       "  </thead>\n",
       "  <tbody>\n",
       "    <tr>\n",
       "      <th>0</th>\n",
       "      <td>525.0</td>\n",
       "      <td>0.863528</td>\n",
       "    </tr>\n",
       "    <tr>\n",
       "      <th>1</th>\n",
       "      <td>540.0</td>\n",
       "      <td>0.861685</td>\n",
       "    </tr>\n",
       "    <tr>\n",
       "      <th>2</th>\n",
       "      <td>550.0</td>\n",
       "      <td>0.867511</td>\n",
       "    </tr>\n",
       "    <tr>\n",
       "      <th>3</th>\n",
       "      <td>562.5</td>\n",
       "      <td>0.874765</td>\n",
       "    </tr>\n",
       "    <tr>\n",
       "      <th>4</th>\n",
       "      <td>575.0</td>\n",
       "      <td>0.881186</td>\n",
       "    </tr>\n",
       "  </tbody>\n",
       "</table>\n",
       "</div>"
      ],
      "text/plain": [
       "   label       rad\n",
       "0  525.0  0.863528\n",
       "1  540.0  0.861685\n",
       "2  550.0  0.867511\n",
       "3  562.5  0.874765\n",
       "4  575.0  0.881186"
      ]
     },
     "execution_count": 4,
     "metadata": {},
     "output_type": "execute_result"
    }
   ],
   "source": [
    "rc.head()"
   ]
  },
  {
   "cell_type": "code",
   "execution_count": 20,
   "metadata": {},
   "outputs": [
    {
     "data": {
      "image/png": "[encoded data removed]",
      "text/plain": [
       "<Figure size 842.4x595.44 with 1 Axes>"
      ]
     },
     "metadata": {},
     "output_type": "display_data"
    }
   ],
   "source": [
    "plt.plot(rc.label*2e-3, rc.rad, 'ro')\n",
    "plt.ylabel(\"$(1+\\delta)$\", fontsize=20);\n",
    "plt.xlabel(\"$\\sqrt{s}, GeV$\", fontsize=20);\n",
    "ax = plt.gca()\n",
    "ax.set_ylim([0.7,1.5])\n",
    "plt.tick_params(labelsize=20);\n",
    "plt.savefig('rad.png', dpi=300)"
   ]
  },
  {
   "cell_type": "markdown",
   "metadata": {},
   "source": [
    "## Lum"
   ]
  },
  {
   "cell_type": "code",
   "execution_count": 36,
   "metadata": {},
   "outputs": [],
   "source": [
    "l11 = pd.read_csv('../inputs/17/lum', header=None, names=['en', 'lum'])"
   ]
  },
  {
   "cell_type": "code",
   "execution_count": 37,
   "metadata": {},
   "outputs": [
    {
     "data": {
      "text/plain": [
       "44624.299999999996"
      ]
     },
     "execution_count": 37,
     "metadata": {},
     "output_type": "execute_result"
    }
   ],
   "source": [
    "l11.query('en>524').lum.sum()"
   ]
  },
  {
   "cell_type": "code",
   "execution_count": 40,
   "metadata": {},
   "outputs": [
    {
     "data": {
      "text/html": [
       "<div>\n",
       "<style scoped>\n",
       "    .dataframe tbody tr th:only-of-type {\n",
       "        vertical-align: middle;\n",
       "    }\n",
       "\n",
       "    .dataframe tbody tr th {\n",
       "        vertical-align: top;\n",
       "    }\n",
       "\n",
       "    .dataframe thead th {\n",
       "        text-align: right;\n",
       "    }\n",
       "</style>\n",
       "<table border=\"1\" class=\"dataframe\">\n",
       "  <thead>\n",
       "    <tr style=\"text-align: right;\">\n",
       "      <th></th>\n",
       "      <th>en</th>\n",
       "      <th>lum</th>\n",
       "    </tr>\n",
       "  </thead>\n",
       "  <tbody>\n",
       "    <tr>\n",
       "      <th>31</th>\n",
       "      <td>641.0</td>\n",
       "      <td>3283.2</td>\n",
       "    </tr>\n",
       "    <tr>\n",
       "      <th>30</th>\n",
       "      <td>650.0</td>\n",
       "      <td>932.0</td>\n",
       "    </tr>\n",
       "    <tr>\n",
       "      <th>29</th>\n",
       "      <td>675.0</td>\n",
       "      <td>1295.2</td>\n",
       "    </tr>\n",
       "    <tr>\n",
       "      <th>28</th>\n",
       "      <td>700.0</td>\n",
       "      <td>917.9</td>\n",
       "    </tr>\n",
       "    <tr>\n",
       "      <th>27</th>\n",
       "      <td>725.0</td>\n",
       "      <td>1155.9</td>\n",
       "    </tr>\n",
       "    <tr>\n",
       "      <th>26</th>\n",
       "      <td>750.0</td>\n",
       "      <td>1138.8</td>\n",
       "    </tr>\n",
       "    <tr>\n",
       "      <th>25</th>\n",
       "      <td>775.0</td>\n",
       "      <td>997.9</td>\n",
       "    </tr>\n",
       "    <tr>\n",
       "      <th>24</th>\n",
       "      <td>800.0</td>\n",
       "      <td>1271.1</td>\n",
       "    </tr>\n",
       "  </tbody>\n",
       "</table>\n",
       "</div>"
      ],
      "text/plain": [
       "       en     lum\n",
       "31  641.0  3283.2\n",
       "30  650.0   932.0\n",
       "29  675.0  1295.2\n",
       "28  700.0   917.9\n",
       "27  725.0  1155.9\n",
       "26  750.0  1138.8\n",
       "25  775.0   997.9\n",
       "24  800.0  1271.1"
      ]
     },
     "execution_count": 40,
     "metadata": {},
     "output_type": "execute_result"
    }
   ],
   "source": [
    "l11.sort_values('en').head(8)"
   ]
  },
  {
   "cell_type": "code",
   "execution_count": 39,
   "metadata": {},
   "outputs": [
    {
     "data": {
      "text/plain": [
       "32"
      ]
     },
     "execution_count": 39,
     "metadata": {},
     "output_type": "execute_result"
    }
   ],
   "source": [
    "np.size(l11.query('en>524').lum)"
   ]
  },
  {
   "cell_type": "code",
   "execution_count": 41,
   "metadata": {},
   "outputs": [
    {
     "data": {
      "text/plain": [
       "1282"
      ]
     },
     "execution_count": 41,
     "metadata": {},
     "output_type": "execute_result"
    }
   ],
   "source": [
    "641*2"
   ]
  },
  {
   "cell_type": "code",
   "execution_count": null,
   "metadata": {},
   "outputs": [],
   "source": []
  }
 ],
 "metadata": {
  "kernelspec": {
   "display_name": "Python 2",
   "language": "python",
   "name": "python2"
  },
  "language_info": {
   "codemirror_mode": {
    "name": "ipython",
    "version": 2
   },
   "file_extension": ".py",
   "mimetype": "text/x-python",
   "name": "python",
   "nbconvert_exporter": "python",
   "pygments_lexer": "ipython2",
   "version": "2.7.15+"
  }
 },
 "nbformat": 4,
 "nbformat_minor": 2
}
