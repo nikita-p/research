{
 "cells": [
  {
   "cell_type": "code",
   "execution_count": 1,
   "metadata": {},
   "outputs": [],
   "source": [
    "import numpy as np\n",
    "import pandas as pd\n",
    "import matplotlib.pyplot as plt\n",
    "import seaborn as sns\n",
    "import uproot\n",
    "%matplotlib inline"
   ]
  },
  {
   "cell_type": "code",
   "execution_count": 2,
   "metadata": {},
   "outputs": [],
   "source": [
    "sns.set(rc={'figure.figsize':(16,10)})\n",
    "plt.style.use('seaborn-whitegrid')"
   ]
  },
  {
   "cell_type": "code",
   "execution_count": 3,
   "metadata": {},
   "outputs": [],
   "source": [
    "def data_start(label):\n",
    "    f = uproot.pandas.iterate(f\"../outputs/{label}/*.root\", \"t\")\n",
    "    data = pd.concat([j for j in f])[['label', 'beam_energy', 'mass', 'procedure', 'mass_reco']]\n",
    "    return data"
   ]
  },
  {
   "cell_type": "code",
   "execution_count": 6,
   "metadata": {},
   "outputs": [],
   "source": [
    "data11_start = data_start(\"11\")\n",
    "data19_start = data_start(\"19\")\n",
    "data12_start = data_start(\"12\")\n",
    "data17_start = data_start(\"17\")\n",
    "dataModel_start = data_start(\"model\")"
   ]
  },
  {
   "cell_type": "code",
   "execution_count": 7,
   "metadata": {},
   "outputs": [],
   "source": [
    "data = dict()\n",
    "data['11'] = data11_start.set_index(['label'])\n",
    "data['12'] = data12_start.set_index(['label'])\n",
    "data['17'] = data17_start.set_index(['label'])\n",
    "data['19'] = data19_start.set_index(['label'])\n",
    "data['model'] = dataModel_start.set_index(['label'])"
   ]
  },
  {
   "cell_type": "markdown",
   "metadata": {},
   "source": [
    "### Вот так выглядит распределение по инвариантной массе"
   ]
  },
  {
   "cell_type": "code",
   "execution_count": 13,
   "metadata": {},
   "outputs": [
    {
     "data": {
      "image/png": "[encoded data removed]",
      "text/plain": [
       "<Figure size 1152x720 with 1 Axes>"
      ]
     },
     "metadata": {},
     "output_type": "display_data"
    }
   ],
   "source": [
    "year = '17'\n",
    "emin, emax = 550, 1100\n",
    "plt.hist(data=data[year].query('procedure!=2&beam_energy>@emin&beam_energy<=@emax&abs(mass_reco-500)<100'), \n",
    "         range=(350, 650), x='mass_reco', bins=200, density=True, label=year, histtype=\"step\", lw=2);\n",
    "plt.hist(data=data['model'].query('procedure!=2&beam_energy>@emin&beam_energy<=@emax&abs(mass_reco-500)<100'), \n",
    "         range=(350, 650), x='mass_reco', bins=200, density=True, label=\"model\", histtype=\"step\", lw=2);"
   ]
  },
  {
   "cell_type": "code",
   "execution_count": 9,
   "metadata": {},
   "outputs": [
    {
     "data": {
      "text/html": [
       "<div>\n",
       "<style scoped>\n",
       "    .dataframe tbody tr th:only-of-type {\n",
       "        vertical-align: middle;\n",
       "    }\n",
       "\n",
       "    .dataframe tbody tr th {\n",
       "        vertical-align: top;\n",
       "    }\n",
       "\n",
       "    .dataframe thead th {\n",
       "        text-align: right;\n",
       "    }\n",
       "</style>\n",
       "<table border=\"1\" class=\"dataframe\">\n",
       "  <thead>\n",
       "    <tr style=\"text-align: right;\">\n",
       "      <th></th>\n",
       "      <th>procedure</th>\n",
       "    </tr>\n",
       "    <tr>\n",
       "      <th>label</th>\n",
       "      <th></th>\n",
       "    </tr>\n",
       "  </thead>\n",
       "  <tbody>\n",
       "    <tr>\n",
       "      <td>950.0</td>\n",
       "      <td>61</td>\n",
       "    </tr>\n",
       "    <tr>\n",
       "      <td>971.0</td>\n",
       "      <td>43</td>\n",
       "    </tr>\n",
       "    <tr>\n",
       "      <td>981.0</td>\n",
       "      <td>51</td>\n",
       "    </tr>\n",
       "    <tr>\n",
       "      <td>990.0</td>\n",
       "      <td>52</td>\n",
       "    </tr>\n",
       "    <tr>\n",
       "      <td>1003.5</td>\n",
       "      <td>132</td>\n",
       "    </tr>\n",
       "  </tbody>\n",
       "</table>\n",
       "</div>"
      ],
      "text/plain": [
       "        procedure\n",
       "label            \n",
       "950.0          61\n",
       "971.0          43\n",
       "981.0          51\n",
       "990.0          52\n",
       "1003.5        132"
      ]
     },
     "execution_count": 9,
     "metadata": {},
     "output_type": "execute_result"
    }
   ],
   "source": [
    "data[year].groupby('label').agg({'procedure':np.size}).tail()"
   ]
  },
  {
   "cell_type": "code",
   "execution_count": 10,
   "metadata": {},
   "outputs": [],
   "source": [
    "def rec_eff(data):\n",
    "    rec = pd.pivot_table( data.query('abs(mass_reco-497.6)<5')[['procedure']],  \n",
    "                         index='label', aggfunc=np.size, columns=['procedure']).fillna(0)\n",
    "    rec.columns = ['kf', 'st', 'bt']\n",
    "    rec['kf'] += rec['bt']\n",
    "    rec['st'] += rec['bt']\n",
    "    rec['eff'] = (rec['bt']+1.)/(rec['kf']+2)\n",
    "    rec['err'] = np.sqrt( (rec.bt+1)*(rec.bt+2)/(rec.kf+2)/(rec.kf+3) - np.square((rec.bt+1)/(rec.kf+2)) )\n",
    "    rec.reset_index(inplace=True)\n",
    "    return rec"
   ]
  },
  {
   "cell_type": "code",
   "execution_count": 26,
   "metadata": {},
   "outputs": [],
   "source": [
    "rec= dict()\n",
    "rec['11'] = rec_eff(data['11'])\n",
    "rec['12'] = rec_eff(data['12'])\n",
    "rec['17'] = rec_eff(data['17'])\n",
    "rec['19'] = rec_eff(data['19'])\n",
    "rec['model'] = rec_eff(data['model'])"
   ]
  },
  {
   "cell_type": "code",
   "execution_count": 13,
   "metadata": {},
   "outputs": [],
   "source": [
    "def merging(data, line_from, line_to):\n",
    "    data['weight'] = data.label*data.kf\n",
    "    summary = data.loc[line_from:line_to].sum()\n",
    "    data.loc[line_from:line_to, 'label'] = summary.weight/summary.kf\n",
    "    data = data.groupby('label').agg({'kf':np.sum, 'st':np.sum, 'bt':np.sum}).reset_index()\n",
    "    data['eff'] = (data['bt']+1.)/(data['kf']+2)\n",
    "    data['err'] = np.sqrt( (data.bt+1)*(data.bt+2)/(data.kf+2)/(data.kf+3) - np.square((data.bt+1)/(data.kf+2)) )\n",
    "    return data"
   ]
  },
  {
   "cell_type": "code",
   "execution_count": 40,
   "metadata": {},
   "outputs": [],
   "source": [
    "rec[year] = merging(rec[year], 8, 15)"
   ]
  },
  {
   "cell_type": "code",
   "execution_count": 41,
   "metadata": {},
   "outputs": [
    {
     "data": {
      "text/html": [
       "<div>\n",
       "<style scoped>\n",
       "    .dataframe tbody tr th:only-of-type {\n",
       "        vertical-align: middle;\n",
       "    }\n",
       "\n",
       "    .dataframe tbody tr th {\n",
       "        vertical-align: top;\n",
       "    }\n",
       "\n",
       "    .dataframe thead th {\n",
       "        text-align: right;\n",
       "    }\n",
       "</style>\n",
       "<table border=\"1\" class=\"dataframe\">\n",
       "  <thead>\n",
       "    <tr style=\"text-align: right;\">\n",
       "      <th></th>\n",
       "      <th>label</th>\n",
       "      <th>kf</th>\n",
       "      <th>st</th>\n",
       "      <th>bt</th>\n",
       "      <th>eff</th>\n",
       "      <th>err</th>\n",
       "    </tr>\n",
       "  </thead>\n",
       "  <tbody>\n",
       "    <tr>\n",
       "      <td>0</td>\n",
       "      <td>641.000000</td>\n",
       "      <td>56.0</td>\n",
       "      <td>113.0</td>\n",
       "      <td>53.0</td>\n",
       "      <td>0.931034</td>\n",
       "      <td>0.032989</td>\n",
       "    </tr>\n",
       "    <tr>\n",
       "      <td>1</td>\n",
       "      <td>650.000000</td>\n",
       "      <td>18.0</td>\n",
       "      <td>23.0</td>\n",
       "      <td>17.0</td>\n",
       "      <td>0.900000</td>\n",
       "      <td>0.065465</td>\n",
       "    </tr>\n",
       "    <tr>\n",
       "      <td>2</td>\n",
       "      <td>675.000000</td>\n",
       "      <td>13.0</td>\n",
       "      <td>28.0</td>\n",
       "      <td>12.0</td>\n",
       "      <td>0.866667</td>\n",
       "      <td>0.084984</td>\n",
       "    </tr>\n",
       "    <tr>\n",
       "      <td>3</td>\n",
       "      <td>737.500000</td>\n",
       "      <td>24.0</td>\n",
       "      <td>47.0</td>\n",
       "      <td>15.0</td>\n",
       "      <td>0.615385</td>\n",
       "      <td>0.093628</td>\n",
       "    </tr>\n",
       "    <tr>\n",
       "      <td>4</td>\n",
       "      <td>800.000000</td>\n",
       "      <td>32.0</td>\n",
       "      <td>50.0</td>\n",
       "      <td>20.0</td>\n",
       "      <td>0.617647</td>\n",
       "      <td>0.082143</td>\n",
       "    </tr>\n",
       "    <tr>\n",
       "      <td>5</td>\n",
       "      <td>825.000000</td>\n",
       "      <td>22.0</td>\n",
       "      <td>42.0</td>\n",
       "      <td>17.0</td>\n",
       "      <td>0.750000</td>\n",
       "      <td>0.086603</td>\n",
       "    </tr>\n",
       "    <tr>\n",
       "      <td>6</td>\n",
       "      <td>840.000000</td>\n",
       "      <td>12.0</td>\n",
       "      <td>24.0</td>\n",
       "      <td>9.0</td>\n",
       "      <td>0.714286</td>\n",
       "      <td>0.116642</td>\n",
       "    </tr>\n",
       "    <tr>\n",
       "      <td>7</td>\n",
       "      <td>901.735001</td>\n",
       "      <td>20.0</td>\n",
       "      <td>27.0</td>\n",
       "      <td>12.0</td>\n",
       "      <td>0.590909</td>\n",
       "      <td>0.102519</td>\n",
       "    </tr>\n",
       "    <tr>\n",
       "      <td>8</td>\n",
       "      <td>967.758818</td>\n",
       "      <td>17.0</td>\n",
       "      <td>11.0</td>\n",
       "      <td>4.0</td>\n",
       "      <td>0.263158</td>\n",
       "      <td>0.098465</td>\n",
       "    </tr>\n",
       "  </tbody>\n",
       "</table>\n",
       "</div>"
      ],
      "text/plain": [
       "        label    kf     st    bt       eff       err\n",
       "0  641.000000  56.0  113.0  53.0  0.931034  0.032989\n",
       "1  650.000000  18.0   23.0  17.0  0.900000  0.065465\n",
       "2  675.000000  13.0   28.0  12.0  0.866667  0.084984\n",
       "3  737.500000  24.0   47.0  15.0  0.615385  0.093628\n",
       "4  800.000000  32.0   50.0  20.0  0.617647  0.082143\n",
       "5  825.000000  22.0   42.0  17.0  0.750000  0.086603\n",
       "6  840.000000  12.0   24.0   9.0  0.714286  0.116642\n",
       "7  901.735001  20.0   27.0  12.0  0.590909  0.102519\n",
       "8  967.758818  17.0   11.0   4.0  0.263158  0.098465"
      ]
     },
     "execution_count": 41,
     "metadata": {},
     "output_type": "execute_result"
    }
   ],
   "source": [
    "rec[year]"
   ]
  },
  {
   "cell_type": "code",
   "execution_count": 42,
   "metadata": {},
   "outputs": [],
   "source": [
    "def model_eff(x):\n",
    "    rec_eff = np.interp(x, rec['model'].label, rec['model'].eff )\n",
    "    rec_err = np.interp(x, rec['model'].label, rec['model'].err )\n",
    "    return ( rec_eff, rec_err )\n",
    "def add_correction(rec):\n",
    "    rec['eff_m'] = model_eff(rec.label)[0]\n",
    "    rec['err_m'] = model_eff(rec.label)[1]\n",
    "    rec['correction'] = rec.eff/rec.eff_m\n",
    "    rec['correction_error'] = rec.correction*np.sqrt( (rec.err/rec.eff)**2 + (rec.err_m/rec.eff_m)**2 )\n",
    "    return rec"
   ]
  },
  {
   "cell_type": "code",
   "execution_count": 43,
   "metadata": {},
   "outputs": [],
   "source": [
    "rec['19'] = add_correction(rec['19'])\n",
    "rec['17'] = add_correction(rec['17'])\n",
    "rec['12'] = add_correction(rec['12'])\n",
    "rec['11'] = add_correction(rec['11'])"
   ]
  },
  {
   "cell_type": "markdown",
   "metadata": {},
   "source": [
    "Картинка с эффективностью реконструкции для моделирования и эксперимента"
   ]
  },
  {
   "cell_type": "code",
   "execution_count": 44,
   "metadata": {},
   "outputs": [
    {
     "data": {
      "image/png": "[encoded data removed]",
      "text/plain": [
       "<Figure size 1152x720 with 1 Axes>"
      ]
     },
     "metadata": {},
     "output_type": "display_data"
    }
   ],
   "source": [
    "year = '17'\n",
    "plt.errorbar(x=rec[year]['label']*2e-3, y=rec[year]['eff'], yerr=rec[year]['err'], fmt='o')\n",
    "plt.errorbar(x=rec['model']['label']*2e-3, y=rec['model']['eff'], yerr=rec['model']['err'], fmt='o')\n",
    "plt.xlabel(\"$\\sqrt{s}$, GeV\", fontsize=20);\n",
    "ax = plt.gca()\n",
    "ax.tick_params(labelsize=18)\n",
    "ax.set_ylim([0.0, 1.1]);"
   ]
  },
  {
   "cell_type": "markdown",
   "metadata": {},
   "source": [
    "Фитирую поправку константой"
   ]
  },
  {
   "cell_type": "code",
   "execution_count": 45,
   "metadata": {},
   "outputs": [],
   "source": [
    "year = '17'"
   ]
  },
  {
   "cell_type": "code",
   "execution_count": 46,
   "metadata": {},
   "outputs": [],
   "source": [
    "import iminuit"
   ]
  },
  {
   "cell_type": "code",
   "execution_count": 47,
   "metadata": {},
   "outputs": [
    {
     "data": {
      "text/html": [
       "<table>\n",
       "<tr>\n",
       "<td colspan=\"2\" title=\"Minimum value of function\">\n",
       "FCN = 8.57\n",
       "</td>\n",
       "<td align=\"center\" colspan=\"3\" title=\"No. of calls in last algorithm and total number of calls\">\n",
       "Ncalls = 13 (13 total)\n",
       "</td>\n",
       "</tr>\n",
       "<tr>\n",
       "<td colspan=\"2\" title=\"Estimated distance to minimum and target threshold\">\n",
       "EDM = 7.81E-19 (Goal: 1E-05)\n",
       "</td>\n",
       "<td align=\"center\" colspan=\"3\" title=\"Increase in FCN which corresponds to 1 standard deviation\">\n",
       "up = 1.0\n",
       "</td>\n",
       "</tr>\n",
       "<tr>\n",
       "<td align=\"center\" title=\"Validity of the migrad call\">\n",
       "Valid Min.\n",
       "</td>\n",
       "<td align=\"center\" title=\"Validity of parameters\">\n",
       "Valid Param.\n",
       "</td>\n",
       "<td align=\"center\" title=\"Is EDM above goal EDM?\">\n",
       "Above EDM\n",
       "</td>\n",
       "<td align=\"center\" colspan=\"2\" title=\"Did last migrad call reach max call limit?\">\n",
       "Reached call limit\n",
       "</td>\n",
       "</tr>\n",
       "<tr>\n",
       "<td align=\"center\" style=\"background-color:#92CCA6;\">\n",
       "True\n",
       "</td>\n",
       "<td align=\"center\" style=\"background-color:#92CCA6;\">\n",
       "True\n",
       "</td>\n",
       "<td align=\"center\" style=\"background-color:#92CCA6;\">\n",
       "False\n",
       "</td>\n",
       "<td align=\"center\" colspan=\"2\" style=\"background-color:#92CCA6;\">\n",
       "False\n",
       "</td>\n",
       "</tr>\n",
       "<tr>\n",
       "<td align=\"center\" title=\"Did Hesse fail?\">\n",
       "Hesse failed\n",
       "</td>\n",
       "<td align=\"center\" title=\"Has covariance matrix\">\n",
       "Has cov.\n",
       "</td>\n",
       "<td align=\"center\" title=\"Is covariance matrix accurate?\">\n",
       "Accurate\n",
       "</td>\n",
       "<td align=\"center\" title=\"Is covariance matrix positive definite?\">\n",
       "Pos. def.\n",
       "</td>\n",
       "<td align=\"center\" title=\"Was positive definiteness enforced by Minuit?\">\n",
       "Forced\n",
       "</td>\n",
       "</tr>\n",
       "<tr>\n",
       "<td align=\"center\" style=\"background-color:#92CCA6;\">\n",
       "False\n",
       "</td>\n",
       "<td align=\"center\" style=\"background-color:#92CCA6;\">\n",
       "True\n",
       "</td>\n",
       "<td align=\"center\" style=\"background-color:#92CCA6;\">\n",
       "True\n",
       "</td>\n",
       "<td align=\"center\" style=\"background-color:#92CCA6;\">\n",
       "True\n",
       "</td>\n",
       "<td align=\"center\" style=\"background-color:#92CCA6;\">\n",
       "False\n",
       "</td>\n",
       "</tr>\n",
       "</table>\n",
       "<table>\n",
       "<tr style=\"background-color:#F4F4F4;\">\n",
       "<td/>\n",
       "<th title=\"Variable name\">\n",
       "Name\n",
       "</th>\n",
       "<th title=\"Value of parameter\">\n",
       "Value\n",
       "</th>\n",
       "<th title=\"Hesse error\">\n",
       "Hesse Error\n",
       "</th>\n",
       "<th title=\"Minos lower error\">\n",
       "Minos Error-\n",
       "</th>\n",
       "<th title=\"Minos upper error\">\n",
       "Minos Error+\n",
       "</th>\n",
       "<th title=\"Lower limit of the parameter\">\n",
       "Limit-\n",
       "</th>\n",
       "<th title=\"Upper limit of the parameter\">\n",
       "Limit+\n",
       "</th>\n",
       "<th title=\"Is the parameter fixed in the fit\">\n",
       "Fixed\n",
       "</th>\n",
       "</tr>\n",
       "<tr style=\"background-color:#FFFFFF;\">\n",
       "<td>\n",
       "0\n",
       "</td>\n",
       "<td>\n",
       "c\n",
       "</td>\n",
       "<td>\n",
       "0.981\n",
       "</td>\n",
       "<td>\n",
       "0.030\n",
       "</td>\n",
       "<td>\n",
       "\n",
       "</td>\n",
       "<td>\n",
       "\n",
       "</td>\n",
       "<td>\n",
       "\n",
       "</td>\n",
       "<td>\n",
       "\n",
       "</td>\n",
       "<td>\n",
       "\n",
       "</td>\n",
       "</tr>\n",
       "</table>\n"
      ],
      "text/plain": [
       "------------------------------------------------------------------\n",
       "| FCN = 8.57                    |      Ncalls=13 (13 total)      |\n",
       "| EDM = 7.81E-19 (Goal: 1E-05)  |            up = 1.0            |\n",
       "------------------------------------------------------------------\n",
       "|  Valid Min.   | Valid Param.  | Above EDM | Reached call limit |\n",
       "------------------------------------------------------------------\n",
       "|     True      |     True      |   False   |       False        |\n",
       "------------------------------------------------------------------\n",
       "| Hesse failed  |   Has cov.    | Accurate  | Pos. def. | Forced |\n",
       "------------------------------------------------------------------\n",
       "|     False     |     True      |   True    |   True    | False  |\n",
       "------------------------------------------------------------------\n",
       "------------------------------------------------------------------------------------------\n",
       "|   | Name |   Value   | Hesse Err | Minos Err- | Minos Err+ | Limit-  | Limit+  | Fixed |\n",
       "------------------------------------------------------------------------------------------\n",
       "| 0 | c    |   0.981   |   0.030   |            |            |         |         |       |\n",
       "------------------------------------------------------------------------------------------"
      ]
     },
     "execution_count": 47,
     "metadata": {},
     "output_type": "execute_result"
    }
   ],
   "source": [
    "def least_squares(c):\n",
    "    return np.sum((( rec[year].correction - c ) / rec[year].correction_error )**2 )\n",
    "\n",
    "m = iminuit.Minuit(least_squares, c=1., error_c=0.01, errordef = 1)\n",
    "m.migrad()"
   ]
  },
  {
   "cell_type": "markdown",
   "metadata": {},
   "source": [
    "Финальная картинка с поправкой"
   ]
  },
  {
   "cell_type": "code",
   "execution_count": 49,
   "metadata": {},
   "outputs": [
    {
     "data": {
      "image/png": "[encoded data removed]",
      "text/plain": [
       "<Figure size 1152x720 with 1 Axes>"
      ]
     },
     "metadata": {},
     "output_type": "display_data"
    }
   ],
   "source": [
    "#plot corrections\n",
    "plt.errorbar(x=rec[year]['label']*2e-3, y=rec[year]['correction'], yerr=rec[year]['correction_error'], \n",
    "             fmt='o', label='Corrections')\n",
    "\n",
    "#plot fitting line\n",
    "x_line, y_line = np.linspace(1.05, 2., 2), m.np_values()[0]*np.ones(2)\n",
    "yerr_line = np.ones(2)*m.np_errors()[0]\n",
    "plt.plot(x_line, y_line, label='Fit')\n",
    "plt.fill_between(x_line, y_line-yerr_line, y_line+yerr_line, facecolor='green', alpha=0.1, edgecolor='none')\n",
    "\n",
    "#look friendly\n",
    "plt.xlabel(\"$\\sqrt{s}$, GeV\", fontsize=20);\n",
    "plt.ylabel(f\"Correction {year}\", fontsize=20);\n",
    "ax = plt.gca()\n",
    "ax.tick_params(labelsize=18)\n",
    "    #text and legend\n",
    "text_str = f\"$\\chi^2$ / ndf = {m.fval:.2f} / {len(rec[year])-1} \\nconstant = {m.np_values()[0]:.3f}$\\pm${m.np_errors()[0]:.3f}\"\n",
    "ax.text(0.03, 0.1, text_str, transform=ax.transAxes, fontsize=20)\n",
    "plt.legend(fontsize=20, loc='lower right', frameon=True);\n",
    "\n",
    "#plt.savefig('correction17.pdf')"
   ]
  },
  {
   "cell_type": "code",
   "execution_count": null,
   "metadata": {},
   "outputs": [],
   "source": []
  }
 ],
 "metadata": {
  "kernelspec": {
   "display_name": "Python 3",
   "language": "python",
   "name": "python3"
  },
  "language_info": {
   "codemirror_mode": {
    "name": "ipython",
    "version": 3
   },
   "file_extension": ".py",
   "mimetype": "text/x-python",
   "name": "python",
   "nbconvert_exporter": "python",
   "pygments_lexer": "ipython3",
   "version": "3.7.4"
  }
 },
 "nbformat": 4,
 "nbformat_minor": 4
}
