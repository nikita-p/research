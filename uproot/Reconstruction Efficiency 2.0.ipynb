{
 "cells": [
  {
   "cell_type": "code",
   "execution_count": 1,
   "metadata": {},
   "outputs": [],
   "source": [
    "import numpy as np\n",
    "import pandas as pd\n",
    "import matplotlib.pyplot as plt\n",
    "import seaborn as sns\n",
    "import uproot\n",
    "%matplotlib inline"
   ]
  },
  {
   "cell_type": "code",
   "execution_count": 2,
   "metadata": {},
   "outputs": [],
   "source": [
    "sns.set(rc={'figure.figsize':(16,10)})\n",
    "plt.style.use('seaborn-whitegrid')"
   ]
  },
  {
   "cell_type": "code",
   "execution_count": 5,
   "metadata": {},
   "outputs": [],
   "source": [
    "def data_start(label):\n",
    "    f = uproot.pandas.iterate(f\"../outputs/{label}/trees/*.root\", \"t\")\n",
    "    data = pd.concat([j for j in f])[['label', 'beam_energy', 'mass', 'procedure', 'mass_reco']]\n",
    "    return data"
   ]
  },
  {
   "cell_type": "code",
   "execution_count": 7,
   "metadata": {},
   "outputs": [],
   "source": [
    "data11_start = data_start(\"11\")\n",
    "data19_start = data_start(\"19\")\n",
    "data12_start = data_start(\"12\")\n",
    "data17_start = data_start(\"17\")\n",
    "dataModelNew_start = data_start(\"model_new\")\n",
    "dataModelOld_start = data_start(\"model_old\")"
   ]
  },
  {
   "cell_type": "code",
   "execution_count": 8,
   "metadata": {},
   "outputs": [],
   "source": [
    "data = dict()\n",
    "data['11'] = data11_start.set_index(['label'])\n",
    "data['12'] = data12_start.set_index(['label'])\n",
    "data['17'] = data17_start.set_index(['label'])\n",
    "data['19'] = data19_start.set_index(['label'])\n",
    "#внимательнее, для 19 нужно New\n",
    "data['model'] = dataModelOld_start.set_index(['label'])"
   ]
  },
  {
   "cell_type": "markdown",
   "metadata": {},
   "source": [
    "### Вот так выглядит распределение по инвариантной массе"
   ]
  },
  {
   "cell_type": "code",
   "execution_count": 38,
   "metadata": {},
   "outputs": [
    {
     "data": {
      "image/png": "[encoded data removed]",
      "text/plain": [
       "<Figure size 1152x720 with 1 Axes>"
      ]
     },
     "metadata": {},
     "output_type": "display_data"
    }
   ],
   "source": [
    "year = '11'\n",
    "emin, emax = 550, 1100\n",
    "plt.hist(data=data[year].query('procedure!=2&beam_energy>@emin&beam_energy<=@emax&abs(mass_reco-500)<100'), \n",
    "         range=(350, 650), x='mass_reco', bins=200, density=True, label=year, histtype=\"step\", lw=2);\n",
    "plt.hist(data=data['model'].query('procedure!=2&beam_energy>@emin&beam_energy<=@emax&abs(mass_reco-500)<100'), \n",
    "         range=(350, 650), x='mass_reco', bins=200, density=True, label=\"model\", histtype=\"step\", lw=2);"
   ]
  },
  {
   "cell_type": "code",
   "execution_count": 39,
   "metadata": {},
   "outputs": [
    {
     "data": {
      "text/html": [
       "<div>\n",
       "<style scoped>\n",
       "    .dataframe tbody tr th:only-of-type {\n",
       "        vertical-align: middle;\n",
       "    }\n",
       "\n",
       "    .dataframe tbody tr th {\n",
       "        vertical-align: top;\n",
       "    }\n",
       "\n",
       "    .dataframe thead th {\n",
       "        text-align: right;\n",
       "    }\n",
       "</style>\n",
       "<table border=\"1\" class=\"dataframe\">\n",
       "  <thead>\n",
       "    <tr style=\"text-align: right;\">\n",
       "      <th></th>\n",
       "      <th>procedure</th>\n",
       "    </tr>\n",
       "    <tr>\n",
       "      <th>label</th>\n",
       "      <th></th>\n",
       "    </tr>\n",
       "  </thead>\n",
       "  <tbody>\n",
       "    <tr>\n",
       "      <th>950.0</th>\n",
       "      <td>18</td>\n",
       "    </tr>\n",
       "    <tr>\n",
       "      <th>962.5</th>\n",
       "      <td>23</td>\n",
       "    </tr>\n",
       "    <tr>\n",
       "      <th>975.0</th>\n",
       "      <td>22</td>\n",
       "    </tr>\n",
       "    <tr>\n",
       "      <th>987.5</th>\n",
       "      <td>22</td>\n",
       "    </tr>\n",
       "    <tr>\n",
       "      <th>1000.0</th>\n",
       "      <td>20</td>\n",
       "    </tr>\n",
       "  </tbody>\n",
       "</table>\n",
       "</div>"
      ],
      "text/plain": [
       "        procedure\n",
       "label            \n",
       "950.0          18\n",
       "962.5          23\n",
       "975.0          22\n",
       "987.5          22\n",
       "1000.0         20"
      ]
     },
     "execution_count": 39,
     "metadata": {},
     "output_type": "execute_result"
    }
   ],
   "source": [
    "data[year].groupby('label').agg({'procedure':np.size}).tail()"
   ]
  },
  {
   "cell_type": "code",
   "execution_count": 40,
   "metadata": {},
   "outputs": [],
   "source": [
    "def rec_eff(data):\n",
    "    rec = pd.pivot_table( data.query('abs(mass_reco-497.6)<5')[['procedure']],  \n",
    "                         index='label', aggfunc=np.size, columns=['procedure']).fillna(0)\n",
    "    rec.columns = ['kf', 'st', 'bt']\n",
    "    rec['kf'] += rec['bt']\n",
    "    rec['st'] += rec['bt']\n",
    "    rec['eff'] = (rec['bt']+1.)/(rec['kf']+2)\n",
    "    rec['err'] = np.sqrt( (rec.bt+1)*(rec.bt+2)/(rec.kf+2)/(rec.kf+3) - np.square((rec.bt+1)/(rec.kf+2)) )\n",
    "    rec.reset_index(inplace=True)\n",
    "    return rec"
   ]
  },
  {
   "cell_type": "code",
   "execution_count": 41,
   "metadata": {},
   "outputs": [],
   "source": [
    "rec= dict()\n",
    "rec['11'] = rec_eff(data['11'])\n",
    "rec['12'] = rec_eff(data['12'])\n",
    "rec['17'] = rec_eff(data['17'])\n",
    "rec['19'] = rec_eff(data['19'])\n",
    "rec['model'] = rec_eff(data['model'])"
   ]
  },
  {
   "cell_type": "code",
   "execution_count": 42,
   "metadata": {},
   "outputs": [],
   "source": [
    "def merging(data, line_from, line_to):\n",
    "    data['weight'] = data.label*data.kf\n",
    "    summary = data.loc[line_from:line_to].sum()\n",
    "    data.loc[line_from:line_to, 'label'] = summary.weight/summary.kf\n",
    "    data = data.groupby('label').agg({'kf':np.sum, 'st':np.sum, 'bt':np.sum}).reset_index()\n",
    "    data['eff'] = (data['bt']+1.)/(data['kf']+2)\n",
    "    data['err'] = np.sqrt( (data.bt+1)*(data.bt+2)/(data.kf+2)/(data.kf+3) - np.square((data.bt+1)/(data.kf+2)) )\n",
    "    return data"
   ]
  },
  {
   "cell_type": "code",
   "execution_count": 56,
   "metadata": {},
   "outputs": [],
   "source": [
    "rec[year] = merging(rec[year], 13, 22)"
   ]
  },
  {
   "cell_type": "code",
   "execution_count": 57,
   "metadata": {},
   "outputs": [
    {
     "data": {
      "text/html": [
       "<div>\n",
       "<style scoped>\n",
       "    .dataframe tbody tr th:only-of-type {\n",
       "        vertical-align: middle;\n",
       "    }\n",
       "\n",
       "    .dataframe tbody tr th {\n",
       "        vertical-align: top;\n",
       "    }\n",
       "\n",
       "    .dataframe thead th {\n",
       "        text-align: right;\n",
       "    }\n",
       "</style>\n",
       "<table border=\"1\" class=\"dataframe\">\n",
       "  <thead>\n",
       "    <tr style=\"text-align: right;\">\n",
       "      <th></th>\n",
       "      <th>label</th>\n",
       "      <th>kf</th>\n",
       "      <th>st</th>\n",
       "      <th>bt</th>\n",
       "      <th>eff</th>\n",
       "      <th>err</th>\n",
       "    </tr>\n",
       "  </thead>\n",
       "  <tbody>\n",
       "    <tr>\n",
       "      <th>0</th>\n",
       "      <td>525.000000</td>\n",
       "      <td>287.0</td>\n",
       "      <td>455.0</td>\n",
       "      <td>281.0</td>\n",
       "      <td>0.975779</td>\n",
       "      <td>0.009028</td>\n",
       "    </tr>\n",
       "    <tr>\n",
       "      <th>1</th>\n",
       "      <td>537.500000</td>\n",
       "      <td>272.0</td>\n",
       "      <td>527.0</td>\n",
       "      <td>264.0</td>\n",
       "      <td>0.967153</td>\n",
       "      <td>0.010748</td>\n",
       "    </tr>\n",
       "    <tr>\n",
       "      <th>2</th>\n",
       "      <td>550.000000</td>\n",
       "      <td>122.0</td>\n",
       "      <td>191.0</td>\n",
       "      <td>115.0</td>\n",
       "      <td>0.935484</td>\n",
       "      <td>0.021973</td>\n",
       "    </tr>\n",
       "    <tr>\n",
       "      <th>3</th>\n",
       "      <td>562.500000</td>\n",
       "      <td>98.0</td>\n",
       "      <td>221.0</td>\n",
       "      <td>97.0</td>\n",
       "      <td>0.980000</td>\n",
       "      <td>0.013931</td>\n",
       "    </tr>\n",
       "    <tr>\n",
       "      <th>4</th>\n",
       "      <td>575.000000</td>\n",
       "      <td>42.0</td>\n",
       "      <td>64.0</td>\n",
       "      <td>41.0</td>\n",
       "      <td>0.954545</td>\n",
       "      <td>0.031051</td>\n",
       "    </tr>\n",
       "    <tr>\n",
       "      <th>5</th>\n",
       "      <td>587.500000</td>\n",
       "      <td>38.0</td>\n",
       "      <td>87.0</td>\n",
       "      <td>35.0</td>\n",
       "      <td>0.900000</td>\n",
       "      <td>0.046852</td>\n",
       "    </tr>\n",
       "    <tr>\n",
       "      <th>6</th>\n",
       "      <td>600.000000</td>\n",
       "      <td>18.0</td>\n",
       "      <td>36.0</td>\n",
       "      <td>17.0</td>\n",
       "      <td>0.900000</td>\n",
       "      <td>0.065465</td>\n",
       "    </tr>\n",
       "    <tr>\n",
       "      <th>7</th>\n",
       "      <td>612.500000</td>\n",
       "      <td>25.0</td>\n",
       "      <td>65.0</td>\n",
       "      <td>25.0</td>\n",
       "      <td>0.962963</td>\n",
       "      <td>0.035690</td>\n",
       "    </tr>\n",
       "    <tr>\n",
       "      <th>8</th>\n",
       "      <td>634.210526</td>\n",
       "      <td>19.0</td>\n",
       "      <td>41.0</td>\n",
       "      <td>18.0</td>\n",
       "      <td>0.904762</td>\n",
       "      <td>0.062584</td>\n",
       "    </tr>\n",
       "    <tr>\n",
       "      <th>9</th>\n",
       "      <td>656.250000</td>\n",
       "      <td>22.0</td>\n",
       "      <td>33.0</td>\n",
       "      <td>21.0</td>\n",
       "      <td>0.916667</td>\n",
       "      <td>0.055277</td>\n",
       "    </tr>\n",
       "    <tr>\n",
       "      <th>10</th>\n",
       "      <td>714.802632</td>\n",
       "      <td>38.0</td>\n",
       "      <td>60.0</td>\n",
       "      <td>32.0</td>\n",
       "      <td>0.825000</td>\n",
       "      <td>0.059341</td>\n",
       "    </tr>\n",
       "    <tr>\n",
       "      <th>11</th>\n",
       "      <td>782.500000</td>\n",
       "      <td>20.0</td>\n",
       "      <td>25.0</td>\n",
       "      <td>14.0</td>\n",
       "      <td>0.681818</td>\n",
       "      <td>0.097120</td>\n",
       "    </tr>\n",
       "    <tr>\n",
       "      <th>12</th>\n",
       "      <td>807.608696</td>\n",
       "      <td>23.0</td>\n",
       "      <td>35.0</td>\n",
       "      <td>15.0</td>\n",
       "      <td>0.640000</td>\n",
       "      <td>0.094136</td>\n",
       "    </tr>\n",
       "    <tr>\n",
       "      <th>13</th>\n",
       "      <td>866.562500</td>\n",
       "      <td>32.0</td>\n",
       "      <td>40.0</td>\n",
       "      <td>15.0</td>\n",
       "      <td>0.470588</td>\n",
       "      <td>0.084369</td>\n",
       "    </tr>\n",
       "  </tbody>\n",
       "</table>\n",
       "</div>"
      ],
      "text/plain": [
       "         label     kf     st     bt       eff       err\n",
       "0   525.000000  287.0  455.0  281.0  0.975779  0.009028\n",
       "1   537.500000  272.0  527.0  264.0  0.967153  0.010748\n",
       "2   550.000000  122.0  191.0  115.0  0.935484  0.021973\n",
       "3   562.500000   98.0  221.0   97.0  0.980000  0.013931\n",
       "4   575.000000   42.0   64.0   41.0  0.954545  0.031051\n",
       "5   587.500000   38.0   87.0   35.0  0.900000  0.046852\n",
       "6   600.000000   18.0   36.0   17.0  0.900000  0.065465\n",
       "7   612.500000   25.0   65.0   25.0  0.962963  0.035690\n",
       "8   634.210526   19.0   41.0   18.0  0.904762  0.062584\n",
       "9   656.250000   22.0   33.0   21.0  0.916667  0.055277\n",
       "10  714.802632   38.0   60.0   32.0  0.825000  0.059341\n",
       "11  782.500000   20.0   25.0   14.0  0.681818  0.097120\n",
       "12  807.608696   23.0   35.0   15.0  0.640000  0.094136\n",
       "13  866.562500   32.0   40.0   15.0  0.470588  0.084369"
      ]
     },
     "execution_count": 57,
     "metadata": {},
     "output_type": "execute_result"
    }
   ],
   "source": [
    "rec[year]"
   ]
  },
  {
   "cell_type": "code",
   "execution_count": 58,
   "metadata": {},
   "outputs": [],
   "source": [
    "def model_eff(x):\n",
    "    rec_eff = np.interp(x, rec['model'].label, rec['model'].eff )\n",
    "    rec_err = np.interp(x, rec['model'].label, rec['model'].err )\n",
    "    return ( rec_eff, rec_err )\n",
    "def add_correction(rec):\n",
    "    rec['eff_m'] = model_eff(rec.label)[0]\n",
    "    rec['err_m'] = model_eff(rec.label)[1]\n",
    "    rec['correction'] = rec.eff/rec.eff_m\n",
    "    rec['correction_error'] = rec.correction*np.sqrt( (rec.err/rec.eff)**2 + (rec.err_m/rec.eff_m)**2 )\n",
    "    return rec"
   ]
  },
  {
   "cell_type": "code",
   "execution_count": 59,
   "metadata": {},
   "outputs": [],
   "source": [
    "rec['19'] = add_correction(rec['19'])\n",
    "rec['17'] = add_correction(rec['17'])\n",
    "rec['12'] = add_correction(rec['12'])\n",
    "rec['11'] = add_correction(rec['11'])"
   ]
  },
  {
   "cell_type": "markdown",
   "metadata": {},
   "source": [
    "Картинка с эффективностью реконструкции для моделирования и эксперимента"
   ]
  },
  {
   "cell_type": "code",
   "execution_count": 60,
   "metadata": {},
   "outputs": [
    {
     "data": {
      "image/png": "[encoded data removed]",
      "text/plain": [
       "<Figure size 1152x720 with 1 Axes>"
      ]
     },
     "metadata": {},
     "output_type": "display_data"
    }
   ],
   "source": [
    "# year = '17'\n",
    "plt.errorbar(x=rec[year]['label']*2e-3, y=rec[year]['eff'], yerr=rec[year]['err'], fmt='o')\n",
    "plt.errorbar(x=rec['model']['label']*2e-3, y=rec['model']['eff'], yerr=rec['model']['err'], fmt='o')\n",
    "plt.xlabel(\"$\\sqrt{s}$, GeV\", fontsize=20);\n",
    "ax = plt.gca()\n",
    "ax.tick_params(labelsize=18)\n",
    "ax.set_ylim([0.0, 1.1]);"
   ]
  },
  {
   "cell_type": "markdown",
   "metadata": {},
   "source": [
    "Фитирую поправку константой"
   ]
  },
  {
   "cell_type": "code",
   "execution_count": 61,
   "metadata": {},
   "outputs": [],
   "source": [
    "# year = '17'"
   ]
  },
  {
   "cell_type": "code",
   "execution_count": 62,
   "metadata": {},
   "outputs": [],
   "source": [
    "import iminuit"
   ]
  },
  {
   "cell_type": "code",
   "execution_count": 63,
   "metadata": {},
   "outputs": [
    {
     "data": {
      "text/html": [
       "<table>\n",
       "<tr>\n",
       "<td colspan=\"2\" title=\"Minimum value of function\">\n",
       "FCN = 6.791\n",
       "</td>\n",
       "<td align=\"center\" colspan=\"3\" title=\"No. of calls in last algorithm and total number of calls\">\n",
       "Ncalls = 13 (13 total)\n",
       "</td>\n",
       "</tr>\n",
       "<tr>\n",
       "<td colspan=\"2\" title=\"Estimated distance to minimum and target threshold\">\n",
       "EDM = 2.27E-18 (Goal: 1E-05)\n",
       "</td>\n",
       "<td align=\"center\" colspan=\"3\" title=\"Increase in FCN which corresponds to 1 standard deviation\">\n",
       "up = 1.0\n",
       "</td>\n",
       "</tr>\n",
       "<tr>\n",
       "<td align=\"center\" title=\"Validity of the migrad call\">\n",
       "Valid Min.\n",
       "</td>\n",
       "<td align=\"center\" title=\"Validity of parameters\">\n",
       "Valid Param.\n",
       "</td>\n",
       "<td align=\"center\" title=\"Is EDM above goal EDM?\">\n",
       "Above EDM\n",
       "</td>\n",
       "<td align=\"center\" colspan=\"2\" title=\"Did last migrad call reach max call limit?\">\n",
       "Reached call limit\n",
       "</td>\n",
       "</tr>\n",
       "<tr>\n",
       "<td align=\"center\" style=\"background-color:#92CCA6;\">\n",
       "True\n",
       "</td>\n",
       "<td align=\"center\" style=\"background-color:#92CCA6;\">\n",
       "True\n",
       "</td>\n",
       "<td align=\"center\" style=\"background-color:#92CCA6;\">\n",
       "False\n",
       "</td>\n",
       "<td align=\"center\" colspan=\"2\" style=\"background-color:#92CCA6;\">\n",
       "False\n",
       "</td>\n",
       "</tr>\n",
       "<tr>\n",
       "<td align=\"center\" title=\"Did Hesse fail?\">\n",
       "Hesse failed\n",
       "</td>\n",
       "<td align=\"center\" title=\"Has covariance matrix\">\n",
       "Has cov.\n",
       "</td>\n",
       "<td align=\"center\" title=\"Is covariance matrix accurate?\">\n",
       "Accurate\n",
       "</td>\n",
       "<td align=\"center\" title=\"Is covariance matrix positive definite?\">\n",
       "Pos. def.\n",
       "</td>\n",
       "<td align=\"center\" title=\"Was positive definiteness enforced by Minuit?\">\n",
       "Forced\n",
       "</td>\n",
       "</tr>\n",
       "<tr>\n",
       "<td align=\"center\" style=\"background-color:#92CCA6;\">\n",
       "False\n",
       "</td>\n",
       "<td align=\"center\" style=\"background-color:#92CCA6;\">\n",
       "True\n",
       "</td>\n",
       "<td align=\"center\" style=\"background-color:#92CCA6;\">\n",
       "True\n",
       "</td>\n",
       "<td align=\"center\" style=\"background-color:#92CCA6;\">\n",
       "True\n",
       "</td>\n",
       "<td align=\"center\" style=\"background-color:#92CCA6;\">\n",
       "False\n",
       "</td>\n",
       "</tr>\n",
       "</table>\n",
       "<table>\n",
       "<tr style=\"background-color:#F4F4F4;\">\n",
       "<td/>\n",
       "<th title=\"Variable name\">\n",
       "Name\n",
       "</th>\n",
       "<th title=\"Value of parameter\">\n",
       "Value\n",
       "</th>\n",
       "<th title=\"Hesse error\">\n",
       "Hesse Error\n",
       "</th>\n",
       "<th title=\"Minos lower error\">\n",
       "Minos Error-\n",
       "</th>\n",
       "<th title=\"Minos upper error\">\n",
       "Minos Error+\n",
       "</th>\n",
       "<th title=\"Lower limit of the parameter\">\n",
       "Limit-\n",
       "</th>\n",
       "<th title=\"Upper limit of the parameter\">\n",
       "Limit+\n",
       "</th>\n",
       "<th title=\"Is the parameter fixed in the fit\">\n",
       "Fixed\n",
       "</th>\n",
       "</tr>\n",
       "<tr style=\"background-color:#FFFFFF;\">\n",
       "<td>\n",
       "0\n",
       "</td>\n",
       "<td>\n",
       "c\n",
       "</td>\n",
       "<td>\n",
       "0.987\n",
       "</td>\n",
       "<td>\n",
       "0.007\n",
       "</td>\n",
       "<td>\n",
       "\n",
       "</td>\n",
       "<td>\n",
       "\n",
       "</td>\n",
       "<td>\n",
       "\n",
       "</td>\n",
       "<td>\n",
       "\n",
       "</td>\n",
       "<td>\n",
       "\n",
       "</td>\n",
       "</tr>\n",
       "</table>\n"
      ],
      "text/plain": [
       "------------------------------------------------------------------\n",
       "| FCN = 6.791                   |      Ncalls=13 (13 total)      |\n",
       "| EDM = 2.27E-18 (Goal: 1E-05)  |            up = 1.0            |\n",
       "------------------------------------------------------------------\n",
       "|  Valid Min.   | Valid Param.  | Above EDM | Reached call limit |\n",
       "------------------------------------------------------------------\n",
       "|     True      |     True      |   False   |       False        |\n",
       "------------------------------------------------------------------\n",
       "| Hesse failed  |   Has cov.    | Accurate  | Pos. def. | Forced |\n",
       "------------------------------------------------------------------\n",
       "|     False     |     True      |   True    |   True    | False  |\n",
       "------------------------------------------------------------------\n",
       "------------------------------------------------------------------------------------------\n",
       "|   | Name |   Value   | Hesse Err | Minos Err- | Minos Err+ | Limit-  | Limit+  | Fixed |\n",
       "------------------------------------------------------------------------------------------\n",
       "| 0 | c    |   0.987   |   0.007   |            |            |         |         |       |\n",
       "------------------------------------------------------------------------------------------"
      ]
     },
     "execution_count": 63,
     "metadata": {},
     "output_type": "execute_result"
    }
   ],
   "source": [
    "def least_squares(c):\n",
    "    return np.sum((( rec[year].correction - c ) / rec[year].correction_error )**2 )\n",
    "\n",
    "m = iminuit.Minuit(least_squares, c=1., error_c=0.01, errordef = 1)\n",
    "m.migrad()"
   ]
  },
  {
   "cell_type": "markdown",
   "metadata": {},
   "source": [
    "Финальная картинка с поправкой"
   ]
  },
  {
   "cell_type": "code",
   "execution_count": 74,
   "metadata": {},
   "outputs": [
    {
     "data": {
      "image/png": "[encoded data removed]",
      "text/plain": [
       "<Figure size 1152x720 with 1 Axes>"
      ]
     },
     "metadata": {},
     "output_type": "display_data"
    }
   ],
   "source": [
    "#plot corrections\n",
    "plt.errorbar(x=rec[year]['label']*2e-3, y=rec[year]['correction'], yerr=rec[year]['correction_error'], \n",
    "             fmt='o', label='Corrections', lw=4, ms=15)\n",
    "\n",
    "#plot fitting line\n",
    "x_line, y_line = np.linspace(1.05, 2., 2), m.np_values()[0]*np.ones(2)\n",
    "yerr_line = np.ones(2)*m.np_errors()[0]\n",
    "plt.plot(x_line, y_line, label='Fit', lw=4)\n",
    "plt.fill_between(x_line, y_line-yerr_line, y_line+yerr_line, facecolor='green', alpha=0.1, edgecolor='none')\n",
    "\n",
    "#look friendly\n",
    "plt.xlabel(\"$\\sqrt{s}$, GeV\", fontsize=20);\n",
    "plt.ylabel(f\"Correction {year}\", fontsize=20);\n",
    "ax = plt.gca()\n",
    "ax.tick_params(labelsize=20)\n",
    "    #text and legend\n",
    "text_str = f\"$\\chi^2$ / ndf = {m.fval:.2f} / {len(rec[year])-1} \\nconstant = {m.np_values()[0]:.3f}$\\pm${m.np_errors()[0]:.3f}\"\n",
    "ax.text(0.03, 0.1, text_str, transform=ax.transAxes, fontsize=22)\n",
    "plt.legend(fontsize=22, loc='lower right', frameon=True);\n",
    "\n",
    "# plt.savefig('correction11n.pdf')"
   ]
  },
  {
   "cell_type": "code",
   "execution_count": null,
   "metadata": {},
   "outputs": [],
   "source": []
  }
 ],
 "metadata": {
  "kernelspec": {
   "display_name": "Python 3",
   "language": "python",
   "name": "python3"
  },
  "language_info": {
   "codemirror_mode": {
    "name": "ipython",
    "version": 3
   },
   "file_extension": ".py",
   "mimetype": "text/x-python",
   "name": "python",
   "nbconvert_exporter": "python",
   "pygments_lexer": "ipython3",
   "version": "3.7.5"
  }
 },
 "nbformat": 4,
 "nbformat_minor": 4
}
