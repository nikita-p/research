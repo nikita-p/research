{
 "cells": [
  {
   "cell_type": "code",
   "execution_count": 1,
   "metadata": {},
   "outputs": [],
   "source": [
    "import uproot\n",
    "import numpy as np\n",
    "import pandas as pd\n",
    "import matplotlib.pyplot as plt\n",
    "import seaborn as sns\n",
    "%matplotlib inline"
   ]
  },
  {
   "cell_type": "code",
   "execution_count": 2,
   "metadata": {},
   "outputs": [],
   "source": [
    "sns.set(rc={'figure.figsize':(16,10)})"
   ]
  },
  {
   "cell_type": "code",
   "execution_count": 3,
   "metadata": {},
   "outputs": [],
   "source": [
    "year = '19'"
   ]
  },
  {
   "cell_type": "code",
   "execution_count": 4,
   "metadata": {},
   "outputs": [
    {
     "ename": "AttributeError",
     "evalue": "can't set attribute",
     "output_type": "error",
     "traceback": [
      "\u001b[0;31m---------------------------------------------------------------------------\u001b[0m",
      "\u001b[0;31mAttributeError\u001b[0m                            Traceback (most recent call last)",
      "\u001b[0;32m<ipython-input-4-d0b5a95fbf99>\u001b[0m in \u001b[0;36m<module>\u001b[0;34m()\u001b[0m\n\u001b[1;32m      1\u001b[0m \u001b[0mf\u001b[0m \u001b[0;34m=\u001b[0m \u001b[0muproot\u001b[0m\u001b[0;34m.\u001b[0m\u001b[0mpandas\u001b[0m\u001b[0;34m.\u001b[0m\u001b[0miterate\u001b[0m\u001b[0;34m(\u001b[0m\u001b[0;34m\"../outputs/\"\u001b[0m\u001b[0;34m+\u001b[0m\u001b[0myear\u001b[0m\u001b[0;34m+\u001b[0m\u001b[0;34m\"/*.root\"\u001b[0m\u001b[0;34m,\u001b[0m \u001b[0;34m\"t\"\u001b[0m\u001b[0;34m)\u001b[0m\u001b[0;34m\u001b[0m\u001b[0;34m\u001b[0m\u001b[0m\n\u001b[0;32m----> 2\u001b[0;31m \u001b[0mdata\u001b[0m \u001b[0;34m=\u001b[0m \u001b[0mpd\u001b[0m\u001b[0;34m.\u001b[0m\u001b[0mconcat\u001b[0m\u001b[0;34m(\u001b[0m\u001b[0;34m[\u001b[0m\u001b[0mj\u001b[0m \u001b[0;32mfor\u001b[0m \u001b[0mj\u001b[0m \u001b[0;32min\u001b[0m \u001b[0mf\u001b[0m\u001b[0;34m]\u001b[0m\u001b[0;34m)\u001b[0m\u001b[0;34m[\u001b[0m\u001b[0;34m[\u001b[0m\u001b[0;34m'label'\u001b[0m\u001b[0;34m,\u001b[0m \u001b[0;34m'be'\u001b[0m\u001b[0;34m,\u001b[0m \u001b[0;34m'm'\u001b[0m\u001b[0;34m,\u001b[0m \u001b[0;34m'proc'\u001b[0m\u001b[0;34m,\u001b[0m \u001b[0;34m'chi'\u001b[0m\u001b[0;34m,\u001b[0m \u001b[0;34m'm_rec'\u001b[0m\u001b[0;34m]\u001b[0m\u001b[0;34m]\u001b[0m\u001b[0;34m\u001b[0m\u001b[0;34m\u001b[0m\u001b[0m\n\u001b[0m",
      "\u001b[0;32m<ipython-input-4-d0b5a95fbf99>\u001b[0m in \u001b[0;36m<listcomp>\u001b[0;34m(.0)\u001b[0m\n\u001b[1;32m      1\u001b[0m \u001b[0mf\u001b[0m \u001b[0;34m=\u001b[0m \u001b[0muproot\u001b[0m\u001b[0;34m.\u001b[0m\u001b[0mpandas\u001b[0m\u001b[0;34m.\u001b[0m\u001b[0miterate\u001b[0m\u001b[0;34m(\u001b[0m\u001b[0;34m\"../outputs/\"\u001b[0m\u001b[0;34m+\u001b[0m\u001b[0myear\u001b[0m\u001b[0;34m+\u001b[0m\u001b[0;34m\"/*.root\"\u001b[0m\u001b[0;34m,\u001b[0m \u001b[0;34m\"t\"\u001b[0m\u001b[0;34m)\u001b[0m\u001b[0;34m\u001b[0m\u001b[0;34m\u001b[0m\u001b[0m\n\u001b[0;32m----> 2\u001b[0;31m \u001b[0mdata\u001b[0m \u001b[0;34m=\u001b[0m \u001b[0mpd\u001b[0m\u001b[0;34m.\u001b[0m\u001b[0mconcat\u001b[0m\u001b[0;34m(\u001b[0m\u001b[0;34m[\u001b[0m\u001b[0mj\u001b[0m \u001b[0;32mfor\u001b[0m \u001b[0mj\u001b[0m \u001b[0;32min\u001b[0m \u001b[0mf\u001b[0m\u001b[0;34m]\u001b[0m\u001b[0;34m)\u001b[0m\u001b[0;34m[\u001b[0m\u001b[0;34m[\u001b[0m\u001b[0;34m'label'\u001b[0m\u001b[0;34m,\u001b[0m \u001b[0;34m'be'\u001b[0m\u001b[0;34m,\u001b[0m \u001b[0;34m'm'\u001b[0m\u001b[0;34m,\u001b[0m \u001b[0;34m'proc'\u001b[0m\u001b[0;34m,\u001b[0m \u001b[0;34m'chi'\u001b[0m\u001b[0;34m,\u001b[0m \u001b[0;34m'm_rec'\u001b[0m\u001b[0;34m]\u001b[0m\u001b[0;34m]\u001b[0m\u001b[0;34m\u001b[0m\u001b[0;34m\u001b[0m\u001b[0m\n\u001b[0m",
      "\u001b[0;32m/usr/local/lib/python3.6/dist-packages/uproot/tree.py\u001b[0m in \u001b[0;36miterate\u001b[0;34m(path, treepath, branches, entrysteps, outputtype, namedecode, reportpath, reportfile, reportentries, flatten, flatname, awkwardlib, cache, basketcache, keycache, executor, blocking, localsource, xrootdsource, httpsource, **options)\u001b[0m\n\u001b[1;32m    124\u001b[0m \u001b[0;34m\u001b[0m\u001b[0m\n\u001b[1;32m    125\u001b[0m                 \u001b[0;32melif\u001b[0m \u001b[0mtype\u001b[0m\u001b[0;34m(\u001b[0m\u001b[0marrays\u001b[0m\u001b[0;34m.\u001b[0m\u001b[0mindex\u001b[0m\u001b[0;34m)\u001b[0m\u001b[0;34m.\u001b[0m\u001b[0m__name__\u001b[0m \u001b[0;34m==\u001b[0m \u001b[0;34m\"RangeIndex\"\u001b[0m\u001b[0;34m:\u001b[0m\u001b[0;34m\u001b[0m\u001b[0;34m\u001b[0m\u001b[0m\n\u001b[0;32m--> 126\u001b[0;31m                     \u001b[0marrays\u001b[0m\u001b[0;34m.\u001b[0m\u001b[0mindex\u001b[0m\u001b[0;34m.\u001b[0m\u001b[0m_start\u001b[0m \u001b[0;34m+=\u001b[0m \u001b[0mglobalentrystart\u001b[0m\u001b[0;34m\u001b[0m\u001b[0;34m\u001b[0m\u001b[0m\n\u001b[0m\u001b[1;32m    127\u001b[0m                     \u001b[0marrays\u001b[0m\u001b[0;34m.\u001b[0m\u001b[0mindex\u001b[0m\u001b[0;34m.\u001b[0m\u001b[0m_stop\u001b[0m \u001b[0;34m+=\u001b[0m \u001b[0mglobalentrystart\u001b[0m\u001b[0;34m\u001b[0m\u001b[0;34m\u001b[0m\u001b[0m\n\u001b[1;32m    128\u001b[0m \u001b[0;34m\u001b[0m\u001b[0m\n",
      "\u001b[0;31mAttributeError\u001b[0m: can't set attribute"
     ]
    }
   ],
   "source": [
    "f = uproot.pandas.iterate(\"../outputs/\"+year+\"/*.root\", \"t\")\n",
    "data = pd.concat([j for j in f])[['label', 'be', 'm', 'proc', 'chi', 'm_rec']]"
   ]
  },
  {
   "cell_type": "code",
   "execution_count": null,
   "metadata": {},
   "outputs": [],
   "source": [
    "lum = pd.read_csv('../inputs/'+year+'/lum', header=None, index_col=[0])\n",
    "lum.columns = ['lum']"
   ]
  },
  {
   "cell_type": "code",
   "execution_count": null,
   "metadata": {},
   "outputs": [],
   "source": [
    "lum.head()"
   ]
  },
  {
   "cell_type": "markdown",
   "metadata": {},
   "source": [
    "Sort values by label"
   ]
  },
  {
   "cell_type": "code",
   "execution_count": null,
   "metadata": {},
   "outputs": [],
   "source": [
    "data.sort_values(by='label', ascending=True, inplace=True);\n",
    "data.shape"
   ]
  },
  {
   "cell_type": "markdown",
   "metadata": {},
   "source": [
    "Cut off incorrect beam energy"
   ]
  },
  {
   "cell_type": "code",
   "execution_count": null,
   "metadata": {},
   "outputs": [],
   "source": [
    "data.query('be>0&chi<3', inplace=True)\n",
    "data.shape"
   ]
  },
  {
   "cell_type": "markdown",
   "metadata": {},
   "source": [
    "Change index column"
   ]
  },
  {
   "cell_type": "code",
   "execution_count": null,
   "metadata": {},
   "outputs": [],
   "source": [
    "data.index = data.label\n",
    "data.drop(['label'], axis=1, inplace=True)"
   ]
  },
  {
   "cell_type": "markdown",
   "metadata": {},
   "source": [
    "Join lum to data table"
   ]
  },
  {
   "cell_type": "code",
   "execution_count": null,
   "metadata": {},
   "outputs": [],
   "source": [
    "data = data.join(lum, how='inner')"
   ]
  },
  {
   "cell_type": "code",
   "execution_count": null,
   "metadata": {},
   "outputs": [],
   "source": [
    "#cnct = [] #model\n",
    "cnct = [ ([900.0, 912.5, 925.0, 935.0, 945., 950.0, 962.5, 975.0, 987.5, 1000.0], 950), \n",
    "       ([825.0, 837.5, 850.0, 862.5, 875.0, 887.5], 850), ([800.0, 812.5],810), ([775.0, 787.5], 780),\n",
    "       ([725.0, 737.5, 750.0, 762.5], 740), ([662.5, 675.0, 687.5, 700.0, 712.5], 680),\n",
    "       ([625.0, 637.5, 650.0], 637)] #11year"
   ]
  },
  {
   "cell_type": "markdown",
   "metadata": {},
   "source": [
    "Create dat dictionary with three procedures"
   ]
  },
  {
   "cell_type": "code",
   "execution_count": null,
   "metadata": {},
   "outputs": [],
   "source": [
    "data['label'] = data.index\n",
    "for c in cnct:\n",
    "    data.label.replace(c[0], c[1], inplace=True)\n",
    "data.index = data.label\n",
    "data.drop(['label'], axis=1, inplace=True)"
   ]
  },
  {
   "cell_type": "code",
   "execution_count": null,
   "metadata": {},
   "outputs": [],
   "source": [
    "data.query('proc==3&abs(m_rec-497)<50').groupby('label').agg({'m_rec': np.size})"
   ]
  },
  {
   "cell_type": "code",
   "execution_count": null,
   "metadata": {},
   "outputs": [],
   "source": [
    "energy = data.assign(elum=data['be']*data['lum'])[['be', 'lum', 'elum']].drop_duplicates() \\\n",
    "        .groupby('label').agg({'elum': np.mean, 'lum': [np.mean, np.sum], 'be':[np.min, np.max]})\n",
    "energy['emean'] = energy[('elum','mean')]/energy[('lum','mean')]\n",
    "energy['err_l'] = energy['emean'] - energy[('be', 'amin')]\n",
    "energy['err_r'] = energy[('be', 'amax')] - energy['emean']\n",
    "energy['L'] = energy[('lum', 'sum')]\n",
    "energy = energy[['emean', 'err_l', 'err_r', 'L']]"
   ]
  },
  {
   "cell_type": "markdown",
   "metadata": {},
   "source": [
    "## Table with energy points information"
   ]
  },
  {
   "cell_type": "code",
   "execution_count": null,
   "metadata": {},
   "outputs": [],
   "source": [
    "energy"
   ]
  },
  {
   "cell_type": "markdown",
   "metadata": {},
   "source": [
    "## Get table for fit using its rows"
   ]
  },
  {
   "cell_type": "code",
   "execution_count": null,
   "metadata": {},
   "outputs": [],
   "source": [
    "mass_bound = (450, 550)"
   ]
  },
  {
   "cell_type": "code",
   "execution_count": null,
   "metadata": {},
   "outputs": [],
   "source": [
    "dt = pd.DataFrame( {'type':'kinfit', \n",
    "        'mass':data.query('proc!=2&m_rec>@mass_bound[0]&m_rec<@mass_bound[1]')[['m_rec']].groupby('label').\n",
    "                    apply(np.array).apply(np.ravel)}) "
   ]
  },
  {
   "cell_type": "code",
   "execution_count": null,
   "metadata": {},
   "outputs": [],
   "source": [
    "dt = dt.append( pd.DataFrame({'type':'standard', \n",
    "                    'mass':data.query('proc!=1&m>@mass_bound[0]&m<@mass_bound[1]')[['m']].groupby('label').\n",
    "                              apply(np.array).apply(np.ravel)}))"
   ]
  },
  {
   "cell_type": "code",
   "execution_count": null,
   "metadata": {},
   "outputs": [],
   "source": [
    "dt = dt.append( pd.DataFrame( {'type':'both', \n",
    "        'mass':data.query('proc==3&m_rec>@mass_bound[0]&m_rec<@mass_bound[1]')[['m_rec']].groupby('label').\n",
    "                               apply(np.array).apply(np.ravel)}) )"
   ]
  },
  {
   "cell_type": "code",
   "execution_count": null,
   "metadata": {},
   "outputs": [],
   "source": [
    "dt['label'] =dt.index\n",
    "dt.index = range(len(dt))"
   ]
  },
  {
   "cell_type": "code",
   "execution_count": null,
   "metadata": {},
   "outputs": [],
   "source": [
    "dt = dt.sort_values(by=['label', 'type'])"
   ]
  },
  {
   "cell_type": "code",
   "execution_count": null,
   "metadata": {},
   "outputs": [],
   "source": [
    "dt.head()"
   ]
  },
  {
   "cell_type": "markdown",
   "metadata": {},
   "source": [
    "## FIT"
   ]
  },
  {
   "cell_type": "code",
   "execution_count": null,
   "metadata": {},
   "outputs": [],
   "source": [
    "import iminuit\n",
    "import probfit as pf"
   ]
  },
  {
   "cell_type": "code",
   "execution_count": null,
   "metadata": {},
   "outputs": [],
   "source": [
    "def constant(x):\n",
    "    return 1\n",
    "norm_bkg = pf.Normalized( constant, mass_bound )\n",
    "norm_bkg = pf.Extended(norm_bkg, extname='Nbkg')\n",
    "\n",
    "gauss1 = pf.Extended(pf.rename(pf.gaussian, ['x', 'Mass', 'Sigma']), extname='Nsig')\n",
    "\n",
    "pdf = pf.AddPdf(gauss1, norm_bkg)\n",
    "pf.describe(pdf)"
   ]
  },
  {
   "cell_type": "code",
   "execution_count": null,
   "metadata": {},
   "outputs": [],
   "source": [
    "def fitter(dic, nbins):\n",
    "    likelihood = pf.BinnedLH(pdf, dic, nbins, bound=mass_bound, extended=True)\n",
    "    initial_par_values = {\"Mass\":497.6, \"Sigma\":5.6, \"Nsig\":np.size(dic), \"Nbkg\":0}\n",
    "    errors = {\"error_Mass\": 1, \"error_Sigma\": 0.1, \"error_Nsig\": 0.3, \"error_Nbkg\":0}\n",
    "    limits = {\"limit_Mass\": [450, 550], \"limit_Sigma\": [2, 15], \"limit_Nsig\": [1, 1000], \"limit_Nbkg\": [0, 1000]}\n",
    "    mt = iminuit.Minuit(likelihood, **initial_par_values, **errors, **limits, pedantic=False)\n",
    "    mt.migrad();\n",
    "    likelihood.draw(minuit=mt)\n",
    "    return mt"
   ]
  },
  {
   "cell_type": "code",
   "execution_count": null,
   "metadata": {},
   "outputs": [],
   "source": [
    "def fitter_gauss(dic, nbins):    \n",
    "    likelihood = pf.BinnedLH(gauss1, dic, nbins, bound=mass_bound, extended=True)\n",
    "    initial_par_values = {\"Mass\":497.6, \"Sigma\":6, \"Nsig\":np.size(dic)}\n",
    "    errors = {\"error_Mass\": 0.1, \"error_Sigma\": 0.1, \"error_Nsig\": 0.3}\n",
    "    mt = iminuit.Minuit(likelihood, **initial_par_values, **errors)\n",
    "    mt.migrad();\n",
    "    likelihood.draw(minuit=mt)\n",
    "    return mt"
   ]
  },
  {
   "cell_type": "code",
   "execution_count": null,
   "metadata": {},
   "outputs": [],
   "source": [
    "itr = iter(dt.iterrows())"
   ]
  },
  {
   "cell_type": "markdown",
   "metadata": {},
   "source": [
    "Fitting procedure"
   ]
  },
  {
   "cell_type": "code",
   "execution_count": null,
   "metadata": {
    "scrolled": true
   },
   "outputs": [],
   "source": [
    "i,j = next(itr)\n",
    "print('Index:', i, '| Label:', j['label'], '| Type:', j['type'])"
   ]
  },
  {
   "cell_type": "code",
   "execution_count": null,
   "metadata": {
    "scrolled": false
   },
   "outputs": [],
   "source": [
    "mass_bound = (450, 550)\n",
    "mt = fitter(j['mass'], 50)\n",
    "dt.at[i, 'Nsig'] = mt.values[2]\n",
    "dt.at[i, 'ErrS'] = mt.errors[2]\n",
    "print('Accurate matrix:', mt.matrix_accurate())\n",
    "print(\"Migrad quality:\", mt.migrad_ok())\n",
    "print( 'Real:', np.size(j['mass']), 'Found:', mt.values[2] + mt.values[3] )"
   ]
  },
  {
   "cell_type": "code",
   "execution_count": null,
   "metadata": {
    "scrolled": true
   },
   "outputs": [],
   "source": [
    "ind = 2\n",
    "dt.loc[ind:]"
   ]
  },
  {
   "cell_type": "code",
   "execution_count": null,
   "metadata": {},
   "outputs": [],
   "source": [
    "table_numbersM = pd.pivot_table(dt, values=['Nsig'], index=['label'], columns=['type'])"
   ]
  },
  {
   "cell_type": "code",
   "execution_count": null,
   "metadata": {},
   "outputs": [],
   "source": [
    "table_numbersM['rec'] = table_numbersM[('Nsig','both')]/table_numbersM[('Nsig','kinfit')]\n",
    "table_numbersM['err_rec'] = table_numbersM.rec*np.sqrt(1/table_numbersM.Nsig.both + 1/table_numbersM.Nsig.kinfit)"
   ]
  },
  {
   "cell_type": "code",
   "execution_count": null,
   "metadata": {},
   "outputs": [],
   "source": [
    "table_numbersM = table_numbersM.join(energy, how='inner')"
   ]
  },
  {
   "cell_type": "code",
   "execution_count": null,
   "metadata": {},
   "outputs": [],
   "source": [
    "table_numbersM"
   ]
  },
  {
   "cell_type": "code",
   "execution_count": null,
   "metadata": {},
   "outputs": [],
   "source": [
    "table_numbersM.to_csv('regEffModel_new.csv')"
   ]
  },
  {
   "cell_type": "markdown",
   "metadata": {},
   "source": [
    "Comparison with modelling"
   ]
  },
  {
   "cell_type": "code",
   "execution_count": null,
   "metadata": {},
   "outputs": [],
   "source": [
    "table_numbers = pd.read_csv('regEffModel.csv', index_col=['Unnamed: 0'])"
   ]
  },
  {
   "cell_type": "code",
   "execution_count": null,
   "metadata": {},
   "outputs": [],
   "source": [
    "table_numbers = pd.pivot_table(table_numbers, values=['Nsig'], index=['label'], columns=['type'])"
   ]
  },
  {
   "cell_type": "code",
   "execution_count": null,
   "metadata": {},
   "outputs": [],
   "source": [
    "table_numbers['effS'] = table_numbers[('Nsig','both')]/table_numbers[('Nsig','kinfit')]"
   ]
  },
  {
   "cell_type": "markdown",
   "metadata": {},
   "source": [
    "## Working with saved files"
   ]
  },
  {
   "cell_type": "code",
   "execution_count": null,
   "metadata": {},
   "outputs": [],
   "source": [
    "def prep_t(t):\n",
    "    table = pd.pivot_table(t, columns=['type'], index=['label'], values=['ErrS','Nsig'])\n",
    "    table.columns = ['err_b', 'err_k', 'err_s', 'n_b', 'n_k', 'n_s']\n",
    "    table['err_b'] = table['err_b']/table['n_b'] \n",
    "    table['err_k'] = table['err_k']/table['n_k']\n",
    "    table.drop(['err_s', 'n_s'], axis=1, inplace=True)\n",
    "    table['rec'] = table['n_b']/table['n_k']\n",
    "    table['err_rec'] = table['rec']* np.sqrt( np.square(table['err_b']) + np.square(table['err_k']) )\n",
    "    table.drop(['err_b', 'err_k', 'n_b', 'n_k'], axis=1, inplace=True)\n",
    "    return table"
   ]
  },
  {
   "cell_type": "code",
   "execution_count": null,
   "metadata": {},
   "outputs": [],
   "source": [
    "def prep_t3(t):\n",
    "    t.columns = ['Nb', 'Nk', 'rec', 'err_rec_old', 'E', 'err_left', 'err_right', 'L']\n",
    "    t['rec'] = (t.Nb+1)/(t.Nk+2)\n",
    "    t['err_rec'] = np.sqrt( (t.Nb+1)*(t.Nb+2)/(t.Nk+2)/(t.Nk+3) - np.square((t.Nb+1)/(t.Nk+2)) )\n",
    "    #t.drop([ 'Nb', 'Nk'], axis=1, inplace=True)\n",
    "    return"
   ]
  },
  {
   "cell_type": "code",
   "execution_count": null,
   "metadata": {},
   "outputs": [],
   "source": [
    "def prep_t2(t):\n",
    "    t.columns = ['n_b', 'n_k', 'n_s', 'rec']\n",
    "    t.drop(['n_s'], axis=1, inplace=True)\n",
    "    t['err_b'] = np.sqrt( 1./t['n_b'] )\n",
    "    t['err_k'] = np.sqrt( 1./t['n_k'] )\n",
    "    t['err_rec'] = t['rec']* np.sqrt( np.square(t['err_b']) + np.square(t['err_k']) )\n",
    "    t.drop(['err_b', 'err_k', 'n_b', 'n_k'], axis=1, inplace=True)\n",
    "    return"
   ]
  },
  {
   "cell_type": "code",
   "execution_count": null,
   "metadata": {},
   "outputs": [],
   "source": [
    "t11 = pd.read_csv('regEff11_new.csv', index_col=[0], header=[0,1])\n",
    "t12 = pd.read_csv('regEff12.csv', index_col=[0], header=[0,1])\n",
    "t17 = pd.read_csv('regEff17.csv', index_col=[0], header=[0,1]).dropna()\n",
    "tM  = pd.read_csv('regEffModel_new.csv', index_col=[0], header=[0,1])"
   ]
  },
  {
   "cell_type": "markdown",
   "metadata": {},
   "source": [
    "Model: additional merge"
   ]
  },
  {
   "cell_type": "code",
   "execution_count": null,
   "metadata": {},
   "outputs": [],
   "source": [
    "prep_t3(t11)\n",
    "prep_t3(tM)"
   ]
  },
  {
   "cell_type": "code",
   "execution_count": null,
   "metadata": {},
   "outputs": [],
   "source": [
    "prep_t2(t12)\n",
    "prep_t2(t17)"
   ]
  },
  {
   "cell_type": "code",
   "execution_count": null,
   "metadata": {},
   "outputs": [],
   "source": [
    "tM"
   ]
  },
  {
   "cell_type": "code",
   "execution_count": null,
   "metadata": {},
   "outputs": [],
   "source": [
    "cnct = [ ([900.0, 912.5, 925.0, 935.0, 945., 950.0, 962.5, 975.0, 987.5, 1000.0], 950), \n",
    "       ([825.0, 837.5, 850.0, 862.5, 875.0, 887.5], 850), ([800.0, 812.5],810), ([775.0, 787.5], 780),\n",
    "       ([725.0, 737.5, 750.0, 762.5], 740), ([662.5, 675.0, 687.5, 700.0, 712.5], 680),\n",
    "       ([625.0, 637.5, 650.0], 637)] #11year"
   ]
  },
  {
   "cell_type": "code",
   "execution_count": null,
   "metadata": {},
   "outputs": [],
   "source": [
    "tM['label'] = tM.index\n",
    "for c in cnct:\n",
    "    tM.label.replace(c[0], c[1], inplace=True)\n",
    "tM.index = tM.label\n",
    "tM.drop(['label'], axis=1, inplace=True)"
   ]
  },
  {
   "cell_type": "code",
   "execution_count": null,
   "metadata": {},
   "outputs": [],
   "source": [
    "tM = tM.groupby('label').agg({'Nb':np.sum, 'Nk':np.sum, 'rec':np.mean, 'err_rec_old':np.mean, 'E':np.mean, \n",
    "                              'err_left':np.mean, 'err_right':np.mean, 'L':np.sum})\n",
    "prep_t3(tM) #wrong energy errors, but they don't necessary for the analysis"
   ]
  },
  {
   "cell_type": "markdown",
   "metadata": {},
   "source": [
    "### Division"
   ]
  },
  {
   "cell_type": "code",
   "execution_count": null,
   "metadata": {},
   "outputs": [],
   "source": [
    "div_table = t11.copy()"
   ]
  },
  {
   "cell_type": "code",
   "execution_count": null,
   "metadata": {},
   "outputs": [],
   "source": [
    "div_table.head()"
   ]
  },
  {
   "cell_type": "code",
   "execution_count": null,
   "metadata": {},
   "outputs": [],
   "source": [
    "div_table = div_table.join(tM[['rec', 'err_rec']].rename(columns={'rec':'recM', 'err_rec':'err_recM'}), how='inner')"
   ]
  },
  {
   "cell_type": "code",
   "execution_count": null,
   "metadata": {},
   "outputs": [],
   "source": [
    "div_table = div_table[['rec','err_rec', 'recM', 'err_recM']]"
   ]
  },
  {
   "cell_type": "code",
   "execution_count": null,
   "metadata": {},
   "outputs": [],
   "source": [
    "div_table['corr'] = div_table.rec/div_table.recM\n",
    "div_table['err_corr'] = div_table['corr']*np.sqrt( np.square(div_table.err_rec/div_table.rec) + \\\n",
    "                                               np.square(div_table.err_recM/div_table.recM) )"
   ]
  },
  {
   "cell_type": "code",
   "execution_count": null,
   "metadata": {},
   "outputs": [],
   "source": [
    "div_table"
   ]
  },
  {
   "cell_type": "markdown",
   "metadata": {},
   "source": [
    "### Data have prepared. It's time for drawing"
   ]
  },
  {
   "cell_type": "markdown",
   "metadata": {},
   "source": [
    "**2011 vs model**"
   ]
  },
  {
   "cell_type": "code",
   "execution_count": null,
   "metadata": {},
   "outputs": [],
   "source": [
    "plt.style.use('seaborn-whitegrid')\n",
    "plt.errorbar(x=t11.index, y=t11.rec, xerr=t11.err_left, yerr=t11.err_rec,  fmt='o', color='lightgreen', elinewidth=3, label='2011')\n",
    "plt.errorbar(x=tM.index, y=tM.rec, yerr=tM.err_rec,  fmt='*', color='black', elinewidth=3, label='model')\n",
    "axes = plt.gca()\n",
    "axes.set_ylim([0,1]);\n",
    "axes.legend(fontsize=20)"
   ]
  },
  {
   "cell_type": "code",
   "execution_count": null,
   "metadata": {},
   "outputs": [],
   "source": [
    "plt.style.use('seaborn-whitegrid')\n",
    "plt.errorbar(x=div_table.index, y=div_table['corr'], yerr=div_table.err_corr,  fmt='*', color='blue', elinewidth=3, label='2011')\n",
    "axes = plt.gca()\n",
    "axes.set_ylim([0.5,1.9]);\n",
    "axes.legend(fontsize=20)"
   ]
  },
  {
   "cell_type": "markdown",
   "metadata": {},
   "source": [
    "**2017 vs model**"
   ]
  },
  {
   "cell_type": "code",
   "execution_count": null,
   "metadata": {},
   "outputs": [],
   "source": [
    "plt.errorbar(x=t17.index, y=t17.rec, yerr=t17.err_rec,  fmt='o', color='lightgreen', elinewidth=3, label='2017')\n",
    "plt.errorbar(x=tM.index, y=tM.rec, yerr=tM.err_rec,  fmt='*', color='black', elinewidth=3, label='model')\n",
    "axes = plt.gca()\n",
    "axes.set_ylim([0,1.5]);\n",
    "axes.legend(fontsize=20)"
   ]
  },
  {
   "cell_type": "markdown",
   "metadata": {},
   "source": [
    "**Rec eff 11**"
   ]
  },
  {
   "cell_type": "code",
   "execution_count": null,
   "metadata": {},
   "outputs": [],
   "source": [
    "\n",
    "plt.errorbar(x=t11.index, y=t17.rec, yerr=t17.err_rec,  fmt='o', color='lightgreen', elinewidth=3, label='2017')\n",
    "axes = plt.gca()\n",
    "axes.set_ylim([0,1.5]);\n",
    "axes.legend(fontsize=20)"
   ]
  },
  {
   "cell_type": "code",
   "execution_count": null,
   "metadata": {},
   "outputs": [],
   "source": []
  }
 ],
 "metadata": {
  "kernelspec": {
   "display_name": "Python 3",
   "language": "python",
   "name": "python3"
  },
  "language_info": {
   "codemirror_mode": {
    "name": "ipython",
    "version": 3
   },
   "file_extension": ".py",
   "mimetype": "text/x-python",
   "name": "python",
   "nbconvert_exporter": "python",
   "pygments_lexer": "ipython3",
   "version": "3.6.8"
  }
 },
 "nbformat": 4,
 "nbformat_minor": 2
}
