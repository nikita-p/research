{
 "cells": [
  {
   "cell_type": "code",
   "execution_count": 1,
   "metadata": {},
   "outputs": [],
   "source": [
    "import pandas as pd\n",
    "import numpy as np\n",
    "import matplotlib.pyplot as plt\n",
    "\n",
    "%matplotlib inline"
   ]
  },
  {
   "cell_type": "code",
   "execution_count": 2,
   "metadata": {},
   "outputs": [],
   "source": [
    "plt.style.use('seaborn-whitegrid')\n",
    "plt.rcParams['figure.figsize'] = (8,6)\n",
    "plt.rcParams['font.size'] = 20"
   ]
  },
  {
   "cell_type": "markdown",
   "metadata": {},
   "source": [
    "# Систематические ошибки"
   ]
  },
  {
   "cell_type": "markdown",
   "metadata": {},
   "source": [
    "## Отборы\n",
    "\n",
    "#### 2011\n",
    "1. Обычные отборы\n",
    "1. Именены отборы: \n",
    "    * $0.5 < \\theta < \\pi - 0.5$\n",
    "    * $| dE/dX| < 3000$\n",
    "    * $\\cos{\\alpha} > 0.7 $\n",
    "1. Отборы:\n",
    "    * $|z| < 13$\n",
    "    * $|\\rho| < 0.15$\n",
    "    * $0.7 < \\theta < \\pi - 0.7$\n",
    "    * $| dE/dX| < 1700$\n",
    "    * $\\cos{\\alpha} > 0.92 $\n",
    "1. Отборы:\n",
    "    * PCut *= 0.95"
   ]
  },
  {
   "cell_type": "code",
   "execution_count": 19,
   "metadata": {},
   "outputs": [],
   "source": [
    "data111 = pd.read_csv('../systematics/11/result_visible1.csv')[['name', 'CS', 'dCS']].rename({'CS':'cs1'}, axis=1)\n",
    "data112 = pd.read_csv('../systematics/11/result_visible2.csv')[['name', 'CS']].rename({'CS':'cs2'}, axis=1)\n",
    "data113 = pd.read_csv('../systematics/11/result_visible3.csv')[['name', 'CS']].rename({'CS':'cs3'}, axis=1)\n",
    "data114 = pd.read_csv('../systematics/11/result_visible4.csv')[['name', 'CS']].rename({'CS':'cs4'}, axis=1)"
   ]
  },
  {
   "cell_type": "code",
   "execution_count": 20,
   "metadata": {},
   "outputs": [],
   "source": [
    "data = data111.merge(data112, on='name').merge(data113, on='name').merge(data114, on='name')"
   ]
  },
  {
   "cell_type": "code",
   "execution_count": 21,
   "metadata": {},
   "outputs": [
    {
     "data": {
      "text/html": [
       "<div>\n",
       "<style scoped>\n",
       "    .dataframe tbody tr th:only-of-type {\n",
       "        vertical-align: middle;\n",
       "    }\n",
       "\n",
       "    .dataframe tbody tr th {\n",
       "        vertical-align: top;\n",
       "    }\n",
       "\n",
       "    .dataframe thead th {\n",
       "        text-align: right;\n",
       "    }\n",
       "</style>\n",
       "<table border=\"1\" class=\"dataframe\">\n",
       "  <thead>\n",
       "    <tr style=\"text-align: right;\">\n",
       "      <th></th>\n",
       "      <th>name</th>\n",
       "      <th>cs1</th>\n",
       "      <th>dCS</th>\n",
       "      <th>cs2</th>\n",
       "      <th>cs3</th>\n",
       "      <th>cs4</th>\n",
       "    </tr>\n",
       "  </thead>\n",
       "  <tbody>\n",
       "    <tr>\n",
       "      <th>0</th>\n",
       "      <td>525.0</td>\n",
       "      <td>13.58314</td>\n",
       "      <td>0.79986</td>\n",
       "      <td>13.94811</td>\n",
       "      <td>12.83690</td>\n",
       "      <td>15.58153</td>\n",
       "    </tr>\n",
       "    <tr>\n",
       "      <th>1</th>\n",
       "      <td>537.5</td>\n",
       "      <td>6.85748</td>\n",
       "      <td>0.29345</td>\n",
       "      <td>6.88622</td>\n",
       "      <td>6.75089</td>\n",
       "      <td>8.00274</td>\n",
       "    </tr>\n",
       "    <tr>\n",
       "      <th>2</th>\n",
       "      <td>550.0</td>\n",
       "      <td>4.34974</td>\n",
       "      <td>0.30108</td>\n",
       "      <td>4.38576</td>\n",
       "      <td>4.34457</td>\n",
       "      <td>5.06685</td>\n",
       "    </tr>\n",
       "    <tr>\n",
       "      <th>3</th>\n",
       "      <td>562.5</td>\n",
       "      <td>3.06522</td>\n",
       "      <td>0.18302</td>\n",
       "      <td>3.07445</td>\n",
       "      <td>3.04248</td>\n",
       "      <td>3.67258</td>\n",
       "    </tr>\n",
       "    <tr>\n",
       "      <th>4</th>\n",
       "      <td>575.0</td>\n",
       "      <td>1.81006</td>\n",
       "      <td>0.18630</td>\n",
       "      <td>1.81097</td>\n",
       "      <td>1.64792</td>\n",
       "      <td>2.21304</td>\n",
       "    </tr>\n",
       "  </tbody>\n",
       "</table>\n",
       "</div>"
      ],
      "text/plain": [
       "    name       cs1      dCS       cs2       cs3       cs4\n",
       "0  525.0  13.58314  0.79986  13.94811  12.83690  15.58153\n",
       "1  537.5   6.85748  0.29345   6.88622   6.75089   8.00274\n",
       "2  550.0   4.34974  0.30108   4.38576   4.34457   5.06685\n",
       "3  562.5   3.06522  0.18302   3.07445   3.04248   3.67258\n",
       "4  575.0   1.81006  0.18630   1.81097   1.64792   2.21304"
      ]
     },
     "execution_count": 21,
     "metadata": {},
     "output_type": "execute_result"
    }
   ],
   "source": [
    "data.head()"
   ]
  },
  {
   "cell_type": "code",
   "execution_count": 18,
   "metadata": {},
   "outputs": [],
   "source": [
    "data['d2'] = (data.cs2 - data.cs1)/data.cs1\n",
    "data['d3'] = (data.cs3 - data.cs1)/data.cs1\n",
    "data['d4'] = (data.cs4 - data.cs1)/data.cs1"
   ]
  },
  {
   "cell_type": "code",
   "execution_count": 17,
   "metadata": {},
   "outputs": [
    {
     "data": {
      "text/plain": [
       "<matplotlib.legend.Legend at 0x7f865adc3650>"
      ]
     },
     "execution_count": 17,
     "metadata": {},
     "output_type": "execute_result"
    },
    {
     "data": {
      "image/png": "[encoded data removed]",
      "text/plain": [
       "<Figure size 576x432 with 1 Axes>"
      ]
     },
     "metadata": {},
     "output_type": "display_data"
    }
   ],
   "source": [
    "# plt.scatter(data=data, x='name', y='d2', label='1')\n",
    "# plt.scatter(data=data, x='name', y='d3', label='2')\n",
    "plt.scatter(data=data, x='name', y='d4', label='3')\n",
    "plt.legend(frameon=True)"
   ]
  },
  {
   "cell_type": "code",
   "execution_count": null,
   "metadata": {},
   "outputs": [],
   "source": []
  }
 ],
 "metadata": {
  "kernelspec": {
   "display_name": "Python 3",
   "language": "python",
   "name": "python3"
  },
  "language_info": {
   "codemirror_mode": {
    "name": "ipython",
    "version": 3
   },
   "file_extension": ".py",
   "mimetype": "text/x-python",
   "name": "python",
   "nbconvert_exporter": "python",
   "pygments_lexer": "ipython3",
   "version": "3.7.5"
  }
 },
 "nbformat": 4,
 "nbformat_minor": 2
}
