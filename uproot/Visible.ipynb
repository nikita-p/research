{
 "cells": [
  {
   "cell_type": "code",
   "execution_count": 84,
   "metadata": {},
   "outputs": [],
   "source": [
    "import pandas as pd\n",
    "import numpy as np\n",
    "import matplotlib.pyplot as plt\n",
    "import seaborn as sns\n",
    "%matplotlib inline"
   ]
  },
  {
   "cell_type": "code",
   "execution_count": 85,
   "metadata": {},
   "outputs": [],
   "source": [
    "sns.set(rc={'figure.figsize':(16,10)})\n",
    "plt.style.use('seaborn-whitegrid')"
   ]
  },
  {
   "cell_type": "code",
   "execution_count": 183,
   "metadata": {},
   "outputs": [],
   "source": [
    "year = '17'\n",
    "model = 'model_old'"
   ]
  },
  {
   "cell_type": "code",
   "execution_count": 184,
   "metadata": {},
   "outputs": [],
   "source": [
    "data = pd.read_csv(f'../outputs/{year}/out{year}.csv', index_col='Unnamed: 0')\n",
    "triggers = pd.read_csv(f'../outputs/{year}/triggers{year}.csv', index_col='label')\n",
    "reg_eff = pd.read_csv(f'../outputs/{model}/out{model}.csv', index_col='Unnamed: 0')"
   ]
  },
  {
   "cell_type": "code",
   "execution_count": 185,
   "metadata": {},
   "outputs": [
    {
     "data": {
      "text/html": [
       "<div>\n",
       "<style scoped>\n",
       "    .dataframe tbody tr th:only-of-type {\n",
       "        vertical-align: middle;\n",
       "    }\n",
       "\n",
       "    .dataframe tbody tr th {\n",
       "        vertical-align: top;\n",
       "    }\n",
       "\n",
       "    .dataframe thead th {\n",
       "        text-align: right;\n",
       "    }\n",
       "</style>\n",
       "<table border=\"1\" class=\"dataframe\">\n",
       "  <thead>\n",
       "    <tr style=\"text-align: right;\">\n",
       "      <th></th>\n",
       "      <th>Nsig</th>\n",
       "      <th>dNsig</th>\n",
       "      <th>index</th>\n",
       "      <th>lum_err</th>\n",
       "      <th>lum</th>\n",
       "      <th>dEmin</th>\n",
       "      <th>dEmax</th>\n",
       "      <th>Emean</th>\n",
       "    </tr>\n",
       "  </thead>\n",
       "  <tbody>\n",
       "    <tr>\n",
       "      <td>641.0</td>\n",
       "      <td>305.56</td>\n",
       "      <td>18.96</td>\n",
       "      <td>1</td>\n",
       "      <td>3.34</td>\n",
       "      <td>3097.96</td>\n",
       "      <td>0.00</td>\n",
       "      <td>0.00</td>\n",
       "      <td>641.02</td>\n",
       "    </tr>\n",
       "    <tr>\n",
       "      <td>650.0</td>\n",
       "      <td>93.45</td>\n",
       "      <td>10.37</td>\n",
       "      <td>2</td>\n",
       "      <td>1.81</td>\n",
       "      <td>876.63</td>\n",
       "      <td>0.00</td>\n",
       "      <td>0.00</td>\n",
       "      <td>649.77</td>\n",
       "    </tr>\n",
       "    <tr>\n",
       "      <td>675.0</td>\n",
       "      <td>81.40</td>\n",
       "      <td>9.80</td>\n",
       "      <td>3</td>\n",
       "      <td>2.22</td>\n",
       "      <td>1225.14</td>\n",
       "      <td>0.00</td>\n",
       "      <td>0.00</td>\n",
       "      <td>674.85</td>\n",
       "    </tr>\n",
       "    <tr>\n",
       "      <td>700.0</td>\n",
       "      <td>36.81</td>\n",
       "      <td>6.88</td>\n",
       "      <td>4</td>\n",
       "      <td>1.94</td>\n",
       "      <td>876.66</td>\n",
       "      <td>0.00</td>\n",
       "      <td>0.00</td>\n",
       "      <td>700.56</td>\n",
       "    </tr>\n",
       "    <tr>\n",
       "      <td>725.0</td>\n",
       "      <td>59.88</td>\n",
       "      <td>8.88</td>\n",
       "      <td>5</td>\n",
       "      <td>2.27</td>\n",
       "      <td>1114.22</td>\n",
       "      <td>0.00</td>\n",
       "      <td>0.00</td>\n",
       "      <td>724.94</td>\n",
       "    </tr>\n",
       "    <tr>\n",
       "      <td>750.0</td>\n",
       "      <td>92.37</td>\n",
       "      <td>10.78</td>\n",
       "      <td>6</td>\n",
       "      <td>2.34</td>\n",
       "      <td>1107.58</td>\n",
       "      <td>0.00</td>\n",
       "      <td>0.00</td>\n",
       "      <td>749.55</td>\n",
       "    </tr>\n",
       "    <tr>\n",
       "      <td>800.0</td>\n",
       "      <td>162.93</td>\n",
       "      <td>13.54</td>\n",
       "      <td>7</td>\n",
       "      <td>2.63</td>\n",
       "      <td>1241.54</td>\n",
       "      <td>0.00</td>\n",
       "      <td>0.00</td>\n",
       "      <td>800.86</td>\n",
       "    </tr>\n",
       "    <tr>\n",
       "      <td>825.0</td>\n",
       "      <td>187.49</td>\n",
       "      <td>14.67</td>\n",
       "      <td>8</td>\n",
       "      <td>2.87</td>\n",
       "      <td>1381.86</td>\n",
       "      <td>0.00</td>\n",
       "      <td>0.00</td>\n",
       "      <td>825.05</td>\n",
       "    </tr>\n",
       "    <tr>\n",
       "      <td>840.0</td>\n",
       "      <td>77.51</td>\n",
       "      <td>9.65</td>\n",
       "      <td>9</td>\n",
       "      <td>1.98</td>\n",
       "      <td>635.65</td>\n",
       "      <td>0.00</td>\n",
       "      <td>0.00</td>\n",
       "      <td>839.47</td>\n",
       "    </tr>\n",
       "    <tr>\n",
       "      <td>860.0</td>\n",
       "      <td>29.74</td>\n",
       "      <td>5.97</td>\n",
       "      <td>10</td>\n",
       "      <td>2.44</td>\n",
       "      <td>922.38</td>\n",
       "      <td>0.00</td>\n",
       "      <td>0.00</td>\n",
       "      <td>857.23</td>\n",
       "    </tr>\n",
       "    <tr>\n",
       "      <td>870.0</td>\n",
       "      <td>19.15</td>\n",
       "      <td>5.13</td>\n",
       "      <td>11</td>\n",
       "      <td>2.49</td>\n",
       "      <td>941.91</td>\n",
       "      <td>0.00</td>\n",
       "      <td>0.00</td>\n",
       "      <td>867.15</td>\n",
       "    </tr>\n",
       "    <tr>\n",
       "      <td>900.0</td>\n",
       "      <td>16.97</td>\n",
       "      <td>6.35</td>\n",
       "      <td>12</td>\n",
       "      <td>2.64</td>\n",
       "      <td>5188.76</td>\n",
       "      <td>16.11</td>\n",
       "      <td>16.64</td>\n",
       "      <td>893.08</td>\n",
       "    </tr>\n",
       "    <tr>\n",
       "      <td>935.0</td>\n",
       "      <td>32.75</td>\n",
       "      <td>7.43</td>\n",
       "      <td>16</td>\n",
       "      <td>3.16</td>\n",
       "      <td>5042.76</td>\n",
       "      <td>10.17</td>\n",
       "      <td>6.99</td>\n",
       "      <td>930.13</td>\n",
       "    </tr>\n",
       "    <tr>\n",
       "      <td>960.0</td>\n",
       "      <td>19.14</td>\n",
       "      <td>6.84</td>\n",
       "      <td>25</td>\n",
       "      <td>3.21</td>\n",
       "      <td>4281.39</td>\n",
       "      <td>14.50</td>\n",
       "      <td>14.86</td>\n",
       "      <td>956.38</td>\n",
       "    </tr>\n",
       "    <tr>\n",
       "      <td>990.0</td>\n",
       "      <td>12.14</td>\n",
       "      <td>5.36</td>\n",
       "      <td>28</td>\n",
       "      <td>3.32</td>\n",
       "      <td>6358.03</td>\n",
       "      <td>14.54</td>\n",
       "      <td>6.81</td>\n",
       "      <td>996.50</td>\n",
       "    </tr>\n",
       "  </tbody>\n",
       "</table>\n",
       "</div>"
      ],
      "text/plain": [
       "         Nsig  dNsig  index  lum_err      lum  dEmin  dEmax   Emean\n",
       "641.0  305.56  18.96      1     3.34  3097.96   0.00   0.00  641.02\n",
       "650.0   93.45  10.37      2     1.81   876.63   0.00   0.00  649.77\n",
       "675.0   81.40   9.80      3     2.22  1225.14   0.00   0.00  674.85\n",
       "700.0   36.81   6.88      4     1.94   876.66   0.00   0.00  700.56\n",
       "725.0   59.88   8.88      5     2.27  1114.22   0.00   0.00  724.94\n",
       "750.0   92.37  10.78      6     2.34  1107.58   0.00   0.00  749.55\n",
       "800.0  162.93  13.54      7     2.63  1241.54   0.00   0.00  800.86\n",
       "825.0  187.49  14.67      8     2.87  1381.86   0.00   0.00  825.05\n",
       "840.0   77.51   9.65      9     1.98   635.65   0.00   0.00  839.47\n",
       "860.0   29.74   5.97     10     2.44   922.38   0.00   0.00  857.23\n",
       "870.0   19.15   5.13     11     2.49   941.91   0.00   0.00  867.15\n",
       "900.0   16.97   6.35     12     2.64  5188.76  16.11  16.64  893.08\n",
       "935.0   32.75   7.43     16     3.16  5042.76  10.17   6.99  930.13\n",
       "960.0   19.14   6.84     25     3.21  4281.39  14.50  14.86  956.38\n",
       "990.0   12.14   5.36     28     3.32  6358.03  14.54   6.81  996.50"
      ]
     },
     "execution_count": 185,
     "metadata": {},
     "output_type": "execute_result"
    }
   ],
   "source": [
    "data"
   ]
  },
  {
   "cell_type": "markdown",
   "metadata": {},
   "source": [
    "Triggers"
   ]
  },
  {
   "cell_type": "code",
   "execution_count": 186,
   "metadata": {},
   "outputs": [
    {
     "data": {
      "text/html": [
       "<div>\n",
       "<style scoped>\n",
       "    .dataframe tbody tr th:only-of-type {\n",
       "        vertical-align: middle;\n",
       "    }\n",
       "\n",
       "    .dataframe tbody tr th {\n",
       "        vertical-align: top;\n",
       "    }\n",
       "\n",
       "    .dataframe thead th {\n",
       "        text-align: right;\n",
       "    }\n",
       "</style>\n",
       "<table border=\"1\" class=\"dataframe\">\n",
       "  <thead>\n",
       "    <tr style=\"text-align: right;\">\n",
       "      <th></th>\n",
       "      <th>TF</th>\n",
       "      <th>CF</th>\n",
       "      <th>TC</th>\n",
       "      <th>eTF</th>\n",
       "      <th>eCF</th>\n",
       "      <th>TrigEff</th>\n",
       "      <th>vTF</th>\n",
       "      <th>vCF</th>\n",
       "      <th>TrigErr</th>\n",
       "    </tr>\n",
       "    <tr>\n",
       "      <th>label</th>\n",
       "      <th></th>\n",
       "      <th></th>\n",
       "      <th></th>\n",
       "      <th></th>\n",
       "      <th></th>\n",
       "      <th></th>\n",
       "      <th></th>\n",
       "      <th></th>\n",
       "      <th></th>\n",
       "    </tr>\n",
       "  </thead>\n",
       "  <tbody>\n",
       "    <tr>\n",
       "      <td>870.0</td>\n",
       "      <td>9.0</td>\n",
       "      <td>1.0</td>\n",
       "      <td>19.0</td>\n",
       "      <td>0.91</td>\n",
       "      <td>0.67</td>\n",
       "      <td>0.97</td>\n",
       "      <td>0.06</td>\n",
       "      <td>0.08</td>\n",
       "      <td>0.02</td>\n",
       "    </tr>\n",
       "    <tr>\n",
       "      <td>900.0</td>\n",
       "      <td>21.0</td>\n",
       "      <td>3.0</td>\n",
       "      <td>24.0</td>\n",
       "      <td>0.86</td>\n",
       "      <td>0.53</td>\n",
       "      <td>0.94</td>\n",
       "      <td>0.06</td>\n",
       "      <td>0.07</td>\n",
       "      <td>0.03</td>\n",
       "    </tr>\n",
       "    <tr>\n",
       "      <td>935.0</td>\n",
       "      <td>19.0</td>\n",
       "      <td>7.0</td>\n",
       "      <td>45.0</td>\n",
       "      <td>0.85</td>\n",
       "      <td>0.70</td>\n",
       "      <td>0.96</td>\n",
       "      <td>0.05</td>\n",
       "      <td>0.06</td>\n",
       "      <td>0.02</td>\n",
       "    </tr>\n",
       "    <tr>\n",
       "      <td>960.0</td>\n",
       "      <td>7.0</td>\n",
       "      <td>2.0</td>\n",
       "      <td>26.0</td>\n",
       "      <td>0.90</td>\n",
       "      <td>0.77</td>\n",
       "      <td>0.98</td>\n",
       "      <td>0.05</td>\n",
       "      <td>0.07</td>\n",
       "      <td>0.01</td>\n",
       "    </tr>\n",
       "    <tr>\n",
       "      <td>990.0</td>\n",
       "      <td>14.0</td>\n",
       "      <td>0.0</td>\n",
       "      <td>40.0</td>\n",
       "      <td>0.98</td>\n",
       "      <td>0.73</td>\n",
       "      <td>0.99</td>\n",
       "      <td>0.02</td>\n",
       "      <td>0.06</td>\n",
       "      <td>0.01</td>\n",
       "    </tr>\n",
       "  </tbody>\n",
       "</table>\n",
       "</div>"
      ],
      "text/plain": [
       "         TF   CF    TC   eTF   eCF  TrigEff   vTF   vCF  TrigErr\n",
       "label                                                           \n",
       "870.0   9.0  1.0  19.0  0.91  0.67     0.97  0.06  0.08     0.02\n",
       "900.0  21.0  3.0  24.0  0.86  0.53     0.94  0.06  0.07     0.03\n",
       "935.0  19.0  7.0  45.0  0.85  0.70     0.96  0.05  0.06     0.02\n",
       "960.0   7.0  2.0  26.0  0.90  0.77     0.98  0.05  0.07     0.01\n",
       "990.0  14.0  0.0  40.0  0.98  0.73     0.99  0.02  0.06     0.01"
      ]
     },
     "execution_count": 186,
     "metadata": {},
     "output_type": "execute_result"
    }
   ],
   "source": [
    "triggers.tail()"
   ]
  },
  {
   "cell_type": "code",
   "execution_count": 187,
   "metadata": {},
   "outputs": [
    {
     "data": {
      "text/html": [
       "<div>\n",
       "<style scoped>\n",
       "    .dataframe tbody tr th:only-of-type {\n",
       "        vertical-align: middle;\n",
       "    }\n",
       "\n",
       "    .dataframe tbody tr th {\n",
       "        vertical-align: top;\n",
       "    }\n",
       "\n",
       "    .dataframe thead th {\n",
       "        text-align: right;\n",
       "    }\n",
       "</style>\n",
       "<table border=\"1\" class=\"dataframe\">\n",
       "  <thead>\n",
       "    <tr style=\"text-align: right;\">\n",
       "      <th></th>\n",
       "      <th>Nsig</th>\n",
       "      <th>dNsig</th>\n",
       "      <th>index</th>\n",
       "      <th>lum_err</th>\n",
       "      <th>lum</th>\n",
       "      <th>dEmin</th>\n",
       "      <th>dEmax</th>\n",
       "      <th>Emean</th>\n",
       "    </tr>\n",
       "  </thead>\n",
       "  <tbody>\n",
       "    <tr>\n",
       "      <td>550.0</td>\n",
       "      <td>1590.29</td>\n",
       "      <td>41.28</td>\n",
       "      <td>1</td>\n",
       "      <td>84.63</td>\n",
       "      <td>7163</td>\n",
       "      <td>0.0</td>\n",
       "      <td>0.0</td>\n",
       "      <td>550.0</td>\n",
       "    </tr>\n",
       "    <tr>\n",
       "      <td>562.5</td>\n",
       "      <td>1353.86</td>\n",
       "      <td>38.47</td>\n",
       "      <td>2</td>\n",
       "      <td>79.41</td>\n",
       "      <td>6306</td>\n",
       "      <td>0.0</td>\n",
       "      <td>0.0</td>\n",
       "      <td>562.5</td>\n",
       "    </tr>\n",
       "    <tr>\n",
       "      <td>575.0</td>\n",
       "      <td>1196.61</td>\n",
       "      <td>36.00</td>\n",
       "      <td>3</td>\n",
       "      <td>74.27</td>\n",
       "      <td>5516</td>\n",
       "      <td>0.0</td>\n",
       "      <td>0.0</td>\n",
       "      <td>575.0</td>\n",
       "    </tr>\n",
       "    <tr>\n",
       "      <td>587.5</td>\n",
       "      <td>1103.46</td>\n",
       "      <td>34.54</td>\n",
       "      <td>4</td>\n",
       "      <td>71.53</td>\n",
       "      <td>5116</td>\n",
       "      <td>0.0</td>\n",
       "      <td>0.0</td>\n",
       "      <td>587.5</td>\n",
       "    </tr>\n",
       "    <tr>\n",
       "      <td>600.0</td>\n",
       "      <td>960.04</td>\n",
       "      <td>32.57</td>\n",
       "      <td>5</td>\n",
       "      <td>67.87</td>\n",
       "      <td>4606</td>\n",
       "      <td>0.0</td>\n",
       "      <td>0.0</td>\n",
       "      <td>600.0</td>\n",
       "    </tr>\n",
       "  </tbody>\n",
       "</table>\n",
       "</div>"
      ],
      "text/plain": [
       "          Nsig  dNsig  index  lum_err   lum  dEmin  dEmax  Emean\n",
       "550.0  1590.29  41.28      1    84.63  7163    0.0    0.0  550.0\n",
       "562.5  1353.86  38.47      2    79.41  6306    0.0    0.0  562.5\n",
       "575.0  1196.61  36.00      3    74.27  5516    0.0    0.0  575.0\n",
       "587.5  1103.46  34.54      4    71.53  5116    0.0    0.0  587.5\n",
       "600.0   960.04  32.57      5    67.87  4606    0.0    0.0  600.0"
      ]
     },
     "execution_count": 187,
     "metadata": {},
     "output_type": "execute_result"
    }
   ],
   "source": [
    "reg_eff.head()"
   ]
  },
  {
   "cell_type": "markdown",
   "metadata": {},
   "source": [
    "Get N/L"
   ]
  },
  {
   "cell_type": "code",
   "execution_count": 188,
   "metadata": {},
   "outputs": [],
   "source": [
    "data['CSvis'] = data['Nsig']/data['lum']\n",
    "data['dCSvis'] = data['dNsig']/data['lum']"
   ]
  },
  {
   "cell_type": "markdown",
   "metadata": {},
   "source": [
    "Trigger join"
   ]
  },
  {
   "cell_type": "code",
   "execution_count": 189,
   "metadata": {},
   "outputs": [],
   "source": [
    "data = data.join(triggers[['TrigEff', 'TrigErr']], how='left')"
   ]
  },
  {
   "cell_type": "code",
   "execution_count": 190,
   "metadata": {},
   "outputs": [],
   "source": [
    "data = data.drop(['Nsig', 'dNsig', 'lum', 'index', 'lum_err'], axis=1)"
   ]
  },
  {
   "cell_type": "markdown",
   "metadata": {},
   "source": [
    "Get Reg_eff"
   ]
  },
  {
   "cell_type": "code",
   "execution_count": 191,
   "metadata": {},
   "outputs": [],
   "source": [
    "reg_eff['RegEff'] = reg_eff['Nsig']/reg_eff['lum']\n",
    "reg_eff['RegErr'] = reg_eff['dNsig']/reg_eff['lum']\n",
    "reg_eff.drop(['dEmax', 'dEmin', 'lum', 'Nsig', 'dNsig'], axis=1, inplace=True)"
   ]
  },
  {
   "cell_type": "markdown",
   "metadata": {},
   "source": [
    "Reg eff join"
   ]
  },
  {
   "cell_type": "code",
   "execution_count": 192,
   "metadata": {},
   "outputs": [],
   "source": [
    "data['RegEff'] = data.apply(lambda x: np.interp(x['Emean'], reg_eff.Emean, reg_eff.RegEff), axis=1)\n",
    "data['RegErr'] = data.apply(lambda x: np.interp(x['Emean'], reg_eff.Emean, reg_eff.RegErr), axis=1)"
   ]
  },
  {
   "cell_type": "markdown",
   "metadata": {},
   "source": [
    "Recalc cross section"
   ]
  },
  {
   "cell_type": "code",
   "execution_count": 193,
   "metadata": {},
   "outputs": [],
   "source": [
    "data['CS'] = data['CSvis']/data['TrigEff']/data['RegEff'];\n",
    "data['dCS'] = data['CS']*np.sqrt( np.square( data['dCSvis']/data['CSvis'] ) + \n",
    "                                np.square( data['TrigErr']/data['TrigEff'] ) + \n",
    "                                np.square( data['RegErr']/data['RegEff'] ))"
   ]
  },
  {
   "cell_type": "code",
   "execution_count": 194,
   "metadata": {},
   "outputs": [],
   "source": [
    "data.drop(['CSvis', 'dCSvis', 'TrigEff', 'TrigErr', 'RegEff', 'RegErr'], axis=1, inplace=True)"
   ]
  },
  {
   "cell_type": "code",
   "execution_count": 195,
   "metadata": {},
   "outputs": [],
   "source": [
    "data.to_csv(f'../outputs/{year}/result_new.csv')"
   ]
  },
  {
   "cell_type": "markdown",
   "metadata": {},
   "source": [
    "## Draw cross sections"
   ]
  },
  {
   "cell_type": "code",
   "execution_count": 196,
   "metadata": {},
   "outputs": [],
   "source": [
    "cs11 = pd.read_csv('../outputs/11/result_new.csv', index_col=['Unnamed: 0'])\n",
    "cs12 = pd.read_csv('../outputs/12/result_new.csv', index_col=['Unnamed: 0'])\n",
    "cs17 = pd.read_csv('../outputs/17/result_new.csv', index_col=['Unnamed: 0'])\n",
    "cs19 = pd.read_csv('../outputs/19/result_new.csv', index_col=['Unnamed: 0'])"
   ]
  },
  {
   "cell_type": "code",
   "execution_count": 197,
   "metadata": {},
   "outputs": [],
   "source": [
    "#radcor = pd.read_csv('rad_cors.dat', delimiter='\\t', names=['energy', 'radcor'], index_col=['energy'])\n",
    "radcor = pd.read_csv('../outputs/radcors.dat', names=['energy', 'radcor'], index_col=['energy'])\n",
    "radcor.index *= 0.5e3\n",
    "radcor = radcor.sort_index()"
   ]
  },
  {
   "cell_type": "code",
   "execution_count": 198,
   "metadata": {},
   "outputs": [
    {
     "data": {
      "text/html": [
       "<div>\n",
       "<style scoped>\n",
       "    .dataframe tbody tr th:only-of-type {\n",
       "        vertical-align: middle;\n",
       "    }\n",
       "\n",
       "    .dataframe tbody tr th {\n",
       "        vertical-align: top;\n",
       "    }\n",
       "\n",
       "    .dataframe thead th {\n",
       "        text-align: right;\n",
       "    }\n",
       "</style>\n",
       "<table border=\"1\" class=\"dataframe\">\n",
       "  <thead>\n",
       "    <tr style=\"text-align: right;\">\n",
       "      <th></th>\n",
       "      <th>dEmin</th>\n",
       "      <th>dEmax</th>\n",
       "      <th>Emean</th>\n",
       "      <th>CS</th>\n",
       "      <th>dCS</th>\n",
       "    </tr>\n",
       "  </thead>\n",
       "  <tbody>\n",
       "    <tr>\n",
       "      <td>850.0</td>\n",
       "      <td>0.00</td>\n",
       "      <td>0.00</td>\n",
       "      <td>846.43</td>\n",
       "      <td>0.372718</td>\n",
       "      <td>0.087461</td>\n",
       "    </tr>\n",
       "    <tr>\n",
       "      <td>862.5</td>\n",
       "      <td>0.00</td>\n",
       "      <td>0.00</td>\n",
       "      <td>861.56</td>\n",
       "      <td>0.348254</td>\n",
       "      <td>0.104785</td>\n",
       "    </tr>\n",
       "    <tr>\n",
       "      <td>880.0</td>\n",
       "      <td>8.15</td>\n",
       "      <td>7.89</td>\n",
       "      <td>878.97</td>\n",
       "      <td>0.129951</td>\n",
       "      <td>0.042370</td>\n",
       "    </tr>\n",
       "    <tr>\n",
       "      <td>910.0</td>\n",
       "      <td>14.83</td>\n",
       "      <td>13.04</td>\n",
       "      <td>911.28</td>\n",
       "      <td>0.152648</td>\n",
       "      <td>0.044970</td>\n",
       "    </tr>\n",
       "    <tr>\n",
       "      <td>950.0</td>\n",
       "      <td>28.82</td>\n",
       "      <td>37.90</td>\n",
       "      <td>964.41</td>\n",
       "      <td>0.042082</td>\n",
       "      <td>0.020519</td>\n",
       "    </tr>\n",
       "  </tbody>\n",
       "</table>\n",
       "</div>"
      ],
      "text/plain": [
       "       dEmin  dEmax   Emean        CS       dCS\n",
       "850.0   0.00   0.00  846.43  0.372718  0.087461\n",
       "862.5   0.00   0.00  861.56  0.348254  0.104785\n",
       "880.0   8.15   7.89  878.97  0.129951  0.042370\n",
       "910.0  14.83  13.04  911.28  0.152648  0.044970\n",
       "950.0  28.82  37.90  964.41  0.042082  0.020519"
      ]
     },
     "execution_count": 198,
     "metadata": {},
     "output_type": "execute_result"
    }
   ],
   "source": [
    "cs11.tail()"
   ]
  },
  {
   "cell_type": "code",
   "execution_count": 199,
   "metadata": {},
   "outputs": [
    {
     "data": {
      "text/html": [
       "<div>\n",
       "<style scoped>\n",
       "    .dataframe tbody tr th:only-of-type {\n",
       "        vertical-align: middle;\n",
       "    }\n",
       "\n",
       "    .dataframe tbody tr th {\n",
       "        vertical-align: top;\n",
       "    }\n",
       "\n",
       "    .dataframe thead th {\n",
       "        text-align: right;\n",
       "    }\n",
       "</style>\n",
       "<table border=\"1\" class=\"dataframe\">\n",
       "  <thead>\n",
       "    <tr style=\"text-align: right;\">\n",
       "      <th></th>\n",
       "      <th>radcor</th>\n",
       "    </tr>\n",
       "    <tr>\n",
       "      <th>energy</th>\n",
       "      <th></th>\n",
       "    </tr>\n",
       "  </thead>\n",
       "  <tbody>\n",
       "    <tr>\n",
       "      <td>550.0</td>\n",
       "      <td>0.771796</td>\n",
       "    </tr>\n",
       "    <tr>\n",
       "      <td>562.5</td>\n",
       "      <td>0.779035</td>\n",
       "    </tr>\n",
       "    <tr>\n",
       "      <td>575.0</td>\n",
       "      <td>0.785582</td>\n",
       "    </tr>\n",
       "    <tr>\n",
       "      <td>587.5</td>\n",
       "      <td>0.790523</td>\n",
       "    </tr>\n",
       "    <tr>\n",
       "      <td>600.0</td>\n",
       "      <td>0.796150</td>\n",
       "    </tr>\n",
       "  </tbody>\n",
       "</table>\n",
       "</div>"
      ],
      "text/plain": [
       "          radcor\n",
       "energy          \n",
       "550.0   0.771796\n",
       "562.5   0.779035\n",
       "575.0   0.785582\n",
       "587.5   0.790523\n",
       "600.0   0.796150"
      ]
     },
     "execution_count": 199,
     "metadata": {},
     "output_type": "execute_result"
    }
   ],
   "source": [
    "radcor.head()"
   ]
  },
  {
   "cell_type": "code",
   "execution_count": 200,
   "metadata": {},
   "outputs": [],
   "source": [
    "cs11['rad'] = np.interp(cs11.Emean, radcor.index, radcor.radcor)\n",
    "cs12['rad'] = np.interp(cs12.Emean, radcor.index, radcor.radcor)\n",
    "cs17['rad'] = np.interp(cs17.Emean, radcor.index, radcor.radcor)\n",
    "cs19['rad'] = np.interp(cs19.Emean, radcor.index, radcor.radcor)"
   ]
  },
  {
   "cell_type": "code",
   "execution_count": 201,
   "metadata": {},
   "outputs": [],
   "source": [
    "def born(data):\n",
    "    data['born'] = data.CS/data.rad\n",
    "    data['born_err'] = data.dCS/data.rad"
   ]
  },
  {
   "cell_type": "code",
   "execution_count": 202,
   "metadata": {},
   "outputs": [],
   "source": [
    "born(cs11)\n",
    "born(cs12)\n",
    "born(cs17)\n",
    "born(cs19)"
   ]
  },
  {
   "cell_type": "code",
   "execution_count": 203,
   "metadata": {},
   "outputs": [],
   "source": [
    "errE = dict()\n",
    "errE[11] = [cs11.dEmin*2e-3, cs11.dEmax*2e-3]\n",
    "errE[12] = [cs12.dEmin*2e-3, cs12.dEmax*2e-3]\n",
    "errE[17] = [cs17.dEmin*2e-3, cs17.dEmax*2e-3]\n",
    "errE[19] = [cs19.dEmin*2e-3, cs19.dEmax*2e-3]"
   ]
  },
  {
   "cell_type": "code",
   "execution_count": 208,
   "metadata": {},
   "outputs": [
    {
     "data": {
      "image/png": "[encoded data removed]",
      "text/plain": [
       "<Figure size 1152x720 with 1 Axes>"
      ]
     },
     "metadata": {},
     "output_type": "display_data"
    }
   ],
   "source": [
    "plt.errorbar(cs19.index*2e-3, cs19.born, yerr=cs19.born_err, xerr=errE[19], fmt='kd', elinewidth=3, ms=1, label='2019')\n",
    "plt.errorbar(cs17.index*2e-3, cs17.born, yerr=cs17.born_err, xerr=errE[17], fmt='g^', elinewidth=3, ms=1, label='2017')\n",
    "plt.errorbar(cs12.index*2e-3, cs12.born, yerr=cs12.born_err, xerr=errE[12], fmt='bp', elinewidth=3, ms=1, label='2012')\n",
    "plt.errorbar(cs11.index*2e-3, cs11.born, yerr=cs11.born_err, xerr=errE[11], fmt='rv', elinewidth=3, ms=1, label='2011')\n",
    "plt.yscale('log')\n",
    "plt.xlabel('$\\sqrt{s}$, GeV', fontsize=20)\n",
    "plt.ylabel('$\\sigma$, nb', fontsize=20)\n",
    "ax = plt.gca()\n",
    "ax.tick_params(labelsize=18)\n",
    "ax.legend(fontsize=20, frameon=True)\n",
    "#plt.savefig('cs.pdf')"
   ]
  },
  {
   "cell_type": "code",
   "execution_count": null,
   "metadata": {},
   "outputs": [],
   "source": []
  }
 ],
 "metadata": {
  "kernelspec": {
   "display_name": "Python 3",
   "language": "python",
   "name": "python3"
  },
  "language_info": {
   "codemirror_mode": {
    "name": "ipython",
    "version": 3
   },
   "file_extension": ".py",
   "mimetype": "text/x-python",
   "name": "python",
   "nbconvert_exporter": "python",
   "pygments_lexer": "ipython3",
   "version": "3.7.4"
  }
 },
 "nbformat": 4,
 "nbformat_minor": 2
}
