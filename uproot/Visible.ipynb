{
 "cells": [
  {
   "cell_type": "code",
   "execution_count": 1,
   "metadata": {},
   "outputs": [],
   "source": [
    "import pandas as pd\n",
    "import numpy as np\n",
    "import matplotlib.pyplot as plt\n",
    "import seaborn as sns\n",
    "%matplotlib inline"
   ]
  },
  {
   "cell_type": "code",
   "execution_count": 2,
   "metadata": {},
   "outputs": [],
   "source": [
    "sns.set(rc={'figure.figsize':(16,10)})"
   ]
  },
  {
   "cell_type": "code",
   "execution_count": 3,
   "metadata": {},
   "outputs": [],
   "source": [
    "year = '19'"
   ]
  },
  {
   "cell_type": "code",
   "execution_count": 4,
   "metadata": {},
   "outputs": [],
   "source": [
    "data = pd.read_csv('../outputs/'+year+'/out'+year+'.csv', index_col='Unnamed: 0')\n",
    "triggers = pd.read_csv('../outputs/'+year+'/triggers'+year+'.csv', index_col='label')\n",
    "reg_eff = pd.read_csv('../outputs/model/outmodel.csv', index_col='Unnamed: 0')"
   ]
  },
  {
   "cell_type": "code",
   "execution_count": 20,
   "metadata": {},
   "outputs": [
    {
     "data": {
      "text/html": [
       "<div>\n",
       "<style scoped>\n",
       "    .dataframe tbody tr th:only-of-type {\n",
       "        vertical-align: middle;\n",
       "    }\n",
       "\n",
       "    .dataframe tbody tr th {\n",
       "        vertical-align: top;\n",
       "    }\n",
       "\n",
       "    .dataframe thead th {\n",
       "        text-align: right;\n",
       "    }\n",
       "</style>\n",
       "<table border=\"1\" class=\"dataframe\">\n",
       "  <thead>\n",
       "    <tr style=\"text-align: right;\">\n",
       "      <th></th>\n",
       "      <th>dEmin</th>\n",
       "      <th>dEmax</th>\n",
       "      <th>Emean</th>\n",
       "      <th>CS</th>\n",
       "      <th>dCS</th>\n",
       "    </tr>\n",
       "  </thead>\n",
       "  <tbody>\n",
       "    <tr>\n",
       "      <th>537.5</th>\n",
       "      <td>0.0</td>\n",
       "      <td>0.0</td>\n",
       "      <td>537.45</td>\n",
       "      <td>6.251548</td>\n",
       "      <td>0.210861</td>\n",
       "    </tr>\n",
       "    <tr>\n",
       "      <th>550.0</th>\n",
       "      <td>0.0</td>\n",
       "      <td>0.0</td>\n",
       "      <td>549.34</td>\n",
       "      <td>3.630851</td>\n",
       "      <td>0.136161</td>\n",
       "    </tr>\n",
       "    <tr>\n",
       "      <th>562.5</th>\n",
       "      <td>0.0</td>\n",
       "      <td>0.0</td>\n",
       "      <td>562.50</td>\n",
       "      <td>2.456529</td>\n",
       "      <td>0.118424</td>\n",
       "    </tr>\n",
       "    <tr>\n",
       "      <th>575.0</th>\n",
       "      <td>0.0</td>\n",
       "      <td>0.0</td>\n",
       "      <td>574.86</td>\n",
       "      <td>1.889751</td>\n",
       "      <td>0.102003</td>\n",
       "    </tr>\n",
       "    <tr>\n",
       "      <th>587.5</th>\n",
       "      <td>0.0</td>\n",
       "      <td>0.0</td>\n",
       "      <td>587.73</td>\n",
       "      <td>1.188691</td>\n",
       "      <td>0.073576</td>\n",
       "    </tr>\n",
       "  </tbody>\n",
       "</table>\n",
       "</div>"
      ],
      "text/plain": [
       "       dEmin  dEmax   Emean        CS       dCS\n",
       "537.5    0.0    0.0  537.45  6.251548  0.210861\n",
       "550.0    0.0    0.0  549.34  3.630851  0.136161\n",
       "562.5    0.0    0.0  562.50  2.456529  0.118424\n",
       "575.0    0.0    0.0  574.86  1.889751  0.102003\n",
       "587.5    0.0    0.0  587.73  1.188691  0.073576"
      ]
     },
     "execution_count": 20,
     "metadata": {},
     "output_type": "execute_result"
    }
   ],
   "source": [
    "data.head()"
   ]
  },
  {
   "cell_type": "code",
   "execution_count": 6,
   "metadata": {},
   "outputs": [
    {
     "data": {
      "text/html": [
       "<div>\n",
       "<style scoped>\n",
       "    .dataframe tbody tr th:only-of-type {\n",
       "        vertical-align: middle;\n",
       "    }\n",
       "\n",
       "    .dataframe tbody tr th {\n",
       "        vertical-align: top;\n",
       "    }\n",
       "\n",
       "    .dataframe thead th {\n",
       "        text-align: right;\n",
       "    }\n",
       "</style>\n",
       "<table border=\"1\" class=\"dataframe\">\n",
       "  <thead>\n",
       "    <tr style=\"text-align: right;\">\n",
       "      <th></th>\n",
       "      <th>TF</th>\n",
       "      <th>CF</th>\n",
       "      <th>TC</th>\n",
       "      <th>eTF</th>\n",
       "      <th>eCF</th>\n",
       "      <th>TrigEff</th>\n",
       "      <th>vTF</th>\n",
       "      <th>vCF</th>\n",
       "      <th>TrigErr</th>\n",
       "    </tr>\n",
       "    <tr>\n",
       "      <th>label</th>\n",
       "      <th></th>\n",
       "      <th></th>\n",
       "      <th></th>\n",
       "      <th></th>\n",
       "      <th></th>\n",
       "      <th></th>\n",
       "      <th></th>\n",
       "      <th></th>\n",
       "      <th></th>\n",
       "    </tr>\n",
       "  </thead>\n",
       "  <tbody>\n",
       "    <tr>\n",
       "      <th>537.5</th>\n",
       "      <td>453.0</td>\n",
       "      <td>20.0</td>\n",
       "      <td>1549.0</td>\n",
       "      <td>0.99</td>\n",
       "      <td>0.77</td>\n",
       "      <td>1.00</td>\n",
       "      <td>0.00</td>\n",
       "      <td>0.01</td>\n",
       "      <td>0.0</td>\n",
       "    </tr>\n",
       "    <tr>\n",
       "      <th>550.0</th>\n",
       "      <td>312.0</td>\n",
       "      <td>17.0</td>\n",
       "      <td>1076.0</td>\n",
       "      <td>0.98</td>\n",
       "      <td>0.77</td>\n",
       "      <td>1.00</td>\n",
       "      <td>0.00</td>\n",
       "      <td>0.01</td>\n",
       "      <td>0.0</td>\n",
       "    </tr>\n",
       "    <tr>\n",
       "      <th>562.5</th>\n",
       "      <td>171.0</td>\n",
       "      <td>9.0</td>\n",
       "      <td>507.0</td>\n",
       "      <td>0.98</td>\n",
       "      <td>0.75</td>\n",
       "      <td>1.00</td>\n",
       "      <td>0.01</td>\n",
       "      <td>0.02</td>\n",
       "      <td>0.0</td>\n",
       "    </tr>\n",
       "    <tr>\n",
       "      <th>575.0</th>\n",
       "      <td>64.0</td>\n",
       "      <td>19.0</td>\n",
       "      <td>442.0</td>\n",
       "      <td>0.96</td>\n",
       "      <td>0.87</td>\n",
       "      <td>0.99</td>\n",
       "      <td>0.01</td>\n",
       "      <td>0.01</td>\n",
       "      <td>0.0</td>\n",
       "    </tr>\n",
       "    <tr>\n",
       "      <th>587.5</th>\n",
       "      <td>32.0</td>\n",
       "      <td>10.0</td>\n",
       "      <td>346.0</td>\n",
       "      <td>0.97</td>\n",
       "      <td>0.91</td>\n",
       "      <td>1.00</td>\n",
       "      <td>0.01</td>\n",
       "      <td>0.01</td>\n",
       "      <td>0.0</td>\n",
       "    </tr>\n",
       "  </tbody>\n",
       "</table>\n",
       "</div>"
      ],
      "text/plain": [
       "          TF    CF      TC   eTF   eCF  TrigEff   vTF   vCF  TrigErr\n",
       "label                                                               \n",
       "537.5  453.0  20.0  1549.0  0.99  0.77     1.00  0.00  0.01      0.0\n",
       "550.0  312.0  17.0  1076.0  0.98  0.77     1.00  0.00  0.01      0.0\n",
       "562.5  171.0   9.0   507.0  0.98  0.75     1.00  0.01  0.02      0.0\n",
       "575.0   64.0  19.0   442.0  0.96  0.87     0.99  0.01  0.01      0.0\n",
       "587.5   32.0  10.0   346.0  0.97  0.91     1.00  0.01  0.01      0.0"
      ]
     },
     "execution_count": 6,
     "metadata": {},
     "output_type": "execute_result"
    }
   ],
   "source": [
    "triggers.head()"
   ]
  },
  {
   "cell_type": "code",
   "execution_count": 7,
   "metadata": {},
   "outputs": [
    {
     "data": {
      "text/html": [
       "<div>\n",
       "<style scoped>\n",
       "    .dataframe tbody tr th:only-of-type {\n",
       "        vertical-align: middle;\n",
       "    }\n",
       "\n",
       "    .dataframe tbody tr th {\n",
       "        vertical-align: top;\n",
       "    }\n",
       "\n",
       "    .dataframe thead th {\n",
       "        text-align: right;\n",
       "    }\n",
       "</style>\n",
       "<table border=\"1\" class=\"dataframe\">\n",
       "  <thead>\n",
       "    <tr style=\"text-align: right;\">\n",
       "      <th></th>\n",
       "      <th>Nsig</th>\n",
       "      <th>dNsig</th>\n",
       "      <th>lum</th>\n",
       "      <th>dEmin</th>\n",
       "      <th>dEmax</th>\n",
       "      <th>Emean</th>\n",
       "    </tr>\n",
       "  </thead>\n",
       "  <tbody>\n",
       "    <tr>\n",
       "      <th>550.0</th>\n",
       "      <td>1800.36</td>\n",
       "      <td>44.01</td>\n",
       "      <td>7163</td>\n",
       "      <td>0.0</td>\n",
       "      <td>0.0</td>\n",
       "      <td>550.0</td>\n",
       "    </tr>\n",
       "    <tr>\n",
       "      <th>562.5</th>\n",
       "      <td>1573.35</td>\n",
       "      <td>41.42</td>\n",
       "      <td>6306</td>\n",
       "      <td>0.0</td>\n",
       "      <td>0.0</td>\n",
       "      <td>562.5</td>\n",
       "    </tr>\n",
       "    <tr>\n",
       "      <th>575.0</th>\n",
       "      <td>1374.38</td>\n",
       "      <td>38.87</td>\n",
       "      <td>5516</td>\n",
       "      <td>0.0</td>\n",
       "      <td>0.0</td>\n",
       "      <td>575.0</td>\n",
       "    </tr>\n",
       "    <tr>\n",
       "      <th>587.5</th>\n",
       "      <td>1311.21</td>\n",
       "      <td>37.58</td>\n",
       "      <td>5116</td>\n",
       "      <td>0.0</td>\n",
       "      <td>0.0</td>\n",
       "      <td>587.5</td>\n",
       "    </tr>\n",
       "    <tr>\n",
       "      <th>600.0</th>\n",
       "      <td>1134.09</td>\n",
       "      <td>35.69</td>\n",
       "      <td>4606</td>\n",
       "      <td>0.0</td>\n",
       "      <td>0.0</td>\n",
       "      <td>600.0</td>\n",
       "    </tr>\n",
       "  </tbody>\n",
       "</table>\n",
       "</div>"
      ],
      "text/plain": [
       "          Nsig  dNsig   lum  dEmin  dEmax  Emean\n",
       "550.0  1800.36  44.01  7163    0.0    0.0  550.0\n",
       "562.5  1573.35  41.42  6306    0.0    0.0  562.5\n",
       "575.0  1374.38  38.87  5516    0.0    0.0  575.0\n",
       "587.5  1311.21  37.58  5116    0.0    0.0  587.5\n",
       "600.0  1134.09  35.69  4606    0.0    0.0  600.0"
      ]
     },
     "execution_count": 7,
     "metadata": {},
     "output_type": "execute_result"
    }
   ],
   "source": [
    "reg_eff.head()"
   ]
  },
  {
   "cell_type": "markdown",
   "metadata": {},
   "source": [
    "Get N/L"
   ]
  },
  {
   "cell_type": "code",
   "execution_count": 8,
   "metadata": {},
   "outputs": [],
   "source": [
    "data['CSvis'] = data['Nsig']/data['lum']\n",
    "data['dCSvis'] = data['dNsig']/data['lum']"
   ]
  },
  {
   "cell_type": "markdown",
   "metadata": {},
   "source": [
    "Trigger join"
   ]
  },
  {
   "cell_type": "code",
   "execution_count": 9,
   "metadata": {},
   "outputs": [],
   "source": [
    "data = data.join(triggers[['TrigEff', 'TrigErr']], how='left')"
   ]
  },
  {
   "cell_type": "code",
   "execution_count": 10,
   "metadata": {},
   "outputs": [],
   "source": [
    "data = data.drop(['Nsig', 'dNsig', 'lum'], axis=1)"
   ]
  },
  {
   "cell_type": "markdown",
   "metadata": {},
   "source": [
    "Get Reg_eff"
   ]
  },
  {
   "cell_type": "code",
   "execution_count": 11,
   "metadata": {},
   "outputs": [],
   "source": [
    "reg_eff['RegEff'] = reg_eff['Nsig']/reg_eff['lum']\n",
    "reg_eff['RegErr'] = reg_eff['dNsig']/reg_eff['lum']\n",
    "reg_eff.drop(['dEmax', 'dEmin', 'lum', 'Nsig', 'dNsig'], axis=1, inplace=True)"
   ]
  },
  {
   "cell_type": "markdown",
   "metadata": {},
   "source": [
    "Reg eff join"
   ]
  },
  {
   "cell_type": "code",
   "execution_count": 12,
   "metadata": {},
   "outputs": [],
   "source": [
    "data['RegEff'] = data.apply(lambda x: np.interp(x['Emean'], reg_eff.Emean, reg_eff.RegEff), axis=1)\n",
    "data['RegErr'] = data.apply(lambda x: np.interp(x['Emean'], reg_eff.Emean, reg_eff.RegErr), axis=1)"
   ]
  },
  {
   "cell_type": "markdown",
   "metadata": {},
   "source": [
    "Recalc cross section"
   ]
  },
  {
   "cell_type": "code",
   "execution_count": 13,
   "metadata": {},
   "outputs": [],
   "source": [
    "data['CS'] = data['CSvis']/data['TrigEff']/data['RegEff'];\n",
    "data['dCS'] = data['CS']*np.sqrt( np.square( data['dCSvis']/data['CSvis'] ) + \n",
    "                                np.square( data['TrigErr']/data['TrigEff'] ) + \n",
    "                                np.square( data['RegErr']/data['RegEff'] ))"
   ]
  },
  {
   "cell_type": "code",
   "execution_count": 14,
   "metadata": {},
   "outputs": [],
   "source": [
    "data.drop(['CSvis', 'dCSvis', 'TrigEff', 'TrigErr', 'RegEff', 'RegErr'], axis=1, inplace=True)"
   ]
  },
  {
   "cell_type": "code",
   "execution_count": 15,
   "metadata": {},
   "outputs": [],
   "source": [
    "data.to_csv('../outputs/'+year+'/result_new.csv')"
   ]
  },
  {
   "cell_type": "markdown",
   "metadata": {},
   "source": [
    "## Draw cross sections"
   ]
  },
  {
   "cell_type": "code",
   "execution_count": 21,
   "metadata": {},
   "outputs": [],
   "source": [
    "cs11 = pd.read_csv('../outputs/11/result_new.csv', index_col=['Unnamed: 0'])\n",
    "cs12 = pd.read_csv('../outputs/12/result_new.csv', index_col=['Unnamed: 0'])\n",
    "cs17 = pd.read_csv('../outputs/17/result_new.csv', index_col=['Unnamed: 0'])\n",
    "cs19 = pd.read_csv('../outputs/19/result_new.csv', index_col=['Unnamed: 0'])"
   ]
  },
  {
   "cell_type": "code",
   "execution_count": 22,
   "metadata": {},
   "outputs": [],
   "source": [
    "radcor = pd.read_csv('rad_cors.dat', delimiter='\\t', names=['energy', 'radcor'], index_col=['energy'])"
   ]
  },
  {
   "cell_type": "code",
   "execution_count": 23,
   "metadata": {},
   "outputs": [
    {
     "data": {
      "text/html": [
       "<div>\n",
       "<style scoped>\n",
       "    .dataframe tbody tr th:only-of-type {\n",
       "        vertical-align: middle;\n",
       "    }\n",
       "\n",
       "    .dataframe tbody tr th {\n",
       "        vertical-align: top;\n",
       "    }\n",
       "\n",
       "    .dataframe thead th {\n",
       "        text-align: right;\n",
       "    }\n",
       "</style>\n",
       "<table border=\"1\" class=\"dataframe\">\n",
       "  <thead>\n",
       "    <tr style=\"text-align: right;\">\n",
       "      <th></th>\n",
       "      <th>dEmin</th>\n",
       "      <th>dEmax</th>\n",
       "      <th>Emean</th>\n",
       "      <th>CS</th>\n",
       "      <th>dCS</th>\n",
       "    </tr>\n",
       "  </thead>\n",
       "  <tbody>\n",
       "    <tr>\n",
       "      <th>950.0</th>\n",
       "      <td>0.0</td>\n",
       "      <td>0.0</td>\n",
       "      <td>950.15</td>\n",
       "      <td>0.047140</td>\n",
       "      <td>0.016132</td>\n",
       "    </tr>\n",
       "    <tr>\n",
       "      <th>955.0</th>\n",
       "      <td>0.0</td>\n",
       "      <td>0.0</td>\n",
       "      <td>956.05</td>\n",
       "      <td>0.050070</td>\n",
       "      <td>0.019491</td>\n",
       "    </tr>\n",
       "    <tr>\n",
       "      <th>962.5</th>\n",
       "      <td>0.0</td>\n",
       "      <td>0.0</td>\n",
       "      <td>962.82</td>\n",
       "      <td>0.075411</td>\n",
       "      <td>0.016251</td>\n",
       "    </tr>\n",
       "    <tr>\n",
       "      <th>975.0</th>\n",
       "      <td>0.0</td>\n",
       "      <td>0.0</td>\n",
       "      <td>976.21</td>\n",
       "      <td>0.005804</td>\n",
       "      <td>0.003662</td>\n",
       "    </tr>\n",
       "    <tr>\n",
       "      <th>987.5</th>\n",
       "      <td>0.0</td>\n",
       "      <td>0.0</td>\n",
       "      <td>987.80</td>\n",
       "      <td>0.087324</td>\n",
       "      <td>0.017234</td>\n",
       "    </tr>\n",
       "  </tbody>\n",
       "</table>\n",
       "</div>"
      ],
      "text/plain": [
       "       dEmin  dEmax   Emean        CS       dCS\n",
       "950.0    0.0    0.0  950.15  0.047140  0.016132\n",
       "955.0    0.0    0.0  956.05  0.050070  0.019491\n",
       "962.5    0.0    0.0  962.82  0.075411  0.016251\n",
       "975.0    0.0    0.0  976.21  0.005804  0.003662\n",
       "987.5    0.0    0.0  987.80  0.087324  0.017234"
      ]
     },
     "execution_count": 23,
     "metadata": {},
     "output_type": "execute_result"
    }
   ],
   "source": [
    "cs19.tail()"
   ]
  },
  {
   "cell_type": "code",
   "execution_count": 24,
   "metadata": {},
   "outputs": [
    {
     "data": {
      "text/html": [
       "<div>\n",
       "<style scoped>\n",
       "    .dataframe tbody tr th:only-of-type {\n",
       "        vertical-align: middle;\n",
       "    }\n",
       "\n",
       "    .dataframe tbody tr th {\n",
       "        vertical-align: top;\n",
       "    }\n",
       "\n",
       "    .dataframe thead th {\n",
       "        text-align: right;\n",
       "    }\n",
       "</style>\n",
       "<table border=\"1\" class=\"dataframe\">\n",
       "  <thead>\n",
       "    <tr style=\"text-align: right;\">\n",
       "      <th></th>\n",
       "      <th>radcor</th>\n",
       "    </tr>\n",
       "    <tr>\n",
       "      <th>energy</th>\n",
       "      <th></th>\n",
       "    </tr>\n",
       "  </thead>\n",
       "  <tbody>\n",
       "    <tr>\n",
       "      <th>525.0</th>\n",
       "      <td>0.863528</td>\n",
       "    </tr>\n",
       "    <tr>\n",
       "      <th>540.0</th>\n",
       "      <td>0.861685</td>\n",
       "    </tr>\n",
       "    <tr>\n",
       "      <th>550.0</th>\n",
       "      <td>0.867511</td>\n",
       "    </tr>\n",
       "    <tr>\n",
       "      <th>562.5</th>\n",
       "      <td>0.874765</td>\n",
       "    </tr>\n",
       "    <tr>\n",
       "      <th>575.0</th>\n",
       "      <td>0.881186</td>\n",
       "    </tr>\n",
       "  </tbody>\n",
       "</table>\n",
       "</div>"
      ],
      "text/plain": [
       "          radcor\n",
       "energy          \n",
       "525.0   0.863528\n",
       "540.0   0.861685\n",
       "550.0   0.867511\n",
       "562.5   0.874765\n",
       "575.0   0.881186"
      ]
     },
     "execution_count": 24,
     "metadata": {},
     "output_type": "execute_result"
    }
   ],
   "source": [
    "radcor.head()"
   ]
  },
  {
   "cell_type": "code",
   "execution_count": 25,
   "metadata": {},
   "outputs": [],
   "source": [
    "cs11['rad'] = np.interp(cs11.Emean, radcor.index, radcor.radcor)\n",
    "cs12['rad'] = np.interp(cs12.Emean, radcor.index, radcor.radcor)\n",
    "cs17['rad'] = np.interp(cs17.Emean, radcor.index, radcor.radcor)\n",
    "cs19['rad'] = np.interp(cs19.Emean, radcor.index, radcor.radcor)"
   ]
  },
  {
   "cell_type": "code",
   "execution_count": 26,
   "metadata": {},
   "outputs": [],
   "source": [
    "def born(data):\n",
    "    data['born'] = data.CS/data.rad\n",
    "    data['born_err'] = data.dCS/data.rad"
   ]
  },
  {
   "cell_type": "code",
   "execution_count": 27,
   "metadata": {},
   "outputs": [],
   "source": [
    "born(cs11)\n",
    "born(cs12)\n",
    "born(cs17)\n",
    "born(cs19)"
   ]
  },
  {
   "cell_type": "code",
   "execution_count": 28,
   "metadata": {},
   "outputs": [
    {
     "data": {
      "text/plain": [
       "<matplotlib.legend.Legend at 0x7fa0474d7e80>"
      ]
     },
     "execution_count": 28,
     "metadata": {},
     "output_type": "execute_result"
    },
    {
     "data": {
      "image/png": "[encoded data removed]",
      "text/plain": [
       "<Figure size 1152x720 with 1 Axes>"
      ]
     },
     "metadata": {},
     "output_type": "display_data"
    }
   ],
   "source": [
    "plt.errorbar(cs19.index*2e-3, cs19.born, yerr=cs19.born_err, fmt='kd', elinewidth=3, ms=10, label='2019')\n",
    "plt.errorbar(cs17.index*2e-3, cs17.born, yerr=cs17.born_err, fmt='g^', elinewidth=3, ms=10, label='2017')\n",
    "plt.errorbar(cs12.index*2e-3, cs12.born, yerr=cs12.born_err, fmt='bp', elinewidth=3, ms=10, label='2012')\n",
    "plt.errorbar(cs11.index*2e-3, cs11.born, yerr=cs11.born_err, fmt='rv', elinewidth=3, ms=10, label='2011')\n",
    "plt.yscale('log')\n",
    "ax = plt.gca()\n",
    "ax.legend(fontsize=20)\n",
    "#plt.savefig('cs.svg')"
   ]
  },
  {
   "cell_type": "code",
   "execution_count": null,
   "metadata": {},
   "outputs": [],
   "source": []
  }
 ],
 "metadata": {
  "kernelspec": {
   "display_name": "Python 3",
   "language": "python",
   "name": "python3"
  },
  "language_info": {
   "codemirror_mode": {
    "name": "ipython",
    "version": 3
   },
   "file_extension": ".py",
   "mimetype": "text/x-python",
   "name": "python",
   "nbconvert_exporter": "python",
   "pygments_lexer": "ipython3",
   "version": "3.6.8"
  }
 },
 "nbformat": 4,
 "nbformat_minor": 2
}
