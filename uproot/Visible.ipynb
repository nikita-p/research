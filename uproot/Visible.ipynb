{
 "cells": [
  {
   "cell_type": "code",
   "execution_count": 1,
   "metadata": {},
   "outputs": [],
   "source": [
    "import pandas as pd\n",
    "import numpy as np\n",
    "import matplotlib.pyplot as plt\n",
    "import seaborn as sns\n",
    "%matplotlib inline"
   ]
  },
  {
   "cell_type": "code",
   "execution_count": 2,
   "metadata": {},
   "outputs": [],
   "source": [
    "sns.set(rc={'figure.figsize':(16,10)})\n",
    "plt.style.use('seaborn-whitegrid')"
   ]
  },
  {
   "cell_type": "code",
   "execution_count": 3,
   "metadata": {},
   "outputs": [],
   "source": [
    "year = '11'"
   ]
  },
  {
   "cell_type": "code",
   "execution_count": 87,
   "metadata": {},
   "outputs": [],
   "source": [
    "data = pd.read_csv(f'../outputs/{year}/out{year}.csv', index_col='Unnamed: 0')\n",
    "triggers = pd.read_csv(f'../outputs/{year}/triggers{year}.csv', index_col='label')\n",
    "reg_eff = pd.read_csv(f'../outputs/model/outmodel.csv', index_col='Unnamed: 0')"
   ]
  },
  {
   "cell_type": "code",
   "execution_count": 94,
   "metadata": {},
   "outputs": [
    {
     "data": {
      "text/html": [
       "<div>\n",
       "<style scoped>\n",
       "    .dataframe tbody tr th:only-of-type {\n",
       "        vertical-align: middle;\n",
       "    }\n",
       "\n",
       "    .dataframe tbody tr th {\n",
       "        vertical-align: top;\n",
       "    }\n",
       "\n",
       "    .dataframe thead th {\n",
       "        text-align: right;\n",
       "    }\n",
       "</style>\n",
       "<table border=\"1\" class=\"dataframe\">\n",
       "  <thead>\n",
       "    <tr style=\"text-align: right;\">\n",
       "      <th></th>\n",
       "      <th>Nsig</th>\n",
       "      <th>dNsig</th>\n",
       "      <th>Emean</th>\n",
       "      <th>dEmax</th>\n",
       "      <th>dEmin</th>\n",
       "      <th>lum</th>\n",
       "      <th>err</th>\n",
       "    </tr>\n",
       "  </thead>\n",
       "  <tbody>\n",
       "    <tr>\n",
       "      <td>525.0</td>\n",
       "      <td>810.42</td>\n",
       "      <td>29.27</td>\n",
       "      <td>523.58</td>\n",
       "      <td>0.0</td>\n",
       "      <td>-0.0</td>\n",
       "      <td>469.339</td>\n",
       "      <td>1.10750</td>\n",
       "    </tr>\n",
       "    <tr>\n",
       "      <td>537.5</td>\n",
       "      <td>885.56</td>\n",
       "      <td>30.26</td>\n",
       "      <td>537.41</td>\n",
       "      <td>0.0</td>\n",
       "      <td>-0.0</td>\n",
       "      <td>554.231</td>\n",
       "      <td>1.22073</td>\n",
       "    </tr>\n",
       "    <tr>\n",
       "      <td>550.0</td>\n",
       "      <td>379.98</td>\n",
       "      <td>20.27</td>\n",
       "      <td>548.44</td>\n",
       "      <td>0.0</td>\n",
       "      <td>-0.0</td>\n",
       "      <td>493.501</td>\n",
       "      <td>1.17935</td>\n",
       "    </tr>\n",
       "    <tr>\n",
       "      <td>562.5</td>\n",
       "      <td>385.34</td>\n",
       "      <td>20.18</td>\n",
       "      <td>562.13</td>\n",
       "      <td>-0.0</td>\n",
       "      <td>0.0</td>\n",
       "      <td>549.094</td>\n",
       "      <td>1.27306</td>\n",
       "    </tr>\n",
       "    <tr>\n",
       "      <td>575.0</td>\n",
       "      <td>158.11</td>\n",
       "      <td>13.23</td>\n",
       "      <td>575.31</td>\n",
       "      <td>0.0</td>\n",
       "      <td>-0.0</td>\n",
       "      <td>493.710</td>\n",
       "      <td>1.23988</td>\n",
       "    </tr>\n",
       "  </tbody>\n",
       "</table>\n",
       "</div>"
      ],
      "text/plain": [
       "         Nsig  dNsig   Emean  dEmax  dEmin      lum      err\n",
       "525.0  810.42  29.27  523.58    0.0   -0.0  469.339  1.10750\n",
       "537.5  885.56  30.26  537.41    0.0   -0.0  554.231  1.22073\n",
       "550.0  379.98  20.27  548.44    0.0   -0.0  493.501  1.17935\n",
       "562.5  385.34  20.18  562.13   -0.0    0.0  549.094  1.27306\n",
       "575.0  158.11  13.23  575.31    0.0   -0.0  493.710  1.23988"
      ]
     },
     "execution_count": 94,
     "metadata": {},
     "output_type": "execute_result"
    }
   ],
   "source": [
    "data.head()"
   ]
  },
  {
   "cell_type": "markdown",
   "metadata": {},
   "source": [
    "Rewrite luminosities"
   ]
  },
  {
   "cell_type": "code",
   "execution_count": 89,
   "metadata": {},
   "outputs": [],
   "source": [
    "lum = pd.read_csv(f'../inputs/{year}/lum', index_col='label')"
   ]
  },
  {
   "cell_type": "code",
   "execution_count": 90,
   "metadata": {},
   "outputs": [],
   "source": [
    "data.drop('lum', axis=1, inplace=True)"
   ]
  },
  {
   "cell_type": "code",
   "execution_count": 91,
   "metadata": {},
   "outputs": [
    {
     "data": {
      "text/html": [
       "<div>\n",
       "<style scoped>\n",
       "    .dataframe tbody tr th:only-of-type {\n",
       "        vertical-align: middle;\n",
       "    }\n",
       "\n",
       "    .dataframe tbody tr th {\n",
       "        vertical-align: top;\n",
       "    }\n",
       "\n",
       "    .dataframe thead th {\n",
       "        text-align: right;\n",
       "    }\n",
       "</style>\n",
       "<table border=\"1\" class=\"dataframe\">\n",
       "  <thead>\n",
       "    <tr style=\"text-align: right;\">\n",
       "      <th></th>\n",
       "      <th>lum</th>\n",
       "      <th>err</th>\n",
       "    </tr>\n",
       "    <tr>\n",
       "      <th>label</th>\n",
       "      <th></th>\n",
       "      <th></th>\n",
       "    </tr>\n",
       "  </thead>\n",
       "  <tbody>\n",
       "    <tr>\n",
       "      <td>525.0</td>\n",
       "      <td>469.339</td>\n",
       "      <td>1.10750</td>\n",
       "    </tr>\n",
       "    <tr>\n",
       "      <td>550.0</td>\n",
       "      <td>493.501</td>\n",
       "      <td>1.17935</td>\n",
       "    </tr>\n",
       "    <tr>\n",
       "      <td>575.0</td>\n",
       "      <td>493.710</td>\n",
       "      <td>1.23988</td>\n",
       "    </tr>\n",
       "    <tr>\n",
       "      <td>600.0</td>\n",
       "      <td>557.452</td>\n",
       "      <td>1.38228</td>\n",
       "    </tr>\n",
       "    <tr>\n",
       "      <td>625.0</td>\n",
       "      <td>411.009</td>\n",
       "      <td>1.22550</td>\n",
       "    </tr>\n",
       "  </tbody>\n",
       "</table>\n",
       "</div>"
      ],
      "text/plain": [
       "           lum      err\n",
       "label                  \n",
       "525.0  469.339  1.10750\n",
       "550.0  493.501  1.17935\n",
       "575.0  493.710  1.23988\n",
       "600.0  557.452  1.38228\n",
       "625.0  411.009  1.22550"
      ]
     },
     "execution_count": 91,
     "metadata": {},
     "output_type": "execute_result"
    }
   ],
   "source": [
    "lum.head()"
   ]
  },
  {
   "cell_type": "code",
   "execution_count": 93,
   "metadata": {},
   "outputs": [],
   "source": [
    "data = data.join(lum)"
   ]
  },
  {
   "cell_type": "markdown",
   "metadata": {},
   "source": [
    "Triggers"
   ]
  },
  {
   "cell_type": "code",
   "execution_count": 95,
   "metadata": {},
   "outputs": [
    {
     "data": {
      "text/html": [
       "<div>\n",
       "<style scoped>\n",
       "    .dataframe tbody tr th:only-of-type {\n",
       "        vertical-align: middle;\n",
       "    }\n",
       "\n",
       "    .dataframe tbody tr th {\n",
       "        vertical-align: top;\n",
       "    }\n",
       "\n",
       "    .dataframe thead th {\n",
       "        text-align: right;\n",
       "    }\n",
       "</style>\n",
       "<table border=\"1\" class=\"dataframe\">\n",
       "  <thead>\n",
       "    <tr style=\"text-align: right;\">\n",
       "      <th></th>\n",
       "      <th>TF</th>\n",
       "      <th>CF</th>\n",
       "      <th>TC</th>\n",
       "      <th>eTF</th>\n",
       "      <th>eCF</th>\n",
       "      <th>eff</th>\n",
       "      <th>TrigEff</th>\n",
       "      <th>vTF</th>\n",
       "      <th>vCF</th>\n",
       "      <th>TrigErr</th>\n",
       "    </tr>\n",
       "    <tr>\n",
       "      <th>label</th>\n",
       "      <th></th>\n",
       "      <th></th>\n",
       "      <th></th>\n",
       "      <th></th>\n",
       "      <th></th>\n",
       "      <th></th>\n",
       "      <th></th>\n",
       "      <th></th>\n",
       "      <th></th>\n",
       "      <th></th>\n",
       "    </tr>\n",
       "  </thead>\n",
       "  <tbody>\n",
       "    <tr>\n",
       "      <td>525.0</td>\n",
       "      <td>318.0</td>\n",
       "      <td>384.0</td>\n",
       "      <td>152.0</td>\n",
       "      <td>0.28</td>\n",
       "      <td>0.32</td>\n",
       "      <td>0.52</td>\n",
       "      <td>0.52</td>\n",
       "      <td>0.02</td>\n",
       "      <td>0.02</td>\n",
       "      <td>0.02</td>\n",
       "    </tr>\n",
       "    <tr>\n",
       "      <td>537.5</td>\n",
       "      <td>508.0</td>\n",
       "      <td>20.0</td>\n",
       "      <td>393.0</td>\n",
       "      <td>0.95</td>\n",
       "      <td>0.44</td>\n",
       "      <td>0.97</td>\n",
       "      <td>0.97</td>\n",
       "      <td>0.01</td>\n",
       "      <td>0.02</td>\n",
       "      <td>0.01</td>\n",
       "    </tr>\n",
       "    <tr>\n",
       "      <td>550.0</td>\n",
       "      <td>235.0</td>\n",
       "      <td>62.0</td>\n",
       "      <td>103.0</td>\n",
       "      <td>0.62</td>\n",
       "      <td>0.31</td>\n",
       "      <td>0.74</td>\n",
       "      <td>0.74</td>\n",
       "      <td>0.04</td>\n",
       "      <td>0.02</td>\n",
       "      <td>0.03</td>\n",
       "    </tr>\n",
       "    <tr>\n",
       "      <td>562.5</td>\n",
       "      <td>237.0</td>\n",
       "      <td>9.0</td>\n",
       "      <td>168.0</td>\n",
       "      <td>0.94</td>\n",
       "      <td>0.42</td>\n",
       "      <td>0.97</td>\n",
       "      <td>0.97</td>\n",
       "      <td>0.02</td>\n",
       "      <td>0.02</td>\n",
       "      <td>0.01</td>\n",
       "    </tr>\n",
       "    <tr>\n",
       "      <td>575.0</td>\n",
       "      <td>97.0</td>\n",
       "      <td>27.0</td>\n",
       "      <td>45.0</td>\n",
       "      <td>0.62</td>\n",
       "      <td>0.32</td>\n",
       "      <td>0.74</td>\n",
       "      <td>0.74</td>\n",
       "      <td>0.06</td>\n",
       "      <td>0.04</td>\n",
       "      <td>0.04</td>\n",
       "    </tr>\n",
       "  </tbody>\n",
       "</table>\n",
       "</div>"
      ],
      "text/plain": [
       "          TF     CF     TC   eTF   eCF   eff  TrigEff   vTF   vCF  TrigErr\n",
       "label                                                                     \n",
       "525.0  318.0  384.0  152.0  0.28  0.32  0.52     0.52  0.02  0.02     0.02\n",
       "537.5  508.0   20.0  393.0  0.95  0.44  0.97     0.97  0.01  0.02     0.01\n",
       "550.0  235.0   62.0  103.0  0.62  0.31  0.74     0.74  0.04  0.02     0.03\n",
       "562.5  237.0    9.0  168.0  0.94  0.42  0.97     0.97  0.02  0.02     0.01\n",
       "575.0   97.0   27.0   45.0  0.62  0.32  0.74     0.74  0.06  0.04     0.04"
      ]
     },
     "execution_count": 95,
     "metadata": {},
     "output_type": "execute_result"
    }
   ],
   "source": [
    "triggers.head()"
   ]
  },
  {
   "cell_type": "code",
   "execution_count": 96,
   "metadata": {},
   "outputs": [
    {
     "data": {
      "text/html": [
       "<div>\n",
       "<style scoped>\n",
       "    .dataframe tbody tr th:only-of-type {\n",
       "        vertical-align: middle;\n",
       "    }\n",
       "\n",
       "    .dataframe tbody tr th {\n",
       "        vertical-align: top;\n",
       "    }\n",
       "\n",
       "    .dataframe thead th {\n",
       "        text-align: right;\n",
       "    }\n",
       "</style>\n",
       "<table border=\"1\" class=\"dataframe\">\n",
       "  <thead>\n",
       "    <tr style=\"text-align: right;\">\n",
       "      <th></th>\n",
       "      <th>Nsig</th>\n",
       "      <th>dNsig</th>\n",
       "      <th>lum</th>\n",
       "      <th>dEmin</th>\n",
       "      <th>dEmax</th>\n",
       "      <th>Emean</th>\n",
       "    </tr>\n",
       "  </thead>\n",
       "  <tbody>\n",
       "    <tr>\n",
       "      <td>550.0</td>\n",
       "      <td>1800.36</td>\n",
       "      <td>44.01</td>\n",
       "      <td>7163</td>\n",
       "      <td>0.0</td>\n",
       "      <td>0.0</td>\n",
       "      <td>550.0</td>\n",
       "    </tr>\n",
       "    <tr>\n",
       "      <td>562.5</td>\n",
       "      <td>1573.35</td>\n",
       "      <td>41.42</td>\n",
       "      <td>6306</td>\n",
       "      <td>0.0</td>\n",
       "      <td>0.0</td>\n",
       "      <td>562.5</td>\n",
       "    </tr>\n",
       "    <tr>\n",
       "      <td>575.0</td>\n",
       "      <td>1374.38</td>\n",
       "      <td>38.87</td>\n",
       "      <td>5516</td>\n",
       "      <td>0.0</td>\n",
       "      <td>0.0</td>\n",
       "      <td>575.0</td>\n",
       "    </tr>\n",
       "    <tr>\n",
       "      <td>587.5</td>\n",
       "      <td>1311.21</td>\n",
       "      <td>37.58</td>\n",
       "      <td>5116</td>\n",
       "      <td>0.0</td>\n",
       "      <td>0.0</td>\n",
       "      <td>587.5</td>\n",
       "    </tr>\n",
       "    <tr>\n",
       "      <td>600.0</td>\n",
       "      <td>1134.09</td>\n",
       "      <td>35.69</td>\n",
       "      <td>4606</td>\n",
       "      <td>0.0</td>\n",
       "      <td>0.0</td>\n",
       "      <td>600.0</td>\n",
       "    </tr>\n",
       "  </tbody>\n",
       "</table>\n",
       "</div>"
      ],
      "text/plain": [
       "          Nsig  dNsig   lum  dEmin  dEmax  Emean\n",
       "550.0  1800.36  44.01  7163    0.0    0.0  550.0\n",
       "562.5  1573.35  41.42  6306    0.0    0.0  562.5\n",
       "575.0  1374.38  38.87  5516    0.0    0.0  575.0\n",
       "587.5  1311.21  37.58  5116    0.0    0.0  587.5\n",
       "600.0  1134.09  35.69  4606    0.0    0.0  600.0"
      ]
     },
     "execution_count": 96,
     "metadata": {},
     "output_type": "execute_result"
    }
   ],
   "source": [
    "reg_eff.head()"
   ]
  },
  {
   "cell_type": "markdown",
   "metadata": {},
   "source": [
    "Get N/L"
   ]
  },
  {
   "cell_type": "code",
   "execution_count": 97,
   "metadata": {},
   "outputs": [],
   "source": [
    "data['CSvis'] = data['Nsig']/data['lum']\n",
    "data['dCSvis'] = data['dNsig']/data['lum']"
   ]
  },
  {
   "cell_type": "markdown",
   "metadata": {},
   "source": [
    "Trigger join"
   ]
  },
  {
   "cell_type": "code",
   "execution_count": 98,
   "metadata": {},
   "outputs": [],
   "source": [
    "data = data.join(triggers[['TrigEff', 'TrigErr']], how='left')"
   ]
  },
  {
   "cell_type": "code",
   "execution_count": 99,
   "metadata": {},
   "outputs": [],
   "source": [
    "data = data.drop(['Nsig', 'dNsig', 'lum'], axis=1)"
   ]
  },
  {
   "cell_type": "markdown",
   "metadata": {},
   "source": [
    "Get Reg_eff"
   ]
  },
  {
   "cell_type": "code",
   "execution_count": 100,
   "metadata": {},
   "outputs": [],
   "source": [
    "reg_eff['RegEff'] = reg_eff['Nsig']/reg_eff['lum']\n",
    "reg_eff['RegErr'] = reg_eff['dNsig']/reg_eff['lum']\n",
    "reg_eff.drop(['dEmax', 'dEmin', 'lum', 'Nsig', 'dNsig'], axis=1, inplace=True)"
   ]
  },
  {
   "cell_type": "markdown",
   "metadata": {},
   "source": [
    "Reg eff join"
   ]
  },
  {
   "cell_type": "code",
   "execution_count": 101,
   "metadata": {},
   "outputs": [],
   "source": [
    "data['RegEff'] = data.apply(lambda x: np.interp(x['Emean'], reg_eff.Emean, reg_eff.RegEff), axis=1)\n",
    "data['RegErr'] = data.apply(lambda x: np.interp(x['Emean'], reg_eff.Emean, reg_eff.RegErr), axis=1)"
   ]
  },
  {
   "cell_type": "markdown",
   "metadata": {},
   "source": [
    "Recalc cross section"
   ]
  },
  {
   "cell_type": "code",
   "execution_count": 102,
   "metadata": {},
   "outputs": [],
   "source": [
    "data['CS'] = data['CSvis']/data['TrigEff']/data['RegEff'];\n",
    "data['dCS'] = data['CS']*np.sqrt( np.square( data['dCSvis']/data['CSvis'] ) + \n",
    "                                np.square( data['TrigErr']/data['TrigEff'] ) + \n",
    "                                np.square( data['RegErr']/data['RegEff'] ))"
   ]
  },
  {
   "cell_type": "code",
   "execution_count": 103,
   "metadata": {},
   "outputs": [],
   "source": [
    "data.drop(['CSvis', 'dCSvis', 'TrigEff', 'TrigErr', 'RegEff', 'RegErr'], axis=1, inplace=True)"
   ]
  },
  {
   "cell_type": "code",
   "execution_count": 104,
   "metadata": {},
   "outputs": [],
   "source": [
    "data.to_csv('../outputs/'+year+'/result_new.csv')"
   ]
  },
  {
   "cell_type": "markdown",
   "metadata": {},
   "source": [
    "## Draw cross sections"
   ]
  },
  {
   "cell_type": "code",
   "execution_count": 4,
   "metadata": {},
   "outputs": [],
   "source": [
    "cs11 = pd.read_csv('../outputs/11/result_new.csv', index_col=['Unnamed: 0'])\n",
    "cs12 = pd.read_csv('../outputs/12/result_new.csv', index_col=['Unnamed: 0'])\n",
    "cs17 = pd.read_csv('../outputs/17/result_new.csv', index_col=['Unnamed: 0'])\n",
    "cs19 = pd.read_csv('../outputs/19/result_new.csv', index_col=['Unnamed: 0'])"
   ]
  },
  {
   "cell_type": "code",
   "execution_count": 5,
   "metadata": {},
   "outputs": [],
   "source": [
    "radcor = pd.read_csv('rad_cors.dat', delimiter='\\t', names=['energy', 'radcor'], index_col=['energy'])"
   ]
  },
  {
   "cell_type": "code",
   "execution_count": 6,
   "metadata": {},
   "outputs": [
    {
     "data": {
      "text/html": [
       "<div>\n",
       "<style scoped>\n",
       "    .dataframe tbody tr th:only-of-type {\n",
       "        vertical-align: middle;\n",
       "    }\n",
       "\n",
       "    .dataframe tbody tr th {\n",
       "        vertical-align: top;\n",
       "    }\n",
       "\n",
       "    .dataframe thead th {\n",
       "        text-align: right;\n",
       "    }\n",
       "</style>\n",
       "<table border=\"1\" class=\"dataframe\">\n",
       "  <thead>\n",
       "    <tr style=\"text-align: right;\">\n",
       "      <th></th>\n",
       "      <th>dEmin</th>\n",
       "      <th>dEmax</th>\n",
       "      <th>Emean</th>\n",
       "      <th>err</th>\n",
       "      <th>CS</th>\n",
       "      <th>dCS</th>\n",
       "    </tr>\n",
       "  </thead>\n",
       "  <tbody>\n",
       "    <tr>\n",
       "      <td>950.0</td>\n",
       "      <td>0.0</td>\n",
       "      <td>0.0</td>\n",
       "      <td>950.15</td>\n",
       "      <td>3.89619</td>\n",
       "      <td>0.046547</td>\n",
       "      <td>0.015929</td>\n",
       "    </tr>\n",
       "    <tr>\n",
       "      <td>955.0</td>\n",
       "      <td>0.0</td>\n",
       "      <td>0.0</td>\n",
       "      <td>956.05</td>\n",
       "      <td>3.14302</td>\n",
       "      <td>0.068612</td>\n",
       "      <td>0.026709</td>\n",
       "    </tr>\n",
       "    <tr>\n",
       "      <td>962.5</td>\n",
       "      <td>0.0</td>\n",
       "      <td>0.0</td>\n",
       "      <td>962.82</td>\n",
       "      <td>3.99610</td>\n",
       "      <td>0.077600</td>\n",
       "      <td>0.016723</td>\n",
       "    </tr>\n",
       "    <tr>\n",
       "      <td>975.0</td>\n",
       "      <td>0.0</td>\n",
       "      <td>0.0</td>\n",
       "      <td>976.21</td>\n",
       "      <td>5.68205</td>\n",
       "      <td>0.005780</td>\n",
       "      <td>0.003647</td>\n",
       "    </tr>\n",
       "    <tr>\n",
       "      <td>987.5</td>\n",
       "      <td>0.0</td>\n",
       "      <td>0.0</td>\n",
       "      <td>987.80</td>\n",
       "      <td>4.35670</td>\n",
       "      <td>0.086559</td>\n",
       "      <td>0.017083</td>\n",
       "    </tr>\n",
       "  </tbody>\n",
       "</table>\n",
       "</div>"
      ],
      "text/plain": [
       "       dEmin  dEmax   Emean      err        CS       dCS\n",
       "950.0    0.0    0.0  950.15  3.89619  0.046547  0.015929\n",
       "955.0    0.0    0.0  956.05  3.14302  0.068612  0.026709\n",
       "962.5    0.0    0.0  962.82  3.99610  0.077600  0.016723\n",
       "975.0    0.0    0.0  976.21  5.68205  0.005780  0.003647\n",
       "987.5    0.0    0.0  987.80  4.35670  0.086559  0.017083"
      ]
     },
     "execution_count": 6,
     "metadata": {},
     "output_type": "execute_result"
    }
   ],
   "source": [
    "cs19.tail()"
   ]
  },
  {
   "cell_type": "code",
   "execution_count": 7,
   "metadata": {},
   "outputs": [
    {
     "data": {
      "text/html": [
       "<div>\n",
       "<style scoped>\n",
       "    .dataframe tbody tr th:only-of-type {\n",
       "        vertical-align: middle;\n",
       "    }\n",
       "\n",
       "    .dataframe tbody tr th {\n",
       "        vertical-align: top;\n",
       "    }\n",
       "\n",
       "    .dataframe thead th {\n",
       "        text-align: right;\n",
       "    }\n",
       "</style>\n",
       "<table border=\"1\" class=\"dataframe\">\n",
       "  <thead>\n",
       "    <tr style=\"text-align: right;\">\n",
       "      <th></th>\n",
       "      <th>radcor</th>\n",
       "    </tr>\n",
       "    <tr>\n",
       "      <th>energy</th>\n",
       "      <th></th>\n",
       "    </tr>\n",
       "  </thead>\n",
       "  <tbody>\n",
       "    <tr>\n",
       "      <td>525.0</td>\n",
       "      <td>0.863528</td>\n",
       "    </tr>\n",
       "    <tr>\n",
       "      <td>540.0</td>\n",
       "      <td>0.861685</td>\n",
       "    </tr>\n",
       "    <tr>\n",
       "      <td>550.0</td>\n",
       "      <td>0.867511</td>\n",
       "    </tr>\n",
       "    <tr>\n",
       "      <td>562.5</td>\n",
       "      <td>0.874765</td>\n",
       "    </tr>\n",
       "    <tr>\n",
       "      <td>575.0</td>\n",
       "      <td>0.881186</td>\n",
       "    </tr>\n",
       "  </tbody>\n",
       "</table>\n",
       "</div>"
      ],
      "text/plain": [
       "          radcor\n",
       "energy          \n",
       "525.0   0.863528\n",
       "540.0   0.861685\n",
       "550.0   0.867511\n",
       "562.5   0.874765\n",
       "575.0   0.881186"
      ]
     },
     "execution_count": 7,
     "metadata": {},
     "output_type": "execute_result"
    }
   ],
   "source": [
    "radcor.head()"
   ]
  },
  {
   "cell_type": "code",
   "execution_count": 8,
   "metadata": {},
   "outputs": [],
   "source": [
    "cs11['rad'] = np.interp(cs11.Emean, radcor.index, radcor.radcor)\n",
    "cs12['rad'] = np.interp(cs12.Emean, radcor.index, radcor.radcor)\n",
    "cs17['rad'] = np.interp(cs17.Emean, radcor.index, radcor.radcor)\n",
    "cs19['rad'] = np.interp(cs19.Emean, radcor.index, radcor.radcor)"
   ]
  },
  {
   "cell_type": "code",
   "execution_count": 9,
   "metadata": {},
   "outputs": [],
   "source": [
    "def born(data):\n",
    "    data['born'] = data.CS/data.rad\n",
    "    data['born_err'] = data.dCS/data.rad"
   ]
  },
  {
   "cell_type": "code",
   "execution_count": 10,
   "metadata": {},
   "outputs": [],
   "source": [
    "born(cs11)\n",
    "born(cs12)\n",
    "born(cs17)\n",
    "born(cs19)"
   ]
  },
  {
   "cell_type": "code",
   "execution_count": 120,
   "metadata": {},
   "outputs": [
    {
     "data": {
      "text/plain": [
       "<matplotlib.legend.Legend at 0x20f0845b708>"
      ]
     },
     "execution_count": 120,
     "metadata": {},
     "output_type": "execute_result"
    },
    {
     "data": {
      "image/png": "[encoded data removed]",
      "text/plain": [
       "<Figure size 1152x720 with 1 Axes>"
      ]
     },
     "metadata": {},
     "output_type": "display_data"
    }
   ],
   "source": [
    "plt.errorbar(cs19.index*2e-3, cs19.born, yerr=cs19.born_err, fmt='kd', elinewidth=3, ms=10, label='2019')\n",
    "plt.errorbar(cs17.index*2e-3, cs17.born, yerr=cs17.born_err, fmt='g^', elinewidth=3, ms=10, label='2017')\n",
    "plt.errorbar(cs12.index*2e-3, cs12.born, yerr=cs12.born_err, fmt='bp', elinewidth=3, ms=10, label='2012')\n",
    "plt.errorbar(cs11.index*2e-3, cs11.born, yerr=cs11.born_err, fmt='rv', elinewidth=3, ms=10, label='2011')\n",
    "plt.yscale('log')\n",
    "plt.xlabel('$\\sqrt{s}$, GeV', fontsize=20)\n",
    "plt.ylabel('$\\sigma$, nb', fontsize=20)\n",
    "ax = plt.gca()\n",
    "ax.tick_params(labelsize=18)\n",
    "ax.legend(fontsize=20, frameon=True)\n",
    "#plt.savefig('cs.svg')"
   ]
  },
  {
   "cell_type": "code",
   "execution_count": null,
   "metadata": {},
   "outputs": [],
   "source": []
  }
 ],
 "metadata": {
  "kernelspec": {
   "display_name": "Python 3",
   "language": "python",
   "name": "python3"
  },
  "language_info": {
   "codemirror_mode": {
    "name": "ipython",
    "version": 3
   },
   "file_extension": ".py",
   "mimetype": "text/x-python",
   "name": "python",
   "nbconvert_exporter": "python",
   "pygments_lexer": "ipython3",
   "version": "3.7.4"
  }
 },
 "nbformat": 4,
 "nbformat_minor": 2
}
