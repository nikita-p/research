{
 "cells": [
  {
   "cell_type": "code",
   "execution_count": 1,
   "metadata": {},
   "outputs": [],
   "source": [
    "import pandas as pd\n",
    "import numpy as np\n",
    "import matplotlib.pyplot as plt\n",
    "import seaborn as sns\n",
    "%matplotlib inline"
   ]
  },
  {
   "cell_type": "code",
   "execution_count": 2,
   "metadata": {},
   "outputs": [],
   "source": [
    "sns.set(rc={'figure.figsize':(16,10)})\n",
    "plt.style.use('seaborn-whitegrid')"
   ]
  },
  {
   "cell_type": "code",
   "execution_count": 86,
   "metadata": {},
   "outputs": [],
   "source": [
    "year = '17'\n",
    "model = 'model_old'"
   ]
  },
  {
   "cell_type": "code",
   "execution_count": 87,
   "metadata": {},
   "outputs": [],
   "source": [
    "data = pd.read_csv(f'../outputs/{year}/tables/signal_table{year}.csv', index_col='name')\n",
    "triggers = pd.read_csv(f'../outputs/{year}/tables/triggers{year}.csv', index_col='name')\n",
    "reg_eff = pd.read_csv(f'../outputs/{model}/tables/signal_table{model}.csv', index_col='name')"
   ]
  },
  {
   "cell_type": "code",
   "execution_count": 88,
   "metadata": {},
   "outputs": [
    {
     "data": {
      "text/html": [
       "<div>\n",
       "<style scoped>\n",
       "    .dataframe tbody tr th:only-of-type {\n",
       "        vertical-align: middle;\n",
       "    }\n",
       "\n",
       "    .dataframe tbody tr th {\n",
       "        vertical-align: top;\n",
       "    }\n",
       "\n",
       "    .dataframe thead th {\n",
       "        text-align: right;\n",
       "    }\n",
       "</style>\n",
       "<table border=\"1\" class=\"dataframe\">\n",
       "  <thead>\n",
       "    <tr style=\"text-align: right;\">\n",
       "      <th></th>\n",
       "      <th>lum</th>\n",
       "      <th>dEmin</th>\n",
       "      <th>dEmax</th>\n",
       "      <th>Emean</th>\n",
       "      <th>Nsig</th>\n",
       "      <th>dNsig</th>\n",
       "    </tr>\n",
       "    <tr>\n",
       "      <th>name</th>\n",
       "      <th></th>\n",
       "      <th></th>\n",
       "      <th></th>\n",
       "      <th></th>\n",
       "      <th></th>\n",
       "      <th></th>\n",
       "    </tr>\n",
       "  </thead>\n",
       "  <tbody>\n",
       "    <tr>\n",
       "      <th>641.0</th>\n",
       "      <td>3097.96</td>\n",
       "      <td>0.00</td>\n",
       "      <td>0.00</td>\n",
       "      <td>641.02</td>\n",
       "      <td>329.45</td>\n",
       "      <td>19.50</td>\n",
       "    </tr>\n",
       "    <tr>\n",
       "      <th>650.0</th>\n",
       "      <td>876.63</td>\n",
       "      <td>0.00</td>\n",
       "      <td>0.00</td>\n",
       "      <td>649.77</td>\n",
       "      <td>99.98</td>\n",
       "      <td>10.00</td>\n",
       "    </tr>\n",
       "    <tr>\n",
       "      <th>675.0</th>\n",
       "      <td>1225.14</td>\n",
       "      <td>0.00</td>\n",
       "      <td>0.00</td>\n",
       "      <td>674.85</td>\n",
       "      <td>85.59</td>\n",
       "      <td>10.04</td>\n",
       "    </tr>\n",
       "    <tr>\n",
       "      <th>700.0</th>\n",
       "      <td>876.66</td>\n",
       "      <td>0.00</td>\n",
       "      <td>0.00</td>\n",
       "      <td>700.56</td>\n",
       "      <td>39.54</td>\n",
       "      <td>6.91</td>\n",
       "    </tr>\n",
       "    <tr>\n",
       "      <th>725.0</th>\n",
       "      <td>1114.22</td>\n",
       "      <td>0.00</td>\n",
       "      <td>0.00</td>\n",
       "      <td>724.94</td>\n",
       "      <td>62.34</td>\n",
       "      <td>8.29</td>\n",
       "    </tr>\n",
       "    <tr>\n",
       "      <th>750.0</th>\n",
       "      <td>1107.58</td>\n",
       "      <td>0.00</td>\n",
       "      <td>0.00</td>\n",
       "      <td>749.55</td>\n",
       "      <td>97.12</td>\n",
       "      <td>10.48</td>\n",
       "    </tr>\n",
       "    <tr>\n",
       "      <th>775.0</th>\n",
       "      <td>970.86</td>\n",
       "      <td>0.00</td>\n",
       "      <td>0.00</td>\n",
       "      <td>774.85</td>\n",
       "      <td>106.98</td>\n",
       "      <td>10.34</td>\n",
       "    </tr>\n",
       "    <tr>\n",
       "      <th>800.0</th>\n",
       "      <td>1241.54</td>\n",
       "      <td>0.00</td>\n",
       "      <td>0.00</td>\n",
       "      <td>800.86</td>\n",
       "      <td>165.80</td>\n",
       "      <td>13.34</td>\n",
       "    </tr>\n",
       "    <tr>\n",
       "      <th>825.0</th>\n",
       "      <td>1381.86</td>\n",
       "      <td>0.00</td>\n",
       "      <td>0.00</td>\n",
       "      <td>825.05</td>\n",
       "      <td>191.62</td>\n",
       "      <td>14.29</td>\n",
       "    </tr>\n",
       "    <tr>\n",
       "      <th>840.0</th>\n",
       "      <td>635.65</td>\n",
       "      <td>0.00</td>\n",
       "      <td>0.00</td>\n",
       "      <td>839.47</td>\n",
       "      <td>80.98</td>\n",
       "      <td>9.61</td>\n",
       "    </tr>\n",
       "    <tr>\n",
       "      <th>850.0</th>\n",
       "      <td>942.09</td>\n",
       "      <td>0.00</td>\n",
       "      <td>0.00</td>\n",
       "      <td>846.81</td>\n",
       "      <td>47.34</td>\n",
       "      <td>7.34</td>\n",
       "    </tr>\n",
       "    <tr>\n",
       "      <th>860.0</th>\n",
       "      <td>922.38</td>\n",
       "      <td>0.00</td>\n",
       "      <td>0.00</td>\n",
       "      <td>857.23</td>\n",
       "      <td>30.04</td>\n",
       "      <td>5.60</td>\n",
       "    </tr>\n",
       "    <tr>\n",
       "      <th>870.0</th>\n",
       "      <td>941.91</td>\n",
       "      <td>0.00</td>\n",
       "      <td>0.00</td>\n",
       "      <td>867.15</td>\n",
       "      <td>19.19</td>\n",
       "      <td>4.78</td>\n",
       "    </tr>\n",
       "    <tr>\n",
       "      <th>900.0</th>\n",
       "      <td>4238.76</td>\n",
       "      <td>17.01</td>\n",
       "      <td>15.74</td>\n",
       "      <td>893.98</td>\n",
       "      <td>37.80</td>\n",
       "      <td>9.12</td>\n",
       "    </tr>\n",
       "    <tr>\n",
       "      <th>935.0</th>\n",
       "      <td>5042.76</td>\n",
       "      <td>10.17</td>\n",
       "      <td>6.99</td>\n",
       "      <td>930.13</td>\n",
       "      <td>34.67</td>\n",
       "      <td>7.01</td>\n",
       "    </tr>\n",
       "    <tr>\n",
       "      <th>937.4</th>\n",
       "      <td>1895.78</td>\n",
       "      <td>0.00</td>\n",
       "      <td>0.00</td>\n",
       "      <td>937.42</td>\n",
       "      <td>10.63</td>\n",
       "      <td>3.95</td>\n",
       "    </tr>\n",
       "    <tr>\n",
       "      <th>938.3</th>\n",
       "      <td>2534.81</td>\n",
       "      <td>0.00</td>\n",
       "      <td>0.00</td>\n",
       "      <td>938.18</td>\n",
       "      <td>6.01</td>\n",
       "      <td>3.00</td>\n",
       "    </tr>\n",
       "    <tr>\n",
       "      <th>938.9</th>\n",
       "      <td>2067.97</td>\n",
       "      <td>0.00</td>\n",
       "      <td>0.00</td>\n",
       "      <td>938.75</td>\n",
       "      <td>19.97</td>\n",
       "      <td>5.96</td>\n",
       "    </tr>\n",
       "    <tr>\n",
       "      <th>939.6</th>\n",
       "      <td>2028.13</td>\n",
       "      <td>0.00</td>\n",
       "      <td>0.00</td>\n",
       "      <td>939.46</td>\n",
       "      <td>13.51</td>\n",
       "      <td>4.52</td>\n",
       "    </tr>\n",
       "    <tr>\n",
       "      <th>940.2</th>\n",
       "      <td>1909.53</td>\n",
       "      <td>0.00</td>\n",
       "      <td>0.00</td>\n",
       "      <td>940.20</td>\n",
       "      <td>5.67</td>\n",
       "      <td>4.39</td>\n",
       "    </tr>\n",
       "    <tr>\n",
       "      <th>940.8</th>\n",
       "      <td>1875.84</td>\n",
       "      <td>0.00</td>\n",
       "      <td>0.00</td>\n",
       "      <td>940.56</td>\n",
       "      <td>11.55</td>\n",
       "      <td>5.01</td>\n",
       "    </tr>\n",
       "    <tr>\n",
       "      <th>960.0</th>\n",
       "      <td>5632.17</td>\n",
       "      <td>15.52</td>\n",
       "      <td>13.84</td>\n",
       "      <td>957.40</td>\n",
       "      <td>36.00</td>\n",
       "      <td>8.25</td>\n",
       "    </tr>\n",
       "    <tr>\n",
       "      <th>990.0</th>\n",
       "      <td>6358.03</td>\n",
       "      <td>14.54</td>\n",
       "      <td>6.81</td>\n",
       "      <td>996.50</td>\n",
       "      <td>15.65</td>\n",
       "      <td>5.11</td>\n",
       "    </tr>\n",
       "  </tbody>\n",
       "</table>\n",
       "</div>"
      ],
      "text/plain": [
       "           lum  dEmin  dEmax   Emean    Nsig  dNsig\n",
       "name                                               \n",
       "641.0  3097.96   0.00   0.00  641.02  329.45  19.50\n",
       "650.0   876.63   0.00   0.00  649.77   99.98  10.00\n",
       "675.0  1225.14   0.00   0.00  674.85   85.59  10.04\n",
       "700.0   876.66   0.00   0.00  700.56   39.54   6.91\n",
       "725.0  1114.22   0.00   0.00  724.94   62.34   8.29\n",
       "750.0  1107.58   0.00   0.00  749.55   97.12  10.48\n",
       "775.0   970.86   0.00   0.00  774.85  106.98  10.34\n",
       "800.0  1241.54   0.00   0.00  800.86  165.80  13.34\n",
       "825.0  1381.86   0.00   0.00  825.05  191.62  14.29\n",
       "840.0   635.65   0.00   0.00  839.47   80.98   9.61\n",
       "850.0   942.09   0.00   0.00  846.81   47.34   7.34\n",
       "860.0   922.38   0.00   0.00  857.23   30.04   5.60\n",
       "870.0   941.91   0.00   0.00  867.15   19.19   4.78\n",
       "900.0  4238.76  17.01  15.74  893.98   37.80   9.12\n",
       "935.0  5042.76  10.17   6.99  930.13   34.67   7.01\n",
       "937.4  1895.78   0.00   0.00  937.42   10.63   3.95\n",
       "938.3  2534.81   0.00   0.00  938.18    6.01   3.00\n",
       "938.9  2067.97   0.00   0.00  938.75   19.97   5.96\n",
       "939.6  2028.13   0.00   0.00  939.46   13.51   4.52\n",
       "940.2  1909.53   0.00   0.00  940.20    5.67   4.39\n",
       "940.8  1875.84   0.00   0.00  940.56   11.55   5.01\n",
       "960.0  5632.17  15.52  13.84  957.40   36.00   8.25\n",
       "990.0  6358.03  14.54   6.81  996.50   15.65   5.11"
      ]
     },
     "execution_count": 88,
     "metadata": {},
     "output_type": "execute_result"
    }
   ],
   "source": [
    "data"
   ]
  },
  {
   "cell_type": "markdown",
   "metadata": {},
   "source": [
    "Triggers"
   ]
  },
  {
   "cell_type": "code",
   "execution_count": 89,
   "metadata": {},
   "outputs": [
    {
     "data": {
      "text/html": [
       "<div>\n",
       "<style scoped>\n",
       "    .dataframe tbody tr th:only-of-type {\n",
       "        vertical-align: middle;\n",
       "    }\n",
       "\n",
       "    .dataframe tbody tr th {\n",
       "        vertical-align: top;\n",
       "    }\n",
       "\n",
       "    .dataframe thead th {\n",
       "        text-align: right;\n",
       "    }\n",
       "</style>\n",
       "<table border=\"1\" class=\"dataframe\">\n",
       "  <thead>\n",
       "    <tr style=\"text-align: right;\">\n",
       "      <th></th>\n",
       "      <th>TF</th>\n",
       "      <th>CF</th>\n",
       "      <th>TC</th>\n",
       "      <th>eTF</th>\n",
       "      <th>eCF</th>\n",
       "      <th>TrigEff</th>\n",
       "      <th>vTF</th>\n",
       "      <th>vCF</th>\n",
       "      <th>TrigErr</th>\n",
       "    </tr>\n",
       "    <tr>\n",
       "      <th>name</th>\n",
       "      <th></th>\n",
       "      <th></th>\n",
       "      <th></th>\n",
       "      <th></th>\n",
       "      <th></th>\n",
       "      <th></th>\n",
       "      <th></th>\n",
       "      <th></th>\n",
       "      <th></th>\n",
       "    </tr>\n",
       "  </thead>\n",
       "  <tbody>\n",
       "    <tr>\n",
       "      <th>939.6</th>\n",
       "      <td>4.0</td>\n",
       "      <td>1.0</td>\n",
       "      <td>12.0</td>\n",
       "      <td>0.87</td>\n",
       "      <td>0.72</td>\n",
       "      <td>0.96</td>\n",
       "      <td>0.08</td>\n",
       "      <td>0.10</td>\n",
       "      <td>0.03</td>\n",
       "    </tr>\n",
       "    <tr>\n",
       "      <th>940.2</th>\n",
       "      <td>3.0</td>\n",
       "      <td>3.0</td>\n",
       "      <td>11.0</td>\n",
       "      <td>0.75</td>\n",
       "      <td>0.75</td>\n",
       "      <td>0.94</td>\n",
       "      <td>0.11</td>\n",
       "      <td>0.11</td>\n",
       "      <td>0.04</td>\n",
       "    </tr>\n",
       "    <tr>\n",
       "      <th>940.8</th>\n",
       "      <td>4.0</td>\n",
       "      <td>3.0</td>\n",
       "      <td>14.0</td>\n",
       "      <td>0.79</td>\n",
       "      <td>0.75</td>\n",
       "      <td>0.95</td>\n",
       "      <td>0.09</td>\n",
       "      <td>0.09</td>\n",
       "      <td>0.03</td>\n",
       "    </tr>\n",
       "    <tr>\n",
       "      <th>960.0</th>\n",
       "      <td>11.0</td>\n",
       "      <td>4.0</td>\n",
       "      <td>32.0</td>\n",
       "      <td>0.87</td>\n",
       "      <td>0.73</td>\n",
       "      <td>0.96</td>\n",
       "      <td>0.05</td>\n",
       "      <td>0.07</td>\n",
       "      <td>0.02</td>\n",
       "    </tr>\n",
       "    <tr>\n",
       "      <th>990.0</th>\n",
       "      <td>14.0</td>\n",
       "      <td>0.0</td>\n",
       "      <td>40.0</td>\n",
       "      <td>0.98</td>\n",
       "      <td>0.73</td>\n",
       "      <td>0.99</td>\n",
       "      <td>0.02</td>\n",
       "      <td>0.06</td>\n",
       "      <td>0.01</td>\n",
       "    </tr>\n",
       "  </tbody>\n",
       "</table>\n",
       "</div>"
      ],
      "text/plain": [
       "         TF   CF    TC   eTF   eCF  TrigEff   vTF   vCF  TrigErr\n",
       "name                                                            \n",
       "939.6   4.0  1.0  12.0  0.87  0.72     0.96  0.08  0.10     0.03\n",
       "940.2   3.0  3.0  11.0  0.75  0.75     0.94  0.11  0.11     0.04\n",
       "940.8   4.0  3.0  14.0  0.79  0.75     0.95  0.09  0.09     0.03\n",
       "960.0  11.0  4.0  32.0  0.87  0.73     0.96  0.05  0.07     0.02\n",
       "990.0  14.0  0.0  40.0  0.98  0.73     0.99  0.02  0.06     0.01"
      ]
     },
     "execution_count": 89,
     "metadata": {},
     "output_type": "execute_result"
    }
   ],
   "source": [
    "triggers.tail()"
   ]
  },
  {
   "cell_type": "code",
   "execution_count": 90,
   "metadata": {},
   "outputs": [
    {
     "data": {
      "text/html": [
       "<div>\n",
       "<style scoped>\n",
       "    .dataframe tbody tr th:only-of-type {\n",
       "        vertical-align: middle;\n",
       "    }\n",
       "\n",
       "    .dataframe tbody tr th {\n",
       "        vertical-align: top;\n",
       "    }\n",
       "\n",
       "    .dataframe thead th {\n",
       "        text-align: right;\n",
       "    }\n",
       "</style>\n",
       "<table border=\"1\" class=\"dataframe\">\n",
       "  <thead>\n",
       "    <tr style=\"text-align: right;\">\n",
       "      <th></th>\n",
       "      <th>lum</th>\n",
       "      <th>dEmin</th>\n",
       "      <th>dEmax</th>\n",
       "      <th>Emean</th>\n",
       "      <th>Nsig</th>\n",
       "      <th>dNsig</th>\n",
       "    </tr>\n",
       "    <tr>\n",
       "      <th>name</th>\n",
       "      <th></th>\n",
       "      <th></th>\n",
       "      <th></th>\n",
       "      <th></th>\n",
       "      <th></th>\n",
       "      <th></th>\n",
       "    </tr>\n",
       "  </thead>\n",
       "  <tbody>\n",
       "    <tr>\n",
       "      <th>550.0</th>\n",
       "      <td>7163</td>\n",
       "      <td>0.0</td>\n",
       "      <td>0.0</td>\n",
       "      <td>550.0</td>\n",
       "      <td>1815.55</td>\n",
       "      <td>45.10</td>\n",
       "    </tr>\n",
       "    <tr>\n",
       "      <th>562.5</th>\n",
       "      <td>6306</td>\n",
       "      <td>0.0</td>\n",
       "      <td>0.0</td>\n",
       "      <td>562.5</td>\n",
       "      <td>1557.16</td>\n",
       "      <td>41.22</td>\n",
       "    </tr>\n",
       "    <tr>\n",
       "      <th>575.0</th>\n",
       "      <td>5516</td>\n",
       "      <td>0.0</td>\n",
       "      <td>0.0</td>\n",
       "      <td>575.0</td>\n",
       "      <td>1360.09</td>\n",
       "      <td>40.02</td>\n",
       "    </tr>\n",
       "    <tr>\n",
       "      <th>587.5</th>\n",
       "      <td>5116</td>\n",
       "      <td>0.0</td>\n",
       "      <td>0.0</td>\n",
       "      <td>587.5</td>\n",
       "      <td>1250.34</td>\n",
       "      <td>36.69</td>\n",
       "    </tr>\n",
       "    <tr>\n",
       "      <th>600.0</th>\n",
       "      <td>4606</td>\n",
       "      <td>0.0</td>\n",
       "      <td>0.0</td>\n",
       "      <td>600.0</td>\n",
       "      <td>1085.48</td>\n",
       "      <td>34.69</td>\n",
       "    </tr>\n",
       "  </tbody>\n",
       "</table>\n",
       "</div>"
      ],
      "text/plain": [
       "        lum  dEmin  dEmax  Emean     Nsig  dNsig\n",
       "name                                            \n",
       "550.0  7163    0.0    0.0  550.0  1815.55  45.10\n",
       "562.5  6306    0.0    0.0  562.5  1557.16  41.22\n",
       "575.0  5516    0.0    0.0  575.0  1360.09  40.02\n",
       "587.5  5116    0.0    0.0  587.5  1250.34  36.69\n",
       "600.0  4606    0.0    0.0  600.0  1085.48  34.69"
      ]
     },
     "execution_count": 90,
     "metadata": {},
     "output_type": "execute_result"
    }
   ],
   "source": [
    "reg_eff.head()"
   ]
  },
  {
   "cell_type": "markdown",
   "metadata": {},
   "source": [
    "Get N/L"
   ]
  },
  {
   "cell_type": "code",
   "execution_count": 91,
   "metadata": {},
   "outputs": [],
   "source": [
    "data['CSvis'] = data['Nsig']/data['lum']\n",
    "data['dCSvis'] = data['dNsig']/data['lum']"
   ]
  },
  {
   "cell_type": "code",
   "execution_count": 92,
   "metadata": {},
   "outputs": [
    {
     "data": {
      "text/plain": [
       "(23, 8)"
      ]
     },
     "execution_count": 92,
     "metadata": {},
     "output_type": "execute_result"
    }
   ],
   "source": [
    "data.shape"
   ]
  },
  {
   "cell_type": "markdown",
   "metadata": {},
   "source": [
    "Trigger join"
   ]
  },
  {
   "cell_type": "code",
   "execution_count": 93,
   "metadata": {},
   "outputs": [],
   "source": [
    "data = data.join(triggers[['TrigEff', 'TrigErr']], how='left')"
   ]
  },
  {
   "cell_type": "code",
   "execution_count": 94,
   "metadata": {},
   "outputs": [
    {
     "data": {
      "text/plain": [
       "(23, 10)"
      ]
     },
     "execution_count": 94,
     "metadata": {},
     "output_type": "execute_result"
    }
   ],
   "source": [
    "data.shape #сверить с предыдущим shape"
   ]
  },
  {
   "cell_type": "code",
   "execution_count": 95,
   "metadata": {},
   "outputs": [],
   "source": [
    "data = data.drop(['Nsig', 'dNsig', 'lum'], axis=1)"
   ]
  },
  {
   "cell_type": "markdown",
   "metadata": {},
   "source": [
    "Get Reg_eff"
   ]
  },
  {
   "cell_type": "code",
   "execution_count": 96,
   "metadata": {},
   "outputs": [],
   "source": [
    "reg_eff['RegEff'] = reg_eff['Nsig']/reg_eff['lum']\n",
    "reg_eff['RegErr'] = reg_eff['dNsig']/reg_eff['lum']\n",
    "reg_eff.drop(['dEmax', 'dEmin', 'lum', 'Nsig', 'dNsig'], axis=1, inplace=True)"
   ]
  },
  {
   "cell_type": "code",
   "execution_count": 122,
   "metadata": {},
   "outputs": [
    {
     "data": {
      "text/plain": [
       "<ErrorbarContainer object of 3 artists>"
      ]
     },
     "execution_count": 122,
     "metadata": {},
     "output_type": "execute_result"
    },
    {
     "data": {
      "image/png": "[encoded data removed]",
      "text/plain": [
       "<Figure size 1152x720 with 1 Axes>"
      ]
     },
     "metadata": {},
     "output_type": "display_data"
    }
   ],
   "source": [
    "plt.errorbar(data=reg_eff, x='Emean', y='RegEff', yerr='RegErr')"
   ]
  },
  {
   "cell_type": "markdown",
   "metadata": {},
   "source": [
    "Reg eff join"
   ]
  },
  {
   "cell_type": "code",
   "execution_count": 130,
   "metadata": {},
   "outputs": [],
   "source": [
    "data['RegEff'] = data.apply(lambda x: np.interp(x['Emean'], reg_eff.Emean, reg_eff.RegEff), axis=1)\n",
    "data['RegErr'] = data.apply(lambda x: np.interp(x['Emean'], reg_eff.Emean, reg_eff.RegErr), axis=1)"
   ]
  },
  {
   "cell_type": "markdown",
   "metadata": {},
   "source": [
    "Recalc cross section"
   ]
  },
  {
   "cell_type": "code",
   "execution_count": 131,
   "metadata": {},
   "outputs": [],
   "source": [
    "data['CS'] = data['CSvis']/data['TrigEff']/data['RegEff'];\n",
    "data['dCS'] = data['CS']*np.sqrt( np.square( data['dCSvis']/data['CSvis'] ) + \n",
    "                                np.square( data['TrigErr']/data['TrigEff'] ) + \n",
    "                                np.square( data['RegErr']/data['RegEff'] ))"
   ]
  },
  {
   "cell_type": "code",
   "execution_count": 99,
   "metadata": {},
   "outputs": [],
   "source": [
    "#data.drop(['CSvis', 'dCSvis', 'TrigEff', 'TrigErr', 'RegEff', 'RegErr'], axis=1, inplace=True)"
   ]
  },
  {
   "cell_type": "code",
   "execution_count": 100,
   "metadata": {},
   "outputs": [],
   "source": [
    "data.to_csv(f'../outputs/{year}/tables/result_visible.csv', float_format='%.5f')"
   ]
  },
  {
   "cell_type": "markdown",
   "metadata": {},
   "source": [
    "## Draw cross sections"
   ]
  },
  {
   "cell_type": "code",
   "execution_count": 101,
   "metadata": {},
   "outputs": [],
   "source": [
    "cs11 = pd.read_csv('../outputs/11/result_new.csv', index_col=['Unnamed: 0'])\n",
    "cs12 = pd.read_csv('../outputs/12/result_new.csv', index_col=['Unnamed: 0'])\n",
    "cs17 = pd.read_csv('../outputs/17/tables/result_visible.csv', index_col=['name'])\n",
    "cs19 = pd.read_csv('../outputs/19/tables/result_visible.csv', index_col=['name'])"
   ]
  },
  {
   "cell_type": "code",
   "execution_count": 102,
   "metadata": {},
   "outputs": [],
   "source": [
    "#radcor = pd.read_csv('rad_cors.dat', delimiter='\\t', names=['energy', 'radcor'], index_col=['energy'])\n",
    "radcor = pd.read_csv('../outputs/radcors.dat', names=['energy', 'radcor'], index_col=['energy'])\n",
    "radcor.index *= 0.5e3\n",
    "radcor = radcor.sort_index()"
   ]
  },
  {
   "cell_type": "code",
   "execution_count": 103,
   "metadata": {},
   "outputs": [
    {
     "data": {
      "text/html": [
       "<div>\n",
       "<style scoped>\n",
       "    .dataframe tbody tr th:only-of-type {\n",
       "        vertical-align: middle;\n",
       "    }\n",
       "\n",
       "    .dataframe tbody tr th {\n",
       "        vertical-align: top;\n",
       "    }\n",
       "\n",
       "    .dataframe thead th {\n",
       "        text-align: right;\n",
       "    }\n",
       "</style>\n",
       "<table border=\"1\" class=\"dataframe\">\n",
       "  <thead>\n",
       "    <tr style=\"text-align: right;\">\n",
       "      <th></th>\n",
       "      <th>dEmin</th>\n",
       "      <th>dEmax</th>\n",
       "      <th>Emean</th>\n",
       "      <th>CS</th>\n",
       "      <th>dCS</th>\n",
       "    </tr>\n",
       "  </thead>\n",
       "  <tbody>\n",
       "    <tr>\n",
       "      <th>850.0</th>\n",
       "      <td>0.00</td>\n",
       "      <td>0.00</td>\n",
       "      <td>846.43</td>\n",
       "      <td>0.372212</td>\n",
       "      <td>0.087794</td>\n",
       "    </tr>\n",
       "    <tr>\n",
       "      <th>862.5</th>\n",
       "      <td>0.00</td>\n",
       "      <td>0.00</td>\n",
       "      <td>861.56</td>\n",
       "      <td>0.280130</td>\n",
       "      <td>0.092108</td>\n",
       "    </tr>\n",
       "    <tr>\n",
       "      <th>880.0</th>\n",
       "      <td>8.15</td>\n",
       "      <td>7.89</td>\n",
       "      <td>878.97</td>\n",
       "      <td>0.132405</td>\n",
       "      <td>0.042213</td>\n",
       "    </tr>\n",
       "    <tr>\n",
       "      <th>910.0</th>\n",
       "      <td>14.83</td>\n",
       "      <td>13.04</td>\n",
       "      <td>911.28</td>\n",
       "      <td>0.152008</td>\n",
       "      <td>0.044248</td>\n",
       "    </tr>\n",
       "    <tr>\n",
       "      <th>950.0</th>\n",
       "      <td>28.82</td>\n",
       "      <td>37.90</td>\n",
       "      <td>964.41</td>\n",
       "      <td>0.057911</td>\n",
       "      <td>0.024015</td>\n",
       "    </tr>\n",
       "  </tbody>\n",
       "</table>\n",
       "</div>"
      ],
      "text/plain": [
       "       dEmin  dEmax   Emean        CS       dCS\n",
       "850.0   0.00   0.00  846.43  0.372212  0.087794\n",
       "862.5   0.00   0.00  861.56  0.280130  0.092108\n",
       "880.0   8.15   7.89  878.97  0.132405  0.042213\n",
       "910.0  14.83  13.04  911.28  0.152008  0.044248\n",
       "950.0  28.82  37.90  964.41  0.057911  0.024015"
      ]
     },
     "execution_count": 103,
     "metadata": {},
     "output_type": "execute_result"
    }
   ],
   "source": [
    "cs11.tail()"
   ]
  },
  {
   "cell_type": "code",
   "execution_count": 104,
   "metadata": {},
   "outputs": [
    {
     "data": {
      "text/html": [
       "<div>\n",
       "<style scoped>\n",
       "    .dataframe tbody tr th:only-of-type {\n",
       "        vertical-align: middle;\n",
       "    }\n",
       "\n",
       "    .dataframe tbody tr th {\n",
       "        vertical-align: top;\n",
       "    }\n",
       "\n",
       "    .dataframe thead th {\n",
       "        text-align: right;\n",
       "    }\n",
       "</style>\n",
       "<table border=\"1\" class=\"dataframe\">\n",
       "  <thead>\n",
       "    <tr style=\"text-align: right;\">\n",
       "      <th></th>\n",
       "      <th>radcor</th>\n",
       "    </tr>\n",
       "    <tr>\n",
       "      <th>energy</th>\n",
       "      <th></th>\n",
       "    </tr>\n",
       "  </thead>\n",
       "  <tbody>\n",
       "    <tr>\n",
       "      <th>550.0</th>\n",
       "      <td>0.771060</td>\n",
       "    </tr>\n",
       "    <tr>\n",
       "      <th>562.5</th>\n",
       "      <td>0.778335</td>\n",
       "    </tr>\n",
       "    <tr>\n",
       "      <th>575.0</th>\n",
       "      <td>0.784576</td>\n",
       "    </tr>\n",
       "    <tr>\n",
       "      <th>587.5</th>\n",
       "      <td>0.790510</td>\n",
       "    </tr>\n",
       "    <tr>\n",
       "      <th>600.0</th>\n",
       "      <td>0.796090</td>\n",
       "    </tr>\n",
       "  </tbody>\n",
       "</table>\n",
       "</div>"
      ],
      "text/plain": [
       "          radcor\n",
       "energy          \n",
       "550.0   0.771060\n",
       "562.5   0.778335\n",
       "575.0   0.784576\n",
       "587.5   0.790510\n",
       "600.0   0.796090"
      ]
     },
     "execution_count": 104,
     "metadata": {},
     "output_type": "execute_result"
    }
   ],
   "source": [
    "radcor.head()"
   ]
  },
  {
   "cell_type": "code",
   "execution_count": 116,
   "metadata": {},
   "outputs": [],
   "source": [
    "cs11['rad'] = np.interp(cs11.Emean, radcor.index, radcor.radcor)\n",
    "cs12['rad'] = np.interp(cs12.Emean, radcor.index, radcor.radcor)\n",
    "cs17['rad'] = np.interp(cs17.Emean, radcor.index, radcor.radcor)\n",
    "cs19['rad'] = np.interp(cs19.Emean, radcor.index, radcor.radcor)"
   ]
  },
  {
   "cell_type": "code",
   "execution_count": 117,
   "metadata": {},
   "outputs": [],
   "source": [
    "def born(data):\n",
    "    data['born'] = data.CS/data.rad\n",
    "    data['born_err'] = data.dCS/data.rad"
   ]
  },
  {
   "cell_type": "code",
   "execution_count": 118,
   "metadata": {},
   "outputs": [],
   "source": [
    "born(cs11)\n",
    "born(cs12)\n",
    "born(cs17)\n",
    "born(cs19)"
   ]
  },
  {
   "cell_type": "code",
   "execution_count": 119,
   "metadata": {},
   "outputs": [],
   "source": [
    "errE = dict()\n",
    "errE[11] = [cs11.dEmin*2e-3, cs11.dEmax*2e-3]\n",
    "errE[12] = [cs12.dEmin*2e-3, cs12.dEmax*2e-3]\n",
    "errE[17] = [cs17.dEmin*2e-3, cs17.dEmax*2e-3]\n",
    "errE[19] = [cs19.dEmin*2e-3, cs19.dEmax*2e-3]"
   ]
  },
  {
   "cell_type": "code",
   "execution_count": 132,
   "metadata": {},
   "outputs": [
    {
     "data": {
      "text/plain": [
       "<matplotlib.legend.Legend at 0x7f12882c9b50>"
      ]
     },
     "execution_count": 132,
     "metadata": {},
     "output_type": "execute_result"
    },
    {
     "data": {
      "image/png": "[encoded data removed]",
      "text/plain": [
       "<Figure size 1152x720 with 1 Axes>"
      ]
     },
     "metadata": {},
     "output_type": "display_data"
    }
   ],
   "source": [
    "plt.errorbar(cs19.Emean*2e-3, cs19.born, yerr=cs19.born_err, xerr=errE[19], fmt='kd', elinewidth=3, ms=0, label='2019')\n",
    "plt.errorbar(cs17.Emean*2e-3, cs17.born, yerr=cs17.born_err, xerr=errE[17], fmt='g^', elinewidth=3, ms=0, label='2017')\n",
    "# plt.errorbar(cs12.Emean*2e-3, cs12.born, yerr=cs12.born_err, xerr=errE[12], fmt='bp', elinewidth=3, ms=5, label='2012')\n",
    "# plt.errorbar(cs11.Emean*2e-3, cs11.born, yerr=cs11.born_err, xerr=errE[11], fmt='rv', elinewidth=3, ms=5, label='2011')\n",
    "plt.yscale('log')\n",
    "plt.xlabel('$\\sqrt{s}$, GeV', fontsize=20)\n",
    "plt.ylabel('$\\sigma$, nb', fontsize=20)\n",
    "ax = plt.gca()\n",
    "ax.tick_params(labelsize=18)\n",
    "ax.legend(fontsize=20, frameon=True)\n",
    "#plt.savefig('cs.pdf')"
   ]
  },
  {
   "cell_type": "code",
   "execution_count": null,
   "metadata": {},
   "outputs": [],
   "source": []
  }
 ],
 "metadata": {
  "kernelspec": {
   "display_name": "Python 3",
   "language": "python",
   "name": "python3"
  },
  "language_info": {
   "codemirror_mode": {
    "name": "ipython",
    "version": 3
   },
   "file_extension": ".py",
   "mimetype": "text/x-python",
   "name": "python",
   "nbconvert_exporter": "python",
   "pygments_lexer": "ipython3",
   "version": "3.7.5"
  }
 },
 "nbformat": 4,
 "nbformat_minor": 2
}
